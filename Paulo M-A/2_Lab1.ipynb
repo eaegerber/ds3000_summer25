{
 "cells": [
  {
   "cell_type": "markdown",
   "metadata": {},
   "source": [
    "# DS 3000/CS 3200 Lab 1\n",
    "\n",
    "Due: Tuesday May 13 in-class\n",
    "\n",
    "### Submission Instructions\n",
    "Upload this `ipynb` file to GitHub, and then to Gradescope.  To ensure that your submitted `ipynb` file represents your latest code, make sure to give a fresh `Kernel > Restart & Run All` just before uploading the `ipynb` file to GitHub and verify that the correct version is represented on Gradescope.\n",
    "\n",
    "### Tips for success\n",
    "- Collaborate: bounce ideas off of each other, if you are having trouble you can ask your classmates or Dr. Gerber for help with specific issues, however...\n",
    "- [(See)](http://www.northeastern.edu/osccr/academic-integrity), i.e. you are welcome to **talk about/discuss** (*not* show or allow each other to copy your answers to) the problems."
   ]
  },
  {
   "cell_type": "markdown",
   "metadata": {},
   "source": [
    "# Part 1 (40 points): Intro to Markdown\n",
    "\n",
    "Use the markdown language below to create your own brief wikipedia-esque description of a topic related to International Government and Politics. \n",
    "\n",
    "Your mini-wiki page must include:\n",
    "- three headers: a title, subtitle and subsubtitle (the #, ##, ### syntax)\n",
    "- an embedded image from a web address (use an [image hosting site](https://makeawebsitehub.com/free-photo-hosting/) if you'd like to upload your own)\n",
    "- a **markdown** table of size at least 9 cells (i.e. 3 by 3, or 5 by 2)\n",
    "- a list in **markdown**\n",
    "- a link to another website\n",
    "\n",
    "To practice typing in math mode, also include a LaTeX formula describing how your final grade is going to be calculated based on the syllabus, something like:\n",
    "\n",
    "$$grade = weight_1*score_1 + weight_2*score_2$$\n",
    "\n",
    "Please be **brief** in your text.  Aim for roughly 3 sentences total of text."
   ]
  },
  {
   "cell_type": "markdown",
   "metadata": {},
   "source": [
    "# The Pope Election\n",
    "## Pope Leo the XIV just named!: **he is from chicago**\n",
    "### Specifically O Block and is vons disciple.\n",
    "![alt text](https://th.bing.com/th/id/OIF.pjc8BNPj2l5j6grHYQLEdQ?w=277&h=180&c=7&r=0&o=7&cb=iwp2&dpr=1.3&pid=1.7&rm=3)\n",
    "| 1 | 2  | 3 | 4  | 5 |\n",
    "|---|----|---|----|---|\n",
    "| 1 | 1  | 1 | 11 | 1 |\n",
    "| 1 | 1  | 1 | 1  | 1 |\n",
    "| 1 | 11 | 1 | 1  | 1 |\n",
    "1. First ordered list item\n",
    "2. Another item\n",
    "3. hi\n",
    "\n",
    "\n",
    "[I'm an inline-style link](https://www.google.com)\n",
    "\n",
    "$$grade= .4*homework + .2*labgrade + .2*quizone + .2*quiztwo$$"
   ]
  },
  {
   "cell_type": "markdown",
   "metadata": {},
   "source": [
    "# Part 2: Numpy\n",
    "## Part 2.1: Creating Arrays (10 points)\n",
    "\n",
    "Create the following two arrays using the NumPy library and then print them out. Call the first array `array_a` and the second array `array_b` (make sure you keep the `import` statement below):\n",
    "\n",
    "$$\\mathbf{array_a} = \\begin{bmatrix}3 & 8 & -2 & 3\\\\\n",
    ".5 & -1 & 6 & 4\\\\\n",
    "-5 & 7 & -42 & 2\n",
    "\\end{bmatrix}$$\n",
    "\n",
    "$$\\mathbf{array_b} = \\begin{bmatrix}42 & 38 & 34\\\\\n",
    "30 & 26 & 22\\\\\n",
    "18 & 14 & 10\\\\\n",
    "6 & 2 & -2\\\\\n",
    "-6 & -10 & -14\n",
    "\\end{bmatrix}$$"
   ]
  },
  {
   "cell_type": "code",
   "execution_count": 1,
   "metadata": {},
   "outputs": [],
   "source": [
    "# make sure to import numpy library\n",
    "import numpy as np"
   ]
  },
  {
   "cell_type": "code",
   "execution_count": 2,
   "metadata": {},
   "outputs": [],
   "source": [
    "    array_a = np.array([\n",
    "        [3, 8, -2, 3],\n",
    "        [.5, -1, 6, 4],\n",
    "        [-5, 7, -42, 2]\n",
    "    ])\n",
    "    \n",
    "    \n",
    "    array_b = np.array([\n",
    "        [42, 38, 34],\n",
    "        [30, 26, 22],\n",
    "        [18, 14, 10],\n",
    "        [6, 2, -2],\n",
    "        [-6, -10, -14]\n",
    "    ])\n",
    "    \n"
   ]
  },
  {
   "cell_type": "code",
   "execution_count": 3,
   "metadata": {},
   "outputs": [
    {
     "name": "stdout",
     "output_type": "stream",
     "text": [
      "[[  3.    8.   -2.    3. ]\n",
      " [  0.5  -1.    6.    4. ]\n",
      " [ -5.    7.  -42.    2. ]]\n"
     ]
    }
   ],
   "source": [
    "# uncomment below to print array_a\n",
    "print(array_a)"
   ]
  },
  {
   "cell_type": "code",
   "execution_count": 4,
   "metadata": {},
   "outputs": [
    {
     "data": {
      "text/plain": [
       "array([[ 42,  38,  34],\n",
       "       [ 30,  26,  22],\n",
       "       [ 18,  14,  10],\n",
       "       [  6,   2,  -2],\n",
       "       [ -6, -10, -14]])"
      ]
     },
     "execution_count": 4,
     "metadata": {},
     "output_type": "execute_result"
    }
   ],
   "source": [
    "# uncomment below to print array_b\n",
    "array_b"
   ]
  },
  {
   "cell_type": "markdown",
   "metadata": {},
   "source": [
    "## Part 2.2: Exploring Arrays (15 points)\n",
    "\n",
    "1. Give the shape, size, ndim, and nbytes for each of the two arrays.\n",
    "1. Take the transpose of both arrays. Call these `t_array_a` and `t_array_b`.\n",
    "1. Try to add `array_a` and `t_array_b` (*prove* and *show* you did this with commented out code), then remove the last column of `t_array_b` and try to add them again. In a markdown cell, explain what happened."
   ]
  },
  {
   "cell_type": "code",
   "execution_count": 5,
   "metadata": {},
   "outputs": [
    {
     "name": "stdout",
     "output_type": "stream",
     "text": [
      "Shape = (3, 4)\n",
      "Size = 12\n",
      "Dimensions = 2\n",
      "Bytes = 96\n",
      "Shape = (5, 3)\n",
      "Size = 15\n",
      "Dimensions = 2\n",
      "Bytes = 60\n",
      "[[  3.    0.5  -5. ]\n",
      " [  8.   -1.    7. ]\n",
      " [ -2.    6.  -42. ]\n",
      " [  3.    4.    2. ]]\n",
      "{(4, 3)}\n",
      "[[ 42  30  18   6  -6]\n",
      " [ 38  26  14   2 -10]\n",
      " [ 34  22  10  -2 -14]]\n",
      "(3, 5)\n",
      "[[ 45.   38.   16.    9. ]\n",
      " [ 38.5  25.   20.    6. ]\n",
      " [ 29.   29.  -32.    0. ]]\n"
     ]
    }
   ],
   "source": [
    "print(f\"Shape = {array_a.shape}\")\n",
    "print(f\"Size = {array_a.size}\")\n",
    "print(f\"Dimensions = {array_a.ndim}\")\n",
    "print(f\"Bytes = {array_a.nbytes}\")\n",
    "\n",
    "\n",
    "print(f\"Shape = {array_b.shape}\")\n",
    "print(f\"Size = {array_b.size}\")\n",
    "print(f\"Dimensions = {array_b.ndim}\")\n",
    "print(f\"Bytes = {array_b.nbytes}\")\n",
    "\n",
    "# transpose the arrays\n",
    "t_array_a = array_a.T\n",
    "t_array_b = array_b.T\n",
    "\n",
    "\n",
    "print(t_array_a)\n",
    "print({t_array_a.shape})\n",
    "\n",
    "\n",
    "print(t_array_b)\n",
    "print(t_array_b.shape)\n",
    "\n",
    "\n",
    "\n",
    "\n",
    "\n",
    "#mat = array_a + t_array_b\n",
    "  \n",
    "#print(result)\n",
    "\n",
    "\n",
    "# Remove the last column of b\n",
    "t_array_b_mod = t_array_b[:, :-1]\n",
    "\n",
    "\n",
    "\n",
    "\n",
    "\n",
    "mat = array_a + t_array_b_mod\n",
    "   \n",
    "print(mat)\n"
   ]
  },
  {
   "cell_type": "markdown",
   "metadata": {},
   "source": [
    "# the elements of the arrays, the dimension were not the same. I made the dimensions the same by removing the last column of b"
   ]
  },
  {
   "cell_type": "markdown",
   "metadata": {},
   "source": [
    "# Part 3: Pandas\n",
    "## Part 3.1: Reading in Data (5 points)\n",
    "\n",
    "On Canvas is the `train_stations_europe.csv` file. It was adapted from [this Kaggle data set](https://www.kaggle.com/datasets/headsortails/train-stations-in-europe). Read this data set in, using the `id` as the index column, and print the first few rows of the data. Make sure you keep the `import` statement below!"
   ]
  },
  {
   "cell_type": "code",
   "execution_count": 6,
   "metadata": {},
   "outputs": [],
   "source": [
    "# make sure to import pandas library\n",
    "import pandas as pd"
   ]
  },
  {
   "cell_type": "code",
   "execution_count": 7,
   "metadata": {},
   "outputs": [
    {
     "name": "stdout",
     "output_type": "stream",
     "text": [
      "                       name   latitude  longitude  parent_station_id country  \\\n",
      "id                                                                             \n",
      "1   Chateau-Arnoux-St-Auban  44.081790   6.001625                NaN      FR   \n",
      "2   Chateau-Arnoux-St-Auban  44.061565   5.997373                1.0      FR   \n",
      "3     Chateau-Arnoux Mairie  44.063863   6.011248                1.0      FR   \n",
      "4           Digne-les-Bains  44.350000   6.350000                NaN      FR   \n",
      "6           Digne-les-Bains  44.088710   6.222982                4.0      FR   \n",
      "\n",
      "       time_zone  is_city  is_main_station  is_airport  \n",
      "id                                                      \n",
      "1   Europe/Paris     True            False       False  \n",
      "2   Europe/Paris    False             True       False  \n",
      "3   Europe/Paris    False            False       False  \n",
      "4   Europe/Paris     True            False       False  \n",
      "6   Europe/Paris    False             True       False  \n"
     ]
    }
   ],
   "source": [
    "df = pd.read_csv('train_stations_europe.csv', index_col='id')\n",
    "\n",
    "\n",
    "print(df.head())"
   ]
  },
  {
   "cell_type": "markdown",
   "metadata": {},
   "source": [
    "## Part 3.2: Manipulating Data (20 points)\n",
    "\n",
    "1. Create a subset of the data set which (a) **includes** only train stations in Belgium and (b) **excludes** all train stations which are **not** in a city. Make sure to save this subset as a new data frame and print the first few rows of the data.\n",
    "1. Use the `.describe()` function to produce summary statistics for the subset from the previous part. Create a markdown cell and explain:\n",
    "    - What Series did the `.describe()` function run on? What Series did it not run on? What is the difference, and what does this mean the `.describe()` function is used for?"
   ]
  },
  {
   "cell_type": "code",
   "execution_count": 8,
   "metadata": {},
   "outputs": [
    {
     "name": "stdout",
     "output_type": "stream",
     "text": [
      "Empty DataFrame\n",
      "Columns: [name, latitude, longitude, parent_station_id, country, time_zone, is_city, is_main_station, is_airport]\n",
      "Index: []\n",
      "       latitude  longitude  parent_station_id\n",
      "count       0.0        0.0                0.0\n",
      "mean        NaN        NaN                NaN\n",
      "std         NaN        NaN                NaN\n",
      "min         NaN        NaN                NaN\n",
      "25%         NaN        NaN                NaN\n",
      "50%         NaN        NaN                NaN\n",
      "75%         NaN        NaN                NaN\n",
      "max         NaN        NaN                NaN\n"
     ]
    }
   ],
   "source": [
    "\n",
    "bstations = df[df['country'] == 'Belgium']\n",
    "city_bstations = bstations[bstations['is_city'] == True]\n",
    "bsubset = city_bstations.copy()\n",
    "print(bsubset.head())\n",
    "stats = bsubset.describe()\n",
    "\n",
    "print(stats)"
   ]
  },
  {
   "cell_type": "markdown",
   "metadata": {},
   "source": [
    "# Part 4: GitHub (10 points)\n",
    "\n",
    "When you finish the first three parts, give one last restart and run all to this file. Then, go to the [DS 3000 GitHub](https://github.com/eaegerber/ds3000_summer25), fork it and then clone it to your local machine. Then:\n",
    "\n",
    "- In the forked and cloned ds3000_summer25 repo, make a new branch (`git checkout -b lab-upload`)\n",
    "- Create a folder with your name (as Dr. Gerber did)\n",
    "- Navigate to that folder and place this jupyter notebook inside\n",
    "- Add the file as the change to be committed (`git add .\\Lab1_MyName.ipynb`)\n",
    "- Check `git status`, your changes should be staged\n",
    "- Commit the changes with a short message (`git commit -m \"My message\"`)\n",
    "- Push the repository to GitHub (`git push origin lab-upload`)\n",
    "- Navigate the the GitHub in the browser and create a pull request\n",
    "- Once the pull request is merged, you can delete your branch in the \"Pull Requests\" tab in the browser\n",
    "- Finally, upload the Lab to Gradescope. When you do so, it will give you the option to do it via GitHub; do that."
   ]
  }
 ],
 "metadata": {
  "kernelspec": {
   "display_name": "Python [conda env:base] *",
   "language": "python",
   "name": "conda-base-py"
  },
  "language_info": {
   "codemirror_mode": {
    "name": "ipython",
    "version": 3
   },
   "file_extension": ".py",
   "mimetype": "text/x-python",
   "name": "python",
   "nbconvert_exporter": "python",
   "pygments_lexer": "ipython3",
   "version": "3.12.7"
  }
 },
 "nbformat": 4,
 "nbformat_minor": 4
}
