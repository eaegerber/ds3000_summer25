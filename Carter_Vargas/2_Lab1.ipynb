{
 "cells": [
  {
   "cell_type": "markdown",
   "metadata": {},
   "source": [
    "# DS 3000/CS 3200 Lab 1\n",
    "\n",
    "Due: Tuesday May 13 in-class\n",
    "\n",
    "### Submission Instructions\n",
    "Upload this `ipynb` file to GitHub, and then to Gradescope.  To ensure that your submitted `ipynb` file represents your latest code, make sure to give a fresh `Kernel > Restart & Run All` just before uploading the `ipynb` file to GitHub and verify that the correct version is represented on Gradescope.\n",
    "\n",
    "### Tips for success\n",
    "- Collaborate: bounce ideas off of each other, if you are having trouble you can ask your classmates or Dr. Gerber for help with specific issues, however...\n",
    "- [(See)](http://www.northeastern.edu/osccr/academic-integrity), i.e. you are welcome to **talk about/discuss** (*not* show or allow each other to copy your answers to) the problems."
   ]
  },
  {
   "cell_type": "markdown",
   "metadata": {},
   "source": [
    "# Part 1 (40 points): Intro to Markdown\n",
    "\n",
    "Use the markdown language below to create your own brief wikipedia-esque description of a topic related to International Government and Politics. \n",
    "\n",
    "Your mini-wiki page must include:\n",
    "- three headers: a title, subtitle and subsubtitle (the #, ##, ### syntax)\n",
    "- an embedded image from a web address (use an [image hosting site](https://makeawebsitehub.com/free-photo-hosting/) if you'd like to upload your own)\n",
    "- a **markdown** table of size at least 9 cells (i.e. 3 by 3, or 5 by 2)\n",
    "- a list in **markdown**\n",
    "- a link to another website\n",
    "\n",
    "To practice typing in math mode, also include a LaTeX formula describing how your final grade is going to be calculated based on the syllabus, something like:\n",
    "\n",
    "$$grade = weight_1*score_1 + weight_2*score_2$$\n",
    "\n",
    "Please be **brief** in your text.  Aim for roughly 3 sentences total of text."
   ]
  },
  {
   "cell_type": "markdown",
   "metadata": {},
   "source": [
    "# Leuven, Belgium\n",
    "\n",
    "<img src=\"data:image/jpeg;base64,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\" width=300 />\n",
    "\n",
    "## Government\n",
    "\n",
    "Leuven's government is led by mayor Mohamed Ridouani. Sicne October 13th, 2024, the the Vooruit Party has been in control of the city holding 23 out of the 47 seats in the government coalition.\n",
    "\n",
    "### The Governing Coalition\n",
    "\n",
    "The Governing Coalation contains 47 seats each held by members of different parties.\n",
    "\n",
    "| Party | Number of Seats |\n",
    "| --- | --- |\n",
    "| Vooruit | 23 |\n",
    "| Groen | 5 |\n",
    "| CD&V | 7 |\n",
    "| NV&A | 10 |\n",
    "| PVDA | 1 |\n",
    "| Vlaams Belang | 1 |\n",
    "\n",
    "For more information visit: https://en.wikipedia.org/wiki/Leuven#Politics\n",
    "\n",
    "$$grade = weight_1*labsAndHw + weight_2*classActivities$$\n",
    "\n"
   ]
  },
  {
   "cell_type": "markdown",
   "metadata": {},
   "source": [
    "# Part 2: Numpy\n",
    "## Part 2.1: Creating Arrays (10 points)\n",
    "\n",
    "Create the following two arrays using the NumPy library and then print them out. Call the first array `array_a` and the second array `array_b` (make sure you keep the `import` statement below):\n",
    "\n",
    "$$\\mathbf{array_a} = \\begin{bmatrix}3 & 8 & -2 & 3\\\\\n",
    ".5 & -1 & 6 & 4\\\\\n",
    "-5 & 7 & -42 & 2\n",
    "\\end{bmatrix}$$\n",
    "\n",
    "$$\\mathbf{array_b} = \\begin{bmatrix}42 & 38 & 34\\\\\n",
    "30 & 26 & 22\\\\\n",
    "18 & 14 & 10\\\\\n",
    "6 & 2 & -2\\\\\n",
    "-6 & -10 & -14\n",
    "\\end{bmatrix}$$"
   ]
  },
  {
   "cell_type": "code",
   "execution_count": 14,
   "metadata": {},
   "outputs": [],
   "source": [
    "# make sure to import numpy library\n",
    "import numpy as np"
   ]
  },
  {
   "cell_type": "code",
   "execution_count": 15,
   "metadata": {},
   "outputs": [],
   "source": [
    "array_a = np.array([[3, 8, -2, 3], [.5, -1, 6, 4], [-5, 7, -42, 2]])\n",
    "array_b = np.array([[42, 38, 34], [30, 26, 22], [18, 14, 10], [6, 2, -2], [-6, -10, -14]])"
   ]
  },
  {
   "cell_type": "code",
   "execution_count": 16,
   "metadata": {},
   "outputs": [
    {
     "data": {
      "text/plain": [
       "array([[  3. ,   8. ,  -2. ,   3. ],\n",
       "       [  0.5,  -1. ,   6. ,   4. ],\n",
       "       [ -5. ,   7. , -42. ,   2. ]])"
      ]
     },
     "execution_count": 16,
     "metadata": {},
     "output_type": "execute_result"
    }
   ],
   "source": [
    "# uncomment below to print array_a\n",
    "array_a"
   ]
  },
  {
   "cell_type": "code",
   "execution_count": 17,
   "metadata": {},
   "outputs": [
    {
     "data": {
      "text/plain": [
       "array([[ 42,  38,  34],\n",
       "       [ 30,  26,  22],\n",
       "       [ 18,  14,  10],\n",
       "       [  6,   2,  -2],\n",
       "       [ -6, -10, -14]])"
      ]
     },
     "execution_count": 17,
     "metadata": {},
     "output_type": "execute_result"
    }
   ],
   "source": [
    "# uncomment below to print array_b\n",
    "array_b"
   ]
  },
  {
   "cell_type": "markdown",
   "metadata": {},
   "source": [
    "## Part 2.2: Exploring Arrays (15 points)\n",
    "\n",
    "1. Give the shape, size, ndim, and nbytes for each of the two arrays.\n",
    "1. Take the transpose of both arrays. Call these `t_array_a` and `t_array_b`.\n",
    "1. Try to add `array_a` and `t_array_b` (*prove* and *show* you did this with commented out code), then remove the last column of `t_array_b` and try to add them again. In a markdown cell, explain what happened."
   ]
  },
  {
   "cell_type": "code",
   "execution_count": 18,
   "metadata": {},
   "outputs": [
    {
     "data": {
      "text/plain": [
       "((3, 4), 12, 2, 96)"
      ]
     },
     "execution_count": 18,
     "metadata": {},
     "output_type": "execute_result"
    }
   ],
   "source": [
    "array_a.shape, array_a.size, array_a.ndim, array_a.nbytes"
   ]
  },
  {
   "cell_type": "code",
   "execution_count": 19,
   "metadata": {},
   "outputs": [
    {
     "data": {
      "text/plain": [
       "((5, 3), 15, 2, 120)"
      ]
     },
     "execution_count": 19,
     "metadata": {},
     "output_type": "execute_result"
    }
   ],
   "source": [
    "array_b.shape, array_b.size, array_b.ndim, array_b.nbytes"
   ]
  },
  {
   "cell_type": "code",
   "execution_count": 20,
   "metadata": {},
   "outputs": [
    {
     "data": {
      "text/plain": [
       "array([[  3. ,   0.5,  -5. ],\n",
       "       [  8. ,  -1. ,   7. ],\n",
       "       [ -2. ,   6. , -42. ],\n",
       "       [  3. ,   4. ,   2. ]])"
      ]
     },
     "execution_count": 20,
     "metadata": {},
     "output_type": "execute_result"
    }
   ],
   "source": [
    "t_array_a = array_a.T\n",
    "t_array_a"
   ]
  },
  {
   "cell_type": "code",
   "execution_count": 21,
   "metadata": {},
   "outputs": [],
   "source": [
    "t_array_b = array_b.T"
   ]
  },
  {
   "cell_type": "code",
   "execution_count": 22,
   "metadata": {},
   "outputs": [
    {
     "data": {
      "text/plain": [
       "array([[ 45. ,  38. ,  16. ,   9. ],\n",
       "       [ 38.5,  25. ,  20. ,   6. ],\n",
       "       [ 29. ,  29. , -32. ,   0. ]])"
      ]
     },
     "execution_count": 22,
     "metadata": {},
     "output_type": "execute_result"
    }
   ],
   "source": [
    "# this does not work because the arrays are not the same size\n",
    "# added = array_a + t_array_b\n",
    "t_array_b = t_array_b[:,:-1]\n",
    "added = array_a + t_array_b\n",
    "added"
   ]
  },
  {
   "cell_type": "markdown",
   "metadata": {},
   "source": [
    "# Part 3: Pandas\n",
    "## Part 3.1: Reading in Data (5 points)\n",
    "\n",
    "On Canvas is the `train_stations_europe.csv` file. It was adapted from [this Kaggle data set](https://www.kaggle.com/datasets/headsortails/train-stations-in-europe). Read this data set in, using the `id` as the index column, and print the first few rows of the data. Make sure you keep the `import` statement below!"
   ]
  },
  {
   "cell_type": "code",
   "execution_count": 23,
   "metadata": {},
   "outputs": [],
   "source": [
    "# make sure to import pandas library\n",
    "import pandas as pd"
   ]
  },
  {
   "cell_type": "code",
   "execution_count": 24,
   "metadata": {},
   "outputs": [
    {
     "data": {
      "text/html": [
       "<div>\n",
       "<style scoped>\n",
       "    .dataframe tbody tr th:only-of-type {\n",
       "        vertical-align: middle;\n",
       "    }\n",
       "\n",
       "    .dataframe tbody tr th {\n",
       "        vertical-align: top;\n",
       "    }\n",
       "\n",
       "    .dataframe thead th {\n",
       "        text-align: right;\n",
       "    }\n",
       "</style>\n",
       "<table border=\"1\" class=\"dataframe\">\n",
       "  <thead>\n",
       "    <tr style=\"text-align: right;\">\n",
       "      <th></th>\n",
       "      <th>name</th>\n",
       "      <th>latitude</th>\n",
       "      <th>longitude</th>\n",
       "      <th>parent_station_id</th>\n",
       "      <th>country</th>\n",
       "      <th>time_zone</th>\n",
       "      <th>is_city</th>\n",
       "      <th>is_main_station</th>\n",
       "      <th>is_airport</th>\n",
       "    </tr>\n",
       "    <tr>\n",
       "      <th>id</th>\n",
       "      <th></th>\n",
       "      <th></th>\n",
       "      <th></th>\n",
       "      <th></th>\n",
       "      <th></th>\n",
       "      <th></th>\n",
       "      <th></th>\n",
       "      <th></th>\n",
       "      <th></th>\n",
       "    </tr>\n",
       "  </thead>\n",
       "  <tbody>\n",
       "    <tr>\n",
       "      <th>1</th>\n",
       "      <td>Chateau-Arnoux-St-Auban</td>\n",
       "      <td>44.081790</td>\n",
       "      <td>6.001625</td>\n",
       "      <td>NaN</td>\n",
       "      <td>FR</td>\n",
       "      <td>Europe/Paris</td>\n",
       "      <td>True</td>\n",
       "      <td>False</td>\n",
       "      <td>False</td>\n",
       "    </tr>\n",
       "    <tr>\n",
       "      <th>2</th>\n",
       "      <td>Chateau-Arnoux-St-Auban</td>\n",
       "      <td>44.061565</td>\n",
       "      <td>5.997373</td>\n",
       "      <td>1.0</td>\n",
       "      <td>FR</td>\n",
       "      <td>Europe/Paris</td>\n",
       "      <td>False</td>\n",
       "      <td>True</td>\n",
       "      <td>False</td>\n",
       "    </tr>\n",
       "    <tr>\n",
       "      <th>3</th>\n",
       "      <td>Chateau-Arnoux Mairie</td>\n",
       "      <td>44.063863</td>\n",
       "      <td>6.011248</td>\n",
       "      <td>1.0</td>\n",
       "      <td>FR</td>\n",
       "      <td>Europe/Paris</td>\n",
       "      <td>False</td>\n",
       "      <td>False</td>\n",
       "      <td>False</td>\n",
       "    </tr>\n",
       "    <tr>\n",
       "      <th>4</th>\n",
       "      <td>Digne-les-Bains</td>\n",
       "      <td>44.350000</td>\n",
       "      <td>6.350000</td>\n",
       "      <td>NaN</td>\n",
       "      <td>FR</td>\n",
       "      <td>Europe/Paris</td>\n",
       "      <td>True</td>\n",
       "      <td>False</td>\n",
       "      <td>False</td>\n",
       "    </tr>\n",
       "    <tr>\n",
       "      <th>6</th>\n",
       "      <td>Digne-les-Bains</td>\n",
       "      <td>44.088710</td>\n",
       "      <td>6.222982</td>\n",
       "      <td>4.0</td>\n",
       "      <td>FR</td>\n",
       "      <td>Europe/Paris</td>\n",
       "      <td>False</td>\n",
       "      <td>True</td>\n",
       "      <td>False</td>\n",
       "    </tr>\n",
       "  </tbody>\n",
       "</table>\n",
       "</div>"
      ],
      "text/plain": [
       "                       name   latitude  longitude  parent_station_id country  \\\n",
       "id                                                                             \n",
       "1   Chateau-Arnoux-St-Auban  44.081790   6.001625                NaN      FR   \n",
       "2   Chateau-Arnoux-St-Auban  44.061565   5.997373                1.0      FR   \n",
       "3     Chateau-Arnoux Mairie  44.063863   6.011248                1.0      FR   \n",
       "4           Digne-les-Bains  44.350000   6.350000                NaN      FR   \n",
       "6           Digne-les-Bains  44.088710   6.222982                4.0      FR   \n",
       "\n",
       "       time_zone  is_city  is_main_station  is_airport  \n",
       "id                                                      \n",
       "1   Europe/Paris     True            False       False  \n",
       "2   Europe/Paris    False             True       False  \n",
       "3   Europe/Paris    False            False       False  \n",
       "4   Europe/Paris     True            False       False  \n",
       "6   Europe/Paris    False             True       False  "
      ]
     },
     "execution_count": 24,
     "metadata": {},
     "output_type": "execute_result"
    }
   ],
   "source": [
    "df = pd.read_csv('train_stations_europe.csv', index_col='id')\n",
    "df.head(5)\n"
   ]
  },
  {
   "cell_type": "markdown",
   "metadata": {},
   "source": [
    "## Part 3.2: Manipulating Data (20 points)\n",
    "\n",
    "1. Create a subset of the data set which (a) **includes** only train stations in Belgium and (b) **excludes** all train stations which are **not** in a city. Make sure to save this subset as a new data frame and print the first few rows of the data.\n",
    "1. Use the `.describe()` function to produce summary statistics for the subset from the previous part. Create a markdown cell and explain:\n",
    "    - What Series did the `.describe()` function run on? What Series did it not run on? What is the difference, and what does this mean the `.describe()` function is used for?"
   ]
  },
  {
   "cell_type": "code",
   "execution_count": 25,
   "metadata": {},
   "outputs": [
    {
     "data": {
      "text/html": [
       "<div>\n",
       "<style scoped>\n",
       "    .dataframe tbody tr th:only-of-type {\n",
       "        vertical-align: middle;\n",
       "    }\n",
       "\n",
       "    .dataframe tbody tr th {\n",
       "        vertical-align: top;\n",
       "    }\n",
       "\n",
       "    .dataframe thead th {\n",
       "        text-align: right;\n",
       "    }\n",
       "</style>\n",
       "<table border=\"1\" class=\"dataframe\">\n",
       "  <thead>\n",
       "    <tr style=\"text-align: right;\">\n",
       "      <th></th>\n",
       "      <th>name</th>\n",
       "      <th>latitude</th>\n",
       "      <th>longitude</th>\n",
       "      <th>parent_station_id</th>\n",
       "      <th>country</th>\n",
       "      <th>time_zone</th>\n",
       "      <th>is_city</th>\n",
       "      <th>is_main_station</th>\n",
       "      <th>is_airport</th>\n",
       "    </tr>\n",
       "    <tr>\n",
       "      <th>id</th>\n",
       "      <th></th>\n",
       "      <th></th>\n",
       "      <th></th>\n",
       "      <th></th>\n",
       "      <th></th>\n",
       "      <th></th>\n",
       "      <th></th>\n",
       "      <th></th>\n",
       "      <th></th>\n",
       "    </tr>\n",
       "  </thead>\n",
       "  <tbody>\n",
       "    <tr>\n",
       "      <th>1121</th>\n",
       "      <td>Tournai Frontiere</td>\n",
       "      <td>NaN</td>\n",
       "      <td>NaN</td>\n",
       "      <td>NaN</td>\n",
       "      <td>BE</td>\n",
       "      <td>Europe/Brussels</td>\n",
       "      <td>False</td>\n",
       "      <td>False</td>\n",
       "      <td>False</td>\n",
       "    </tr>\n",
       "    <tr>\n",
       "      <th>1122</th>\n",
       "      <td>Froyennes</td>\n",
       "      <td>NaN</td>\n",
       "      <td>NaN</td>\n",
       "      <td>NaN</td>\n",
       "      <td>BE</td>\n",
       "      <td>Europe/Brussels</td>\n",
       "      <td>False</td>\n",
       "      <td>False</td>\n",
       "      <td>False</td>\n",
       "    </tr>\n",
       "    <tr>\n",
       "      <th>1313</th>\n",
       "      <td>Mouscron</td>\n",
       "      <td>NaN</td>\n",
       "      <td>NaN</td>\n",
       "      <td>NaN</td>\n",
       "      <td>BE</td>\n",
       "      <td>Europe/Brussels</td>\n",
       "      <td>False</td>\n",
       "      <td>False</td>\n",
       "      <td>False</td>\n",
       "    </tr>\n",
       "  </tbody>\n",
       "</table>\n",
       "</div>"
      ],
      "text/plain": [
       "                   name  latitude  longitude  parent_station_id country  \\\n",
       "id                                                                        \n",
       "1121  Tournai Frontiere       NaN        NaN                NaN      BE   \n",
       "1122          Froyennes       NaN        NaN                NaN      BE   \n",
       "1313           Mouscron       NaN        NaN                NaN      BE   \n",
       "\n",
       "            time_zone  is_city  is_main_station  is_airport  \n",
       "id                                                           \n",
       "1121  Europe/Brussels    False            False       False  \n",
       "1122  Europe/Brussels    False            False       False  \n",
       "1313  Europe/Brussels    False            False       False  "
      ]
     },
     "execution_count": 25,
     "metadata": {},
     "output_type": "execute_result"
    }
   ],
   "source": [
    "filtered = df[(df['country'] == 'BE') & (df['is_city'] != True)]\n",
    "filtered.head(3)"
   ]
  },
  {
   "cell_type": "code",
   "execution_count": 28,
   "metadata": {},
   "outputs": [
    {
     "data": {
      "text/html": [
       "<div>\n",
       "<style scoped>\n",
       "    .dataframe tbody tr th:only-of-type {\n",
       "        vertical-align: middle;\n",
       "    }\n",
       "\n",
       "    .dataframe tbody tr th {\n",
       "        vertical-align: top;\n",
       "    }\n",
       "\n",
       "    .dataframe thead th {\n",
       "        text-align: right;\n",
       "    }\n",
       "</style>\n",
       "<table border=\"1\" class=\"dataframe\">\n",
       "  <thead>\n",
       "    <tr style=\"text-align: right;\">\n",
       "      <th></th>\n",
       "      <th>latitude</th>\n",
       "      <th>longitude</th>\n",
       "      <th>parent_station_id</th>\n",
       "    </tr>\n",
       "  </thead>\n",
       "  <tbody>\n",
       "    <tr>\n",
       "      <th>count</th>\n",
       "      <td>564.000000</td>\n",
       "      <td>564.000000</td>\n",
       "      <td>26.000000</td>\n",
       "    </tr>\n",
       "    <tr>\n",
       "      <th>mean</th>\n",
       "      <td>50.726795</td>\n",
       "      <td>4.479032</td>\n",
       "      <td>13945.846154</td>\n",
       "    </tr>\n",
       "    <tr>\n",
       "      <th>std</th>\n",
       "      <td>0.344543</td>\n",
       "      <td>0.703753</td>\n",
       "      <td>10417.120726</td>\n",
       "    </tr>\n",
       "    <tr>\n",
       "      <th>min</th>\n",
       "      <td>49.555984</td>\n",
       "      <td>2.601729</td>\n",
       "      <td>5964.000000</td>\n",
       "    </tr>\n",
       "    <tr>\n",
       "      <th>25%</th>\n",
       "      <td>50.497272</td>\n",
       "      <td>4.021254</td>\n",
       "      <td>5964.000000</td>\n",
       "    </tr>\n",
       "    <tr>\n",
       "      <th>50%</th>\n",
       "      <td>50.766161</td>\n",
       "      <td>4.410297</td>\n",
       "      <td>5974.000000</td>\n",
       "    </tr>\n",
       "    <tr>\n",
       "      <th>75%</th>\n",
       "      <td>50.978579</td>\n",
       "      <td>4.939891</td>\n",
       "      <td>25908.250000</td>\n",
       "    </tr>\n",
       "    <tr>\n",
       "      <th>max</th>\n",
       "      <td>51.462641</td>\n",
       "      <td>6.041335</td>\n",
       "      <td>29332.000000</td>\n",
       "    </tr>\n",
       "  </tbody>\n",
       "</table>\n",
       "</div>"
      ],
      "text/plain": [
       "         latitude   longitude  parent_station_id\n",
       "count  564.000000  564.000000          26.000000\n",
       "mean    50.726795    4.479032       13945.846154\n",
       "std      0.344543    0.703753       10417.120726\n",
       "min     49.555984    2.601729        5964.000000\n",
       "25%     50.497272    4.021254        5964.000000\n",
       "50%     50.766161    4.410297        5974.000000\n",
       "75%     50.978579    4.939891       25908.250000\n",
       "max     51.462641    6.041335       29332.000000"
      ]
     },
     "execution_count": 28,
     "metadata": {},
     "output_type": "execute_result"
    }
   ],
   "source": [
    "\"\"\" \n",
    "The describe function ran on all series that contained int or float data types. This means the describe \n",
    "function is used for gathering useful information for these specific numeric data types.\n",
    "\"\"\"\n",
    "filtered.describe()"
   ]
  },
  {
   "cell_type": "markdown",
   "metadata": {},
   "source": [
    "# Part 4: GitHub (10 points)\n",
    "\n",
    "When you finish the first three parts, give one last restart and run all to this file. Then, go to the [DS 3000 GitHub](https://github.com/eaegerber/ds3000_summer25), fork it and then clone it to your local machine. Then:\n",
    "\n",
    "- In the forked and cloned ds3000_summer25 repo, make a new branch (`git checkout -b lab-upload`)\n",
    "- Create a folder with your name (as Dr. Gerber did)\n",
    "- Navigate to that folder and place this jupyter notebook inside\n",
    "- Add the file as the change to be committed (`git add .\\Lab1_MyName.ipynb`)\n",
    "- Check `git status`, your changes should be staged\n",
    "- Commit the changes with a short message (`git commit -m \"My message\"`)\n",
    "- Push the repository to GitHub (`git push origin lab-upload`)\n",
    "- Navigate the the GitHub in the browser and create a pull request\n",
    "- Once the pull request is merged, you can delete your branch in the \"Pull Requests\" tab in the browser\n",
    "- Finally, upload the Lab to Gradescope. When you do so, it will give you the option to do it via GitHub; do that."
   ]
  },
  {
   "cell_type": "code",
   "execution_count": null,
   "metadata": {},
   "outputs": [],
   "source": []
  }
 ],
 "metadata": {
  "kernelspec": {
   "display_name": "Python [conda env:base] *",
   "language": "python",
   "name": "conda-base-py"
  },
  "language_info": {
   "codemirror_mode": {
    "name": "ipython",
    "version": 3
   },
   "file_extension": ".py",
   "mimetype": "text/x-python",
   "name": "python",
   "nbconvert_exporter": "python",
   "pygments_lexer": "ipython3",
   "version": "3.12.7"
  }
 },
 "nbformat": 4,
 "nbformat_minor": 4
}
