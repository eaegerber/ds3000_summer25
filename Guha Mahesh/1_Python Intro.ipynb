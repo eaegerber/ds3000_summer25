{
 "cells": [
  {
   "cell_type": "markdown",
   "id": "39e41d4a",
   "metadata": {
    "slideshow": {
     "slide_type": "slide"
    }
   },
   "source": [
    "# DS3000 Foundations of Data Science\n",
    "## Dialogue of Civilizations\n",
    "May 13, 2025\n",
    "\n",
    "Content:\n",
    "- Canvas/Admin/Syllabus Review\n",
    "- Python Basics\n",
    "- Modules needed today `pip install collections seaborn numpy pandas` (you may not *need* to do all these, but why not?)\n",
    "    - Some of this will be review from the **Pre-Course Notebook** (see Canvas) and we may go through it pretty quickly\n",
    "        - Assert\n",
    "        - numpy & arrays\n",
    "        - pandas\n",
    "            - series\n",
    "            - dataframe\n",
    "\n",
    "Planned Time: ~1 hour\n",
    "\n",
    "Next Thing: Python Lab (Lab 1)"
   ]
  },
  {
   "cell_type": "markdown",
   "id": "de40d44c",
   "metadata": {
    "slideshow": {
     "slide_type": "slide"
    }
   },
   "source": [
    "# Admin/Syllabus\n",
    "\n",
    "Take a look at the course Canvas page ([link](https://northeastern.instructure.com/courses/221176)), the tentative schedule and syllabus together.    "
   ]
  },
  {
   "cell_type": "markdown",
   "id": "2189d9db",
   "metadata": {},
   "source": [
    "## Important Python Basics\n",
    "Some of the following will be similar in content to the [Pre-Course Notebook](https://northeastern.instructure.com/courses/221176/files/34723234?module_item_id=12064061) which contains a summary of the basic python tools you should know in starting this course. If you have not seen python before, we'll have our first lab to practic it in a bit, but I **strongly** recommend you work through the Pre-Course Notebook for practice tonight.\n",
    "\n",
    "To start; everyone should have some concept of what a dictionary is. Let's begin by proving you do. Create a dictionary in the empty cell below which:\n",
    "- has three keys, \"Key A\", \"Key B\", \"Key C\"\n",
    "- each value is a list:\n",
    "    - the list for \"Key A\" is the numeric list [1, 2, 3, 4, 5]\n",
    "    - the list for \"Key B\" is a list of **five** names\n",
    "    - the list for \"Key C\" is a list of **five** boolean values (True/False)"
   ]
  },
  {
   "cell_type": "code",
   "execution_count": null,
   "id": "7d879023-8983-4346-bf32-6d07e4df878e",
   "metadata": {},
   "outputs": [
    {
     "data": {
      "text/plain": [
       "{'Key A': [1, 2, 3, 4, 5],\n",
       " 'Key B': ['Eric', 'Mohit', 'Chieh', 'Laney', 'Mark'],\n",
       " 'Key C': [True, False, True, False, True]}"
      ]
     },
     "execution_count": 1,
     "metadata": {},
     "output_type": "execute_result"
    }
   ],
   "source": [
    "dict = {\"Key A\":[1,2,3,4,5], \"Key B\": ['John',\"Jack\",\"Jeffrey\",\"Joseph\",\"Genevieve\"], \"Key C\": [True,False,True,True,False]}\n",
    "print(dict)\n"
   ]
  },
  {
   "cell_type": "code",
   "execution_count": 2,
   "id": "4903ae8a",
   "metadata": {},
   "outputs": [
    {
     "data": {
      "text/plain": [
       "[1, 2, 3, 4, 5]"
      ]
     },
     "execution_count": 2,
     "metadata": {},
     "output_type": "execute_result"
    }
   ],
   "source": [
    "# calling the list from Key A\n",
    "my_dict[\"Key A\"]"
   ]
  },
  {
   "cell_type": "markdown",
   "id": "699ecb18-3f56-492a-8eea-1f167d80d8ea",
   "metadata": {},
   "source": [
    "### Question: Can you call a key from a dictionary based on a value?\n",
    "\n",
    "Yes! There are a couple ways, but perhaps most simply, make use of `list()`, `.keys()`, `.values()`, and `.index()` and you can do it in one line (could also break this up into parts):"
   ]
  },
  {
   "cell_type": "code",
   "execution_count": 3,
   "id": "330b9812-f1ad-4199-86cf-234d0cf2b166",
   "metadata": {},
   "outputs": [
    {
     "data": {
      "text/plain": [
       "'third'"
      ]
     },
     "execution_count": 3,
     "metadata": {},
     "output_type": "execute_result"
    }
   ],
   "source": [
    "dict_a = {'first': 10, 'second': [\"a\", \"list\"], 'third': True}\n",
    "\n",
    "# for those who may need a second to process the below:\n",
    "# take the keys of dict_a and make them into a list\n",
    "# take the values of dict_a and make them into a list\n",
    "# get the index of the value that corresponds to True\n",
    "# use square brackets to get the key corresponding to that index\n",
    "list(dict_a.keys())[list(dict_a.values()).index(True)]"
   ]
  },
  {
   "cell_type": "code",
   "execution_count": 4,
   "id": "a24fbf97-164c-4edd-9cb0-1fa7194bf7c8",
   "metadata": {},
   "outputs": [
    {
     "data": {
      "text/plain": [
       "'first'"
      ]
     },
     "execution_count": 4,
     "metadata": {},
     "output_type": "execute_result"
    }
   ],
   "source": [
    "# or:\n",
    "list(dict_a.keys())[list(dict_a.values()).index(10)]"
   ]
  },
  {
   "cell_type": "markdown",
   "id": "3f68a934",
   "metadata": {
    "slideshow": {
     "slide_type": "slide"
    }
   },
   "source": [
    "You should also have some basic knowledge of what a loop (especially a for loop) is. Below, let's practice an important aspect of working with loops.\n",
    "\n",
    "### Iterating through a list (or a tuple):\n",
    "We often want to operate on all the items in some collection of items (list, tuple, strings, dictionaries, etc.):"
   ]
  },
  {
   "cell_type": "code",
   "execution_count": 5,
   "id": "91ac9847",
   "metadata": {},
   "outputs": [
    {
     "data": {
      "text/plain": [
       "[16, 64, 4, 36]"
      ]
     },
     "execution_count": 5,
     "metadata": {},
     "output_type": "execute_result"
    }
   ],
   "source": [
    "# iterate through the list and square everything, saving to a new list\n",
    "# the numbers we want to square\n",
    "some_list = [4,8,-2,6]\n",
    "# an empty list to put the squared values in\n",
    "another_list = list()\n",
    "\n",
    "#the for loop that does it\n",
    "for item in some_list:\n",
    "    another_list.append(item ** 2)\n",
    "    \n",
    "another_list"
   ]
  },
  {
   "cell_type": "markdown",
   "id": "0b0c3e37",
   "metadata": {},
   "source": [
    "(++) need both the index and item?  Try [enumerate](https://docs.python.org/3.8/library/functions.html#enumerate)"
   ]
  },
  {
   "cell_type": "code",
   "execution_count": 6,
   "id": "f5128439",
   "metadata": {},
   "outputs": [
    {
     "name": "stdout",
     "output_type": "stream",
     "text": [
      "0 4\n",
      "1 8\n",
      "2 -2\n",
      "3 6\n"
     ]
    }
   ],
   "source": [
    "# if you need an index too, use enumerate\n",
    "for idx, item in enumerate(some_list):\n",
    "    print(idx, item)"
   ]
  },
  {
   "cell_type": "markdown",
   "id": "c76cc69c",
   "metadata": {
    "slideshow": {
     "slide_type": "slide"
    }
   },
   "source": [
    "Now, practice using the same strategy to loop through a dictionary (say, the dictionary from the first practice) and print out each key and value pair."
   ]
  },
  {
   "cell_type": "code",
   "execution_count": null,
   "id": "e012c106",
   "metadata": {},
   "outputs": [
    {
     "name": "stdout",
     "output_type": "stream",
     "text": [
      "Key A\n",
      "[1, 2, 3, 4, 5]\n",
      "Key B\n",
      "['Eric', 'Mohit', 'Chieh', 'Laney', 'Mark']\n",
      "Key C\n",
      "[True, False, True, False, True]\n"
     ]
    }
   ],
   "source": [
    "# do it here"
   ]
  },
  {
   "cell_type": "markdown",
   "id": "db2fc422",
   "metadata": {
    "slideshow": {
     "slide_type": "slide"
    }
   },
   "source": [
    "## Functions in a bit more detail\n",
    "\n",
    "In the pre-course notebook (or DS 2000/2500), you should have seen:\n",
    "\n",
    "* defining and calling functions\n",
    "* functions with multiple inputs\n",
    "* functions with multiple outputs (tuple unpacking to the rescue!)\n",
    "\n",
    "In this lesson, we will focus on making sure you understand the usage of:\n",
    "\n",
    "* assertion"
   ]
  },
  {
   "cell_type": "markdown",
   "id": "c28873cf",
   "metadata": {
    "slideshow": {
     "slide_type": "slide"
    }
   },
   "source": [
    "## Assert (function behavior)\n",
    "\n",
    "We may want to check that the inputs to a function are appropriate."
   ]
  },
  {
   "cell_type": "code",
   "execution_count": 8,
   "id": "ee7f564c",
   "metadata": {},
   "outputs": [],
   "source": [
    "def alpha_sort_list(list_in):\n",
    "    \"\"\" sorts a list, alphabetically (regardless of case)\n",
    "    \n",
    "    Args:\n",
    "        list_in (list): list of strings\n",
    "        \n",
    "    Return:\n",
    "        list_out (list): list of strings, alpha sorted\n",
    "    \"\"\"\n",
    "    \n",
    "    return sorted(list_in)"
   ]
  },
  {
   "cell_type": "markdown",
   "id": "6e4f98d1",
   "metadata": {},
   "source": [
    "Does the function above work?  Seems to work on first glance ... to be sure lets build a little set of test cases and ensure it works as expected.\n",
    "\n",
    "A test case is a set of inputs and outputs to a function with our intended behavior."
   ]
  },
  {
   "cell_type": "code",
   "execution_count": 9,
   "id": "22320c19",
   "metadata": {},
   "outputs": [],
   "source": [
    "# assert alpha_sort_list(['Eliana', 'Callum', 'Bruno']) == ['Bruno', 'Callum', 'Eliana']\n",
    "# assert alpha_sort_list(['Eliana', 'callum', 'Bruno']) == ['Bruno', 'callum', 'eliana']"
   ]
  },
  {
   "cell_type": "markdown",
   "id": "8c02e4df",
   "metadata": {},
   "source": [
    "In the cell below, write a function that takes two inputs (a and b) and returns their product. Make sure your function passes the assert provided below. (Notice, this is much simpler than most of the functions you will be writing...)"
   ]
  },
  {
   "cell_type": "code",
   "execution_count": null,
   "id": "c53a01c1",
   "metadata": {},
   "outputs": [],
   "source": [
    "# write your function here\n",
    "\n",
    "assert my_func(a = 2, b = 4) == 8"
   ]
  },
  {
   "cell_type": "markdown",
   "id": "0b96ff3f",
   "metadata": {},
   "source": [
    "Python (if you've never used it before) relies on may libraries that must be imported in order to accomplish many tasks. For example, to take the square root of a number, you could either using default python to raise a number to the power of $.5$:"
   ]
  },
  {
   "cell_type": "code",
   "execution_count": 11,
   "id": "133980ff",
   "metadata": {},
   "outputs": [
    {
     "data": {
      "text/plain": [
       "1.4142135623730951"
      ]
     },
     "execution_count": 11,
     "metadata": {},
     "output_type": "execute_result"
    }
   ],
   "source": [
    "2**(.5)"
   ]
  },
  {
   "cell_type": "markdown",
   "id": "cc6feed7",
   "metadata": {},
   "source": [
    "Or, you could import the `numpy` or `math` modules, which can do that for you (plus, do a lot of other more useful things, as you will see):"
   ]
  },
  {
   "cell_type": "code",
   "execution_count": 12,
   "id": "6dbbdafd",
   "metadata": {},
   "outputs": [
    {
     "name": "stdout",
     "output_type": "stream",
     "text": [
      "1.4142135623730951\n",
      "1.4142135623730951\n"
     ]
    }
   ],
   "source": [
    "# numpy is one of the most important python modules\n",
    "import numpy as np\n",
    "import math\n",
    "\n",
    "print(np.sqrt(2))\n",
    "print(math.sqrt(2))"
   ]
  },
  {
   "cell_type": "code",
   "execution_count": 13,
   "id": "591e9043-e9c6-47c9-95cf-7b6c4d912c13",
   "metadata": {},
   "outputs": [],
   "source": [
    "# this module allows you to initialize an empty dictionary\n",
    "from collections import defaultdict\n",
    "\n",
    "# another example function\n",
    "def create_dict(featurenames, features):\n",
    "    \"\"\" creates a dictionary with keys and values corresponding to the inputs\n",
    "\n",
    "    Args:\n",
    "        featurenames (list): a list of strings that will serve as the keys to the dictionary\n",
    "        features (list): a list of values (any type) that will serve as the values of the dictionary\n",
    "\n",
    "    Returns:\n",
    "        dict (dictionary): the dictionary\n",
    "    \"\"\"\n",
    "\n",
    "    # create an empty dictionary that will take lists as values\n",
    "    dict = defaultdict(list)\n",
    "    \n",
    "    try:\n",
    "        for i in range(len(featurenames)):\n",
    "            # for each feature name, create a key-value pair in the dictionary\n",
    "            dict[str(featurenames[i])] = features[i]\n",
    "\n",
    "            # if age is a feature, create a logical column for an age 30 cut-off\n",
    "            if featurenames[i] == \"age\":\n",
    "                dict[\"old\"] = [i > 30 for i in features[i]]\n",
    "        return dict\n",
    "    except:\n",
    "        # if something doesn't work above, let us know\n",
    "        print(\"Failure to create dictionary; check inputs\")\n",
    "\n",
    "    "
   ]
  },
  {
   "cell_type": "code",
   "execution_count": 14,
   "id": "7162f6e9-32db-49fc-bc76-0a960d67ee9b",
   "metadata": {},
   "outputs": [
    {
     "name": "stdout",
     "output_type": "stream",
     "text": [
      "Failure to create dictionary; check inputs\n"
     ]
    }
   ],
   "source": [
    "test = [\"bloodtype\", \"age\", \"height (cm)\", \"weight (lbs)\"] # this should not work, why? how do fix it?\n",
    "vals = [[\"A\", \"B\", \"AB\", \"AB+\"], [28, 31, 16, 88], [180, 194, 136, 178]]\n",
    "\n",
    "my_dict2 = create_dict(test, vals)\n",
    "my_dict2"
   ]
  },
  {
   "cell_type": "markdown",
   "id": "e8cec03d-7c5c-48c2-b7a9-a5f5967d6ff9",
   "metadata": {},
   "source": [
    "# Representing data as arrays (or, matrices, if you prefer, though \"array\" is more general)\n",
    "Its often a convenient analogy to consider a dataset as a big table.  A dataset describes the **features** of a collection of **samples**:\n",
    "- each row represents a sample (or, observation)\n",
    "    - e.g. a country, or females of a certain age and education in a country\n",
    "- each column represents a feature (or, variable)\n",
    "    - e.g. how satisfied a country is, or how satisfied females of a certain age and education in a country are\n",
    "- the intersection of a row and column contains the feature of the sample\n",
    "    - e.g. how satisfied Senior Males with Secondary education in Belgium are\n",
    " \n",
    "The below data come from [eurostat](https://ec.europa.eu/eurostat/web/main/data/database) (which we'll be visiting!)\n",
    "    \n",
    "<img src=\"https://ec.europa.eu/eurostat/o/estat-theme-ecl/images/header/estat-logo-horizontal.svg?browserId=other&minifierType=js&languageId=en_GB&t=1715007920000\" width=300 />\n"
   ]
  },
  {
   "cell_type": "code",
   "execution_count": 15,
   "id": "f0ea27ae-e987-4bc7-aa7a-2d33bff649c6",
   "metadata": {},
   "outputs": [
    {
     "data": {
      "text/plain": [
       "0       True\n",
       "1      False\n",
       "2      False\n",
       "3      False\n",
       "4      False\n",
       "       ...  \n",
       "636    False\n",
       "637    False\n",
       "638    False\n",
       "639    False\n",
       "640    False\n",
       "Name: Country, Length: 641, dtype: bool"
      ]
     },
     "execution_count": 15,
     "metadata": {},
     "output_type": "execute_result"
    }
   ],
   "source": [
    "# (we'll cover this code later, for now I just want us all to\n",
    "# look at a dataset together)\n",
    "import pandas as pd\n",
    "\n",
    "url = 'https://raw.githubusercontent.com/eaegerber/data/main/EU_life_sat.csv'\n",
    "df_EUlife = pd.read_csv(url, encoding='unicode_escape')\n",
    "belgium = df_EUlife['Country'] == 'Belgium'\n",
    "belgium"
   ]
  },
  {
   "cell_type": "code",
   "execution_count": 16,
   "id": "f1c1a5af-9fec-4bbc-9a45-48b1a2c283e6",
   "metadata": {},
   "outputs": [
    {
     "data": {
      "text/html": [
       "<div>\n",
       "<style scoped>\n",
       "    .dataframe tbody tr th:only-of-type {\n",
       "        vertical-align: middle;\n",
       "    }\n",
       "\n",
       "    .dataframe tbody tr th {\n",
       "        vertical-align: top;\n",
       "    }\n",
       "\n",
       "    .dataframe thead th {\n",
       "        text-align: right;\n",
       "    }\n",
       "</style>\n",
       "<table border=\"1\" class=\"dataframe\">\n",
       "  <thead>\n",
       "    <tr style=\"text-align: right;\">\n",
       "      <th></th>\n",
       "      <th>Country</th>\n",
       "      <th>LifeSat</th>\n",
       "      <th>TrustInOthers</th>\n",
       "      <th>Sex</th>\n",
       "      <th>AgeClass</th>\n",
       "      <th>EducationClass</th>\n",
       "    </tr>\n",
       "  </thead>\n",
       "  <tbody>\n",
       "    <tr>\n",
       "      <th>0</th>\n",
       "      <td>Belgium</td>\n",
       "      <td>7.8</td>\n",
       "      <td>6.0</td>\n",
       "      <td>Male</td>\n",
       "      <td>Youth</td>\n",
       "      <td>Primary</td>\n",
       "    </tr>\n",
       "    <tr>\n",
       "      <th>1</th>\n",
       "      <td>Bulgaria</td>\n",
       "      <td>7.0</td>\n",
       "      <td>5.1</td>\n",
       "      <td>Male</td>\n",
       "      <td>Youth</td>\n",
       "      <td>Primary</td>\n",
       "    </tr>\n",
       "    <tr>\n",
       "      <th>2</th>\n",
       "      <td>Czechia</td>\n",
       "      <td>8.3</td>\n",
       "      <td>5.5</td>\n",
       "      <td>Male</td>\n",
       "      <td>Youth</td>\n",
       "      <td>Primary</td>\n",
       "    </tr>\n",
       "    <tr>\n",
       "      <th>3</th>\n",
       "      <td>Denmark</td>\n",
       "      <td>7.7</td>\n",
       "      <td>5.0</td>\n",
       "      <td>Male</td>\n",
       "      <td>Youth</td>\n",
       "      <td>Primary</td>\n",
       "    </tr>\n",
       "    <tr>\n",
       "      <th>4</th>\n",
       "      <td>Germany</td>\n",
       "      <td>7.7</td>\n",
       "      <td>5.4</td>\n",
       "      <td>Male</td>\n",
       "      <td>Youth</td>\n",
       "      <td>Primary</td>\n",
       "    </tr>\n",
       "    <tr>\n",
       "      <th>...</th>\n",
       "      <td>...</td>\n",
       "      <td>...</td>\n",
       "      <td>...</td>\n",
       "      <td>...</td>\n",
       "      <td>...</td>\n",
       "      <td>...</td>\n",
       "    </tr>\n",
       "    <tr>\n",
       "      <th>636</th>\n",
       "      <td>Montenegro</td>\n",
       "      <td>6.9</td>\n",
       "      <td>6.8</td>\n",
       "      <td>Female</td>\n",
       "      <td>Senior</td>\n",
       "      <td>Tertiary</td>\n",
       "    </tr>\n",
       "    <tr>\n",
       "      <th>637</th>\n",
       "      <td>North Macedonia</td>\n",
       "      <td>6.3</td>\n",
       "      <td>5.4</td>\n",
       "      <td>Female</td>\n",
       "      <td>Senior</td>\n",
       "      <td>Tertiary</td>\n",
       "    </tr>\n",
       "    <tr>\n",
       "      <th>638</th>\n",
       "      <td>Albania</td>\n",
       "      <td>5.5</td>\n",
       "      <td>5.4</td>\n",
       "      <td>Female</td>\n",
       "      <td>Senior</td>\n",
       "      <td>Tertiary</td>\n",
       "    </tr>\n",
       "    <tr>\n",
       "      <th>639</th>\n",
       "      <td>Serbia</td>\n",
       "      <td>6.2</td>\n",
       "      <td>5.4</td>\n",
       "      <td>Female</td>\n",
       "      <td>Senior</td>\n",
       "      <td>Tertiary</td>\n",
       "    </tr>\n",
       "    <tr>\n",
       "      <th>640</th>\n",
       "      <td>Turkiye</td>\n",
       "      <td>5.8</td>\n",
       "      <td>3.2</td>\n",
       "      <td>Female</td>\n",
       "      <td>Senior</td>\n",
       "      <td>Tertiary</td>\n",
       "    </tr>\n",
       "  </tbody>\n",
       "</table>\n",
       "<p>641 rows × 6 columns</p>\n",
       "</div>"
      ],
      "text/plain": [
       "             Country  LifeSat  TrustInOthers     Sex AgeClass EducationClass\n",
       "0            Belgium      7.8            6.0    Male    Youth        Primary\n",
       "1           Bulgaria      7.0            5.1    Male    Youth        Primary\n",
       "2            Czechia      8.3            5.5    Male    Youth        Primary\n",
       "3            Denmark      7.7            5.0    Male    Youth        Primary\n",
       "4            Germany      7.7            5.4    Male    Youth        Primary\n",
       "..               ...      ...            ...     ...      ...            ...\n",
       "636       Montenegro      6.9            6.8  Female   Senior       Tertiary\n",
       "637  North Macedonia      6.3            5.4  Female   Senior       Tertiary\n",
       "638          Albania      5.5            5.4  Female   Senior       Tertiary\n",
       "639           Serbia      6.2            5.4  Female   Senior       Tertiary\n",
       "640          Turkiye      5.8            3.2  Female   Senior       Tertiary\n",
       "\n",
       "[641 rows x 6 columns]"
      ]
     },
     "execution_count": 16,
     "metadata": {},
     "output_type": "execute_result"
    }
   ],
   "source": [
    "df_EUlife"
   ]
  },
  {
   "cell_type": "markdown",
   "id": "add7851b-0c61-4cb9-9f7e-c3bb2a998e5f",
   "metadata": {},
   "source": [
    "Why represent data in 2d arrays?\n",
    "- many datasets well encapsulated as a 2d array with \n",
    "    - different rows used for samples\n",
    "    - different col used feature\n",
    "- Arrays (matrices) are natural math objects in linear algebra, probability and statistics all of which underpin machine learning."
   ]
  },
  {
   "cell_type": "markdown",
   "id": "d6e9b23f-7095-4249-b807-dfd814527aad",
   "metadata": {},
   "source": [
    "## **NumPy** (**Numerical Python**) Library\n",
    "* First appeared in 2006 and is the **preferred Python array implementation**.\n",
    "* High-performance, richly functional **_n_-dimensional array** type called **`ndarray`**. \n",
    "* **Written in C** and **up to 100 times faster than lists**.\n",
    "* Critical in big-data processing, AI applications and much more. \n",
    "* According to `libraries.io`, **over 450 Python libraries depend on NumPy**. \n",
    "* Many popular data science libraries such as Pandas, SciPy (Scientific Python) and Keras (for deep learning) are built on or depend on NumPy. \n",
    "\n",
    "Big Question:\n",
    "```\n",
    "What is an array/matrix?  (and how is different than a list or list of lists?)\n",
    "```\n",
    "\n",
    "| Array                                 | List (Python: Dynamic Array)                         |\n",
    "|---------------------------------------|------------------------------------------------------|\n",
    "| Size is static (contiguous memory)    | Size can be modified quickly (non-contiguous memory) |\n",
    "| Quick to compute (esp Linear Algebra) | Slower to compute (and clumsy looking code)          |\n",
    "| contains 1 datatype (numeric)         | may contain many data types (need not be numeric)    |"
   ]
  },
  {
   "cell_type": "markdown",
   "id": "4b9de6cb-4863-49d9-a59b-c318fbf7a4ac",
   "metadata": {},
   "source": [
    "### Initializing arrays:\n",
    "- 1d from list / tuple\n",
    "- 2d from list / tuple"
   ]
  },
  {
   "cell_type": "code",
   "execution_count": 17,
   "id": "fc48f519-2006-4a1d-aa17-bda902edb8f7",
   "metadata": {},
   "outputs": [
    {
     "data": {
      "text/plain": [
       "array([1, 2, 3])"
      ]
     },
     "execution_count": 17,
     "metadata": {},
     "output_type": "execute_result"
    }
   ],
   "source": [
    "import numpy as np\n",
    "\n",
    "# x is a 1d array (3)\n",
    "x = np.array((1, 2, 3))\n",
    "x"
   ]
  },
  {
   "cell_type": "code",
   "execution_count": 18,
   "id": "324e650e-d83a-4e72-b914-73d8fbf72b63",
   "metadata": {},
   "outputs": [
    {
     "data": {
      "text/plain": [
       "array([[1, 2, 3],\n",
       "       [4, 5, 6]])"
      ]
     },
     "execution_count": 18,
     "metadata": {},
     "output_type": "execute_result"
    }
   ],
   "source": [
    "# y is a 2d array (2, 3)\n",
    "y = np.array([[1, 2, 3],\n",
    "              [4, 5, 6]])\n",
    "y"
   ]
  },
  {
   "cell_type": "markdown",
   "id": "abac324e-5f3e-4837-80e6-d1789a1b2bec",
   "metadata": {},
   "source": [
    "### Building some special matrices\n",
    "- zeros\n",
    "- ones\n",
    "- full \n",
    "- identity\n",
    "\n",
    "#### Convention: Rows First!\n",
    "- we describe array shape as `(n_rows, n_cols)`\n",
    "- we index into an array as `x[row_idx, col_idx]`"
   ]
  },
  {
   "cell_type": "code",
   "execution_count": 19,
   "id": "2d6ef58a-5cbb-47eb-a06b-4465b93a32da",
   "metadata": {},
   "outputs": [
    {
     "data": {
      "text/plain": [
       "array([[0., 0.],\n",
       "       [0., 0.],\n",
       "       [0., 0.],\n",
       "       [0., 0.],\n",
       "       [0., 0.]])"
      ]
     },
     "execution_count": 19,
     "metadata": {},
     "output_type": "execute_result"
    }
   ],
   "source": [
    "# shape = (n_rows, n_cols)\n",
    "# shape = (height, width)\n",
    "# .zeros gives an array of all zeros\n",
    "z = np.zeros((5, 2)) # tall array\n",
    "z"
   ]
  },
  {
   "cell_type": "code",
   "execution_count": 20,
   "id": "23278c40-a44b-4389-8b22-83ae46d67f0c",
   "metadata": {},
   "outputs": [
    {
     "data": {
      "text/plain": [
       "array([[1, 1, 1, 1, 1],\n",
       "       [1, 1, 1, 1, 1]])"
      ]
     },
     "execution_count": 20,
     "metadata": {},
     "output_type": "execute_result"
    }
   ],
   "source": [
    "# .ones gives an array of all ones\n",
    "one_array = np.ones((2, 5), dtype=int)\n",
    "one_array"
   ]
  },
  {
   "cell_type": "code",
   "execution_count": 21,
   "id": "58164573-eb6c-4f63-a585-8728bebf552c",
   "metadata": {},
   "outputs": [
    {
     "data": {
      "text/plain": [
       "array([[2., 2., 2., 2., 2.],\n",
       "       [2., 2., 2., 2., 2.]])"
      ]
     },
     "execution_count": 21,
     "metadata": {},
     "output_type": "execute_result"
    }
   ],
   "source": [
    "# can use .full to create an array of all fill_value\n",
    "# np.full(shape=(2,5), fill_value=2)\n",
    "two_array = np.full(shape=(2, 5), fill_value=2.0)\n",
    "two_array"
   ]
  },
  {
   "cell_type": "code",
   "execution_count": 22,
   "id": "52fce12f-83b4-4600-9023-1a95d86df3c5",
   "metadata": {},
   "outputs": [
    {
     "data": {
      "text/plain": [
       "array([[1., 0., 0.],\n",
       "       [0., 1., 0.],\n",
       "       [0., 0., 1.]])"
      ]
     },
     "execution_count": 22,
     "metadata": {},
     "output_type": "execute_result"
    }
   ],
   "source": [
    "# identity matrix\n",
    "# 1's on the diagonal, 0s elsewhere\n",
    "np.eye(3)"
   ]
  },
  {
   "cell_type": "markdown",
   "id": "0053fca0-7507-4bd1-a7c6-ddf7a5bf2229",
   "metadata": {},
   "source": [
    "### Array Attributes\n",
    "- shape\n",
    "- size\n",
    "- ndim\n",
    "\n",
    "Numpy can build arrays out of many different number types (bool, int, float).  ([see also](https://numpy.org/doc/stable/user/basics.types.html#:~:text=There%20are%205%20basic%20numerical,point%20(float)%20and%20complex.&text=NumPy%20knows%20that%20int%20refers,int_%20%2C%20bool%20means%20np.))\n",
    "- dtype\n",
    "    - astype\n",
    "- nbytes"
   ]
  },
  {
   "cell_type": "code",
   "execution_count": 23,
   "id": "98dd90d0-9778-4667-89f8-2550b5f3d818",
   "metadata": {},
   "outputs": [],
   "source": [
    "x = np.array([[1, 2, 3],\n",
    "              [4, 5, 6]]) "
   ]
  },
  {
   "cell_type": "code",
   "execution_count": 24,
   "id": "ea269916-07f3-4484-9068-3880bbdbd440",
   "metadata": {},
   "outputs": [
    {
     "data": {
      "text/plain": [
       "dtype('int32')"
      ]
     },
     "execution_count": 24,
     "metadata": {},
     "output_type": "execute_result"
    }
   ],
   "source": [
    "# whether you see int32 or int64 depends on the bit size; it should not truly matter\n",
    "x.dtype"
   ]
  },
  {
   "cell_type": "code",
   "execution_count": 25,
   "id": "dddb8801-d768-49f8-b52a-83b19a8b6d22",
   "metadata": {},
   "outputs": [
    {
     "data": {
      "text/plain": [
       "2"
      ]
     },
     "execution_count": 25,
     "metadata": {},
     "output_type": "execute_result"
    }
   ],
   "source": [
    "# ndim is the (n)umber of (dim)ensions\n",
    "x.ndim"
   ]
  },
  {
   "cell_type": "code",
   "execution_count": 26,
   "id": "18ccb787-b3ef-4149-81a4-f51c45d9dc8e",
   "metadata": {},
   "outputs": [
    {
     "data": {
      "text/plain": [
       "(2, 3)"
      ]
     },
     "execution_count": 26,
     "metadata": {},
     "output_type": "execute_result"
    }
   ],
   "source": [
    "# shape gives the values of the dimensions\n",
    "x.shape"
   ]
  },
  {
   "cell_type": "code",
   "execution_count": 27,
   "id": "9e7fdcae-b057-4cd3-905c-ff373b1875aa",
   "metadata": {},
   "outputs": [
    {
     "data": {
      "text/plain": [
       "6"
      ]
     },
     "execution_count": 27,
     "metadata": {},
     "output_type": "execute_result"
    }
   ],
   "source": [
    "# size is total number of elements\n",
    "x.size"
   ]
  },
  {
   "cell_type": "code",
   "execution_count": 28,
   "id": "0e806e11-acf6-4917-a22a-ae32c85b1fa2",
   "metadata": {},
   "outputs": [
    {
     "data": {
      "text/plain": [
       "24"
      ]
     },
     "execution_count": 28,
     "metadata": {},
     "output_type": "execute_result"
    }
   ],
   "source": [
    "x.nbytes"
   ]
  },
  {
   "cell_type": "markdown",
   "id": "7a285da2-e202-4be9-9b9c-1e7c641990bd",
   "metadata": {},
   "source": [
    "## Manipulating array shape\n",
    "\n",
    "### Diagonal\n",
    "\n",
    "The diagonal of each array is shaded below, the unshaded elements are not on the diagonal of the matrix:\n",
    "\n",
    "$$ \\begin{bmatrix}\n",
    "\\blacksquare & \\square & \\square\\\\\n",
    "\\square & \\blacksquare & \\square\\\\\n",
    "\\square & \\square & \\blacksquare\\\\\n",
    "\\square & \\square & \\square\\\\\n",
    "\\end{bmatrix} \n",
    "\\hspace{2cm}\n",
    "\\begin{bmatrix}\n",
    "\\blacksquare & \\square & \\square & \\square & \\square\\\\\n",
    "\\square & \\blacksquare & \\square& \\square & \\square\\\\\n",
    "\\square & \\square & \\blacksquare& \\square & \\square\\end{bmatrix}\n",
    "\\hspace{2cm}\n",
    "\\begin{bmatrix}\n",
    "\\blacksquare & \\square & \\square\\\\\n",
    "\\square & \\blacksquare & \\square\\\\\n",
    "\\square & \\square & \\blacksquare\n",
    "\\end{bmatrix} \n",
    "$$\n",
    "\n",
    "### Numpy methods\n",
    "- transpose\n",
    "- `.reshape()`\n",
    "    - order of reshape (row or column first?)"
   ]
  },
  {
   "cell_type": "code",
   "execution_count": 29,
   "id": "7bcd305f-ba76-44ed-97cd-fe93fe6a1ece",
   "metadata": {},
   "outputs": [
    {
     "data": {
      "text/plain": [
       "array([[1, 2, 3],\n",
       "       [4, 5, 6]])"
      ]
     },
     "execution_count": 29,
     "metadata": {},
     "output_type": "execute_result"
    }
   ],
   "source": [
    "x = np.array([[1, 2, 3],\n",
    "              [4, 5, 6]]) \n",
    "x"
   ]
  },
  {
   "cell_type": "code",
   "execution_count": 30,
   "id": "161def0a-5498-4294-a601-51fffff3c507",
   "metadata": {},
   "outputs": [
    {
     "data": {
      "text/plain": [
       "array([[1, 4],\n",
       "       [2, 5],\n",
       "       [3, 6]])"
      ]
     },
     "execution_count": 30,
     "metadata": {},
     "output_type": "execute_result"
    }
   ],
   "source": [
    "# transpose (.T): flip across the diagonal\n",
    "y = x.T\n",
    "y"
   ]
  },
  {
   "cell_type": "code",
   "execution_count": 31,
   "id": "4f352e9a-d38a-4e5c-ba6c-224d5618a657",
   "metadata": {},
   "outputs": [
    {
     "data": {
      "text/plain": [
       "array([[1, 2, 3, 4, 5, 6]])"
      ]
     },
     "execution_count": 31,
     "metadata": {},
     "output_type": "execute_result"
    }
   ],
   "source": [
    "# reshape allows us to change shape of matrix by defining the dimensions\n",
    "x.reshape((1, 6))"
   ]
  },
  {
   "cell_type": "code",
   "execution_count": 32,
   "id": "b27c0dce-9bfe-4936-8034-29866fedcc91",
   "metadata": {},
   "outputs": [],
   "source": [
    "# (new matrix must have same total number of elements)\n",
    "# x.reshape((1, 8))"
   ]
  },
  {
   "cell_type": "markdown",
   "id": "a2cfd684-7ed2-4930-810c-28a550a25e16",
   "metadata": {},
   "source": [
    "## Array Indexing (slicing)\n",
    "\n",
    "You can index arrays, using `start:stop:step` indexing!"
   ]
  },
  {
   "cell_type": "code",
   "execution_count": 33,
   "id": "84fb4b96-0c8d-41f4-ba9d-0ac39dbbcdb7",
   "metadata": {},
   "outputs": [
    {
     "data": {
      "text/plain": [
       "array([0, 1, 2, 3, 4, 5, 6, 7, 8, 9])"
      ]
     },
     "execution_count": 33,
     "metadata": {},
     "output_type": "execute_result"
    }
   ],
   "source": [
    "x = np.arange(10)\n",
    "x"
   ]
  },
  {
   "cell_type": "code",
   "execution_count": 34,
   "id": "d04376dd-5f8b-4313-8740-fe9f9ec27424",
   "metadata": {},
   "outputs": [
    {
     "data": {
      "text/plain": [
       "3"
      ]
     },
     "execution_count": 34,
     "metadata": {},
     "output_type": "execute_result"
    }
   ],
   "source": [
    "x[3]"
   ]
  },
  {
   "cell_type": "code",
   "execution_count": 35,
   "id": "7671a373-ec90-4939-a548-c9e1e08e4b78",
   "metadata": {},
   "outputs": [
    {
     "data": {
      "text/plain": [
       "array([2, 3])"
      ]
     },
     "execution_count": 35,
     "metadata": {},
     "output_type": "execute_result"
    }
   ],
   "source": [
    "x[2:4]"
   ]
  },
  {
   "cell_type": "code",
   "execution_count": 36,
   "id": "3cb3f491-6ac5-4027-8cbe-b7c73cdb96f6",
   "metadata": {},
   "outputs": [
    {
     "data": {
      "text/plain": [
       "array([7, 8, 9])"
      ]
     },
     "execution_count": 36,
     "metadata": {},
     "output_type": "execute_result"
    }
   ],
   "source": [
    "x[-3:]"
   ]
  },
  {
   "cell_type": "markdown",
   "id": "c2a9ebd8-da3a-43e1-a6b9-0227425c291f",
   "metadata": {},
   "source": [
    "A two dimensional array requires two indices to get a value: `x[row_idx, col_idx]`\n",
    "\n",
    "(Just like our convention for rows first in shape, the row index comes first as we index into the array)"
   ]
  },
  {
   "cell_type": "code",
   "execution_count": 37,
   "id": "5fc77bc2-242e-4319-adc0-5774abef90d8",
   "metadata": {},
   "outputs": [
    {
     "data": {
      "text/plain": [
       "array([[ 0,  1,  2,  3,  4],\n",
       "       [ 5,  6,  7,  8,  9],\n",
       "       [10, 11, 12, 13, 14],\n",
       "       [15, 16, 17, 18, 19]])"
      ]
     },
     "execution_count": 37,
     "metadata": {},
     "output_type": "execute_result"
    }
   ],
   "source": [
    "x = np.arange(20).reshape((4, 5))\n",
    "x"
   ]
  },
  {
   "cell_type": "code",
   "execution_count": 38,
   "id": "15eefe04-4f34-4caf-9f4d-aaab7f57b946",
   "metadata": {},
   "outputs": [
    {
     "data": {
      "text/plain": [
       "7"
      ]
     },
     "execution_count": 38,
     "metadata": {},
     "output_type": "execute_result"
    }
   ],
   "source": [
    "# row_idx=1 (second row since python starts counting at 0)\n",
    "# col_idx=2 (third column since python starts counting at 0)\n",
    "x[1, 2]"
   ]
  },
  {
   "cell_type": "code",
   "execution_count": 39,
   "id": "7108763c-92cb-49f1-a2be-6166dccc062c",
   "metadata": {},
   "outputs": [
    {
     "data": {
      "text/plain": [
       "array([2, 7])"
      ]
     },
     "execution_count": 39,
     "metadata": {},
     "output_type": "execute_result"
    }
   ],
   "source": [
    "# we can start:stop:step slice either index\n",
    "\n",
    "# get a slice of rows and a constant column\n",
    "x[0:2, 2]"
   ]
  },
  {
   "cell_type": "code",
   "execution_count": 40,
   "id": "c0173174-bebb-4f41-8f12-86196417cc72",
   "metadata": {},
   "outputs": [
    {
     "data": {
      "text/plain": [
       "array([10, 11])"
      ]
     },
     "execution_count": 40,
     "metadata": {},
     "output_type": "execute_result"
    }
   ],
   "source": [
    "# get a slice of columns and a constant row\n",
    "x[2, 0:2]"
   ]
  },
  {
   "cell_type": "markdown",
   "id": "829d8660-8bb6-49d4-849f-18067701f993",
   "metadata": {},
   "source": [
    "# We will discuss various other NumPy things as they arise! Next up:\n",
    "\n",
    "# Pandas\n",
    "\n",
    "Pandas is a python module which stores data.  \n",
    "\n",
    "### If we already have `np.array()`, why do we need pandas?\n",
    "- pandas supports non numeric data (strings for categorical data, for example)\n",
    "- pandas supports reading / storing data from more formats\n",
    "    - csv (spreadsheets)\n",
    "- pandas more elegantly deals with missing data\n",
    "- pandas handles indexing woes\n",
    "\n",
    "You could do almost everything pandas does with numpy arrays ... but it would be much more difficult to accomplish.\n",
    "\n",
    "### Pandas has two essential objects:\n",
    "- **dataframe**\n",
    "    - 2 dimensional data structure\n",
    "    - you've already seen one today!  (we replicate below)\n",
    "- **series (vectors)**\n",
    "    - 1 dimensional data structure, each item associated with some index\n",
    "    - you could store the weight of all the penguins as a series \n",
    "        - (all samples of one feature)\n",
    "    - you could store the weight, bill size, sex, island, etc for a single penguin as a series\n",
    "        - (all features for one sample)"
   ]
  },
  {
   "cell_type": "code",
   "execution_count": 41,
   "id": "27a12a55-55e0-41ad-bb02-9d53d26ef27f",
   "metadata": {},
   "outputs": [
    {
     "data": {
      "text/html": [
       "<div>\n",
       "<style scoped>\n",
       "    .dataframe tbody tr th:only-of-type {\n",
       "        vertical-align: middle;\n",
       "    }\n",
       "\n",
       "    .dataframe tbody tr th {\n",
       "        vertical-align: top;\n",
       "    }\n",
       "\n",
       "    .dataframe thead th {\n",
       "        text-align: right;\n",
       "    }\n",
       "</style>\n",
       "<table border=\"1\" class=\"dataframe\">\n",
       "  <thead>\n",
       "    <tr style=\"text-align: right;\">\n",
       "      <th></th>\n",
       "      <th>Country</th>\n",
       "      <th>LifeSat</th>\n",
       "      <th>TrustInOthers</th>\n",
       "      <th>Sex</th>\n",
       "      <th>AgeClass</th>\n",
       "      <th>EducationClass</th>\n",
       "    </tr>\n",
       "  </thead>\n",
       "  <tbody>\n",
       "    <tr>\n",
       "      <th>0</th>\n",
       "      <td>Belgium</td>\n",
       "      <td>7.8</td>\n",
       "      <td>6.0</td>\n",
       "      <td>Male</td>\n",
       "      <td>Youth</td>\n",
       "      <td>Primary</td>\n",
       "    </tr>\n",
       "    <tr>\n",
       "      <th>1</th>\n",
       "      <td>Bulgaria</td>\n",
       "      <td>7.0</td>\n",
       "      <td>5.1</td>\n",
       "      <td>Male</td>\n",
       "      <td>Youth</td>\n",
       "      <td>Primary</td>\n",
       "    </tr>\n",
       "    <tr>\n",
       "      <th>2</th>\n",
       "      <td>Czechia</td>\n",
       "      <td>8.3</td>\n",
       "      <td>5.5</td>\n",
       "      <td>Male</td>\n",
       "      <td>Youth</td>\n",
       "      <td>Primary</td>\n",
       "    </tr>\n",
       "    <tr>\n",
       "      <th>3</th>\n",
       "      <td>Denmark</td>\n",
       "      <td>7.7</td>\n",
       "      <td>5.0</td>\n",
       "      <td>Male</td>\n",
       "      <td>Youth</td>\n",
       "      <td>Primary</td>\n",
       "    </tr>\n",
       "    <tr>\n",
       "      <th>4</th>\n",
       "      <td>Germany</td>\n",
       "      <td>7.7</td>\n",
       "      <td>5.4</td>\n",
       "      <td>Male</td>\n",
       "      <td>Youth</td>\n",
       "      <td>Primary</td>\n",
       "    </tr>\n",
       "  </tbody>\n",
       "</table>\n",
       "</div>"
      ],
      "text/plain": [
       "    Country  LifeSat  TrustInOthers   Sex AgeClass EducationClass\n",
       "0   Belgium      7.8            6.0  Male    Youth        Primary\n",
       "1  Bulgaria      7.0            5.1  Male    Youth        Primary\n",
       "2   Czechia      8.3            5.5  Male    Youth        Primary\n",
       "3   Denmark      7.7            5.0  Male    Youth        Primary\n",
       "4   Germany      7.7            5.4  Male    Youth        Primary"
      ]
     },
     "execution_count": 41,
     "metadata": {},
     "output_type": "execute_result"
    }
   ],
   "source": [
    "# recall how we got our data from before\n",
    "import pandas as pd\n",
    "\n",
    "url = 'https://raw.githubusercontent.com/eaegerber/data/main/EU_life_sat.csv'\n",
    "df_EUlife = pd.read_csv(url, encoding='unicode_escape')\n",
    "df_EUlife.head()"
   ]
  },
  {
   "cell_type": "code",
   "execution_count": 42,
   "id": "3958b8f4-5e7d-4e30-8720-0b91e7d085f8",
   "metadata": {},
   "outputs": [
    {
     "data": {
      "text/plain": [
       "pandas.core.frame.DataFrame"
      ]
     },
     "execution_count": 42,
     "metadata": {},
     "output_type": "execute_result"
    }
   ],
   "source": [
    "# the table above is a dataframe\n",
    "type(df_EUlife)"
   ]
  },
  {
   "cell_type": "code",
   "execution_count": 43,
   "id": "03268298-f934-440a-b7be-dc7c9fb3e134",
   "metadata": {},
   "outputs": [
    {
     "data": {
      "text/html": [
       "<div>\n",
       "<style scoped>\n",
       "    .dataframe tbody tr th:only-of-type {\n",
       "        vertical-align: middle;\n",
       "    }\n",
       "\n",
       "    .dataframe tbody tr th {\n",
       "        vertical-align: top;\n",
       "    }\n",
       "\n",
       "    .dataframe thead th {\n",
       "        text-align: right;\n",
       "    }\n",
       "</style>\n",
       "<table border=\"1\" class=\"dataframe\">\n",
       "  <thead>\n",
       "    <tr style=\"text-align: right;\">\n",
       "      <th></th>\n",
       "      <th>Country</th>\n",
       "      <th>LifeSat</th>\n",
       "      <th>TrustInOthers</th>\n",
       "    </tr>\n",
       "  </thead>\n",
       "  <tbody>\n",
       "    <tr>\n",
       "      <th>0</th>\n",
       "      <td>Belgium</td>\n",
       "      <td>7.8</td>\n",
       "      <td>6.0</td>\n",
       "    </tr>\n",
       "    <tr>\n",
       "      <th>37</th>\n",
       "      <td>Belgium</td>\n",
       "      <td>7.1</td>\n",
       "      <td>4.8</td>\n",
       "    </tr>\n",
       "    <tr>\n",
       "      <th>69</th>\n",
       "      <td>Belgium</td>\n",
       "      <td>7.2</td>\n",
       "      <td>5.9</td>\n",
       "    </tr>\n",
       "    <tr>\n",
       "      <th>106</th>\n",
       "      <td>Belgium</td>\n",
       "      <td>7.8</td>\n",
       "      <td>6.1</td>\n",
       "    </tr>\n",
       "    <tr>\n",
       "      <th>143</th>\n",
       "      <td>Belgium</td>\n",
       "      <td>7.0</td>\n",
       "      <td>4.7</td>\n",
       "    </tr>\n",
       "    <tr>\n",
       "      <th>178</th>\n",
       "      <td>Belgium</td>\n",
       "      <td>7.3</td>\n",
       "      <td>6.2</td>\n",
       "    </tr>\n",
       "    <tr>\n",
       "      <th>215</th>\n",
       "      <td>Belgium</td>\n",
       "      <td>8.1</td>\n",
       "      <td>6.5</td>\n",
       "    </tr>\n",
       "    <tr>\n",
       "      <th>252</th>\n",
       "      <td>Belgium</td>\n",
       "      <td>7.5</td>\n",
       "      <td>5.8</td>\n",
       "    </tr>\n",
       "    <tr>\n",
       "      <th>289</th>\n",
       "      <td>Belgium</td>\n",
       "      <td>7.7</td>\n",
       "      <td>6.3</td>\n",
       "    </tr>\n",
       "    <tr>\n",
       "      <th>326</th>\n",
       "      <td>Belgium</td>\n",
       "      <td>7.8</td>\n",
       "      <td>6.2</td>\n",
       "    </tr>\n",
       "    <tr>\n",
       "      <th>363</th>\n",
       "      <td>Belgium</td>\n",
       "      <td>7.4</td>\n",
       "      <td>6.0</td>\n",
       "    </tr>\n",
       "    <tr>\n",
       "      <th>400</th>\n",
       "      <td>Belgium</td>\n",
       "      <td>7.4</td>\n",
       "      <td>6.1</td>\n",
       "    </tr>\n",
       "    <tr>\n",
       "      <th>437</th>\n",
       "      <td>Belgium</td>\n",
       "      <td>8.2</td>\n",
       "      <td>7.0</td>\n",
       "    </tr>\n",
       "    <tr>\n",
       "      <th>463</th>\n",
       "      <td>Belgium</td>\n",
       "      <td>7.9</td>\n",
       "      <td>6.3</td>\n",
       "    </tr>\n",
       "    <tr>\n",
       "      <th>500</th>\n",
       "      <td>Belgium</td>\n",
       "      <td>7.9</td>\n",
       "      <td>6.5</td>\n",
       "    </tr>\n",
       "    <tr>\n",
       "      <th>537</th>\n",
       "      <td>Belgium</td>\n",
       "      <td>7.9</td>\n",
       "      <td>6.4</td>\n",
       "    </tr>\n",
       "    <tr>\n",
       "      <th>568</th>\n",
       "      <td>Belgium</td>\n",
       "      <td>7.9</td>\n",
       "      <td>6.5</td>\n",
       "    </tr>\n",
       "    <tr>\n",
       "      <th>605</th>\n",
       "      <td>Belgium</td>\n",
       "      <td>7.9</td>\n",
       "      <td>6.6</td>\n",
       "    </tr>\n",
       "  </tbody>\n",
       "</table>\n",
       "</div>"
      ],
      "text/plain": [
       "     Country  LifeSat  TrustInOthers\n",
       "0    Belgium      7.8            6.0\n",
       "37   Belgium      7.1            4.8\n",
       "69   Belgium      7.2            5.9\n",
       "106  Belgium      7.8            6.1\n",
       "143  Belgium      7.0            4.7\n",
       "178  Belgium      7.3            6.2\n",
       "215  Belgium      8.1            6.5\n",
       "252  Belgium      7.5            5.8\n",
       "289  Belgium      7.7            6.3\n",
       "326  Belgium      7.8            6.2\n",
       "363  Belgium      7.4            6.0\n",
       "400  Belgium      7.4            6.1\n",
       "437  Belgium      8.2            7.0\n",
       "463  Belgium      7.9            6.3\n",
       "500  Belgium      7.9            6.5\n",
       "537  Belgium      7.9            6.4\n",
       "568  Belgium      7.9            6.5\n",
       "605  Belgium      7.9            6.6"
      ]
     },
     "execution_count": 43,
     "metadata": {},
     "output_type": "execute_result"
    }
   ],
   "source": [
    "belgium = df_EUlife.Country == 'Belgium'\n",
    "df_EUlife.loc[belgium,'Country':'TrustInOthers']"
   ]
  },
  {
   "cell_type": "markdown",
   "id": "11153124-6843-4227-9839-c413071284a0",
   "metadata": {},
   "source": [
    "## Pandas Series\n",
    "### building:\n",
    "- building: default index\n",
    "- building: custom index\n",
    "- building: from a dict"
   ]
  },
  {
   "cell_type": "code",
   "execution_count": 44,
   "id": "f0b531a8-ed8d-4760-8283-109214821d2d",
   "metadata": {},
   "outputs": [
    {
     "data": {
      "text/plain": [
       "Country           Belgium\n",
       "LifeSat               7.8\n",
       "TrustInOthers         6.0\n",
       "Sex                  Male\n",
       "AgeClass            Youth\n",
       "EducationClass    Primary\n",
       "Name: 0, dtype: object"
      ]
     },
     "execution_count": 44,
     "metadata": {},
     "output_type": "execute_result"
    }
   ],
   "source": [
    "# each row, or column is a series object\n",
    "# this represents first row of dataframe\n",
    "country0_series = df_EUlife.iloc[0, :]\n",
    "country0_series"
   ]
  },
  {
   "cell_type": "markdown",
   "id": "8d3d6a19-3a1f-4c0b-9aca-9253b4e5018a",
   "metadata": {},
   "source": [
    "Pandas series contain a sequence of labelled data elements:\n",
    "- country0's `Country` is `Belgium`\n",
    "- country0's `LifeSat` is `7.8`\n",
    "- country0's `<index-name>` is `<corresponding-value>`\n",
    "\n",
    "A series is quite similar to a dictionary ..."
   ]
  },
  {
   "cell_type": "code",
   "execution_count": 45,
   "id": "6078b4f3-b002-451e-a0b2-8542db9540c4",
   "metadata": {},
   "outputs": [],
   "source": [
    "country0_dict = {'Country': 'Belgium',\n",
    " 'LifeSat': 7.8,\n",
    " 'TrustInOthers': 6.0,\n",
    " 'Sex': 'Male',\n",
    " 'AgeClass': 'Youth',\n",
    " 'EducationClass': 'Primary'}"
   ]
  },
  {
   "cell_type": "code",
   "execution_count": 46,
   "id": "951981c7-8a94-4ac9-845d-82883ce2ca2c",
   "metadata": {},
   "outputs": [
    {
     "data": {
      "text/plain": [
       "Country           Belgium\n",
       "LifeSat               7.8\n",
       "TrustInOthers         6.0\n",
       "Sex                  Male\n",
       "AgeClass            Youth\n",
       "EducationClass    Primary\n",
       "dtype: object"
      ]
     },
     "execution_count": 46,
     "metadata": {},
     "output_type": "execute_result"
    }
   ],
   "source": [
    "# build a series from dict\n",
    "country0_series = pd.Series(country0_dict)\n",
    "country0_series"
   ]
  },
  {
   "cell_type": "code",
   "execution_count": 47,
   "id": "1abf1745-e7b3-4599-b4f8-31d93715ea9d",
   "metadata": {},
   "outputs": [
    {
     "data": {
      "text/plain": [
       "Country           Belgium\n",
       "LifeSat               7.8\n",
       "TrustInOthers         6.0\n",
       "Sex                  Male\n",
       "AgeClass            Youth\n",
       "EducationClass    Primary\n",
       "dtype: object"
      ]
     },
     "execution_count": 47,
     "metadata": {},
     "output_type": "execute_result"
    }
   ],
   "source": [
    "# you can also pass two corresponding lists / tuples\n",
    "index = ['Country', 'LifeSat', 'TrustInOthers', 'Sex',\n",
    "       'AgeClass', 'EducationClass']\n",
    "values = ['Belgium', 7.8, 6.0, 'Male', 'Youth', 'Primary']\n",
    "\n",
    "country0_series = pd.Series(values, index=index)\n",
    "country0_series"
   ]
  },
  {
   "cell_type": "code",
   "execution_count": 48,
   "id": "720d2271-0656-4087-a0ba-21e0ab9a7023",
   "metadata": {},
   "outputs": [
    {
     "data": {
      "text/plain": [
       "0          vanilla\n",
       "1        chocolate\n",
       "2    cherry garcia\n",
       "3          oatmeal\n",
       "dtype: object"
      ]
     },
     "execution_count": 48,
     "metadata": {},
     "output_type": "execute_result"
    }
   ],
   "source": [
    "# sometimes your data has no meaningful index\n",
    "# pandas will default to indexing things with integers\n",
    "ice_cream_flavors = 'vanilla', 'chocolate', 'cherry garcia', 'oatmeal'\n",
    "pd.Series(ice_cream_flavors)"
   ]
  },
  {
   "cell_type": "code",
   "execution_count": 49,
   "id": "756f21d5-18c3-4f02-b241-8c4fa8b9feec",
   "metadata": {},
   "outputs": [
    {
     "data": {
      "text/plain": [
       "array(['Belgium', 7.8, 6.0, 'Male', 'Youth', 'Primary'], dtype=object)"
      ]
     },
     "execution_count": 49,
     "metadata": {},
     "output_type": "execute_result"
    }
   ],
   "source": [
    "# you can access values via .values\n",
    "country0_series.values"
   ]
  },
  {
   "cell_type": "code",
   "execution_count": 50,
   "id": "1f83a81d-d268-487c-8119-69005ebb4ac0",
   "metadata": {},
   "outputs": [
    {
     "data": {
      "text/plain": [
       "Index(['Country', 'LifeSat', 'TrustInOthers', 'Sex', 'AgeClass',\n",
       "       'EducationClass'],\n",
       "      dtype='object')"
      ]
     },
     "execution_count": 50,
     "metadata": {},
     "output_type": "execute_result"
    }
   ],
   "source": [
    "# you can access index via .index\n",
    "country0_series.index"
   ]
  },
  {
   "cell_type": "markdown",
   "id": "b61d50e2-8a60-45e8-9be5-0fbdc5311cf7",
   "metadata": {},
   "source": [
    "## Pandas: DataFrame\n",
    "\n",
    "Remember:\n",
    "- `Series`:  1d data object\n",
    "- `DataFrame`: 2d data object\n",
    "\n",
    "`DataFrame`s represent two-dimensional data, for example, grades:\n",
    "\n",
    "|           | Quiz 0 | Quiz 1 | Quiz 2 |\n",
    "|-----------|--------|--------|--------|\n",
    "| Student 0 | 80     | 90     | 50     |\n",
    "| Student 1 | 87     | 92     | 80     |\n",
    "\n",
    "Each column or row above could be considered a `Series` object (as we'll see later, we can indeed extract a single row or column of a dataframe as a `Series` object)."
   ]
  },
  {
   "cell_type": "code",
   "execution_count": 51,
   "id": "fe13db6e-cfab-4423-86f4-961baa4d85c0",
   "metadata": {},
   "outputs": [
    {
     "data": {
      "text/html": [
       "<div>\n",
       "<style scoped>\n",
       "    .dataframe tbody tr th:only-of-type {\n",
       "        vertical-align: middle;\n",
       "    }\n",
       "\n",
       "    .dataframe tbody tr th {\n",
       "        vertical-align: top;\n",
       "    }\n",
       "\n",
       "    .dataframe thead th {\n",
       "        text-align: right;\n",
       "    }\n",
       "</style>\n",
       "<table border=\"1\" class=\"dataframe\">\n",
       "  <thead>\n",
       "    <tr style=\"text-align: right;\">\n",
       "      <th></th>\n",
       "      <th>quiz0</th>\n",
       "      <th>quiz1</th>\n",
       "      <th>quiz2</th>\n",
       "    </tr>\n",
       "  </thead>\n",
       "  <tbody>\n",
       "    <tr>\n",
       "      <th>student0</th>\n",
       "      <td>80</td>\n",
       "      <td>90</td>\n",
       "      <td>50</td>\n",
       "    </tr>\n",
       "    <tr>\n",
       "      <th>student1</th>\n",
       "      <td>87</td>\n",
       "      <td>92</td>\n",
       "      <td>80</td>\n",
       "    </tr>\n",
       "  </tbody>\n",
       "</table>\n",
       "</div>"
      ],
      "text/plain": [
       "          quiz0  quiz1  quiz2\n",
       "student0     80     90     50\n",
       "student1     87     92     80"
      ]
     },
     "execution_count": 51,
     "metadata": {},
     "output_type": "execute_result"
    }
   ],
   "source": [
    "import pandas as pd\n",
    "import numpy as np\n",
    "\n",
    "quiz_array = np.array([[80, 90, 50],\n",
    "                 [87, 92, 80]])\n",
    "\n",
    "df_quiz = pd.DataFrame(quiz_array, \n",
    "                       columns=('quiz0', 'quiz1', 'quiz2'), \n",
    "                       index=('student0', 'student1'))\n",
    "df_quiz"
   ]
  },
  {
   "cell_type": "code",
   "execution_count": 52,
   "id": "430860da-d843-4b48-90d3-2254c84f62d1",
   "metadata": {},
   "outputs": [
    {
     "data": {
      "text/html": [
       "<div>\n",
       "<style scoped>\n",
       "    .dataframe tbody tr th:only-of-type {\n",
       "        vertical-align: middle;\n",
       "    }\n",
       "\n",
       "    .dataframe tbody tr th {\n",
       "        vertical-align: top;\n",
       "    }\n",
       "\n",
       "    .dataframe thead th {\n",
       "        text-align: right;\n",
       "    }\n",
       "</style>\n",
       "<table border=\"1\" class=\"dataframe\">\n",
       "  <thead>\n",
       "    <tr style=\"text-align: right;\">\n",
       "      <th></th>\n",
       "      <th>quiz0</th>\n",
       "      <th>quiz1</th>\n",
       "      <th>quiz2</th>\n",
       "    </tr>\n",
       "  </thead>\n",
       "  <tbody>\n",
       "    <tr>\n",
       "      <th>student0</th>\n",
       "      <td>80</td>\n",
       "      <td>90</td>\n",
       "      <td>50</td>\n",
       "    </tr>\n",
       "    <tr>\n",
       "      <th>student1</th>\n",
       "      <td>87</td>\n",
       "      <td>92</td>\n",
       "      <td>80</td>\n",
       "    </tr>\n",
       "  </tbody>\n",
       "</table>\n",
       "</div>"
      ],
      "text/plain": [
       "          quiz0  quiz1  quiz2\n",
       "student0     80     90     50\n",
       "student1     87     92     80"
      ]
     },
     "execution_count": 52,
     "metadata": {},
     "output_type": "execute_result"
    }
   ],
   "source": [
    "# we construct a dataframe as a dictionary\n",
    "# keys of the dictionary are columns of dataframe\n",
    "# values are lists (or tuples) of the values in each column\n",
    "quiz_dict = {'quiz0': [80, 87],\n",
    "            'quiz1': [90, 92],\n",
    "            'quiz2': [50, 80]}\n",
    "pd.DataFrame(quiz_dict, index=('student0', 'student1'))"
   ]
  },
  {
   "cell_type": "code",
   "execution_count": 53,
   "id": "bb9a3771-6b2a-4ed4-8f09-4f25dc848f40",
   "metadata": {},
   "outputs": [
    {
     "data": {
      "text/html": [
       "<div>\n",
       "<style scoped>\n",
       "    .dataframe tbody tr th:only-of-type {\n",
       "        vertical-align: middle;\n",
       "    }\n",
       "\n",
       "    .dataframe tbody tr th {\n",
       "        vertical-align: top;\n",
       "    }\n",
       "\n",
       "    .dataframe thead th {\n",
       "        text-align: right;\n",
       "    }\n",
       "</style>\n",
       "<table border=\"1\" class=\"dataframe\">\n",
       "  <thead>\n",
       "    <tr style=\"text-align: right;\">\n",
       "      <th></th>\n",
       "      <th>student0</th>\n",
       "      <th>student1</th>\n",
       "    </tr>\n",
       "  </thead>\n",
       "  <tbody>\n",
       "    <tr>\n",
       "      <th>quiz0</th>\n",
       "      <td>80</td>\n",
       "      <td>87</td>\n",
       "    </tr>\n",
       "    <tr>\n",
       "      <th>quiz1</th>\n",
       "      <td>90</td>\n",
       "      <td>92</td>\n",
       "    </tr>\n",
       "    <tr>\n",
       "      <th>quiz2</th>\n",
       "      <td>50</td>\n",
       "      <td>80</td>\n",
       "    </tr>\n",
       "  </tbody>\n",
       "</table>\n",
       "</div>"
      ],
      "text/plain": [
       "       student0  student1\n",
       "quiz0        80        87\n",
       "quiz1        90        92\n",
       "quiz2        50        80"
      ]
     },
     "execution_count": 53,
     "metadata": {},
     "output_type": "execute_result"
    }
   ],
   "source": [
    "# another way to construct, this time the transpose\n",
    "quiz_dict2 = {'student0': [80, 90, 50],\n",
    "             'student1': [87, 92, 80]}\n",
    "pd.DataFrame(quiz_dict2, index=('quiz0', 'quiz1', 'quiz2'))"
   ]
  },
  {
   "cell_type": "code",
   "execution_count": 54,
   "id": "7c33a491-ef17-449b-b1e8-7d6a811402a9",
   "metadata": {},
   "outputs": [
    {
     "data": {
      "text/html": [
       "<div>\n",
       "<style scoped>\n",
       "    .dataframe tbody tr th:only-of-type {\n",
       "        vertical-align: middle;\n",
       "    }\n",
       "\n",
       "    .dataframe tbody tr th {\n",
       "        vertical-align: top;\n",
       "    }\n",
       "\n",
       "    .dataframe thead th {\n",
       "        text-align: right;\n",
       "    }\n",
       "</style>\n",
       "<table border=\"1\" class=\"dataframe\">\n",
       "  <thead>\n",
       "    <tr style=\"text-align: right;\">\n",
       "      <th></th>\n",
       "      <th>student0</th>\n",
       "      <th>student1</th>\n",
       "    </tr>\n",
       "  </thead>\n",
       "  <tbody>\n",
       "    <tr>\n",
       "      <th>quiz0</th>\n",
       "      <td>80</td>\n",
       "      <td>87</td>\n",
       "    </tr>\n",
       "    <tr>\n",
       "      <th>quiz1</th>\n",
       "      <td>90</td>\n",
       "      <td>92</td>\n",
       "    </tr>\n",
       "    <tr>\n",
       "      <th>quiz2</th>\n",
       "      <td>50</td>\n",
       "      <td>80</td>\n",
       "    </tr>\n",
       "  </tbody>\n",
       "</table>\n",
       "</div>"
      ],
      "text/plain": [
       "       student0  student1\n",
       "quiz0        80        87\n",
       "quiz1        90        92\n",
       "quiz2        50        80"
      ]
     },
     "execution_count": 54,
     "metadata": {},
     "output_type": "execute_result"
    }
   ],
   "source": [
    "# could also use .transpose() or even .T\n",
    "df_quiz.transpose()\n",
    "# df_quiz.T"
   ]
  },
  {
   "cell_type": "code",
   "execution_count": 55,
   "id": "a335ad2b-74b5-4e80-9418-c401b5866137",
   "metadata": {},
   "outputs": [
    {
     "data": {
      "text/html": [
       "<div>\n",
       "<style scoped>\n",
       "    .dataframe tbody tr th:only-of-type {\n",
       "        vertical-align: middle;\n",
       "    }\n",
       "\n",
       "    .dataframe tbody tr th {\n",
       "        vertical-align: top;\n",
       "    }\n",
       "\n",
       "    .dataframe thead th {\n",
       "        text-align: right;\n",
       "    }\n",
       "</style>\n",
       "<table border=\"1\" class=\"dataframe\">\n",
       "  <thead>\n",
       "    <tr style=\"text-align: right;\">\n",
       "      <th></th>\n",
       "      <th>0</th>\n",
       "      <th>1</th>\n",
       "      <th>2</th>\n",
       "    </tr>\n",
       "  </thead>\n",
       "  <tbody>\n",
       "    <tr>\n",
       "      <th>0</th>\n",
       "      <td>80</td>\n",
       "      <td>90</td>\n",
       "      <td>50</td>\n",
       "    </tr>\n",
       "    <tr>\n",
       "      <th>1</th>\n",
       "      <td>87</td>\n",
       "      <td>92</td>\n",
       "      <td>80</td>\n",
       "    </tr>\n",
       "  </tbody>\n",
       "</table>\n",
       "</div>"
      ],
      "text/plain": [
       "    0   1   2\n",
       "0  80  90  50\n",
       "1  87  92  80"
      ]
     },
     "execution_count": 55,
     "metadata": {},
     "output_type": "execute_result"
    }
   ],
   "source": [
    "# we can also add the column or index names after creation\n",
    "df_quiz = pd.DataFrame(quiz_array)\n",
    "df_quiz"
   ]
  },
  {
   "cell_type": "code",
   "execution_count": 56,
   "id": "d7aa725d-f268-4778-995b-2ab7329f5915",
   "metadata": {},
   "outputs": [
    {
     "data": {
      "text/html": [
       "<div>\n",
       "<style scoped>\n",
       "    .dataframe tbody tr th:only-of-type {\n",
       "        vertical-align: middle;\n",
       "    }\n",
       "\n",
       "    .dataframe tbody tr th {\n",
       "        vertical-align: top;\n",
       "    }\n",
       "\n",
       "    .dataframe thead th {\n",
       "        text-align: right;\n",
       "    }\n",
       "</style>\n",
       "<table border=\"1\" class=\"dataframe\">\n",
       "  <thead>\n",
       "    <tr style=\"text-align: right;\">\n",
       "      <th></th>\n",
       "      <th>quiz0</th>\n",
       "      <th>quiz1</th>\n",
       "      <th>quiz2</th>\n",
       "    </tr>\n",
       "  </thead>\n",
       "  <tbody>\n",
       "    <tr>\n",
       "      <th>student0</th>\n",
       "      <td>80</td>\n",
       "      <td>90</td>\n",
       "      <td>50</td>\n",
       "    </tr>\n",
       "    <tr>\n",
       "      <th>student1</th>\n",
       "      <td>87</td>\n",
       "      <td>92</td>\n",
       "      <td>80</td>\n",
       "    </tr>\n",
       "  </tbody>\n",
       "</table>\n",
       "</div>"
      ],
      "text/plain": [
       "          quiz0  quiz1  quiz2\n",
       "student0     80     90     50\n",
       "student1     87     92     80"
      ]
     },
     "execution_count": 56,
     "metadata": {},
     "output_type": "execute_result"
    }
   ],
   "source": [
    "df_quiz.columns = ['quiz0', 'quiz1', 'quiz2']\n",
    "df_quiz.index = ('student0', 'student1')\n",
    "df_quiz"
   ]
  },
  {
   "cell_type": "markdown",
   "id": "9e12d919-ddb5-4644-9f09-8172fd59d911",
   "metadata": {},
   "source": [
    "## Indexing / Accessing a DataFrame\n",
    "### Can be tricky sometimes!\n",
    "- indexing: \n",
    "    - `.loc[]` indexing by name of row or column\n",
    "    - `.iloc[]` indexing by position integer (0, 1, 2, 3, 4 ...)\n",
    "    & slicing & subsets\n",
    "- using `:` to get full rows or columns"
   ]
  },
  {
   "cell_type": "code",
   "execution_count": 57,
   "id": "ac73d2bd-68bb-4a0d-83e3-3ed41f86591c",
   "metadata": {},
   "outputs": [
    {
     "data": {
      "text/html": [
       "<div>\n",
       "<style scoped>\n",
       "    .dataframe tbody tr th:only-of-type {\n",
       "        vertical-align: middle;\n",
       "    }\n",
       "\n",
       "    .dataframe tbody tr th {\n",
       "        vertical-align: top;\n",
       "    }\n",
       "\n",
       "    .dataframe thead th {\n",
       "        text-align: right;\n",
       "    }\n",
       "</style>\n",
       "<table border=\"1\" class=\"dataframe\">\n",
       "  <thead>\n",
       "    <tr style=\"text-align: right;\">\n",
       "      <th></th>\n",
       "      <th>Country</th>\n",
       "      <th>LifeSat</th>\n",
       "      <th>TrustInOthers</th>\n",
       "    </tr>\n",
       "  </thead>\n",
       "  <tbody>\n",
       "    <tr>\n",
       "      <th>0</th>\n",
       "      <td>Belgium</td>\n",
       "      <td>7.8</td>\n",
       "      <td>6.0</td>\n",
       "    </tr>\n",
       "    <tr>\n",
       "      <th>37</th>\n",
       "      <td>Belgium</td>\n",
       "      <td>7.1</td>\n",
       "      <td>4.8</td>\n",
       "    </tr>\n",
       "    <tr>\n",
       "      <th>69</th>\n",
       "      <td>Belgium</td>\n",
       "      <td>7.2</td>\n",
       "      <td>5.9</td>\n",
       "    </tr>\n",
       "    <tr>\n",
       "      <th>106</th>\n",
       "      <td>Belgium</td>\n",
       "      <td>7.8</td>\n",
       "      <td>6.1</td>\n",
       "    </tr>\n",
       "    <tr>\n",
       "      <th>143</th>\n",
       "      <td>Belgium</td>\n",
       "      <td>7.0</td>\n",
       "      <td>4.7</td>\n",
       "    </tr>\n",
       "    <tr>\n",
       "      <th>178</th>\n",
       "      <td>Belgium</td>\n",
       "      <td>7.3</td>\n",
       "      <td>6.2</td>\n",
       "    </tr>\n",
       "    <tr>\n",
       "      <th>215</th>\n",
       "      <td>Belgium</td>\n",
       "      <td>8.1</td>\n",
       "      <td>6.5</td>\n",
       "    </tr>\n",
       "    <tr>\n",
       "      <th>252</th>\n",
       "      <td>Belgium</td>\n",
       "      <td>7.5</td>\n",
       "      <td>5.8</td>\n",
       "    </tr>\n",
       "    <tr>\n",
       "      <th>289</th>\n",
       "      <td>Belgium</td>\n",
       "      <td>7.7</td>\n",
       "      <td>6.3</td>\n",
       "    </tr>\n",
       "    <tr>\n",
       "      <th>326</th>\n",
       "      <td>Belgium</td>\n",
       "      <td>7.8</td>\n",
       "      <td>6.2</td>\n",
       "    </tr>\n",
       "    <tr>\n",
       "      <th>363</th>\n",
       "      <td>Belgium</td>\n",
       "      <td>7.4</td>\n",
       "      <td>6.0</td>\n",
       "    </tr>\n",
       "    <tr>\n",
       "      <th>400</th>\n",
       "      <td>Belgium</td>\n",
       "      <td>7.4</td>\n",
       "      <td>6.1</td>\n",
       "    </tr>\n",
       "    <tr>\n",
       "      <th>437</th>\n",
       "      <td>Belgium</td>\n",
       "      <td>8.2</td>\n",
       "      <td>7.0</td>\n",
       "    </tr>\n",
       "    <tr>\n",
       "      <th>463</th>\n",
       "      <td>Belgium</td>\n",
       "      <td>7.9</td>\n",
       "      <td>6.3</td>\n",
       "    </tr>\n",
       "    <tr>\n",
       "      <th>500</th>\n",
       "      <td>Belgium</td>\n",
       "      <td>7.9</td>\n",
       "      <td>6.5</td>\n",
       "    </tr>\n",
       "    <tr>\n",
       "      <th>537</th>\n",
       "      <td>Belgium</td>\n",
       "      <td>7.9</td>\n",
       "      <td>6.4</td>\n",
       "    </tr>\n",
       "    <tr>\n",
       "      <th>568</th>\n",
       "      <td>Belgium</td>\n",
       "      <td>7.9</td>\n",
       "      <td>6.5</td>\n",
       "    </tr>\n",
       "    <tr>\n",
       "      <th>605</th>\n",
       "      <td>Belgium</td>\n",
       "      <td>7.9</td>\n",
       "      <td>6.6</td>\n",
       "    </tr>\n",
       "  </tbody>\n",
       "</table>\n",
       "</div>"
      ],
      "text/plain": [
       "     Country  LifeSat  TrustInOthers\n",
       "0    Belgium      7.8            6.0\n",
       "37   Belgium      7.1            4.8\n",
       "69   Belgium      7.2            5.9\n",
       "106  Belgium      7.8            6.1\n",
       "143  Belgium      7.0            4.7\n",
       "178  Belgium      7.3            6.2\n",
       "215  Belgium      8.1            6.5\n",
       "252  Belgium      7.5            5.8\n",
       "289  Belgium      7.7            6.3\n",
       "326  Belgium      7.8            6.2\n",
       "363  Belgium      7.4            6.0\n",
       "400  Belgium      7.4            6.1\n",
       "437  Belgium      8.2            7.0\n",
       "463  Belgium      7.9            6.3\n",
       "500  Belgium      7.9            6.5\n",
       "537  Belgium      7.9            6.4\n",
       "568  Belgium      7.9            6.5\n",
       "605  Belgium      7.9            6.6"
      ]
     },
     "execution_count": 57,
     "metadata": {},
     "output_type": "execute_result"
    }
   ],
   "source": [
    "belgium = df_EUlife.Country == 'Belgium'\n",
    "df_EUlife.loc[belgium,'Country':'TrustInOthers']"
   ]
  },
  {
   "cell_type": "code",
   "execution_count": 58,
   "id": "43566fa5-697b-42f4-b1c5-1889af52c726",
   "metadata": {},
   "outputs": [
    {
     "data": {
      "text/plain": [
       "Country          Belgium\n",
       "LifeSat              7.8\n",
       "TrustInOthers        6.0\n",
       "Name: 0, dtype: object"
      ]
     },
     "execution_count": 58,
     "metadata": {},
     "output_type": "execute_result"
    }
   ],
   "source": [
    "df_EUlife.iloc[0,0:3]"
   ]
  },
  {
   "cell_type": "code",
   "execution_count": 59,
   "id": "4c7bf07e-3456-4d11-b28d-f8911b58a000",
   "metadata": {},
   "outputs": [
    {
     "data": {
      "text/plain": [
       "0              Belgium\n",
       "1             Bulgaria\n",
       "2              Czechia\n",
       "3              Denmark\n",
       "4              Germany\n",
       "            ...       \n",
       "636         Montenegro\n",
       "637    North Macedonia\n",
       "638            Albania\n",
       "639             Serbia\n",
       "640            Turkiye\n",
       "Name: Country, Length: 641, dtype: object"
      ]
     },
     "execution_count": 59,
     "metadata": {},
     "output_type": "execute_result"
    }
   ],
   "source": [
    "# if you access directly into dataframe, it will assume you're looking for a column\n",
    "# (below is equivilent to df_quiz.loc[:, 'quiz0'])\n",
    "df_EUlife['Country']"
   ]
  },
  {
   "cell_type": "code",
   "execution_count": 60,
   "id": "ba52658c",
   "metadata": {},
   "outputs": [
    {
     "data": {
      "text/plain": [
       "0              Belgium\n",
       "1             Bulgaria\n",
       "2              Czechia\n",
       "3              Denmark\n",
       "4              Germany\n",
       "            ...       \n",
       "636         Montenegro\n",
       "637    North Macedonia\n",
       "638            Albania\n",
       "639             Serbia\n",
       "640            Turkiye\n",
       "Name: Country, Length: 641, dtype: object"
      ]
     },
     "execution_count": 60,
     "metadata": {},
     "output_type": "execute_result"
    }
   ],
   "source": [
    "# but if you are interested in only one column, they are also attributes\n",
    "df_EUlife.Country"
   ]
  },
  {
   "cell_type": "markdown",
   "id": "a4ed966c-38fc-44a7-93d6-f801823f9e9f",
   "metadata": {},
   "source": [
    "## Modifying a DataFrame\n",
    "- updating values: single cell\n",
    "- adding a new column\n",
    "- `pd.DataFrame.append()`\n",
    "    - adds a single row to a dataframe\n",
    "    - deprecated, but works for now. will eventually be replaced with `pd.DataFrame.concat()`"
   ]
  },
  {
   "cell_type": "code",
   "execution_count": 61,
   "id": "e271a799-5647-4cf3-9657-d8cc6cd851ce",
   "metadata": {},
   "outputs": [
    {
     "data": {
      "text/html": [
       "<div>\n",
       "<style scoped>\n",
       "    .dataframe tbody tr th:only-of-type {\n",
       "        vertical-align: middle;\n",
       "    }\n",
       "\n",
       "    .dataframe tbody tr th {\n",
       "        vertical-align: top;\n",
       "    }\n",
       "\n",
       "    .dataframe thead th {\n",
       "        text-align: right;\n",
       "    }\n",
       "</style>\n",
       "<table border=\"1\" class=\"dataframe\">\n",
       "  <thead>\n",
       "    <tr style=\"text-align: right;\">\n",
       "      <th></th>\n",
       "      <th>quiz0</th>\n",
       "      <th>quiz1</th>\n",
       "      <th>quiz2</th>\n",
       "    </tr>\n",
       "  </thead>\n",
       "  <tbody>\n",
       "    <tr>\n",
       "      <th>student0</th>\n",
       "      <td>80</td>\n",
       "      <td>123</td>\n",
       "      <td>50</td>\n",
       "    </tr>\n",
       "    <tr>\n",
       "      <th>student1</th>\n",
       "      <td>87</td>\n",
       "      <td>92</td>\n",
       "      <td>80</td>\n",
       "    </tr>\n",
       "  </tbody>\n",
       "</table>\n",
       "</div>"
      ],
      "text/plain": [
       "          quiz0  quiz1  quiz2\n",
       "student0     80    123     50\n",
       "student1     87     92     80"
      ]
     },
     "execution_count": 61,
     "metadata": {},
     "output_type": "execute_result"
    }
   ],
   "source": [
    "# setting single entry in dataframe\n",
    "df_quiz.loc['student0', 'quiz1'] = 123\n",
    "df_quiz"
   ]
  },
  {
   "cell_type": "code",
   "execution_count": 62,
   "id": "a369727e-d115-40d2-a256-359765f06af4",
   "metadata": {},
   "outputs": [
    {
     "data": {
      "text/html": [
       "<div>\n",
       "<style scoped>\n",
       "    .dataframe tbody tr th:only-of-type {\n",
       "        vertical-align: middle;\n",
       "    }\n",
       "\n",
       "    .dataframe tbody tr th {\n",
       "        vertical-align: top;\n",
       "    }\n",
       "\n",
       "    .dataframe thead th {\n",
       "        text-align: right;\n",
       "    }\n",
       "</style>\n",
       "<table border=\"1\" class=\"dataframe\">\n",
       "  <thead>\n",
       "    <tr style=\"text-align: right;\">\n",
       "      <th></th>\n",
       "      <th>quiz0</th>\n",
       "      <th>quiz1</th>\n",
       "      <th>quiz2</th>\n",
       "      <th>overall grade</th>\n",
       "    </tr>\n",
       "  </thead>\n",
       "  <tbody>\n",
       "    <tr>\n",
       "      <th>student0</th>\n",
       "      <td>80</td>\n",
       "      <td>123</td>\n",
       "      <td>50</td>\n",
       "      <td>a</td>\n",
       "    </tr>\n",
       "    <tr>\n",
       "      <th>student1</th>\n",
       "      <td>87</td>\n",
       "      <td>92</td>\n",
       "      <td>80</td>\n",
       "      <td>b</td>\n",
       "    </tr>\n",
       "  </tbody>\n",
       "</table>\n",
       "</div>"
      ],
      "text/plain": [
       "          quiz0  quiz1  quiz2 overall grade\n",
       "student0     80    123     50             a\n",
       "student1     87     92     80             b"
      ]
     },
     "execution_count": 62,
     "metadata": {},
     "output_type": "execute_result"
    }
   ],
   "source": [
    "# adding a new column (which student got which grade?)\n",
    "# notice data frames can include columns of multiple types!\n",
    "df_quiz['overall grade'] = 'a', 'b' \n",
    "df_quiz"
   ]
  },
  {
   "cell_type": "code",
   "execution_count": 63,
   "id": "289ec57d-af88-4639-a5a0-0ac2f3fc414d",
   "metadata": {},
   "outputs": [
    {
     "data": {
      "text/html": [
       "<div>\n",
       "<style scoped>\n",
       "    .dataframe tbody tr th:only-of-type {\n",
       "        vertical-align: middle;\n",
       "    }\n",
       "\n",
       "    .dataframe tbody tr th {\n",
       "        vertical-align: top;\n",
       "    }\n",
       "\n",
       "    .dataframe thead th {\n",
       "        text-align: right;\n",
       "    }\n",
       "</style>\n",
       "<table border=\"1\" class=\"dataframe\">\n",
       "  <thead>\n",
       "    <tr style=\"text-align: right;\">\n",
       "      <th></th>\n",
       "      <th>quiz0</th>\n",
       "      <th>quiz1</th>\n",
       "      <th>quiz2</th>\n",
       "    </tr>\n",
       "  </thead>\n",
       "  <tbody>\n",
       "    <tr>\n",
       "      <th>student0</th>\n",
       "      <td>80</td>\n",
       "      <td>123</td>\n",
       "      <td>50</td>\n",
       "    </tr>\n",
       "    <tr>\n",
       "      <th>student1</th>\n",
       "      <td>87</td>\n",
       "      <td>92</td>\n",
       "      <td>80</td>\n",
       "    </tr>\n",
       "  </tbody>\n",
       "</table>\n",
       "</div>"
      ],
      "text/plain": [
       "          quiz0  quiz1  quiz2\n",
       "student0     80    123     50\n",
       "student1     87     92     80"
      ]
     },
     "execution_count": 63,
     "metadata": {},
     "output_type": "execute_result"
    }
   ],
   "source": [
    "# delete a column\n",
    "del df_quiz['overall grade']\n",
    "df_quiz"
   ]
  },
  {
   "cell_type": "code",
   "execution_count": 64,
   "id": "bd805561-01c0-4350-97bd-22e155ea9849",
   "metadata": {},
   "outputs": [
    {
     "data": {
      "text/plain": [
       "student1                      b-\n",
       "student2    f (no quizzes taken)\n",
       "dtype: object"
      ]
     },
     "execution_count": 64,
     "metadata": {},
     "output_type": "execute_result"
    }
   ],
   "source": [
    "# adding a column (next 2 cells) more error robust way of handling indexing\n",
    "# by explicitly labelling the index we're sure to match more explicitly\n",
    "s_overgrade = pd.Series({'student1': 'b-',\n",
    "                         #'student0': 'a+',\n",
    "                        'student2': 'f (no quizzes taken)'})\n",
    "s_overgrade"
   ]
  },
  {
   "cell_type": "code",
   "execution_count": 65,
   "id": "45a0268d-6c44-42f6-b9ec-5d898a9bd0a0",
   "metadata": {},
   "outputs": [
    {
     "data": {
      "text/html": [
       "<div>\n",
       "<style scoped>\n",
       "    .dataframe tbody tr th:only-of-type {\n",
       "        vertical-align: middle;\n",
       "    }\n",
       "\n",
       "    .dataframe tbody tr th {\n",
       "        vertical-align: top;\n",
       "    }\n",
       "\n",
       "    .dataframe thead th {\n",
       "        text-align: right;\n",
       "    }\n",
       "</style>\n",
       "<table border=\"1\" class=\"dataframe\">\n",
       "  <thead>\n",
       "    <tr style=\"text-align: right;\">\n",
       "      <th></th>\n",
       "      <th>quiz0</th>\n",
       "      <th>quiz1</th>\n",
       "      <th>quiz2</th>\n",
       "      <th>overall grade</th>\n",
       "    </tr>\n",
       "  </thead>\n",
       "  <tbody>\n",
       "    <tr>\n",
       "      <th>student0</th>\n",
       "      <td>80</td>\n",
       "      <td>123</td>\n",
       "      <td>50</td>\n",
       "      <td>NaN</td>\n",
       "    </tr>\n",
       "    <tr>\n",
       "      <th>student1</th>\n",
       "      <td>87</td>\n",
       "      <td>92</td>\n",
       "      <td>80</td>\n",
       "      <td>b-</td>\n",
       "    </tr>\n",
       "  </tbody>\n",
       "</table>\n",
       "</div>"
      ],
      "text/plain": [
       "          quiz0  quiz1  quiz2 overall grade\n",
       "student0     80    123     50           NaN\n",
       "student1     87     92     80            b-"
      ]
     },
     "execution_count": 65,
     "metadata": {},
     "output_type": "execute_result"
    }
   ],
   "source": [
    "# notice how pandas helps us out in aligning our new column with proper row\n",
    "# (and avoids including student2)\n",
    "df_quiz['overall grade'] = s_overgrade\n",
    "df_quiz"
   ]
  },
  {
   "cell_type": "code",
   "execution_count": 66,
   "id": "baddb990-c8b3-444f-8fa4-500818bd56e5",
   "metadata": {},
   "outputs": [
    {
     "data": {
      "text/html": [
       "<div>\n",
       "<style scoped>\n",
       "    .dataframe tbody tr th:only-of-type {\n",
       "        vertical-align: middle;\n",
       "    }\n",
       "\n",
       "    .dataframe tbody tr th {\n",
       "        vertical-align: top;\n",
       "    }\n",
       "\n",
       "    .dataframe thead th {\n",
       "        text-align: right;\n",
       "    }\n",
       "</style>\n",
       "<table border=\"1\" class=\"dataframe\">\n",
       "  <thead>\n",
       "    <tr style=\"text-align: right;\">\n",
       "      <th></th>\n",
       "      <th>quiz0</th>\n",
       "      <th>quiz1</th>\n",
       "      <th>quiz2</th>\n",
       "      <th>overall grade</th>\n",
       "    </tr>\n",
       "  </thead>\n",
       "  <tbody>\n",
       "    <tr>\n",
       "      <th>student1</th>\n",
       "      <td>87</td>\n",
       "      <td>92</td>\n",
       "      <td>80</td>\n",
       "      <td>b-</td>\n",
       "    </tr>\n",
       "  </tbody>\n",
       "</table>\n",
       "</div>"
      ],
      "text/plain": [
       "          quiz0  quiz1  quiz2 overall grade\n",
       "student1     87     92     80            b-"
      ]
     },
     "execution_count": 66,
     "metadata": {},
     "output_type": "execute_result"
    }
   ],
   "source": [
    "# how to 'drop' a row (returns a dataframe with row removed)\n",
    "df_quiz_short = df_quiz.drop('student0')\n",
    "df_quiz_short"
   ]
  },
  {
   "cell_type": "code",
   "execution_count": 67,
   "id": "67acabcb-255b-4168-9473-efe5f4218bc3",
   "metadata": {},
   "outputs": [
    {
     "data": {
      "text/html": [
       "<div>\n",
       "<style scoped>\n",
       "    .dataframe tbody tr th:only-of-type {\n",
       "        vertical-align: middle;\n",
       "    }\n",
       "\n",
       "    .dataframe tbody tr th {\n",
       "        vertical-align: top;\n",
       "    }\n",
       "\n",
       "    .dataframe thead th {\n",
       "        text-align: right;\n",
       "    }\n",
       "</style>\n",
       "<table border=\"1\" class=\"dataframe\">\n",
       "  <thead>\n",
       "    <tr style=\"text-align: right;\">\n",
       "      <th></th>\n",
       "      <th>quiz0</th>\n",
       "      <th>quiz1</th>\n",
       "      <th>quiz2</th>\n",
       "    </tr>\n",
       "  </thead>\n",
       "  <tbody>\n",
       "    <tr>\n",
       "      <th>student0</th>\n",
       "      <td>80</td>\n",
       "      <td>90</td>\n",
       "      <td>50</td>\n",
       "    </tr>\n",
       "    <tr>\n",
       "      <th>student1</th>\n",
       "      <td>87</td>\n",
       "      <td>92</td>\n",
       "      <td>80</td>\n",
       "    </tr>\n",
       "  </tbody>\n",
       "</table>\n",
       "</div>"
      ],
      "text/plain": [
       "          quiz0  quiz1  quiz2\n",
       "student0     80     90     50\n",
       "student1     87     92     80"
      ]
     },
     "execution_count": 67,
     "metadata": {},
     "output_type": "execute_result"
    }
   ],
   "source": [
    "# rebuild df_quiz\n",
    "quiz_dict = {'quiz0': [80, 87],\n",
    "            'quiz1': [90, 92],\n",
    "            'quiz2': [50, 80]}\n",
    "df_quiz = pd.DataFrame(quiz_dict, index=('student0', 'student1'))\n",
    "df_quiz"
   ]
  },
  {
   "cell_type": "code",
   "execution_count": 68,
   "id": "49a76419-5ab7-4c2e-ab8c-2a9f44d28f2d",
   "metadata": {},
   "outputs": [
    {
     "data": {
      "text/plain": [
       "quiz1     90\n",
       "quiz2    100\n",
       "quiz0     95\n",
       "Name: student3, dtype: int64"
      ]
     },
     "execution_count": 68,
     "metadata": {},
     "output_type": "execute_result"
    }
   ],
   "source": [
    "# notice: name of series ends up on index of dataframe\n",
    "# notice: order of items in series doesnt matter, they're aligned by index\n",
    "s_student3 = pd.Series({'quiz1': 90,\n",
    "                        'quiz2': 100,\n",
    "                        'quiz0': 95},\n",
    "                      name='student3')\n",
    "s_student3"
   ]
  },
  {
   "cell_type": "code",
   "execution_count": 69,
   "id": "108a246e-a63a-4516-bdf3-fdababdaca02",
   "metadata": {},
   "outputs": [
    {
     "data": {
      "text/html": [
       "<div>\n",
       "<style scoped>\n",
       "    .dataframe tbody tr th:only-of-type {\n",
       "        vertical-align: middle;\n",
       "    }\n",
       "\n",
       "    .dataframe tbody tr th {\n",
       "        vertical-align: top;\n",
       "    }\n",
       "\n",
       "    .dataframe thead th {\n",
       "        text-align: right;\n",
       "    }\n",
       "</style>\n",
       "<table border=\"1\" class=\"dataframe\">\n",
       "  <thead>\n",
       "    <tr style=\"text-align: right;\">\n",
       "      <th></th>\n",
       "      <th>quiz0</th>\n",
       "      <th>quiz1</th>\n",
       "      <th>quiz2</th>\n",
       "    </tr>\n",
       "  </thead>\n",
       "  <tbody>\n",
       "    <tr>\n",
       "      <th>student0</th>\n",
       "      <td>80</td>\n",
       "      <td>90</td>\n",
       "      <td>50</td>\n",
       "    </tr>\n",
       "    <tr>\n",
       "      <th>student1</th>\n",
       "      <td>87</td>\n",
       "      <td>92</td>\n",
       "      <td>80</td>\n",
       "    </tr>\n",
       "    <tr>\n",
       "      <th>student3</th>\n",
       "      <td>95</td>\n",
       "      <td>90</td>\n",
       "      <td>100</td>\n",
       "    </tr>\n",
       "  </tbody>\n",
       "</table>\n",
       "</div>"
      ],
      "text/plain": [
       "          quiz0  quiz1  quiz2\n",
       "student0     80     90     50\n",
       "student1     87     92     80\n",
       "student3     95     90    100"
      ]
     },
     "execution_count": 69,
     "metadata": {},
     "output_type": "execute_result"
    }
   ],
   "source": [
    "# add new row to dataframe\n",
    "pd.concat([df_quiz, s_student3.to_frame().T])"
   ]
  },
  {
   "cell_type": "code",
   "execution_count": 70,
   "id": "d11b2db9-1b8c-46ea-9279-8c33f0799414",
   "metadata": {},
   "outputs": [
    {
     "data": {
      "text/html": [
       "<div>\n",
       "<style scoped>\n",
       "    .dataframe tbody tr th:only-of-type {\n",
       "        vertical-align: middle;\n",
       "    }\n",
       "\n",
       "    .dataframe tbody tr th {\n",
       "        vertical-align: top;\n",
       "    }\n",
       "\n",
       "    .dataframe thead th {\n",
       "        text-align: right;\n",
       "    }\n",
       "</style>\n",
       "<table border=\"1\" class=\"dataframe\">\n",
       "  <thead>\n",
       "    <tr style=\"text-align: right;\">\n",
       "      <th></th>\n",
       "      <th>quiz0</th>\n",
       "      <th>quiz1</th>\n",
       "      <th>quiz2</th>\n",
       "    </tr>\n",
       "  </thead>\n",
       "  <tbody>\n",
       "    <tr>\n",
       "      <th>student0</th>\n",
       "      <td>80</td>\n",
       "      <td>90</td>\n",
       "      <td>50</td>\n",
       "    </tr>\n",
       "    <tr>\n",
       "      <th>student1</th>\n",
       "      <td>87</td>\n",
       "      <td>92</td>\n",
       "      <td>80</td>\n",
       "    </tr>\n",
       "  </tbody>\n",
       "</table>\n",
       "</div>"
      ],
      "text/plain": [
       "          quiz0  quiz1  quiz2\n",
       "student0     80     90     50\n",
       "student1     87     92     80"
      ]
     },
     "execution_count": 70,
     "metadata": {},
     "output_type": "execute_result"
    }
   ],
   "source": [
    "# also notice: .concat() returns a copy of df_quiz, it isn't modified above\n",
    "df_quiz"
   ]
  },
  {
   "cell_type": "code",
   "execution_count": 71,
   "id": "c9e25095-9994-4dd5-8a80-a94ff8d018b0",
   "metadata": {},
   "outputs": [
    {
     "data": {
      "text/html": [
       "<div>\n",
       "<style scoped>\n",
       "    .dataframe tbody tr th:only-of-type {\n",
       "        vertical-align: middle;\n",
       "    }\n",
       "\n",
       "    .dataframe tbody tr th {\n",
       "        vertical-align: top;\n",
       "    }\n",
       "\n",
       "    .dataframe thead th {\n",
       "        text-align: right;\n",
       "    }\n",
       "</style>\n",
       "<table border=\"1\" class=\"dataframe\">\n",
       "  <thead>\n",
       "    <tr style=\"text-align: right;\">\n",
       "      <th></th>\n",
       "      <th>quiz0</th>\n",
       "      <th>quiz1</th>\n",
       "      <th>quiz2</th>\n",
       "    </tr>\n",
       "  </thead>\n",
       "  <tbody>\n",
       "    <tr>\n",
       "      <th>student0</th>\n",
       "      <td>80</td>\n",
       "      <td>90</td>\n",
       "      <td>50</td>\n",
       "    </tr>\n",
       "    <tr>\n",
       "      <th>student1</th>\n",
       "      <td>87</td>\n",
       "      <td>92</td>\n",
       "      <td>80</td>\n",
       "    </tr>\n",
       "    <tr>\n",
       "      <th>student3</th>\n",
       "      <td>95</td>\n",
       "      <td>90</td>\n",
       "      <td>100</td>\n",
       "    </tr>\n",
       "  </tbody>\n",
       "</table>\n",
       "</div>"
      ],
      "text/plain": [
       "          quiz0  quiz1  quiz2\n",
       "student0     80     90     50\n",
       "student1     87     92     80\n",
       "student3     95     90    100"
      ]
     },
     "execution_count": 71,
     "metadata": {},
     "output_type": "execute_result"
    }
   ],
   "source": [
    "# thus, must overwrite:\n",
    "df_quiz = pd.concat([df_quiz, s_student3.to_frame().T])\n",
    "df_quiz"
   ]
  },
  {
   "cell_type": "code",
   "execution_count": 72,
   "id": "3e570231-e8ee-4155-a0c1-9011ffb74c55",
   "metadata": {},
   "outputs": [
    {
     "data": {
      "text/html": [
       "<div>\n",
       "<style scoped>\n",
       "    .dataframe tbody tr th:only-of-type {\n",
       "        vertical-align: middle;\n",
       "    }\n",
       "\n",
       "    .dataframe tbody tr th {\n",
       "        vertical-align: top;\n",
       "    }\n",
       "\n",
       "    .dataframe thead th {\n",
       "        text-align: right;\n",
       "    }\n",
       "</style>\n",
       "<table border=\"1\" class=\"dataframe\">\n",
       "  <thead>\n",
       "    <tr style=\"text-align: right;\">\n",
       "      <th></th>\n",
       "      <th>quiz0</th>\n",
       "      <th>quiz1</th>\n",
       "      <th>quiz2</th>\n",
       "      <th>average</th>\n",
       "    </tr>\n",
       "  </thead>\n",
       "  <tbody>\n",
       "    <tr>\n",
       "      <th>student0</th>\n",
       "      <td>80</td>\n",
       "      <td>90</td>\n",
       "      <td>50</td>\n",
       "      <td>73.333333</td>\n",
       "    </tr>\n",
       "    <tr>\n",
       "      <th>student1</th>\n",
       "      <td>87</td>\n",
       "      <td>92</td>\n",
       "      <td>80</td>\n",
       "      <td>86.333333</td>\n",
       "    </tr>\n",
       "    <tr>\n",
       "      <th>student3</th>\n",
       "      <td>95</td>\n",
       "      <td>90</td>\n",
       "      <td>100</td>\n",
       "      <td>95.000000</td>\n",
       "    </tr>\n",
       "  </tbody>\n",
       "</table>\n",
       "</div>"
      ],
      "text/plain": [
       "          quiz0  quiz1  quiz2    average\n",
       "student0     80     90     50  73.333333\n",
       "student1     87     92     80  86.333333\n",
       "student3     95     90    100  95.000000"
      ]
     },
     "execution_count": 72,
     "metadata": {},
     "output_type": "execute_result"
    }
   ],
   "source": [
    "# adding a column that is a function of other columns:\n",
    "df_quiz['average'] = (df_quiz['quiz0'] + df_quiz.quiz1 + df_quiz.quiz2)/3\n",
    "df_quiz"
   ]
  },
  {
   "cell_type": "code",
   "execution_count": 73,
   "id": "7bb02f85-882d-43fe-86f4-52956f1ed05d",
   "metadata": {},
   "outputs": [
    {
     "data": {
      "text/plain": [
       "student0    73.333333\n",
       "student1    86.333333\n",
       "student3    95.000000\n",
       "Name: average, dtype: float64"
      ]
     },
     "execution_count": 73,
     "metadata": {},
     "output_type": "execute_result"
    }
   ],
   "source": [
    "df_quiz.average"
   ]
  },
  {
   "cell_type": "markdown",
   "id": "5a2eb32b-86e7-482b-9f04-bb87accb7734",
   "metadata": {},
   "source": [
    "### Boolean Indexing into DataFrame\n",
    "\n",
    "Sometimes we want to grab only the rows or columns which meet a particular condition.\n",
    "\n",
    "\"Get all rows for the country Belgium\""
   ]
  },
  {
   "cell_type": "code",
   "execution_count": 74,
   "id": "654b5add-08fb-486a-a478-58ca78420eba",
   "metadata": {},
   "outputs": [
    {
     "data": {
      "text/html": [
       "<div>\n",
       "<style scoped>\n",
       "    .dataframe tbody tr th:only-of-type {\n",
       "        vertical-align: middle;\n",
       "    }\n",
       "\n",
       "    .dataframe tbody tr th {\n",
       "        vertical-align: top;\n",
       "    }\n",
       "\n",
       "    .dataframe thead th {\n",
       "        text-align: right;\n",
       "    }\n",
       "</style>\n",
       "<table border=\"1\" class=\"dataframe\">\n",
       "  <thead>\n",
       "    <tr style=\"text-align: right;\">\n",
       "      <th></th>\n",
       "      <th>Country</th>\n",
       "      <th>LifeSat</th>\n",
       "      <th>TrustInOthers</th>\n",
       "    </tr>\n",
       "  </thead>\n",
       "  <tbody>\n",
       "    <tr>\n",
       "      <th>0</th>\n",
       "      <td>Belgium</td>\n",
       "      <td>7.8</td>\n",
       "      <td>6.0</td>\n",
       "    </tr>\n",
       "    <tr>\n",
       "      <th>37</th>\n",
       "      <td>Belgium</td>\n",
       "      <td>7.1</td>\n",
       "      <td>4.8</td>\n",
       "    </tr>\n",
       "    <tr>\n",
       "      <th>69</th>\n",
       "      <td>Belgium</td>\n",
       "      <td>7.2</td>\n",
       "      <td>5.9</td>\n",
       "    </tr>\n",
       "    <tr>\n",
       "      <th>106</th>\n",
       "      <td>Belgium</td>\n",
       "      <td>7.8</td>\n",
       "      <td>6.1</td>\n",
       "    </tr>\n",
       "    <tr>\n",
       "      <th>143</th>\n",
       "      <td>Belgium</td>\n",
       "      <td>7.0</td>\n",
       "      <td>4.7</td>\n",
       "    </tr>\n",
       "    <tr>\n",
       "      <th>178</th>\n",
       "      <td>Belgium</td>\n",
       "      <td>7.3</td>\n",
       "      <td>6.2</td>\n",
       "    </tr>\n",
       "    <tr>\n",
       "      <th>215</th>\n",
       "      <td>Belgium</td>\n",
       "      <td>8.1</td>\n",
       "      <td>6.5</td>\n",
       "    </tr>\n",
       "    <tr>\n",
       "      <th>252</th>\n",
       "      <td>Belgium</td>\n",
       "      <td>7.5</td>\n",
       "      <td>5.8</td>\n",
       "    </tr>\n",
       "    <tr>\n",
       "      <th>289</th>\n",
       "      <td>Belgium</td>\n",
       "      <td>7.7</td>\n",
       "      <td>6.3</td>\n",
       "    </tr>\n",
       "    <tr>\n",
       "      <th>326</th>\n",
       "      <td>Belgium</td>\n",
       "      <td>7.8</td>\n",
       "      <td>6.2</td>\n",
       "    </tr>\n",
       "    <tr>\n",
       "      <th>363</th>\n",
       "      <td>Belgium</td>\n",
       "      <td>7.4</td>\n",
       "      <td>6.0</td>\n",
       "    </tr>\n",
       "    <tr>\n",
       "      <th>400</th>\n",
       "      <td>Belgium</td>\n",
       "      <td>7.4</td>\n",
       "      <td>6.1</td>\n",
       "    </tr>\n",
       "    <tr>\n",
       "      <th>437</th>\n",
       "      <td>Belgium</td>\n",
       "      <td>8.2</td>\n",
       "      <td>7.0</td>\n",
       "    </tr>\n",
       "    <tr>\n",
       "      <th>463</th>\n",
       "      <td>Belgium</td>\n",
       "      <td>7.9</td>\n",
       "      <td>6.3</td>\n",
       "    </tr>\n",
       "    <tr>\n",
       "      <th>500</th>\n",
       "      <td>Belgium</td>\n",
       "      <td>7.9</td>\n",
       "      <td>6.5</td>\n",
       "    </tr>\n",
       "    <tr>\n",
       "      <th>537</th>\n",
       "      <td>Belgium</td>\n",
       "      <td>7.9</td>\n",
       "      <td>6.4</td>\n",
       "    </tr>\n",
       "    <tr>\n",
       "      <th>568</th>\n",
       "      <td>Belgium</td>\n",
       "      <td>7.9</td>\n",
       "      <td>6.5</td>\n",
       "    </tr>\n",
       "    <tr>\n",
       "      <th>605</th>\n",
       "      <td>Belgium</td>\n",
       "      <td>7.9</td>\n",
       "      <td>6.6</td>\n",
       "    </tr>\n",
       "  </tbody>\n",
       "</table>\n",
       "</div>"
      ],
      "text/plain": [
       "     Country  LifeSat  TrustInOthers\n",
       "0    Belgium      7.8            6.0\n",
       "37   Belgium      7.1            4.8\n",
       "69   Belgium      7.2            5.9\n",
       "106  Belgium      7.8            6.1\n",
       "143  Belgium      7.0            4.7\n",
       "178  Belgium      7.3            6.2\n",
       "215  Belgium      8.1            6.5\n",
       "252  Belgium      7.5            5.8\n",
       "289  Belgium      7.7            6.3\n",
       "326  Belgium      7.8            6.2\n",
       "363  Belgium      7.4            6.0\n",
       "400  Belgium      7.4            6.1\n",
       "437  Belgium      8.2            7.0\n",
       "463  Belgium      7.9            6.3\n",
       "500  Belgium      7.9            6.5\n",
       "537  Belgium      7.9            6.4\n",
       "568  Belgium      7.9            6.5\n",
       "605  Belgium      7.9            6.6"
      ]
     },
     "execution_count": 74,
     "metadata": {},
     "output_type": "execute_result"
    }
   ],
   "source": [
    "belgium = df_EUlife.Country == 'Belgium'\n",
    "df_EUlife.loc[belgium,'Country':'TrustInOthers']"
   ]
  },
  {
   "cell_type": "markdown",
   "id": "690cb68e",
   "metadata": {},
   "source": [
    "Or, \"Grab all rows where LifeSat is above 8\""
   ]
  },
  {
   "cell_type": "code",
   "execution_count": null,
   "id": "3fd3a44f-dddd-4ffb-bb53-df37360a1ad9",
   "metadata": {},
   "outputs": [
    {
     "data": {
      "text/html": [
       "<div>\n",
       "<style scoped>\n",
       "    .dataframe tbody tr th:only-of-type {\n",
       "        vertical-align: middle;\n",
       "    }\n",
       "\n",
       "    .dataframe tbody tr th {\n",
       "        vertical-align: top;\n",
       "    }\n",
       "\n",
       "    .dataframe thead th {\n",
       "        text-align: right;\n",
       "    }\n",
       "</style>\n",
       "<table border=\"1\" class=\"dataframe\">\n",
       "  <thead>\n",
       "    <tr style=\"text-align: right;\">\n",
       "      <th></th>\n",
       "      <th>Country</th>\n",
       "      <th>LifeSat</th>\n",
       "      <th>TrustInOthers</th>\n",
       "      <th>Sex</th>\n",
       "      <th>AgeClass</th>\n",
       "      <th>EducationClass</th>\n",
       "    </tr>\n",
       "  </thead>\n",
       "  <tbody>\n",
       "    <tr>\n",
       "      <th>2</th>\n",
       "      <td>Czechia</td>\n",
       "      <td>8.3</td>\n",
       "      <td>5.5</td>\n",
       "      <td>Male</td>\n",
       "      <td>Youth</td>\n",
       "      <td>Primary</td>\n",
       "    </tr>\n",
       "    <tr>\n",
       "      <th>6</th>\n",
       "      <td>Ireland</td>\n",
       "      <td>8.9</td>\n",
       "      <td>7.9</td>\n",
       "      <td>Male</td>\n",
       "      <td>Youth</td>\n",
       "      <td>Primary</td>\n",
       "    </tr>\n",
       "    <tr>\n",
       "      <th>9</th>\n",
       "      <td>France</td>\n",
       "      <td>8.4</td>\n",
       "      <td>6.0</td>\n",
       "      <td>Male</td>\n",
       "      <td>Youth</td>\n",
       "      <td>Primary</td>\n",
       "    </tr>\n",
       "    <tr>\n",
       "      <th>10</th>\n",
       "      <td>Croatia</td>\n",
       "      <td>8.4</td>\n",
       "      <td>6.2</td>\n",
       "      <td>Male</td>\n",
       "      <td>Youth</td>\n",
       "      <td>Primary</td>\n",
       "    </tr>\n",
       "    <tr>\n",
       "      <th>19</th>\n",
       "      <td>Austria</td>\n",
       "      <td>8.6</td>\n",
       "      <td>6.2</td>\n",
       "      <td>Male</td>\n",
       "      <td>Youth</td>\n",
       "      <td>Primary</td>\n",
       "    </tr>\n",
       "    <tr>\n",
       "      <th>...</th>\n",
       "      <td>...</td>\n",
       "      <td>...</td>\n",
       "      <td>...</td>\n",
       "      <td>...</td>\n",
       "      <td>...</td>\n",
       "      <td>...</td>\n",
       "    </tr>\n",
       "    <tr>\n",
       "      <th>630</th>\n",
       "      <td>Finland</td>\n",
       "      <td>8.3</td>\n",
       "      <td>7.8</td>\n",
       "      <td>Female</td>\n",
       "      <td>Senior</td>\n",
       "      <td>Tertiary</td>\n",
       "    </tr>\n",
       "    <tr>\n",
       "      <th>631</th>\n",
       "      <td>Sweden</td>\n",
       "      <td>8.1</td>\n",
       "      <td>6.2</td>\n",
       "      <td>Female</td>\n",
       "      <td>Senior</td>\n",
       "      <td>Tertiary</td>\n",
       "    </tr>\n",
       "    <tr>\n",
       "      <th>632</th>\n",
       "      <td>Iceland</td>\n",
       "      <td>8.4</td>\n",
       "      <td>6.8</td>\n",
       "      <td>Female</td>\n",
       "      <td>Senior</td>\n",
       "      <td>Tertiary</td>\n",
       "    </tr>\n",
       "    <tr>\n",
       "      <th>633</th>\n",
       "      <td>Norway</td>\n",
       "      <td>8.2</td>\n",
       "      <td>7.0</td>\n",
       "      <td>Female</td>\n",
       "      <td>Senior</td>\n",
       "      <td>Tertiary</td>\n",
       "    </tr>\n",
       "    <tr>\n",
       "      <th>634</th>\n",
       "      <td>Switzerland</td>\n",
       "      <td>8.6</td>\n",
       "      <td>7.1</td>\n",
       "      <td>Female</td>\n",
       "      <td>Senior</td>\n",
       "      <td>Tertiary</td>\n",
       "    </tr>\n",
       "  </tbody>\n",
       "</table>\n",
       "<p>116 rows × 6 columns</p>\n",
       "</div>"
      ],
      "text/plain": [
       "         Country  LifeSat  TrustInOthers     Sex AgeClass EducationClass\n",
       "2        Czechia      8.3            5.5    Male    Youth        Primary\n",
       "6        Ireland      8.9            7.9    Male    Youth        Primary\n",
       "9         France      8.4            6.0    Male    Youth        Primary\n",
       "10       Croatia      8.4            6.2    Male    Youth        Primary\n",
       "19       Austria      8.6            6.2    Male    Youth        Primary\n",
       "..           ...      ...            ...     ...      ...            ...\n",
       "630      Finland      8.3            7.8  Female   Senior       Tertiary\n",
       "631       Sweden      8.1            6.2  Female   Senior       Tertiary\n",
       "632      Iceland      8.4            6.8  Female   Senior       Tertiary\n",
       "633       Norway      8.2            7.0  Female   Senior       Tertiary\n",
       "634  Switzerland      8.6            7.1  Female   Senior       Tertiary\n",
       "\n",
       "[116 rows x 6 columns]"
      ]
     },
     "execution_count": 75,
     "metadata": {},
     "output_type": "execute_result"
    }
   ],
   "source": [
    "# try it here\n"
   ]
  },
  {
   "cell_type": "code",
   "execution_count": 76,
   "id": "61a1adb2-b5d1-4b3c-bd42-830081b2974c",
   "metadata": {},
   "outputs": [
    {
     "data": {
      "text/plain": [
       "student0     True\n",
       "student1    False\n",
       "student3    False\n",
       "dtype: bool"
      ]
     },
     "execution_count": 76,
     "metadata": {},
     "output_type": "execute_result"
    }
   ],
   "source": [
    "# we can build more complex conditions using \n",
    "# & (and operator)\n",
    "# | (or operator)\n",
    "\n",
    "# all students who got at least an 80 on quiz1 but scored less than 75 on quiz2\n",
    "s_bool = (df_quiz.quiz1 >= 80) & (df_quiz.quiz2  < 75)\n",
    "s_bool"
   ]
  },
  {
   "cell_type": "code",
   "execution_count": 77,
   "id": "94f1391b-f9e6-43e6-802b-894534da58ac",
   "metadata": {},
   "outputs": [
    {
     "data": {
      "text/html": [
       "<div>\n",
       "<style scoped>\n",
       "    .dataframe tbody tr th:only-of-type {\n",
       "        vertical-align: middle;\n",
       "    }\n",
       "\n",
       "    .dataframe tbody tr th {\n",
       "        vertical-align: top;\n",
       "    }\n",
       "\n",
       "    .dataframe thead th {\n",
       "        text-align: right;\n",
       "    }\n",
       "</style>\n",
       "<table border=\"1\" class=\"dataframe\">\n",
       "  <thead>\n",
       "    <tr style=\"text-align: right;\">\n",
       "      <th></th>\n",
       "      <th>quiz0</th>\n",
       "      <th>quiz1</th>\n",
       "      <th>quiz2</th>\n",
       "      <th>average</th>\n",
       "    </tr>\n",
       "  </thead>\n",
       "  <tbody>\n",
       "    <tr>\n",
       "      <th>student0</th>\n",
       "      <td>80</td>\n",
       "      <td>90</td>\n",
       "      <td>50</td>\n",
       "      <td>73.333333</td>\n",
       "    </tr>\n",
       "  </tbody>\n",
       "</table>\n",
       "</div>"
      ],
      "text/plain": [
       "          quiz0  quiz1  quiz2    average\n",
       "student0     80     90     50  73.333333"
      ]
     },
     "execution_count": 77,
     "metadata": {},
     "output_type": "execute_result"
    }
   ],
   "source": [
    "df_quiz.loc[s_bool, :]"
   ]
  },
  {
   "cell_type": "markdown",
   "id": "f6fb476f-c3c3-4d2e-94dd-904b0b47e0eb",
   "metadata": {},
   "source": [
    "# Loading Data into Pandas\n",
    "## More on this after the Data Lab\n",
    "\n",
    "Data comes from many places:\n",
    "- Web Scraping\n",
    "- Application Program Interface (API)\n",
    "- SQL\n",
    "- local file:\n",
    "    - csv\n",
    "    - JSON\n",
    "    - fixed width tables (HTML)\n",
    "    \n",
    "### Pandas functions which load data\n",
    "| Mode | Description\n",
    "| ------ | :------\n",
    "| **`read_csv`** | Load comma seperated values data from a file or URL (other delimeters too!)\n",
    "| **`read_xlsx`** | Read data in xls format (Mircosoft Excel)\n",
    "| **`read-fwf`** | Read data in fixed-width column format (i.e., no delimiters such as tab-separated txt files)\n",
    "| **`read_clipboard`** | Version of read_csv that reads data from the clipboard; useful for converting tables from web pages\n",
    "| **`read_html`** | Read all tables contained in the given HTML document.\n",
    "| **`read_json`** | Read data from a JSON (JavaScript Object Notation) string representation"
   ]
  },
  {
   "cell_type": "markdown",
   "id": "e6cf94e1-8668-422e-b957-231b1e7323da",
   "metadata": {},
   "source": [
    "## Reading local or non-local CSVs into Pandas\n",
    "- read_csv\n",
    "- index_col\n",
    "- header"
   ]
  },
  {
   "cell_type": "code",
   "execution_count": 78,
   "id": "df89b799-59ec-4fc5-8f18-96a9caff89ce",
   "metadata": {},
   "outputs": [
    {
     "data": {
      "text/html": [
       "<div>\n",
       "<style scoped>\n",
       "    .dataframe tbody tr th:only-of-type {\n",
       "        vertical-align: middle;\n",
       "    }\n",
       "\n",
       "    .dataframe tbody tr th {\n",
       "        vertical-align: top;\n",
       "    }\n",
       "\n",
       "    .dataframe thead th {\n",
       "        text-align: right;\n",
       "    }\n",
       "</style>\n",
       "<table border=\"1\" class=\"dataframe\">\n",
       "  <thead>\n",
       "    <tr style=\"text-align: right;\">\n",
       "      <th></th>\n",
       "      <th>Country</th>\n",
       "      <th>LifeSat</th>\n",
       "      <th>TrustInOthers</th>\n",
       "      <th>Sex</th>\n",
       "      <th>AgeClass</th>\n",
       "      <th>EducationClass</th>\n",
       "    </tr>\n",
       "  </thead>\n",
       "  <tbody>\n",
       "    <tr>\n",
       "      <th>0</th>\n",
       "      <td>Belgium</td>\n",
       "      <td>7.8</td>\n",
       "      <td>6.0</td>\n",
       "      <td>Male</td>\n",
       "      <td>Youth</td>\n",
       "      <td>Primary</td>\n",
       "    </tr>\n",
       "    <tr>\n",
       "      <th>1</th>\n",
       "      <td>Bulgaria</td>\n",
       "      <td>7.0</td>\n",
       "      <td>5.1</td>\n",
       "      <td>Male</td>\n",
       "      <td>Youth</td>\n",
       "      <td>Primary</td>\n",
       "    </tr>\n",
       "    <tr>\n",
       "      <th>2</th>\n",
       "      <td>Czechia</td>\n",
       "      <td>8.3</td>\n",
       "      <td>5.5</td>\n",
       "      <td>Male</td>\n",
       "      <td>Youth</td>\n",
       "      <td>Primary</td>\n",
       "    </tr>\n",
       "    <tr>\n",
       "      <th>3</th>\n",
       "      <td>Denmark</td>\n",
       "      <td>7.7</td>\n",
       "      <td>5.0</td>\n",
       "      <td>Male</td>\n",
       "      <td>Youth</td>\n",
       "      <td>Primary</td>\n",
       "    </tr>\n",
       "    <tr>\n",
       "      <th>4</th>\n",
       "      <td>Germany</td>\n",
       "      <td>7.7</td>\n",
       "      <td>5.4</td>\n",
       "      <td>Male</td>\n",
       "      <td>Youth</td>\n",
       "      <td>Primary</td>\n",
       "    </tr>\n",
       "  </tbody>\n",
       "</table>\n",
       "</div>"
      ],
      "text/plain": [
       "    Country  LifeSat  TrustInOthers   Sex AgeClass EducationClass\n",
       "0   Belgium      7.8            6.0  Male    Youth        Primary\n",
       "1  Bulgaria      7.0            5.1  Male    Youth        Primary\n",
       "2   Czechia      8.3            5.5  Male    Youth        Primary\n",
       "3   Denmark      7.7            5.0  Male    Youth        Primary\n",
       "4   Germany      7.7            5.4  Male    Youth        Primary"
      ]
     },
     "execution_count": 78,
     "metadata": {},
     "output_type": "execute_result"
    }
   ],
   "source": [
    "# recall how we got our data from before\n",
    "import pandas as pd\n",
    "\n",
    "# from a url (in this case, Dr. Gerber's GitHub)\n",
    "url = 'https://raw.githubusercontent.com/eaegerber/data/main/EU_life_sat.csv'\n",
    "df_EUlife = pd.read_csv(url, encoding='unicode_escape')\n",
    "df_EUlife.head()"
   ]
  },
  {
   "cell_type": "code",
   "execution_count": 79,
   "id": "5151dab6-94fa-4f57-9bf6-7160ce114174",
   "metadata": {},
   "outputs": [
    {
     "data": {
      "text/html": [
       "<div>\n",
       "<style scoped>\n",
       "    .dataframe tbody tr th:only-of-type {\n",
       "        vertical-align: middle;\n",
       "    }\n",
       "\n",
       "    .dataframe tbody tr th {\n",
       "        vertical-align: top;\n",
       "    }\n",
       "\n",
       "    .dataframe thead th {\n",
       "        text-align: right;\n",
       "    }\n",
       "</style>\n",
       "<table border=\"1\" class=\"dataframe\">\n",
       "  <thead>\n",
       "    <tr style=\"text-align: right;\">\n",
       "      <th></th>\n",
       "      <th>Fake Host ID</th>\n",
       "      <th>City</th>\n",
       "      <th>Price</th>\n",
       "      <th>Day</th>\n",
       "      <th>Room Type</th>\n",
       "      <th>Shared Room</th>\n",
       "      <th>Private Room</th>\n",
       "      <th>Person Capacity</th>\n",
       "      <th>Superhost</th>\n",
       "      <th>Multiple Rooms</th>\n",
       "      <th>Business</th>\n",
       "      <th>Cleanliness Rating</th>\n",
       "      <th>Guest Satisfaction</th>\n",
       "      <th>Bedrooms</th>\n",
       "      <th>City Center (km)</th>\n",
       "      <th>Metro Distance (km)</th>\n",
       "      <th>Attraction Index</th>\n",
       "      <th>Normalised Attraction Index</th>\n",
       "      <th>Restraunt Index</th>\n",
       "      <th>Normalised Restraunt Index</th>\n",
       "    </tr>\n",
       "  </thead>\n",
       "  <tbody>\n",
       "    <tr>\n",
       "      <th>0</th>\n",
       "      <td>22969</td>\n",
       "      <td>Amsterdam</td>\n",
       "      <td>194.033698</td>\n",
       "      <td>Weekday</td>\n",
       "      <td>Private room</td>\n",
       "      <td>False</td>\n",
       "      <td>True</td>\n",
       "      <td>2</td>\n",
       "      <td>False</td>\n",
       "      <td>1</td>\n",
       "      <td>0</td>\n",
       "      <td>10</td>\n",
       "      <td>93</td>\n",
       "      <td>1</td>\n",
       "      <td>5.022964</td>\n",
       "      <td>2.539380</td>\n",
       "      <td>78.690379</td>\n",
       "      <td>4.166708</td>\n",
       "      <td>98.253896</td>\n",
       "      <td>6.846473</td>\n",
       "    </tr>\n",
       "    <tr>\n",
       "      <th>1</th>\n",
       "      <td>13957</td>\n",
       "      <td>Amsterdam</td>\n",
       "      <td>344.245776</td>\n",
       "      <td>Weekday</td>\n",
       "      <td>Private room</td>\n",
       "      <td>False</td>\n",
       "      <td>True</td>\n",
       "      <td>4</td>\n",
       "      <td>False</td>\n",
       "      <td>0</td>\n",
       "      <td>0</td>\n",
       "      <td>8</td>\n",
       "      <td>85</td>\n",
       "      <td>1</td>\n",
       "      <td>0.488389</td>\n",
       "      <td>0.239404</td>\n",
       "      <td>631.176378</td>\n",
       "      <td>33.421209</td>\n",
       "      <td>837.280757</td>\n",
       "      <td>58.342928</td>\n",
       "    </tr>\n",
       "    <tr>\n",
       "      <th>2</th>\n",
       "      <td>4918</td>\n",
       "      <td>Amsterdam</td>\n",
       "      <td>264.101422</td>\n",
       "      <td>Weekday</td>\n",
       "      <td>Private room</td>\n",
       "      <td>False</td>\n",
       "      <td>True</td>\n",
       "      <td>2</td>\n",
       "      <td>False</td>\n",
       "      <td>0</td>\n",
       "      <td>1</td>\n",
       "      <td>9</td>\n",
       "      <td>87</td>\n",
       "      <td>1</td>\n",
       "      <td>5.748312</td>\n",
       "      <td>3.651621</td>\n",
       "      <td>75.275877</td>\n",
       "      <td>3.985908</td>\n",
       "      <td>95.386955</td>\n",
       "      <td>6.646700</td>\n",
       "    </tr>\n",
       "    <tr>\n",
       "      <th>3</th>\n",
       "      <td>20329</td>\n",
       "      <td>Amsterdam</td>\n",
       "      <td>433.529398</td>\n",
       "      <td>Weekday</td>\n",
       "      <td>Private room</td>\n",
       "      <td>False</td>\n",
       "      <td>True</td>\n",
       "      <td>4</td>\n",
       "      <td>False</td>\n",
       "      <td>0</td>\n",
       "      <td>1</td>\n",
       "      <td>9</td>\n",
       "      <td>90</td>\n",
       "      <td>2</td>\n",
       "      <td>0.384862</td>\n",
       "      <td>0.439876</td>\n",
       "      <td>493.272534</td>\n",
       "      <td>26.119108</td>\n",
       "      <td>875.033098</td>\n",
       "      <td>60.973565</td>\n",
       "    </tr>\n",
       "    <tr>\n",
       "      <th>4</th>\n",
       "      <td>38906</td>\n",
       "      <td>Amsterdam</td>\n",
       "      <td>485.552926</td>\n",
       "      <td>Weekday</td>\n",
       "      <td>Private room</td>\n",
       "      <td>False</td>\n",
       "      <td>True</td>\n",
       "      <td>2</td>\n",
       "      <td>True</td>\n",
       "      <td>0</td>\n",
       "      <td>0</td>\n",
       "      <td>10</td>\n",
       "      <td>98</td>\n",
       "      <td>1</td>\n",
       "      <td>0.544738</td>\n",
       "      <td>0.318693</td>\n",
       "      <td>552.830324</td>\n",
       "      <td>29.272733</td>\n",
       "      <td>815.305740</td>\n",
       "      <td>56.811677</td>\n",
       "    </tr>\n",
       "  </tbody>\n",
       "</table>\n",
       "</div>"
      ],
      "text/plain": [
       "   Fake Host ID       City       Price      Day     Room Type  Shared Room  \\\n",
       "0         22969  Amsterdam  194.033698  Weekday  Private room        False   \n",
       "1         13957  Amsterdam  344.245776  Weekday  Private room        False   \n",
       "2          4918  Amsterdam  264.101422  Weekday  Private room        False   \n",
       "3         20329  Amsterdam  433.529398  Weekday  Private room        False   \n",
       "4         38906  Amsterdam  485.552926  Weekday  Private room        False   \n",
       "\n",
       "   Private Room  Person Capacity  Superhost  Multiple Rooms  Business  \\\n",
       "0          True                2      False               1         0   \n",
       "1          True                4      False               0         0   \n",
       "2          True                2      False               0         1   \n",
       "3          True                4      False               0         1   \n",
       "4          True                2       True               0         0   \n",
       "\n",
       "   Cleanliness Rating  Guest Satisfaction  Bedrooms  City Center (km)  \\\n",
       "0                  10                  93         1          5.022964   \n",
       "1                   8                  85         1          0.488389   \n",
       "2                   9                  87         1          5.748312   \n",
       "3                   9                  90         2          0.384862   \n",
       "4                  10                  98         1          0.544738   \n",
       "\n",
       "   Metro Distance (km)  Attraction Index  Normalised Attraction Index  \\\n",
       "0             2.539380         78.690379                     4.166708   \n",
       "1             0.239404        631.176378                    33.421209   \n",
       "2             3.651621         75.275877                     3.985908   \n",
       "3             0.439876        493.272534                    26.119108   \n",
       "4             0.318693        552.830324                    29.272733   \n",
       "\n",
       "   Restraunt Index  Normalised Restraunt Index  \n",
       "0        98.253896                    6.846473  \n",
       "1       837.280757                   58.342928  \n",
       "2        95.386955                    6.646700  \n",
       "3       875.033098                   60.973565  \n",
       "4       815.305740                   56.811677  "
      ]
     },
     "execution_count": 79,
     "metadata": {},
     "output_type": "execute_result"
    }
   ],
   "source": [
    "# from a local file\n",
    "# downloaded this .csv from Kaggle (https://www.kaggle.com/datasets/dipeshkhemani/airbnb-cleaned-europe-dataset?resource=download)\n",
    "# it contains Airbnb stays in Europe with the type of stay, prices and how far it is from the metro distance and city centre and many other details\n",
    "# note: file must be in same folder as jupyter notebook\n",
    "df_EUABnB = pd.read_csv('Aemf1.csv')\n",
    "df_EUABnB.head()"
   ]
  },
  {
   "cell_type": "code",
   "execution_count": 80,
   "id": "23df6eee-8c61-495b-8de2-8268e6f8a667",
   "metadata": {},
   "outputs": [
    {
     "data": {
      "text/html": [
       "<div>\n",
       "<style scoped>\n",
       "    .dataframe tbody tr th:only-of-type {\n",
       "        vertical-align: middle;\n",
       "    }\n",
       "\n",
       "    .dataframe tbody tr th {\n",
       "        vertical-align: top;\n",
       "    }\n",
       "\n",
       "    .dataframe thead th {\n",
       "        text-align: right;\n",
       "    }\n",
       "</style>\n",
       "<table border=\"1\" class=\"dataframe\">\n",
       "  <thead>\n",
       "    <tr style=\"text-align: right;\">\n",
       "      <th></th>\n",
       "      <th>City</th>\n",
       "      <th>Price</th>\n",
       "      <th>Day</th>\n",
       "      <th>Room Type</th>\n",
       "      <th>Shared Room</th>\n",
       "      <th>Private Room</th>\n",
       "      <th>Person Capacity</th>\n",
       "      <th>Superhost</th>\n",
       "      <th>Multiple Rooms</th>\n",
       "      <th>Business</th>\n",
       "      <th>Cleanliness Rating</th>\n",
       "      <th>Guest Satisfaction</th>\n",
       "      <th>Bedrooms</th>\n",
       "      <th>City Center (km)</th>\n",
       "      <th>Metro Distance (km)</th>\n",
       "      <th>Attraction Index</th>\n",
       "      <th>Normalised Attraction Index</th>\n",
       "      <th>Restraunt Index</th>\n",
       "      <th>Normalised Restraunt Index</th>\n",
       "    </tr>\n",
       "    <tr>\n",
       "      <th>Fake Host ID</th>\n",
       "      <th></th>\n",
       "      <th></th>\n",
       "      <th></th>\n",
       "      <th></th>\n",
       "      <th></th>\n",
       "      <th></th>\n",
       "      <th></th>\n",
       "      <th></th>\n",
       "      <th></th>\n",
       "      <th></th>\n",
       "      <th></th>\n",
       "      <th></th>\n",
       "      <th></th>\n",
       "      <th></th>\n",
       "      <th></th>\n",
       "      <th></th>\n",
       "      <th></th>\n",
       "      <th></th>\n",
       "      <th></th>\n",
       "    </tr>\n",
       "  </thead>\n",
       "  <tbody>\n",
       "    <tr>\n",
       "      <th>22969</th>\n",
       "      <td>Amsterdam</td>\n",
       "      <td>194.033698</td>\n",
       "      <td>Weekday</td>\n",
       "      <td>Private room</td>\n",
       "      <td>False</td>\n",
       "      <td>True</td>\n",
       "      <td>2</td>\n",
       "      <td>False</td>\n",
       "      <td>1</td>\n",
       "      <td>0</td>\n",
       "      <td>10</td>\n",
       "      <td>93</td>\n",
       "      <td>1</td>\n",
       "      <td>5.022964</td>\n",
       "      <td>2.539380</td>\n",
       "      <td>78.690379</td>\n",
       "      <td>4.166708</td>\n",
       "      <td>98.253896</td>\n",
       "      <td>6.846473</td>\n",
       "    </tr>\n",
       "    <tr>\n",
       "      <th>13957</th>\n",
       "      <td>Amsterdam</td>\n",
       "      <td>344.245776</td>\n",
       "      <td>Weekday</td>\n",
       "      <td>Private room</td>\n",
       "      <td>False</td>\n",
       "      <td>True</td>\n",
       "      <td>4</td>\n",
       "      <td>False</td>\n",
       "      <td>0</td>\n",
       "      <td>0</td>\n",
       "      <td>8</td>\n",
       "      <td>85</td>\n",
       "      <td>1</td>\n",
       "      <td>0.488389</td>\n",
       "      <td>0.239404</td>\n",
       "      <td>631.176378</td>\n",
       "      <td>33.421209</td>\n",
       "      <td>837.280757</td>\n",
       "      <td>58.342928</td>\n",
       "    </tr>\n",
       "    <tr>\n",
       "      <th>4918</th>\n",
       "      <td>Amsterdam</td>\n",
       "      <td>264.101422</td>\n",
       "      <td>Weekday</td>\n",
       "      <td>Private room</td>\n",
       "      <td>False</td>\n",
       "      <td>True</td>\n",
       "      <td>2</td>\n",
       "      <td>False</td>\n",
       "      <td>0</td>\n",
       "      <td>1</td>\n",
       "      <td>9</td>\n",
       "      <td>87</td>\n",
       "      <td>1</td>\n",
       "      <td>5.748312</td>\n",
       "      <td>3.651621</td>\n",
       "      <td>75.275877</td>\n",
       "      <td>3.985908</td>\n",
       "      <td>95.386955</td>\n",
       "      <td>6.646700</td>\n",
       "    </tr>\n",
       "    <tr>\n",
       "      <th>20329</th>\n",
       "      <td>Amsterdam</td>\n",
       "      <td>433.529398</td>\n",
       "      <td>Weekday</td>\n",
       "      <td>Private room</td>\n",
       "      <td>False</td>\n",
       "      <td>True</td>\n",
       "      <td>4</td>\n",
       "      <td>False</td>\n",
       "      <td>0</td>\n",
       "      <td>1</td>\n",
       "      <td>9</td>\n",
       "      <td>90</td>\n",
       "      <td>2</td>\n",
       "      <td>0.384862</td>\n",
       "      <td>0.439876</td>\n",
       "      <td>493.272534</td>\n",
       "      <td>26.119108</td>\n",
       "      <td>875.033098</td>\n",
       "      <td>60.973565</td>\n",
       "    </tr>\n",
       "    <tr>\n",
       "      <th>38906</th>\n",
       "      <td>Amsterdam</td>\n",
       "      <td>485.552926</td>\n",
       "      <td>Weekday</td>\n",
       "      <td>Private room</td>\n",
       "      <td>False</td>\n",
       "      <td>True</td>\n",
       "      <td>2</td>\n",
       "      <td>True</td>\n",
       "      <td>0</td>\n",
       "      <td>0</td>\n",
       "      <td>10</td>\n",
       "      <td>98</td>\n",
       "      <td>1</td>\n",
       "      <td>0.544738</td>\n",
       "      <td>0.318693</td>\n",
       "      <td>552.830324</td>\n",
       "      <td>29.272733</td>\n",
       "      <td>815.305740</td>\n",
       "      <td>56.811677</td>\n",
       "    </tr>\n",
       "  </tbody>\n",
       "</table>\n",
       "</div>"
      ],
      "text/plain": [
       "                   City       Price      Day     Room Type  Shared Room  \\\n",
       "Fake Host ID                                                              \n",
       "22969         Amsterdam  194.033698  Weekday  Private room        False   \n",
       "13957         Amsterdam  344.245776  Weekday  Private room        False   \n",
       "4918          Amsterdam  264.101422  Weekday  Private room        False   \n",
       "20329         Amsterdam  433.529398  Weekday  Private room        False   \n",
       "38906         Amsterdam  485.552926  Weekday  Private room        False   \n",
       "\n",
       "              Private Room  Person Capacity  Superhost  Multiple Rooms  \\\n",
       "Fake Host ID                                                             \n",
       "22969                 True                2      False               1   \n",
       "13957                 True                4      False               0   \n",
       "4918                  True                2      False               0   \n",
       "20329                 True                4      False               0   \n",
       "38906                 True                2       True               0   \n",
       "\n",
       "              Business  Cleanliness Rating  Guest Satisfaction  Bedrooms  \\\n",
       "Fake Host ID                                                               \n",
       "22969                0                  10                  93         1   \n",
       "13957                0                   8                  85         1   \n",
       "4918                 1                   9                  87         1   \n",
       "20329                1                   9                  90         2   \n",
       "38906                0                  10                  98         1   \n",
       "\n",
       "              City Center (km)  Metro Distance (km)  Attraction Index  \\\n",
       "Fake Host ID                                                            \n",
       "22969                 5.022964             2.539380         78.690379   \n",
       "13957                 0.488389             0.239404        631.176378   \n",
       "4918                  5.748312             3.651621         75.275877   \n",
       "20329                 0.384862             0.439876        493.272534   \n",
       "38906                 0.544738             0.318693        552.830324   \n",
       "\n",
       "              Normalised Attraction Index  Restraunt Index  \\\n",
       "Fake Host ID                                                 \n",
       "22969                            4.166708        98.253896   \n",
       "13957                           33.421209       837.280757   \n",
       "4918                             3.985908        95.386955   \n",
       "20329                           26.119108       875.033098   \n",
       "38906                           29.272733       815.305740   \n",
       "\n",
       "              Normalised Restraunt Index  \n",
       "Fake Host ID                              \n",
       "22969                           6.846473  \n",
       "13957                          58.342928  \n",
       "4918                            6.646700  \n",
       "20329                          60.973565  \n",
       "38906                          56.811677  "
      ]
     },
     "execution_count": 80,
     "metadata": {},
     "output_type": "execute_result"
    }
   ],
   "source": [
    "# how to specify index col (make sure this is uniquely identifiable!)\n",
    "df_EUABnB = pd.read_csv('Aemf1.csv', index_col='Fake Host ID')\n",
    "df_EUABnB.head()"
   ]
  },
  {
   "cell_type": "code",
   "execution_count": 81,
   "id": "862a9a05-2b95-4407-ac98-f4a00e6eb414",
   "metadata": {},
   "outputs": [
    {
     "data": {
      "text/html": [
       "<div>\n",
       "<style scoped>\n",
       "    .dataframe tbody tr th:only-of-type {\n",
       "        vertical-align: middle;\n",
       "    }\n",
       "\n",
       "    .dataframe tbody tr th {\n",
       "        vertical-align: top;\n",
       "    }\n",
       "\n",
       "    .dataframe thead th {\n",
       "        text-align: right;\n",
       "    }\n",
       "</style>\n",
       "<table border=\"1\" class=\"dataframe\">\n",
       "  <thead>\n",
       "    <tr style=\"text-align: right;\">\n",
       "      <th></th>\n",
       "      <th>City</th>\n",
       "      <th>Price</th>\n",
       "      <th>Day</th>\n",
       "      <th>Room Type</th>\n",
       "      <th>Shared Room</th>\n",
       "      <th>Private Room</th>\n",
       "      <th>Person Capacity</th>\n",
       "      <th>Superhost</th>\n",
       "      <th>Multiple Rooms</th>\n",
       "      <th>Business</th>\n",
       "      <th>Cleanliness Rating</th>\n",
       "      <th>Guest Satisfaction</th>\n",
       "      <th>Bedrooms</th>\n",
       "      <th>City Center (km)</th>\n",
       "      <th>Metro Distance (km)</th>\n",
       "      <th>Attraction Index</th>\n",
       "      <th>Normalised Attraction Index</th>\n",
       "      <th>Restraunt Index</th>\n",
       "      <th>Normalised Restraunt Index</th>\n",
       "    </tr>\n",
       "    <tr>\n",
       "      <th>Fake Host ID</th>\n",
       "      <th></th>\n",
       "      <th></th>\n",
       "      <th></th>\n",
       "      <th></th>\n",
       "      <th></th>\n",
       "      <th></th>\n",
       "      <th></th>\n",
       "      <th></th>\n",
       "      <th></th>\n",
       "      <th></th>\n",
       "      <th></th>\n",
       "      <th></th>\n",
       "      <th></th>\n",
       "      <th></th>\n",
       "      <th></th>\n",
       "      <th></th>\n",
       "      <th></th>\n",
       "      <th></th>\n",
       "      <th></th>\n",
       "    </tr>\n",
       "  </thead>\n",
       "  <tbody>\n",
       "    <tr>\n",
       "      <th>35231</th>\n",
       "      <td>Vienna</td>\n",
       "      <td>715.938574</td>\n",
       "      <td>Weekend</td>\n",
       "      <td>Entire home/apt</td>\n",
       "      <td>False</td>\n",
       "      <td>False</td>\n",
       "      <td>6</td>\n",
       "      <td>False</td>\n",
       "      <td>0</td>\n",
       "      <td>1</td>\n",
       "      <td>10</td>\n",
       "      <td>100</td>\n",
       "      <td>3</td>\n",
       "      <td>0.530181</td>\n",
       "      <td>0.135447</td>\n",
       "      <td>219.402478</td>\n",
       "      <td>15.712158</td>\n",
       "      <td>438.756874</td>\n",
       "      <td>10.604584</td>\n",
       "    </tr>\n",
       "    <tr>\n",
       "      <th>25448</th>\n",
       "      <td>Vienna</td>\n",
       "      <td>304.793960</td>\n",
       "      <td>Weekend</td>\n",
       "      <td>Entire home/apt</td>\n",
       "      <td>False</td>\n",
       "      <td>False</td>\n",
       "      <td>2</td>\n",
       "      <td>False</td>\n",
       "      <td>0</td>\n",
       "      <td>0</td>\n",
       "      <td>8</td>\n",
       "      <td>86</td>\n",
       "      <td>1</td>\n",
       "      <td>0.810205</td>\n",
       "      <td>0.100839</td>\n",
       "      <td>204.970121</td>\n",
       "      <td>14.678608</td>\n",
       "      <td>342.182813</td>\n",
       "      <td>8.270427</td>\n",
       "    </tr>\n",
       "    <tr>\n",
       "      <th>25353</th>\n",
       "      <td>Vienna</td>\n",
       "      <td>637.168969</td>\n",
       "      <td>Weekend</td>\n",
       "      <td>Entire home/apt</td>\n",
       "      <td>False</td>\n",
       "      <td>False</td>\n",
       "      <td>2</td>\n",
       "      <td>False</td>\n",
       "      <td>0</td>\n",
       "      <td>0</td>\n",
       "      <td>10</td>\n",
       "      <td>93</td>\n",
       "      <td>1</td>\n",
       "      <td>0.994051</td>\n",
       "      <td>0.202539</td>\n",
       "      <td>169.073402</td>\n",
       "      <td>12.107921</td>\n",
       "      <td>282.296424</td>\n",
       "      <td>6.822996</td>\n",
       "    </tr>\n",
       "    <tr>\n",
       "      <th>26349</th>\n",
       "      <td>Vienna</td>\n",
       "      <td>301.054157</td>\n",
       "      <td>Weekend</td>\n",
       "      <td>Private room</td>\n",
       "      <td>False</td>\n",
       "      <td>True</td>\n",
       "      <td>2</td>\n",
       "      <td>False</td>\n",
       "      <td>0</td>\n",
       "      <td>0</td>\n",
       "      <td>10</td>\n",
       "      <td>87</td>\n",
       "      <td>1</td>\n",
       "      <td>3.044100</td>\n",
       "      <td>0.287435</td>\n",
       "      <td>109.236574</td>\n",
       "      <td>7.822803</td>\n",
       "      <td>158.563398</td>\n",
       "      <td>3.832416</td>\n",
       "    </tr>\n",
       "    <tr>\n",
       "      <th>33585</th>\n",
       "      <td>Vienna</td>\n",
       "      <td>133.230489</td>\n",
       "      <td>Weekend</td>\n",
       "      <td>Private room</td>\n",
       "      <td>False</td>\n",
       "      <td>True</td>\n",
       "      <td>4</td>\n",
       "      <td>True</td>\n",
       "      <td>1</td>\n",
       "      <td>0</td>\n",
       "      <td>10</td>\n",
       "      <td>93</td>\n",
       "      <td>1</td>\n",
       "      <td>1.263932</td>\n",
       "      <td>0.480903</td>\n",
       "      <td>150.450381</td>\n",
       "      <td>10.774264</td>\n",
       "      <td>225.247293</td>\n",
       "      <td>5.444140</td>\n",
       "    </tr>\n",
       "  </tbody>\n",
       "</table>\n",
       "</div>"
      ],
      "text/plain": [
       "                City       Price      Day        Room Type  Shared Room  \\\n",
       "Fake Host ID                                                              \n",
       "35231         Vienna  715.938574  Weekend  Entire home/apt        False   \n",
       "25448         Vienna  304.793960  Weekend  Entire home/apt        False   \n",
       "25353         Vienna  637.168969  Weekend  Entire home/apt        False   \n",
       "26349         Vienna  301.054157  Weekend     Private room        False   \n",
       "33585         Vienna  133.230489  Weekend     Private room        False   \n",
       "\n",
       "              Private Room  Person Capacity  Superhost  Multiple Rooms  \\\n",
       "Fake Host ID                                                             \n",
       "35231                False                6      False               0   \n",
       "25448                False                2      False               0   \n",
       "25353                False                2      False               0   \n",
       "26349                 True                2      False               0   \n",
       "33585                 True                4       True               1   \n",
       "\n",
       "              Business  Cleanliness Rating  Guest Satisfaction  Bedrooms  \\\n",
       "Fake Host ID                                                               \n",
       "35231                1                  10                 100         3   \n",
       "25448                0                   8                  86         1   \n",
       "25353                0                  10                  93         1   \n",
       "26349                0                  10                  87         1   \n",
       "33585                0                  10                  93         1   \n",
       "\n",
       "              City Center (km)  Metro Distance (km)  Attraction Index  \\\n",
       "Fake Host ID                                                            \n",
       "35231                 0.530181             0.135447        219.402478   \n",
       "25448                 0.810205             0.100839        204.970121   \n",
       "25353                 0.994051             0.202539        169.073402   \n",
       "26349                 3.044100             0.287435        109.236574   \n",
       "33585                 1.263932             0.480903        150.450381   \n",
       "\n",
       "              Normalised Attraction Index  Restraunt Index  \\\n",
       "Fake Host ID                                                 \n",
       "35231                           15.712158       438.756874   \n",
       "25448                           14.678608       342.182813   \n",
       "25353                           12.107921       282.296424   \n",
       "26349                            7.822803       158.563398   \n",
       "33585                           10.774264       225.247293   \n",
       "\n",
       "              Normalised Restraunt Index  \n",
       "Fake Host ID                              \n",
       "35231                          10.604584  \n",
       "25448                           8.270427  \n",
       "25353                           6.822996  \n",
       "26349                           3.832416  \n",
       "33585                           5.444140  "
      ]
     },
     "execution_count": 81,
     "metadata": {},
     "output_type": "execute_result"
    }
   ],
   "source": [
    "# we've been looking at the first few observations (head)\n",
    "# or we could look at the last few (tail)\n",
    "df_EUABnB.tail()"
   ]
  },
  {
   "cell_type": "code",
   "execution_count": 82,
   "id": "667bcf0d-8354-4bf1-ac86-c85e04fe5491",
   "metadata": {},
   "outputs": [
    {
     "data": {
      "text/html": [
       "<div>\n",
       "<style scoped>\n",
       "    .dataframe tbody tr th:only-of-type {\n",
       "        vertical-align: middle;\n",
       "    }\n",
       "\n",
       "    .dataframe tbody tr th {\n",
       "        vertical-align: top;\n",
       "    }\n",
       "\n",
       "    .dataframe thead tr th {\n",
       "        text-align: left;\n",
       "    }\n",
       "\n",
       "    .dataframe thead tr:last-of-type th {\n",
       "        text-align: right;\n",
       "    }\n",
       "</style>\n",
       "<table border=\"1\" class=\"dataframe\">\n",
       "  <thead>\n",
       "    <tr>\n",
       "      <th></th>\n",
       "      <th colspan=\"8\" halign=\"left\">Price</th>\n",
       "      <th colspan=\"2\" halign=\"left\">Person Capacity</th>\n",
       "      <th>...</th>\n",
       "      <th colspan=\"2\" halign=\"left\">Restraunt Index</th>\n",
       "      <th colspan=\"8\" halign=\"left\">Normalised Restraunt Index</th>\n",
       "    </tr>\n",
       "    <tr>\n",
       "      <th></th>\n",
       "      <th>count</th>\n",
       "      <th>mean</th>\n",
       "      <th>std</th>\n",
       "      <th>min</th>\n",
       "      <th>25%</th>\n",
       "      <th>50%</th>\n",
       "      <th>75%</th>\n",
       "      <th>max</th>\n",
       "      <th>count</th>\n",
       "      <th>mean</th>\n",
       "      <th>...</th>\n",
       "      <th>75%</th>\n",
       "      <th>max</th>\n",
       "      <th>count</th>\n",
       "      <th>mean</th>\n",
       "      <th>std</th>\n",
       "      <th>min</th>\n",
       "      <th>25%</th>\n",
       "      <th>50%</th>\n",
       "      <th>75%</th>\n",
       "      <th>max</th>\n",
       "    </tr>\n",
       "    <tr>\n",
       "      <th>Day</th>\n",
       "      <th></th>\n",
       "      <th></th>\n",
       "      <th></th>\n",
       "      <th></th>\n",
       "      <th></th>\n",
       "      <th></th>\n",
       "      <th></th>\n",
       "      <th></th>\n",
       "      <th></th>\n",
       "      <th></th>\n",
       "      <th></th>\n",
       "      <th></th>\n",
       "      <th></th>\n",
       "      <th></th>\n",
       "      <th></th>\n",
       "      <th></th>\n",
       "      <th></th>\n",
       "      <th></th>\n",
       "      <th></th>\n",
       "      <th></th>\n",
       "      <th></th>\n",
       "    </tr>\n",
       "  </thead>\n",
       "  <tbody>\n",
       "    <tr>\n",
       "      <th>Weekday</th>\n",
       "      <td>20886.0</td>\n",
       "      <td>257.004009</td>\n",
       "      <td>307.186451</td>\n",
       "      <td>37.129295</td>\n",
       "      <td>140.513732</td>\n",
       "      <td>199.812383</td>\n",
       "      <td>289.868580</td>\n",
       "      <td>18545.450285</td>\n",
       "      <td>20886.0</td>\n",
       "      <td>3.251317</td>\n",
       "      <td>...</td>\n",
       "      <td>856.359033</td>\n",
       "      <td>4592.883342</td>\n",
       "      <td>20886.0</td>\n",
       "      <td>26.199066</td>\n",
       "      <td>18.259998</td>\n",
       "      <td>0.667010</td>\n",
       "      <td>12.225004</td>\n",
       "      <td>21.791623</td>\n",
       "      <td>37.123893</td>\n",
       "      <td>100.0</td>\n",
       "    </tr>\n",
       "    <tr>\n",
       "      <th>Weekend</th>\n",
       "      <td>20828.0</td>\n",
       "      <td>263.193442</td>\n",
       "      <td>248.422795</td>\n",
       "      <td>34.779339</td>\n",
       "      <td>146.810507</td>\n",
       "      <td>207.820352</td>\n",
       "      <td>301.305054</td>\n",
       "      <td>13656.358834</td>\n",
       "      <td>20828.0</td>\n",
       "      <td>3.223113</td>\n",
       "      <td>...</td>\n",
       "      <td>864.709747</td>\n",
       "      <td>6696.156772</td>\n",
       "      <td>20828.0</td>\n",
       "      <td>24.906316</td>\n",
       "      <td>18.685124</td>\n",
       "      <td>0.592757</td>\n",
       "      <td>8.867334</td>\n",
       "      <td>21.845774</td>\n",
       "      <td>36.470940</td>\n",
       "      <td>100.0</td>\n",
       "    </tr>\n",
       "  </tbody>\n",
       "</table>\n",
       "<p>2 rows × 104 columns</p>\n",
       "</div>"
      ],
      "text/plain": [
       "           Price                                                             \\\n",
       "           count        mean         std        min         25%         50%   \n",
       "Day                                                                           \n",
       "Weekday  20886.0  257.004009  307.186451  37.129295  140.513732  199.812383   \n",
       "Weekend  20828.0  263.193442  248.422795  34.779339  146.810507  207.820352   \n",
       "\n",
       "                                  Person Capacity            ...  \\\n",
       "                75%           max           count      mean  ...   \n",
       "Day                                                          ...   \n",
       "Weekday  289.868580  18545.450285         20886.0  3.251317  ...   \n",
       "Weekend  301.305054  13656.358834         20828.0  3.223113  ...   \n",
       "\n",
       "        Restraunt Index              Normalised Restraunt Index             \\\n",
       "                    75%          max                      count       mean   \n",
       "Day                                                                          \n",
       "Weekday      856.359033  4592.883342                    20886.0  26.199066   \n",
       "Weekend      864.709747  6696.156772                    20828.0  24.906316   \n",
       "\n",
       "                                                                      \n",
       "               std       min        25%        50%        75%    max  \n",
       "Day                                                                   \n",
       "Weekday  18.259998  0.667010  12.225004  21.791623  37.123893  100.0  \n",
       "Weekend  18.685124  0.592757   8.867334  21.845774  36.470940  100.0  \n",
       "\n",
       "[2 rows x 104 columns]"
      ]
     },
     "execution_count": 82,
     "metadata": {},
     "output_type": "execute_result"
    }
   ],
   "source": [
    "# look at stats for the different groups\n",
    "day_ABnB = df_EUABnB.groupby(\"Day\")\n",
    "day_ABnB.describe()"
   ]
  },
  {
   "cell_type": "code",
   "execution_count": 83,
   "id": "8ac278f8-243f-4803-bbc1-320c14ea5542",
   "metadata": {},
   "outputs": [
    {
     "data": {
      "text/html": [
       "<div>\n",
       "<style scoped>\n",
       "    .dataframe tbody tr th:only-of-type {\n",
       "        vertical-align: middle;\n",
       "    }\n",
       "\n",
       "    .dataframe tbody tr th {\n",
       "        vertical-align: top;\n",
       "    }\n",
       "\n",
       "    .dataframe thead th {\n",
       "        text-align: right;\n",
       "    }\n",
       "</style>\n",
       "<table border=\"1\" class=\"dataframe\">\n",
       "  <thead>\n",
       "    <tr style=\"text-align: right;\">\n",
       "      <th></th>\n",
       "      <th>count</th>\n",
       "      <th>mean</th>\n",
       "      <th>std</th>\n",
       "      <th>min</th>\n",
       "      <th>25%</th>\n",
       "      <th>50%</th>\n",
       "      <th>75%</th>\n",
       "      <th>max</th>\n",
       "    </tr>\n",
       "    <tr>\n",
       "      <th>Day</th>\n",
       "      <th></th>\n",
       "      <th></th>\n",
       "      <th></th>\n",
       "      <th></th>\n",
       "      <th></th>\n",
       "      <th></th>\n",
       "      <th></th>\n",
       "      <th></th>\n",
       "    </tr>\n",
       "  </thead>\n",
       "  <tbody>\n",
       "    <tr>\n",
       "      <th>Weekday</th>\n",
       "      <td>20886.0</td>\n",
       "      <td>9.441348</td>\n",
       "      <td>0.888348</td>\n",
       "      <td>2.0</td>\n",
       "      <td>9.0</td>\n",
       "      <td>10.0</td>\n",
       "      <td>10.0</td>\n",
       "      <td>10.0</td>\n",
       "    </tr>\n",
       "    <tr>\n",
       "      <th>Weekend</th>\n",
       "      <td>20828.0</td>\n",
       "      <td>9.443201</td>\n",
       "      <td>0.890020</td>\n",
       "      <td>2.0</td>\n",
       "      <td>9.0</td>\n",
       "      <td>10.0</td>\n",
       "      <td>10.0</td>\n",
       "      <td>10.0</td>\n",
       "    </tr>\n",
       "  </tbody>\n",
       "</table>\n",
       "</div>"
      ],
      "text/plain": [
       "           count      mean       std  min  25%   50%   75%   max\n",
       "Day                                                             \n",
       "Weekday  20886.0  9.441348  0.888348  2.0  9.0  10.0  10.0  10.0\n",
       "Weekend  20828.0  9.443201  0.890020  2.0  9.0  10.0  10.0  10.0"
      ]
     },
     "execution_count": 83,
     "metadata": {},
     "output_type": "execute_result"
    }
   ],
   "source": [
    "# too much info there, what about Cleanliness Rating specifically\n",
    "day_ABnB['Cleanliness Rating'].describe()"
   ]
  },
  {
   "cell_type": "markdown",
   "id": "1e363c89-11ca-4cb6-8c4b-9ed374fb94f6",
   "metadata": {},
   "source": [
    "## Saving a DataFrame as a csv\n",
    "- .to_csv()\n",
    "- index=False\n",
    "- header=False\n",
    "- appending to csv (mode='a', header=None)"
   ]
  },
  {
   "cell_type": "code",
   "execution_count": 84,
   "id": "8685297d-1f73-4ab2-8d06-6dcf866a86a4",
   "metadata": {},
   "outputs": [],
   "source": [
    "# doesn't save index into first column of csv\n",
    "df_EUABnB.to_csv('EU_ABnB_copy.csv', index=False)"
   ]
  },
  {
   "cell_type": "code",
   "execution_count": 85,
   "id": "0b5a10dd-4da7-4a8e-85c7-8a767300fdb1",
   "metadata": {},
   "outputs": [],
   "source": [
    "# doesn't save header into first row of csv\n",
    "# (you usually don't want to do this)\n",
    "df_EUABnB.to_csv('EU_ABnB_copy2.csv', header=False)"
   ]
  },
  {
   "cell_type": "code",
   "execution_count": 86,
   "id": "c9f91931-9616-4590-83f9-2405c5d1edcc",
   "metadata": {},
   "outputs": [],
   "source": [
    "# WHY would you want to not save the header?\n",
    "# you could append to an existing csv with mode = 'a'\n",
    "# this stacks 10 of the same data set on top of each other (sort of silly)\n",
    "# but if you are creating a data set from scratch, or merging multiple files, this may be helpful\n",
    "\n",
    "df_EUABnB.to_csv('EU_ABnB_copy3.csv', index=False)\n",
    "for _ in range(10):\n",
    "    df_EUABnB.to_csv('EU_ABnB_copy3.csv', header=False, mode='a')"
   ]
  },
  {
   "cell_type": "markdown",
   "id": "9de3afdc-68c8-4997-bed7-5aa64b36fe0e",
   "metadata": {},
   "source": [
    "## What's next?\n",
    "\n",
    "The example above seems a bit contrived, but imagine you have a web-scraping job which goes to some web page every hour and scrapes it to get some new data.  You could just add the new data as a few new rows to your existing dataset with the syntax shown above.\n",
    "\n",
    "Next Topics:\n",
    "- Getting Data from the internet (APIs and Web Scraping)\n",
    "- Data Curation, EDA and Data Visualization\n",
    "- Intro to Machine Learning, and ML Ethics"
   ]
  }
 ],
 "metadata": {
  "celltoolbar": "Edit Metadata",
  "kernelspec": {
   "display_name": "Python 3",
   "language": "python",
   "name": "python3"
  },
  "language_info": {
   "codemirror_mode": {
    "name": "ipython",
    "version": 3
   },
   "file_extension": ".py",
   "mimetype": "text/x-python",
   "name": "python",
   "nbconvert_exporter": "python",
   "pygments_lexer": "ipython3",
   "version": "3.11.9"
  }
 },
 "nbformat": 4,
 "nbformat_minor": 5
}
