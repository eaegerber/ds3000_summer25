{
 "cells": [
  {
   "cell_type": "markdown",
   "metadata": {},
   "source": [
    "# DS 3000 Lab 2\n",
    "\n",
    "Due: Tuesday May 20 in-class\n",
    "\n",
    "### Submission Instructions\n",
    "Upload this `ipynb` file to GitHub, and then to Gradescope.  To ensure that your submitted `ipynb` file represents your latest code, make sure to give a fresh `Kernel > Restart & Run All` just before uploading the `ipynb` file to GitHub and verify that the correct version is represented on Gradescope.\n",
    "\n",
    "### Tips for success\n",
    "- Collaborate: bounce ideas off of each other, if you are having trouble you can ask your classmates or Dr. Gerber for help with specific issues, however...\n",
    "- [(See)](http://www.northeastern.edu/osccr/academic-integrity), i.e. you are welcome to **talk about/discuss** (*not* show or allow each other to copy your answers to) the problems."
   ]
  },
  {
   "cell_type": "code",
   "execution_count": 1,
   "metadata": {},
   "outputs": [],
   "source": [
    "# you may want to use the below modules on this lab\n",
    "import warnings\n",
    "warnings.simplefilter(action='ignore', category=FutureWarning)\n",
    "\n",
    "import requests\n",
    "from datetime import datetime\n",
    "import pandas as pd\n",
    "import matplotlib.pyplot as plt\n",
    "import plotly.express as px\n",
    "from bs4 import BeautifulSoup\n",
    "from itertools import zip_longest\n",
    "import re"
   ]
  },
  {
   "cell_type": "markdown",
   "metadata": {},
   "source": [
    "# Web Scraping EuroMillions Results\n",
    "\n",
    "For this problem, we will (together) create a small data set scraped from [Euro-Millions](https://www.euro-millions.com/) which is a lottery that is played across nine European countries. Draws take place on Tuesday and Friday evenings with a minimum guaranteed jackpot of â‚¬17 million."
   ]
  },
  {
   "cell_type": "markdown",
   "metadata": {},
   "source": [
    "## Part 1: The Scraper Function (20 points)\n",
    "\n",
    "Complete the function `get_lottery_html()` below (including docstring) which visits the lottery results for a specific date and grabs the html. Visit [the website](https://www.euro-millions.com/results/) to select a date or two and notice the pattern in the url so that you can pass any date to the function as a string. \n",
    "\n",
    "**Make sure to remove the `pass` statement when you are finished**. I have written the code you should run once the function is completed, getting the lottery results from the last day in April."
   ]
  },
  {
   "cell_type": "code",
   "execution_count": 2,
   "metadata": {},
   "outputs": [],
   "source": [
    "def get_lottery_html(code):\n",
    "    \"\"\"\n",
    "    visits lottery results for a specific date and grabs the html\n",
    "\n",
    "    args:\n",
    "        - code: date, string\n",
    "\n",
    "    returns:\n",
    "        - \n",
    "    \"\"\"\n",
    "    url = f\"https://www.euro-millions.com/results/{code}\"\n",
    "\n",
    "    url_text = requests.get(url).text\n",
    "    \n",
    "    return url_text\n"
   ]
  },
  {
   "cell_type": "code",
   "execution_count": 3,
   "metadata": {},
   "outputs": [
    {
     "data": {
      "text/plain": [
       "'\\r\\n<!DOCTYPE html>\\r\\n<html lang=\"en\">\\r\\n<head>\\r\\n\\r\\n\\t<title>EuroMillions Results for Tuesday 29th April 2025 - Draw 1837</title>\\r\\n\\t<meta http-equiv=\"Content-Type\" content=\"text/html; charset=utf-8\">\\r\\n\\t<meta name=\"description\" content=\"View the EuroMillions results including prize breakdown, HotPicks numbers and Millionaire Maker codes for Tuesday 29th April 2025.\">\\r\\n\\t<meta name=\"keywords\" content=\"euromillions results 29-04-2025, 29th april 2025, draw number 1837\">\\r\\n\\t<meta name=\"author\" content=\"Euro-Millions.com\">\\r\\n\\t<meta name=\"format-detection\" content=\"telephone=no\">\\r\\n\\t<meta name=\"HandheldFriendly\" content=\"True\">\\r\\n\\t<meta name=\"viewport\" content=\"width=device-width, initial-scale=1\">\\r\\n\\t\\r\\n\\t<link rel=\"alternate\" hreflang=\"x-default\" href=\"https://www.euro-millions.com/results/29-04-2025\">\\r\\n<link rel=\"alternate\" hreflang=\"fr\" href=\"https://www.euro-millions.com/fr/resultats/29-04-2025\">\\r\\n<link rel=\"alternate\" hreflang=\"de-AT\" href=\"https://www.euro-millions.com/de-at/zahlen/29-04-2025\">\\r\\n<link rel=\"alternate\" hreflang=\"de-CH\" href=\"https://www.euro-millions.com/de-ch/gewinnzahlen/29-04-2025\">\\r\\n<link rel=\"alternate\" hreflang=\"de\" href=\"https://www.euro-millions.com/de/gewinnzahlen/29-04-2025\">\\r\\n<link rel=\"alternate\" hreflang=\"pt\" href=\"https://www.euro-millions.com/pt/resultados/29-04-2025\">\\r\\n<link rel=\"alternate\" hreflang=\"es\" href=\"https://www.euro-millions.com/es/resultados/29-04-2025\">\\r\\n<link rel=\"alternate\" hreflang=\"it\" href=\"https://www.euro-millions.com/it/risultati/29-04-2025\">\\r\\n<link rel=\"alternate\" hreflang=\"sv\" href=\"https://www.euro-millions.com/sv/resultat/29-04-2025\">\\r\\n<link rel=\"alternate\" hreflang=\"ru\" href=\"https://www.euro-millions.com/ru/rezultaty/29-04-2025\">\\r\\n<link rel=\"alternate\" hreflang=\"pl\" href=\"https://www.euro-millions.com/pl/wyniki/29-04-2025\">\\r\\n<link rel=\"alternate\" hreflang=\"zh\" href=\"https://www.euro-millions.com/zh/kaijiang-jieguo/29-04-2025\">\\r\\n<link rel=\"alternate\" hreflang=\"ro\" href=\"https://www.euro-millions.com/ro/rezultate/29-04-2025\">\\r\\n\\r\\n\\t\\r\\n\\t\\r\\n\\t\\t<meta property=\"og:title\" content=\"EuroMillions Results for Tuesday 29th April 2025 - Draw 1837\">\\r\\n\\t\\t<meta property=\"og:description\" content=\"View the EuroMillions results including prize breakdown, HotPicks numbers and Millionaire Maker codes for Tuesday 29th April 2025.\">\\r\\n\\t\\t<meta property=\"og:type\" content=\"website\">\\r\\n\\t\\t<meta property=\"og:url\" content=\"https://www.euro-millions.com/results/29-04-2025\">\\r\\n\\t\\t<meta property=\"og:site_name\" content=\"EuroMillions\">\\r\\n\\t\\t<meta property=\"og:image\" content=\"https://www.euro-millions.com/images/opengraph-results.jpg\">\\r\\n\\t\\t<meta property=\"fb:app_id\" content=\"124973790926555\">\\r\\n\\t\\t<meta property=\"fb:admins\" content=\"100001278704026\">\\r\\n\\t\\r\\n\\t\\r\\n\\t<link rel=\"apple-touch-icon\" href=\"/apple-touch-icon.png\">\\r\\n\\t<link rel=\"shortcut icon\" type=\"image/x-icon\" href=\"/favicon.ico\">\\r\\n\\t<link rel=\"preload\" href=\"/fonts/inter-regular.woff2\" as=\"font\" crossorigin=\"anonymous\">\\r\\n\\t<link rel=\"preload\" href=\"/fonts/inter-bold.woff2\" as=\"font\" crossorigin=\"anonymous\">\\r\\n\\t\\r\\n\\t<style>\\r\\n\\t\\t@font-face {\\r\\n\\t\\t\\tfont-family: inter; font-weight: 400; font-style: normal; font-display: swap;\\r\\n\\t\\t\\tsrc: url(/fonts/inter-regular.woff2) format(\"woff2\"), url(/fonts/inter-regular.woff) format(\"woff\"), url(/fonts/inter-regular.ttf) format(\"truetype\");\\r\\n\\t\\t}\\r\\n\\t\\t@font-face {\\r\\n\\t\\t\\tfont-family: inter; font-weight: 500 700; font-style: normal; font-display: swap;\\r\\n\\t\\t\\tsrc: url(/fonts/inter-bold.woff2) format(\"woff2\"), url(/fonts/inter-bold.woff) format(\"woff\"), url(/fonts/inter-bold.ttf) format(\"truetype\");\\r\\n\\t\\t}\\r\\n\\t</style>\\r\\n\\t\\r\\n\\t<link href=\"/css/style?v=osCudacpOTEu-p6hxGNkRJLlqUgcLwayJSpFeg9m2wY1\" rel=\"stylesheet\"/>\\r\\n\\r\\n\\t\\r\\n\\t\\r\\n\\t<script>\\r\\n\\t\\tfunction addLoadEvent(e){var t=window.onload;if(typeof window.onload!=\"function\"){window.onload=e}else{window.onload=function(){if(t){t()}e()}}};\\r\\n\\t\\tfunction addResizeEvent(e){var t=window.onresize;if(typeof window.onresize!=\"function\"){window.onresize=e}else{window.onresize=function(){if(t){t()}e()}}};\\r\\n\\t</script>\\r\\n\\t\\r\\n\\t<link rel=\"amphtml\" href=\"https://www.euro-millions.com/amp/results/29-04-2025\">\\r\\n<link rel=\"canonical\" href=\"https://www.euro-millions.com/results/29-04-2025\">\\r\\n\\r\\n\\t\\r\\n\\t<script async src=\"https://www.googletagmanager.com/gtag/js?id=G-L4TC4TYLBM\"></script>\\r\\n\\t<script>\\r\\n\\t\\twindow.dataLayer=window.dataLayer||[];\\r\\n\\t\\tfunction gtag(){dataLayer.push(arguments);}\\r\\n\\t\\tgtag(\\'js\\',new Date());\\r\\n\\t\\tgtag(\\'config\\',\\'G-L4TC4TYLBM\\');\\r\\n\\t</script>\\r\\n\\t\\r\\n\\t<script>addLoadEvent(function(){ setTimeout(function(){ document.getElementById(\"autoAds\").src=\"https://pagead2.googlesyndication.com/pagead/js/adsbygoogle.js?client=ca-pub-1256563260643852\"; }, 5000); });</script>\\r\\n\\t<script async id=\"autoAds\" crossorigin=\"anonymous\"></script>\\r\\n\\t\\r\\n\\t<script type=\"text/javascript\">\\r\\n    (function(c,l,a,r,i,t,y){\\r\\n        c[a]=c[a]||function(){(c[a].q=c[a].q||[]).push(arguments)};\\r\\n        t=l.createElement(r);t.async=1;t.src=\"https://www.clarity.ms/tag/\"+i;\\r\\n        y=l.getElementsByTagName(r)[0];y.parentNode.insertBefore(t,y);\\r\\n    })(window, document, \"clarity\", \"script\", \"qtqagmklxx\");\\r\\n\\t</script>\\r\\n\\t\\t\\r\\n</head>\\r\\n\\r\\n<body>\\r\\n\\t\\r\\n\\t\\r\\n\\r\\n\\t<header>\\r\\n\\t\\t\\r\\n\\t\\t<div class=\"inner fx btwn acen\">\\r\\n\\t\\t\\r\\n\\t\\t\\t<div itemscope itemtype=\"http://schema.org/Organization\" id=\"logo\">\\r\\n\\t\\t\\t\\t<a itemprop=\"url\" href=\"/\" title=\"EuroMillions\">\\r\\n\\t\\t\\t\\t\\t<img itemprop=\"logo\" src=\"/images/layout/logo.svg\" alt=\"Euro-Millions.com Logo\" width=\"240\" height=\"35\">\\r\\n\\t\\t\\t\\t</a>\\r\\n\\t\\t\\t</div>\\r\\n\\t\\t\\t\\r\\n\\t\\t\\t\\t<ul id=\"playNav\">\\r\\n\\t\\t\\t\\t\\t<li><a href=\"https://games.euro-millions.com/\" title=\"Instant Win Casino Games\" rel=\"noopener\" target=\"_blank\"><img src=\"/images/icons/dice.svg\" alt=\"Icon\" class=\"spin\">Casino</a></li>\\r\\n\\t\\t\\t\\t\\t\\r\\n\\t\\t\\t\\t\\t\\t<li><a href=\"/scratchcards\" title=\"Online scratchcards\"><img src=\"/images/icons/scratchcards.svg\" alt=\"Icon\">Scratchcards</a></li>\\r\\n\\t\\t\\t\\t\\t\\t<li class=\"tickets\"><a href=\"/play\" title=\"Buy your EuroMillions tickets\"><img src=\"/images/icons/tickets-blue.svg\" alt=\"Icon\">Play</a></li>\\r\\n\\t\\t\\t\\t\\t\\r\\n\\t\\t\\t\\t</ul>\\r\\n\\t\\t\\t\\r\\n\\t\\t\\t<div class=\"fx acen\">\\r\\n\\t\\t\\t\\t\\r\\n\\r\\n\\t <div class=\"languages\">\\r\\n\\t\\t<div class=\"current desktop\">English</div>\\r\\n\\t\\t<div class=\"current mobile\">EN</div>\\r\\n\\t\\t<ul class=\"langs\">\\r\\n\\t\\t\\t\\r\\n\\t\\t\\t\\t\\t<li><a href=\"/results/29-04-2025\" title=\"View this page in English\" class=\"en\">English</a></li>\\r\\n\\t\\t\\t\\t\\r\\n\\t\\t\\t\\t\\t<li><a href=\"/fr/resultats/29-04-2025\" title=\"Voir cette page en français\" class=\"fr\">Français</a></li>\\r\\n\\t\\t\\t\\t\\r\\n\\t\\t\\t\\t\\t<li><a href=\"/de-at/zahlen/29-04-2025\" title=\"Sehen Sie diese Seite in Deutsch\" class=\"de-AT\">Deutsch (AT)</a></li>\\r\\n\\t\\t\\t\\t\\r\\n\\t\\t\\t\\t\\t<li><a href=\"/de-ch/gewinnzahlen/29-04-2025\" title=\"Sehen Sie diese Seite in Deutsch\" class=\"de-CH\">Deutsch (CH)</a></li>\\r\\n\\t\\t\\t\\t\\r\\n\\t\\t\\t\\t\\t<li><a href=\"/de/gewinnzahlen/29-04-2025\" title=\"Sehen Sie diese Seite in Deutsch\" class=\"de\">Deutsch</a></li>\\r\\n\\t\\t\\t\\t\\r\\n\\t\\t\\t\\t\\t<li><a href=\"/pt/resultados/29-04-2025\" title=\"Leia esta página em Português\" class=\"pt\">Português</a></li>\\r\\n\\t\\t\\t\\t\\r\\n\\t\\t\\t\\t\\t<li><a href=\"/es/resultados/29-04-2025\" title=\"Ver esta página en español\" class=\"es\">Español</a></li>\\r\\n\\t\\t\\t\\t\\r\\n\\t\\t\\t\\t\\t<li><a href=\"/it/risultati/29-04-2025\" title=\"Visualizza cuesta pagina in italiano\" class=\"it\">Italiano</a></li>\\r\\n\\t\\t\\t\\t\\r\\n\\t\\t\\t\\t\\t<li><a href=\"/sv/resultat/29-04-2025\" title=\"Se webbplatsen på svenska\" class=\"sv\">Svenska</a></li>\\r\\n\\t\\t\\t\\t\\r\\n\\t\\t\\t\\t\\t<li><a href=\"/ru/rezultaty/29-04-2025\" title=\"Посмотреть страницу на русском языке\" class=\"ru\">Русский</a></li>\\r\\n\\t\\t\\t\\t\\r\\n\\t\\t\\t\\t\\t<li><a href=\"/pl/wyniki/29-04-2025\" title=\"Wyświetl tę stronę w języku polskim\" class=\"pl\">Polski</a></li>\\r\\n\\t\\t\\t\\t\\r\\n\\t\\t\\t\\t\\t<li><a href=\"/zh/kaijiang-jieguo/29-04-2025\" title=\"中文\" class=\"zh\">中文</a></li>\\r\\n\\t\\t\\t\\t\\r\\n\\t\\t\\t\\t\\t<li class=\"grey\" title=\"This page is not available in Arabic\">العربية</li>\\r\\n\\t\\t\\t\\t\\r\\n\\t\\t\\t\\t\\t<li><a href=\"/ro/rezultate/29-04-2025\" title=\"Dă clic pentru a vedea această pagină în română\" class=\"ro\">Română</a></li>\\r\\n\\t\\t\\t\\t\\r\\n\\t\\t</ul>\\r\\n\\t</div>\\r\\n\\t\\r\\n\\r\\n\\t\\t\\t\\t\\t<a href=\"/account/login\" title=\"Log in to Euro-Millions.com\" class=\"login\"><span>Sign In</span></a>\\r\\n\\t\\t\\t\\t\\r\\n\\t\\t\\t\\t<form action=\"/search\" class=\"search desktop\" onSubmit=\"return validateSearch(this)\">\\r\\n\\t\\t\\t\\t\\t<input type=\"text\" name=\"addsearch\" size=\"14\" placeholder=\"Search\" class=\"searchBox\" aria-label=\"Search\" autocomplete=\"off\">\\r\\n\\t\\t\\t\\t\\t<input type=\"submit\" name=\"sa\" value=\"Search\" class=\"searchSubmit\">\\r\\n\\t\\t\\t\\t</form>\\r\\n\\t\\t\\t\\t<div id=\"menuOpen\"><span>&#9776;</span></div>\\r\\n\\t\\t\\t</div>\\r\\n\\t\\t\\t\\r\\n\\t\\t</div>\\r\\n\\t\\t\\r\\n\\t\\t<nav>\\r\\n\\t\\t\\t<form action=\"/search\" class=\"search mobile\" onSubmit=\"return validateSearch(this)\">\\r\\n\\t\\t\\t\\t<input type=\"text\" name=\"addsearch\" size=\"14\" placeholder=\"Search\" class=\"searchBox\" aria-label=\"Search\" autocomplete=\"off\">\\r\\n\\t\\t\\t\\t<input type=\"submit\" name=\"sa\" value=\"Search\" class=\"searchSubmit\">\\r\\n\\t\\t\\t</form>\\r\\n\\t\\t\\t<ul class=\"inner\">\\r\\n\\t\\t\\t\\t\\r\\n\\t\\t\\t\\t<li class=\"sub\">\\r\\n\\t\\t\\t\\t\\t<a href=\"/results\" title=\"EuroMillions Results\" class=\"active\">Results</a>\\r\\n\\t\\t\\t\\t\\t<span class=\"openSub mobile\">+</span>\\r\\n\\t\\t\\t\\t\\t<ul>\\r\\n\\t\\t\\t\\t\\t\\t<li><a href=\"/results/16-05-2025\" title=\"Latest EuroMillions Prize Breakdown\">Latest Prize Breakdown</a></li>\\r\\n\\t\\t\\t\\t\\t\\t\\r\\n\\t\\t\\t\\t\\t\\t\\t<li><a href=\"/my-bonus\" title=\"EuroMillions My Bonus\">My Bonus</a></li>\\r\\n\\t\\t\\t\\t\\t\\t\\r\\n\\t\\t\\t\\t\\t\\t<li><a href=\"/eurodreams/results\" title=\"Latest EuroDreams Results\">EuroDreams Results</a></li>\\r\\n\\t\\t\\t\\t\\t\\t<li><a href=\"/eurojackpot/results\" title=\"Latest Eurojackpot Results\">Eurojackpot Results</a></li>\\r\\n\\t\\t\\t\\t\\t\\t<li><a href=\"/free-lottery/results\" title=\"Latest Free Lottery Results\">Free Lottery Results</a></li>\\r\\n\\t\\t\\t\\t\\t</ul>\\r\\n\\t\\t\\t\\t</li>\\r\\n\\t\\t\\t\\t<li><a href=\"/results-checker\" title=\"EuroMillions Results Checker\">Check Tickets</a></li>\\r\\n\\t\\t\\t\\t<li><a href=\"/app\" title=\"EuroMillions Lottery App\">App</a></li> \\r\\n\\t\\t\\t\\t<li><a href=\"/news\" title=\"EuroMillions News\">News</a></li>\\r\\n\\t\\t\\t\\t<li class=\"sub\">\\r\\n\\t\\t\\t\\t\\t<a href=\"/information\" title=\"EuroMillions Information\">Information</a>\\r\\n\\t\\t\\t\\t\\t<span class=\"openSub mobile\">+</span>\\r\\n\\t\\t\\t\\t\\t<ul>\\r\\n\\t\\t\\t\\t\\t\\t<li><a href=\"/how-to-play\" title=\"How to Play EuroMillions\">How to Play</a></li>\\r\\n\\t\\t\\t\\t\\t\\t<li><a href=\"/rules\" title=\"EuroMillions Rules\">Rules</a></li>\\r\\n\\t\\t\\t\\t\\t\\t<li><a href=\"/odds-of-winning\" title=\"EuroMillions Odds\">Odds</a></li>\\r\\n\\t\\t\\t\\t\\t\\t<li><a href=\"/faqs\" title=\"EuroMillions Frequently Asked Questions\">FAQs</a></li>\\r\\n\\t\\t\\t\\t\\t\\t<li><a href=\"/associated-games\" title=\"Associated EuroMillions Games\">Associated Games</a></li>\\r\\n\\t\\t\\t\\t\\t\\t<li><a href=\"/superdraws\" title=\"EuroMillions Superdraws\">Superdraws</a></li>\\r\\n\\t\\t\\t\\t\\t\\t<li><a href=\"/subscriptions\" title=\"EuroMillions Subscriptions\">Subscriptions</a></li>\\r\\n\\t\\t\\t\\t\\t\\t<li><a href=\"/good-causes-distribution-of-revenue\" title=\"Good Causes and Distribution of Revenue\">Good Causes</a></li>\\r\\n\\t\\t\\t\\t\\t\\t<li><a href=\"/scams\" title=\"EuroMillions Lottery Scams\">Scams</a></li>\\r\\n\\t\\t\\t\\t\\t\\t<li><a href=\"/contact\" title=\"Contact EuroMillions\">Contact Us</a></li>\\r\\n\\t\\t\\t\\t\\t</ul>\\r\\n\\t\\t\\t\\t</li>\\r\\n\\t\\t\\t\\t<li><a href=\"/statistics\" title=\"EuroMillions Statistics\">Statistics</a></li>\\r\\n\\t\\t\\t\\t<li class=\"sub\">\\r\\n\\t\\t\\t\\t\\t<a href=\"/prizes\" title=\"EuroMillions Prizes\">Prizes</a>\\r\\n\\t\\t\\t\\t\\t<span class=\"openSub mobile\">+</span>\\r\\n\\t\\t\\t\\t\\t<ul>\\r\\n\\t\\t\\t\\t\\t\\t<li><a href=\"/how-to-claim\" title=\"How to Claim a EuroMillions Prize\">How to Claim</a></li>\\r\\n\\t\\t\\t\\t\\t\\t<li><a href=\"/winners\" title=\"Read about the biggest EuroMillions winners\">Biggest Winners</a></li>\\r\\n\\t\\t\\t\\t\\t\\t<li><a href=\"/winners/statistics\" title=\"EuroMillions Winner Statistics\">Prize Winner Statistics</a></li>\\r\\n\\t\\t\\t\\t\\t\\t<li><a href=\"/unclaimed-prizes\" title=\"Unclaimed EuroMillions Prizes\">Unclaimed Prizes</a></li>\\r\\n\\t\\t\\t\\t\\t</ul>\\r\\n\\t\\t\\t\\t</li>\\r\\n\\t\\t\\t\\t<li class=\"sub\">\\r\\n\\t\\t\\t\\t\\t<a href=\"/european-lotteries\" title=\"Other games and lotteries\">Other Lotteries</a>\\r\\n\\t\\t\\t\\t\\t<span class=\"openSub mobile\">+</span>\\r\\n\\t\\t\\t\\t\\t<ul>\\r\\n\\t\\t\\t\\t\\t\\t<li><a href=\"/eurojackpot\" title=\"Eurojackpot\">Eurojackpot</a></li>\\r\\n\\t\\t\\t\\t\\t\\t<li><a href=\"/eurodreams\" title=\"EuroDreams\">EuroDreams</a></li>\\r\\n\\t\\t\\t\\t\\t\\t<li><a href=\"/free-lottery\" title=\"Free Lottery Information\">Free Lottery</a></li>\\r\\n\\t\\t\\t\\t\\t\\t<li><a href=\"/irish-lotto\" title=\"Irish Lottery\">Irish Lotto</a></li>\\r\\n\\t\\t\\t\\t\\t\\t<li><a href=\"/uk-lotto\" title=\"UK National Lottery\">UK Lotto</a></li>\\r\\n\\t\\t\\t\\t\\t\\t<li><a href=\"/thunderball\" title=\"Thunderball\">Thunderball</a></li>\\r\\n\\t\\t\\t\\t\\t\\t<li><a href=\"/pick-3\" title=\"Pick 3\">Pick 3</a></li>\\r\\n\\t\\t\\t\\t\\t\\t<li><a href=\"/viking-lotto\" title=\"Viking Lotto\">Vikinglotto</a></li>\\r\\n\\t\\t\\t\\t\\t\\t<li><a href=\"/french-loto\" title=\"French Loto\">French Loto</a></li>\\r\\n\\t\\t\\t\\t\\t\\t<li><a href=\"/german-lotto\" title=\"German Lotto\">German Lotto</a></li>\\r\\n\\t\\t\\t\\t\\t\\t<li><a href=\"/italian-superenalotto\" title=\"Italian SuperEnalotto\">Italian SuperEnalotto</a></li>\\r\\n\\t\\t\\t\\t\\t\\t<li><a href=\"/spanish-el-gordo-de-navidad\" title=\"Spanish El Gordo de Navidad\">Spanish El Gordo de Navidad</a></li>\\r\\n\\t\\t\\t\\t\\t\\t<li><a href=\"/spanish-el-nino\" title=\"Spanish El Niño\">Spanish El Niño</a></li>\\r\\n\\t\\t\\t\\t\\t\\t<li><a href=\"/spanish-la-primitiva\" title=\"Spanish La Primitiva\">Spanish La Primitiva</a></li>\\r\\n\\t\\t\\t\\t\\t\\t<li><a href=\"/totoloto\" title=\"Portuguese Totoloto\">Portuguese Totoloto</a></li>\\r\\n\\t\\t\\t\\t\\t</ul>\\r\\n\\t\\t\\t\\t</li>\\r\\n\\t\\t\\t\\t<li><a href=\"/random-number-generator\" title=\"Generate EuroMillions Numbers\">Number Generator</a></li>\\r\\n\\t\\t\\t</ul>\\r\\n\\t\\t</nav>\\r\\n\\t\\t\\r\\n\\t</header>\\r\\n\\t\\r\\n\\t\\r\\n\\t\\r\\n\\t<div id=\"main\">\\r\\n\\t\\t\\r\\n\\r\\n<div id=\"content\">\\r\\n\\r\\n\\t<ol id=\"breadcrumb\" itemscope itemtype=\"http://schema.org/BreadcrumbList\">\\r\\n\\t\\t<li itemprop=\"itemListElement\" itemscope itemtype=\"http://schema.org/ListItem\"><a href=\"/\" title=\"EuroMillions\" itemprop=\"item\"><span itemprop=\"name\">Home</span></a><meta itemprop=\"position\" content=\"1\"></li>\\r\\n\\t\\t<li itemprop=\"itemListElement\" itemscope itemtype=\"http://schema.org/ListItem\"><a href=\"/results\" title=\"EuroMillions Results\" itemprop=\"item\"><span itemprop=\"name\">Results</span></a><meta itemprop=\"position\" content=\"2\"></li>\\r\\n\\t\\t<li>Tuesday 29<sup>th</sup> April 2025</li>\\r\\n\\t</ol>\\r\\n\\t\\r\\n\\t<div class=\"box\">\\r\\n\\t\\r\\n\\t\\t<div class=\"fx btwn acen wrapSM\">\\r\\n\\t\\t\\t<div>\\r\\n\\t\\t\\t\\t<h1>EuroMillions Results for Tuesday 29<sup>th</sup> April 2025</h1>\\r\\n\\t\\t\\t\\t<p style=\"padding-right: 10px;\">\\r\\n\\t\\t\\t\\t\\t\\r\\n\\t\\t\\t\\t\\t\\tThe 1,837<sup>th</sup> EuroMillions draw took place on Tuesday 29<sup>th</sup> April 2025  at 21:00 CET (20:00 GMT) and the winning numbers drawn were:\\r\\n\\t\\t\\t\\t\\t\\r\\n\\t\\t\\t\\t</p>\\r\\n\\t\\t\\t</div>\\r\\n\\t\\t\\t\\r\\n\\t\\t\\t\\t<div class=\"nowrap centred smFull\" style=\"padding: 5px;\">\\r\\n\\t\\t\\t\\t\\t<span style=\"font-size: 0.8em;\">Change Date:</span><br>\\r\\n\\t\\t\\t\\t\\t<div class=\"dropdown\">\\r\\n\\t\\t\\t\\t\\t\\t<span>Tue 29<sup>th</sup> Apr 2025</span>\\r\\n\\t\\t\\t\\t\\t\\t<ul>\\r\\n\\t\\t\\t\\t\\t\\t\\t\\r\\n\\t\\t\\t\\t\\t\\t\\t\\t<li><a href=\"/results/20-05-2025\" title=\"View the EuroMillions Results from Tuesday 20th May 2025\">Tue 20<sup>th</sup> May 2025</a></li>\\r\\n\\t\\t\\t\\t\\t\\t\\t\\r\\n\\t\\t\\t\\t\\t\\t\\t\\t<li><a href=\"/results/16-05-2025\" title=\"View the EuroMillions Results from Friday 16th May 2025\">Fri 16<sup>th</sup> May 2025</a></li>\\r\\n\\t\\t\\t\\t\\t\\t\\t\\r\\n\\t\\t\\t\\t\\t\\t\\t\\t<li><a href=\"/results/13-05-2025\" title=\"View the EuroMillions Results from Tuesday 13th May 2025\">Tue 13<sup>th</sup> May 2025</a></li>\\r\\n\\t\\t\\t\\t\\t\\t\\t\\r\\n\\t\\t\\t\\t\\t\\t\\t\\t<li><a href=\"/results/09-05-2025\" title=\"View the EuroMillions Results from Friday 9th May 2025\">Fri 9<sup>th</sup> May 2025</a></li>\\r\\n\\t\\t\\t\\t\\t\\t\\t\\r\\n\\t\\t\\t\\t\\t\\t\\t\\t<li><a href=\"/results/06-05-2025\" title=\"View the EuroMillions Results from Tuesday 6th May 2025\">Tue 6<sup>th</sup> May 2025</a></li>\\r\\n\\t\\t\\t\\t\\t\\t\\t\\r\\n\\t\\t\\t\\t\\t\\t\\t\\t<li><a href=\"/results/02-05-2025\" title=\"View the EuroMillions Results from Friday 2nd May 2025\">Fri 2<sup>nd</sup> May 2025</a></li>\\r\\n\\t\\t\\t\\t\\t\\t\\t\\r\\n\\t\\t\\t\\t\\t\\t\\t\\t<li><a href=\"/results/29-04-2025\" title=\"View the EuroMillions Results from Tuesday 29th April 2025\">Tue 29<sup>th</sup> Apr 2025</a></li>\\r\\n\\t\\t\\t\\t\\t\\t\\t\\r\\n\\t\\t\\t\\t\\t\\t\\t\\t<li><a href=\"/results/25-04-2025\" title=\"View the EuroMillions Results from Friday 25th April 2025\">Fri 25<sup>th</sup> Apr 2025</a></li>\\r\\n\\t\\t\\t\\t\\t\\t\\t\\r\\n\\t\\t\\t\\t\\t\\t\\t\\t<li><a href=\"/results/22-04-2025\" title=\"View the EuroMillions Results from Tuesday 22nd April 2025\">Tue 22<sup>nd</sup> Apr 2025</a></li>\\r\\n\\t\\t\\t\\t\\t\\t\\t\\r\\n\\t\\t\\t\\t\\t\\t\\t\\t<li><a href=\"/results/18-04-2025\" title=\"View the EuroMillions Results from Friday 18th April 2025\">Fri 18<sup>th</sup> Apr 2025</a></li>\\r\\n\\t\\t\\t\\t\\t\\t\\t\\r\\n\\t\\t\\t\\t\\t\\t\\t\\t<li><a href=\"/results/15-04-2025\" title=\"View the EuroMillions Results from Tuesday 15th April 2025\">Tue 15<sup>th</sup> Apr 2025</a></li>\\r\\n\\t\\t\\t\\t\\t\\t\\t\\r\\n\\t\\t\\t\\t\\t\\t\\t\\t<li><a href=\"/results/11-04-2025\" title=\"View the EuroMillions Results from Friday 11th April 2025\">Fri 11<sup>th</sup> Apr 2025</a></li>\\r\\n\\t\\t\\t\\t\\t\\t\\t\\r\\n\\t\\t\\t\\t\\t\\t\\t\\t<li><a href=\"/results/08-04-2025\" title=\"View the EuroMillions Results from Tuesday 8th April 2025\">Tue 8<sup>th</sup> Apr 2025</a></li>\\r\\n\\t\\t\\t\\t\\t\\t\\t\\r\\n\\t\\t\\t\\t\\t\\t\\t\\t<li><a href=\"/results/04-04-2025\" title=\"View the EuroMillions Results from Friday 4th April 2025\">Fri 4<sup>th</sup> Apr 2025</a></li>\\r\\n\\t\\t\\t\\t\\t\\t\\t\\r\\n\\t\\t\\t\\t\\t\\t\\t\\t<li><a href=\"/results/01-04-2025\" title=\"View the EuroMillions Results from Tuesday 1st April 2025\">Tue 1<sup>st</sup> Apr 2025</a></li>\\r\\n\\t\\t\\t\\t\\t\\t\\t\\r\\n\\t\\t\\t\\t\\t\\t\\t\\t<li><a href=\"/results/28-03-2025\" title=\"View the EuroMillions Results from Friday 28th March 2025\">Fri 28<sup>th</sup> Mar 2025</a></li>\\r\\n\\t\\t\\t\\t\\t\\t\\t\\r\\n\\t\\t\\t\\t\\t\\t\\t\\t<li><a href=\"/results/25-03-2025\" title=\"View the EuroMillions Results from Tuesday 25th March 2025\">Tue 25<sup>th</sup> Mar 2025</a></li>\\r\\n\\t\\t\\t\\t\\t\\t\\t\\r\\n\\t\\t\\t\\t\\t\\t</ul>\\r\\n\\t\\t\\t\\t\\t</div>\\r\\n\\t\\t\\t\\t</div>\\r\\n\\t\\t\\t\\r\\n\\t\\t</div>\\r\\n\\t\\t\\r\\n\\t</div>\\r\\n\\t\\r\\n\\t\\r\\n\\r\\n\\t<div class=\"fx btwn wrapSM\">\\r\\n\\t\\r\\n\\t\\t<div class=\"box half fx col jcen\">\\t\\r\\n\\t\\t\\r\\n\\t\\t\\t<div class=\"resultInfo\">\\r\\n\\t\\t\\r\\n\\t\\t\\t\\t<div class=\"h3\" style=\"color: #333; font-weight: 400;\">Tuesday 29<sup>th</sup> April 2025</div>\\r\\n\\t\\t\\t\\r\\n\\t\\t\\t\\t<ul class=\"balls\" id=\"ballsAscending\">\\r\\n\\t\\t\\t\\t\\t\\r\\n\\t\\t\\t\\t\\t\\t<li class=\"resultBall ball\">2</li>\\r\\n\\t\\t\\t\\t\\t\\r\\n\\t\\t\\t\\t\\t\\t<li class=\"resultBall ball\">9</li>\\r\\n\\t\\t\\t\\t\\t\\r\\n\\t\\t\\t\\t\\t\\t<li class=\"resultBall ball\">24</li>\\r\\n\\t\\t\\t\\t\\t\\r\\n\\t\\t\\t\\t\\t\\t<li class=\"resultBall ball\">30</li>\\r\\n\\t\\t\\t\\t\\t\\r\\n\\t\\t\\t\\t\\t\\t<li class=\"resultBall ball\">41</li>\\r\\n\\t\\t\\t\\t\\t\\r\\n\\t\\t\\t\\t\\t\\t<li class=\"resultBall lucky-star\">1</li>\\r\\n\\t\\t\\t\\t\\t\\r\\n\\t\\t\\t\\t\\t\\t<li class=\"resultBall lucky-star\">11</li>\\r\\n\\t\\t\\t\\t\\t\\r\\n\\t\\t\\t\\t</ul>\\r\\n\\t\\t\\r\\n\\t\\t\\t\\t\\r\\n\\r\\n\\t\\t\\t\\t\\t<ul class=\"balls\" id=\"ballsDrawn\" style=\"display:none\">\\r\\n\\t\\t\\t\\t\\t\\t\\r\\n\\t\\t\\t\\t\\t\\t\\t<li class=\"resultBall ball\">24</li>\\r\\n\\t\\t\\t\\t\\t\\t\\r\\n\\t\\t\\t\\t\\t\\t\\t<li class=\"resultBall ball\">30</li>\\r\\n\\t\\t\\t\\t\\t\\t\\r\\n\\t\\t\\t\\t\\t\\t\\t<li class=\"resultBall ball\">41</li>\\r\\n\\t\\t\\t\\t\\t\\t\\r\\n\\t\\t\\t\\t\\t\\t\\t<li class=\"resultBall ball\">2</li>\\r\\n\\t\\t\\t\\t\\t\\t\\r\\n\\t\\t\\t\\t\\t\\t\\t<li class=\"resultBall ball\">9</li>\\r\\n\\t\\t\\t\\t\\t\\t\\r\\n\\t\\t\\t\\t\\t\\t\\t<li class=\"resultBall lucky-star\">11</li>\\r\\n\\t\\t\\t\\t\\t\\t\\r\\n\\t\\t\\t\\t\\t\\t\\t<li class=\"resultBall lucky-star\">1</li>\\r\\n\\t\\t\\t\\t\\t\\t\\r\\n\\t\\t\\t\\t\\t</ul>\\r\\n\\t\\t\\t\\t\\r\\n\\t\\t\\t\\t\\t<script>\\r\\n\\t\\t\\t\\t\\t\\tfunction BallOrder(obj) {\\r\\n\\t\\t\\t\\t\\t\\t\\tif (!obj.drawn) {\\r\\n\\t\\t\\t\\t\\t\\t\\t\\tdocument.getElementById(\"ballsAscending\").style.display = \"none\";\\r\\n\\t\\t\\t\\t\\t\\t\\t\\tdocument.getElementById(\"ballsDrawn\").style.display = \"\";\\r\\n\\t\\t\\t\\t\\t\\t\\t\\tobj.innerHTML = \"View numbers in ascending order\";\\r\\n\\t\\t\\t\\t\\t\\t\\t\\tif (window.ga) ga(\"send\",\"event\",\"Button\",\"Individual Results\",\"Display in ascending order\");\\r\\n\\t\\t\\t\\t\\t\\t\\t\\tobj.drawn = true;\\r\\n\\t\\t\\t\\t\\t\\t\\t} else {\\r\\n\\t\\t\\t\\t\\t\\t\\t\\tdocument.getElementById(\"ballsAscending\").style.display = \"\";\\r\\n\\t\\t\\t\\t\\t\\t\\t\\tdocument.getElementById(\"ballsDrawn\").style.display = \"none\";\\r\\n\\t\\t\\t\\t\\t\\t\\t\\tobj.innerHTML = \"View numbers in drawn order\";\\r\\n\\t\\t\\t\\t\\t\\t\\t\\tif (window.ga) ga(\"send\",\"event\",\"Button\",\"Individual Results\",\"Display in drawn order\");\\r\\n\\t\\t\\t\\t\\t\\t\\t\\tobj.drawn = false;\\r\\n\\t\\t\\t\\t\\t\\t\\t}\\r\\n\\t\\t\\t\\t\\t\\t}\\r\\n\\t\\t\\t\\t\\t</script>\\r\\n\\t\\t\\t\\t\\r\\n\\t\\t\\t\\t\\t\\r\\n\\t\\t\\t\\t\\t\\t<a href=\"javascript:void(0)\" onclick=\"BallOrder(this)\" id=\"BallOrderLink\" style=\"display: block; padding-bottom: 10px;\">View numbers in drawn order</a>\\r\\n\\t\\t\\t\\t\\t\\r\\n\\t\\t\\t\\r\\n\\t\\t\\t\\t<div class=\"fx btwn acen\">\\r\\n\\t\\t\\t\\t\\r\\n\\t\\t\\t\\t\\t<div>\\r\\n\\t\\t\\t\\t\\t\\tMillionaire Maker:\\r\\n\\t\\t\\t\\t\\t\\t\\t\\t\\t<div class=\"raffle\" style=\"line-height: 30px;\">ZWMS 62356</div>\\r\\n\\t\\t\\t\\t\\t</div>\\r\\n\\t\\t\\t\\t\\t\\r\\n\\t\\t\\t\\t</div>\\r\\n\\t\\t\\t\\t\\r\\n\\t\\t\\t\\t<p style=\"margin: 10px 0 0;\"><strong>Use the <a href=\"/results-checker\" title=\"EuroMillions ticket checker\">ticket checker</a> to see if you\\'ve won a prize.</strong></p>\\r\\n\\t\\t\\t\\t\\r\\n\\t\\t\\t</div>\\r\\n\\t\\t\\t\\r\\n\\t\\t</div>\\r\\n\\t\\t\\r\\n\\t\\t\\r\\n\\t\\t\\t\\r\\n\\t\\t<div class=\"box halfPlus\">\\r\\n\\t\\t\\r\\n\\t\\t\\t<div class=\"drawInfo\">\\r\\n\\t\\t\\r\\n\\t\\t\\t\\t<div class=\"fx wrapSM\">\\r\\n\\r\\n\\t\\t\\t\\t\\t\\r\\n\\t\\t\\t\\t\\t\\t<div class=\"fx acen dInfo\">\\r\\n\\t\\t\\t\\t\\t\\t\\t<img src=\"/images/icons/draw-number.svg\" alt=\"Icon\" width=\"50\" height=\"50\" style=\"margin-right: 8px;\">\\r\\n\\t\\t\\t\\t\\t\\t\\t<div>\\r\\n\\t\\t\\t\\t\\t\\t\\t\\tDraw Number:\\r\\n\\t\\t\\t\\t\\t\\t\\t\\t<div class=\"title2\">1,837</div>\\r\\n\\t\\t\\t\\t\\t\\t\\t</div>\\r\\n\\t\\t\\t\\t\\t\\t</div>\\r\\n\\t\\t\\t\\t\\t\\r\\n\\t\\t\\t\\t\\t\\t<div class=\"fx acen dInfo\">\\r\\n\\t\\t\\t\\t\\t\\t\\t<img src=\"/images/icons/jackpot.svg\" alt=\"Icon\" width=\"50\" height=\"50\" style=\"margin-right: 8px;\">\\r\\n\\t\\t\\t\\t\\t\\t\\t<div>\\r\\n\\t\\t\\t\\t\\t\\t\\t\\tJackpot:\\r\\n\\t\\t\\t\\t\\t\\t\\t\\t<div class=\"title2\" style=\"font-size: 1.5em;\">&euro;83,786,487</div>\\r\\n\\t\\t\\t\\t\\t\\t\\t</div>\\r\\n\\t\\t\\t\\t\\t\\t</div>\\r\\n\\t\\t\\t\\t\\t\\r\\n\\t\\t\\t\\t\\t\\t<div class=\"fx acen dInfo mid\">\\r\\n\\t\\t\\t\\t\\t\\t\\t<img src=\"/images/icons/ball-machine.svg\" alt=\"Icon\" width=\"50\" height=\"50\" style=\"margin-right: 8px;\">\\r\\n\\t\\t\\t\\t\\t\\t\\t<div>\\r\\n\\t\\t\\t\\t\\t\\t\\t\\tBall Machine:\\r\\n\\t\\t\\t\\t\\t\\t\\t\\t<div class=\"title2\">14</div>\\r\\n\\t\\t\\t\\t\\t\\t\\t</div>\\r\\n\\t\\t\\t\\t\\t\\t</div>\\r\\n\\t\\t\\t\\t\\t\\r\\n\\t\\t\\t\\t\\r\\n\\t\\t\\t\\t</div>\\r\\n\\t\\t\\t\\r\\n\\t\\t\\t\\t<div class=\"fx wrapSM\">\\r\\n\\t\\t\\t\\t\\r\\n\\t\\t\\t\\t\\t\\r\\n\\t\\t\\t\\t\\t\\t<div class=\"fx acen dInfo\">\\r\\n\\t\\t\\t\\t\\t\\t\\t<img src=\"/images/icons/total-winners.svg\" alt=\"Icon\" width=\"50\" height=\"50\" style=\"margin-right: 8px;\">\\r\\n\\t\\t\\t\\t\\t\\t\\t<div>\\r\\n\\t\\t\\t\\t\\t\\t\\t\\tTotal Winners:\\r\\n\\t\\t\\t\\t\\t\\t\\t\\t<div class=\"title2\">1,549,047</div>\\r\\n\\t\\t\\t\\t\\t\\t\\t</div>\\r\\n\\t\\t\\t\\t\\t\\t</div>\\r\\n\\t\\t\\t\\t\\t\\r\\n\\t\\t\\t\\t\\t\\t<div class=\"fx acen dInfo\">\\r\\n\\t\\t\\t\\t\\t\\t\\t<img src=\"/images/icons/outcome.svg\" alt=\"Icon\" width=\"50\" height=\"50\" style=\"margin-right: 8px;\">\\r\\n\\t\\t\\t\\t\\t\\t\\t<div>\\r\\n\\t\\t\\t\\t\\t\\t\\t\\tOutcome:\\r\\n\\t\\t\\t\\t\\t\\t\\t\\t<div class=\"title2\" style=\"font-size: 1.5em;\">Rollover!</div>\\r\\n\\t\\t\\t\\t\\t\\t\\t</div>\\r\\n\\t\\t\\t\\t\\t\\t</div>\\r\\n\\t\\t\\t\\t\\t\\r\\n\\t\\t\\t\\t\\t\\t<div class=\"fx acen dInfo mid\">\\r\\n\\t\\t\\t\\t\\t\\t\\t<img src=\"/images/icons/ball-set.svg\" alt=\"Icon\" width=\"50\" height=\"50\" style=\"margin-right: 8px;\">\\r\\n\\t\\t\\t\\t\\t\\t\\t<div>\\r\\n\\t\\t\\t\\t\\t\\t\\t\\tBall Set:\\r\\n\\t\\t\\t\\t\\t\\t\\t\\t<div class=\"title2\">20</div>\\r\\n\\t\\t\\t\\t\\t\\t\\t</div>\\r\\n\\t\\t\\t\\t\\t\\t</div>\\r\\n\\t\\t\\t\\t\\t\\r\\n\\t\\t\\t\\t\\r\\n\\t\\t\\t\\t</div>\\r\\n\\t\\t\\r\\n\\t\\t\\t\\t<div class=\"info\" style=\"margin: 10px 0 0;\">\\r\\n\\t\\t\\t\\t\\t<span>EuroMillions prizes in Belgium must be claimed within 140 days of the draw date, so tickets purchased for this draw are valid until <strong>Tuesday 16<sup>th</sup> September 2025</strong>.</span>\\r\\n\\t\\t\\t\\t</div>\\r\\n\\t\\t\\t\\r\\n\\t\\t\\t</div>\\r\\n\\t\\t\\t\\r\\n\\t\\t</div>\\r\\n\\t\\t\\r\\n\\t</div>\\r\\n\\t\\r\\n\\t\\r\\n\\r\\n\\t<form class=\"box bannerBox j4 fx btwn acen wrapSM\" id=\"widgetForm\" name=\"widgetForm\" action=\"/en/play/euromillions?AS=3&AR=59\" rel=\"nofollow noopener\" target=\"_blank\" onsubmit=\"submitWidget(this); return this.result;\">\\r\\n\\r\\n\\t\\t<div>\\r\\n\\t\\r\\n\\t\\t\\tTonight\\'s estimated jackpot:\\r\\n\\t\\t\\t\\t\\r\\n\\t\\t\\r\\n\\t\\t\\t\\t<div class=\"jackpot\">€167 Million</div>\\r\\n\\t\\t\\r\\n\\t\\t\\t\\t\\r\\n\\t\\t\\t\\t\\t\\t<div class=\"rollover\">It\\'s a <span>12&times;</span> Rollover!</div>\\r\\n\\t\\t\\t\\t\\t\\r\\n\\t\\t\\r\\n\\t\\t</div>\\r\\n\\t\\r\\n\\t\\t<script>\\r\\n\\t\\t\\tvar m = 5; \\t\\t//Main Balls\\r\\n\\t\\t\\tvar b = 2;\\t\\t//Bonus Balls\\r\\n\\t\\t\\tvar mp = 50;\\t//Main ball pool\\r\\n\\t\\t\\tvar bp = 12;\\t//Bonus ball pool\\r\\n\\r\\n\\t\\t\\tfunction submitWidget(form) {\\r\\n\\t\\t\\t\\tif(window.ga) ga(\\'send\\',\\'event\\',\\'WidgetBnr\\',\\'submit\\',\\'/results/29-04-2025\\');\\r\\n\\t\\t\\t\\tform.result = submitForm(form);\\r\\n\\t\\t\\t}\\r\\n\\t\\t</script>\\r\\n\\r\\n\\t\\t\\r\\n\\t\\t\\t<script src=\"/js/widget-jackpot.js\"></script>\\r\\n\\t\\t\\r\\n\\t\\t\\r\\n\\t\\t<div class=\"centred\">\\r\\n\\r\\n\\t\\t\\t<p>Choose five numbers (1-50) and two Lucky Stars (1-12):</p>\\r\\n\\r\\n\\t\\t\\t\\r\\n\\t\\t\\t\\t<div id=\"widget-line-1\" class=\"widget-line\">\\r\\n\\t\\t\\t\\t\\t<input class=\"quickpick-input input-number\" id=\"jn_1_1\" name=\"MainNumbers\" type=\"tel\">\\r\\n\\t\\t\\t\\t\\t<input class=\"quickpick-input input-number\" id=\"jn_1_2\" name=\"MainNumbers\" type=\"tel\">\\r\\n\\t\\t\\t\\t\\t<input class=\"quickpick-input input-number\" id=\"jn_1_3\" name=\"MainNumbers\" type=\"tel\">\\r\\n\\t\\t\\t\\t\\t<input class=\"quickpick-input input-number\" id=\"jn_1_4\" name=\"MainNumbers\" type=\"tel\">\\r\\n\\t\\t\\t\\t\\t<input class=\"quickpick-input input-number\" id=\"jn_1_5\" name=\"MainNumbers\" type=\"tel\">\\r\\n\\t\\t\\t\\t\\t<input class=\"quickpick-input input-joker\" id=\"jn_1_6\" name=\"BonusNumbers\" type=\"tel\">\\r\\n\\t\\t\\t\\t\\t<input class=\"quickpick-input input-joker\" id=\"jn_1_7\" name=\"BonusNumbers\" type=\"tel\">\\r\\n\\t\\t\\t\\t\\t<div class=\"inline\">\\r\\n\\t\\t\\t\\t\\t\\t<a href=\"javascript:void(0);\" onclick=\"quickPick(1)\" class=\"wand\"></a>\\r\\n\\t\\t\\t\\t\\t\\t<a href=\"javascript:void(0);\" onclick=\"clearLine(1);\" class=\"trash\"></a>\\r\\n\\t\\t\\t\\t\\t</div>\\r\\n\\t\\t\\t\\t</div>\\r\\n\\t\\t\\t\\r\\n\\t\\t\\t\\t<div id=\"widget-line-2\" class=\"widget-line\">\\r\\n\\t\\t\\t\\t\\t<input class=\"quickpick-input input-number\" id=\"jn_2_1\" name=\"MainNumbers\" type=\"tel\">\\r\\n\\t\\t\\t\\t\\t<input class=\"quickpick-input input-number\" id=\"jn_2_2\" name=\"MainNumbers\" type=\"tel\">\\r\\n\\t\\t\\t\\t\\t<input class=\"quickpick-input input-number\" id=\"jn_2_3\" name=\"MainNumbers\" type=\"tel\">\\r\\n\\t\\t\\t\\t\\t<input class=\"quickpick-input input-number\" id=\"jn_2_4\" name=\"MainNumbers\" type=\"tel\">\\r\\n\\t\\t\\t\\t\\t<input class=\"quickpick-input input-number\" id=\"jn_2_5\" name=\"MainNumbers\" type=\"tel\">\\r\\n\\t\\t\\t\\t\\t<input class=\"quickpick-input input-joker\" id=\"jn_2_6\" name=\"BonusNumbers\" type=\"tel\">\\r\\n\\t\\t\\t\\t\\t<input class=\"quickpick-input input-joker\" id=\"jn_2_7\" name=\"BonusNumbers\" type=\"tel\">\\r\\n\\t\\t\\t\\t\\t<div class=\"inline\">\\r\\n\\t\\t\\t\\t\\t\\t<a href=\"javascript:void(0);\" onclick=\"quickPick(2)\" class=\"wand\"></a>\\r\\n\\t\\t\\t\\t\\t\\t<a href=\"javascript:void(0);\" onclick=\"clearLine(2);\" class=\"trash\"></a>\\r\\n\\t\\t\\t\\t\\t</div>\\r\\n\\t\\t\\t\\t</div>\\r\\n\\t\\t\\t\\r\\n\\t\\t\\r\\n\\t\\t</div>\\r\\n\\r\\n\\t\\t<div class=\"centred\">\\r\\n\\r\\n\\t\\t\\t<div class=\"tmrTop\">\\r\\n\\t\\t\\t\\t<span>Time remaining:</span>\\r\\n\\t\\t\\t\\t<div id=\"timer\"></div>\\r\\n\\t\\t\\t</div>\\r\\n\\r\\n\\t\\t\\t<script>\\r\\n\\t\\t\\t\\taddLoadEvent(function(){\\r\\n\\t\\t\\t\\t\\tlet drawDate = new Date(\"2025-05-20T19:30:00\"), \\r\\n\\t\\t\\t\\t\\tnow = new Date(\"2025-05-20T17:37:29\"), \\r\\n\\t\\t\\t\\t\\ts = (drawDate-now)/1000;\\r\\n\\t\\t\\t\\t\\ttimerDisplay(\"timer\",s>0?s--:0);\\r\\n\\t\\t\\t\\t});\\r\\n\\t\\t\\t\\tfunction timerDisplay(eID,seconds) {\\r\\n\\t\\t\\t\\t\\tvar el = document.getElementById(eID);\\r\\n\\t\\t\\t\\t\\tif (el) {\\r\\n\\t\\t\\t\\t\\t\\tel.innerHTML = \\r\\n\\t\\t\\t\\t\\t\\tMath.floor(seconds / 86400) + \"<span>d</span> \" + \\r\\n\\t\\t\\t\\t\\t\\tMath.floor(seconds % 86400 / 3600) + \"<span>h</span> \" + \\r\\n\\t\\t\\t\\t\\t\\tMath.floor(seconds % 3600 / 60) + \"<span>m</span> \" + \\r\\n\\t\\t\\t\\t\\t\\tMath.floor(seconds % 60) + \"<span>s</span>\";\\r\\n\\t\\t\\t\\t\\t\\tif (seconds > 0) setTimeout(function(){seconds--;timerDisplay(eID,seconds)},1000);\\r\\n\\t\\t\\t\\t\\t}\\r\\n\\t\\t\\t\\t}\\r\\n\\t\\t\\t</script>\\r\\n\\t\\t\\r\\n\\t\\t\\t\\r\\n\\t\\t\\r\\n\\t\\t\\t<input id=\"BrandID\" name=\"BrandID\" value=\"1\" type=\"hidden\">\\r\\n\\t\\t\\t<input id=\"ticket\" name=\"ticket\" value=\"\" type=\"hidden\">\\r\\n\\t\\t\\t<input id=\"AS\" name=\"AS\" value=\"3\" type=\"hidden\">\\r\\n\\t\\t\\t<input id=\"AR\" name=\"AR\" value=\"59\" type=\"hidden\">\\r\\n\\t\\t\\t<input type=\"submit\" value=\"Buy Tickets\" class=\"btn cta\">\\r\\n\\r\\n\\t\\t</div>\\r\\n\\r\\n\\t</form>\\r\\n\\t\\r\\n\\r\\n\\t\\r\\n\\t\\r\\n\\t\\t<div class=\"box\">\\r\\n\\t\\r\\n\\t\\t\\t\\r\\n\\r\\n\\t\\t\\t\\t<div class=\"fx btwn acen wrapSM\">\\r\\n\\t\\t\\t\\t\\t<h2 style=\"margin-bottom: 0;\">Prize Breakdowns</h2>\\r\\n\\t\\t\\t\\t\\t<div class=\"nowrap\" style=\"padding: 10px 0;\">\\r\\n\\t\\t\\t\\t\\t\\t<span style=\"font-size: 0.8em;\">Change Country:</span>\\r\\n\\t\\t\\t\\t\\t\\t<div class=\"dropdown\">\\r\\n\\t\\t\\t\\t\\t\\t\\t<span>\\r\\n\\t\\t\\t\\t\\t\\t\\t\\t\\r\\n\\t\\t\\t\\t\\t\\t\\t\\t\\t<img src=\"/images/flags/be.svg\" alt=\"Flag\" width=\"28\" height=\"28\" loading=\"lazy\">\\r\\n\\t\\t\\t\\t\\t\\t\\t\\t\\tBelgium\\r\\n\\t\\t\\t\\t\\t\\t\\t\\t\\r\\n\\t\\t\\t\\t\\t\\t\\t</span>\\r\\n\\t\\t\\t\\t\\t\\t\\t<ul class=\"tabs\">\\r\\n\\t\\t\\t\\t\\t\\t\\t\\t\\r\\n\\t\\t\\t\\t\\t\\t\\t\\t\\t<li>\\r\\n\\t\\t\\t\\t\\t\\t\\t\\t\\t\\t<a href=\"#PrizeAT\">\\r\\n\\t\\t\\t\\t\\t\\t\\t\\t\\t\\t\\t<img src=\"/images/flags/at.svg\" alt=\"Flag\" width=\"28\" height=\"28\" loading=\"lazy\"> Austria\\r\\n\\t\\t\\t\\t\\t\\t\\t\\t\\t\\t</a>\\r\\n\\t\\t\\t\\t\\t\\t\\t\\t\\t</li>\\r\\n\\t\\t\\t\\t\\t\\t\\t\\t\\r\\n\\t\\t\\t\\t\\t\\t\\t\\t\\t<li>\\r\\n\\t\\t\\t\\t\\t\\t\\t\\t\\t\\t<a href=\"#PrizeBE\" class=\"active\">\\r\\n\\t\\t\\t\\t\\t\\t\\t\\t\\t\\t\\t<img src=\"/images/flags/be.svg\" alt=\"Flag\" width=\"28\" height=\"28\" loading=\"lazy\"> Belgium\\r\\n\\t\\t\\t\\t\\t\\t\\t\\t\\t\\t</a>\\r\\n\\t\\t\\t\\t\\t\\t\\t\\t\\t</li>\\r\\n\\t\\t\\t\\t\\t\\t\\t\\t\\r\\n\\t\\t\\t\\t\\t\\t\\t\\t\\t<li>\\r\\n\\t\\t\\t\\t\\t\\t\\t\\t\\t\\t<a href=\"#PrizeFR\">\\r\\n\\t\\t\\t\\t\\t\\t\\t\\t\\t\\t\\t<img src=\"/images/flags/fr.svg\" alt=\"Flag\" width=\"28\" height=\"28\" loading=\"lazy\"> France\\r\\n\\t\\t\\t\\t\\t\\t\\t\\t\\t\\t</a>\\r\\n\\t\\t\\t\\t\\t\\t\\t\\t\\t</li>\\r\\n\\t\\t\\t\\t\\t\\t\\t\\t\\r\\n\\t\\t\\t\\t\\t\\t\\t\\t\\t<li>\\r\\n\\t\\t\\t\\t\\t\\t\\t\\t\\t\\t<a href=\"#PrizeIE\">\\r\\n\\t\\t\\t\\t\\t\\t\\t\\t\\t\\t\\t<img src=\"/images/flags/ie.svg\" alt=\"Flag\" width=\"28\" height=\"28\" loading=\"lazy\"> Ireland\\r\\n\\t\\t\\t\\t\\t\\t\\t\\t\\t\\t</a>\\r\\n\\t\\t\\t\\t\\t\\t\\t\\t\\t</li>\\r\\n\\t\\t\\t\\t\\t\\t\\t\\t\\r\\n\\t\\t\\t\\t\\t\\t\\t\\t\\t<li>\\r\\n\\t\\t\\t\\t\\t\\t\\t\\t\\t\\t<a href=\"#PrizeLU\">\\r\\n\\t\\t\\t\\t\\t\\t\\t\\t\\t\\t\\t<img src=\"/images/flags/lu.svg\" alt=\"Flag\" width=\"28\" height=\"28\" loading=\"lazy\"> Luxembourg\\r\\n\\t\\t\\t\\t\\t\\t\\t\\t\\t\\t</a>\\r\\n\\t\\t\\t\\t\\t\\t\\t\\t\\t</li>\\r\\n\\t\\t\\t\\t\\t\\t\\t\\t\\r\\n\\t\\t\\t\\t\\t\\t\\t\\t\\t<li>\\r\\n\\t\\t\\t\\t\\t\\t\\t\\t\\t\\t<a href=\"#PrizePT\">\\r\\n\\t\\t\\t\\t\\t\\t\\t\\t\\t\\t\\t<img src=\"/images/flags/pt.svg\" alt=\"Flag\" width=\"28\" height=\"28\" loading=\"lazy\"> Portugal\\r\\n\\t\\t\\t\\t\\t\\t\\t\\t\\t\\t</a>\\r\\n\\t\\t\\t\\t\\t\\t\\t\\t\\t</li>\\r\\n\\t\\t\\t\\t\\t\\t\\t\\t\\r\\n\\t\\t\\t\\t\\t\\t\\t\\t\\t<li>\\r\\n\\t\\t\\t\\t\\t\\t\\t\\t\\t\\t<a href=\"#PrizeES\">\\r\\n\\t\\t\\t\\t\\t\\t\\t\\t\\t\\t\\t<img src=\"/images/flags/es.svg\" alt=\"Flag\" width=\"28\" height=\"28\" loading=\"lazy\"> Spain\\r\\n\\t\\t\\t\\t\\t\\t\\t\\t\\t\\t</a>\\r\\n\\t\\t\\t\\t\\t\\t\\t\\t\\t</li>\\r\\n\\t\\t\\t\\t\\t\\t\\t\\t\\r\\n\\t\\t\\t\\t\\t\\t\\t\\t\\t<li>\\r\\n\\t\\t\\t\\t\\t\\t\\t\\t\\t\\t<a href=\"#PrizeCH\">\\r\\n\\t\\t\\t\\t\\t\\t\\t\\t\\t\\t\\t<img src=\"/images/flags/ch.svg\" alt=\"Flag\" width=\"28\" height=\"28\" loading=\"lazy\"> Switzerland\\r\\n\\t\\t\\t\\t\\t\\t\\t\\t\\t\\t</a>\\r\\n\\t\\t\\t\\t\\t\\t\\t\\t\\t</li>\\r\\n\\t\\t\\t\\t\\t\\t\\t\\t\\r\\n\\t\\t\\t\\t\\t\\t\\t\\t\\t<li>\\r\\n\\t\\t\\t\\t\\t\\t\\t\\t\\t\\t<a href=\"#PrizeGB\">\\r\\n\\t\\t\\t\\t\\t\\t\\t\\t\\t\\t\\t<img src=\"/images/flags/gb.svg\" alt=\"Flag\" width=\"28\" height=\"28\" loading=\"lazy\"> UK\\r\\n\\t\\t\\t\\t\\t\\t\\t\\t\\t\\t</a>\\r\\n\\t\\t\\t\\t\\t\\t\\t\\t\\t</li>\\r\\n\\t\\t\\t\\t\\t\\t\\t\\t\\r\\n\\t\\t\\t\\t\\t\\t\\t</ul>\\r\\n\\t\\t\\t\\t\\t\\t</div>\\r\\n\\t\\t\\t\\t\\t</div>\\r\\n\\t\\t\\t\\t</div>\\r\\n\\t\\t\\t\\r\\n\\t\\t\\t\\r\\n\\t\\t\\t\\r\\n\\t\\t\\t\\t<div id=\"PrizeGB\">\\r\\n\\t\\t\\t\\t\\r\\n\\t\\t\\t\\t\\t\\r\\n\\r\\n\\t\\t\\t\\t\\t\\t<table class=\"mobFormat\">\\r\\n\\t\\t\\t\\t\\t\\t\\t<thead>\\r\\n\\t\\t\\t\\t\\t\\t\\t\\t<tr>\\r\\n\\t\\t\\t\\t\\t\\t\\t\\t\\t<th>Numbers Matched</th>\\r\\n\\t\\t\\t\\t\\t\\t\\t\\t\\t<th class=\"righty\">Prize Per Winner</th>\\r\\n\\t\\t\\t\\t\\t\\t\\t\\t\\t\\r\\n\\t\\t\\t\\t\\t\\t\\t\\t\\t\\t<th class=\"righty\">UK Winners</th>\\r\\n\\t\\t\\t\\t\\t\\t\\t\\t\\t\\r\\n\\t\\t\\t\\t\\t\\t\\t\\t\\t\\t<th class=\"righty\">Prize Fund Amount</th>\\r\\n\\t\\t\\t\\t\\t\\t\\t\\t\\t\\r\\n\\t\\t\\t\\t\\t\\t\\t\\t\\t<th class=\"righty\">Total Winners</th>\\r\\n\\t\\t\\t\\t\\t\\t\\t\\t</tr>\\r\\n\\t\\t\\t\\t\\t\\t\\t</thead>\\r\\n\\t\\t\\t\\t\\t\\t\\t<tbody>\\r\\n\\t\\t\\t\\t\\t\\t\\t\\t\\r\\n\\t\\t\\t\\t\\t\\t\\t\\t\\t<tr>\\r\\n\\t\\t\\t\\t\\t\\t\\t\\t\\t\\t<td data-title=\"Numbers Matched\" class=\"colour\">\\r\\n\\t\\t\\t\\t\\t\\t\\t\\t\\t\\t\\t<span class=\"prizeName\"><span class=\"ball\">5 </span> + <span class=\"star\"> 2</span></span></span>\\r\\n\\t\\t\\t\\t\\t\\t\\t\\t\\t\\t</td>\\r\\n\\t\\t\\t\\t\\t\\t\\t\\t\\t\\t<td data-title=\"Prize Per Winner\" class=\"righty\">\\r\\n\\t\\t\\t\\t\\t\\t\\t\\t\\t\\t\\t&pound;71,243,649.00\\r\\n\\t\\t\\t\\t\\t\\t\\t\\t\\t\\t\\t\\r\\n\\t\\t\\t\\t\\t\\t\\t\\t\\t\\t</td>\\r\\n\\t\\t\\t\\t\\t\\t\\t\\t\\t\\t\\r\\n\\t\\t\\t\\t\\t\\t\\t\\t\\t\\t\\t<td data-title=\"UK Winners\" class=\"righty\">\\r\\n\\t\\t\\t\\t\\t\\t\\t\\t\\t\\t\\t\\t0\\r\\n\\t\\t\\t\\t\\t\\t\\t\\t\\t\\t\\t\\t\\r\\n\\t\\t\\t\\t\\t\\t\\t\\t\\t\\t\\t</td>\\r\\n\\t\\t\\t\\t\\t\\t\\t\\t\\t\\t\\r\\n\\t\\t\\t\\t\\t\\t\\t\\t\\t\\t\\t<td data-title=\"Prize Fund Amount\" class=\"righty\">\\r\\n\\t\\t\\t\\t\\t\\t\\t\\t\\t\\t\\t\\t&pound;0.00\\r\\n\\t\\t\\t\\t\\t\\t\\t\\t\\t\\t\\t\\t\\r\\n\\t\\t\\t\\t\\t\\t\\t\\t\\t\\t\\t</td>\\r\\n\\t\\t\\t\\t\\t\\t\\t\\t\\t\\t\\r\\n\\t\\t\\t\\t\\t\\t\\t\\t\\t\\t<td data-title=\"Total Winners\" class=\"righty\">\\r\\n\\t\\t\\t\\t\\t\\t\\t\\t\\t\\t\\t\\r\\n\\t\\t\\t\\t\\t\\t\\t\\t\\t\\t\\t\\t\\t<strong style=\"color:#F00\">Rollover!</strong> \\r\\n\\t\\t\\t\\t\\t\\t\\t\\t\\t\\t\\t\\t0\\r\\n\\t\\t\\t\\t\\t\\t\\t\\t\\t\\t\\t\\t\\r\\n\\t\\t\\t\\t\\t\\t\\t\\t\\t\\t</td>\\r\\n\\t\\t\\t\\t\\t\\t\\t\\t\\t</tr>\\r\\n\\t\\t\\t\\t\\t\\t\\t\\t\\r\\n\\t\\t\\t\\t\\t\\t\\t\\t\\t<tr>\\r\\n\\t\\t\\t\\t\\t\\t\\t\\t\\t\\t<td data-title=\"Numbers Matched\" class=\"colour\">\\r\\n\\t\\t\\t\\t\\t\\t\\t\\t\\t\\t\\t<span class=\"prizeName\"><span class=\"ball\">5 </span> + <span class=\"star\"> 1</span></span></span>\\r\\n\\t\\t\\t\\t\\t\\t\\t\\t\\t\\t</td>\\r\\n\\t\\t\\t\\t\\t\\t\\t\\t\\t\\t<td data-title=\"Prize Per Winner\" class=\"righty\">\\r\\n\\t\\t\\t\\t\\t\\t\\t\\t\\t\\t\\t&pound;0.00\\r\\n\\t\\t\\t\\t\\t\\t\\t\\t\\t\\t\\t\\r\\n\\t\\t\\t\\t\\t\\t\\t\\t\\t\\t</td>\\r\\n\\t\\t\\t\\t\\t\\t\\t\\t\\t\\t\\r\\n\\t\\t\\t\\t\\t\\t\\t\\t\\t\\t\\t<td data-title=\"UK Winners\" class=\"righty\">\\r\\n\\t\\t\\t\\t\\t\\t\\t\\t\\t\\t\\t\\t0\\r\\n\\t\\t\\t\\t\\t\\t\\t\\t\\t\\t\\t\\t\\r\\n\\t\\t\\t\\t\\t\\t\\t\\t\\t\\t\\t</td>\\r\\n\\t\\t\\t\\t\\t\\t\\t\\t\\t\\t\\r\\n\\t\\t\\t\\t\\t\\t\\t\\t\\t\\t\\t<td data-title=\"Prize Fund Amount\" class=\"righty\">\\r\\n\\t\\t\\t\\t\\t\\t\\t\\t\\t\\t\\t\\t&pound;0.00\\r\\n\\t\\t\\t\\t\\t\\t\\t\\t\\t\\t\\t\\t\\r\\n\\t\\t\\t\\t\\t\\t\\t\\t\\t\\t\\t</td>\\r\\n\\t\\t\\t\\t\\t\\t\\t\\t\\t\\t\\r\\n\\t\\t\\t\\t\\t\\t\\t\\t\\t\\t<td data-title=\"Total Winners\" class=\"righty\">\\r\\n\\t\\t\\t\\t\\t\\t\\t\\t\\t\\t\\t0\\r\\n\\t\\t\\t\\t\\t\\t\\t\\t\\t\\t\\t\\t\\r\\n\\t\\t\\t\\t\\t\\t\\t\\t\\t\\t</td>\\r\\n\\t\\t\\t\\t\\t\\t\\t\\t\\t</tr>\\r\\n\\t\\t\\t\\t\\t\\t\\t\\t\\r\\n\\t\\t\\t\\t\\t\\t\\t\\t\\t<tr>\\r\\n\\t\\t\\t\\t\\t\\t\\t\\t\\t\\t<td data-title=\"Numbers Matched\" class=\"colour\">\\r\\n\\t\\t\\t\\t\\t\\t\\t\\t\\t\\t\\t<span class=\"prizeName\"><span class=\"ball\">5</span></span>\\r\\n\\t\\t\\t\\t\\t\\t\\t\\t\\t\\t</td>\\r\\n\\t\\t\\t\\t\\t\\t\\t\\t\\t\\t<td data-title=\"Prize Per Winner\" class=\"righty\">\\r\\n\\t\\t\\t\\t\\t\\t\\t\\t\\t\\t\\t&pound;46,627.00\\r\\n\\t\\t\\t\\t\\t\\t\\t\\t\\t\\t\\t\\r\\n\\t\\t\\t\\t\\t\\t\\t\\t\\t\\t</td>\\r\\n\\t\\t\\t\\t\\t\\t\\t\\t\\t\\t\\r\\n\\t\\t\\t\\t\\t\\t\\t\\t\\t\\t\\t<td data-title=\"UK Winners\" class=\"righty\">\\r\\n\\t\\t\\t\\t\\t\\t\\t\\t\\t\\t\\t\\t6\\r\\n\\t\\t\\t\\t\\t\\t\\t\\t\\t\\t\\t\\t\\r\\n\\t\\t\\t\\t\\t\\t\\t\\t\\t\\t\\t</td>\\r\\n\\t\\t\\t\\t\\t\\t\\t\\t\\t\\t\\r\\n\\t\\t\\t\\t\\t\\t\\t\\t\\t\\t\\t<td data-title=\"Prize Fund Amount\" class=\"righty\">\\r\\n\\t\\t\\t\\t\\t\\t\\t\\t\\t\\t\\t\\t&pound;279,762.00\\r\\n\\t\\t\\t\\t\\t\\t\\t\\t\\t\\t\\t\\t\\r\\n\\t\\t\\t\\t\\t\\t\\t\\t\\t\\t\\t</td>\\r\\n\\t\\t\\t\\t\\t\\t\\t\\t\\t\\t\\r\\n\\t\\t\\t\\t\\t\\t\\t\\t\\t\\t<td data-title=\"Total Winners\" class=\"righty\">\\r\\n\\t\\t\\t\\t\\t\\t\\t\\t\\t\\t\\t11\\r\\n\\t\\t\\t\\t\\t\\t\\t\\t\\t\\t\\t\\t\\r\\n\\t\\t\\t\\t\\t\\t\\t\\t\\t\\t</td>\\r\\n\\t\\t\\t\\t\\t\\t\\t\\t\\t</tr>\\r\\n\\t\\t\\t\\t\\t\\t\\t\\t\\r\\n\\t\\t\\t\\t\\t\\t\\t\\t\\t<tr>\\r\\n\\t\\t\\t\\t\\t\\t\\t\\t\\t\\t<td data-title=\"Numbers Matched\" class=\"colour\">\\r\\n\\t\\t\\t\\t\\t\\t\\t\\t\\t\\t\\t<span class=\"prizeName\"><span class=\"ball\">4 </span> + <span class=\"star\"> 2</span></span></span>\\r\\n\\t\\t\\t\\t\\t\\t\\t\\t\\t\\t</td>\\r\\n\\t\\t\\t\\t\\t\\t\\t\\t\\t\\t<td data-title=\"Prize Per Winner\" class=\"righty\">\\r\\n\\t\\t\\t\\t\\t\\t\\t\\t\\t\\t\\t&pound;945.70\\r\\n\\t\\t\\t\\t\\t\\t\\t\\t\\t\\t\\t\\r\\n\\t\\t\\t\\t\\t\\t\\t\\t\\t\\t</td>\\r\\n\\t\\t\\t\\t\\t\\t\\t\\t\\t\\t\\r\\n\\t\\t\\t\\t\\t\\t\\t\\t\\t\\t\\t<td data-title=\"UK Winners\" class=\"righty\">\\r\\n\\t\\t\\t\\t\\t\\t\\t\\t\\t\\t\\t\\t10\\r\\n\\t\\t\\t\\t\\t\\t\\t\\t\\t\\t\\t\\t\\r\\n\\t\\t\\t\\t\\t\\t\\t\\t\\t\\t\\t</td>\\r\\n\\t\\t\\t\\t\\t\\t\\t\\t\\t\\t\\r\\n\\t\\t\\t\\t\\t\\t\\t\\t\\t\\t\\t<td data-title=\"Prize Fund Amount\" class=\"righty\">\\r\\n\\t\\t\\t\\t\\t\\t\\t\\t\\t\\t\\t\\t&pound;9,457.00\\r\\n\\t\\t\\t\\t\\t\\t\\t\\t\\t\\t\\t\\t\\r\\n\\t\\t\\t\\t\\t\\t\\t\\t\\t\\t\\t</td>\\r\\n\\t\\t\\t\\t\\t\\t\\t\\t\\t\\t\\r\\n\\t\\t\\t\\t\\t\\t\\t\\t\\t\\t<td data-title=\"Total Winners\" class=\"righty\">\\r\\n\\t\\t\\t\\t\\t\\t\\t\\t\\t\\t\\t32\\r\\n\\t\\t\\t\\t\\t\\t\\t\\t\\t\\t\\t\\t\\r\\n\\t\\t\\t\\t\\t\\t\\t\\t\\t\\t</td>\\r\\n\\t\\t\\t\\t\\t\\t\\t\\t\\t</tr>\\r\\n\\t\\t\\t\\t\\t\\t\\t\\t\\r\\n\\t\\t\\t\\t\\t\\t\\t\\t\\t<tr>\\r\\n\\t\\t\\t\\t\\t\\t\\t\\t\\t\\t<td data-title=\"Numbers Matched\" class=\"colour\">\\r\\n\\t\\t\\t\\t\\t\\t\\t\\t\\t\\t\\t<span class=\"prizeName\"><span class=\"ball\">4 </span> + <span class=\"star\"> 1</span></span></span>\\r\\n\\t\\t\\t\\t\\t\\t\\t\\t\\t\\t</td>\\r\\n\\t\\t\\t\\t\\t\\t\\t\\t\\t\\t<td data-title=\"Prize Per Winner\" class=\"righty\">\\r\\n\\t\\t\\t\\t\\t\\t\\t\\t\\t\\t\\t&pound;92.10\\r\\n\\t\\t\\t\\t\\t\\t\\t\\t\\t\\t\\t\\r\\n\\t\\t\\t\\t\\t\\t\\t\\t\\t\\t</td>\\r\\n\\t\\t\\t\\t\\t\\t\\t\\t\\t\\t\\r\\n\\t\\t\\t\\t\\t\\t\\t\\t\\t\\t\\t<td data-title=\"UK Winners\" class=\"righty\">\\r\\n\\t\\t\\t\\t\\t\\t\\t\\t\\t\\t\\t\\t188\\r\\n\\t\\t\\t\\t\\t\\t\\t\\t\\t\\t\\t\\t\\r\\n\\t\\t\\t\\t\\t\\t\\t\\t\\t\\t\\t</td>\\r\\n\\t\\t\\t\\t\\t\\t\\t\\t\\t\\t\\r\\n\\t\\t\\t\\t\\t\\t\\t\\t\\t\\t\\t<td data-title=\"Prize Fund Amount\" class=\"righty\">\\r\\n\\t\\t\\t\\t\\t\\t\\t\\t\\t\\t\\t\\t&pound;17,314.80\\r\\n\\t\\t\\t\\t\\t\\t\\t\\t\\t\\t\\t\\t\\r\\n\\t\\t\\t\\t\\t\\t\\t\\t\\t\\t\\t</td>\\r\\n\\t\\t\\t\\t\\t\\t\\t\\t\\t\\t\\r\\n\\t\\t\\t\\t\\t\\t\\t\\t\\t\\t<td data-title=\"Total Winners\" class=\"righty\">\\r\\n\\t\\t\\t\\t\\t\\t\\t\\t\\t\\t\\t605\\r\\n\\t\\t\\t\\t\\t\\t\\t\\t\\t\\t\\t\\t\\r\\n\\t\\t\\t\\t\\t\\t\\t\\t\\t\\t</td>\\r\\n\\t\\t\\t\\t\\t\\t\\t\\t\\t</tr>\\r\\n\\t\\t\\t\\t\\t\\t\\t\\t\\r\\n\\t\\t\\t\\t\\t\\t\\t\\t\\t<tr>\\r\\n\\t\\t\\t\\t\\t\\t\\t\\t\\t\\t<td data-title=\"Numbers Matched\" class=\"colour\">\\r\\n\\t\\t\\t\\t\\t\\t\\t\\t\\t\\t\\t<span class=\"prizeName\"><span class=\"ball\">3 </span> + <span class=\"star\"> 2</span></span></span>\\r\\n\\t\\t\\t\\t\\t\\t\\t\\t\\t\\t</td>\\r\\n\\t\\t\\t\\t\\t\\t\\t\\t\\t\\t<td data-title=\"Prize Per Winner\" class=\"righty\">\\r\\n\\t\\t\\t\\t\\t\\t\\t\\t\\t\\t\\t&pound;50.90\\r\\n\\t\\t\\t\\t\\t\\t\\t\\t\\t\\t\\t\\r\\n\\t\\t\\t\\t\\t\\t\\t\\t\\t\\t</td>\\r\\n\\t\\t\\t\\t\\t\\t\\t\\t\\t\\t\\r\\n\\t\\t\\t\\t\\t\\t\\t\\t\\t\\t\\t<td data-title=\"UK Winners\" class=\"righty\">\\r\\n\\t\\t\\t\\t\\t\\t\\t\\t\\t\\t\\t\\t410\\r\\n\\t\\t\\t\\t\\t\\t\\t\\t\\t\\t\\t\\t\\r\\n\\t\\t\\t\\t\\t\\t\\t\\t\\t\\t\\t</td>\\r\\n\\t\\t\\t\\t\\t\\t\\t\\t\\t\\t\\r\\n\\t\\t\\t\\t\\t\\t\\t\\t\\t\\t\\t<td data-title=\"Prize Fund Amount\" class=\"righty\">\\r\\n\\t\\t\\t\\t\\t\\t\\t\\t\\t\\t\\t\\t&pound;20,869.00\\r\\n\\t\\t\\t\\t\\t\\t\\t\\t\\t\\t\\t\\t\\r\\n\\t\\t\\t\\t\\t\\t\\t\\t\\t\\t\\t</td>\\r\\n\\t\\t\\t\\t\\t\\t\\t\\t\\t\\t\\r\\n\\t\\t\\t\\t\\t\\t\\t\\t\\t\\t<td data-title=\"Total Winners\" class=\"righty\">\\r\\n\\t\\t\\t\\t\\t\\t\\t\\t\\t\\t\\t1,156\\r\\n\\t\\t\\t\\t\\t\\t\\t\\t\\t\\t\\t\\t\\r\\n\\t\\t\\t\\t\\t\\t\\t\\t\\t\\t</td>\\r\\n\\t\\t\\t\\t\\t\\t\\t\\t\\t</tr>\\r\\n\\t\\t\\t\\t\\t\\t\\t\\t\\r\\n\\t\\t\\t\\t\\t\\t\\t\\t\\t<tr>\\r\\n\\t\\t\\t\\t\\t\\t\\t\\t\\t\\t<td data-title=\"Numbers Matched\" class=\"colour\">\\r\\n\\t\\t\\t\\t\\t\\t\\t\\t\\t\\t\\t<span class=\"prizeName\"><span class=\"ball\">4</span></span>\\r\\n\\t\\t\\t\\t\\t\\t\\t\\t\\t\\t</td>\\r\\n\\t\\t\\t\\t\\t\\t\\t\\t\\t\\t<td data-title=\"Prize Per Winner\" class=\"righty\">\\r\\n\\t\\t\\t\\t\\t\\t\\t\\t\\t\\t\\t&pound;27.50\\r\\n\\t\\t\\t\\t\\t\\t\\t\\t\\t\\t\\t\\r\\n\\t\\t\\t\\t\\t\\t\\t\\t\\t\\t</td>\\r\\n\\t\\t\\t\\t\\t\\t\\t\\t\\t\\t\\r\\n\\t\\t\\t\\t\\t\\t\\t\\t\\t\\t\\t<td data-title=\"UK Winners\" class=\"righty\">\\r\\n\\t\\t\\t\\t\\t\\t\\t\\t\\t\\t\\t\\t496\\r\\n\\t\\t\\t\\t\\t\\t\\t\\t\\t\\t\\t\\t\\r\\n\\t\\t\\t\\t\\t\\t\\t\\t\\t\\t\\t</td>\\r\\n\\t\\t\\t\\t\\t\\t\\t\\t\\t\\t\\r\\n\\t\\t\\t\\t\\t\\t\\t\\t\\t\\t\\t<td data-title=\"Prize Fund Amount\" class=\"righty\">\\r\\n\\t\\t\\t\\t\\t\\t\\t\\t\\t\\t\\t\\t&pound;13,640.00\\r\\n\\t\\t\\t\\t\\t\\t\\t\\t\\t\\t\\t\\t\\r\\n\\t\\t\\t\\t\\t\\t\\t\\t\\t\\t\\t</td>\\r\\n\\t\\t\\t\\t\\t\\t\\t\\t\\t\\t\\r\\n\\t\\t\\t\\t\\t\\t\\t\\t\\t\\t<td data-title=\"Total Winners\" class=\"righty\">\\r\\n\\t\\t\\t\\t\\t\\t\\t\\t\\t\\t\\t1,502\\r\\n\\t\\t\\t\\t\\t\\t\\t\\t\\t\\t\\t\\t\\r\\n\\t\\t\\t\\t\\t\\t\\t\\t\\t\\t</td>\\r\\n\\t\\t\\t\\t\\t\\t\\t\\t\\t</tr>\\r\\n\\t\\t\\t\\t\\t\\t\\t\\t\\r\\n\\t\\t\\t\\t\\t\\t\\t\\t\\t<tr>\\r\\n\\t\\t\\t\\t\\t\\t\\t\\t\\t\\t<td data-title=\"Numbers Matched\" class=\"colour\">\\r\\n\\t\\t\\t\\t\\t\\t\\t\\t\\t\\t\\t<span class=\"prizeName\"><span class=\"ball\">2 </span> + <span class=\"star\"> 2</span></span></span>\\r\\n\\t\\t\\t\\t\\t\\t\\t\\t\\t\\t</td>\\r\\n\\t\\t\\t\\t\\t\\t\\t\\t\\t\\t<td data-title=\"Prize Per Winner\" class=\"righty\">\\r\\n\\t\\t\\t\\t\\t\\t\\t\\t\\t\\t\\t&pound;12.20\\r\\n\\t\\t\\t\\t\\t\\t\\t\\t\\t\\t\\t\\r\\n\\t\\t\\t\\t\\t\\t\\t\\t\\t\\t</td>\\r\\n\\t\\t\\t\\t\\t\\t\\t\\t\\t\\t\\r\\n\\t\\t\\t\\t\\t\\t\\t\\t\\t\\t\\t<td data-title=\"UK Winners\" class=\"righty\">\\r\\n\\t\\t\\t\\t\\t\\t\\t\\t\\t\\t\\t\\t5,694\\r\\n\\t\\t\\t\\t\\t\\t\\t\\t\\t\\t\\t\\t\\r\\n\\t\\t\\t\\t\\t\\t\\t\\t\\t\\t\\t</td>\\r\\n\\t\\t\\t\\t\\t\\t\\t\\t\\t\\t\\r\\n\\t\\t\\t\\t\\t\\t\\t\\t\\t\\t\\t<td data-title=\"Prize Fund Amount\" class=\"righty\">\\r\\n\\t\\t\\t\\t\\t\\t\\t\\t\\t\\t\\t\\t&pound;69,466.80\\r\\n\\t\\t\\t\\t\\t\\t\\t\\t\\t\\t\\t\\t\\r\\n\\t\\t\\t\\t\\t\\t\\t\\t\\t\\t\\t</td>\\r\\n\\t\\t\\t\\t\\t\\t\\t\\t\\t\\t\\r\\n\\t\\t\\t\\t\\t\\t\\t\\t\\t\\t<td data-title=\"Total Winners\" class=\"righty\">\\r\\n\\t\\t\\t\\t\\t\\t\\t\\t\\t\\t\\t16,848\\r\\n\\t\\t\\t\\t\\t\\t\\t\\t\\t\\t\\t\\t\\r\\n\\t\\t\\t\\t\\t\\t\\t\\t\\t\\t</td>\\r\\n\\t\\t\\t\\t\\t\\t\\t\\t\\t</tr>\\r\\n\\t\\t\\t\\t\\t\\t\\t\\t\\r\\n\\t\\t\\t\\t\\t\\t\\t\\t\\t<tr>\\r\\n\\t\\t\\t\\t\\t\\t\\t\\t\\t\\t<td data-title=\"Numbers Matched\" class=\"colour\">\\r\\n\\t\\t\\t\\t\\t\\t\\t\\t\\t\\t\\t<span class=\"prizeName\"><span class=\"ball\">3 </span> + <span class=\"star\"> 1</span></span></span>\\r\\n\\t\\t\\t\\t\\t\\t\\t\\t\\t\\t</td>\\r\\n\\t\\t\\t\\t\\t\\t\\t\\t\\t\\t<td data-title=\"Prize Per Winner\" class=\"righty\">\\r\\n\\t\\t\\t\\t\\t\\t\\t\\t\\t\\t\\t&pound;8.90\\r\\n\\t\\t\\t\\t\\t\\t\\t\\t\\t\\t\\t\\r\\n\\t\\t\\t\\t\\t\\t\\t\\t\\t\\t</td>\\r\\n\\t\\t\\t\\t\\t\\t\\t\\t\\t\\t\\r\\n\\t\\t\\t\\t\\t\\t\\t\\t\\t\\t\\t<td data-title=\"UK Winners\" class=\"righty\">\\r\\n\\t\\t\\t\\t\\t\\t\\t\\t\\t\\t\\t\\t8,573\\r\\n\\t\\t\\t\\t\\t\\t\\t\\t\\t\\t\\t\\t\\r\\n\\t\\t\\t\\t\\t\\t\\t\\t\\t\\t\\t</td>\\r\\n\\t\\t\\t\\t\\t\\t\\t\\t\\t\\t\\r\\n\\t\\t\\t\\t\\t\\t\\t\\t\\t\\t\\t<td data-title=\"Prize Fund Amount\" class=\"righty\">\\r\\n\\t\\t\\t\\t\\t\\t\\t\\t\\t\\t\\t\\t&pound;76,299.70\\r\\n\\t\\t\\t\\t\\t\\t\\t\\t\\t\\t\\t\\t\\r\\n\\t\\t\\t\\t\\t\\t\\t\\t\\t\\t\\t</td>\\r\\n\\t\\t\\t\\t\\t\\t\\t\\t\\t\\t\\r\\n\\t\\t\\t\\t\\t\\t\\t\\t\\t\\t<td data-title=\"Total Winners\" class=\"righty\">\\r\\n\\t\\t\\t\\t\\t\\t\\t\\t\\t\\t\\t25,854\\r\\n\\t\\t\\t\\t\\t\\t\\t\\t\\t\\t\\t\\t\\r\\n\\t\\t\\t\\t\\t\\t\\t\\t\\t\\t</td>\\r\\n\\t\\t\\t\\t\\t\\t\\t\\t\\t</tr>\\r\\n\\t\\t\\t\\t\\t\\t\\t\\t\\r\\n\\t\\t\\t\\t\\t\\t\\t\\t\\t<tr>\\r\\n\\t\\t\\t\\t\\t\\t\\t\\t\\t\\t<td data-title=\"Numbers Matched\" class=\"colour\">\\r\\n\\t\\t\\t\\t\\t\\t\\t\\t\\t\\t\\t<span class=\"prizeName\"><span class=\"ball\">3</span></span>\\r\\n\\t\\t\\t\\t\\t\\t\\t\\t\\t\\t</td>\\r\\n\\t\\t\\t\\t\\t\\t\\t\\t\\t\\t<td data-title=\"Prize Per Winner\" class=\"righty\">\\r\\n\\t\\t\\t\\t\\t\\t\\t\\t\\t\\t\\t&pound;6.30\\r\\n\\t\\t\\t\\t\\t\\t\\t\\t\\t\\t\\t\\r\\n\\t\\t\\t\\t\\t\\t\\t\\t\\t\\t</td>\\r\\n\\t\\t\\t\\t\\t\\t\\t\\t\\t\\t\\r\\n\\t\\t\\t\\t\\t\\t\\t\\t\\t\\t\\t<td data-title=\"UK Winners\" class=\"righty\">\\r\\n\\t\\t\\t\\t\\t\\t\\t\\t\\t\\t\\t\\t21,565\\r\\n\\t\\t\\t\\t\\t\\t\\t\\t\\t\\t\\t\\t\\r\\n\\t\\t\\t\\t\\t\\t\\t\\t\\t\\t\\t</td>\\r\\n\\t\\t\\t\\t\\t\\t\\t\\t\\t\\t\\r\\n\\t\\t\\t\\t\\t\\t\\t\\t\\t\\t\\t<td data-title=\"Prize Fund Amount\" class=\"righty\">\\r\\n\\t\\t\\t\\t\\t\\t\\t\\t\\t\\t\\t\\t&pound;135,859.50\\r\\n\\t\\t\\t\\t\\t\\t\\t\\t\\t\\t\\t\\t\\r\\n\\t\\t\\t\\t\\t\\t\\t\\t\\t\\t\\t</td>\\r\\n\\t\\t\\t\\t\\t\\t\\t\\t\\t\\t\\r\\n\\t\\t\\t\\t\\t\\t\\t\\t\\t\\t<td data-title=\"Total Winners\" class=\"righty\">\\r\\n\\t\\t\\t\\t\\t\\t\\t\\t\\t\\t\\t67,339\\r\\n\\t\\t\\t\\t\\t\\t\\t\\t\\t\\t\\t\\t\\r\\n\\t\\t\\t\\t\\t\\t\\t\\t\\t\\t</td>\\r\\n\\t\\t\\t\\t\\t\\t\\t\\t\\t</tr>\\r\\n\\t\\t\\t\\t\\t\\t\\t\\t\\r\\n\\t\\t\\t\\t\\t\\t\\t\\t\\t<tr>\\r\\n\\t\\t\\t\\t\\t\\t\\t\\t\\t\\t<td data-title=\"Numbers Matched\" class=\"colour\">\\r\\n\\t\\t\\t\\t\\t\\t\\t\\t\\t\\t\\t<span class=\"prizeName\"><span class=\"ball\">1 </span> + <span class=\"star\"> 2</span></span></span>\\r\\n\\t\\t\\t\\t\\t\\t\\t\\t\\t\\t</td>\\r\\n\\t\\t\\t\\t\\t\\t\\t\\t\\t\\t<td data-title=\"Prize Per Winner\" class=\"righty\">\\r\\n\\t\\t\\t\\t\\t\\t\\t\\t\\t\\t\\t&pound;5.80\\r\\n\\t\\t\\t\\t\\t\\t\\t\\t\\t\\t\\t\\r\\n\\t\\t\\t\\t\\t\\t\\t\\t\\t\\t</td>\\r\\n\\t\\t\\t\\t\\t\\t\\t\\t\\t\\t\\r\\n\\t\\t\\t\\t\\t\\t\\t\\t\\t\\t\\t<td data-title=\"UK Winners\" class=\"righty\">\\r\\n\\t\\t\\t\\t\\t\\t\\t\\t\\t\\t\\t\\t29,695\\r\\n\\t\\t\\t\\t\\t\\t\\t\\t\\t\\t\\t\\t\\r\\n\\t\\t\\t\\t\\t\\t\\t\\t\\t\\t\\t</td>\\r\\n\\t\\t\\t\\t\\t\\t\\t\\t\\t\\t\\r\\n\\t\\t\\t\\t\\t\\t\\t\\t\\t\\t\\t<td data-title=\"Prize Fund Amount\" class=\"righty\">\\r\\n\\t\\t\\t\\t\\t\\t\\t\\t\\t\\t\\t\\t&pound;172,231.00\\r\\n\\t\\t\\t\\t\\t\\t\\t\\t\\t\\t\\t\\t\\r\\n\\t\\t\\t\\t\\t\\t\\t\\t\\t\\t\\t</td>\\r\\n\\t\\t\\t\\t\\t\\t\\t\\t\\t\\t\\r\\n\\t\\t\\t\\t\\t\\t\\t\\t\\t\\t<td data-title=\"Total Winners\" class=\"righty\">\\r\\n\\t\\t\\t\\t\\t\\t\\t\\t\\t\\t\\t89,036\\r\\n\\t\\t\\t\\t\\t\\t\\t\\t\\t\\t\\t\\t\\r\\n\\t\\t\\t\\t\\t\\t\\t\\t\\t\\t</td>\\r\\n\\t\\t\\t\\t\\t\\t\\t\\t\\t</tr>\\r\\n\\t\\t\\t\\t\\t\\t\\t\\t\\r\\n\\t\\t\\t\\t\\t\\t\\t\\t\\t<tr>\\r\\n\\t\\t\\t\\t\\t\\t\\t\\t\\t\\t<td data-title=\"Numbers Matched\" class=\"colour\">\\r\\n\\t\\t\\t\\t\\t\\t\\t\\t\\t\\t\\t<span class=\"prizeName\"><span class=\"ball\">2 </span> + <span class=\"star\"> 1</span></span></span>\\r\\n\\t\\t\\t\\t\\t\\t\\t\\t\\t\\t</td>\\r\\n\\t\\t\\t\\t\\t\\t\\t\\t\\t\\t<td data-title=\"Prize Per Winner\" class=\"righty\">\\r\\n\\t\\t\\t\\t\\t\\t\\t\\t\\t\\t\\t&pound;4.30\\r\\n\\t\\t\\t\\t\\t\\t\\t\\t\\t\\t\\t\\r\\n\\t\\t\\t\\t\\t\\t\\t\\t\\t\\t</td>\\r\\n\\t\\t\\t\\t\\t\\t\\t\\t\\t\\t\\r\\n\\t\\t\\t\\t\\t\\t\\t\\t\\t\\t\\t<td data-title=\"UK Winners\" class=\"righty\">\\r\\n\\t\\t\\t\\t\\t\\t\\t\\t\\t\\t\\t\\t121,961\\r\\n\\t\\t\\t\\t\\t\\t\\t\\t\\t\\t\\t\\t\\r\\n\\t\\t\\t\\t\\t\\t\\t\\t\\t\\t\\t</td>\\r\\n\\t\\t\\t\\t\\t\\t\\t\\t\\t\\t\\r\\n\\t\\t\\t\\t\\t\\t\\t\\t\\t\\t\\t<td data-title=\"Prize Fund Amount\" class=\"righty\">\\r\\n\\t\\t\\t\\t\\t\\t\\t\\t\\t\\t\\t\\t&pound;524,432.30\\r\\n\\t\\t\\t\\t\\t\\t\\t\\t\\t\\t\\t\\t\\r\\n\\t\\t\\t\\t\\t\\t\\t\\t\\t\\t\\t</td>\\r\\n\\t\\t\\t\\t\\t\\t\\t\\t\\t\\t\\r\\n\\t\\t\\t\\t\\t\\t\\t\\t\\t\\t<td data-title=\"Total Winners\" class=\"righty\">\\r\\n\\t\\t\\t\\t\\t\\t\\t\\t\\t\\t\\t373,985\\r\\n\\t\\t\\t\\t\\t\\t\\t\\t\\t\\t\\t\\t\\r\\n\\t\\t\\t\\t\\t\\t\\t\\t\\t\\t</td>\\r\\n\\t\\t\\t\\t\\t\\t\\t\\t\\t</tr>\\r\\n\\t\\t\\t\\t\\t\\t\\t\\t\\r\\n\\t\\t\\t\\t\\t\\t\\t\\t\\t<tr>\\r\\n\\t\\t\\t\\t\\t\\t\\t\\t\\t\\t<td data-title=\"Numbers Matched\" class=\"colour\">\\r\\n\\t\\t\\t\\t\\t\\t\\t\\t\\t\\t\\t<span class=\"prizeName\"><span class=\"ball\">2</span></span>\\r\\n\\t\\t\\t\\t\\t\\t\\t\\t\\t\\t</td>\\r\\n\\t\\t\\t\\t\\t\\t\\t\\t\\t\\t<td data-title=\"Prize Per Winner\" class=\"righty\">\\r\\n\\t\\t\\t\\t\\t\\t\\t\\t\\t\\t\\t&pound;2.70\\r\\n\\t\\t\\t\\t\\t\\t\\t\\t\\t\\t\\t\\r\\n\\t\\t\\t\\t\\t\\t\\t\\t\\t\\t</td>\\r\\n\\t\\t\\t\\t\\t\\t\\t\\t\\t\\t\\r\\n\\t\\t\\t\\t\\t\\t\\t\\t\\t\\t\\t<td data-title=\"UK Winners\" class=\"righty\">\\r\\n\\t\\t\\t\\t\\t\\t\\t\\t\\t\\t\\t\\t303,158\\r\\n\\t\\t\\t\\t\\t\\t\\t\\t\\t\\t\\t\\t\\r\\n\\t\\t\\t\\t\\t\\t\\t\\t\\t\\t\\t</td>\\r\\n\\t\\t\\t\\t\\t\\t\\t\\t\\t\\t\\r\\n\\t\\t\\t\\t\\t\\t\\t\\t\\t\\t\\t<td data-title=\"Prize Fund Amount\" class=\"righty\">\\r\\n\\t\\t\\t\\t\\t\\t\\t\\t\\t\\t\\t\\t&pound;818,526.60\\r\\n\\t\\t\\t\\t\\t\\t\\t\\t\\t\\t\\t\\t\\r\\n\\t\\t\\t\\t\\t\\t\\t\\t\\t\\t\\t</td>\\r\\n\\t\\t\\t\\t\\t\\t\\t\\t\\t\\t\\r\\n\\t\\t\\t\\t\\t\\t\\t\\t\\t\\t<td data-title=\"Total Winners\" class=\"righty\">\\r\\n\\t\\t\\t\\t\\t\\t\\t\\t\\t\\t\\t972,679\\r\\n\\t\\t\\t\\t\\t\\t\\t\\t\\t\\t\\t\\t\\r\\n\\t\\t\\t\\t\\t\\t\\t\\t\\t\\t</td>\\r\\n\\t\\t\\t\\t\\t\\t\\t\\t\\t</tr>\\r\\n\\t\\t\\t\\t\\t\\t\\t\\t\\r\\n\\t\\t\\t\\t\\t\\t\\t\\t\\t<tr class=\"totals\">\\r\\n\\t\\t\\t\\t\\t\\t\\t\\t\\t\\t<td data-title=\"Numbers Matched\" class=\"colour\">\\r\\n\\t\\t\\t\\t\\t\\t\\t\\t\\t\\t\\t<span class=\"prizeName\">Totals</span>\\r\\n\\t\\t\\t\\t\\t\\t\\t\\t\\t\\t</td>\\r\\n\\t\\t\\t\\t\\t\\t\\t\\t\\t\\t<td data-title=\"Prize Per Winner\" class=\"righty\">\\r\\n\\t\\t\\t\\t\\t\\t\\t\\t\\t\\t\\t\\r\\n\\t\\t\\t\\t\\t\\t\\t\\t\\t\\t\\t\\t-\\r\\n\\t\\t\\t\\t\\t\\t\\t\\t\\t\\t\\t\\r\\n\\t\\t\\t\\t\\t\\t\\t\\t\\t\\t</td>\\r\\n\\t\\t\\t\\t\\t\\t\\t\\t\\t\\t\\r\\n\\t\\t\\t\\t\\t\\t\\t\\t\\t\\t\\t<td data-title=\"UK Winners\" class=\"righty\">\\r\\n\\t\\t\\t\\t\\t\\t\\t\\t\\t\\t\\t\\t491,756\\r\\n\\t\\t\\t\\t\\t\\t\\t\\t\\t\\t\\t\\t\\r\\n\\t\\t\\t\\t\\t\\t\\t\\t\\t\\t\\t</td>\\r\\n\\t\\t\\t\\t\\t\\t\\t\\t\\t\\t\\r\\n\\t\\t\\t\\t\\t\\t\\t\\t\\t\\t\\t<td data-title=\"Prize Fund Amount\" class=\"righty\">\\r\\n\\t\\t\\t\\t\\t\\t\\t\\t\\t\\t\\t\\t&pound;2,137,858.70\\r\\n\\t\\t\\t\\t\\t\\t\\t\\t\\t\\t\\t\\t\\r\\n\\t\\t\\t\\t\\t\\t\\t\\t\\t\\t\\t</td>\\r\\n\\t\\t\\t\\t\\t\\t\\t\\t\\t\\t\\r\\n\\t\\t\\t\\t\\t\\t\\t\\t\\t\\t<td data-title=\"Total Winners\" class=\"righty\">\\r\\n\\t\\t\\t\\t\\t\\t\\t\\t\\t\\t\\t1,549,047\\r\\n\\t\\t\\t\\t\\t\\t\\t\\t\\t\\t\\t\\t\\r\\n\\t\\t\\t\\t\\t\\t\\t\\t\\t\\t</td>\\r\\n\\t\\t\\t\\t\\t\\t\\t\\t\\t</tr>\\r\\n\\t\\t\\t\\t\\t\\t\\t\\t\\r\\n\\t\\t\\t\\t\\t\\t\\t</tbody>\\r\\n\\t\\t\\t\\t\\t\\t</table>\\r\\n\\t\\t\\t\\t\\t\\r\\n\\t\\t\\t\\t\\t\\t\\r\\n\\t\\t\\t\\t\\r\\n\\t\\t\\t\\t</div>\\r\\n\\t\\t\\t\\r\\n\\t\\t\\t\\r\\n\\t\\t\\t\\r\\n\\t\\t\\t\\t<div id=\"PrizeFR\">\\r\\n\\t\\t\\t\\t\\r\\n\\t\\t\\t\\t\\t\\r\\n\\r\\n\\t\\t\\t\\t\\t\\t<table class=\"mobFormat\">\\r\\n\\t\\t\\t\\t\\t\\t\\t<thead>\\r\\n\\t\\t\\t\\t\\t\\t\\t\\t<tr>\\r\\n\\t\\t\\t\\t\\t\\t\\t\\t\\t<th>Numbers Matched</th>\\r\\n\\t\\t\\t\\t\\t\\t\\t\\t\\t<th class=\"righty\">Prize Per Winner</th>\\r\\n\\t\\t\\t\\t\\t\\t\\t\\t\\t\\r\\n\\t\\t\\t\\t\\t\\t\\t\\t\\t\\t<th class=\"righty\">French Winners</th>\\r\\n\\t\\t\\t\\t\\t\\t\\t\\t\\t\\r\\n\\t\\t\\t\\t\\t\\t\\t\\t\\t\\t<th class=\"righty\">Prize Fund Amount</th>\\r\\n\\t\\t\\t\\t\\t\\t\\t\\t\\t\\r\\n\\t\\t\\t\\t\\t\\t\\t\\t\\t<th class=\"righty\">Total Winners</th>\\r\\n\\t\\t\\t\\t\\t\\t\\t\\t</tr>\\r\\n\\t\\t\\t\\t\\t\\t\\t</thead>\\r\\n\\t\\t\\t\\t\\t\\t\\t<tbody>\\r\\n\\t\\t\\t\\t\\t\\t\\t\\t\\r\\n\\t\\t\\t\\t\\t\\t\\t\\t\\t<tr>\\r\\n\\t\\t\\t\\t\\t\\t\\t\\t\\t\\t<td data-title=\"Numbers Matched\" class=\"colour\">\\r\\n\\t\\t\\t\\t\\t\\t\\t\\t\\t\\t\\t<span class=\"prizeName\"><span class=\"ball\">5 </span> + <span class=\"star\"> 2</span></span></span>\\r\\n\\t\\t\\t\\t\\t\\t\\t\\t\\t\\t</td>\\r\\n\\t\\t\\t\\t\\t\\t\\t\\t\\t\\t<td data-title=\"Prize Per Winner\" class=\"righty\">\\r\\n\\t\\t\\t\\t\\t\\t\\t\\t\\t\\t\\t&euro;83,786,486.80\\r\\n\\t\\t\\t\\t\\t\\t\\t\\t\\t\\t\\t\\r\\n\\t\\t\\t\\t\\t\\t\\t\\t\\t\\t</td>\\r\\n\\t\\t\\t\\t\\t\\t\\t\\t\\t\\t\\r\\n\\t\\t\\t\\t\\t\\t\\t\\t\\t\\t\\t<td data-title=\"French Winners\" class=\"righty\">\\r\\n\\t\\t\\t\\t\\t\\t\\t\\t\\t\\t\\t\\t0\\r\\n\\t\\t\\t\\t\\t\\t\\t\\t\\t\\t\\t\\t\\r\\n\\t\\t\\t\\t\\t\\t\\t\\t\\t\\t\\t</td>\\r\\n\\t\\t\\t\\t\\t\\t\\t\\t\\t\\t\\r\\n\\t\\t\\t\\t\\t\\t\\t\\t\\t\\t\\t<td data-title=\"Prize Fund Amount\" class=\"righty\">\\r\\n\\t\\t\\t\\t\\t\\t\\t\\t\\t\\t\\t\\t&euro;0.00\\r\\n\\t\\t\\t\\t\\t\\t\\t\\t\\t\\t\\t\\t\\r\\n\\t\\t\\t\\t\\t\\t\\t\\t\\t\\t\\t</td>\\r\\n\\t\\t\\t\\t\\t\\t\\t\\t\\t\\t\\r\\n\\t\\t\\t\\t\\t\\t\\t\\t\\t\\t<td data-title=\"Total Winners\" class=\"righty\">\\r\\n\\t\\t\\t\\t\\t\\t\\t\\t\\t\\t\\t\\r\\n\\t\\t\\t\\t\\t\\t\\t\\t\\t\\t\\t\\t\\t<strong style=\"color:#F00\">Rollover!</strong> \\r\\n\\t\\t\\t\\t\\t\\t\\t\\t\\t\\t\\t\\t0\\r\\n\\t\\t\\t\\t\\t\\t\\t\\t\\t\\t\\t\\t\\r\\n\\t\\t\\t\\t\\t\\t\\t\\t\\t\\t</td>\\r\\n\\t\\t\\t\\t\\t\\t\\t\\t\\t</tr>\\r\\n\\t\\t\\t\\t\\t\\t\\t\\t\\r\\n\\t\\t\\t\\t\\t\\t\\t\\t\\t<tr>\\r\\n\\t\\t\\t\\t\\t\\t\\t\\t\\t\\t<td data-title=\"Numbers Matched\" class=\"colour\">\\r\\n\\t\\t\\t\\t\\t\\t\\t\\t\\t\\t\\t<span class=\"prizeName\"><span class=\"ball\">5 </span> + <span class=\"star\"> 1</span></span></span>\\r\\n\\t\\t\\t\\t\\t\\t\\t\\t\\t\\t</td>\\r\\n\\t\\t\\t\\t\\t\\t\\t\\t\\t\\t<td data-title=\"Prize Per Winner\" class=\"righty\">\\r\\n\\t\\t\\t\\t\\t\\t\\t\\t\\t\\t\\t&euro;0.00\\r\\n\\t\\t\\t\\t\\t\\t\\t\\t\\t\\t\\t\\r\\n\\t\\t\\t\\t\\t\\t\\t\\t\\t\\t</td>\\r\\n\\t\\t\\t\\t\\t\\t\\t\\t\\t\\t\\r\\n\\t\\t\\t\\t\\t\\t\\t\\t\\t\\t\\t<td data-title=\"French Winners\" class=\"righty\">\\r\\n\\t\\t\\t\\t\\t\\t\\t\\t\\t\\t\\t\\t0\\r\\n\\t\\t\\t\\t\\t\\t\\t\\t\\t\\t\\t\\t\\r\\n\\t\\t\\t\\t\\t\\t\\t\\t\\t\\t\\t</td>\\r\\n\\t\\t\\t\\t\\t\\t\\t\\t\\t\\t\\r\\n\\t\\t\\t\\t\\t\\t\\t\\t\\t\\t\\t<td data-title=\"Prize Fund Amount\" class=\"righty\">\\r\\n\\t\\t\\t\\t\\t\\t\\t\\t\\t\\t\\t\\t&euro;0.00\\r\\n\\t\\t\\t\\t\\t\\t\\t\\t\\t\\t\\t\\t\\r\\n\\t\\t\\t\\t\\t\\t\\t\\t\\t\\t\\t</td>\\r\\n\\t\\t\\t\\t\\t\\t\\t\\t\\t\\t\\r\\n\\t\\t\\t\\t\\t\\t\\t\\t\\t\\t<td data-title=\"Total Winners\" class=\"righty\">\\r\\n\\t\\t\\t\\t\\t\\t\\t\\t\\t\\t\\t0\\r\\n\\t\\t\\t\\t\\t\\t\\t\\t\\t\\t\\t\\t\\r\\n\\t\\t\\t\\t\\t\\t\\t\\t\\t\\t</td>\\r\\n\\t\\t\\t\\t\\t\\t\\t\\t\\t</tr>\\r\\n\\t\\t\\t\\t\\t\\t\\t\\t\\r\\n\\t\\t\\t\\t\\t\\t\\t\\t\\t<tr>\\r\\n\\t\\t\\t\\t\\t\\t\\t\\t\\t\\t<td data-title=\"Numbers Matched\" class=\"colour\">\\r\\n\\t\\t\\t\\t\\t\\t\\t\\t\\t\\t\\t<span class=\"prizeName\"><span class=\"ball\">5 </span> + <span class=\"star\"> 1</span> (with Étoile+)</span>*</span>\\r\\n\\t\\t\\t\\t\\t\\t\\t\\t\\t\\t</td>\\r\\n\\t\\t\\t\\t\\t\\t\\t\\t\\t\\t<td data-title=\"Prize Per Winner\" class=\"righty\">\\r\\n\\t\\t\\t\\t\\t\\t\\t\\t\\t\\t\\t&euro;0.00\\r\\n\\t\\t\\t\\t\\t\\t\\t\\t\\t\\t\\t\\r\\n\\t\\t\\t\\t\\t\\t\\t\\t\\t\\t</td>\\r\\n\\t\\t\\t\\t\\t\\t\\t\\t\\t\\t\\r\\n\\t\\t\\t\\t\\t\\t\\t\\t\\t\\t\\t<td data-title=\"French Winners\" class=\"righty\">\\r\\n\\t\\t\\t\\t\\t\\t\\t\\t\\t\\t\\t\\t0\\r\\n\\t\\t\\t\\t\\t\\t\\t\\t\\t\\t\\t\\t\\r\\n\\t\\t\\t\\t\\t\\t\\t\\t\\t\\t\\t</td>\\r\\n\\t\\t\\t\\t\\t\\t\\t\\t\\t\\t\\r\\n\\t\\t\\t\\t\\t\\t\\t\\t\\t\\t\\t<td data-title=\"Prize Fund Amount\" class=\"righty\">\\r\\n\\t\\t\\t\\t\\t\\t\\t\\t\\t\\t\\t\\t&euro;0.00\\r\\n\\t\\t\\t\\t\\t\\t\\t\\t\\t\\t\\t\\t\\r\\n\\t\\t\\t\\t\\t\\t\\t\\t\\t\\t\\t</td>\\r\\n\\t\\t\\t\\t\\t\\t\\t\\t\\t\\t\\r\\n\\t\\t\\t\\t\\t\\t\\t\\t\\t\\t<td data-title=\"Total Winners\" class=\"righty\">\\r\\n\\t\\t\\t\\t\\t\\t\\t\\t\\t\\t\\t0\\r\\n\\t\\t\\t\\t\\t\\t\\t\\t\\t\\t\\t\\r\\n\\t\\t\\t\\t\\t\\t\\t\\t\\t\\t</td>\\r\\n\\t\\t\\t\\t\\t\\t\\t\\t\\t</tr>\\r\\n\\t\\t\\t\\t\\t\\t\\t\\t\\r\\n\\t\\t\\t\\t\\t\\t\\t\\t\\t<tr>\\r\\n\\t\\t\\t\\t\\t\\t\\t\\t\\t\\t<td data-title=\"Numbers Matched\" class=\"colour\">\\r\\n\\t\\t\\t\\t\\t\\t\\t\\t\\t\\t\\t<span class=\"prizeName\"><span class=\"ball\">5</span></span>\\r\\n\\t\\t\\t\\t\\t\\t\\t\\t\\t\\t</td>\\r\\n\\t\\t\\t\\t\\t\\t\\t\\t\\t\\t<td data-title=\"Prize Per Winner\" class=\"righty\">\\r\\n\\t\\t\\t\\t\\t\\t\\t\\t\\t\\t\\t&euro;65,420.20\\r\\n\\t\\t\\t\\t\\t\\t\\t\\t\\t\\t\\t\\r\\n\\t\\t\\t\\t\\t\\t\\t\\t\\t\\t</td>\\r\\n\\t\\t\\t\\t\\t\\t\\t\\t\\t\\t\\r\\n\\t\\t\\t\\t\\t\\t\\t\\t\\t\\t\\t<td data-title=\"French Winners\" class=\"righty\">\\r\\n\\t\\t\\t\\t\\t\\t\\t\\t\\t\\t\\t\\t2\\r\\n\\t\\t\\t\\t\\t\\t\\t\\t\\t\\t\\t\\t\\r\\n\\t\\t\\t\\t\\t\\t\\t\\t\\t\\t\\t</td>\\r\\n\\t\\t\\t\\t\\t\\t\\t\\t\\t\\t\\r\\n\\t\\t\\t\\t\\t\\t\\t\\t\\t\\t\\t<td data-title=\"Prize Fund Amount\" class=\"righty\">\\r\\n\\t\\t\\t\\t\\t\\t\\t\\t\\t\\t\\t\\t&euro;130,840.40\\r\\n\\t\\t\\t\\t\\t\\t\\t\\t\\t\\t\\t\\t\\r\\n\\t\\t\\t\\t\\t\\t\\t\\t\\t\\t\\t</td>\\r\\n\\t\\t\\t\\t\\t\\t\\t\\t\\t\\t\\r\\n\\t\\t\\t\\t\\t\\t\\t\\t\\t\\t<td data-title=\"Total Winners\" class=\"righty\">\\r\\n\\t\\t\\t\\t\\t\\t\\t\\t\\t\\t\\t11\\r\\n\\t\\t\\t\\t\\t\\t\\t\\t\\t\\t\\t\\t\\r\\n\\t\\t\\t\\t\\t\\t\\t\\t\\t\\t</td>\\r\\n\\t\\t\\t\\t\\t\\t\\t\\t\\t</tr>\\r\\n\\t\\t\\t\\t\\t\\t\\t\\t\\r\\n\\t\\t\\t\\t\\t\\t\\t\\t\\t<tr>\\r\\n\\t\\t\\t\\t\\t\\t\\t\\t\\t\\t<td data-title=\"Numbers Matched\" class=\"colour\">\\r\\n\\t\\t\\t\\t\\t\\t\\t\\t\\t\\t\\t<span class=\"prizeName\"><span class=\"ball\">4 </span> + <span class=\"star\"> 2</span></span></span>\\r\\n\\t\\t\\t\\t\\t\\t\\t\\t\\t\\t</td>\\r\\n\\t\\t\\t\\t\\t\\t\\t\\t\\t\\t<td data-title=\"Prize Per Winner\" class=\"righty\">\\r\\n\\t\\t\\t\\t\\t\\t\\t\\t\\t\\t\\t&euro;1,326.90\\r\\n\\t\\t\\t\\t\\t\\t\\t\\t\\t\\t\\t\\r\\n\\t\\t\\t\\t\\t\\t\\t\\t\\t\\t</td>\\r\\n\\t\\t\\t\\t\\t\\t\\t\\t\\t\\t\\r\\n\\t\\t\\t\\t\\t\\t\\t\\t\\t\\t\\t<td data-title=\"French Winners\" class=\"righty\">\\r\\n\\t\\t\\t\\t\\t\\t\\t\\t\\t\\t\\t\\t7\\r\\n\\t\\t\\t\\t\\t\\t\\t\\t\\t\\t\\t\\t\\r\\n\\t\\t\\t\\t\\t\\t\\t\\t\\t\\t\\t</td>\\r\\n\\t\\t\\t\\t\\t\\t\\t\\t\\t\\t\\r\\n\\t\\t\\t\\t\\t\\t\\t\\t\\t\\t\\t<td data-title=\"Prize Fund Amount\" class=\"righty\">\\r\\n\\t\\t\\t\\t\\t\\t\\t\\t\\t\\t\\t\\t&euro;9,288.30\\r\\n\\t\\t\\t\\t\\t\\t\\t\\t\\t\\t\\t\\t\\r\\n\\t\\t\\t\\t\\t\\t\\t\\t\\t\\t\\t</td>\\r\\n\\t\\t\\t\\t\\t\\t\\t\\t\\t\\t\\r\\n\\t\\t\\t\\t\\t\\t\\t\\t\\t\\t<td data-title=\"Total Winners\" class=\"righty\">\\r\\n\\t\\t\\t\\t\\t\\t\\t\\t\\t\\t\\t32\\r\\n\\t\\t\\t\\t\\t\\t\\t\\t\\t\\t\\t\\t\\r\\n\\t\\t\\t\\t\\t\\t\\t\\t\\t\\t</td>\\r\\n\\t\\t\\t\\t\\t\\t\\t\\t\\t</tr>\\r\\n\\t\\t\\t\\t\\t\\t\\t\\t\\r\\n\\t\\t\\t\\t\\t\\t\\t\\t\\t<tr>\\r\\n\\t\\t\\t\\t\\t\\t\\t\\t\\t\\t<td data-title=\"Numbers Matched\" class=\"colour\">\\r\\n\\t\\t\\t\\t\\t\\t\\t\\t\\t\\t\\t<span class=\"prizeName\"><span class=\"ball\">4 </span> + <span class=\"star\"> 2</span> (with Étoile+)</span>*</span>\\r\\n\\t\\t\\t\\t\\t\\t\\t\\t\\t\\t</td>\\r\\n\\t\\t\\t\\t\\t\\t\\t\\t\\t\\t<td data-title=\"Prize Per Winner\" class=\"righty\">\\r\\n\\t\\t\\t\\t\\t\\t\\t\\t\\t\\t\\t&euro;551.60\\r\\n\\t\\t\\t\\t\\t\\t\\t\\t\\t\\t\\t\\r\\n\\t\\t\\t\\t\\t\\t\\t\\t\\t\\t</td>\\r\\n\\t\\t\\t\\t\\t\\t\\t\\t\\t\\t\\r\\n\\t\\t\\t\\t\\t\\t\\t\\t\\t\\t\\t<td data-title=\"French Winners\" class=\"righty\">\\r\\n\\t\\t\\t\\t\\t\\t\\t\\t\\t\\t\\t\\t4\\r\\n\\t\\t\\t\\t\\t\\t\\t\\t\\t\\t\\t\\t\\r\\n\\t\\t\\t\\t\\t\\t\\t\\t\\t\\t\\t</td>\\r\\n\\t\\t\\t\\t\\t\\t\\t\\t\\t\\t\\r\\n\\t\\t\\t\\t\\t\\t\\t\\t\\t\\t\\t<td data-title=\"Prize Fund Amount\" class=\"righty\">\\r\\n\\t\\t\\t\\t\\t\\t\\t\\t\\t\\t\\t\\t&euro;2,206.40\\r\\n\\t\\t\\t\\t\\t\\t\\t\\t\\t\\t\\t\\t\\r\\n\\t\\t\\t\\t\\t\\t\\t\\t\\t\\t\\t</td>\\r\\n\\t\\t\\t\\t\\t\\t\\t\\t\\t\\t\\r\\n\\t\\t\\t\\t\\t\\t\\t\\t\\t\\t<td data-title=\"Total Winners\" class=\"righty\">\\r\\n\\t\\t\\t\\t\\t\\t\\t\\t\\t\\t\\t4\\r\\n\\t\\t\\t\\t\\t\\t\\t\\t\\t\\t\\t\\r\\n\\t\\t\\t\\t\\t\\t\\t\\t\\t\\t</td>\\r\\n\\t\\t\\t\\t\\t\\t\\t\\t\\t</tr>\\r\\n\\t\\t\\t\\t\\t\\t\\t\\t\\r\\n\\t\\t\\t\\t\\t\\t\\t\\t\\t<tr>\\r\\n\\t\\t\\t\\t\\t\\t\\t\\t\\t\\t<td data-title=\"Numbers Matched\" class=\"colour\">\\r\\n\\t\\t\\t\\t\\t\\t\\t\\t\\t\\t\\t<span class=\"prizeName\"><span class=\"ball\">4 </span> + <span class=\"star\"> 1</span></span></span>\\r\\n\\t\\t\\t\\t\\t\\t\\t\\t\\t\\t</td>\\r\\n\\t\\t\\t\\t\\t\\t\\t\\t\\t\\t<td data-title=\"Prize Per Winner\" class=\"righty\">\\r\\n\\t\\t\\t\\t\\t\\t\\t\\t\\t\\t\\t&euro;129.20\\r\\n\\t\\t\\t\\t\\t\\t\\t\\t\\t\\t\\t\\r\\n\\t\\t\\t\\t\\t\\t\\t\\t\\t\\t</td>\\r\\n\\t\\t\\t\\t\\t\\t\\t\\t\\t\\t\\r\\n\\t\\t\\t\\t\\t\\t\\t\\t\\t\\t\\t<td data-title=\"French Winners\" class=\"righty\">\\r\\n\\t\\t\\t\\t\\t\\t\\t\\t\\t\\t\\t\\t130\\r\\n\\t\\t\\t\\t\\t\\t\\t\\t\\t\\t\\t\\t\\r\\n\\t\\t\\t\\t\\t\\t\\t\\t\\t\\t\\t</td>\\r\\n\\t\\t\\t\\t\\t\\t\\t\\t\\t\\t\\r\\n\\t\\t\\t\\t\\t\\t\\t\\t\\t\\t\\t<td data-title=\"Prize Fund Amount\" class=\"righty\">\\r\\n\\t\\t\\t\\t\\t\\t\\t\\t\\t\\t\\t\\t&euro;16,796.00\\r\\n\\t\\t\\t\\t\\t\\t\\t\\t\\t\\t\\t\\t\\r\\n\\t\\t\\t\\t\\t\\t\\t\\t\\t\\t\\t</td>\\r\\n\\t\\t\\t\\t\\t\\t\\t\\t\\t\\t\\r\\n\\t\\t\\t\\t\\t\\t\\t\\t\\t\\t<td data-title=\"Total Winners\" class=\"righty\">\\r\\n\\t\\t\\t\\t\\t\\t\\t\\t\\t\\t\\t605\\r\\n\\t\\t\\t\\t\\t\\t\\t\\t\\t\\t\\t\\t\\r\\n\\t\\t\\t\\t\\t\\t\\t\\t\\t\\t</td>\\r\\n\\t\\t\\t\\t\\t\\t\\t\\t\\t</tr>\\r\\n\\t\\t\\t\\t\\t\\t\\t\\t\\r\\n\\t\\t\\t\\t\\t\\t\\t\\t\\t<tr>\\r\\n\\t\\t\\t\\t\\t\\t\\t\\t\\t\\t<td data-title=\"Numbers Matched\" class=\"colour\">\\r\\n\\t\\t\\t\\t\\t\\t\\t\\t\\t\\t\\t<span class=\"prizeName\"><span class=\"ball\">4 </span> + <span class=\"star\"> 1</span> (with Étoile+)</span>*</span>\\r\\n\\t\\t\\t\\t\\t\\t\\t\\t\\t\\t</td>\\r\\n\\t\\t\\t\\t\\t\\t\\t\\t\\t\\t<td data-title=\"Prize Per Winner\" class=\"righty\">\\r\\n\\t\\t\\t\\t\\t\\t\\t\\t\\t\\t\\t&euro;16.50\\r\\n\\t\\t\\t\\t\\t\\t\\t\\t\\t\\t\\t\\r\\n\\t\\t\\t\\t\\t\\t\\t\\t\\t\\t</td>\\r\\n\\t\\t\\t\\t\\t\\t\\t\\t\\t\\t\\r\\n\\t\\t\\t\\t\\t\\t\\t\\t\\t\\t\\t<td data-title=\"French Winners\" class=\"righty\">\\r\\n\\t\\t\\t\\t\\t\\t\\t\\t\\t\\t\\t\\t74\\r\\n\\t\\t\\t\\t\\t\\t\\t\\t\\t\\t\\t\\t\\r\\n\\t\\t\\t\\t\\t\\t\\t\\t\\t\\t\\t</td>\\r\\n\\t\\t\\t\\t\\t\\t\\t\\t\\t\\t\\r\\n\\t\\t\\t\\t\\t\\t\\t\\t\\t\\t\\t<td data-title=\"Prize Fund Amount\" class=\"righty\">\\r\\n\\t\\t\\t\\t\\t\\t\\t\\t\\t\\t\\t\\t&euro;1,221.00\\r\\n\\t\\t\\t\\t\\t\\t\\t\\t\\t\\t\\t\\t\\r\\n\\t\\t\\t\\t\\t\\t\\t\\t\\t\\t\\t</td>\\r\\n\\t\\t\\t\\t\\t\\t\\t\\t\\t\\t\\r\\n\\t\\t\\t\\t\\t\\t\\t\\t\\t\\t<td data-title=\"Total Winners\" class=\"righty\">\\r\\n\\t\\t\\t\\t\\t\\t\\t\\t\\t\\t\\t74\\r\\n\\t\\t\\t\\t\\t\\t\\t\\t\\t\\t\\t\\r\\n\\t\\t\\t\\t\\t\\t\\t\\t\\t\\t</td>\\r\\n\\t\\t\\t\\t\\t\\t\\t\\t\\t</tr>\\r\\n\\t\\t\\t\\t\\t\\t\\t\\t\\r\\n\\t\\t\\t\\t\\t\\t\\t\\t\\t<tr>\\r\\n\\t\\t\\t\\t\\t\\t\\t\\t\\t\\t<td data-title=\"Numbers Matched\" class=\"colour\">\\r\\n\\t\\t\\t\\t\\t\\t\\t\\t\\t\\t\\t<span class=\"prizeName\"><span class=\"ball\">3 </span> + <span class=\"star\"> 2</span></span></span>\\r\\n\\t\\t\\t\\t\\t\\t\\t\\t\\t\\t</td>\\r\\n\\t\\t\\t\\t\\t\\t\\t\\t\\t\\t<td data-title=\"Prize Per Winner\" class=\"righty\">\\r\\n\\t\\t\\t\\t\\t\\t\\t\\t\\t\\t\\t&euro;71.50\\r\\n\\t\\t\\t\\t\\t\\t\\t\\t\\t\\t\\t\\r\\n\\t\\t\\t\\t\\t\\t\\t\\t\\t\\t</td>\\r\\n\\t\\t\\t\\t\\t\\t\\t\\t\\t\\t\\r\\n\\t\\t\\t\\t\\t\\t\\t\\t\\t\\t\\t<td data-title=\"French Winners\" class=\"righty\">\\r\\n\\t\\t\\t\\t\\t\\t\\t\\t\\t\\t\\t\\t229\\r\\n\\t\\t\\t\\t\\t\\t\\t\\t\\t\\t\\t\\t\\r\\n\\t\\t\\t\\t\\t\\t\\t\\t\\t\\t\\t</td>\\r\\n\\t\\t\\t\\t\\t\\t\\t\\t\\t\\t\\r\\n\\t\\t\\t\\t\\t\\t\\t\\t\\t\\t\\t<td data-title=\"Prize Fund Amount\" class=\"righty\">\\r\\n\\t\\t\\t\\t\\t\\t\\t\\t\\t\\t\\t\\t&euro;16,373.50\\r\\n\\t\\t\\t\\t\\t\\t\\t\\t\\t\\t\\t\\t\\r\\n\\t\\t\\t\\t\\t\\t\\t\\t\\t\\t\\t</td>\\r\\n\\t\\t\\t\\t\\t\\t\\t\\t\\t\\t\\r\\n\\t\\t\\t\\t\\t\\t\\t\\t\\t\\t<td data-title=\"Total Winners\" class=\"righty\">\\r\\n\\t\\t\\t\\t\\t\\t\\t\\t\\t\\t\\t1,156\\r\\n\\t\\t\\t\\t\\t\\t\\t\\t\\t\\t\\t\\t\\r\\n\\t\\t\\t\\t\\t\\t\\t\\t\\t\\t</td>\\r\\n\\t\\t\\t\\t\\t\\t\\t\\t\\t</tr>\\r\\n\\t\\t\\t\\t\\t\\t\\t\\t\\r\\n\\t\\t\\t\\t\\t\\t\\t\\t\\t<tr>\\r\\n\\t\\t\\t\\t\\t\\t\\t\\t\\t\\t<td data-title=\"Numbers Matched\" class=\"colour\">\\r\\n\\t\\t\\t\\t\\t\\t\\t\\t\\t\\t\\t<span class=\"prizeName\"><span class=\"ball\">3 </span> + <span class=\"star\"> 2</span> (with Étoile+)</span>*</span>\\r\\n\\t\\t\\t\\t\\t\\t\\t\\t\\t\\t</td>\\r\\n\\t\\t\\t\\t\\t\\t\\t\\t\\t\\t<td data-title=\"Prize Per Winner\" class=\"righty\">\\r\\n\\t\\t\\t\\t\\t\\t\\t\\t\\t\\t\\t&euro;9.80\\r\\n\\t\\t\\t\\t\\t\\t\\t\\t\\t\\t\\t\\r\\n\\t\\t\\t\\t\\t\\t\\t\\t\\t\\t</td>\\r\\n\\t\\t\\t\\t\\t\\t\\t\\t\\t\\t\\r\\n\\t\\t\\t\\t\\t\\t\\t\\t\\t\\t\\t<td data-title=\"French Winners\" class=\"righty\">\\r\\n\\t\\t\\t\\t\\t\\t\\t\\t\\t\\t\\t\\t125\\r\\n\\t\\t\\t\\t\\t\\t\\t\\t\\t\\t\\t\\t\\r\\n\\t\\t\\t\\t\\t\\t\\t\\t\\t\\t\\t</td>\\r\\n\\t\\t\\t\\t\\t\\t\\t\\t\\t\\t\\r\\n\\t\\t\\t\\t\\t\\t\\t\\t\\t\\t\\t<td data-title=\"Prize Fund Amount\" class=\"righty\">\\r\\n\\t\\t\\t\\t\\t\\t\\t\\t\\t\\t\\t\\t&euro;1,225.00\\r\\n\\t\\t\\t\\t\\t\\t\\t\\t\\t\\t\\t\\t\\r\\n\\t\\t\\t\\t\\t\\t\\t\\t\\t\\t\\t</td>\\r\\n\\t\\t\\t\\t\\t\\t\\t\\t\\t\\t\\r\\n\\t\\t\\t\\t\\t\\t\\t\\t\\t\\t<td data-title=\"Total Winners\" class=\"righty\">\\r\\n\\t\\t\\t\\t\\t\\t\\t\\t\\t\\t\\t125\\r\\n\\t\\t\\t\\t\\t\\t\\t\\t\\t\\t\\t\\r\\n\\t\\t\\t\\t\\t\\t\\t\\t\\t\\t</td>\\r\\n\\t\\t\\t\\t\\t\\t\\t\\t\\t</tr>\\r\\n\\t\\t\\t\\t\\t\\t\\t\\t\\r\\n\\t\\t\\t\\t\\t\\t\\t\\t\\t<tr>\\r\\n\\t\\t\\t\\t\\t\\t\\t\\t\\t\\t<td data-title=\"Numbers Matched\" class=\"colour\">\\r\\n\\t\\t\\t\\t\\t\\t\\t\\t\\t\\t\\t<span class=\"prizeName\"><span class=\"ball\">4</span></span>\\r\\n\\t\\t\\t\\t\\t\\t\\t\\t\\t\\t</td>\\r\\n\\t\\t\\t\\t\\t\\t\\t\\t\\t\\t<td data-title=\"Prize Per Winner\" class=\"righty\">\\r\\n\\t\\t\\t\\t\\t\\t\\t\\t\\t\\t\\t&euro;38.60\\r\\n\\t\\t\\t\\t\\t\\t\\t\\t\\t\\t\\t\\r\\n\\t\\t\\t\\t\\t\\t\\t\\t\\t\\t</td>\\r\\n\\t\\t\\t\\t\\t\\t\\t\\t\\t\\t\\r\\n\\t\\t\\t\\t\\t\\t\\t\\t\\t\\t\\t<td data-title=\"French Winners\" class=\"righty\">\\r\\n\\t\\t\\t\\t\\t\\t\\t\\t\\t\\t\\t\\t264\\r\\n\\t\\t\\t\\t\\t\\t\\t\\t\\t\\t\\t\\t\\r\\n\\t\\t\\t\\t\\t\\t\\t\\t\\t\\t\\t</td>\\r\\n\\t\\t\\t\\t\\t\\t\\t\\t\\t\\t\\r\\n\\t\\t\\t\\t\\t\\t\\t\\t\\t\\t\\t<td data-title=\"Prize Fund Amount\" class=\"righty\">\\r\\n\\t\\t\\t\\t\\t\\t\\t\\t\\t\\t\\t\\t&euro;10,190.40\\r\\n\\t\\t\\t\\t\\t\\t\\t\\t\\t\\t\\t\\t\\r\\n\\t\\t\\t\\t\\t\\t\\t\\t\\t\\t\\t</td>\\r\\n\\t\\t\\t\\t\\t\\t\\t\\t\\t\\t\\r\\n\\t\\t\\t\\t\\t\\t\\t\\t\\t\\t<td data-title=\"Total Winners\" class=\"righty\">\\r\\n\\t\\t\\t\\t\\t\\t\\t\\t\\t\\t\\t1,502\\r\\n\\t\\t\\t\\t\\t\\t\\t\\t\\t\\t\\t\\t\\r\\n\\t\\t\\t\\t\\t\\t\\t\\t\\t\\t</td>\\r\\n\\t\\t\\t\\t\\t\\t\\t\\t\\t</tr>\\r\\n\\t\\t\\t\\t\\t\\t\\t\\t\\r\\n\\t\\t\\t\\t\\t\\t\\t\\t\\t<tr>\\r\\n\\t\\t\\t\\t\\t\\t\\t\\t\\t\\t<td data-title=\"Numbers Matched\" class=\"colour\">\\r\\n\\t\\t\\t\\t\\t\\t\\t\\t\\t\\t\\t<span class=\"prizeName\"><span class=\"ball\">2 </span> + <span class=\"star\"> 2</span></span></span>\\r\\n\\t\\t\\t\\t\\t\\t\\t\\t\\t\\t</td>\\r\\n\\t\\t\\t\\t\\t\\t\\t\\t\\t\\t<td data-title=\"Prize Per Winner\" class=\"righty\">\\r\\n\\t\\t\\t\\t\\t\\t\\t\\t\\t\\t\\t&euro;17.20\\r\\n\\t\\t\\t\\t\\t\\t\\t\\t\\t\\t\\t\\r\\n\\t\\t\\t\\t\\t\\t\\t\\t\\t\\t</td>\\r\\n\\t\\t\\t\\t\\t\\t\\t\\t\\t\\t\\r\\n\\t\\t\\t\\t\\t\\t\\t\\t\\t\\t\\t<td data-title=\"French Winners\" class=\"righty\">\\r\\n\\t\\t\\t\\t\\t\\t\\t\\t\\t\\t\\t\\t3,301\\r\\n\\t\\t\\t\\t\\t\\t\\t\\t\\t\\t\\t\\t\\r\\n\\t\\t\\t\\t\\t\\t\\t\\t\\t\\t\\t</td>\\r\\n\\t\\t\\t\\t\\t\\t\\t\\t\\t\\t\\r\\n\\t\\t\\t\\t\\t\\t\\t\\t\\t\\t\\t<td data-title=\"Prize Fund Amount\" class=\"righty\">\\r\\n\\t\\t\\t\\t\\t\\t\\t\\t\\t\\t\\t\\t&euro;56,777.20\\r\\n\\t\\t\\t\\t\\t\\t\\t\\t\\t\\t\\t\\t\\r\\n\\t\\t\\t\\t\\t\\t\\t\\t\\t\\t\\t</td>\\r\\n\\t\\t\\t\\t\\t\\t\\t\\t\\t\\t\\r\\n\\t\\t\\t\\t\\t\\t\\t\\t\\t\\t<td data-title=\"Total Winners\" class=\"righty\">\\r\\n\\t\\t\\t\\t\\t\\t\\t\\t\\t\\t\\t16,848\\r\\n\\t\\t\\t\\t\\t\\t\\t\\t\\t\\t\\t\\t\\r\\n\\t\\t\\t\\t\\t\\t\\t\\t\\t\\t</td>\\r\\n\\t\\t\\t\\t\\t\\t\\t\\t\\t</tr>\\r\\n\\t\\t\\t\\t\\t\\t\\t\\t\\r\\n\\t\\t\\t\\t\\t\\t\\t\\t\\t<tr>\\r\\n\\t\\t\\t\\t\\t\\t\\t\\t\\t\\t<td data-title=\"Numbers Matched\" class=\"colour\">\\r\\n\\t\\t\\t\\t\\t\\t\\t\\t\\t\\t\\t<span class=\"prizeName\"><span class=\"ball\">2 </span> + <span class=\"star\"> 2</span> (with Étoile+)</span>*</span>\\r\\n\\t\\t\\t\\t\\t\\t\\t\\t\\t\\t</td>\\r\\n\\t\\t\\t\\t\\t\\t\\t\\t\\t\\t<td data-title=\"Prize Per Winner\" class=\"righty\">\\r\\n\\t\\t\\t\\t\\t\\t\\t\\t\\t\\t\\t&euro;1.80\\r\\n\\t\\t\\t\\t\\t\\t\\t\\t\\t\\t\\t\\r\\n\\t\\t\\t\\t\\t\\t\\t\\t\\t\\t</td>\\r\\n\\t\\t\\t\\t\\t\\t\\t\\t\\t\\t\\r\\n\\t\\t\\t\\t\\t\\t\\t\\t\\t\\t\\t<td data-title=\"French Winners\" class=\"righty\">\\r\\n\\t\\t\\t\\t\\t\\t\\t\\t\\t\\t\\t\\t1,664\\r\\n\\t\\t\\t\\t\\t\\t\\t\\t\\t\\t\\t\\t\\r\\n\\t\\t\\t\\t\\t\\t\\t\\t\\t\\t\\t</td>\\r\\n\\t\\t\\t\\t\\t\\t\\t\\t\\t\\t\\r\\n\\t\\t\\t\\t\\t\\t\\t\\t\\t\\t\\t<td data-title=\"Prize Fund Amount\" class=\"righty\">\\r\\n\\t\\t\\t\\t\\t\\t\\t\\t\\t\\t\\t\\t&euro;2,995.20\\r\\n\\t\\t\\t\\t\\t\\t\\t\\t\\t\\t\\t\\t\\r\\n\\t\\t\\t\\t\\t\\t\\t\\t\\t\\t\\t</td>\\r\\n\\t\\t\\t\\t\\t\\t\\t\\t\\t\\t\\r\\n\\t\\t\\t\\t\\t\\t\\t\\t\\t\\t<td data-title=\"Total Winners\" class=\"righty\">\\r\\n\\t\\t\\t\\t\\t\\t\\t\\t\\t\\t\\t1,664\\r\\n\\t\\t\\t\\t\\t\\t\\t\\t\\t\\t\\t\\r\\n\\t\\t\\t\\t\\t\\t\\t\\t\\t\\t</td>\\r\\n\\t\\t\\t\\t\\t\\t\\t\\t\\t</tr>\\r\\n\\t\\t\\t\\t\\t\\t\\t\\t\\r\\n\\t\\t\\t\\t\\t\\t\\t\\t\\t<tr>\\r\\n\\t\\t\\t\\t\\t\\t\\t\\t\\t\\t<td data-title=\"Numbers Matched\" class=\"colour\">\\r\\n\\t\\t\\t\\t\\t\\t\\t\\t\\t\\t\\t<span class=\"prizeName\"><span class=\"ball\">3 </span> + <span class=\"star\"> 1</span></span></span>\\r\\n\\t\\t\\t\\t\\t\\t\\t\\t\\t\\t</td>\\r\\n\\t\\t\\t\\t\\t\\t\\t\\t\\t\\t<td data-title=\"Prize Per Winner\" class=\"righty\">\\r\\n\\t\\t\\t\\t\\t\\t\\t\\t\\t\\t\\t&euro;12.50\\r\\n\\t\\t\\t\\t\\t\\t\\t\\t\\t\\t\\t\\r\\n\\t\\t\\t\\t\\t\\t\\t\\t\\t\\t</td>\\r\\n\\t\\t\\t\\t\\t\\t\\t\\t\\t\\t\\r\\n\\t\\t\\t\\t\\t\\t\\t\\t\\t\\t\\t<td data-title=\"French Winners\" class=\"righty\">\\r\\n\\t\\t\\t\\t\\t\\t\\t\\t\\t\\t\\t\\t5,267\\r\\n\\t\\t\\t\\t\\t\\t\\t\\t\\t\\t\\t\\t\\r\\n\\t\\t\\t\\t\\t\\t\\t\\t\\t\\t\\t</td>\\r\\n\\t\\t\\t\\t\\t\\t\\t\\t\\t\\t\\r\\n\\t\\t\\t\\t\\t\\t\\t\\t\\t\\t\\t<td data-title=\"Prize Fund Amount\" class=\"righty\">\\r\\n\\t\\t\\t\\t\\t\\t\\t\\t\\t\\t\\t\\t&euro;65,837.50\\r\\n\\t\\t\\t\\t\\t\\t\\t\\t\\t\\t\\t\\t\\r\\n\\t\\t\\t\\t\\t\\t\\t\\t\\t\\t\\t</td>\\r\\n\\t\\t\\t\\t\\t\\t\\t\\t\\t\\t\\r\\n\\t\\t\\t\\t\\t\\t\\t\\t\\t\\t<td data-title=\"Total Winners\" class=\"righty\">\\r\\n\\t\\t\\t\\t\\t\\t\\t\\t\\t\\t\\t25,854\\r\\n\\t\\t\\t\\t\\t\\t\\t\\t\\t\\t\\t\\t\\r\\n\\t\\t\\t\\t\\t\\t\\t\\t\\t\\t</td>\\r\\n\\t\\t\\t\\t\\t\\t\\t\\t\\t</tr>\\r\\n\\t\\t\\t\\t\\t\\t\\t\\t\\r\\n\\t\\t\\t\\t\\t\\t\\t\\t\\t<tr>\\r\\n\\t\\t\\t\\t\\t\\t\\t\\t\\t\\t<td data-title=\"Numbers Matched\" class=\"colour\">\\r\\n\\t\\t\\t\\t\\t\\t\\t\\t\\t\\t\\t<span class=\"prizeName\"><span class=\"ball\">3 </span> + <span class=\"star\"> 1</span> (with Étoile+)</span>*</span>\\r\\n\\t\\t\\t\\t\\t\\t\\t\\t\\t\\t</td>\\r\\n\\t\\t\\t\\t\\t\\t\\t\\t\\t\\t<td data-title=\"Prize Per Winner\" class=\"righty\">\\r\\n\\t\\t\\t\\t\\t\\t\\t\\t\\t\\t\\t&euro;3.30\\r\\n\\t\\t\\t\\t\\t\\t\\t\\t\\t\\t\\t\\r\\n\\t\\t\\t\\t\\t\\t\\t\\t\\t\\t</td>\\r\\n\\t\\t\\t\\t\\t\\t\\t\\t\\t\\t\\r\\n\\t\\t\\t\\t\\t\\t\\t\\t\\t\\t\\t<td data-title=\"French Winners\" class=\"righty\">\\r\\n\\t\\t\\t\\t\\t\\t\\t\\t\\t\\t\\t\\t2,476\\r\\n\\t\\t\\t\\t\\t\\t\\t\\t\\t\\t\\t\\t\\r\\n\\t\\t\\t\\t\\t\\t\\t\\t\\t\\t\\t</td>\\r\\n\\t\\t\\t\\t\\t\\t\\t\\t\\t\\t\\r\\n\\t\\t\\t\\t\\t\\t\\t\\t\\t\\t\\t<td data-title=\"Prize Fund Amount\" class=\"righty\">\\r\\n\\t\\t\\t\\t\\t\\t\\t\\t\\t\\t\\t\\t&euro;8,170.80\\r\\n\\t\\t\\t\\t\\t\\t\\t\\t\\t\\t\\t\\t\\r\\n\\t\\t\\t\\t\\t\\t\\t\\t\\t\\t\\t</td>\\r\\n\\t\\t\\t\\t\\t\\t\\t\\t\\t\\t\\r\\n\\t\\t\\t\\t\\t\\t\\t\\t\\t\\t<td data-title=\"Total Winners\" class=\"righty\">\\r\\n\\t\\t\\t\\t\\t\\t\\t\\t\\t\\t\\t2,476\\r\\n\\t\\t\\t\\t\\t\\t\\t\\t\\t\\t\\t\\r\\n\\t\\t\\t\\t\\t\\t\\t\\t\\t\\t</td>\\r\\n\\t\\t\\t\\t\\t\\t\\t\\t\\t</tr>\\r\\n\\t\\t\\t\\t\\t\\t\\t\\t\\r\\n\\t\\t\\t\\t\\t\\t\\t\\t\\t<tr>\\r\\n\\t\\t\\t\\t\\t\\t\\t\\t\\t\\t<td data-title=\"Numbers Matched\" class=\"colour\">\\r\\n\\t\\t\\t\\t\\t\\t\\t\\t\\t\\t\\t<span class=\"prizeName\"><span class=\"ball\">3</span></span>\\r\\n\\t\\t\\t\\t\\t\\t\\t\\t\\t\\t</td>\\r\\n\\t\\t\\t\\t\\t\\t\\t\\t\\t\\t<td data-title=\"Prize Per Winner\" class=\"righty\">\\r\\n\\t\\t\\t\\t\\t\\t\\t\\t\\t\\t\\t&euro;8.90\\r\\n\\t\\t\\t\\t\\t\\t\\t\\t\\t\\t\\t\\r\\n\\t\\t\\t\\t\\t\\t\\t\\t\\t\\t</td>\\r\\n\\t\\t\\t\\t\\t\\t\\t\\t\\t\\t\\r\\n\\t\\t\\t\\t\\t\\t\\t\\t\\t\\t\\t<td data-title=\"French Winners\" class=\"righty\">\\r\\n\\t\\t\\t\\t\\t\\t\\t\\t\\t\\t\\t\\t14,499\\r\\n\\t\\t\\t\\t\\t\\t\\t\\t\\t\\t\\t\\t\\r\\n\\t\\t\\t\\t\\t\\t\\t\\t\\t\\t\\t</td>\\r\\n\\t\\t\\t\\t\\t\\t\\t\\t\\t\\t\\r\\n\\t\\t\\t\\t\\t\\t\\t\\t\\t\\t\\t<td data-title=\"Prize Fund Amount\" class=\"righty\">\\r\\n\\t\\t\\t\\t\\t\\t\\t\\t\\t\\t\\t\\t&euro;129,041.10\\r\\n\\t\\t\\t\\t\\t\\t\\t\\t\\t\\t\\t\\t\\r\\n\\t\\t\\t\\t\\t\\t\\t\\t\\t\\t\\t</td>\\r\\n\\t\\t\\t\\t\\t\\t\\t\\t\\t\\t\\r\\n\\t\\t\\t\\t\\t\\t\\t\\t\\t\\t<td data-title=\"Total Winners\" class=\"righty\">\\r\\n\\t\\t\\t\\t\\t\\t\\t\\t\\t\\t\\t67,339\\r\\n\\t\\t\\t\\t\\t\\t\\t\\t\\t\\t\\t\\t\\r\\n\\t\\t\\t\\t\\t\\t\\t\\t\\t\\t</td>\\r\\n\\t\\t\\t\\t\\t\\t\\t\\t\\t</tr>\\r\\n\\t\\t\\t\\t\\t\\t\\t\\t\\r\\n\\t\\t\\t\\t\\t\\t\\t\\t\\t<tr>\\r\\n\\t\\t\\t\\t\\t\\t\\t\\t\\t\\t<td data-title=\"Numbers Matched\" class=\"colour\">\\r\\n\\t\\t\\t\\t\\t\\t\\t\\t\\t\\t\\t<span class=\"prizeName\"><span class=\"ball\">1 </span> + <span class=\"star\"> 2</span></span></span>\\r\\n\\t\\t\\t\\t\\t\\t\\t\\t\\t\\t</td>\\r\\n\\t\\t\\t\\t\\t\\t\\t\\t\\t\\t<td data-title=\"Prize Per Winner\" class=\"righty\">\\r\\n\\t\\t\\t\\t\\t\\t\\t\\t\\t\\t\\t&euro;8.20\\r\\n\\t\\t\\t\\t\\t\\t\\t\\t\\t\\t\\t\\r\\n\\t\\t\\t\\t\\t\\t\\t\\t\\t\\t</td>\\r\\n\\t\\t\\t\\t\\t\\t\\t\\t\\t\\t\\r\\n\\t\\t\\t\\t\\t\\t\\t\\t\\t\\t\\t<td data-title=\"French Winners\" class=\"righty\">\\r\\n\\t\\t\\t\\t\\t\\t\\t\\t\\t\\t\\t\\t17,239\\r\\n\\t\\t\\t\\t\\t\\t\\t\\t\\t\\t\\t\\t\\r\\n\\t\\t\\t\\t\\t\\t\\t\\t\\t\\t\\t</td>\\r\\n\\t\\t\\t\\t\\t\\t\\t\\t\\t\\t\\r\\n\\t\\t\\t\\t\\t\\t\\t\\t\\t\\t\\t<td data-title=\"Prize Fund Amount\" class=\"righty\">\\r\\n\\t\\t\\t\\t\\t\\t\\t\\t\\t\\t\\t\\t&euro;141,359.80\\r\\n\\t\\t\\t\\t\\t\\t\\t\\t\\t\\t\\t\\t\\r\\n\\t\\t\\t\\t\\t\\t\\t\\t\\t\\t\\t</td>\\r\\n\\t\\t\\t\\t\\t\\t\\t\\t\\t\\t\\r\\n\\t\\t\\t\\t\\t\\t\\t\\t\\t\\t<td data-title=\"Total Winners\" class=\"righty\">\\r\\n\\t\\t\\t\\t\\t\\t\\t\\t\\t\\t\\t89,036\\r\\n\\t\\t\\t\\t\\t\\t\\t\\t\\t\\t\\t\\t\\r\\n\\t\\t\\t\\t\\t\\t\\t\\t\\t\\t</td>\\r\\n\\t\\t\\t\\t\\t\\t\\t\\t\\t</tr>\\r\\n\\t\\t\\t\\t\\t\\t\\t\\t\\r\\n\\t\\t\\t\\t\\t\\t\\t\\t\\t<tr>\\r\\n\\t\\t\\t\\t\\t\\t\\t\\t\\t\\t<td data-title=\"Numbers Matched\" class=\"colour\">\\r\\n\\t\\t\\t\\t\\t\\t\\t\\t\\t\\t\\t<span class=\"prizeName\"><span class=\"ball\">1 </span> + <span class=\"star\"> 2</span> (with Étoile+)</span>*</span>\\r\\n\\t\\t\\t\\t\\t\\t\\t\\t\\t\\t</td>\\r\\n\\t\\t\\t\\t\\t\\t\\t\\t\\t\\t<td data-title=\"Prize Per Winner\" class=\"righty\">\\r\\n\\t\\t\\t\\t\\t\\t\\t\\t\\t\\t\\t&euro;4.40\\r\\n\\t\\t\\t\\t\\t\\t\\t\\t\\t\\t\\t\\r\\n\\t\\t\\t\\t\\t\\t\\t\\t\\t\\t</td>\\r\\n\\t\\t\\t\\t\\t\\t\\t\\t\\t\\t\\r\\n\\t\\t\\t\\t\\t\\t\\t\\t\\t\\t\\t<td data-title=\"French Winners\" class=\"righty\">\\r\\n\\t\\t\\t\\t\\t\\t\\t\\t\\t\\t\\t\\t8,614\\r\\n\\t\\t\\t\\t\\t\\t\\t\\t\\t\\t\\t\\t\\r\\n\\t\\t\\t\\t\\t\\t\\t\\t\\t\\t\\t</td>\\r\\n\\t\\t\\t\\t\\t\\t\\t\\t\\t\\t\\r\\n\\t\\t\\t\\t\\t\\t\\t\\t\\t\\t\\t<td data-title=\"Prize Fund Amount\" class=\"righty\">\\r\\n\\t\\t\\t\\t\\t\\t\\t\\t\\t\\t\\t\\t&euro;37,901.60\\r\\n\\t\\t\\t\\t\\t\\t\\t\\t\\t\\t\\t\\t\\r\\n\\t\\t\\t\\t\\t\\t\\t\\t\\t\\t\\t</td>\\r\\n\\t\\t\\t\\t\\t\\t\\t\\t\\t\\t\\r\\n\\t\\t\\t\\t\\t\\t\\t\\t\\t\\t<td data-title=\"Total Winners\" class=\"righty\">\\r\\n\\t\\t\\t\\t\\t\\t\\t\\t\\t\\t\\t8,614\\r\\n\\t\\t\\t\\t\\t\\t\\t\\t\\t\\t\\t\\r\\n\\t\\t\\t\\t\\t\\t\\t\\t\\t\\t</td>\\r\\n\\t\\t\\t\\t\\t\\t\\t\\t\\t</tr>\\r\\n\\t\\t\\t\\t\\t\\t\\t\\t\\r\\n\\t\\t\\t\\t\\t\\t\\t\\t\\t<tr>\\r\\n\\t\\t\\t\\t\\t\\t\\t\\t\\t\\t<td data-title=\"Numbers Matched\" class=\"colour\">\\r\\n\\t\\t\\t\\t\\t\\t\\t\\t\\t\\t\\t<span class=\"prizeName\"><span class=\"ball\">0 </span> + <span class=\"star\"> 2</span> (with Étoile+)</span>*</span>\\r\\n\\t\\t\\t\\t\\t\\t\\t\\t\\t\\t</td>\\r\\n\\t\\t\\t\\t\\t\\t\\t\\t\\t\\t<td data-title=\"Prize Per Winner\" class=\"righty\">\\r\\n\\t\\t\\t\\t\\t\\t\\t\\t\\t\\t\\t&euro;12.40\\r\\n\\t\\t\\t\\t\\t\\t\\t\\t\\t\\t\\t\\r\\n\\t\\t\\t\\t\\t\\t\\t\\t\\t\\t</td>\\r\\n\\t\\t\\t\\t\\t\\t\\t\\t\\t\\t\\r\\n\\t\\t\\t\\t\\t\\t\\t\\t\\t\\t\\t<td data-title=\"French Winners\" class=\"righty\">\\r\\n\\t\\t\\t\\t\\t\\t\\t\\t\\t\\t\\t\\t14,325\\r\\n\\t\\t\\t\\t\\t\\t\\t\\t\\t\\t\\t\\t\\r\\n\\t\\t\\t\\t\\t\\t\\t\\t\\t\\t\\t</td>\\r\\n\\t\\t\\t\\t\\t\\t\\t\\t\\t\\t\\r\\n\\t\\t\\t\\t\\t\\t\\t\\t\\t\\t\\t<td data-title=\"Prize Fund Amount\" class=\"righty\">\\r\\n\\t\\t\\t\\t\\t\\t\\t\\t\\t\\t\\t\\t&euro;177,630.00\\r\\n\\t\\t\\t\\t\\t\\t\\t\\t\\t\\t\\t\\t\\r\\n\\t\\t\\t\\t\\t\\t\\t\\t\\t\\t\\t</td>\\r\\n\\t\\t\\t\\t\\t\\t\\t\\t\\t\\t\\r\\n\\t\\t\\t\\t\\t\\t\\t\\t\\t\\t<td data-title=\"Total Winners\" class=\"righty\">\\r\\n\\t\\t\\t\\t\\t\\t\\t\\t\\t\\t\\t14,325\\r\\n\\t\\t\\t\\t\\t\\t\\t\\t\\t\\t\\t\\r\\n\\t\\t\\t\\t\\t\\t\\t\\t\\t\\t</td>\\r\\n\\t\\t\\t\\t\\t\\t\\t\\t\\t</tr>\\r\\n\\t\\t\\t\\t\\t\\t\\t\\t\\r\\n\\t\\t\\t\\t\\t\\t\\t\\t\\t<tr>\\r\\n\\t\\t\\t\\t\\t\\t\\t\\t\\t\\t<td data-title=\"Numbers Matched\" class=\"colour\">\\r\\n\\t\\t\\t\\t\\t\\t\\t\\t\\t\\t\\t<span class=\"prizeName\"><span class=\"ball\">2 </span> + <span class=\"star\"> 1</span></span></span>\\r\\n\\t\\t\\t\\t\\t\\t\\t\\t\\t\\t</td>\\r\\n\\t\\t\\t\\t\\t\\t\\t\\t\\t\\t<td data-title=\"Prize Per Winner\" class=\"righty\">\\r\\n\\t\\t\\t\\t\\t\\t\\t\\t\\t\\t\\t&euro;6.10\\r\\n\\t\\t\\t\\t\\t\\t\\t\\t\\t\\t\\t\\r\\n\\t\\t\\t\\t\\t\\t\\t\\t\\t\\t</td>\\r\\n\\t\\t\\t\\t\\t\\t\\t\\t\\t\\t\\r\\n\\t\\t\\t\\t\\t\\t\\t\\t\\t\\t\\t<td data-title=\"French Winners\" class=\"righty\">\\r\\n\\t\\t\\t\\t\\t\\t\\t\\t\\t\\t\\t\\t76,684\\r\\n\\t\\t\\t\\t\\t\\t\\t\\t\\t\\t\\t\\t\\r\\n\\t\\t\\t\\t\\t\\t\\t\\t\\t\\t\\t</td>\\r\\n\\t\\t\\t\\t\\t\\t\\t\\t\\t\\t\\r\\n\\t\\t\\t\\t\\t\\t\\t\\t\\t\\t\\t<td data-title=\"Prize Fund Amount\" class=\"righty\">\\r\\n\\t\\t\\t\\t\\t\\t\\t\\t\\t\\t\\t\\t&euro;467,772.40\\r\\n\\t\\t\\t\\t\\t\\t\\t\\t\\t\\t\\t\\t\\r\\n\\t\\t\\t\\t\\t\\t\\t\\t\\t\\t\\t</td>\\r\\n\\t\\t\\t\\t\\t\\t\\t\\t\\t\\t\\r\\n\\t\\t\\t\\t\\t\\t\\t\\t\\t\\t<td data-title=\"Total Winners\" class=\"righty\">\\r\\n\\t\\t\\t\\t\\t\\t\\t\\t\\t\\t\\t373,985\\r\\n\\t\\t\\t\\t\\t\\t\\t\\t\\t\\t\\t\\t\\r\\n\\t\\t\\t\\t\\t\\t\\t\\t\\t\\t</td>\\r\\n\\t\\t\\t\\t\\t\\t\\t\\t\\t</tr>\\r\\n\\t\\t\\t\\t\\t\\t\\t\\t\\r\\n\\t\\t\\t\\t\\t\\t\\t\\t\\t<tr>\\r\\n\\t\\t\\t\\t\\t\\t\\t\\t\\t\\t<td data-title=\"Numbers Matched\" class=\"colour\">\\r\\n\\t\\t\\t\\t\\t\\t\\t\\t\\t\\t\\t<span class=\"prizeName\"><span class=\"ball\">2 </span> + <span class=\"star\"> 1</span> (with Étoile+)</span>*</span>\\r\\n\\t\\t\\t\\t\\t\\t\\t\\t\\t\\t</td>\\r\\n\\t\\t\\t\\t\\t\\t\\t\\t\\t\\t<td data-title=\"Prize Per Winner\" class=\"righty\">\\r\\n\\t\\t\\t\\t\\t\\t\\t\\t\\t\\t\\t&euro;2.70\\r\\n\\t\\t\\t\\t\\t\\t\\t\\t\\t\\t\\t\\r\\n\\t\\t\\t\\t\\t\\t\\t\\t\\t\\t</td>\\r\\n\\t\\t\\t\\t\\t\\t\\t\\t\\t\\t\\r\\n\\t\\t\\t\\t\\t\\t\\t\\t\\t\\t\\t<td data-title=\"French Winners\" class=\"righty\">\\r\\n\\t\\t\\t\\t\\t\\t\\t\\t\\t\\t\\t\\t37,303\\r\\n\\t\\t\\t\\t\\t\\t\\t\\t\\t\\t\\t\\t\\r\\n\\t\\t\\t\\t\\t\\t\\t\\t\\t\\t\\t</td>\\r\\n\\t\\t\\t\\t\\t\\t\\t\\t\\t\\t\\r\\n\\t\\t\\t\\t\\t\\t\\t\\t\\t\\t\\t<td data-title=\"Prize Fund Amount\" class=\"righty\">\\r\\n\\t\\t\\t\\t\\t\\t\\t\\t\\t\\t\\t\\t&euro;100,718.10\\r\\n\\t\\t\\t\\t\\t\\t\\t\\t\\t\\t\\t\\t\\r\\n\\t\\t\\t\\t\\t\\t\\t\\t\\t\\t\\t</td>\\r\\n\\t\\t\\t\\t\\t\\t\\t\\t\\t\\t\\r\\n\\t\\t\\t\\t\\t\\t\\t\\t\\t\\t<td data-title=\"Total Winners\" class=\"righty\">\\r\\n\\t\\t\\t\\t\\t\\t\\t\\t\\t\\t\\t37,303\\r\\n\\t\\t\\t\\t\\t\\t\\t\\t\\t\\t\\t\\r\\n\\t\\t\\t\\t\\t\\t\\t\\t\\t\\t</td>\\r\\n\\t\\t\\t\\t\\t\\t\\t\\t\\t</tr>\\r\\n\\t\\t\\t\\t\\t\\t\\t\\t\\r\\n\\t\\t\\t\\t\\t\\t\\t\\t\\t<tr>\\r\\n\\t\\t\\t\\t\\t\\t\\t\\t\\t\\t<td data-title=\"Numbers Matched\" class=\"colour\">\\r\\n\\t\\t\\t\\t\\t\\t\\t\\t\\t\\t\\t<span class=\"prizeName\"><span class=\"ball\">2</span></span>\\r\\n\\t\\t\\t\\t\\t\\t\\t\\t\\t\\t</td>\\r\\n\\t\\t\\t\\t\\t\\t\\t\\t\\t\\t<td data-title=\"Prize Per Winner\" class=\"righty\">\\r\\n\\t\\t\\t\\t\\t\\t\\t\\t\\t\\t\\t&euro;3.80\\r\\n\\t\\t\\t\\t\\t\\t\\t\\t\\t\\t\\t\\r\\n\\t\\t\\t\\t\\t\\t\\t\\t\\t\\t</td>\\r\\n\\t\\t\\t\\t\\t\\t\\t\\t\\t\\t\\r\\n\\t\\t\\t\\t\\t\\t\\t\\t\\t\\t\\t<td data-title=\"French Winners\" class=\"righty\">\\r\\n\\t\\t\\t\\t\\t\\t\\t\\t\\t\\t\\t\\t209,656\\r\\n\\t\\t\\t\\t\\t\\t\\t\\t\\t\\t\\t\\t\\r\\n\\t\\t\\t\\t\\t\\t\\t\\t\\t\\t\\t</td>\\r\\n\\t\\t\\t\\t\\t\\t\\t\\t\\t\\t\\r\\n\\t\\t\\t\\t\\t\\t\\t\\t\\t\\t\\t<td data-title=\"Prize Fund Amount\" class=\"righty\">\\r\\n\\t\\t\\t\\t\\t\\t\\t\\t\\t\\t\\t\\t&euro;796,692.80\\r\\n\\t\\t\\t\\t\\t\\t\\t\\t\\t\\t\\t\\t\\r\\n\\t\\t\\t\\t\\t\\t\\t\\t\\t\\t\\t</td>\\r\\n\\t\\t\\t\\t\\t\\t\\t\\t\\t\\t\\r\\n\\t\\t\\t\\t\\t\\t\\t\\t\\t\\t<td data-title=\"Total Winners\" class=\"righty\">\\r\\n\\t\\t\\t\\t\\t\\t\\t\\t\\t\\t\\t972,679\\r\\n\\t\\t\\t\\t\\t\\t\\t\\t\\t\\t\\t\\t\\r\\n\\t\\t\\t\\t\\t\\t\\t\\t\\t\\t</td>\\r\\n\\t\\t\\t\\t\\t\\t\\t\\t\\t</tr>\\r\\n\\t\\t\\t\\t\\t\\t\\t\\t\\r\\n\\t\\t\\t\\t\\t\\t\\t\\t\\t<tr>\\r\\n\\t\\t\\t\\t\\t\\t\\t\\t\\t\\t<td data-title=\"Numbers Matched\" class=\"colour\">\\r\\n\\t\\t\\t\\t\\t\\t\\t\\t\\t\\t\\t<span class=\"prizeName\"><span class=\"ball\">0 </span> + <span class=\"star\"> 1</span> (with Étoile+)</span>*</span>\\r\\n\\t\\t\\t\\t\\t\\t\\t\\t\\t\\t</td>\\r\\n\\t\\t\\t\\t\\t\\t\\t\\t\\t\\t<td data-title=\"Prize Per Winner\" class=\"righty\">\\r\\n\\t\\t\\t\\t\\t\\t\\t\\t\\t\\t\\t&euro;2.70\\r\\n\\t\\t\\t\\t\\t\\t\\t\\t\\t\\t\\t\\r\\n\\t\\t\\t\\t\\t\\t\\t\\t\\t\\t</td>\\r\\n\\t\\t\\t\\t\\t\\t\\t\\t\\t\\t\\r\\n\\t\\t\\t\\t\\t\\t\\t\\t\\t\\t\\t<td data-title=\"French Winners\" class=\"righty\">\\r\\n\\t\\t\\t\\t\\t\\t\\t\\t\\t\\t\\t\\t321,126\\r\\n\\t\\t\\t\\t\\t\\t\\t\\t\\t\\t\\t\\t\\r\\n\\t\\t\\t\\t\\t\\t\\t\\t\\t\\t\\t</td>\\r\\n\\t\\t\\t\\t\\t\\t\\t\\t\\t\\t\\r\\n\\t\\t\\t\\t\\t\\t\\t\\t\\t\\t\\t<td data-title=\"Prize Fund Amount\" class=\"righty\">\\r\\n\\t\\t\\t\\t\\t\\t\\t\\t\\t\\t\\t\\t&euro;867,040.20\\r\\n\\t\\t\\t\\t\\t\\t\\t\\t\\t\\t\\t\\t\\r\\n\\t\\t\\t\\t\\t\\t\\t\\t\\t\\t\\t</td>\\r\\n\\t\\t\\t\\t\\t\\t\\t\\t\\t\\t\\r\\n\\t\\t\\t\\t\\t\\t\\t\\t\\t\\t<td data-title=\"Total Winners\" class=\"righty\">\\r\\n\\t\\t\\t\\t\\t\\t\\t\\t\\t\\t\\t321,126\\r\\n\\t\\t\\t\\t\\t\\t\\t\\t\\t\\t\\t\\r\\n\\t\\t\\t\\t\\t\\t\\t\\t\\t\\t</td>\\r\\n\\t\\t\\t\\t\\t\\t\\t\\t\\t</tr>\\r\\n\\t\\t\\t\\t\\t\\t\\t\\t\\r\\n\\t\\t\\t\\t\\t\\t\\t\\t\\t<tr class=\"totals\">\\r\\n\\t\\t\\t\\t\\t\\t\\t\\t\\t\\t<td data-title=\"Numbers Matched\" class=\"colour\">\\r\\n\\t\\t\\t\\t\\t\\t\\t\\t\\t\\t\\t<span class=\"prizeName\">Totals</span>\\r\\n\\t\\t\\t\\t\\t\\t\\t\\t\\t\\t</td>\\r\\n\\t\\t\\t\\t\\t\\t\\t\\t\\t\\t<td data-title=\"Prize Per Winner\" class=\"righty\">\\r\\n\\t\\t\\t\\t\\t\\t\\t\\t\\t\\t\\t\\r\\n\\t\\t\\t\\t\\t\\t\\t\\t\\t\\t\\t\\t-\\r\\n\\t\\t\\t\\t\\t\\t\\t\\t\\t\\t\\t\\r\\n\\t\\t\\t\\t\\t\\t\\t\\t\\t\\t</td>\\r\\n\\t\\t\\t\\t\\t\\t\\t\\t\\t\\t\\r\\n\\t\\t\\t\\t\\t\\t\\t\\t\\t\\t\\t<td data-title=\"French Winners\" class=\"righty\">\\r\\n\\t\\t\\t\\t\\t\\t\\t\\t\\t\\t\\t\\t712,989\\r\\n\\t\\t\\t\\t\\t\\t\\t\\t\\t\\t\\t\\t\\r\\n\\t\\t\\t\\t\\t\\t\\t\\t\\t\\t\\t</td>\\r\\n\\t\\t\\t\\t\\t\\t\\t\\t\\t\\t\\r\\n\\t\\t\\t\\t\\t\\t\\t\\t\\t\\t\\t<td data-title=\"Prize Fund Amount\" class=\"righty\">\\r\\n\\t\\t\\t\\t\\t\\t\\t\\t\\t\\t\\t\\t&euro;3,040,077.70\\r\\n\\t\\t\\t\\t\\t\\t\\t\\t\\t\\t\\t\\t\\r\\n\\t\\t\\t\\t\\t\\t\\t\\t\\t\\t\\t</td>\\r\\n\\t\\t\\t\\t\\t\\t\\t\\t\\t\\t\\r\\n\\t\\t\\t\\t\\t\\t\\t\\t\\t\\t<td data-title=\"Total Winners\" class=\"righty\">\\r\\n\\t\\t\\t\\t\\t\\t\\t\\t\\t\\t\\t2,975,025\\r\\n\\t\\t\\t\\t\\t\\t\\t\\t\\t\\t\\t\\t\\t\\r\\n\\t\\t\\t\\t\\t\\t\\t\\t\\t\\t</td>\\r\\n\\t\\t\\t\\t\\t\\t\\t\\t\\t</tr>\\r\\n\\t\\t\\t\\t\\t\\t\\t\\t\\r\\n\\t\\t\\t\\t\\t\\t\\t</tbody>\\r\\n\\t\\t\\t\\t\\t\\t</table>\\r\\n\\t\\t\\t\\t\\t\\r\\n\\t\\t\\t\\t\\t\\t\\r\\n\\t\\t\\t\\t\\t\\t\\t<p>*Étoile+ prize amounts are only applicable to French tickets that played the Étoile+ option.<p>\\r\\n\\t\\t\\t\\t\\t\\t\\r\\n\\t\\t\\t\\t\\r\\n\\t\\t\\t\\t</div>\\r\\n\\t\\t\\t\\r\\n\\t\\t\\t\\r\\n\\t\\t\\t\\r\\n\\t\\t\\t\\t<div id=\"PrizeES\">\\r\\n\\t\\t\\t\\t\\r\\n\\t\\t\\t\\t\\t\\r\\n\\r\\n\\t\\t\\t\\t\\t\\t<table class=\"mobFormat\">\\r\\n\\t\\t\\t\\t\\t\\t\\t<thead>\\r\\n\\t\\t\\t\\t\\t\\t\\t\\t<tr>\\r\\n\\t\\t\\t\\t\\t\\t\\t\\t\\t<th>Numbers Matched</th>\\r\\n\\t\\t\\t\\t\\t\\t\\t\\t\\t<th class=\"righty\">Prize Per Winner</th>\\r\\n\\t\\t\\t\\t\\t\\t\\t\\t\\t\\r\\n\\t\\t\\t\\t\\t\\t\\t\\t\\t\\t<th class=\"righty\">Spanish Winners</th>\\r\\n\\t\\t\\t\\t\\t\\t\\t\\t\\t\\r\\n\\t\\t\\t\\t\\t\\t\\t\\t\\t\\t<th class=\"righty\">Prize Fund Amount</th>\\r\\n\\t\\t\\t\\t\\t\\t\\t\\t\\t\\r\\n\\t\\t\\t\\t\\t\\t\\t\\t\\t<th class=\"righty\">Total Winners</th>\\r\\n\\t\\t\\t\\t\\t\\t\\t\\t</tr>\\r\\n\\t\\t\\t\\t\\t\\t\\t</thead>\\r\\n\\t\\t\\t\\t\\t\\t\\t<tbody>\\r\\n\\t\\t\\t\\t\\t\\t\\t\\t\\r\\n\\t\\t\\t\\t\\t\\t\\t\\t\\t<tr>\\r\\n\\t\\t\\t\\t\\t\\t\\t\\t\\t\\t<td data-title=\"Numbers Matched\" class=\"colour\">\\r\\n\\t\\t\\t\\t\\t\\t\\t\\t\\t\\t\\t<span class=\"prizeName\"><span class=\"ball\">5 </span> + <span class=\"star\"> 2</span></span></span>\\r\\n\\t\\t\\t\\t\\t\\t\\t\\t\\t\\t</td>\\r\\n\\t\\t\\t\\t\\t\\t\\t\\t\\t\\t<td data-title=\"Prize Per Winner\" class=\"righty\">\\r\\n\\t\\t\\t\\t\\t\\t\\t\\t\\t\\t\\t&euro;83,786,487.00\\r\\n\\t\\t\\t\\t\\t\\t\\t\\t\\t\\t\\t\\r\\n\\t\\t\\t\\t\\t\\t\\t\\t\\t\\t</td>\\r\\n\\t\\t\\t\\t\\t\\t\\t\\t\\t\\t\\r\\n\\t\\t\\t\\t\\t\\t\\t\\t\\t\\t\\t<td data-title=\"Spanish Winners\" class=\"righty\">\\r\\n\\t\\t\\t\\t\\t\\t\\t\\t\\t\\t\\t\\t0\\r\\n\\t\\t\\t\\t\\t\\t\\t\\t\\t\\t\\t\\t\\r\\n\\t\\t\\t\\t\\t\\t\\t\\t\\t\\t\\t</td>\\r\\n\\t\\t\\t\\t\\t\\t\\t\\t\\t\\t\\r\\n\\t\\t\\t\\t\\t\\t\\t\\t\\t\\t\\t<td data-title=\"Prize Fund Amount\" class=\"righty\">\\r\\n\\t\\t\\t\\t\\t\\t\\t\\t\\t\\t\\t\\t&euro;0.00\\r\\n\\t\\t\\t\\t\\t\\t\\t\\t\\t\\t\\t\\t\\r\\n\\t\\t\\t\\t\\t\\t\\t\\t\\t\\t\\t</td>\\r\\n\\t\\t\\t\\t\\t\\t\\t\\t\\t\\t\\r\\n\\t\\t\\t\\t\\t\\t\\t\\t\\t\\t<td data-title=\"Total Winners\" class=\"righty\">\\r\\n\\t\\t\\t\\t\\t\\t\\t\\t\\t\\t\\t\\r\\n\\t\\t\\t\\t\\t\\t\\t\\t\\t\\t\\t\\t\\t<strong style=\"color:#F00\">Rollover!</strong> \\r\\n\\t\\t\\t\\t\\t\\t\\t\\t\\t\\t\\t\\t0\\r\\n\\t\\t\\t\\t\\t\\t\\t\\t\\t\\t\\t\\t\\r\\n\\t\\t\\t\\t\\t\\t\\t\\t\\t\\t</td>\\r\\n\\t\\t\\t\\t\\t\\t\\t\\t\\t</tr>\\r\\n\\t\\t\\t\\t\\t\\t\\t\\t\\r\\n\\t\\t\\t\\t\\t\\t\\t\\t\\t<tr>\\r\\n\\t\\t\\t\\t\\t\\t\\t\\t\\t\\t<td data-title=\"Numbers Matched\" class=\"colour\">\\r\\n\\t\\t\\t\\t\\t\\t\\t\\t\\t\\t\\t<span class=\"prizeName\"><span class=\"ball\">5 </span> + <span class=\"star\"> 1</span></span></span>\\r\\n\\t\\t\\t\\t\\t\\t\\t\\t\\t\\t</td>\\r\\n\\t\\t\\t\\t\\t\\t\\t\\t\\t\\t<td data-title=\"Prize Per Winner\" class=\"righty\">\\r\\n\\t\\t\\t\\t\\t\\t\\t\\t\\t\\t\\t&euro;0.00\\r\\n\\t\\t\\t\\t\\t\\t\\t\\t\\t\\t\\t\\r\\n\\t\\t\\t\\t\\t\\t\\t\\t\\t\\t</td>\\r\\n\\t\\t\\t\\t\\t\\t\\t\\t\\t\\t\\r\\n\\t\\t\\t\\t\\t\\t\\t\\t\\t\\t\\t<td data-title=\"Spanish Winners\" class=\"righty\">\\r\\n\\t\\t\\t\\t\\t\\t\\t\\t\\t\\t\\t\\t0\\r\\n\\t\\t\\t\\t\\t\\t\\t\\t\\t\\t\\t\\t\\r\\n\\t\\t\\t\\t\\t\\t\\t\\t\\t\\t\\t</td>\\r\\n\\t\\t\\t\\t\\t\\t\\t\\t\\t\\t\\r\\n\\t\\t\\t\\t\\t\\t\\t\\t\\t\\t\\t<td data-title=\"Prize Fund Amount\" class=\"righty\">\\r\\n\\t\\t\\t\\t\\t\\t\\t\\t\\t\\t\\t\\t&euro;0.00\\r\\n\\t\\t\\t\\t\\t\\t\\t\\t\\t\\t\\t\\t\\r\\n\\t\\t\\t\\t\\t\\t\\t\\t\\t\\t\\t</td>\\r\\n\\t\\t\\t\\t\\t\\t\\t\\t\\t\\t\\r\\n\\t\\t\\t\\t\\t\\t\\t\\t\\t\\t<td data-title=\"Total Winners\" class=\"righty\">\\r\\n\\t\\t\\t\\t\\t\\t\\t\\t\\t\\t\\t0\\r\\n\\t\\t\\t\\t\\t\\t\\t\\t\\t\\t\\t\\t\\r\\n\\t\\t\\t\\t\\t\\t\\t\\t\\t\\t</td>\\r\\n\\t\\t\\t\\t\\t\\t\\t\\t\\t</tr>\\r\\n\\t\\t\\t\\t\\t\\t\\t\\t\\r\\n\\t\\t\\t\\t\\t\\t\\t\\t\\t<tr>\\r\\n\\t\\t\\t\\t\\t\\t\\t\\t\\t\\t<td data-title=\"Numbers Matched\" class=\"colour\">\\r\\n\\t\\t\\t\\t\\t\\t\\t\\t\\t\\t\\t<span class=\"prizeName\"><span class=\"ball\">5</span></span>\\r\\n\\t\\t\\t\\t\\t\\t\\t\\t\\t\\t</td>\\r\\n\\t\\t\\t\\t\\t\\t\\t\\t\\t\\t<td data-title=\"Prize Per Winner\" class=\"righty\">\\r\\n\\t\\t\\t\\t\\t\\t\\t\\t\\t\\t\\t&euro;65,420.22\\r\\n\\t\\t\\t\\t\\t\\t\\t\\t\\t\\t\\t\\r\\n\\t\\t\\t\\t\\t\\t\\t\\t\\t\\t</td>\\r\\n\\t\\t\\t\\t\\t\\t\\t\\t\\t\\t\\r\\n\\t\\t\\t\\t\\t\\t\\t\\t\\t\\t\\t<td data-title=\"Spanish Winners\" class=\"righty\">\\r\\n\\t\\t\\t\\t\\t\\t\\t\\t\\t\\t\\t\\t0\\r\\n\\t\\t\\t\\t\\t\\t\\t\\t\\t\\t\\t\\t\\r\\n\\t\\t\\t\\t\\t\\t\\t\\t\\t\\t\\t</td>\\r\\n\\t\\t\\t\\t\\t\\t\\t\\t\\t\\t\\r\\n\\t\\t\\t\\t\\t\\t\\t\\t\\t\\t\\t<td data-title=\"Prize Fund Amount\" class=\"righty\">\\r\\n\\t\\t\\t\\t\\t\\t\\t\\t\\t\\t\\t\\t&euro;0.00\\r\\n\\t\\t\\t\\t\\t\\t\\t\\t\\t\\t\\t\\t\\r\\n\\t\\t\\t\\t\\t\\t\\t\\t\\t\\t\\t</td>\\r\\n\\t\\t\\t\\t\\t\\t\\t\\t\\t\\t\\r\\n\\t\\t\\t\\t\\t\\t\\t\\t\\t\\t<td data-title=\"Total Winners\" class=\"righty\">\\r\\n\\t\\t\\t\\t\\t\\t\\t\\t\\t\\t\\t11\\r\\n\\t\\t\\t\\t\\t\\t\\t\\t\\t\\t\\t\\t\\r\\n\\t\\t\\t\\t\\t\\t\\t\\t\\t\\t</td>\\r\\n\\t\\t\\t\\t\\t\\t\\t\\t\\t</tr>\\r\\n\\t\\t\\t\\t\\t\\t\\t\\t\\r\\n\\t\\t\\t\\t\\t\\t\\t\\t\\t<tr>\\r\\n\\t\\t\\t\\t\\t\\t\\t\\t\\t\\t<td data-title=\"Numbers Matched\" class=\"colour\">\\r\\n\\t\\t\\t\\t\\t\\t\\t\\t\\t\\t\\t<span class=\"prizeName\"><span class=\"ball\">4 </span> + <span class=\"star\"> 2</span></span></span>\\r\\n\\t\\t\\t\\t\\t\\t\\t\\t\\t\\t</td>\\r\\n\\t\\t\\t\\t\\t\\t\\t\\t\\t\\t<td data-title=\"Prize Per Winner\" class=\"righty\">\\r\\n\\t\\t\\t\\t\\t\\t\\t\\t\\t\\t\\t&euro;1,326.94\\r\\n\\t\\t\\t\\t\\t\\t\\t\\t\\t\\t\\t\\r\\n\\t\\t\\t\\t\\t\\t\\t\\t\\t\\t</td>\\r\\n\\t\\t\\t\\t\\t\\t\\t\\t\\t\\t\\r\\n\\t\\t\\t\\t\\t\\t\\t\\t\\t\\t\\t<td data-title=\"Spanish Winners\" class=\"righty\">\\r\\n\\t\\t\\t\\t\\t\\t\\t\\t\\t\\t\\t\\t3\\r\\n\\t\\t\\t\\t\\t\\t\\t\\t\\t\\t\\t\\t\\r\\n\\t\\t\\t\\t\\t\\t\\t\\t\\t\\t\\t</td>\\r\\n\\t\\t\\t\\t\\t\\t\\t\\t\\t\\t\\r\\n\\t\\t\\t\\t\\t\\t\\t\\t\\t\\t\\t<td data-title=\"Prize Fund Amount\" class=\"righty\">\\r\\n\\t\\t\\t\\t\\t\\t\\t\\t\\t\\t\\t\\t&euro;3,980.82\\r\\n\\t\\t\\t\\t\\t\\t\\t\\t\\t\\t\\t\\t\\r\\n\\t\\t\\t\\t\\t\\t\\t\\t\\t\\t\\t</td>\\r\\n\\t\\t\\t\\t\\t\\t\\t\\t\\t\\t\\r\\n\\t\\t\\t\\t\\t\\t\\t\\t\\t\\t<td data-title=\"Total Winners\" class=\"righty\">\\r\\n\\t\\t\\t\\t\\t\\t\\t\\t\\t\\t\\t32\\r\\n\\t\\t\\t\\t\\t\\t\\t\\t\\t\\t\\t\\t\\r\\n\\t\\t\\t\\t\\t\\t\\t\\t\\t\\t</td>\\r\\n\\t\\t\\t\\t\\t\\t\\t\\t\\t</tr>\\r\\n\\t\\t\\t\\t\\t\\t\\t\\t\\r\\n\\t\\t\\t\\t\\t\\t\\t\\t\\t<tr>\\r\\n\\t\\t\\t\\t\\t\\t\\t\\t\\t\\t<td data-title=\"Numbers Matched\" class=\"colour\">\\r\\n\\t\\t\\t\\t\\t\\t\\t\\t\\t\\t\\t<span class=\"prizeName\"><span class=\"ball\">4 </span> + <span class=\"star\"> 1</span></span></span>\\r\\n\\t\\t\\t\\t\\t\\t\\t\\t\\t\\t</td>\\r\\n\\t\\t\\t\\t\\t\\t\\t\\t\\t\\t<td data-title=\"Prize Per Winner\" class=\"righty\">\\r\\n\\t\\t\\t\\t\\t\\t\\t\\t\\t\\t\\t&euro;129.29\\r\\n\\t\\t\\t\\t\\t\\t\\t\\t\\t\\t\\t\\r\\n\\t\\t\\t\\t\\t\\t\\t\\t\\t\\t</td>\\r\\n\\t\\t\\t\\t\\t\\t\\t\\t\\t\\t\\r\\n\\t\\t\\t\\t\\t\\t\\t\\t\\t\\t\\t<td data-title=\"Spanish Winners\" class=\"righty\">\\r\\n\\t\\t\\t\\t\\t\\t\\t\\t\\t\\t\\t\\t101\\r\\n\\t\\t\\t\\t\\t\\t\\t\\t\\t\\t\\t\\t\\r\\n\\t\\t\\t\\t\\t\\t\\t\\t\\t\\t\\t</td>\\r\\n\\t\\t\\t\\t\\t\\t\\t\\t\\t\\t\\r\\n\\t\\t\\t\\t\\t\\t\\t\\t\\t\\t\\t<td data-title=\"Prize Fund Amount\" class=\"righty\">\\r\\n\\t\\t\\t\\t\\t\\t\\t\\t\\t\\t\\t\\t&euro;13,058.29\\r\\n\\t\\t\\t\\t\\t\\t\\t\\t\\t\\t\\t\\t\\r\\n\\t\\t\\t\\t\\t\\t\\t\\t\\t\\t\\t</td>\\r\\n\\t\\t\\t\\t\\t\\t\\t\\t\\t\\t\\r\\n\\t\\t\\t\\t\\t\\t\\t\\t\\t\\t<td data-title=\"Total Winners\" class=\"righty\">\\r\\n\\t\\t\\t\\t\\t\\t\\t\\t\\t\\t\\t605\\r\\n\\t\\t\\t\\t\\t\\t\\t\\t\\t\\t\\t\\t\\r\\n\\t\\t\\t\\t\\t\\t\\t\\t\\t\\t</td>\\r\\n\\t\\t\\t\\t\\t\\t\\t\\t\\t</tr>\\r\\n\\t\\t\\t\\t\\t\\t\\t\\t\\r\\n\\t\\t\\t\\t\\t\\t\\t\\t\\t<tr>\\r\\n\\t\\t\\t\\t\\t\\t\\t\\t\\t\\t<td data-title=\"Numbers Matched\" class=\"colour\">\\r\\n\\t\\t\\t\\t\\t\\t\\t\\t\\t\\t\\t<span class=\"prizeName\"><span class=\"ball\">3 </span> + <span class=\"star\"> 2</span></span></span>\\r\\n\\t\\t\\t\\t\\t\\t\\t\\t\\t\\t</td>\\r\\n\\t\\t\\t\\t\\t\\t\\t\\t\\t\\t<td data-title=\"Prize Per Winner\" class=\"righty\">\\r\\n\\t\\t\\t\\t\\t\\t\\t\\t\\t\\t\\t&euro;71.53\\r\\n\\t\\t\\t\\t\\t\\t\\t\\t\\t\\t\\t\\r\\n\\t\\t\\t\\t\\t\\t\\t\\t\\t\\t</td>\\r\\n\\t\\t\\t\\t\\t\\t\\t\\t\\t\\t\\r\\n\\t\\t\\t\\t\\t\\t\\t\\t\\t\\t\\t<td data-title=\"Spanish Winners\" class=\"righty\">\\r\\n\\t\\t\\t\\t\\t\\t\\t\\t\\t\\t\\t\\t191\\r\\n\\t\\t\\t\\t\\t\\t\\t\\t\\t\\t\\t\\t\\r\\n\\t\\t\\t\\t\\t\\t\\t\\t\\t\\t\\t</td>\\r\\n\\t\\t\\t\\t\\t\\t\\t\\t\\t\\t\\r\\n\\t\\t\\t\\t\\t\\t\\t\\t\\t\\t\\t<td data-title=\"Prize Fund Amount\" class=\"righty\">\\r\\n\\t\\t\\t\\t\\t\\t\\t\\t\\t\\t\\t\\t&euro;13,662.23\\r\\n\\t\\t\\t\\t\\t\\t\\t\\t\\t\\t\\t\\t\\r\\n\\t\\t\\t\\t\\t\\t\\t\\t\\t\\t\\t</td>\\r\\n\\t\\t\\t\\t\\t\\t\\t\\t\\t\\t\\r\\n\\t\\t\\t\\t\\t\\t\\t\\t\\t\\t<td data-title=\"Total Winners\" class=\"righty\">\\r\\n\\t\\t\\t\\t\\t\\t\\t\\t\\t\\t\\t1,156\\r\\n\\t\\t\\t\\t\\t\\t\\t\\t\\t\\t\\t\\t\\r\\n\\t\\t\\t\\t\\t\\t\\t\\t\\t\\t</td>\\r\\n\\t\\t\\t\\t\\t\\t\\t\\t\\t</tr>\\r\\n\\t\\t\\t\\t\\t\\t\\t\\t\\r\\n\\t\\t\\t\\t\\t\\t\\t\\t\\t<tr>\\r\\n\\t\\t\\t\\t\\t\\t\\t\\t\\t\\t<td data-title=\"Numbers Matched\" class=\"colour\">\\r\\n\\t\\t\\t\\t\\t\\t\\t\\t\\t\\t\\t<span class=\"prizeName\"><span class=\"ball\">4</span></span>\\r\\n\\t\\t\\t\\t\\t\\t\\t\\t\\t\\t</td>\\r\\n\\t\\t\\t\\t\\t\\t\\t\\t\\t\\t<td data-title=\"Prize Per Winner\" class=\"righty\">\\r\\n\\t\\t\\t\\t\\t\\t\\t\\t\\t\\t\\t&euro;38.69\\r\\n\\t\\t\\t\\t\\t\\t\\t\\t\\t\\t\\t\\r\\n\\t\\t\\t\\t\\t\\t\\t\\t\\t\\t</td>\\r\\n\\t\\t\\t\\t\\t\\t\\t\\t\\t\\t\\r\\n\\t\\t\\t\\t\\t\\t\\t\\t\\t\\t\\t<td data-title=\"Spanish Winners\" class=\"righty\">\\r\\n\\t\\t\\t\\t\\t\\t\\t\\t\\t\\t\\t\\t293\\r\\n\\t\\t\\t\\t\\t\\t\\t\\t\\t\\t\\t\\t\\r\\n\\t\\t\\t\\t\\t\\t\\t\\t\\t\\t\\t</td>\\r\\n\\t\\t\\t\\t\\t\\t\\t\\t\\t\\t\\r\\n\\t\\t\\t\\t\\t\\t\\t\\t\\t\\t\\t<td data-title=\"Prize Fund Amount\" class=\"righty\">\\r\\n\\t\\t\\t\\t\\t\\t\\t\\t\\t\\t\\t\\t&euro;11,336.17\\r\\n\\t\\t\\t\\t\\t\\t\\t\\t\\t\\t\\t\\t\\r\\n\\t\\t\\t\\t\\t\\t\\t\\t\\t\\t\\t</td>\\r\\n\\t\\t\\t\\t\\t\\t\\t\\t\\t\\t\\r\\n\\t\\t\\t\\t\\t\\t\\t\\t\\t\\t<td data-title=\"Total Winners\" class=\"righty\">\\r\\n\\t\\t\\t\\t\\t\\t\\t\\t\\t\\t\\t1,502\\r\\n\\t\\t\\t\\t\\t\\t\\t\\t\\t\\t\\t\\t\\r\\n\\t\\t\\t\\t\\t\\t\\t\\t\\t\\t</td>\\r\\n\\t\\t\\t\\t\\t\\t\\t\\t\\t</tr>\\r\\n\\t\\t\\t\\t\\t\\t\\t\\t\\r\\n\\t\\t\\t\\t\\t\\t\\t\\t\\t<tr>\\r\\n\\t\\t\\t\\t\\t\\t\\t\\t\\t\\t<td data-title=\"Numbers Matched\" class=\"colour\">\\r\\n\\t\\t\\t\\t\\t\\t\\t\\t\\t\\t\\t<span class=\"prizeName\"><span class=\"ball\">2 </span> + <span class=\"star\"> 2</span></span></span>\\r\\n\\t\\t\\t\\t\\t\\t\\t\\t\\t\\t</td>\\r\\n\\t\\t\\t\\t\\t\\t\\t\\t\\t\\t<td data-title=\"Prize Per Winner\" class=\"righty\">\\r\\n\\t\\t\\t\\t\\t\\t\\t\\t\\t\\t\\t&euro;17.24\\r\\n\\t\\t\\t\\t\\t\\t\\t\\t\\t\\t\\t\\r\\n\\t\\t\\t\\t\\t\\t\\t\\t\\t\\t</td>\\r\\n\\t\\t\\t\\t\\t\\t\\t\\t\\t\\t\\r\\n\\t\\t\\t\\t\\t\\t\\t\\t\\t\\t\\t<td data-title=\"Spanish Winners\" class=\"righty\">\\r\\n\\t\\t\\t\\t\\t\\t\\t\\t\\t\\t\\t\\t3,007\\r\\n\\t\\t\\t\\t\\t\\t\\t\\t\\t\\t\\t\\t\\r\\n\\t\\t\\t\\t\\t\\t\\t\\t\\t\\t\\t</td>\\r\\n\\t\\t\\t\\t\\t\\t\\t\\t\\t\\t\\r\\n\\t\\t\\t\\t\\t\\t\\t\\t\\t\\t\\t<td data-title=\"Prize Fund Amount\" class=\"righty\">\\r\\n\\t\\t\\t\\t\\t\\t\\t\\t\\t\\t\\t\\t&euro;51,840.68\\r\\n\\t\\t\\t\\t\\t\\t\\t\\t\\t\\t\\t\\t\\r\\n\\t\\t\\t\\t\\t\\t\\t\\t\\t\\t\\t</td>\\r\\n\\t\\t\\t\\t\\t\\t\\t\\t\\t\\t\\r\\n\\t\\t\\t\\t\\t\\t\\t\\t\\t\\t<td data-title=\"Total Winners\" class=\"righty\">\\r\\n\\t\\t\\t\\t\\t\\t\\t\\t\\t\\t\\t16,848\\r\\n\\t\\t\\t\\t\\t\\t\\t\\t\\t\\t\\t\\t\\r\\n\\t\\t\\t\\t\\t\\t\\t\\t\\t\\t</td>\\r\\n\\t\\t\\t\\t\\t\\t\\t\\t\\t</tr>\\r\\n\\t\\t\\t\\t\\t\\t\\t\\t\\r\\n\\t\\t\\t\\t\\t\\t\\t\\t\\t<tr>\\r\\n\\t\\t\\t\\t\\t\\t\\t\\t\\t\\t<td data-title=\"Numbers Matched\" class=\"colour\">\\r\\n\\t\\t\\t\\t\\t\\t\\t\\t\\t\\t\\t<span class=\"prizeName\"><span class=\"ball\">3 </span> + <span class=\"star\"> 1</span></span></span>\\r\\n\\t\\t\\t\\t\\t\\t\\t\\t\\t\\t</td>\\r\\n\\t\\t\\t\\t\\t\\t\\t\\t\\t\\t<td data-title=\"Prize Per Winner\" class=\"righty\">\\r\\n\\t\\t\\t\\t\\t\\t\\t\\t\\t\\t\\t&euro;12.53\\r\\n\\t\\t\\t\\t\\t\\t\\t\\t\\t\\t\\t\\r\\n\\t\\t\\t\\t\\t\\t\\t\\t\\t\\t</td>\\r\\n\\t\\t\\t\\t\\t\\t\\t\\t\\t\\t\\r\\n\\t\\t\\t\\t\\t\\t\\t\\t\\t\\t\\t<td data-title=\"Spanish Winners\" class=\"righty\">\\r\\n\\t\\t\\t\\t\\t\\t\\t\\t\\t\\t\\t\\t4,696\\r\\n\\t\\t\\t\\t\\t\\t\\t\\t\\t\\t\\t\\t\\r\\n\\t\\t\\t\\t\\t\\t\\t\\t\\t\\t\\t</td>\\r\\n\\t\\t\\t\\t\\t\\t\\t\\t\\t\\t\\r\\n\\t\\t\\t\\t\\t\\t\\t\\t\\t\\t\\t<td data-title=\"Prize Fund Amount\" class=\"righty\">\\r\\n\\t\\t\\t\\t\\t\\t\\t\\t\\t\\t\\t\\t&euro;58,840.88\\r\\n\\t\\t\\t\\t\\t\\t\\t\\t\\t\\t\\t\\t\\r\\n\\t\\t\\t\\t\\t\\t\\t\\t\\t\\t\\t</td>\\r\\n\\t\\t\\t\\t\\t\\t\\t\\t\\t\\t\\r\\n\\t\\t\\t\\t\\t\\t\\t\\t\\t\\t<td data-title=\"Total Winners\" class=\"righty\">\\r\\n\\t\\t\\t\\t\\t\\t\\t\\t\\t\\t\\t25,854\\r\\n\\t\\t\\t\\t\\t\\t\\t\\t\\t\\t\\t\\t\\r\\n\\t\\t\\t\\t\\t\\t\\t\\t\\t\\t</td>\\r\\n\\t\\t\\t\\t\\t\\t\\t\\t\\t</tr>\\r\\n\\t\\t\\t\\t\\t\\t\\t\\t\\r\\n\\t\\t\\t\\t\\t\\t\\t\\t\\t<tr>\\r\\n\\t\\t\\t\\t\\t\\t\\t\\t\\t\\t<td data-title=\"Numbers Matched\" class=\"colour\">\\r\\n\\t\\t\\t\\t\\t\\t\\t\\t\\t\\t\\t<span class=\"prizeName\"><span class=\"ball\">3</span></span>\\r\\n\\t\\t\\t\\t\\t\\t\\t\\t\\t\\t</td>\\r\\n\\t\\t\\t\\t\\t\\t\\t\\t\\t\\t<td data-title=\"Prize Per Winner\" class=\"righty\">\\r\\n\\t\\t\\t\\t\\t\\t\\t\\t\\t\\t\\t&euro;8.96\\r\\n\\t\\t\\t\\t\\t\\t\\t\\t\\t\\t\\t\\r\\n\\t\\t\\t\\t\\t\\t\\t\\t\\t\\t</td>\\r\\n\\t\\t\\t\\t\\t\\t\\t\\t\\t\\t\\r\\n\\t\\t\\t\\t\\t\\t\\t\\t\\t\\t\\t<td data-title=\"Spanish Winners\" class=\"righty\">\\r\\n\\t\\t\\t\\t\\t\\t\\t\\t\\t\\t\\t\\t12,129\\r\\n\\t\\t\\t\\t\\t\\t\\t\\t\\t\\t\\t\\t\\r\\n\\t\\t\\t\\t\\t\\t\\t\\t\\t\\t\\t</td>\\r\\n\\t\\t\\t\\t\\t\\t\\t\\t\\t\\t\\r\\n\\t\\t\\t\\t\\t\\t\\t\\t\\t\\t\\t<td data-title=\"Prize Fund Amount\" class=\"righty\">\\r\\n\\t\\t\\t\\t\\t\\t\\t\\t\\t\\t\\t\\t&euro;108,675.84\\r\\n\\t\\t\\t\\t\\t\\t\\t\\t\\t\\t\\t\\t\\r\\n\\t\\t\\t\\t\\t\\t\\t\\t\\t\\t\\t</td>\\r\\n\\t\\t\\t\\t\\t\\t\\t\\t\\t\\t\\r\\n\\t\\t\\t\\t\\t\\t\\t\\t\\t\\t<td data-title=\"Total Winners\" class=\"righty\">\\r\\n\\t\\t\\t\\t\\t\\t\\t\\t\\t\\t\\t67,339\\r\\n\\t\\t\\t\\t\\t\\t\\t\\t\\t\\t\\t\\t\\r\\n\\t\\t\\t\\t\\t\\t\\t\\t\\t\\t</td>\\r\\n\\t\\t\\t\\t\\t\\t\\t\\t\\t</tr>\\r\\n\\t\\t\\t\\t\\t\\t\\t\\t\\r\\n\\t\\t\\t\\t\\t\\t\\t\\t\\t<tr>\\r\\n\\t\\t\\t\\t\\t\\t\\t\\t\\t\\t<td data-title=\"Numbers Matched\" class=\"colour\">\\r\\n\\t\\t\\t\\t\\t\\t\\t\\t\\t\\t\\t<span class=\"prizeName\"><span class=\"ball\">1 </span> + <span class=\"star\"> 2</span></span></span>\\r\\n\\t\\t\\t\\t\\t\\t\\t\\t\\t\\t</td>\\r\\n\\t\\t\\t\\t\\t\\t\\t\\t\\t\\t<td data-title=\"Prize Per Winner\" class=\"righty\">\\r\\n\\t\\t\\t\\t\\t\\t\\t\\t\\t\\t\\t&euro;8.21\\r\\n\\t\\t\\t\\t\\t\\t\\t\\t\\t\\t\\t\\r\\n\\t\\t\\t\\t\\t\\t\\t\\t\\t\\t</td>\\r\\n\\t\\t\\t\\t\\t\\t\\t\\t\\t\\t\\r\\n\\t\\t\\t\\t\\t\\t\\t\\t\\t\\t\\t<td data-title=\"Spanish Winners\" class=\"righty\">\\r\\n\\t\\t\\t\\t\\t\\t\\t\\t\\t\\t\\t\\t16,215\\r\\n\\t\\t\\t\\t\\t\\t\\t\\t\\t\\t\\t\\t\\r\\n\\t\\t\\t\\t\\t\\t\\t\\t\\t\\t\\t</td>\\r\\n\\t\\t\\t\\t\\t\\t\\t\\t\\t\\t\\r\\n\\t\\t\\t\\t\\t\\t\\t\\t\\t\\t\\t<td data-title=\"Prize Fund Amount\" class=\"righty\">\\r\\n\\t\\t\\t\\t\\t\\t\\t\\t\\t\\t\\t\\t&euro;133,125.15\\r\\n\\t\\t\\t\\t\\t\\t\\t\\t\\t\\t\\t\\t\\r\\n\\t\\t\\t\\t\\t\\t\\t\\t\\t\\t\\t</td>\\r\\n\\t\\t\\t\\t\\t\\t\\t\\t\\t\\t\\r\\n\\t\\t\\t\\t\\t\\t\\t\\t\\t\\t<td data-title=\"Total Winners\" class=\"righty\">\\r\\n\\t\\t\\t\\t\\t\\t\\t\\t\\t\\t\\t89,036\\r\\n\\t\\t\\t\\t\\t\\t\\t\\t\\t\\t\\t\\t\\r\\n\\t\\t\\t\\t\\t\\t\\t\\t\\t\\t</td>\\r\\n\\t\\t\\t\\t\\t\\t\\t\\t\\t</tr>\\r\\n\\t\\t\\t\\t\\t\\t\\t\\t\\r\\n\\t\\t\\t\\t\\t\\t\\t\\t\\t<tr>\\r\\n\\t\\t\\t\\t\\t\\t\\t\\t\\t\\t<td data-title=\"Numbers Matched\" class=\"colour\">\\r\\n\\t\\t\\t\\t\\t\\t\\t\\t\\t\\t\\t<span class=\"prizeName\"><span class=\"ball\">2 </span> + <span class=\"star\"> 1</span></span></span>\\r\\n\\t\\t\\t\\t\\t\\t\\t\\t\\t\\t</td>\\r\\n\\t\\t\\t\\t\\t\\t\\t\\t\\t\\t<td data-title=\"Prize Per Winner\" class=\"righty\">\\r\\n\\t\\t\\t\\t\\t\\t\\t\\t\\t\\t\\t&euro;6.16\\r\\n\\t\\t\\t\\t\\t\\t\\t\\t\\t\\t\\t\\r\\n\\t\\t\\t\\t\\t\\t\\t\\t\\t\\t</td>\\r\\n\\t\\t\\t\\t\\t\\t\\t\\t\\t\\t\\r\\n\\t\\t\\t\\t\\t\\t\\t\\t\\t\\t\\t<td data-title=\"Spanish Winners\" class=\"righty\">\\r\\n\\t\\t\\t\\t\\t\\t\\t\\t\\t\\t\\t\\t67,074\\r\\n\\t\\t\\t\\t\\t\\t\\t\\t\\t\\t\\t\\t\\r\\n\\t\\t\\t\\t\\t\\t\\t\\t\\t\\t\\t</td>\\r\\n\\t\\t\\t\\t\\t\\t\\t\\t\\t\\t\\r\\n\\t\\t\\t\\t\\t\\t\\t\\t\\t\\t\\t<td data-title=\"Prize Fund Amount\" class=\"righty\">\\r\\n\\t\\t\\t\\t\\t\\t\\t\\t\\t\\t\\t\\t&euro;413,175.84\\r\\n\\t\\t\\t\\t\\t\\t\\t\\t\\t\\t\\t\\t\\r\\n\\t\\t\\t\\t\\t\\t\\t\\t\\t\\t\\t</td>\\r\\n\\t\\t\\t\\t\\t\\t\\t\\t\\t\\t\\r\\n\\t\\t\\t\\t\\t\\t\\t\\t\\t\\t<td data-title=\"Total Winners\" class=\"righty\">\\r\\n\\t\\t\\t\\t\\t\\t\\t\\t\\t\\t\\t373,985\\r\\n\\t\\t\\t\\t\\t\\t\\t\\t\\t\\t\\t\\t\\r\\n\\t\\t\\t\\t\\t\\t\\t\\t\\t\\t</td>\\r\\n\\t\\t\\t\\t\\t\\t\\t\\t\\t</tr>\\r\\n\\t\\t\\t\\t\\t\\t\\t\\t\\r\\n\\t\\t\\t\\t\\t\\t\\t\\t\\t<tr>\\r\\n\\t\\t\\t\\t\\t\\t\\t\\t\\t\\t<td data-title=\"Numbers Matched\" class=\"colour\">\\r\\n\\t\\t\\t\\t\\t\\t\\t\\t\\t\\t\\t<span class=\"prizeName\"><span class=\"ball\">2</span></span>\\r\\n\\t\\t\\t\\t\\t\\t\\t\\t\\t\\t</td>\\r\\n\\t\\t\\t\\t\\t\\t\\t\\t\\t\\t<td data-title=\"Prize Per Winner\" class=\"righty\">\\r\\n\\t\\t\\t\\t\\t\\t\\t\\t\\t\\t\\t&euro;3.81\\r\\n\\t\\t\\t\\t\\t\\t\\t\\t\\t\\t\\t\\r\\n\\t\\t\\t\\t\\t\\t\\t\\t\\t\\t</td>\\r\\n\\t\\t\\t\\t\\t\\t\\t\\t\\t\\t\\r\\n\\t\\t\\t\\t\\t\\t\\t\\t\\t\\t\\t<td data-title=\"Spanish Winners\" class=\"righty\">\\r\\n\\t\\t\\t\\t\\t\\t\\t\\t\\t\\t\\t\\t178,702\\r\\n\\t\\t\\t\\t\\t\\t\\t\\t\\t\\t\\t\\t\\r\\n\\t\\t\\t\\t\\t\\t\\t\\t\\t\\t\\t</td>\\r\\n\\t\\t\\t\\t\\t\\t\\t\\t\\t\\t\\r\\n\\t\\t\\t\\t\\t\\t\\t\\t\\t\\t\\t<td data-title=\"Prize Fund Amount\" class=\"righty\">\\r\\n\\t\\t\\t\\t\\t\\t\\t\\t\\t\\t\\t\\t&euro;680,854.62\\r\\n\\t\\t\\t\\t\\t\\t\\t\\t\\t\\t\\t\\t\\r\\n\\t\\t\\t\\t\\t\\t\\t\\t\\t\\t\\t</td>\\r\\n\\t\\t\\t\\t\\t\\t\\t\\t\\t\\t\\r\\n\\t\\t\\t\\t\\t\\t\\t\\t\\t\\t<td data-title=\"Total Winners\" class=\"righty\">\\r\\n\\t\\t\\t\\t\\t\\t\\t\\t\\t\\t\\t972,679\\r\\n\\t\\t\\t\\t\\t\\t\\t\\t\\t\\t\\t\\t\\r\\n\\t\\t\\t\\t\\t\\t\\t\\t\\t\\t</td>\\r\\n\\t\\t\\t\\t\\t\\t\\t\\t\\t</tr>\\r\\n\\t\\t\\t\\t\\t\\t\\t\\t\\r\\n\\t\\t\\t\\t\\t\\t\\t\\t\\t<tr class=\"totals\">\\r\\n\\t\\t\\t\\t\\t\\t\\t\\t\\t\\t<td data-title=\"Numbers Matched\" class=\"colour\">\\r\\n\\t\\t\\t\\t\\t\\t\\t\\t\\t\\t\\t<span class=\"prizeName\">Totals</span>\\r\\n\\t\\t\\t\\t\\t\\t\\t\\t\\t\\t</td>\\r\\n\\t\\t\\t\\t\\t\\t\\t\\t\\t\\t<td data-title=\"Prize Per Winner\" class=\"righty\">\\r\\n\\t\\t\\t\\t\\t\\t\\t\\t\\t\\t\\t\\r\\n\\t\\t\\t\\t\\t\\t\\t\\t\\t\\t\\t\\t-\\r\\n\\t\\t\\t\\t\\t\\t\\t\\t\\t\\t\\t\\r\\n\\t\\t\\t\\t\\t\\t\\t\\t\\t\\t</td>\\r\\n\\t\\t\\t\\t\\t\\t\\t\\t\\t\\t\\r\\n\\t\\t\\t\\t\\t\\t\\t\\t\\t\\t\\t<td data-title=\"Spanish Winners\" class=\"righty\">\\r\\n\\t\\t\\t\\t\\t\\t\\t\\t\\t\\t\\t\\t282,411\\r\\n\\t\\t\\t\\t\\t\\t\\t\\t\\t\\t\\t\\t\\r\\n\\t\\t\\t\\t\\t\\t\\t\\t\\t\\t\\t</td>\\r\\n\\t\\t\\t\\t\\t\\t\\t\\t\\t\\t\\r\\n\\t\\t\\t\\t\\t\\t\\t\\t\\t\\t\\t<td data-title=\"Prize Fund Amount\" class=\"righty\">\\r\\n\\t\\t\\t\\t\\t\\t\\t\\t\\t\\t\\t\\t&euro;1,488,550.52\\r\\n\\t\\t\\t\\t\\t\\t\\t\\t\\t\\t\\t\\t\\r\\n\\t\\t\\t\\t\\t\\t\\t\\t\\t\\t\\t</td>\\r\\n\\t\\t\\t\\t\\t\\t\\t\\t\\t\\t\\r\\n\\t\\t\\t\\t\\t\\t\\t\\t\\t\\t<td data-title=\"Total Winners\" class=\"righty\">\\r\\n\\t\\t\\t\\t\\t\\t\\t\\t\\t\\t\\t1,549,047\\r\\n\\t\\t\\t\\t\\t\\t\\t\\t\\t\\t\\t\\t\\r\\n\\t\\t\\t\\t\\t\\t\\t\\t\\t\\t</td>\\r\\n\\t\\t\\t\\t\\t\\t\\t\\t\\t</tr>\\r\\n\\t\\t\\t\\t\\t\\t\\t\\t\\r\\n\\t\\t\\t\\t\\t\\t\\t</tbody>\\r\\n\\t\\t\\t\\t\\t\\t</table>\\r\\n\\t\\t\\t\\t\\t\\r\\n\\t\\t\\t\\t\\t\\t\\r\\n\\t\\t\\t\\t\\r\\n\\t\\t\\t\\t</div>\\r\\n\\t\\t\\t\\r\\n\\t\\t\\t\\r\\n\\t\\t\\t\\r\\n\\t\\t\\t\\t<div id=\"PrizeIE\">\\r\\n\\t\\t\\t\\t\\r\\n\\t\\t\\t\\t\\t\\r\\n\\r\\n\\t\\t\\t\\t\\t\\t<table class=\"mobFormat\">\\r\\n\\t\\t\\t\\t\\t\\t\\t<thead>\\r\\n\\t\\t\\t\\t\\t\\t\\t\\t<tr>\\r\\n\\t\\t\\t\\t\\t\\t\\t\\t\\t<th>Numbers Matched</th>\\r\\n\\t\\t\\t\\t\\t\\t\\t\\t\\t<th class=\"righty\">Prize Per Winner</th>\\r\\n\\t\\t\\t\\t\\t\\t\\t\\t\\t\\r\\n\\t\\t\\t\\t\\t\\t\\t\\t\\t\\t<th class=\"righty\">Irish Winners</th>\\r\\n\\t\\t\\t\\t\\t\\t\\t\\t\\t\\r\\n\\t\\t\\t\\t\\t\\t\\t\\t\\t\\t<th class=\"righty\">Prize Fund Amount</th>\\r\\n\\t\\t\\t\\t\\t\\t\\t\\t\\t\\r\\n\\t\\t\\t\\t\\t\\t\\t\\t\\t<th class=\"righty\">Total Winners</th>\\r\\n\\t\\t\\t\\t\\t\\t\\t\\t</tr>\\r\\n\\t\\t\\t\\t\\t\\t\\t</thead>\\r\\n\\t\\t\\t\\t\\t\\t\\t<tbody>\\r\\n\\t\\t\\t\\t\\t\\t\\t\\t\\r\\n\\t\\t\\t\\t\\t\\t\\t\\t\\t<tr>\\r\\n\\t\\t\\t\\t\\t\\t\\t\\t\\t\\t<td data-title=\"Numbers Matched\" class=\"colour\">\\r\\n\\t\\t\\t\\t\\t\\t\\t\\t\\t\\t\\t<span class=\"prizeName\"><span class=\"ball\">5 </span> + <span class=\"star\"> 2</span></span></span>\\r\\n\\t\\t\\t\\t\\t\\t\\t\\t\\t\\t</td>\\r\\n\\t\\t\\t\\t\\t\\t\\t\\t\\t\\t<td data-title=\"Prize Per Winner\" class=\"righty\">\\r\\n\\t\\t\\t\\t\\t\\t\\t\\t\\t\\t\\t&euro;83,786,487.00\\r\\n\\t\\t\\t\\t\\t\\t\\t\\t\\t\\t\\t\\r\\n\\t\\t\\t\\t\\t\\t\\t\\t\\t\\t</td>\\r\\n\\t\\t\\t\\t\\t\\t\\t\\t\\t\\t\\r\\n\\t\\t\\t\\t\\t\\t\\t\\t\\t\\t\\t<td data-title=\"Irish Winners\" class=\"righty\">\\r\\n\\t\\t\\t\\t\\t\\t\\t\\t\\t\\t\\t\\t0\\r\\n\\t\\t\\t\\t\\t\\t\\t\\t\\t\\t\\t\\t\\r\\n\\t\\t\\t\\t\\t\\t\\t\\t\\t\\t\\t</td>\\r\\n\\t\\t\\t\\t\\t\\t\\t\\t\\t\\t\\r\\n\\t\\t\\t\\t\\t\\t\\t\\t\\t\\t\\t<td data-title=\"Prize Fund Amount\" class=\"righty\">\\r\\n\\t\\t\\t\\t\\t\\t\\t\\t\\t\\t\\t\\t&euro;0.00\\r\\n\\t\\t\\t\\t\\t\\t\\t\\t\\t\\t\\t\\t\\r\\n\\t\\t\\t\\t\\t\\t\\t\\t\\t\\t\\t</td>\\r\\n\\t\\t\\t\\t\\t\\t\\t\\t\\t\\t\\r\\n\\t\\t\\t\\t\\t\\t\\t\\t\\t\\t<td data-title=\"Total Winners\" class=\"righty\">\\r\\n\\t\\t\\t\\t\\t\\t\\t\\t\\t\\t\\t\\r\\n\\t\\t\\t\\t\\t\\t\\t\\t\\t\\t\\t\\t\\t<strong style=\"color:#F00\">Rollover!</strong> \\r\\n\\t\\t\\t\\t\\t\\t\\t\\t\\t\\t\\t\\t0\\r\\n\\t\\t\\t\\t\\t\\t\\t\\t\\t\\t\\t\\t\\r\\n\\t\\t\\t\\t\\t\\t\\t\\t\\t\\t</td>\\r\\n\\t\\t\\t\\t\\t\\t\\t\\t\\t</tr>\\r\\n\\t\\t\\t\\t\\t\\t\\t\\t\\r\\n\\t\\t\\t\\t\\t\\t\\t\\t\\t<tr>\\r\\n\\t\\t\\t\\t\\t\\t\\t\\t\\t\\t<td data-title=\"Numbers Matched\" class=\"colour\">\\r\\n\\t\\t\\t\\t\\t\\t\\t\\t\\t\\t\\t<span class=\"prizeName\"><span class=\"ball\">5 </span> + <span class=\"star\"> 1</span></span></span>\\r\\n\\t\\t\\t\\t\\t\\t\\t\\t\\t\\t</td>\\r\\n\\t\\t\\t\\t\\t\\t\\t\\t\\t\\t<td data-title=\"Prize Per Winner\" class=\"righty\">\\r\\n\\t\\t\\t\\t\\t\\t\\t\\t\\t\\t\\t&euro;0.00\\r\\n\\t\\t\\t\\t\\t\\t\\t\\t\\t\\t\\t\\r\\n\\t\\t\\t\\t\\t\\t\\t\\t\\t\\t</td>\\r\\n\\t\\t\\t\\t\\t\\t\\t\\t\\t\\t\\r\\n\\t\\t\\t\\t\\t\\t\\t\\t\\t\\t\\t<td data-title=\"Irish Winners\" class=\"righty\">\\r\\n\\t\\t\\t\\t\\t\\t\\t\\t\\t\\t\\t\\t0\\r\\n\\t\\t\\t\\t\\t\\t\\t\\t\\t\\t\\t\\t\\r\\n\\t\\t\\t\\t\\t\\t\\t\\t\\t\\t\\t</td>\\r\\n\\t\\t\\t\\t\\t\\t\\t\\t\\t\\t\\r\\n\\t\\t\\t\\t\\t\\t\\t\\t\\t\\t\\t<td data-title=\"Prize Fund Amount\" class=\"righty\">\\r\\n\\t\\t\\t\\t\\t\\t\\t\\t\\t\\t\\t\\t&euro;0.00\\r\\n\\t\\t\\t\\t\\t\\t\\t\\t\\t\\t\\t\\t\\r\\n\\t\\t\\t\\t\\t\\t\\t\\t\\t\\t\\t</td>\\r\\n\\t\\t\\t\\t\\t\\t\\t\\t\\t\\t\\r\\n\\t\\t\\t\\t\\t\\t\\t\\t\\t\\t<td data-title=\"Total Winners\" class=\"righty\">\\r\\n\\t\\t\\t\\t\\t\\t\\t\\t\\t\\t\\t0\\r\\n\\t\\t\\t\\t\\t\\t\\t\\t\\t\\t\\t\\t\\r\\n\\t\\t\\t\\t\\t\\t\\t\\t\\t\\t</td>\\r\\n\\t\\t\\t\\t\\t\\t\\t\\t\\t</tr>\\r\\n\\t\\t\\t\\t\\t\\t\\t\\t\\r\\n\\t\\t\\t\\t\\t\\t\\t\\t\\t<tr>\\r\\n\\t\\t\\t\\t\\t\\t\\t\\t\\t\\t<td data-title=\"Numbers Matched\" class=\"colour\">\\r\\n\\t\\t\\t\\t\\t\\t\\t\\t\\t\\t\\t<span class=\"prizeName\"><span class=\"ball\">5</span></span>\\r\\n\\t\\t\\t\\t\\t\\t\\t\\t\\t\\t</td>\\r\\n\\t\\t\\t\\t\\t\\t\\t\\t\\t\\t<td data-title=\"Prize Per Winner\" class=\"righty\">\\r\\n\\t\\t\\t\\t\\t\\t\\t\\t\\t\\t\\t&euro;65,420.00\\r\\n\\t\\t\\t\\t\\t\\t\\t\\t\\t\\t\\t\\r\\n\\t\\t\\t\\t\\t\\t\\t\\t\\t\\t</td>\\r\\n\\t\\t\\t\\t\\t\\t\\t\\t\\t\\t\\r\\n\\t\\t\\t\\t\\t\\t\\t\\t\\t\\t\\t<td data-title=\"Irish Winners\" class=\"righty\">\\r\\n\\t\\t\\t\\t\\t\\t\\t\\t\\t\\t\\t\\t0\\r\\n\\t\\t\\t\\t\\t\\t\\t\\t\\t\\t\\t\\t\\r\\n\\t\\t\\t\\t\\t\\t\\t\\t\\t\\t\\t</td>\\r\\n\\t\\t\\t\\t\\t\\t\\t\\t\\t\\t\\r\\n\\t\\t\\t\\t\\t\\t\\t\\t\\t\\t\\t<td data-title=\"Prize Fund Amount\" class=\"righty\">\\r\\n\\t\\t\\t\\t\\t\\t\\t\\t\\t\\t\\t\\t&euro;0.00\\r\\n\\t\\t\\t\\t\\t\\t\\t\\t\\t\\t\\t\\t\\r\\n\\t\\t\\t\\t\\t\\t\\t\\t\\t\\t\\t</td>\\r\\n\\t\\t\\t\\t\\t\\t\\t\\t\\t\\t\\r\\n\\t\\t\\t\\t\\t\\t\\t\\t\\t\\t<td data-title=\"Total Winners\" class=\"righty\">\\r\\n\\t\\t\\t\\t\\t\\t\\t\\t\\t\\t\\t11\\r\\n\\t\\t\\t\\t\\t\\t\\t\\t\\t\\t\\t\\t\\r\\n\\t\\t\\t\\t\\t\\t\\t\\t\\t\\t</td>\\r\\n\\t\\t\\t\\t\\t\\t\\t\\t\\t</tr>\\r\\n\\t\\t\\t\\t\\t\\t\\t\\t\\r\\n\\t\\t\\t\\t\\t\\t\\t\\t\\t<tr>\\r\\n\\t\\t\\t\\t\\t\\t\\t\\t\\t\\t<td data-title=\"Numbers Matched\" class=\"colour\">\\r\\n\\t\\t\\t\\t\\t\\t\\t\\t\\t\\t\\t<span class=\"prizeName\"><span class=\"ball\">4 </span> + <span class=\"star\"> 2</span></span></span>\\r\\n\\t\\t\\t\\t\\t\\t\\t\\t\\t\\t</td>\\r\\n\\t\\t\\t\\t\\t\\t\\t\\t\\t\\t<td data-title=\"Prize Per Winner\" class=\"righty\">\\r\\n\\t\\t\\t\\t\\t\\t\\t\\t\\t\\t\\t&euro;1,327.00\\r\\n\\t\\t\\t\\t\\t\\t\\t\\t\\t\\t\\t\\r\\n\\t\\t\\t\\t\\t\\t\\t\\t\\t\\t</td>\\r\\n\\t\\t\\t\\t\\t\\t\\t\\t\\t\\t\\r\\n\\t\\t\\t\\t\\t\\t\\t\\t\\t\\t\\t<td data-title=\"Irish Winners\" class=\"righty\">\\r\\n\\t\\t\\t\\t\\t\\t\\t\\t\\t\\t\\t\\t0\\r\\n\\t\\t\\t\\t\\t\\t\\t\\t\\t\\t\\t\\t\\r\\n\\t\\t\\t\\t\\t\\t\\t\\t\\t\\t\\t</td>\\r\\n\\t\\t\\t\\t\\t\\t\\t\\t\\t\\t\\r\\n\\t\\t\\t\\t\\t\\t\\t\\t\\t\\t\\t<td data-title=\"Prize Fund Amount\" class=\"righty\">\\r\\n\\t\\t\\t\\t\\t\\t\\t\\t\\t\\t\\t\\t&euro;0.00\\r\\n\\t\\t\\t\\t\\t\\t\\t\\t\\t\\t\\t\\t\\r\\n\\t\\t\\t\\t\\t\\t\\t\\t\\t\\t\\t</td>\\r\\n\\t\\t\\t\\t\\t\\t\\t\\t\\t\\t\\r\\n\\t\\t\\t\\t\\t\\t\\t\\t\\t\\t<td data-title=\"Total Winners\" class=\"righty\">\\r\\n\\t\\t\\t\\t\\t\\t\\t\\t\\t\\t\\t32\\r\\n\\t\\t\\t\\t\\t\\t\\t\\t\\t\\t\\t\\t\\r\\n\\t\\t\\t\\t\\t\\t\\t\\t\\t\\t</td>\\r\\n\\t\\t\\t\\t\\t\\t\\t\\t\\t</tr>\\r\\n\\t\\t\\t\\t\\t\\t\\t\\t\\r\\n\\t\\t\\t\\t\\t\\t\\t\\t\\t<tr>\\r\\n\\t\\t\\t\\t\\t\\t\\t\\t\\t\\t<td data-title=\"Numbers Matched\" class=\"colour\">\\r\\n\\t\\t\\t\\t\\t\\t\\t\\t\\t\\t\\t<span class=\"prizeName\"><span class=\"ball\">4 </span> + <span class=\"star\"> 1</span></span></span>\\r\\n\\t\\t\\t\\t\\t\\t\\t\\t\\t\\t</td>\\r\\n\\t\\t\\t\\t\\t\\t\\t\\t\\t\\t<td data-title=\"Prize Per Winner\" class=\"righty\">\\r\\n\\t\\t\\t\\t\\t\\t\\t\\t\\t\\t\\t&euro;129.00\\r\\n\\t\\t\\t\\t\\t\\t\\t\\t\\t\\t\\t\\r\\n\\t\\t\\t\\t\\t\\t\\t\\t\\t\\t</td>\\r\\n\\t\\t\\t\\t\\t\\t\\t\\t\\t\\t\\r\\n\\t\\t\\t\\t\\t\\t\\t\\t\\t\\t\\t<td data-title=\"Irish Winners\" class=\"righty\">\\r\\n\\t\\t\\t\\t\\t\\t\\t\\t\\t\\t\\t\\t22\\r\\n\\t\\t\\t\\t\\t\\t\\t\\t\\t\\t\\t\\t\\r\\n\\t\\t\\t\\t\\t\\t\\t\\t\\t\\t\\t</td>\\r\\n\\t\\t\\t\\t\\t\\t\\t\\t\\t\\t\\r\\n\\t\\t\\t\\t\\t\\t\\t\\t\\t\\t\\t<td data-title=\"Prize Fund Amount\" class=\"righty\">\\r\\n\\t\\t\\t\\t\\t\\t\\t\\t\\t\\t\\t\\t&euro;2,838.00\\r\\n\\t\\t\\t\\t\\t\\t\\t\\t\\t\\t\\t\\t\\r\\n\\t\\t\\t\\t\\t\\t\\t\\t\\t\\t\\t</td>\\r\\n\\t\\t\\t\\t\\t\\t\\t\\t\\t\\t\\r\\n\\t\\t\\t\\t\\t\\t\\t\\t\\t\\t<td data-title=\"Total Winners\" class=\"righty\">\\r\\n\\t\\t\\t\\t\\t\\t\\t\\t\\t\\t\\t605\\r\\n\\t\\t\\t\\t\\t\\t\\t\\t\\t\\t\\t\\t\\r\\n\\t\\t\\t\\t\\t\\t\\t\\t\\t\\t</td>\\r\\n\\t\\t\\t\\t\\t\\t\\t\\t\\t</tr>\\r\\n\\t\\t\\t\\t\\t\\t\\t\\t\\r\\n\\t\\t\\t\\t\\t\\t\\t\\t\\t<tr>\\r\\n\\t\\t\\t\\t\\t\\t\\t\\t\\t\\t<td data-title=\"Numbers Matched\" class=\"colour\">\\r\\n\\t\\t\\t\\t\\t\\t\\t\\t\\t\\t\\t<span class=\"prizeName\"><span class=\"ball\">3 </span> + <span class=\"star\"> 2</span></span></span>\\r\\n\\t\\t\\t\\t\\t\\t\\t\\t\\t\\t</td>\\r\\n\\t\\t\\t\\t\\t\\t\\t\\t\\t\\t<td data-title=\"Prize Per Winner\" class=\"righty\">\\r\\n\\t\\t\\t\\t\\t\\t\\t\\t\\t\\t\\t&euro;72.00\\r\\n\\t\\t\\t\\t\\t\\t\\t\\t\\t\\t\\t\\r\\n\\t\\t\\t\\t\\t\\t\\t\\t\\t\\t</td>\\r\\n\\t\\t\\t\\t\\t\\t\\t\\t\\t\\t\\r\\n\\t\\t\\t\\t\\t\\t\\t\\t\\t\\t\\t<td data-title=\"Irish Winners\" class=\"righty\">\\r\\n\\t\\t\\t\\t\\t\\t\\t\\t\\t\\t\\t\\t26\\r\\n\\t\\t\\t\\t\\t\\t\\t\\t\\t\\t\\t\\t\\r\\n\\t\\t\\t\\t\\t\\t\\t\\t\\t\\t\\t</td>\\r\\n\\t\\t\\t\\t\\t\\t\\t\\t\\t\\t\\r\\n\\t\\t\\t\\t\\t\\t\\t\\t\\t\\t\\t<td data-title=\"Prize Fund Amount\" class=\"righty\">\\r\\n\\t\\t\\t\\t\\t\\t\\t\\t\\t\\t\\t\\t&euro;1,872.00\\r\\n\\t\\t\\t\\t\\t\\t\\t\\t\\t\\t\\t\\t\\r\\n\\t\\t\\t\\t\\t\\t\\t\\t\\t\\t\\t</td>\\r\\n\\t\\t\\t\\t\\t\\t\\t\\t\\t\\t\\r\\n\\t\\t\\t\\t\\t\\t\\t\\t\\t\\t<td data-title=\"Total Winners\" class=\"righty\">\\r\\n\\t\\t\\t\\t\\t\\t\\t\\t\\t\\t\\t1,156\\r\\n\\t\\t\\t\\t\\t\\t\\t\\t\\t\\t\\t\\t\\r\\n\\t\\t\\t\\t\\t\\t\\t\\t\\t\\t</td>\\r\\n\\t\\t\\t\\t\\t\\t\\t\\t\\t</tr>\\r\\n\\t\\t\\t\\t\\t\\t\\t\\t\\r\\n\\t\\t\\t\\t\\t\\t\\t\\t\\t<tr>\\r\\n\\t\\t\\t\\t\\t\\t\\t\\t\\t\\t<td data-title=\"Numbers Matched\" class=\"colour\">\\r\\n\\t\\t\\t\\t\\t\\t\\t\\t\\t\\t\\t<span class=\"prizeName\"><span class=\"ball\">4</span></span>\\r\\n\\t\\t\\t\\t\\t\\t\\t\\t\\t\\t</td>\\r\\n\\t\\t\\t\\t\\t\\t\\t\\t\\t\\t<td data-title=\"Prize Per Winner\" class=\"righty\">\\r\\n\\t\\t\\t\\t\\t\\t\\t\\t\\t\\t\\t&euro;39.00\\r\\n\\t\\t\\t\\t\\t\\t\\t\\t\\t\\t\\t\\r\\n\\t\\t\\t\\t\\t\\t\\t\\t\\t\\t</td>\\r\\n\\t\\t\\t\\t\\t\\t\\t\\t\\t\\t\\r\\n\\t\\t\\t\\t\\t\\t\\t\\t\\t\\t\\t<td data-title=\"Irish Winners\" class=\"righty\">\\r\\n\\t\\t\\t\\t\\t\\t\\t\\t\\t\\t\\t\\t54\\r\\n\\t\\t\\t\\t\\t\\t\\t\\t\\t\\t\\t\\t\\r\\n\\t\\t\\t\\t\\t\\t\\t\\t\\t\\t\\t</td>\\r\\n\\t\\t\\t\\t\\t\\t\\t\\t\\t\\t\\r\\n\\t\\t\\t\\t\\t\\t\\t\\t\\t\\t\\t<td data-title=\"Prize Fund Amount\" class=\"righty\">\\r\\n\\t\\t\\t\\t\\t\\t\\t\\t\\t\\t\\t\\t&euro;2,106.00\\r\\n\\t\\t\\t\\t\\t\\t\\t\\t\\t\\t\\t\\t\\r\\n\\t\\t\\t\\t\\t\\t\\t\\t\\t\\t\\t</td>\\r\\n\\t\\t\\t\\t\\t\\t\\t\\t\\t\\t\\r\\n\\t\\t\\t\\t\\t\\t\\t\\t\\t\\t<td data-title=\"Total Winners\" class=\"righty\">\\r\\n\\t\\t\\t\\t\\t\\t\\t\\t\\t\\t\\t1,502\\r\\n\\t\\t\\t\\t\\t\\t\\t\\t\\t\\t\\t\\t\\r\\n\\t\\t\\t\\t\\t\\t\\t\\t\\t\\t</td>\\r\\n\\t\\t\\t\\t\\t\\t\\t\\t\\t</tr>\\r\\n\\t\\t\\t\\t\\t\\t\\t\\t\\r\\n\\t\\t\\t\\t\\t\\t\\t\\t\\t<tr>\\r\\n\\t\\t\\t\\t\\t\\t\\t\\t\\t\\t<td data-title=\"Numbers Matched\" class=\"colour\">\\r\\n\\t\\t\\t\\t\\t\\t\\t\\t\\t\\t\\t<span class=\"prizeName\"><span class=\"ball\">2 </span> + <span class=\"star\"> 2</span></span></span>\\r\\n\\t\\t\\t\\t\\t\\t\\t\\t\\t\\t</td>\\r\\n\\t\\t\\t\\t\\t\\t\\t\\t\\t\\t<td data-title=\"Prize Per Winner\" class=\"righty\">\\r\\n\\t\\t\\t\\t\\t\\t\\t\\t\\t\\t\\t&euro;17.00\\r\\n\\t\\t\\t\\t\\t\\t\\t\\t\\t\\t\\t\\r\\n\\t\\t\\t\\t\\t\\t\\t\\t\\t\\t</td>\\r\\n\\t\\t\\t\\t\\t\\t\\t\\t\\t\\t\\r\\n\\t\\t\\t\\t\\t\\t\\t\\t\\t\\t\\t<td data-title=\"Irish Winners\" class=\"righty\">\\r\\n\\t\\t\\t\\t\\t\\t\\t\\t\\t\\t\\t\\t508\\r\\n\\t\\t\\t\\t\\t\\t\\t\\t\\t\\t\\t\\t\\r\\n\\t\\t\\t\\t\\t\\t\\t\\t\\t\\t\\t</td>\\r\\n\\t\\t\\t\\t\\t\\t\\t\\t\\t\\t\\r\\n\\t\\t\\t\\t\\t\\t\\t\\t\\t\\t\\t<td data-title=\"Prize Fund Amount\" class=\"righty\">\\r\\n\\t\\t\\t\\t\\t\\t\\t\\t\\t\\t\\t\\t&euro;8,636.00\\r\\n\\t\\t\\t\\t\\t\\t\\t\\t\\t\\t\\t\\t\\r\\n\\t\\t\\t\\t\\t\\t\\t\\t\\t\\t\\t</td>\\r\\n\\t\\t\\t\\t\\t\\t\\t\\t\\t\\t\\r\\n\\t\\t\\t\\t\\t\\t\\t\\t\\t\\t<td data-title=\"Total Winners\" class=\"righty\">\\r\\n\\t\\t\\t\\t\\t\\t\\t\\t\\t\\t\\t16,848\\r\\n\\t\\t\\t\\t\\t\\t\\t\\t\\t\\t\\t\\t\\r\\n\\t\\t\\t\\t\\t\\t\\t\\t\\t\\t</td>\\r\\n\\t\\t\\t\\t\\t\\t\\t\\t\\t</tr>\\r\\n\\t\\t\\t\\t\\t\\t\\t\\t\\r\\n\\t\\t\\t\\t\\t\\t\\t\\t\\t<tr>\\r\\n\\t\\t\\t\\t\\t\\t\\t\\t\\t\\t<td data-title=\"Numbers Matched\" class=\"colour\">\\r\\n\\t\\t\\t\\t\\t\\t\\t\\t\\t\\t\\t<span class=\"prizeName\"><span class=\"ball\">3 </span> + <span class=\"star\"> 1</span></span></span>\\r\\n\\t\\t\\t\\t\\t\\t\\t\\t\\t\\t</td>\\r\\n\\t\\t\\t\\t\\t\\t\\t\\t\\t\\t<td data-title=\"Prize Per Winner\" class=\"righty\">\\r\\n\\t\\t\\t\\t\\t\\t\\t\\t\\t\\t\\t&euro;13.00\\r\\n\\t\\t\\t\\t\\t\\t\\t\\t\\t\\t\\t\\r\\n\\t\\t\\t\\t\\t\\t\\t\\t\\t\\t</td>\\r\\n\\t\\t\\t\\t\\t\\t\\t\\t\\t\\t\\r\\n\\t\\t\\t\\t\\t\\t\\t\\t\\t\\t\\t<td data-title=\"Irish Winners\" class=\"righty\">\\r\\n\\t\\t\\t\\t\\t\\t\\t\\t\\t\\t\\t\\t688\\r\\n\\t\\t\\t\\t\\t\\t\\t\\t\\t\\t\\t\\t\\r\\n\\t\\t\\t\\t\\t\\t\\t\\t\\t\\t\\t</td>\\r\\n\\t\\t\\t\\t\\t\\t\\t\\t\\t\\t\\r\\n\\t\\t\\t\\t\\t\\t\\t\\t\\t\\t\\t<td data-title=\"Prize Fund Amount\" class=\"righty\">\\r\\n\\t\\t\\t\\t\\t\\t\\t\\t\\t\\t\\t\\t&euro;8,944.00\\r\\n\\t\\t\\t\\t\\t\\t\\t\\t\\t\\t\\t\\t\\r\\n\\t\\t\\t\\t\\t\\t\\t\\t\\t\\t\\t</td>\\r\\n\\t\\t\\t\\t\\t\\t\\t\\t\\t\\t\\r\\n\\t\\t\\t\\t\\t\\t\\t\\t\\t\\t<td data-title=\"Total Winners\" class=\"righty\">\\r\\n\\t\\t\\t\\t\\t\\t\\t\\t\\t\\t\\t25,854\\r\\n\\t\\t\\t\\t\\t\\t\\t\\t\\t\\t\\t\\t\\r\\n\\t\\t\\t\\t\\t\\t\\t\\t\\t\\t</td>\\r\\n\\t\\t\\t\\t\\t\\t\\t\\t\\t</tr>\\r\\n\\t\\t\\t\\t\\t\\t\\t\\t\\r\\n\\t\\t\\t\\t\\t\\t\\t\\t\\t<tr>\\r\\n\\t\\t\\t\\t\\t\\t\\t\\t\\t\\t<td data-title=\"Numbers Matched\" class=\"colour\">\\r\\n\\t\\t\\t\\t\\t\\t\\t\\t\\t\\t\\t<span class=\"prizeName\"><span class=\"ball\">3</span></span>\\r\\n\\t\\t\\t\\t\\t\\t\\t\\t\\t\\t</td>\\r\\n\\t\\t\\t\\t\\t\\t\\t\\t\\t\\t<td data-title=\"Prize Per Winner\" class=\"righty\">\\r\\n\\t\\t\\t\\t\\t\\t\\t\\t\\t\\t\\t&euro;9.00\\r\\n\\t\\t\\t\\t\\t\\t\\t\\t\\t\\t\\t\\r\\n\\t\\t\\t\\t\\t\\t\\t\\t\\t\\t</td>\\r\\n\\t\\t\\t\\t\\t\\t\\t\\t\\t\\t\\r\\n\\t\\t\\t\\t\\t\\t\\t\\t\\t\\t\\t<td data-title=\"Irish Winners\" class=\"righty\">\\r\\n\\t\\t\\t\\t\\t\\t\\t\\t\\t\\t\\t\\t1,604\\r\\n\\t\\t\\t\\t\\t\\t\\t\\t\\t\\t\\t\\t\\r\\n\\t\\t\\t\\t\\t\\t\\t\\t\\t\\t\\t</td>\\r\\n\\t\\t\\t\\t\\t\\t\\t\\t\\t\\t\\r\\n\\t\\t\\t\\t\\t\\t\\t\\t\\t\\t\\t<td data-title=\"Prize Fund Amount\" class=\"righty\">\\r\\n\\t\\t\\t\\t\\t\\t\\t\\t\\t\\t\\t\\t&euro;14,436.00\\r\\n\\t\\t\\t\\t\\t\\t\\t\\t\\t\\t\\t\\t\\r\\n\\t\\t\\t\\t\\t\\t\\t\\t\\t\\t\\t</td>\\r\\n\\t\\t\\t\\t\\t\\t\\t\\t\\t\\t\\r\\n\\t\\t\\t\\t\\t\\t\\t\\t\\t\\t<td data-title=\"Total Winners\" class=\"righty\">\\r\\n\\t\\t\\t\\t\\t\\t\\t\\t\\t\\t\\t67,339\\r\\n\\t\\t\\t\\t\\t\\t\\t\\t\\t\\t\\t\\t\\r\\n\\t\\t\\t\\t\\t\\t\\t\\t\\t\\t</td>\\r\\n\\t\\t\\t\\t\\t\\t\\t\\t\\t</tr>\\r\\n\\t\\t\\t\\t\\t\\t\\t\\t\\r\\n\\t\\t\\t\\t\\t\\t\\t\\t\\t<tr>\\r\\n\\t\\t\\t\\t\\t\\t\\t\\t\\t\\t<td data-title=\"Numbers Matched\" class=\"colour\">\\r\\n\\t\\t\\t\\t\\t\\t\\t\\t\\t\\t\\t<span class=\"prizeName\"><span class=\"ball\">1 </span> + <span class=\"star\"> 2</span></span></span>\\r\\n\\t\\t\\t\\t\\t\\t\\t\\t\\t\\t</td>\\r\\n\\t\\t\\t\\t\\t\\t\\t\\t\\t\\t<td data-title=\"Prize Per Winner\" class=\"righty\">\\r\\n\\t\\t\\t\\t\\t\\t\\t\\t\\t\\t\\t&euro;8.00\\r\\n\\t\\t\\t\\t\\t\\t\\t\\t\\t\\t\\t\\r\\n\\t\\t\\t\\t\\t\\t\\t\\t\\t\\t</td>\\r\\n\\t\\t\\t\\t\\t\\t\\t\\t\\t\\t\\r\\n\\t\\t\\t\\t\\t\\t\\t\\t\\t\\t\\t<td data-title=\"Irish Winners\" class=\"righty\">\\r\\n\\t\\t\\t\\t\\t\\t\\t\\t\\t\\t\\t\\t2,559\\r\\n\\t\\t\\t\\t\\t\\t\\t\\t\\t\\t\\t\\t\\r\\n\\t\\t\\t\\t\\t\\t\\t\\t\\t\\t\\t</td>\\r\\n\\t\\t\\t\\t\\t\\t\\t\\t\\t\\t\\r\\n\\t\\t\\t\\t\\t\\t\\t\\t\\t\\t\\t<td data-title=\"Prize Fund Amount\" class=\"righty\">\\r\\n\\t\\t\\t\\t\\t\\t\\t\\t\\t\\t\\t\\t&euro;20,472.00\\r\\n\\t\\t\\t\\t\\t\\t\\t\\t\\t\\t\\t\\t\\r\\n\\t\\t\\t\\t\\t\\t\\t\\t\\t\\t\\t</td>\\r\\n\\t\\t\\t\\t\\t\\t\\t\\t\\t\\t\\r\\n\\t\\t\\t\\t\\t\\t\\t\\t\\t\\t<td data-title=\"Total Winners\" class=\"righty\">\\r\\n\\t\\t\\t\\t\\t\\t\\t\\t\\t\\t\\t89,036\\r\\n\\t\\t\\t\\t\\t\\t\\t\\t\\t\\t\\t\\t\\r\\n\\t\\t\\t\\t\\t\\t\\t\\t\\t\\t</td>\\r\\n\\t\\t\\t\\t\\t\\t\\t\\t\\t</tr>\\r\\n\\t\\t\\t\\t\\t\\t\\t\\t\\r\\n\\t\\t\\t\\t\\t\\t\\t\\t\\t<tr>\\r\\n\\t\\t\\t\\t\\t\\t\\t\\t\\t\\t<td data-title=\"Numbers Matched\" class=\"colour\">\\r\\n\\t\\t\\t\\t\\t\\t\\t\\t\\t\\t\\t<span class=\"prizeName\"><span class=\"ball\">2 </span> + <span class=\"star\"> 1</span></span></span>\\r\\n\\t\\t\\t\\t\\t\\t\\t\\t\\t\\t</td>\\r\\n\\t\\t\\t\\t\\t\\t\\t\\t\\t\\t<td data-title=\"Prize Per Winner\" class=\"righty\">\\r\\n\\t\\t\\t\\t\\t\\t\\t\\t\\t\\t\\t&euro;6.00\\r\\n\\t\\t\\t\\t\\t\\t\\t\\t\\t\\t\\t\\r\\n\\t\\t\\t\\t\\t\\t\\t\\t\\t\\t</td>\\r\\n\\t\\t\\t\\t\\t\\t\\t\\t\\t\\t\\r\\n\\t\\t\\t\\t\\t\\t\\t\\t\\t\\t\\t<td data-title=\"Irish Winners\" class=\"righty\">\\r\\n\\t\\t\\t\\t\\t\\t\\t\\t\\t\\t\\t\\t10,264\\r\\n\\t\\t\\t\\t\\t\\t\\t\\t\\t\\t\\t\\t\\r\\n\\t\\t\\t\\t\\t\\t\\t\\t\\t\\t\\t</td>\\r\\n\\t\\t\\t\\t\\t\\t\\t\\t\\t\\t\\r\\n\\t\\t\\t\\t\\t\\t\\t\\t\\t\\t\\t<td data-title=\"Prize Fund Amount\" class=\"righty\">\\r\\n\\t\\t\\t\\t\\t\\t\\t\\t\\t\\t\\t\\t&euro;61,584.00\\r\\n\\t\\t\\t\\t\\t\\t\\t\\t\\t\\t\\t\\t\\r\\n\\t\\t\\t\\t\\t\\t\\t\\t\\t\\t\\t</td>\\r\\n\\t\\t\\t\\t\\t\\t\\t\\t\\t\\t\\r\\n\\t\\t\\t\\t\\t\\t\\t\\t\\t\\t<td data-title=\"Total Winners\" class=\"righty\">\\r\\n\\t\\t\\t\\t\\t\\t\\t\\t\\t\\t\\t373,985\\r\\n\\t\\t\\t\\t\\t\\t\\t\\t\\t\\t\\t\\t\\r\\n\\t\\t\\t\\t\\t\\t\\t\\t\\t\\t</td>\\r\\n\\t\\t\\t\\t\\t\\t\\t\\t\\t</tr>\\r\\n\\t\\t\\t\\t\\t\\t\\t\\t\\r\\n\\t\\t\\t\\t\\t\\t\\t\\t\\t<tr>\\r\\n\\t\\t\\t\\t\\t\\t\\t\\t\\t\\t<td data-title=\"Numbers Matched\" class=\"colour\">\\r\\n\\t\\t\\t\\t\\t\\t\\t\\t\\t\\t\\t<span class=\"prizeName\"><span class=\"ball\">2</span></span>\\r\\n\\t\\t\\t\\t\\t\\t\\t\\t\\t\\t</td>\\r\\n\\t\\t\\t\\t\\t\\t\\t\\t\\t\\t<td data-title=\"Prize Per Winner\" class=\"righty\">\\r\\n\\t\\t\\t\\t\\t\\t\\t\\t\\t\\t\\t&euro;4.00\\r\\n\\t\\t\\t\\t\\t\\t\\t\\t\\t\\t\\t\\r\\n\\t\\t\\t\\t\\t\\t\\t\\t\\t\\t</td>\\r\\n\\t\\t\\t\\t\\t\\t\\t\\t\\t\\t\\r\\n\\t\\t\\t\\t\\t\\t\\t\\t\\t\\t\\t<td data-title=\"Irish Winners\" class=\"righty\">\\r\\n\\t\\t\\t\\t\\t\\t\\t\\t\\t\\t\\t\\t24,257\\r\\n\\t\\t\\t\\t\\t\\t\\t\\t\\t\\t\\t\\t\\r\\n\\t\\t\\t\\t\\t\\t\\t\\t\\t\\t\\t</td>\\r\\n\\t\\t\\t\\t\\t\\t\\t\\t\\t\\t\\r\\n\\t\\t\\t\\t\\t\\t\\t\\t\\t\\t\\t<td data-title=\"Prize Fund Amount\" class=\"righty\">\\r\\n\\t\\t\\t\\t\\t\\t\\t\\t\\t\\t\\t\\t&euro;97,028.00\\r\\n\\t\\t\\t\\t\\t\\t\\t\\t\\t\\t\\t\\t\\r\\n\\t\\t\\t\\t\\t\\t\\t\\t\\t\\t\\t</td>\\r\\n\\t\\t\\t\\t\\t\\t\\t\\t\\t\\t\\r\\n\\t\\t\\t\\t\\t\\t\\t\\t\\t\\t<td data-title=\"Total Winners\" class=\"righty\">\\r\\n\\t\\t\\t\\t\\t\\t\\t\\t\\t\\t\\t972,679\\r\\n\\t\\t\\t\\t\\t\\t\\t\\t\\t\\t\\t\\t\\r\\n\\t\\t\\t\\t\\t\\t\\t\\t\\t\\t</td>\\r\\n\\t\\t\\t\\t\\t\\t\\t\\t\\t</tr>\\r\\n\\t\\t\\t\\t\\t\\t\\t\\t\\r\\n\\t\\t\\t\\t\\t\\t\\t\\t\\t<tr class=\"totals\">\\r\\n\\t\\t\\t\\t\\t\\t\\t\\t\\t\\t<td data-title=\"Numbers Matched\" class=\"colour\">\\r\\n\\t\\t\\t\\t\\t\\t\\t\\t\\t\\t\\t<span class=\"prizeName\">Totals</span>\\r\\n\\t\\t\\t\\t\\t\\t\\t\\t\\t\\t</td>\\r\\n\\t\\t\\t\\t\\t\\t\\t\\t\\t\\t<td data-title=\"Prize Per Winner\" class=\"righty\">\\r\\n\\t\\t\\t\\t\\t\\t\\t\\t\\t\\t\\t\\r\\n\\t\\t\\t\\t\\t\\t\\t\\t\\t\\t\\t\\t-\\r\\n\\t\\t\\t\\t\\t\\t\\t\\t\\t\\t\\t\\r\\n\\t\\t\\t\\t\\t\\t\\t\\t\\t\\t</td>\\r\\n\\t\\t\\t\\t\\t\\t\\t\\t\\t\\t\\r\\n\\t\\t\\t\\t\\t\\t\\t\\t\\t\\t\\t<td data-title=\"Irish Winners\" class=\"righty\">\\r\\n\\t\\t\\t\\t\\t\\t\\t\\t\\t\\t\\t\\t39,982\\r\\n\\t\\t\\t\\t\\t\\t\\t\\t\\t\\t\\t\\t\\r\\n\\t\\t\\t\\t\\t\\t\\t\\t\\t\\t\\t</td>\\r\\n\\t\\t\\t\\t\\t\\t\\t\\t\\t\\t\\r\\n\\t\\t\\t\\t\\t\\t\\t\\t\\t\\t\\t<td data-title=\"Prize Fund Amount\" class=\"righty\">\\r\\n\\t\\t\\t\\t\\t\\t\\t\\t\\t\\t\\t\\t&euro;217,916.00\\r\\n\\t\\t\\t\\t\\t\\t\\t\\t\\t\\t\\t\\t\\r\\n\\t\\t\\t\\t\\t\\t\\t\\t\\t\\t\\t</td>\\r\\n\\t\\t\\t\\t\\t\\t\\t\\t\\t\\t\\r\\n\\t\\t\\t\\t\\t\\t\\t\\t\\t\\t<td data-title=\"Total Winners\" class=\"righty\">\\r\\n\\t\\t\\t\\t\\t\\t\\t\\t\\t\\t\\t1,549,047\\r\\n\\t\\t\\t\\t\\t\\t\\t\\t\\t\\t\\t\\t\\r\\n\\t\\t\\t\\t\\t\\t\\t\\t\\t\\t</td>\\r\\n\\t\\t\\t\\t\\t\\t\\t\\t\\t</tr>\\r\\n\\t\\t\\t\\t\\t\\t\\t\\t\\r\\n\\t\\t\\t\\t\\t\\t\\t</tbody>\\r\\n\\t\\t\\t\\t\\t\\t</table>\\r\\n\\t\\t\\t\\t\\t\\r\\n\\t\\t\\t\\t\\t\\t\\r\\n\\t\\t\\t\\t\\r\\n\\t\\t\\t\\t</div>\\r\\n\\t\\t\\t\\r\\n\\t\\t\\t\\r\\n\\t\\t\\t\\r\\n\\t\\t\\t\\t<div id=\"PrizePT\">\\r\\n\\t\\t\\t\\t\\r\\n\\t\\t\\t\\t\\t\\r\\n\\r\\n\\t\\t\\t\\t\\t\\t<table class=\"mobFormat\">\\r\\n\\t\\t\\t\\t\\t\\t\\t<thead>\\r\\n\\t\\t\\t\\t\\t\\t\\t\\t<tr>\\r\\n\\t\\t\\t\\t\\t\\t\\t\\t\\t<th>Numbers Matched</th>\\r\\n\\t\\t\\t\\t\\t\\t\\t\\t\\t<th class=\"righty\">Prize Per Winner</th>\\r\\n\\t\\t\\t\\t\\t\\t\\t\\t\\t\\r\\n\\t\\t\\t\\t\\t\\t\\t\\t\\t\\t<th class=\"righty\">Portuguese Winners</th>\\r\\n\\t\\t\\t\\t\\t\\t\\t\\t\\t\\r\\n\\t\\t\\t\\t\\t\\t\\t\\t\\t\\t<th class=\"righty\">Prize Fund Amount</th>\\r\\n\\t\\t\\t\\t\\t\\t\\t\\t\\t\\r\\n\\t\\t\\t\\t\\t\\t\\t\\t\\t<th class=\"righty\">Total Winners</th>\\r\\n\\t\\t\\t\\t\\t\\t\\t\\t</tr>\\r\\n\\t\\t\\t\\t\\t\\t\\t</thead>\\r\\n\\t\\t\\t\\t\\t\\t\\t<tbody>\\r\\n\\t\\t\\t\\t\\t\\t\\t\\t\\r\\n\\t\\t\\t\\t\\t\\t\\t\\t\\t<tr>\\r\\n\\t\\t\\t\\t\\t\\t\\t\\t\\t\\t<td data-title=\"Numbers Matched\" class=\"colour\">\\r\\n\\t\\t\\t\\t\\t\\t\\t\\t\\t\\t\\t<span class=\"prizeName\"><span class=\"ball\">5 </span> + <span class=\"star\"> 2</span></span></span>\\r\\n\\t\\t\\t\\t\\t\\t\\t\\t\\t\\t</td>\\r\\n\\t\\t\\t\\t\\t\\t\\t\\t\\t\\t<td data-title=\"Prize Per Winner\" class=\"righty\">\\r\\n\\t\\t\\t\\t\\t\\t\\t\\t\\t\\t\\t&euro;83,786,486.80\\r\\n\\t\\t\\t\\t\\t\\t\\t\\t\\t\\t\\t\\r\\n\\t\\t\\t\\t\\t\\t\\t\\t\\t\\t</td>\\r\\n\\t\\t\\t\\t\\t\\t\\t\\t\\t\\t\\r\\n\\t\\t\\t\\t\\t\\t\\t\\t\\t\\t\\t<td data-title=\"Portuguese Winners\" class=\"righty\">\\r\\n\\t\\t\\t\\t\\t\\t\\t\\t\\t\\t\\t\\t0\\r\\n\\t\\t\\t\\t\\t\\t\\t\\t\\t\\t\\t\\t\\r\\n\\t\\t\\t\\t\\t\\t\\t\\t\\t\\t\\t</td>\\r\\n\\t\\t\\t\\t\\t\\t\\t\\t\\t\\t\\r\\n\\t\\t\\t\\t\\t\\t\\t\\t\\t\\t\\t<td data-title=\"Prize Fund Amount\" class=\"righty\">\\r\\n\\t\\t\\t\\t\\t\\t\\t\\t\\t\\t\\t\\t&euro;0.00\\r\\n\\t\\t\\t\\t\\t\\t\\t\\t\\t\\t\\t\\t\\r\\n\\t\\t\\t\\t\\t\\t\\t\\t\\t\\t\\t</td>\\r\\n\\t\\t\\t\\t\\t\\t\\t\\t\\t\\t\\r\\n\\t\\t\\t\\t\\t\\t\\t\\t\\t\\t<td data-title=\"Total Winners\" class=\"righty\">\\r\\n\\t\\t\\t\\t\\t\\t\\t\\t\\t\\t\\t\\r\\n\\t\\t\\t\\t\\t\\t\\t\\t\\t\\t\\t\\t\\t<strong style=\"color:#F00\">Rollover!</strong> \\r\\n\\t\\t\\t\\t\\t\\t\\t\\t\\t\\t\\t\\t0\\r\\n\\t\\t\\t\\t\\t\\t\\t\\t\\t\\t\\t\\t\\r\\n\\t\\t\\t\\t\\t\\t\\t\\t\\t\\t</td>\\r\\n\\t\\t\\t\\t\\t\\t\\t\\t\\t</tr>\\r\\n\\t\\t\\t\\t\\t\\t\\t\\t\\r\\n\\t\\t\\t\\t\\t\\t\\t\\t\\t<tr>\\r\\n\\t\\t\\t\\t\\t\\t\\t\\t\\t\\t<td data-title=\"Numbers Matched\" class=\"colour\">\\r\\n\\t\\t\\t\\t\\t\\t\\t\\t\\t\\t\\t<span class=\"prizeName\"><span class=\"ball\">5 </span> + <span class=\"star\"> 1</span></span></span>\\r\\n\\t\\t\\t\\t\\t\\t\\t\\t\\t\\t</td>\\r\\n\\t\\t\\t\\t\\t\\t\\t\\t\\t\\t<td data-title=\"Prize Per Winner\" class=\"righty\">\\r\\n\\t\\t\\t\\t\\t\\t\\t\\t\\t\\t\\t&euro;0.00\\r\\n\\t\\t\\t\\t\\t\\t\\t\\t\\t\\t\\t\\r\\n\\t\\t\\t\\t\\t\\t\\t\\t\\t\\t</td>\\r\\n\\t\\t\\t\\t\\t\\t\\t\\t\\t\\t\\r\\n\\t\\t\\t\\t\\t\\t\\t\\t\\t\\t\\t<td data-title=\"Portuguese Winners\" class=\"righty\">\\r\\n\\t\\t\\t\\t\\t\\t\\t\\t\\t\\t\\t\\t0\\r\\n\\t\\t\\t\\t\\t\\t\\t\\t\\t\\t\\t\\t\\r\\n\\t\\t\\t\\t\\t\\t\\t\\t\\t\\t\\t</td>\\r\\n\\t\\t\\t\\t\\t\\t\\t\\t\\t\\t\\r\\n\\t\\t\\t\\t\\t\\t\\t\\t\\t\\t\\t<td data-title=\"Prize Fund Amount\" class=\"righty\">\\r\\n\\t\\t\\t\\t\\t\\t\\t\\t\\t\\t\\t\\t&euro;0.00\\r\\n\\t\\t\\t\\t\\t\\t\\t\\t\\t\\t\\t\\t\\r\\n\\t\\t\\t\\t\\t\\t\\t\\t\\t\\t\\t</td>\\r\\n\\t\\t\\t\\t\\t\\t\\t\\t\\t\\t\\r\\n\\t\\t\\t\\t\\t\\t\\t\\t\\t\\t<td data-title=\"Total Winners\" class=\"righty\">\\r\\n\\t\\t\\t\\t\\t\\t\\t\\t\\t\\t\\t0\\r\\n\\t\\t\\t\\t\\t\\t\\t\\t\\t\\t\\t\\t\\r\\n\\t\\t\\t\\t\\t\\t\\t\\t\\t\\t</td>\\r\\n\\t\\t\\t\\t\\t\\t\\t\\t\\t</tr>\\r\\n\\t\\t\\t\\t\\t\\t\\t\\t\\r\\n\\t\\t\\t\\t\\t\\t\\t\\t\\t<tr>\\r\\n\\t\\t\\t\\t\\t\\t\\t\\t\\t\\t<td data-title=\"Numbers Matched\" class=\"colour\">\\r\\n\\t\\t\\t\\t\\t\\t\\t\\t\\t\\t\\t<span class=\"prizeName\"><span class=\"ball\">5</span></span>\\r\\n\\t\\t\\t\\t\\t\\t\\t\\t\\t\\t</td>\\r\\n\\t\\t\\t\\t\\t\\t\\t\\t\\t\\t<td data-title=\"Prize Per Winner\" class=\"righty\">\\r\\n\\t\\t\\t\\t\\t\\t\\t\\t\\t\\t\\t&euro;65,420.21\\r\\n\\t\\t\\t\\t\\t\\t\\t\\t\\t\\t\\t\\r\\n\\t\\t\\t\\t\\t\\t\\t\\t\\t\\t</td>\\r\\n\\t\\t\\t\\t\\t\\t\\t\\t\\t\\t\\r\\n\\t\\t\\t\\t\\t\\t\\t\\t\\t\\t\\t<td data-title=\"Portuguese Winners\" class=\"righty\">\\r\\n\\t\\t\\t\\t\\t\\t\\t\\t\\t\\t\\t\\t0\\r\\n\\t\\t\\t\\t\\t\\t\\t\\t\\t\\t\\t\\t\\r\\n\\t\\t\\t\\t\\t\\t\\t\\t\\t\\t\\t</td>\\r\\n\\t\\t\\t\\t\\t\\t\\t\\t\\t\\t\\r\\n\\t\\t\\t\\t\\t\\t\\t\\t\\t\\t\\t<td data-title=\"Prize Fund Amount\" class=\"righty\">\\r\\n\\t\\t\\t\\t\\t\\t\\t\\t\\t\\t\\t\\t&euro;0.00\\r\\n\\t\\t\\t\\t\\t\\t\\t\\t\\t\\t\\t\\t\\r\\n\\t\\t\\t\\t\\t\\t\\t\\t\\t\\t\\t</td>\\r\\n\\t\\t\\t\\t\\t\\t\\t\\t\\t\\t\\r\\n\\t\\t\\t\\t\\t\\t\\t\\t\\t\\t<td data-title=\"Total Winners\" class=\"righty\">\\r\\n\\t\\t\\t\\t\\t\\t\\t\\t\\t\\t\\t11\\r\\n\\t\\t\\t\\t\\t\\t\\t\\t\\t\\t\\t\\t\\r\\n\\t\\t\\t\\t\\t\\t\\t\\t\\t\\t</td>\\r\\n\\t\\t\\t\\t\\t\\t\\t\\t\\t</tr>\\r\\n\\t\\t\\t\\t\\t\\t\\t\\t\\r\\n\\t\\t\\t\\t\\t\\t\\t\\t\\t<tr>\\r\\n\\t\\t\\t\\t\\t\\t\\t\\t\\t\\t<td data-title=\"Numbers Matched\" class=\"colour\">\\r\\n\\t\\t\\t\\t\\t\\t\\t\\t\\t\\t\\t<span class=\"prizeName\"><span class=\"ball\">4 </span> + <span class=\"star\"> 2</span></span></span>\\r\\n\\t\\t\\t\\t\\t\\t\\t\\t\\t\\t</td>\\r\\n\\t\\t\\t\\t\\t\\t\\t\\t\\t\\t<td data-title=\"Prize Per Winner\" class=\"righty\">\\r\\n\\t\\t\\t\\t\\t\\t\\t\\t\\t\\t\\t&euro;1,326.94\\r\\n\\t\\t\\t\\t\\t\\t\\t\\t\\t\\t\\t\\r\\n\\t\\t\\t\\t\\t\\t\\t\\t\\t\\t</td>\\r\\n\\t\\t\\t\\t\\t\\t\\t\\t\\t\\t\\r\\n\\t\\t\\t\\t\\t\\t\\t\\t\\t\\t\\t<td data-title=\"Portuguese Winners\" class=\"righty\">\\r\\n\\t\\t\\t\\t\\t\\t\\t\\t\\t\\t\\t\\t3\\r\\n\\t\\t\\t\\t\\t\\t\\t\\t\\t\\t\\t\\t\\r\\n\\t\\t\\t\\t\\t\\t\\t\\t\\t\\t\\t</td>\\r\\n\\t\\t\\t\\t\\t\\t\\t\\t\\t\\t\\r\\n\\t\\t\\t\\t\\t\\t\\t\\t\\t\\t\\t<td data-title=\"Prize Fund Amount\" class=\"righty\">\\r\\n\\t\\t\\t\\t\\t\\t\\t\\t\\t\\t\\t\\t&euro;3,980.82\\r\\n\\t\\t\\t\\t\\t\\t\\t\\t\\t\\t\\t\\t\\r\\n\\t\\t\\t\\t\\t\\t\\t\\t\\t\\t\\t</td>\\r\\n\\t\\t\\t\\t\\t\\t\\t\\t\\t\\t\\r\\n\\t\\t\\t\\t\\t\\t\\t\\t\\t\\t<td data-title=\"Total Winners\" class=\"righty\">\\r\\n\\t\\t\\t\\t\\t\\t\\t\\t\\t\\t\\t32\\r\\n\\t\\t\\t\\t\\t\\t\\t\\t\\t\\t\\t\\t\\r\\n\\t\\t\\t\\t\\t\\t\\t\\t\\t\\t</td>\\r\\n\\t\\t\\t\\t\\t\\t\\t\\t\\t</tr>\\r\\n\\t\\t\\t\\t\\t\\t\\t\\t\\r\\n\\t\\t\\t\\t\\t\\t\\t\\t\\t<tr>\\r\\n\\t\\t\\t\\t\\t\\t\\t\\t\\t\\t<td data-title=\"Numbers Matched\" class=\"colour\">\\r\\n\\t\\t\\t\\t\\t\\t\\t\\t\\t\\t\\t<span class=\"prizeName\"><span class=\"ball\">4 </span> + <span class=\"star\"> 1</span></span></span>\\r\\n\\t\\t\\t\\t\\t\\t\\t\\t\\t\\t</td>\\r\\n\\t\\t\\t\\t\\t\\t\\t\\t\\t\\t<td data-title=\"Prize Per Winner\" class=\"righty\">\\r\\n\\t\\t\\t\\t\\t\\t\\t\\t\\t\\t\\t&euro;129.28\\r\\n\\t\\t\\t\\t\\t\\t\\t\\t\\t\\t\\t\\r\\n\\t\\t\\t\\t\\t\\t\\t\\t\\t\\t</td>\\r\\n\\t\\t\\t\\t\\t\\t\\t\\t\\t\\t\\r\\n\\t\\t\\t\\t\\t\\t\\t\\t\\t\\t\\t<td data-title=\"Portuguese Winners\" class=\"righty\">\\r\\n\\t\\t\\t\\t\\t\\t\\t\\t\\t\\t\\t\\t45\\r\\n\\t\\t\\t\\t\\t\\t\\t\\t\\t\\t\\t\\t\\r\\n\\t\\t\\t\\t\\t\\t\\t\\t\\t\\t\\t</td>\\r\\n\\t\\t\\t\\t\\t\\t\\t\\t\\t\\t\\r\\n\\t\\t\\t\\t\\t\\t\\t\\t\\t\\t\\t<td data-title=\"Prize Fund Amount\" class=\"righty\">\\r\\n\\t\\t\\t\\t\\t\\t\\t\\t\\t\\t\\t\\t&euro;5,817.60\\r\\n\\t\\t\\t\\t\\t\\t\\t\\t\\t\\t\\t\\t\\r\\n\\t\\t\\t\\t\\t\\t\\t\\t\\t\\t\\t</td>\\r\\n\\t\\t\\t\\t\\t\\t\\t\\t\\t\\t\\r\\n\\t\\t\\t\\t\\t\\t\\t\\t\\t\\t<td data-title=\"Total Winners\" class=\"righty\">\\r\\n\\t\\t\\t\\t\\t\\t\\t\\t\\t\\t\\t605\\r\\n\\t\\t\\t\\t\\t\\t\\t\\t\\t\\t\\t\\t\\r\\n\\t\\t\\t\\t\\t\\t\\t\\t\\t\\t</td>\\r\\n\\t\\t\\t\\t\\t\\t\\t\\t\\t</tr>\\r\\n\\t\\t\\t\\t\\t\\t\\t\\t\\r\\n\\t\\t\\t\\t\\t\\t\\t\\t\\t<tr>\\r\\n\\t\\t\\t\\t\\t\\t\\t\\t\\t\\t<td data-title=\"Numbers Matched\" class=\"colour\">\\r\\n\\t\\t\\t\\t\\t\\t\\t\\t\\t\\t\\t<span class=\"prizeName\"><span class=\"ball\">3 </span> + <span class=\"star\"> 2</span></span></span>\\r\\n\\t\\t\\t\\t\\t\\t\\t\\t\\t\\t</td>\\r\\n\\t\\t\\t\\t\\t\\t\\t\\t\\t\\t<td data-title=\"Prize Per Winner\" class=\"righty\">\\r\\n\\t\\t\\t\\t\\t\\t\\t\\t\\t\\t\\t&euro;71.53\\r\\n\\t\\t\\t\\t\\t\\t\\t\\t\\t\\t\\t\\r\\n\\t\\t\\t\\t\\t\\t\\t\\t\\t\\t</td>\\r\\n\\t\\t\\t\\t\\t\\t\\t\\t\\t\\t\\r\\n\\t\\t\\t\\t\\t\\t\\t\\t\\t\\t\\t<td data-title=\"Portuguese Winners\" class=\"righty\">\\r\\n\\t\\t\\t\\t\\t\\t\\t\\t\\t\\t\\t\\t79\\r\\n\\t\\t\\t\\t\\t\\t\\t\\t\\t\\t\\t\\t\\r\\n\\t\\t\\t\\t\\t\\t\\t\\t\\t\\t\\t</td>\\r\\n\\t\\t\\t\\t\\t\\t\\t\\t\\t\\t\\r\\n\\t\\t\\t\\t\\t\\t\\t\\t\\t\\t\\t<td data-title=\"Prize Fund Amount\" class=\"righty\">\\r\\n\\t\\t\\t\\t\\t\\t\\t\\t\\t\\t\\t\\t&euro;5,650.87\\r\\n\\t\\t\\t\\t\\t\\t\\t\\t\\t\\t\\t\\t\\r\\n\\t\\t\\t\\t\\t\\t\\t\\t\\t\\t\\t</td>\\r\\n\\t\\t\\t\\t\\t\\t\\t\\t\\t\\t\\r\\n\\t\\t\\t\\t\\t\\t\\t\\t\\t\\t<td data-title=\"Total Winners\" class=\"righty\">\\r\\n\\t\\t\\t\\t\\t\\t\\t\\t\\t\\t\\t1,156\\r\\n\\t\\t\\t\\t\\t\\t\\t\\t\\t\\t\\t\\t\\r\\n\\t\\t\\t\\t\\t\\t\\t\\t\\t\\t</td>\\r\\n\\t\\t\\t\\t\\t\\t\\t\\t\\t</tr>\\r\\n\\t\\t\\t\\t\\t\\t\\t\\t\\r\\n\\t\\t\\t\\t\\t\\t\\t\\t\\t<tr>\\r\\n\\t\\t\\t\\t\\t\\t\\t\\t\\t\\t<td data-title=\"Numbers Matched\" class=\"colour\">\\r\\n\\t\\t\\t\\t\\t\\t\\t\\t\\t\\t\\t<span class=\"prizeName\"><span class=\"ball\">4</span></span>\\r\\n\\t\\t\\t\\t\\t\\t\\t\\t\\t\\t</td>\\r\\n\\t\\t\\t\\t\\t\\t\\t\\t\\t\\t<td data-title=\"Prize Per Winner\" class=\"righty\">\\r\\n\\t\\t\\t\\t\\t\\t\\t\\t\\t\\t\\t&euro;38.68\\r\\n\\t\\t\\t\\t\\t\\t\\t\\t\\t\\t\\t\\r\\n\\t\\t\\t\\t\\t\\t\\t\\t\\t\\t</td>\\r\\n\\t\\t\\t\\t\\t\\t\\t\\t\\t\\t\\r\\n\\t\\t\\t\\t\\t\\t\\t\\t\\t\\t\\t<td data-title=\"Portuguese Winners\" class=\"righty\">\\r\\n\\t\\t\\t\\t\\t\\t\\t\\t\\t\\t\\t\\t112\\r\\n\\t\\t\\t\\t\\t\\t\\t\\t\\t\\t\\t\\t\\r\\n\\t\\t\\t\\t\\t\\t\\t\\t\\t\\t\\t</td>\\r\\n\\t\\t\\t\\t\\t\\t\\t\\t\\t\\t\\r\\n\\t\\t\\t\\t\\t\\t\\t\\t\\t\\t\\t<td data-title=\"Prize Fund Amount\" class=\"righty\">\\r\\n\\t\\t\\t\\t\\t\\t\\t\\t\\t\\t\\t\\t&euro;4,332.16\\r\\n\\t\\t\\t\\t\\t\\t\\t\\t\\t\\t\\t\\t\\r\\n\\t\\t\\t\\t\\t\\t\\t\\t\\t\\t\\t</td>\\r\\n\\t\\t\\t\\t\\t\\t\\t\\t\\t\\t\\r\\n\\t\\t\\t\\t\\t\\t\\t\\t\\t\\t<td data-title=\"Total Winners\" class=\"righty\">\\r\\n\\t\\t\\t\\t\\t\\t\\t\\t\\t\\t\\t1,502\\r\\n\\t\\t\\t\\t\\t\\t\\t\\t\\t\\t\\t\\t\\r\\n\\t\\t\\t\\t\\t\\t\\t\\t\\t\\t</td>\\r\\n\\t\\t\\t\\t\\t\\t\\t\\t\\t</tr>\\r\\n\\t\\t\\t\\t\\t\\t\\t\\t\\r\\n\\t\\t\\t\\t\\t\\t\\t\\t\\t<tr>\\r\\n\\t\\t\\t\\t\\t\\t\\t\\t\\t\\t<td data-title=\"Numbers Matched\" class=\"colour\">\\r\\n\\t\\t\\t\\t\\t\\t\\t\\t\\t\\t\\t<span class=\"prizeName\"><span class=\"ball\">2 </span> + <span class=\"star\"> 2</span></span></span>\\r\\n\\t\\t\\t\\t\\t\\t\\t\\t\\t\\t</td>\\r\\n\\t\\t\\t\\t\\t\\t\\t\\t\\t\\t<td data-title=\"Prize Per Winner\" class=\"righty\">\\r\\n\\t\\t\\t\\t\\t\\t\\t\\t\\t\\t\\t&euro;17.24\\r\\n\\t\\t\\t\\t\\t\\t\\t\\t\\t\\t\\t\\r\\n\\t\\t\\t\\t\\t\\t\\t\\t\\t\\t</td>\\r\\n\\t\\t\\t\\t\\t\\t\\t\\t\\t\\t\\r\\n\\t\\t\\t\\t\\t\\t\\t\\t\\t\\t\\t<td data-title=\"Portuguese Winners\" class=\"righty\">\\r\\n\\t\\t\\t\\t\\t\\t\\t\\t\\t\\t\\t\\t1,138\\r\\n\\t\\t\\t\\t\\t\\t\\t\\t\\t\\t\\t\\t\\r\\n\\t\\t\\t\\t\\t\\t\\t\\t\\t\\t\\t</td>\\r\\n\\t\\t\\t\\t\\t\\t\\t\\t\\t\\t\\r\\n\\t\\t\\t\\t\\t\\t\\t\\t\\t\\t\\t<td data-title=\"Prize Fund Amount\" class=\"righty\">\\r\\n\\t\\t\\t\\t\\t\\t\\t\\t\\t\\t\\t\\t&euro;19,619.12\\r\\n\\t\\t\\t\\t\\t\\t\\t\\t\\t\\t\\t\\t\\r\\n\\t\\t\\t\\t\\t\\t\\t\\t\\t\\t\\t</td>\\r\\n\\t\\t\\t\\t\\t\\t\\t\\t\\t\\t\\r\\n\\t\\t\\t\\t\\t\\t\\t\\t\\t\\t<td data-title=\"Total Winners\" class=\"righty\">\\r\\n\\t\\t\\t\\t\\t\\t\\t\\t\\t\\t\\t16,848\\r\\n\\t\\t\\t\\t\\t\\t\\t\\t\\t\\t\\t\\t\\r\\n\\t\\t\\t\\t\\t\\t\\t\\t\\t\\t</td>\\r\\n\\t\\t\\t\\t\\t\\t\\t\\t\\t</tr>\\r\\n\\t\\t\\t\\t\\t\\t\\t\\t\\r\\n\\t\\t\\t\\t\\t\\t\\t\\t\\t<tr>\\r\\n\\t\\t\\t\\t\\t\\t\\t\\t\\t\\t<td data-title=\"Numbers Matched\" class=\"colour\">\\r\\n\\t\\t\\t\\t\\t\\t\\t\\t\\t\\t\\t<span class=\"prizeName\"><span class=\"ball\">3 </span> + <span class=\"star\"> 1</span></span></span>\\r\\n\\t\\t\\t\\t\\t\\t\\t\\t\\t\\t</td>\\r\\n\\t\\t\\t\\t\\t\\t\\t\\t\\t\\t<td data-title=\"Prize Per Winner\" class=\"righty\">\\r\\n\\t\\t\\t\\t\\t\\t\\t\\t\\t\\t\\t&euro;12.53\\r\\n\\t\\t\\t\\t\\t\\t\\t\\t\\t\\t\\t\\r\\n\\t\\t\\t\\t\\t\\t\\t\\t\\t\\t</td>\\r\\n\\t\\t\\t\\t\\t\\t\\t\\t\\t\\t\\r\\n\\t\\t\\t\\t\\t\\t\\t\\t\\t\\t\\t<td data-title=\"Portuguese Winners\" class=\"righty\">\\r\\n\\t\\t\\t\\t\\t\\t\\t\\t\\t\\t\\t\\t1,741\\r\\n\\t\\t\\t\\t\\t\\t\\t\\t\\t\\t\\t\\t\\r\\n\\t\\t\\t\\t\\t\\t\\t\\t\\t\\t\\t</td>\\r\\n\\t\\t\\t\\t\\t\\t\\t\\t\\t\\t\\r\\n\\t\\t\\t\\t\\t\\t\\t\\t\\t\\t\\t<td data-title=\"Prize Fund Amount\" class=\"righty\">\\r\\n\\t\\t\\t\\t\\t\\t\\t\\t\\t\\t\\t\\t&euro;21,814.73\\r\\n\\t\\t\\t\\t\\t\\t\\t\\t\\t\\t\\t\\t\\r\\n\\t\\t\\t\\t\\t\\t\\t\\t\\t\\t\\t</td>\\r\\n\\t\\t\\t\\t\\t\\t\\t\\t\\t\\t\\r\\n\\t\\t\\t\\t\\t\\t\\t\\t\\t\\t<td data-title=\"Total Winners\" class=\"righty\">\\r\\n\\t\\t\\t\\t\\t\\t\\t\\t\\t\\t\\t25,854\\r\\n\\t\\t\\t\\t\\t\\t\\t\\t\\t\\t\\t\\t\\r\\n\\t\\t\\t\\t\\t\\t\\t\\t\\t\\t</td>\\r\\n\\t\\t\\t\\t\\t\\t\\t\\t\\t</tr>\\r\\n\\t\\t\\t\\t\\t\\t\\t\\t\\r\\n\\t\\t\\t\\t\\t\\t\\t\\t\\t<tr>\\r\\n\\t\\t\\t\\t\\t\\t\\t\\t\\t\\t<td data-title=\"Numbers Matched\" class=\"colour\">\\r\\n\\t\\t\\t\\t\\t\\t\\t\\t\\t\\t\\t<span class=\"prizeName\"><span class=\"ball\">3</span></span>\\r\\n\\t\\t\\t\\t\\t\\t\\t\\t\\t\\t</td>\\r\\n\\t\\t\\t\\t\\t\\t\\t\\t\\t\\t<td data-title=\"Prize Per Winner\" class=\"righty\">\\r\\n\\t\\t\\t\\t\\t\\t\\t\\t\\t\\t\\t&euro;8.96\\r\\n\\t\\t\\t\\t\\t\\t\\t\\t\\t\\t\\t\\r\\n\\t\\t\\t\\t\\t\\t\\t\\t\\t\\t</td>\\r\\n\\t\\t\\t\\t\\t\\t\\t\\t\\t\\t\\r\\n\\t\\t\\t\\t\\t\\t\\t\\t\\t\\t\\t<td data-title=\"Portuguese Winners\" class=\"righty\">\\r\\n\\t\\t\\t\\t\\t\\t\\t\\t\\t\\t\\t\\t4,978\\r\\n\\t\\t\\t\\t\\t\\t\\t\\t\\t\\t\\t\\t\\r\\n\\t\\t\\t\\t\\t\\t\\t\\t\\t\\t\\t</td>\\r\\n\\t\\t\\t\\t\\t\\t\\t\\t\\t\\t\\r\\n\\t\\t\\t\\t\\t\\t\\t\\t\\t\\t\\t<td data-title=\"Prize Fund Amount\" class=\"righty\">\\r\\n\\t\\t\\t\\t\\t\\t\\t\\t\\t\\t\\t\\t&euro;44,602.88\\r\\n\\t\\t\\t\\t\\t\\t\\t\\t\\t\\t\\t\\t\\r\\n\\t\\t\\t\\t\\t\\t\\t\\t\\t\\t\\t</td>\\r\\n\\t\\t\\t\\t\\t\\t\\t\\t\\t\\t\\r\\n\\t\\t\\t\\t\\t\\t\\t\\t\\t\\t<td data-title=\"Total Winners\" class=\"righty\">\\r\\n\\t\\t\\t\\t\\t\\t\\t\\t\\t\\t\\t67,339\\r\\n\\t\\t\\t\\t\\t\\t\\t\\t\\t\\t\\t\\t\\r\\n\\t\\t\\t\\t\\t\\t\\t\\t\\t\\t</td>\\r\\n\\t\\t\\t\\t\\t\\t\\t\\t\\t</tr>\\r\\n\\t\\t\\t\\t\\t\\t\\t\\t\\r\\n\\t\\t\\t\\t\\t\\t\\t\\t\\t<tr>\\r\\n\\t\\t\\t\\t\\t\\t\\t\\t\\t\\t<td data-title=\"Numbers Matched\" class=\"colour\">\\r\\n\\t\\t\\t\\t\\t\\t\\t\\t\\t\\t\\t<span class=\"prizeName\"><span class=\"ball\">1 </span> + <span class=\"star\"> 2</span></span></span>\\r\\n\\t\\t\\t\\t\\t\\t\\t\\t\\t\\t</td>\\r\\n\\t\\t\\t\\t\\t\\t\\t\\t\\t\\t<td data-title=\"Prize Per Winner\" class=\"righty\">\\r\\n\\t\\t\\t\\t\\t\\t\\t\\t\\t\\t\\t&euro;8.20\\r\\n\\t\\t\\t\\t\\t\\t\\t\\t\\t\\t\\t\\r\\n\\t\\t\\t\\t\\t\\t\\t\\t\\t\\t</td>\\r\\n\\t\\t\\t\\t\\t\\t\\t\\t\\t\\t\\r\\n\\t\\t\\t\\t\\t\\t\\t\\t\\t\\t\\t<td data-title=\"Portuguese Winners\" class=\"righty\">\\r\\n\\t\\t\\t\\t\\t\\t\\t\\t\\t\\t\\t\\t6,119\\r\\n\\t\\t\\t\\t\\t\\t\\t\\t\\t\\t\\t\\t\\r\\n\\t\\t\\t\\t\\t\\t\\t\\t\\t\\t\\t</td>\\r\\n\\t\\t\\t\\t\\t\\t\\t\\t\\t\\t\\r\\n\\t\\t\\t\\t\\t\\t\\t\\t\\t\\t\\t<td data-title=\"Prize Fund Amount\" class=\"righty\">\\r\\n\\t\\t\\t\\t\\t\\t\\t\\t\\t\\t\\t\\t&euro;50,175.80\\r\\n\\t\\t\\t\\t\\t\\t\\t\\t\\t\\t\\t\\t\\r\\n\\t\\t\\t\\t\\t\\t\\t\\t\\t\\t\\t</td>\\r\\n\\t\\t\\t\\t\\t\\t\\t\\t\\t\\t\\r\\n\\t\\t\\t\\t\\t\\t\\t\\t\\t\\t<td data-title=\"Total Winners\" class=\"righty\">\\r\\n\\t\\t\\t\\t\\t\\t\\t\\t\\t\\t\\t89,036\\r\\n\\t\\t\\t\\t\\t\\t\\t\\t\\t\\t\\t\\t\\r\\n\\t\\t\\t\\t\\t\\t\\t\\t\\t\\t</td>\\r\\n\\t\\t\\t\\t\\t\\t\\t\\t\\t</tr>\\r\\n\\t\\t\\t\\t\\t\\t\\t\\t\\r\\n\\t\\t\\t\\t\\t\\t\\t\\t\\t<tr>\\r\\n\\t\\t\\t\\t\\t\\t\\t\\t\\t\\t<td data-title=\"Numbers Matched\" class=\"colour\">\\r\\n\\t\\t\\t\\t\\t\\t\\t\\t\\t\\t\\t<span class=\"prizeName\"><span class=\"ball\">2 </span> + <span class=\"star\"> 1</span></span></span>\\r\\n\\t\\t\\t\\t\\t\\t\\t\\t\\t\\t</td>\\r\\n\\t\\t\\t\\t\\t\\t\\t\\t\\t\\t<td data-title=\"Prize Per Winner\" class=\"righty\">\\r\\n\\t\\t\\t\\t\\t\\t\\t\\t\\t\\t\\t&euro;6.15\\r\\n\\t\\t\\t\\t\\t\\t\\t\\t\\t\\t\\t\\r\\n\\t\\t\\t\\t\\t\\t\\t\\t\\t\\t</td>\\r\\n\\t\\t\\t\\t\\t\\t\\t\\t\\t\\t\\r\\n\\t\\t\\t\\t\\t\\t\\t\\t\\t\\t\\t<td data-title=\"Portuguese Winners\" class=\"righty\">\\r\\n\\t\\t\\t\\t\\t\\t\\t\\t\\t\\t\\t\\t26,186\\r\\n\\t\\t\\t\\t\\t\\t\\t\\t\\t\\t\\t\\t\\r\\n\\t\\t\\t\\t\\t\\t\\t\\t\\t\\t\\t</td>\\r\\n\\t\\t\\t\\t\\t\\t\\t\\t\\t\\t\\r\\n\\t\\t\\t\\t\\t\\t\\t\\t\\t\\t\\t<td data-title=\"Prize Fund Amount\" class=\"righty\">\\r\\n\\t\\t\\t\\t\\t\\t\\t\\t\\t\\t\\t\\t&euro;161,043.90\\r\\n\\t\\t\\t\\t\\t\\t\\t\\t\\t\\t\\t\\t\\r\\n\\t\\t\\t\\t\\t\\t\\t\\t\\t\\t\\t</td>\\r\\n\\t\\t\\t\\t\\t\\t\\t\\t\\t\\t\\r\\n\\t\\t\\t\\t\\t\\t\\t\\t\\t\\t<td data-title=\"Total Winners\" class=\"righty\">\\r\\n\\t\\t\\t\\t\\t\\t\\t\\t\\t\\t\\t373,985\\r\\n\\t\\t\\t\\t\\t\\t\\t\\t\\t\\t\\t\\t\\r\\n\\t\\t\\t\\t\\t\\t\\t\\t\\t\\t</td>\\r\\n\\t\\t\\t\\t\\t\\t\\t\\t\\t</tr>\\r\\n\\t\\t\\t\\t\\t\\t\\t\\t\\r\\n\\t\\t\\t\\t\\t\\t\\t\\t\\t<tr>\\r\\n\\t\\t\\t\\t\\t\\t\\t\\t\\t\\t<td data-title=\"Numbers Matched\" class=\"colour\">\\r\\n\\t\\t\\t\\t\\t\\t\\t\\t\\t\\t\\t<span class=\"prizeName\"><span class=\"ball\">2</span></span>\\r\\n\\t\\t\\t\\t\\t\\t\\t\\t\\t\\t</td>\\r\\n\\t\\t\\t\\t\\t\\t\\t\\t\\t\\t<td data-title=\"Prize Per Winner\" class=\"righty\">\\r\\n\\t\\t\\t\\t\\t\\t\\t\\t\\t\\t\\t&euro;3.81\\r\\n\\t\\t\\t\\t\\t\\t\\t\\t\\t\\t\\t\\r\\n\\t\\t\\t\\t\\t\\t\\t\\t\\t\\t</td>\\r\\n\\t\\t\\t\\t\\t\\t\\t\\t\\t\\t\\r\\n\\t\\t\\t\\t\\t\\t\\t\\t\\t\\t\\t<td data-title=\"Portuguese Winners\" class=\"righty\">\\r\\n\\t\\t\\t\\t\\t\\t\\t\\t\\t\\t\\t\\t73,750\\r\\n\\t\\t\\t\\t\\t\\t\\t\\t\\t\\t\\t\\t\\r\\n\\t\\t\\t\\t\\t\\t\\t\\t\\t\\t\\t</td>\\r\\n\\t\\t\\t\\t\\t\\t\\t\\t\\t\\t\\r\\n\\t\\t\\t\\t\\t\\t\\t\\t\\t\\t\\t<td data-title=\"Prize Fund Amount\" class=\"righty\">\\r\\n\\t\\t\\t\\t\\t\\t\\t\\t\\t\\t\\t\\t&euro;280,987.50\\r\\n\\t\\t\\t\\t\\t\\t\\t\\t\\t\\t\\t\\t\\r\\n\\t\\t\\t\\t\\t\\t\\t\\t\\t\\t\\t</td>\\r\\n\\t\\t\\t\\t\\t\\t\\t\\t\\t\\t\\r\\n\\t\\t\\t\\t\\t\\t\\t\\t\\t\\t<td data-title=\"Total Winners\" class=\"righty\">\\r\\n\\t\\t\\t\\t\\t\\t\\t\\t\\t\\t\\t972,679\\r\\n\\t\\t\\t\\t\\t\\t\\t\\t\\t\\t\\t\\t\\r\\n\\t\\t\\t\\t\\t\\t\\t\\t\\t\\t</td>\\r\\n\\t\\t\\t\\t\\t\\t\\t\\t\\t</tr>\\r\\n\\t\\t\\t\\t\\t\\t\\t\\t\\r\\n\\t\\t\\t\\t\\t\\t\\t\\t\\t<tr class=\"totals\">\\r\\n\\t\\t\\t\\t\\t\\t\\t\\t\\t\\t<td data-title=\"Numbers Matched\" class=\"colour\">\\r\\n\\t\\t\\t\\t\\t\\t\\t\\t\\t\\t\\t<span class=\"prizeName\">Totals</span>\\r\\n\\t\\t\\t\\t\\t\\t\\t\\t\\t\\t</td>\\r\\n\\t\\t\\t\\t\\t\\t\\t\\t\\t\\t<td data-title=\"Prize Per Winner\" class=\"righty\">\\r\\n\\t\\t\\t\\t\\t\\t\\t\\t\\t\\t\\t\\r\\n\\t\\t\\t\\t\\t\\t\\t\\t\\t\\t\\t\\t-\\r\\n\\t\\t\\t\\t\\t\\t\\t\\t\\t\\t\\t\\r\\n\\t\\t\\t\\t\\t\\t\\t\\t\\t\\t</td>\\r\\n\\t\\t\\t\\t\\t\\t\\t\\t\\t\\t\\r\\n\\t\\t\\t\\t\\t\\t\\t\\t\\t\\t\\t<td data-title=\"Portuguese Winners\" class=\"righty\">\\r\\n\\t\\t\\t\\t\\t\\t\\t\\t\\t\\t\\t\\t114,151\\r\\n\\t\\t\\t\\t\\t\\t\\t\\t\\t\\t\\t\\t\\r\\n\\t\\t\\t\\t\\t\\t\\t\\t\\t\\t\\t</td>\\r\\n\\t\\t\\t\\t\\t\\t\\t\\t\\t\\t\\r\\n\\t\\t\\t\\t\\t\\t\\t\\t\\t\\t\\t<td data-title=\"Prize Fund Amount\" class=\"righty\">\\r\\n\\t\\t\\t\\t\\t\\t\\t\\t\\t\\t\\t\\t&euro;598,025.38\\r\\n\\t\\t\\t\\t\\t\\t\\t\\t\\t\\t\\t\\t\\r\\n\\t\\t\\t\\t\\t\\t\\t\\t\\t\\t\\t</td>\\r\\n\\t\\t\\t\\t\\t\\t\\t\\t\\t\\t\\r\\n\\t\\t\\t\\t\\t\\t\\t\\t\\t\\t<td data-title=\"Total Winners\" class=\"righty\">\\r\\n\\t\\t\\t\\t\\t\\t\\t\\t\\t\\t\\t1,549,047\\r\\n\\t\\t\\t\\t\\t\\t\\t\\t\\t\\t\\t\\t\\r\\n\\t\\t\\t\\t\\t\\t\\t\\t\\t\\t</td>\\r\\n\\t\\t\\t\\t\\t\\t\\t\\t\\t</tr>\\r\\n\\t\\t\\t\\t\\t\\t\\t\\t\\r\\n\\t\\t\\t\\t\\t\\t\\t</tbody>\\r\\n\\t\\t\\t\\t\\t\\t</table>\\r\\n\\t\\t\\t\\t\\t\\r\\n\\t\\t\\t\\t\\t\\t\\r\\n\\t\\t\\t\\t\\t\\t\\t\\t<p class=\"info\"><span>Out of <strong>20,316,837</strong> entries, <strong>1,550,993</strong> were from Portugal, of which <strong>1,450,865</strong> entries were generated from the \"Combination System\" on <strong>896,248</strong> tickets.</span></p>\\r\\n\\t\\t\\t\\t\\t\\t\\t\\r\\n\\t\\t\\t\\t\\r\\n\\t\\t\\t\\t</div>\\r\\n\\t\\t\\t\\r\\n\\t\\t\\t\\r\\n\\t\\t\\t\\r\\n\\t\\t\\t\\t<div id=\"PrizeCH\">\\r\\n\\t\\t\\t\\t\\r\\n\\t\\t\\t\\t\\t\\r\\n\\r\\n\\t\\t\\t\\t\\t\\t<table class=\"mobFormat\">\\r\\n\\t\\t\\t\\t\\t\\t\\t<thead>\\r\\n\\t\\t\\t\\t\\t\\t\\t\\t<tr>\\r\\n\\t\\t\\t\\t\\t\\t\\t\\t\\t<th>Numbers Matched</th>\\r\\n\\t\\t\\t\\t\\t\\t\\t\\t\\t<th class=\"righty\">Prize Per Winner</th>\\r\\n\\t\\t\\t\\t\\t\\t\\t\\t\\t\\r\\n\\t\\t\\t\\t\\t\\t\\t\\t\\t\\t<th class=\"righty\">Luxembourgian &amp; Swiss Winners</th>\\r\\n\\t\\t\\t\\t\\t\\t\\t\\t\\t\\r\\n\\t\\t\\t\\t\\t\\t\\t\\t\\t<th class=\"righty\">Total Winners</th>\\r\\n\\t\\t\\t\\t\\t\\t\\t\\t</tr>\\r\\n\\t\\t\\t\\t\\t\\t\\t</thead>\\r\\n\\t\\t\\t\\t\\t\\t\\t<tbody>\\r\\n\\t\\t\\t\\t\\t\\t\\t\\t\\r\\n\\t\\t\\t\\t\\t\\t\\t\\t\\t<tr>\\r\\n\\t\\t\\t\\t\\t\\t\\t\\t\\t\\t<td data-title=\"Numbers Matched\" class=\"colour\">\\r\\n\\t\\t\\t\\t\\t\\t\\t\\t\\t\\t\\t<span class=\"prizeName\"><span class=\"ball\">5 </span> + <span class=\"star\"> 2</span></span></span>\\r\\n\\t\\t\\t\\t\\t\\t\\t\\t\\t\\t</td>\\r\\n\\t\\t\\t\\t\\t\\t\\t\\t\\t\\t<td data-title=\"Prize Per Winner\" class=\"righty\">\\r\\n\\t\\t\\t\\t\\t\\t\\t\\t\\t\\t\\tCHF80,000,000.00\\r\\n\\t\\t\\t\\t\\t\\t\\t\\t\\t\\t\\t\\r\\n\\t\\t\\t\\t\\t\\t\\t\\t\\t\\t</td>\\r\\n\\t\\t\\t\\t\\t\\t\\t\\t\\t\\t\\r\\n\\t\\t\\t\\t\\t\\t\\t\\t\\t\\t\\t<td data-title=\"Luxembourgian &amp; Swiss Winners\" class=\"righty\">\\r\\n\\t\\t\\t\\t\\t\\t\\t\\t\\t\\t\\t\\t0\\r\\n\\t\\t\\t\\t\\t\\t\\t\\t\\t\\t\\t\\t\\r\\n\\t\\t\\t\\t\\t\\t\\t\\t\\t\\t\\t</td>\\r\\n\\t\\t\\t\\t\\t\\t\\t\\t\\t\\t\\r\\n\\t\\t\\t\\t\\t\\t\\t\\t\\t\\t<td data-title=\"Total Winners\" class=\"righty\">\\r\\n\\t\\t\\t\\t\\t\\t\\t\\t\\t\\t\\t\\r\\n\\t\\t\\t\\t\\t\\t\\t\\t\\t\\t\\t\\t\\t<strong style=\"color:#F00\">Rollover!</strong> \\r\\n\\t\\t\\t\\t\\t\\t\\t\\t\\t\\t\\t\\t0\\r\\n\\t\\t\\t\\t\\t\\t\\t\\t\\t\\t\\t\\t\\r\\n\\t\\t\\t\\t\\t\\t\\t\\t\\t\\t</td>\\r\\n\\t\\t\\t\\t\\t\\t\\t\\t\\t</tr>\\r\\n\\t\\t\\t\\t\\t\\t\\t\\t\\r\\n\\t\\t\\t\\t\\t\\t\\t\\t\\t<tr>\\r\\n\\t\\t\\t\\t\\t\\t\\t\\t\\t\\t<td data-title=\"Numbers Matched\" class=\"colour\">\\r\\n\\t\\t\\t\\t\\t\\t\\t\\t\\t\\t\\t<span class=\"prizeName\"><span class=\"ball\">5 </span> + <span class=\"star\"> 1</span></span></span>\\r\\n\\t\\t\\t\\t\\t\\t\\t\\t\\t\\t</td>\\r\\n\\t\\t\\t\\t\\t\\t\\t\\t\\t\\t<td data-title=\"Prize Per Winner\" class=\"righty\">\\r\\n\\t\\t\\t\\t\\t\\t\\t\\t\\t\\t\\tCHF0.00\\r\\n\\t\\t\\t\\t\\t\\t\\t\\t\\t\\t\\t\\r\\n\\t\\t\\t\\t\\t\\t\\t\\t\\t\\t</td>\\r\\n\\t\\t\\t\\t\\t\\t\\t\\t\\t\\t\\r\\n\\t\\t\\t\\t\\t\\t\\t\\t\\t\\t\\t<td data-title=\"Luxembourgian &amp; Swiss Winners\" class=\"righty\">\\r\\n\\t\\t\\t\\t\\t\\t\\t\\t\\t\\t\\t\\t0\\r\\n\\t\\t\\t\\t\\t\\t\\t\\t\\t\\t\\t\\t\\r\\n\\t\\t\\t\\t\\t\\t\\t\\t\\t\\t\\t</td>\\r\\n\\t\\t\\t\\t\\t\\t\\t\\t\\t\\t\\r\\n\\t\\t\\t\\t\\t\\t\\t\\t\\t\\t<td data-title=\"Total Winners\" class=\"righty\">\\r\\n\\t\\t\\t\\t\\t\\t\\t\\t\\t\\t\\t0\\r\\n\\t\\t\\t\\t\\t\\t\\t\\t\\t\\t\\t\\t\\r\\n\\t\\t\\t\\t\\t\\t\\t\\t\\t\\t</td>\\r\\n\\t\\t\\t\\t\\t\\t\\t\\t\\t</tr>\\r\\n\\t\\t\\t\\t\\t\\t\\t\\t\\r\\n\\t\\t\\t\\t\\t\\t\\t\\t\\t<tr>\\r\\n\\t\\t\\t\\t\\t\\t\\t\\t\\t\\t<td data-title=\"Numbers Matched\" class=\"colour\">\\r\\n\\t\\t\\t\\t\\t\\t\\t\\t\\t\\t\\t<span class=\"prizeName\"><span class=\"ball\">5</span></span>\\r\\n\\t\\t\\t\\t\\t\\t\\t\\t\\t\\t</td>\\r\\n\\t\\t\\t\\t\\t\\t\\t\\t\\t\\t<td data-title=\"Prize Per Winner\" class=\"righty\">\\r\\n\\t\\t\\t\\t\\t\\t\\t\\t\\t\\t\\tCHF61,508.55\\r\\n\\t\\t\\t\\t\\t\\t\\t\\t\\t\\t\\t\\r\\n\\t\\t\\t\\t\\t\\t\\t\\t\\t\\t</td>\\r\\n\\t\\t\\t\\t\\t\\t\\t\\t\\t\\t\\r\\n\\t\\t\\t\\t\\t\\t\\t\\t\\t\\t\\t<td data-title=\"Luxembourgian &amp; Swiss Winners\" class=\"righty\">\\r\\n\\t\\t\\t\\t\\t\\t\\t\\t\\t\\t\\t\\t0\\r\\n\\t\\t\\t\\t\\t\\t\\t\\t\\t\\t\\t\\t\\r\\n\\t\\t\\t\\t\\t\\t\\t\\t\\t\\t\\t</td>\\r\\n\\t\\t\\t\\t\\t\\t\\t\\t\\t\\t\\r\\n\\t\\t\\t\\t\\t\\t\\t\\t\\t\\t<td data-title=\"Total Winners\" class=\"righty\">\\r\\n\\t\\t\\t\\t\\t\\t\\t\\t\\t\\t\\t11\\r\\n\\t\\t\\t\\t\\t\\t\\t\\t\\t\\t\\t\\t\\r\\n\\t\\t\\t\\t\\t\\t\\t\\t\\t\\t</td>\\r\\n\\t\\t\\t\\t\\t\\t\\t\\t\\t</tr>\\r\\n\\t\\t\\t\\t\\t\\t\\t\\t\\r\\n\\t\\t\\t\\t\\t\\t\\t\\t\\t<tr>\\r\\n\\t\\t\\t\\t\\t\\t\\t\\t\\t\\t<td data-title=\"Numbers Matched\" class=\"colour\">\\r\\n\\t\\t\\t\\t\\t\\t\\t\\t\\t\\t\\t<span class=\"prizeName\"><span class=\"ball\">4 </span> + <span class=\"star\"> 2</span></span></span>\\r\\n\\t\\t\\t\\t\\t\\t\\t\\t\\t\\t</td>\\r\\n\\t\\t\\t\\t\\t\\t\\t\\t\\t\\t<td data-title=\"Prize Per Winner\" class=\"righty\">\\r\\n\\t\\t\\t\\t\\t\\t\\t\\t\\t\\t\\tCHF2,830.50\\r\\n\\t\\t\\t\\t\\t\\t\\t\\t\\t\\t\\t\\r\\n\\t\\t\\t\\t\\t\\t\\t\\t\\t\\t</td>\\r\\n\\t\\t\\t\\t\\t\\t\\t\\t\\t\\t\\r\\n\\t\\t\\t\\t\\t\\t\\t\\t\\t\\t\\t<td data-title=\"Luxembourgian &amp; Swiss Winners\" class=\"righty\">\\r\\n\\t\\t\\t\\t\\t\\t\\t\\t\\t\\t\\t\\t2\\r\\n\\t\\t\\t\\t\\t\\t\\t\\t\\t\\t\\t\\t\\r\\n\\t\\t\\t\\t\\t\\t\\t\\t\\t\\t\\t</td>\\r\\n\\t\\t\\t\\t\\t\\t\\t\\t\\t\\t\\r\\n\\t\\t\\t\\t\\t\\t\\t\\t\\t\\t<td data-title=\"Total Winners\" class=\"righty\">\\r\\n\\t\\t\\t\\t\\t\\t\\t\\t\\t\\t\\t32\\r\\n\\t\\t\\t\\t\\t\\t\\t\\t\\t\\t\\t\\t\\r\\n\\t\\t\\t\\t\\t\\t\\t\\t\\t\\t</td>\\r\\n\\t\\t\\t\\t\\t\\t\\t\\t\\t</tr>\\r\\n\\t\\t\\t\\t\\t\\t\\t\\t\\r\\n\\t\\t\\t\\t\\t\\t\\t\\t\\t<tr>\\r\\n\\t\\t\\t\\t\\t\\t\\t\\t\\t\\t<td data-title=\"Numbers Matched\" class=\"colour\">\\r\\n\\t\\t\\t\\t\\t\\t\\t\\t\\t\\t\\t<span class=\"prizeName\"><span class=\"ball\">4 </span> + <span class=\"star\"> 1</span></span></span>\\r\\n\\t\\t\\t\\t\\t\\t\\t\\t\\t\\t</td>\\r\\n\\t\\t\\t\\t\\t\\t\\t\\t\\t\\t<td data-title=\"Prize Per Winner\" class=\"righty\">\\r\\n\\t\\t\\t\\t\\t\\t\\t\\t\\t\\t\\tCHF275.80\\r\\n\\t\\t\\t\\t\\t\\t\\t\\t\\t\\t\\t\\r\\n\\t\\t\\t\\t\\t\\t\\t\\t\\t\\t</td>\\r\\n\\t\\t\\t\\t\\t\\t\\t\\t\\t\\t\\r\\n\\t\\t\\t\\t\\t\\t\\t\\t\\t\\t\\t<td data-title=\"Luxembourgian &amp; Swiss Winners\" class=\"righty\">\\r\\n\\t\\t\\t\\t\\t\\t\\t\\t\\t\\t\\t\\t34\\r\\n\\t\\t\\t\\t\\t\\t\\t\\t\\t\\t\\t\\t\\r\\n\\t\\t\\t\\t\\t\\t\\t\\t\\t\\t\\t</td>\\r\\n\\t\\t\\t\\t\\t\\t\\t\\t\\t\\t\\r\\n\\t\\t\\t\\t\\t\\t\\t\\t\\t\\t<td data-title=\"Total Winners\" class=\"righty\">\\r\\n\\t\\t\\t\\t\\t\\t\\t\\t\\t\\t\\t605\\r\\n\\t\\t\\t\\t\\t\\t\\t\\t\\t\\t\\t\\t\\r\\n\\t\\t\\t\\t\\t\\t\\t\\t\\t\\t</td>\\r\\n\\t\\t\\t\\t\\t\\t\\t\\t\\t</tr>\\r\\n\\t\\t\\t\\t\\t\\t\\t\\t\\r\\n\\t\\t\\t\\t\\t\\t\\t\\t\\t<tr>\\r\\n\\t\\t\\t\\t\\t\\t\\t\\t\\t\\t<td data-title=\"Numbers Matched\" class=\"colour\">\\r\\n\\t\\t\\t\\t\\t\\t\\t\\t\\t\\t\\t<span class=\"prizeName\"><span class=\"ball\">3 </span> + <span class=\"star\"> 2</span></span></span>\\r\\n\\t\\t\\t\\t\\t\\t\\t\\t\\t\\t</td>\\r\\n\\t\\t\\t\\t\\t\\t\\t\\t\\t\\t<td data-title=\"Prize Per Winner\" class=\"righty\">\\r\\n\\t\\t\\t\\t\\t\\t\\t\\t\\t\\t\\tCHF152.60\\r\\n\\t\\t\\t\\t\\t\\t\\t\\t\\t\\t\\t\\r\\n\\t\\t\\t\\t\\t\\t\\t\\t\\t\\t</td>\\r\\n\\t\\t\\t\\t\\t\\t\\t\\t\\t\\t\\r\\n\\t\\t\\t\\t\\t\\t\\t\\t\\t\\t\\t<td data-title=\"Luxembourgian &amp; Swiss Winners\" class=\"righty\">\\r\\n\\t\\t\\t\\t\\t\\t\\t\\t\\t\\t\\t\\t55\\r\\n\\t\\t\\t\\t\\t\\t\\t\\t\\t\\t\\t\\t\\r\\n\\t\\t\\t\\t\\t\\t\\t\\t\\t\\t\\t</td>\\r\\n\\t\\t\\t\\t\\t\\t\\t\\t\\t\\t\\r\\n\\t\\t\\t\\t\\t\\t\\t\\t\\t\\t<td data-title=\"Total Winners\" class=\"righty\">\\r\\n\\t\\t\\t\\t\\t\\t\\t\\t\\t\\t\\t1,156\\r\\n\\t\\t\\t\\t\\t\\t\\t\\t\\t\\t\\t\\t\\r\\n\\t\\t\\t\\t\\t\\t\\t\\t\\t\\t</td>\\r\\n\\t\\t\\t\\t\\t\\t\\t\\t\\t</tr>\\r\\n\\t\\t\\t\\t\\t\\t\\t\\t\\r\\n\\t\\t\\t\\t\\t\\t\\t\\t\\t<tr>\\r\\n\\t\\t\\t\\t\\t\\t\\t\\t\\t\\t<td data-title=\"Numbers Matched\" class=\"colour\">\\r\\n\\t\\t\\t\\t\\t\\t\\t\\t\\t\\t\\t<span class=\"prizeName\"><span class=\"ball\">4</span></span>\\r\\n\\t\\t\\t\\t\\t\\t\\t\\t\\t\\t</td>\\r\\n\\t\\t\\t\\t\\t\\t\\t\\t\\t\\t<td data-title=\"Prize Per Winner\" class=\"righty\">\\r\\n\\t\\t\\t\\t\\t\\t\\t\\t\\t\\t\\tCHF82.50\\r\\n\\t\\t\\t\\t\\t\\t\\t\\t\\t\\t\\t\\r\\n\\t\\t\\t\\t\\t\\t\\t\\t\\t\\t</td>\\r\\n\\t\\t\\t\\t\\t\\t\\t\\t\\t\\t\\r\\n\\t\\t\\t\\t\\t\\t\\t\\t\\t\\t\\t<td data-title=\"Luxembourgian &amp; Swiss Winners\" class=\"righty\">\\r\\n\\t\\t\\t\\t\\t\\t\\t\\t\\t\\t\\t\\t106\\r\\n\\t\\t\\t\\t\\t\\t\\t\\t\\t\\t\\t\\t\\r\\n\\t\\t\\t\\t\\t\\t\\t\\t\\t\\t\\t</td>\\r\\n\\t\\t\\t\\t\\t\\t\\t\\t\\t\\t\\r\\n\\t\\t\\t\\t\\t\\t\\t\\t\\t\\t<td data-title=\"Total Winners\" class=\"righty\">\\r\\n\\t\\t\\t\\t\\t\\t\\t\\t\\t\\t\\t1,502\\r\\n\\t\\t\\t\\t\\t\\t\\t\\t\\t\\t\\t\\t\\r\\n\\t\\t\\t\\t\\t\\t\\t\\t\\t\\t</td>\\r\\n\\t\\t\\t\\t\\t\\t\\t\\t\\t</tr>\\r\\n\\t\\t\\t\\t\\t\\t\\t\\t\\r\\n\\t\\t\\t\\t\\t\\t\\t\\t\\t<tr>\\r\\n\\t\\t\\t\\t\\t\\t\\t\\t\\t\\t<td data-title=\"Numbers Matched\" class=\"colour\">\\r\\n\\t\\t\\t\\t\\t\\t\\t\\t\\t\\t\\t<span class=\"prizeName\"><span class=\"ball\">2 </span> + <span class=\"star\"> 2</span></span></span>\\r\\n\\t\\t\\t\\t\\t\\t\\t\\t\\t\\t</td>\\r\\n\\t\\t\\t\\t\\t\\t\\t\\t\\t\\t<td data-title=\"Prize Per Winner\" class=\"righty\">\\r\\n\\t\\t\\t\\t\\t\\t\\t\\t\\t\\t\\tCHF36.80\\r\\n\\t\\t\\t\\t\\t\\t\\t\\t\\t\\t\\t\\r\\n\\t\\t\\t\\t\\t\\t\\t\\t\\t\\t</td>\\r\\n\\t\\t\\t\\t\\t\\t\\t\\t\\t\\t\\r\\n\\t\\t\\t\\t\\t\\t\\t\\t\\t\\t\\t<td data-title=\"Luxembourgian &amp; Swiss Winners\" class=\"righty\">\\r\\n\\t\\t\\t\\t\\t\\t\\t\\t\\t\\t\\t\\t920\\r\\n\\t\\t\\t\\t\\t\\t\\t\\t\\t\\t\\t\\t\\r\\n\\t\\t\\t\\t\\t\\t\\t\\t\\t\\t\\t</td>\\r\\n\\t\\t\\t\\t\\t\\t\\t\\t\\t\\t\\r\\n\\t\\t\\t\\t\\t\\t\\t\\t\\t\\t<td data-title=\"Total Winners\" class=\"righty\">\\r\\n\\t\\t\\t\\t\\t\\t\\t\\t\\t\\t\\t16,848\\r\\n\\t\\t\\t\\t\\t\\t\\t\\t\\t\\t\\t\\t\\r\\n\\t\\t\\t\\t\\t\\t\\t\\t\\t\\t</td>\\r\\n\\t\\t\\t\\t\\t\\t\\t\\t\\t</tr>\\r\\n\\t\\t\\t\\t\\t\\t\\t\\t\\r\\n\\t\\t\\t\\t\\t\\t\\t\\t\\t<tr>\\r\\n\\t\\t\\t\\t\\t\\t\\t\\t\\t\\t<td data-title=\"Numbers Matched\" class=\"colour\">\\r\\n\\t\\t\\t\\t\\t\\t\\t\\t\\t\\t\\t<span class=\"prizeName\"><span class=\"ball\">3 </span> + <span class=\"star\"> 1</span></span></span>\\r\\n\\t\\t\\t\\t\\t\\t\\t\\t\\t\\t</td>\\r\\n\\t\\t\\t\\t\\t\\t\\t\\t\\t\\t<td data-title=\"Prize Per Winner\" class=\"righty\">\\r\\n\\t\\t\\t\\t\\t\\t\\t\\t\\t\\t\\tCHF26.75\\r\\n\\t\\t\\t\\t\\t\\t\\t\\t\\t\\t\\t\\r\\n\\t\\t\\t\\t\\t\\t\\t\\t\\t\\t</td>\\r\\n\\t\\t\\t\\t\\t\\t\\t\\t\\t\\t\\r\\n\\t\\t\\t\\t\\t\\t\\t\\t\\t\\t\\t<td data-title=\"Luxembourgian &amp; Swiss Winners\" class=\"righty\">\\r\\n\\t\\t\\t\\t\\t\\t\\t\\t\\t\\t\\t\\t1,610\\r\\n\\t\\t\\t\\t\\t\\t\\t\\t\\t\\t\\t\\t\\r\\n\\t\\t\\t\\t\\t\\t\\t\\t\\t\\t\\t</td>\\r\\n\\t\\t\\t\\t\\t\\t\\t\\t\\t\\t\\r\\n\\t\\t\\t\\t\\t\\t\\t\\t\\t\\t<td data-title=\"Total Winners\" class=\"righty\">\\r\\n\\t\\t\\t\\t\\t\\t\\t\\t\\t\\t\\t25,854\\r\\n\\t\\t\\t\\t\\t\\t\\t\\t\\t\\t\\t\\t\\r\\n\\t\\t\\t\\t\\t\\t\\t\\t\\t\\t</td>\\r\\n\\t\\t\\t\\t\\t\\t\\t\\t\\t</tr>\\r\\n\\t\\t\\t\\t\\t\\t\\t\\t\\r\\n\\t\\t\\t\\t\\t\\t\\t\\t\\t<tr>\\r\\n\\t\\t\\t\\t\\t\\t\\t\\t\\t\\t<td data-title=\"Numbers Matched\" class=\"colour\">\\r\\n\\t\\t\\t\\t\\t\\t\\t\\t\\t\\t\\t<span class=\"prizeName\"><span class=\"ball\">3</span></span>\\r\\n\\t\\t\\t\\t\\t\\t\\t\\t\\t\\t</td>\\r\\n\\t\\t\\t\\t\\t\\t\\t\\t\\t\\t<td data-title=\"Prize Per Winner\" class=\"righty\">\\r\\n\\t\\t\\t\\t\\t\\t\\t\\t\\t\\t\\tCHF19.10\\r\\n\\t\\t\\t\\t\\t\\t\\t\\t\\t\\t\\t\\r\\n\\t\\t\\t\\t\\t\\t\\t\\t\\t\\t</td>\\r\\n\\t\\t\\t\\t\\t\\t\\t\\t\\t\\t\\r\\n\\t\\t\\t\\t\\t\\t\\t\\t\\t\\t\\t<td data-title=\"Luxembourgian &amp; Swiss Winners\" class=\"righty\">\\r\\n\\t\\t\\t\\t\\t\\t\\t\\t\\t\\t\\t\\t4,429\\r\\n\\t\\t\\t\\t\\t\\t\\t\\t\\t\\t\\t\\t\\r\\n\\t\\t\\t\\t\\t\\t\\t\\t\\t\\t\\t</td>\\r\\n\\t\\t\\t\\t\\t\\t\\t\\t\\t\\t\\r\\n\\t\\t\\t\\t\\t\\t\\t\\t\\t\\t<td data-title=\"Total Winners\" class=\"righty\">\\r\\n\\t\\t\\t\\t\\t\\t\\t\\t\\t\\t\\t67,339\\r\\n\\t\\t\\t\\t\\t\\t\\t\\t\\t\\t\\t\\t\\r\\n\\t\\t\\t\\t\\t\\t\\t\\t\\t\\t</td>\\r\\n\\t\\t\\t\\t\\t\\t\\t\\t\\t</tr>\\r\\n\\t\\t\\t\\t\\t\\t\\t\\t\\r\\n\\t\\t\\t\\t\\t\\t\\t\\t\\t<tr>\\r\\n\\t\\t\\t\\t\\t\\t\\t\\t\\t\\t<td data-title=\"Numbers Matched\" class=\"colour\">\\r\\n\\t\\t\\t\\t\\t\\t\\t\\t\\t\\t\\t<span class=\"prizeName\"><span class=\"ball\">1 </span> + <span class=\"star\"> 2</span></span></span>\\r\\n\\t\\t\\t\\t\\t\\t\\t\\t\\t\\t</td>\\r\\n\\t\\t\\t\\t\\t\\t\\t\\t\\t\\t<td data-title=\"Prize Per Winner\" class=\"righty\">\\r\\n\\t\\t\\t\\t\\t\\t\\t\\t\\t\\t\\tCHF17.50\\r\\n\\t\\t\\t\\t\\t\\t\\t\\t\\t\\t\\t\\r\\n\\t\\t\\t\\t\\t\\t\\t\\t\\t\\t</td>\\r\\n\\t\\t\\t\\t\\t\\t\\t\\t\\t\\t\\r\\n\\t\\t\\t\\t\\t\\t\\t\\t\\t\\t\\t<td data-title=\"Luxembourgian &amp; Swiss Winners\" class=\"righty\">\\r\\n\\t\\t\\t\\t\\t\\t\\t\\t\\t\\t\\t\\t5,542\\r\\n\\t\\t\\t\\t\\t\\t\\t\\t\\t\\t\\t\\t\\r\\n\\t\\t\\t\\t\\t\\t\\t\\t\\t\\t\\t</td>\\r\\n\\t\\t\\t\\t\\t\\t\\t\\t\\t\\t\\r\\n\\t\\t\\t\\t\\t\\t\\t\\t\\t\\t<td data-title=\"Total Winners\" class=\"righty\">\\r\\n\\t\\t\\t\\t\\t\\t\\t\\t\\t\\t\\t89,036\\r\\n\\t\\t\\t\\t\\t\\t\\t\\t\\t\\t\\t\\t\\r\\n\\t\\t\\t\\t\\t\\t\\t\\t\\t\\t</td>\\r\\n\\t\\t\\t\\t\\t\\t\\t\\t\\t</tr>\\r\\n\\t\\t\\t\\t\\t\\t\\t\\t\\r\\n\\t\\t\\t\\t\\t\\t\\t\\t\\t<tr>\\r\\n\\t\\t\\t\\t\\t\\t\\t\\t\\t\\t<td data-title=\"Numbers Matched\" class=\"colour\">\\r\\n\\t\\t\\t\\t\\t\\t\\t\\t\\t\\t\\t<span class=\"prizeName\"><span class=\"ball\">2 </span> + <span class=\"star\"> 1</span></span></span>\\r\\n\\t\\t\\t\\t\\t\\t\\t\\t\\t\\t</td>\\r\\n\\t\\t\\t\\t\\t\\t\\t\\t\\t\\t<td data-title=\"Prize Per Winner\" class=\"righty\">\\r\\n\\t\\t\\t\\t\\t\\t\\t\\t\\t\\t\\tCHF13.15\\r\\n\\t\\t\\t\\t\\t\\t\\t\\t\\t\\t\\t\\r\\n\\t\\t\\t\\t\\t\\t\\t\\t\\t\\t</td>\\r\\n\\t\\t\\t\\t\\t\\t\\t\\t\\t\\t\\r\\n\\t\\t\\t\\t\\t\\t\\t\\t\\t\\t\\t<td data-title=\"Luxembourgian &amp; Swiss Winners\" class=\"righty\">\\r\\n\\t\\t\\t\\t\\t\\t\\t\\t\\t\\t\\t\\t24,107\\r\\n\\t\\t\\t\\t\\t\\t\\t\\t\\t\\t\\t\\t\\r\\n\\t\\t\\t\\t\\t\\t\\t\\t\\t\\t\\t</td>\\r\\n\\t\\t\\t\\t\\t\\t\\t\\t\\t\\t\\r\\n\\t\\t\\t\\t\\t\\t\\t\\t\\t\\t<td data-title=\"Total Winners\" class=\"righty\">\\r\\n\\t\\t\\t\\t\\t\\t\\t\\t\\t\\t\\t373,985\\r\\n\\t\\t\\t\\t\\t\\t\\t\\t\\t\\t\\t\\t\\r\\n\\t\\t\\t\\t\\t\\t\\t\\t\\t\\t</td>\\r\\n\\t\\t\\t\\t\\t\\t\\t\\t\\t</tr>\\r\\n\\t\\t\\t\\t\\t\\t\\t\\t\\r\\n\\t\\t\\t\\t\\t\\t\\t\\t\\t<tr>\\r\\n\\t\\t\\t\\t\\t\\t\\t\\t\\t\\t<td data-title=\"Numbers Matched\" class=\"colour\">\\r\\n\\t\\t\\t\\t\\t\\t\\t\\t\\t\\t\\t<span class=\"prizeName\"><span class=\"ball\">2</span></span>\\r\\n\\t\\t\\t\\t\\t\\t\\t\\t\\t\\t</td>\\r\\n\\t\\t\\t\\t\\t\\t\\t\\t\\t\\t<td data-title=\"Prize Per Winner\" class=\"righty\">\\r\\n\\t\\t\\t\\t\\t\\t\\t\\t\\t\\t\\tCHF8.15\\r\\n\\t\\t\\t\\t\\t\\t\\t\\t\\t\\t\\t\\r\\n\\t\\t\\t\\t\\t\\t\\t\\t\\t\\t</td>\\r\\n\\t\\t\\t\\t\\t\\t\\t\\t\\t\\t\\r\\n\\t\\t\\t\\t\\t\\t\\t\\t\\t\\t\\t<td data-title=\"Luxembourgian &amp; Swiss Winners\" class=\"righty\">\\r\\n\\t\\t\\t\\t\\t\\t\\t\\t\\t\\t\\t\\t65,754\\r\\n\\t\\t\\t\\t\\t\\t\\t\\t\\t\\t\\t\\t\\r\\n\\t\\t\\t\\t\\t\\t\\t\\t\\t\\t\\t</td>\\r\\n\\t\\t\\t\\t\\t\\t\\t\\t\\t\\t\\r\\n\\t\\t\\t\\t\\t\\t\\t\\t\\t\\t<td data-title=\"Total Winners\" class=\"righty\">\\r\\n\\t\\t\\t\\t\\t\\t\\t\\t\\t\\t\\t972,679\\r\\n\\t\\t\\t\\t\\t\\t\\t\\t\\t\\t\\t\\t\\r\\n\\t\\t\\t\\t\\t\\t\\t\\t\\t\\t</td>\\r\\n\\t\\t\\t\\t\\t\\t\\t\\t\\t</tr>\\r\\n\\t\\t\\t\\t\\t\\t\\t\\t\\r\\n\\t\\t\\t\\t\\t\\t\\t\\t\\t<tr class=\"totals\">\\r\\n\\t\\t\\t\\t\\t\\t\\t\\t\\t\\t<td data-title=\"Numbers Matched\" class=\"colour\">\\r\\n\\t\\t\\t\\t\\t\\t\\t\\t\\t\\t\\t<span class=\"prizeName\">Totals</span>\\r\\n\\t\\t\\t\\t\\t\\t\\t\\t\\t\\t</td>\\r\\n\\t\\t\\t\\t\\t\\t\\t\\t\\t\\t<td data-title=\"Prize Per Winner\" class=\"righty\">\\r\\n\\t\\t\\t\\t\\t\\t\\t\\t\\t\\t\\t\\r\\n\\t\\t\\t\\t\\t\\t\\t\\t\\t\\t\\t\\t-\\r\\n\\t\\t\\t\\t\\t\\t\\t\\t\\t\\t\\t\\r\\n\\t\\t\\t\\t\\t\\t\\t\\t\\t\\t</td>\\r\\n\\t\\t\\t\\t\\t\\t\\t\\t\\t\\t\\r\\n\\t\\t\\t\\t\\t\\t\\t\\t\\t\\t\\t<td data-title=\"Luxembourgian &amp; Swiss Winners\" class=\"righty\">\\r\\n\\t\\t\\t\\t\\t\\t\\t\\t\\t\\t\\t\\t102,559\\r\\n\\t\\t\\t\\t\\t\\t\\t\\t\\t\\t\\t\\t\\r\\n\\t\\t\\t\\t\\t\\t\\t\\t\\t\\t\\t</td>\\r\\n\\t\\t\\t\\t\\t\\t\\t\\t\\t\\t\\r\\n\\t\\t\\t\\t\\t\\t\\t\\t\\t\\t<td data-title=\"Total Winners\" class=\"righty\">\\r\\n\\t\\t\\t\\t\\t\\t\\t\\t\\t\\t\\t1,549,047\\r\\n\\t\\t\\t\\t\\t\\t\\t\\t\\t\\t\\t\\t\\r\\n\\t\\t\\t\\t\\t\\t\\t\\t\\t\\t</td>\\r\\n\\t\\t\\t\\t\\t\\t\\t\\t\\t</tr>\\r\\n\\t\\t\\t\\t\\t\\t\\t\\t\\r\\n\\t\\t\\t\\t\\t\\t\\t</tbody>\\r\\n\\t\\t\\t\\t\\t\\t</table>\\r\\n\\t\\t\\t\\t\\t\\r\\n\\t\\t\\t\\t\\t\\t\\r\\n\\t\\t\\t\\t\\r\\n\\t\\t\\t\\t</div>\\r\\n\\t\\t\\t\\r\\n\\t\\t\\t\\r\\n\\t\\t\\t\\r\\n\\t\\t\\t\\t<div id=\"PrizeBE\">\\r\\n\\t\\t\\t\\t\\r\\n\\t\\t\\t\\t\\t\\r\\n\\r\\n\\t\\t\\t\\t\\t\\t<table class=\"mobFormat\">\\r\\n\\t\\t\\t\\t\\t\\t\\t<thead>\\r\\n\\t\\t\\t\\t\\t\\t\\t\\t<tr>\\r\\n\\t\\t\\t\\t\\t\\t\\t\\t\\t<th>Numbers Matched</th>\\r\\n\\t\\t\\t\\t\\t\\t\\t\\t\\t<th class=\"righty\">Prize Per Winner</th>\\r\\n\\t\\t\\t\\t\\t\\t\\t\\t\\t\\r\\n\\t\\t\\t\\t\\t\\t\\t\\t\\t\\t<th class=\"righty\">Belgian Winners</th>\\r\\n\\t\\t\\t\\t\\t\\t\\t\\t\\t\\r\\n\\t\\t\\t\\t\\t\\t\\t\\t\\t\\t<th class=\"righty\">Prize Fund Amount</th>\\r\\n\\t\\t\\t\\t\\t\\t\\t\\t\\t\\r\\n\\t\\t\\t\\t\\t\\t\\t\\t\\t<th class=\"righty\">Total Winners</th>\\r\\n\\t\\t\\t\\t\\t\\t\\t\\t</tr>\\r\\n\\t\\t\\t\\t\\t\\t\\t</thead>\\r\\n\\t\\t\\t\\t\\t\\t\\t<tbody>\\r\\n\\t\\t\\t\\t\\t\\t\\t\\t\\r\\n\\t\\t\\t\\t\\t\\t\\t\\t\\t<tr>\\r\\n\\t\\t\\t\\t\\t\\t\\t\\t\\t\\t<td data-title=\"Numbers Matched\" class=\"colour\">\\r\\n\\t\\t\\t\\t\\t\\t\\t\\t\\t\\t\\t<span class=\"prizeName\"><span class=\"ball\">5 </span> + <span class=\"star\"> 2</span></span></span>\\r\\n\\t\\t\\t\\t\\t\\t\\t\\t\\t\\t</td>\\r\\n\\t\\t\\t\\t\\t\\t\\t\\t\\t\\t<td data-title=\"Prize Per Winner\" class=\"righty\">\\r\\n\\t\\t\\t\\t\\t\\t\\t\\t\\t\\t\\t&euro;83,786,486.80\\r\\n\\t\\t\\t\\t\\t\\t\\t\\t\\t\\t\\t\\r\\n\\t\\t\\t\\t\\t\\t\\t\\t\\t\\t</td>\\r\\n\\t\\t\\t\\t\\t\\t\\t\\t\\t\\t\\r\\n\\t\\t\\t\\t\\t\\t\\t\\t\\t\\t\\t<td data-title=\"Belgian Winners\" class=\"righty\">\\r\\n\\t\\t\\t\\t\\t\\t\\t\\t\\t\\t\\t\\t0\\r\\n\\t\\t\\t\\t\\t\\t\\t\\t\\t\\t\\t\\t\\r\\n\\t\\t\\t\\t\\t\\t\\t\\t\\t\\t\\t</td>\\r\\n\\t\\t\\t\\t\\t\\t\\t\\t\\t\\t\\r\\n\\t\\t\\t\\t\\t\\t\\t\\t\\t\\t\\t<td data-title=\"Prize Fund Amount\" class=\"righty\">\\r\\n\\t\\t\\t\\t\\t\\t\\t\\t\\t\\t\\t\\t&euro;0.00\\r\\n\\t\\t\\t\\t\\t\\t\\t\\t\\t\\t\\t\\t\\r\\n\\t\\t\\t\\t\\t\\t\\t\\t\\t\\t\\t</td>\\r\\n\\t\\t\\t\\t\\t\\t\\t\\t\\t\\t\\r\\n\\t\\t\\t\\t\\t\\t\\t\\t\\t\\t<td data-title=\"Total Winners\" class=\"righty\">\\r\\n\\t\\t\\t\\t\\t\\t\\t\\t\\t\\t\\t\\r\\n\\t\\t\\t\\t\\t\\t\\t\\t\\t\\t\\t\\t\\t<strong style=\"color:#F00\">Rollover!</strong> \\r\\n\\t\\t\\t\\t\\t\\t\\t\\t\\t\\t\\t\\t0\\r\\n\\t\\t\\t\\t\\t\\t\\t\\t\\t\\t\\t\\t\\r\\n\\t\\t\\t\\t\\t\\t\\t\\t\\t\\t</td>\\r\\n\\t\\t\\t\\t\\t\\t\\t\\t\\t</tr>\\r\\n\\t\\t\\t\\t\\t\\t\\t\\t\\r\\n\\t\\t\\t\\t\\t\\t\\t\\t\\t<tr>\\r\\n\\t\\t\\t\\t\\t\\t\\t\\t\\t\\t<td data-title=\"Numbers Matched\" class=\"colour\">\\r\\n\\t\\t\\t\\t\\t\\t\\t\\t\\t\\t\\t<span class=\"prizeName\"><span class=\"ball\">5 </span> + <span class=\"star\"> 1</span></span></span>\\r\\n\\t\\t\\t\\t\\t\\t\\t\\t\\t\\t</td>\\r\\n\\t\\t\\t\\t\\t\\t\\t\\t\\t\\t<td data-title=\"Prize Per Winner\" class=\"righty\">\\r\\n\\t\\t\\t\\t\\t\\t\\t\\t\\t\\t\\t&euro;0.00\\r\\n\\t\\t\\t\\t\\t\\t\\t\\t\\t\\t\\t\\r\\n\\t\\t\\t\\t\\t\\t\\t\\t\\t\\t</td>\\r\\n\\t\\t\\t\\t\\t\\t\\t\\t\\t\\t\\r\\n\\t\\t\\t\\t\\t\\t\\t\\t\\t\\t\\t<td data-title=\"Belgian Winners\" class=\"righty\">\\r\\n\\t\\t\\t\\t\\t\\t\\t\\t\\t\\t\\t\\t0\\r\\n\\t\\t\\t\\t\\t\\t\\t\\t\\t\\t\\t\\t\\r\\n\\t\\t\\t\\t\\t\\t\\t\\t\\t\\t\\t</td>\\r\\n\\t\\t\\t\\t\\t\\t\\t\\t\\t\\t\\r\\n\\t\\t\\t\\t\\t\\t\\t\\t\\t\\t\\t<td data-title=\"Prize Fund Amount\" class=\"righty\">\\r\\n\\t\\t\\t\\t\\t\\t\\t\\t\\t\\t\\t\\t&euro;0.00\\r\\n\\t\\t\\t\\t\\t\\t\\t\\t\\t\\t\\t\\t\\r\\n\\t\\t\\t\\t\\t\\t\\t\\t\\t\\t\\t</td>\\r\\n\\t\\t\\t\\t\\t\\t\\t\\t\\t\\t\\r\\n\\t\\t\\t\\t\\t\\t\\t\\t\\t\\t<td data-title=\"Total Winners\" class=\"righty\">\\r\\n\\t\\t\\t\\t\\t\\t\\t\\t\\t\\t\\t0\\r\\n\\t\\t\\t\\t\\t\\t\\t\\t\\t\\t\\t\\t\\r\\n\\t\\t\\t\\t\\t\\t\\t\\t\\t\\t</td>\\r\\n\\t\\t\\t\\t\\t\\t\\t\\t\\t</tr>\\r\\n\\t\\t\\t\\t\\t\\t\\t\\t\\r\\n\\t\\t\\t\\t\\t\\t\\t\\t\\t<tr>\\r\\n\\t\\t\\t\\t\\t\\t\\t\\t\\t\\t<td data-title=\"Numbers Matched\" class=\"colour\">\\r\\n\\t\\t\\t\\t\\t\\t\\t\\t\\t\\t\\t<span class=\"prizeName\"><span class=\"ball\">5</span></span>\\r\\n\\t\\t\\t\\t\\t\\t\\t\\t\\t\\t</td>\\r\\n\\t\\t\\t\\t\\t\\t\\t\\t\\t\\t<td data-title=\"Prize Per Winner\" class=\"righty\">\\r\\n\\t\\t\\t\\t\\t\\t\\t\\t\\t\\t\\t&euro;65,420.20\\r\\n\\t\\t\\t\\t\\t\\t\\t\\t\\t\\t\\t\\r\\n\\t\\t\\t\\t\\t\\t\\t\\t\\t\\t</td>\\r\\n\\t\\t\\t\\t\\t\\t\\t\\t\\t\\t\\r\\n\\t\\t\\t\\t\\t\\t\\t\\t\\t\\t\\t<td data-title=\"Belgian Winners\" class=\"righty\">\\r\\n\\t\\t\\t\\t\\t\\t\\t\\t\\t\\t\\t\\t3\\r\\n\\t\\t\\t\\t\\t\\t\\t\\t\\t\\t\\t\\t\\r\\n\\t\\t\\t\\t\\t\\t\\t\\t\\t\\t\\t</td>\\r\\n\\t\\t\\t\\t\\t\\t\\t\\t\\t\\t\\r\\n\\t\\t\\t\\t\\t\\t\\t\\t\\t\\t\\t<td data-title=\"Prize Fund Amount\" class=\"righty\">\\r\\n\\t\\t\\t\\t\\t\\t\\t\\t\\t\\t\\t\\t&euro;196,260.60\\r\\n\\t\\t\\t\\t\\t\\t\\t\\t\\t\\t\\t\\t\\r\\n\\t\\t\\t\\t\\t\\t\\t\\t\\t\\t\\t</td>\\r\\n\\t\\t\\t\\t\\t\\t\\t\\t\\t\\t\\r\\n\\t\\t\\t\\t\\t\\t\\t\\t\\t\\t<td data-title=\"Total Winners\" class=\"righty\">\\r\\n\\t\\t\\t\\t\\t\\t\\t\\t\\t\\t\\t11\\r\\n\\t\\t\\t\\t\\t\\t\\t\\t\\t\\t\\t\\t\\r\\n\\t\\t\\t\\t\\t\\t\\t\\t\\t\\t</td>\\r\\n\\t\\t\\t\\t\\t\\t\\t\\t\\t</tr>\\r\\n\\t\\t\\t\\t\\t\\t\\t\\t\\r\\n\\t\\t\\t\\t\\t\\t\\t\\t\\t<tr>\\r\\n\\t\\t\\t\\t\\t\\t\\t\\t\\t\\t<td data-title=\"Numbers Matched\" class=\"colour\">\\r\\n\\t\\t\\t\\t\\t\\t\\t\\t\\t\\t\\t<span class=\"prizeName\"><span class=\"ball\">4 </span> + <span class=\"star\"> 2</span></span></span>\\r\\n\\t\\t\\t\\t\\t\\t\\t\\t\\t\\t</td>\\r\\n\\t\\t\\t\\t\\t\\t\\t\\t\\t\\t<td data-title=\"Prize Per Winner\" class=\"righty\">\\r\\n\\t\\t\\t\\t\\t\\t\\t\\t\\t\\t\\t&euro;1,326.90\\r\\n\\t\\t\\t\\t\\t\\t\\t\\t\\t\\t\\t\\r\\n\\t\\t\\t\\t\\t\\t\\t\\t\\t\\t</td>\\r\\n\\t\\t\\t\\t\\t\\t\\t\\t\\t\\t\\r\\n\\t\\t\\t\\t\\t\\t\\t\\t\\t\\t\\t<td data-title=\"Belgian Winners\" class=\"righty\">\\r\\n\\t\\t\\t\\t\\t\\t\\t\\t\\t\\t\\t\\t4\\r\\n\\t\\t\\t\\t\\t\\t\\t\\t\\t\\t\\t\\t\\r\\n\\t\\t\\t\\t\\t\\t\\t\\t\\t\\t\\t</td>\\r\\n\\t\\t\\t\\t\\t\\t\\t\\t\\t\\t\\r\\n\\t\\t\\t\\t\\t\\t\\t\\t\\t\\t\\t<td data-title=\"Prize Fund Amount\" class=\"righty\">\\r\\n\\t\\t\\t\\t\\t\\t\\t\\t\\t\\t\\t\\t&euro;5,307.60\\r\\n\\t\\t\\t\\t\\t\\t\\t\\t\\t\\t\\t\\t\\r\\n\\t\\t\\t\\t\\t\\t\\t\\t\\t\\t\\t</td>\\r\\n\\t\\t\\t\\t\\t\\t\\t\\t\\t\\t\\r\\n\\t\\t\\t\\t\\t\\t\\t\\t\\t\\t<td data-title=\"Total Winners\" class=\"righty\">\\r\\n\\t\\t\\t\\t\\t\\t\\t\\t\\t\\t\\t32\\r\\n\\t\\t\\t\\t\\t\\t\\t\\t\\t\\t\\t\\t\\r\\n\\t\\t\\t\\t\\t\\t\\t\\t\\t\\t</td>\\r\\n\\t\\t\\t\\t\\t\\t\\t\\t\\t</tr>\\r\\n\\t\\t\\t\\t\\t\\t\\t\\t\\r\\n\\t\\t\\t\\t\\t\\t\\t\\t\\t<tr>\\r\\n\\t\\t\\t\\t\\t\\t\\t\\t\\t\\t<td data-title=\"Numbers Matched\" class=\"colour\">\\r\\n\\t\\t\\t\\t\\t\\t\\t\\t\\t\\t\\t<span class=\"prizeName\"><span class=\"ball\">4 </span> + <span class=\"star\"> 1</span></span></span>\\r\\n\\t\\t\\t\\t\\t\\t\\t\\t\\t\\t</td>\\r\\n\\t\\t\\t\\t\\t\\t\\t\\t\\t\\t<td data-title=\"Prize Per Winner\" class=\"righty\">\\r\\n\\t\\t\\t\\t\\t\\t\\t\\t\\t\\t\\t&euro;129.20\\r\\n\\t\\t\\t\\t\\t\\t\\t\\t\\t\\t\\t\\r\\n\\t\\t\\t\\t\\t\\t\\t\\t\\t\\t</td>\\r\\n\\t\\t\\t\\t\\t\\t\\t\\t\\t\\t\\r\\n\\t\\t\\t\\t\\t\\t\\t\\t\\t\\t\\t<td data-title=\"Belgian Winners\" class=\"righty\">\\r\\n\\t\\t\\t\\t\\t\\t\\t\\t\\t\\t\\t\\t54\\r\\n\\t\\t\\t\\t\\t\\t\\t\\t\\t\\t\\t\\t\\r\\n\\t\\t\\t\\t\\t\\t\\t\\t\\t\\t\\t</td>\\r\\n\\t\\t\\t\\t\\t\\t\\t\\t\\t\\t\\r\\n\\t\\t\\t\\t\\t\\t\\t\\t\\t\\t\\t<td data-title=\"Prize Fund Amount\" class=\"righty\">\\r\\n\\t\\t\\t\\t\\t\\t\\t\\t\\t\\t\\t\\t&euro;6,976.80\\r\\n\\t\\t\\t\\t\\t\\t\\t\\t\\t\\t\\t\\t\\r\\n\\t\\t\\t\\t\\t\\t\\t\\t\\t\\t\\t</td>\\r\\n\\t\\t\\t\\t\\t\\t\\t\\t\\t\\t\\r\\n\\t\\t\\t\\t\\t\\t\\t\\t\\t\\t<td data-title=\"Total Winners\" class=\"righty\">\\r\\n\\t\\t\\t\\t\\t\\t\\t\\t\\t\\t\\t605\\r\\n\\t\\t\\t\\t\\t\\t\\t\\t\\t\\t\\t\\t\\r\\n\\t\\t\\t\\t\\t\\t\\t\\t\\t\\t</td>\\r\\n\\t\\t\\t\\t\\t\\t\\t\\t\\t</tr>\\r\\n\\t\\t\\t\\t\\t\\t\\t\\t\\r\\n\\t\\t\\t\\t\\t\\t\\t\\t\\t<tr>\\r\\n\\t\\t\\t\\t\\t\\t\\t\\t\\t\\t<td data-title=\"Numbers Matched\" class=\"colour\">\\r\\n\\t\\t\\t\\t\\t\\t\\t\\t\\t\\t\\t<span class=\"prizeName\"><span class=\"ball\">3 </span> + <span class=\"star\"> 2</span></span></span>\\r\\n\\t\\t\\t\\t\\t\\t\\t\\t\\t\\t</td>\\r\\n\\t\\t\\t\\t\\t\\t\\t\\t\\t\\t<td data-title=\"Prize Per Winner\" class=\"righty\">\\r\\n\\t\\t\\t\\t\\t\\t\\t\\t\\t\\t\\t&euro;71.50\\r\\n\\t\\t\\t\\t\\t\\t\\t\\t\\t\\t\\t\\r\\n\\t\\t\\t\\t\\t\\t\\t\\t\\t\\t</td>\\r\\n\\t\\t\\t\\t\\t\\t\\t\\t\\t\\t\\r\\n\\t\\t\\t\\t\\t\\t\\t\\t\\t\\t\\t<td data-title=\"Belgian Winners\" class=\"righty\">\\r\\n\\t\\t\\t\\t\\t\\t\\t\\t\\t\\t\\t\\t107\\r\\n\\t\\t\\t\\t\\t\\t\\t\\t\\t\\t\\t\\t\\r\\n\\t\\t\\t\\t\\t\\t\\t\\t\\t\\t\\t</td>\\r\\n\\t\\t\\t\\t\\t\\t\\t\\t\\t\\t\\r\\n\\t\\t\\t\\t\\t\\t\\t\\t\\t\\t\\t<td data-title=\"Prize Fund Amount\" class=\"righty\">\\r\\n\\t\\t\\t\\t\\t\\t\\t\\t\\t\\t\\t\\t&euro;7,650.50\\r\\n\\t\\t\\t\\t\\t\\t\\t\\t\\t\\t\\t\\t\\r\\n\\t\\t\\t\\t\\t\\t\\t\\t\\t\\t\\t</td>\\r\\n\\t\\t\\t\\t\\t\\t\\t\\t\\t\\t\\r\\n\\t\\t\\t\\t\\t\\t\\t\\t\\t\\t<td data-title=\"Total Winners\" class=\"righty\">\\r\\n\\t\\t\\t\\t\\t\\t\\t\\t\\t\\t\\t1,156\\r\\n\\t\\t\\t\\t\\t\\t\\t\\t\\t\\t\\t\\t\\r\\n\\t\\t\\t\\t\\t\\t\\t\\t\\t\\t</td>\\r\\n\\t\\t\\t\\t\\t\\t\\t\\t\\t</tr>\\r\\n\\t\\t\\t\\t\\t\\t\\t\\t\\r\\n\\t\\t\\t\\t\\t\\t\\t\\t\\t<tr>\\r\\n\\t\\t\\t\\t\\t\\t\\t\\t\\t\\t<td data-title=\"Numbers Matched\" class=\"colour\">\\r\\n\\t\\t\\t\\t\\t\\t\\t\\t\\t\\t\\t<span class=\"prizeName\"><span class=\"ball\">4</span></span>\\r\\n\\t\\t\\t\\t\\t\\t\\t\\t\\t\\t</td>\\r\\n\\t\\t\\t\\t\\t\\t\\t\\t\\t\\t<td data-title=\"Prize Per Winner\" class=\"righty\">\\r\\n\\t\\t\\t\\t\\t\\t\\t\\t\\t\\t\\t&euro;38.60\\r\\n\\t\\t\\t\\t\\t\\t\\t\\t\\t\\t\\t\\r\\n\\t\\t\\t\\t\\t\\t\\t\\t\\t\\t</td>\\r\\n\\t\\t\\t\\t\\t\\t\\t\\t\\t\\t\\r\\n\\t\\t\\t\\t\\t\\t\\t\\t\\t\\t\\t<td data-title=\"Belgian Winners\" class=\"righty\">\\r\\n\\t\\t\\t\\t\\t\\t\\t\\t\\t\\t\\t\\t107\\r\\n\\t\\t\\t\\t\\t\\t\\t\\t\\t\\t\\t\\t\\r\\n\\t\\t\\t\\t\\t\\t\\t\\t\\t\\t\\t</td>\\r\\n\\t\\t\\t\\t\\t\\t\\t\\t\\t\\t\\r\\n\\t\\t\\t\\t\\t\\t\\t\\t\\t\\t\\t<td data-title=\"Prize Fund Amount\" class=\"righty\">\\r\\n\\t\\t\\t\\t\\t\\t\\t\\t\\t\\t\\t\\t&euro;4,130.20\\r\\n\\t\\t\\t\\t\\t\\t\\t\\t\\t\\t\\t\\t\\r\\n\\t\\t\\t\\t\\t\\t\\t\\t\\t\\t\\t</td>\\r\\n\\t\\t\\t\\t\\t\\t\\t\\t\\t\\t\\r\\n\\t\\t\\t\\t\\t\\t\\t\\t\\t\\t<td data-title=\"Total Winners\" class=\"righty\">\\r\\n\\t\\t\\t\\t\\t\\t\\t\\t\\t\\t\\t1,502\\r\\n\\t\\t\\t\\t\\t\\t\\t\\t\\t\\t\\t\\t\\r\\n\\t\\t\\t\\t\\t\\t\\t\\t\\t\\t</td>\\r\\n\\t\\t\\t\\t\\t\\t\\t\\t\\t</tr>\\r\\n\\t\\t\\t\\t\\t\\t\\t\\t\\r\\n\\t\\t\\t\\t\\t\\t\\t\\t\\t<tr>\\r\\n\\t\\t\\t\\t\\t\\t\\t\\t\\t\\t<td data-title=\"Numbers Matched\" class=\"colour\">\\r\\n\\t\\t\\t\\t\\t\\t\\t\\t\\t\\t\\t<span class=\"prizeName\"><span class=\"ball\">2 </span> + <span class=\"star\"> 2</span></span></span>\\r\\n\\t\\t\\t\\t\\t\\t\\t\\t\\t\\t</td>\\r\\n\\t\\t\\t\\t\\t\\t\\t\\t\\t\\t<td data-title=\"Prize Per Winner\" class=\"righty\">\\r\\n\\t\\t\\t\\t\\t\\t\\t\\t\\t\\t\\t&euro;17.20\\r\\n\\t\\t\\t\\t\\t\\t\\t\\t\\t\\t\\t\\r\\n\\t\\t\\t\\t\\t\\t\\t\\t\\t\\t</td>\\r\\n\\t\\t\\t\\t\\t\\t\\t\\t\\t\\t\\r\\n\\t\\t\\t\\t\\t\\t\\t\\t\\t\\t\\t<td data-title=\"Belgian Winners\" class=\"righty\">\\r\\n\\t\\t\\t\\t\\t\\t\\t\\t\\t\\t\\t\\t1,301\\r\\n\\t\\t\\t\\t\\t\\t\\t\\t\\t\\t\\t\\t\\r\\n\\t\\t\\t\\t\\t\\t\\t\\t\\t\\t\\t</td>\\r\\n\\t\\t\\t\\t\\t\\t\\t\\t\\t\\t\\r\\n\\t\\t\\t\\t\\t\\t\\t\\t\\t\\t\\t<td data-title=\"Prize Fund Amount\" class=\"righty\">\\r\\n\\t\\t\\t\\t\\t\\t\\t\\t\\t\\t\\t\\t&euro;22,377.20\\r\\n\\t\\t\\t\\t\\t\\t\\t\\t\\t\\t\\t\\t\\r\\n\\t\\t\\t\\t\\t\\t\\t\\t\\t\\t\\t</td>\\r\\n\\t\\t\\t\\t\\t\\t\\t\\t\\t\\t\\r\\n\\t\\t\\t\\t\\t\\t\\t\\t\\t\\t<td data-title=\"Total Winners\" class=\"righty\">\\r\\n\\t\\t\\t\\t\\t\\t\\t\\t\\t\\t\\t16,848\\r\\n\\t\\t\\t\\t\\t\\t\\t\\t\\t\\t\\t\\t\\r\\n\\t\\t\\t\\t\\t\\t\\t\\t\\t\\t</td>\\r\\n\\t\\t\\t\\t\\t\\t\\t\\t\\t</tr>\\r\\n\\t\\t\\t\\t\\t\\t\\t\\t\\r\\n\\t\\t\\t\\t\\t\\t\\t\\t\\t<tr>\\r\\n\\t\\t\\t\\t\\t\\t\\t\\t\\t\\t<td data-title=\"Numbers Matched\" class=\"colour\">\\r\\n\\t\\t\\t\\t\\t\\t\\t\\t\\t\\t\\t<span class=\"prizeName\"><span class=\"ball\">3 </span> + <span class=\"star\"> 1</span></span></span>\\r\\n\\t\\t\\t\\t\\t\\t\\t\\t\\t\\t</td>\\r\\n\\t\\t\\t\\t\\t\\t\\t\\t\\t\\t<td data-title=\"Prize Per Winner\" class=\"righty\">\\r\\n\\t\\t\\t\\t\\t\\t\\t\\t\\t\\t\\t&euro;12.50\\r\\n\\t\\t\\t\\t\\t\\t\\t\\t\\t\\t\\t\\r\\n\\t\\t\\t\\t\\t\\t\\t\\t\\t\\t</td>\\r\\n\\t\\t\\t\\t\\t\\t\\t\\t\\t\\t\\r\\n\\t\\t\\t\\t\\t\\t\\t\\t\\t\\t\\t<td data-title=\"Belgian Winners\" class=\"righty\">\\r\\n\\t\\t\\t\\t\\t\\t\\t\\t\\t\\t\\t\\t1,904\\r\\n\\t\\t\\t\\t\\t\\t\\t\\t\\t\\t\\t\\t\\r\\n\\t\\t\\t\\t\\t\\t\\t\\t\\t\\t\\t</td>\\r\\n\\t\\t\\t\\t\\t\\t\\t\\t\\t\\t\\r\\n\\t\\t\\t\\t\\t\\t\\t\\t\\t\\t\\t<td data-title=\"Prize Fund Amount\" class=\"righty\">\\r\\n\\t\\t\\t\\t\\t\\t\\t\\t\\t\\t\\t\\t&euro;23,800.00\\r\\n\\t\\t\\t\\t\\t\\t\\t\\t\\t\\t\\t\\t\\r\\n\\t\\t\\t\\t\\t\\t\\t\\t\\t\\t\\t</td>\\r\\n\\t\\t\\t\\t\\t\\t\\t\\t\\t\\t\\r\\n\\t\\t\\t\\t\\t\\t\\t\\t\\t\\t<td data-title=\"Total Winners\" class=\"righty\">\\r\\n\\t\\t\\t\\t\\t\\t\\t\\t\\t\\t\\t25,854\\r\\n\\t\\t\\t\\t\\t\\t\\t\\t\\t\\t\\t\\t\\r\\n\\t\\t\\t\\t\\t\\t\\t\\t\\t\\t</td>\\r\\n\\t\\t\\t\\t\\t\\t\\t\\t\\t</tr>\\r\\n\\t\\t\\t\\t\\t\\t\\t\\t\\r\\n\\t\\t\\t\\t\\t\\t\\t\\t\\t<tr>\\r\\n\\t\\t\\t\\t\\t\\t\\t\\t\\t\\t<td data-title=\"Numbers Matched\" class=\"colour\">\\r\\n\\t\\t\\t\\t\\t\\t\\t\\t\\t\\t\\t<span class=\"prizeName\"><span class=\"ball\">3</span></span>\\r\\n\\t\\t\\t\\t\\t\\t\\t\\t\\t\\t</td>\\r\\n\\t\\t\\t\\t\\t\\t\\t\\t\\t\\t<td data-title=\"Prize Per Winner\" class=\"righty\">\\r\\n\\t\\t\\t\\t\\t\\t\\t\\t\\t\\t\\t&euro;8.90\\r\\n\\t\\t\\t\\t\\t\\t\\t\\t\\t\\t\\t\\r\\n\\t\\t\\t\\t\\t\\t\\t\\t\\t\\t</td>\\r\\n\\t\\t\\t\\t\\t\\t\\t\\t\\t\\t\\r\\n\\t\\t\\t\\t\\t\\t\\t\\t\\t\\t\\t<td data-title=\"Belgian Winners\" class=\"righty\">\\r\\n\\t\\t\\t\\t\\t\\t\\t\\t\\t\\t\\t\\t4,780\\r\\n\\t\\t\\t\\t\\t\\t\\t\\t\\t\\t\\t\\t\\r\\n\\t\\t\\t\\t\\t\\t\\t\\t\\t\\t\\t</td>\\r\\n\\t\\t\\t\\t\\t\\t\\t\\t\\t\\t\\r\\n\\t\\t\\t\\t\\t\\t\\t\\t\\t\\t\\t<td data-title=\"Prize Fund Amount\" class=\"righty\">\\r\\n\\t\\t\\t\\t\\t\\t\\t\\t\\t\\t\\t\\t&euro;42,542.00\\r\\n\\t\\t\\t\\t\\t\\t\\t\\t\\t\\t\\t\\t\\r\\n\\t\\t\\t\\t\\t\\t\\t\\t\\t\\t\\t</td>\\r\\n\\t\\t\\t\\t\\t\\t\\t\\t\\t\\t\\r\\n\\t\\t\\t\\t\\t\\t\\t\\t\\t\\t<td data-title=\"Total Winners\" class=\"righty\">\\r\\n\\t\\t\\t\\t\\t\\t\\t\\t\\t\\t\\t67,339\\r\\n\\t\\t\\t\\t\\t\\t\\t\\t\\t\\t\\t\\t\\r\\n\\t\\t\\t\\t\\t\\t\\t\\t\\t\\t</td>\\r\\n\\t\\t\\t\\t\\t\\t\\t\\t\\t</tr>\\r\\n\\t\\t\\t\\t\\t\\t\\t\\t\\r\\n\\t\\t\\t\\t\\t\\t\\t\\t\\t<tr>\\r\\n\\t\\t\\t\\t\\t\\t\\t\\t\\t\\t<td data-title=\"Numbers Matched\" class=\"colour\">\\r\\n\\t\\t\\t\\t\\t\\t\\t\\t\\t\\t\\t<span class=\"prizeName\"><span class=\"ball\">1 </span> + <span class=\"star\"> 2</span></span></span>\\r\\n\\t\\t\\t\\t\\t\\t\\t\\t\\t\\t</td>\\r\\n\\t\\t\\t\\t\\t\\t\\t\\t\\t\\t<td data-title=\"Prize Per Winner\" class=\"righty\">\\r\\n\\t\\t\\t\\t\\t\\t\\t\\t\\t\\t\\t&euro;8.20\\r\\n\\t\\t\\t\\t\\t\\t\\t\\t\\t\\t\\t\\r\\n\\t\\t\\t\\t\\t\\t\\t\\t\\t\\t</td>\\r\\n\\t\\t\\t\\t\\t\\t\\t\\t\\t\\t\\r\\n\\t\\t\\t\\t\\t\\t\\t\\t\\t\\t\\t<td data-title=\"Belgian Winners\" class=\"righty\">\\r\\n\\t\\t\\t\\t\\t\\t\\t\\t\\t\\t\\t\\t6,583\\r\\n\\t\\t\\t\\t\\t\\t\\t\\t\\t\\t\\t\\t\\r\\n\\t\\t\\t\\t\\t\\t\\t\\t\\t\\t\\t</td>\\r\\n\\t\\t\\t\\t\\t\\t\\t\\t\\t\\t\\r\\n\\t\\t\\t\\t\\t\\t\\t\\t\\t\\t\\t<td data-title=\"Prize Fund Amount\" class=\"righty\">\\r\\n\\t\\t\\t\\t\\t\\t\\t\\t\\t\\t\\t\\t&euro;53,980.60\\r\\n\\t\\t\\t\\t\\t\\t\\t\\t\\t\\t\\t\\t\\r\\n\\t\\t\\t\\t\\t\\t\\t\\t\\t\\t\\t</td>\\r\\n\\t\\t\\t\\t\\t\\t\\t\\t\\t\\t\\r\\n\\t\\t\\t\\t\\t\\t\\t\\t\\t\\t<td data-title=\"Total Winners\" class=\"righty\">\\r\\n\\t\\t\\t\\t\\t\\t\\t\\t\\t\\t\\t89,036\\r\\n\\t\\t\\t\\t\\t\\t\\t\\t\\t\\t\\t\\t\\r\\n\\t\\t\\t\\t\\t\\t\\t\\t\\t\\t</td>\\r\\n\\t\\t\\t\\t\\t\\t\\t\\t\\t</tr>\\r\\n\\t\\t\\t\\t\\t\\t\\t\\t\\r\\n\\t\\t\\t\\t\\t\\t\\t\\t\\t<tr>\\r\\n\\t\\t\\t\\t\\t\\t\\t\\t\\t\\t<td data-title=\"Numbers Matched\" class=\"colour\">\\r\\n\\t\\t\\t\\t\\t\\t\\t\\t\\t\\t\\t<span class=\"prizeName\"><span class=\"ball\">2 </span> + <span class=\"star\"> 1</span></span></span>\\r\\n\\t\\t\\t\\t\\t\\t\\t\\t\\t\\t</td>\\r\\n\\t\\t\\t\\t\\t\\t\\t\\t\\t\\t<td data-title=\"Prize Per Winner\" class=\"righty\">\\r\\n\\t\\t\\t\\t\\t\\t\\t\\t\\t\\t\\t&euro;6.10\\r\\n\\t\\t\\t\\t\\t\\t\\t\\t\\t\\t\\t\\r\\n\\t\\t\\t\\t\\t\\t\\t\\t\\t\\t</td>\\r\\n\\t\\t\\t\\t\\t\\t\\t\\t\\t\\t\\r\\n\\t\\t\\t\\t\\t\\t\\t\\t\\t\\t\\t<td data-title=\"Belgian Winners\" class=\"righty\">\\r\\n\\t\\t\\t\\t\\t\\t\\t\\t\\t\\t\\t\\t27,025\\r\\n\\t\\t\\t\\t\\t\\t\\t\\t\\t\\t\\t\\t\\r\\n\\t\\t\\t\\t\\t\\t\\t\\t\\t\\t\\t</td>\\r\\n\\t\\t\\t\\t\\t\\t\\t\\t\\t\\t\\r\\n\\t\\t\\t\\t\\t\\t\\t\\t\\t\\t\\t<td data-title=\"Prize Fund Amount\" class=\"righty\">\\r\\n\\t\\t\\t\\t\\t\\t\\t\\t\\t\\t\\t\\t&euro;164,852.50\\r\\n\\t\\t\\t\\t\\t\\t\\t\\t\\t\\t\\t\\t\\r\\n\\t\\t\\t\\t\\t\\t\\t\\t\\t\\t\\t</td>\\r\\n\\t\\t\\t\\t\\t\\t\\t\\t\\t\\t\\r\\n\\t\\t\\t\\t\\t\\t\\t\\t\\t\\t<td data-title=\"Total Winners\" class=\"righty\">\\r\\n\\t\\t\\t\\t\\t\\t\\t\\t\\t\\t\\t373,985\\r\\n\\t\\t\\t\\t\\t\\t\\t\\t\\t\\t\\t\\t\\r\\n\\t\\t\\t\\t\\t\\t\\t\\t\\t\\t</td>\\r\\n\\t\\t\\t\\t\\t\\t\\t\\t\\t</tr>\\r\\n\\t\\t\\t\\t\\t\\t\\t\\t\\r\\n\\t\\t\\t\\t\\t\\t\\t\\t\\t<tr>\\r\\n\\t\\t\\t\\t\\t\\t\\t\\t\\t\\t<td data-title=\"Numbers Matched\" class=\"colour\">\\r\\n\\t\\t\\t\\t\\t\\t\\t\\t\\t\\t\\t<span class=\"prizeName\"><span class=\"ball\">2</span></span>\\r\\n\\t\\t\\t\\t\\t\\t\\t\\t\\t\\t</td>\\r\\n\\t\\t\\t\\t\\t\\t\\t\\t\\t\\t<td data-title=\"Prize Per Winner\" class=\"righty\">\\r\\n\\t\\t\\t\\t\\t\\t\\t\\t\\t\\t\\t&euro;3.80\\r\\n\\t\\t\\t\\t\\t\\t\\t\\t\\t\\t\\t\\r\\n\\t\\t\\t\\t\\t\\t\\t\\t\\t\\t</td>\\r\\n\\t\\t\\t\\t\\t\\t\\t\\t\\t\\t\\r\\n\\t\\t\\t\\t\\t\\t\\t\\t\\t\\t\\t<td data-title=\"Belgian Winners\" class=\"righty\">\\r\\n\\t\\t\\t\\t\\t\\t\\t\\t\\t\\t\\t\\t68,721\\r\\n\\t\\t\\t\\t\\t\\t\\t\\t\\t\\t\\t\\t\\r\\n\\t\\t\\t\\t\\t\\t\\t\\t\\t\\t\\t</td>\\r\\n\\t\\t\\t\\t\\t\\t\\t\\t\\t\\t\\r\\n\\t\\t\\t\\t\\t\\t\\t\\t\\t\\t\\t<td data-title=\"Prize Fund Amount\" class=\"righty\">\\r\\n\\t\\t\\t\\t\\t\\t\\t\\t\\t\\t\\t\\t&euro;261,139.80\\r\\n\\t\\t\\t\\t\\t\\t\\t\\t\\t\\t\\t\\t\\r\\n\\t\\t\\t\\t\\t\\t\\t\\t\\t\\t\\t</td>\\r\\n\\t\\t\\t\\t\\t\\t\\t\\t\\t\\t\\r\\n\\t\\t\\t\\t\\t\\t\\t\\t\\t\\t<td data-title=\"Total Winners\" class=\"righty\">\\r\\n\\t\\t\\t\\t\\t\\t\\t\\t\\t\\t\\t972,679\\r\\n\\t\\t\\t\\t\\t\\t\\t\\t\\t\\t\\t\\t\\r\\n\\t\\t\\t\\t\\t\\t\\t\\t\\t\\t</td>\\r\\n\\t\\t\\t\\t\\t\\t\\t\\t\\t</tr>\\r\\n\\t\\t\\t\\t\\t\\t\\t\\t\\r\\n\\t\\t\\t\\t\\t\\t\\t\\t\\t<tr class=\"totals\">\\r\\n\\t\\t\\t\\t\\t\\t\\t\\t\\t\\t<td data-title=\"Numbers Matched\" class=\"colour\">\\r\\n\\t\\t\\t\\t\\t\\t\\t\\t\\t\\t\\t<span class=\"prizeName\">Totals</span>\\r\\n\\t\\t\\t\\t\\t\\t\\t\\t\\t\\t</td>\\r\\n\\t\\t\\t\\t\\t\\t\\t\\t\\t\\t<td data-title=\"Prize Per Winner\" class=\"righty\">\\r\\n\\t\\t\\t\\t\\t\\t\\t\\t\\t\\t\\t\\r\\n\\t\\t\\t\\t\\t\\t\\t\\t\\t\\t\\t\\t-\\r\\n\\t\\t\\t\\t\\t\\t\\t\\t\\t\\t\\t\\r\\n\\t\\t\\t\\t\\t\\t\\t\\t\\t\\t</td>\\r\\n\\t\\t\\t\\t\\t\\t\\t\\t\\t\\t\\r\\n\\t\\t\\t\\t\\t\\t\\t\\t\\t\\t\\t<td data-title=\"Belgian Winners\" class=\"righty\">\\r\\n\\t\\t\\t\\t\\t\\t\\t\\t\\t\\t\\t\\t110,589\\r\\n\\t\\t\\t\\t\\t\\t\\t\\t\\t\\t\\t\\t\\r\\n\\t\\t\\t\\t\\t\\t\\t\\t\\t\\t\\t</td>\\r\\n\\t\\t\\t\\t\\t\\t\\t\\t\\t\\t\\r\\n\\t\\t\\t\\t\\t\\t\\t\\t\\t\\t\\t<td data-title=\"Prize Fund Amount\" class=\"righty\">\\r\\n\\t\\t\\t\\t\\t\\t\\t\\t\\t\\t\\t\\t&euro;789,017.80\\r\\n\\t\\t\\t\\t\\t\\t\\t\\t\\t\\t\\t\\t\\r\\n\\t\\t\\t\\t\\t\\t\\t\\t\\t\\t\\t</td>\\r\\n\\t\\t\\t\\t\\t\\t\\t\\t\\t\\t\\r\\n\\t\\t\\t\\t\\t\\t\\t\\t\\t\\t<td data-title=\"Total Winners\" class=\"righty\">\\r\\n\\t\\t\\t\\t\\t\\t\\t\\t\\t\\t\\t1,549,047\\r\\n\\t\\t\\t\\t\\t\\t\\t\\t\\t\\t\\t\\t\\r\\n\\t\\t\\t\\t\\t\\t\\t\\t\\t\\t</td>\\r\\n\\t\\t\\t\\t\\t\\t\\t\\t\\t</tr>\\r\\n\\t\\t\\t\\t\\t\\t\\t\\t\\r\\n\\t\\t\\t\\t\\t\\t\\t</tbody>\\r\\n\\t\\t\\t\\t\\t\\t</table>\\r\\n\\t\\t\\t\\t\\t\\r\\n\\t\\t\\t\\t\\t\\t\\r\\n\\t\\t\\t\\t\\r\\n\\t\\t\\t\\t</div>\\r\\n\\t\\t\\t\\r\\n\\t\\t\\t\\r\\n\\t\\t\\t\\r\\n\\t\\t\\t\\t<div id=\"PrizeAT\">\\r\\n\\t\\t\\t\\t\\r\\n\\t\\t\\t\\t\\t\\r\\n\\r\\n\\t\\t\\t\\t\\t\\t<table class=\"mobFormat\">\\r\\n\\t\\t\\t\\t\\t\\t\\t<thead>\\r\\n\\t\\t\\t\\t\\t\\t\\t\\t<tr>\\r\\n\\t\\t\\t\\t\\t\\t\\t\\t\\t<th>Numbers Matched</th>\\r\\n\\t\\t\\t\\t\\t\\t\\t\\t\\t<th class=\"righty\">Prize Per Winner</th>\\r\\n\\t\\t\\t\\t\\t\\t\\t\\t\\t\\r\\n\\t\\t\\t\\t\\t\\t\\t\\t\\t\\t<th class=\"righty\">Austrian Winners</th>\\r\\n\\t\\t\\t\\t\\t\\t\\t\\t\\t\\r\\n\\t\\t\\t\\t\\t\\t\\t\\t\\t\\t<th class=\"righty\">Prize Fund Amount</th>\\r\\n\\t\\t\\t\\t\\t\\t\\t\\t\\t\\r\\n\\t\\t\\t\\t\\t\\t\\t\\t\\t<th class=\"righty\">Total Winners</th>\\r\\n\\t\\t\\t\\t\\t\\t\\t\\t</tr>\\r\\n\\t\\t\\t\\t\\t\\t\\t</thead>\\r\\n\\t\\t\\t\\t\\t\\t\\t<tbody>\\r\\n\\t\\t\\t\\t\\t\\t\\t\\t\\r\\n\\t\\t\\t\\t\\t\\t\\t\\t\\t<tr>\\r\\n\\t\\t\\t\\t\\t\\t\\t\\t\\t\\t<td data-title=\"Numbers Matched\" class=\"colour\">\\r\\n\\t\\t\\t\\t\\t\\t\\t\\t\\t\\t\\t<span class=\"prizeName\"><span class=\"ball\">5 </span> + <span class=\"star\"> 2</span></span></span>\\r\\n\\t\\t\\t\\t\\t\\t\\t\\t\\t\\t</td>\\r\\n\\t\\t\\t\\t\\t\\t\\t\\t\\t\\t<td data-title=\"Prize Per Winner\" class=\"righty\">\\r\\n\\t\\t\\t\\t\\t\\t\\t\\t\\t\\t\\t&euro;83,786,486.80\\r\\n\\t\\t\\t\\t\\t\\t\\t\\t\\t\\t\\t\\r\\n\\t\\t\\t\\t\\t\\t\\t\\t\\t\\t</td>\\r\\n\\t\\t\\t\\t\\t\\t\\t\\t\\t\\t\\r\\n\\t\\t\\t\\t\\t\\t\\t\\t\\t\\t\\t<td data-title=\"Austrian Winners\" class=\"righty\">\\r\\n\\t\\t\\t\\t\\t\\t\\t\\t\\t\\t\\t\\t0\\r\\n\\t\\t\\t\\t\\t\\t\\t\\t\\t\\t\\t\\t\\r\\n\\t\\t\\t\\t\\t\\t\\t\\t\\t\\t\\t</td>\\r\\n\\t\\t\\t\\t\\t\\t\\t\\t\\t\\t\\r\\n\\t\\t\\t\\t\\t\\t\\t\\t\\t\\t\\t<td data-title=\"Prize Fund Amount\" class=\"righty\">\\r\\n\\t\\t\\t\\t\\t\\t\\t\\t\\t\\t\\t\\t&euro;0.00\\r\\n\\t\\t\\t\\t\\t\\t\\t\\t\\t\\t\\t\\t\\r\\n\\t\\t\\t\\t\\t\\t\\t\\t\\t\\t\\t</td>\\r\\n\\t\\t\\t\\t\\t\\t\\t\\t\\t\\t\\r\\n\\t\\t\\t\\t\\t\\t\\t\\t\\t\\t<td data-title=\"Total Winners\" class=\"righty\">\\r\\n\\t\\t\\t\\t\\t\\t\\t\\t\\t\\t\\t\\r\\n\\t\\t\\t\\t\\t\\t\\t\\t\\t\\t\\t\\t\\t<strong style=\"color:#F00\">Rollover!</strong> \\r\\n\\t\\t\\t\\t\\t\\t\\t\\t\\t\\t\\t\\t0\\r\\n\\t\\t\\t\\t\\t\\t\\t\\t\\t\\t\\t\\t\\r\\n\\t\\t\\t\\t\\t\\t\\t\\t\\t\\t</td>\\r\\n\\t\\t\\t\\t\\t\\t\\t\\t\\t</tr>\\r\\n\\t\\t\\t\\t\\t\\t\\t\\t\\r\\n\\t\\t\\t\\t\\t\\t\\t\\t\\t<tr>\\r\\n\\t\\t\\t\\t\\t\\t\\t\\t\\t\\t<td data-title=\"Numbers Matched\" class=\"colour\">\\r\\n\\t\\t\\t\\t\\t\\t\\t\\t\\t\\t\\t<span class=\"prizeName\"><span class=\"ball\">5 </span> + <span class=\"star\"> 1</span></span></span>\\r\\n\\t\\t\\t\\t\\t\\t\\t\\t\\t\\t</td>\\r\\n\\t\\t\\t\\t\\t\\t\\t\\t\\t\\t<td data-title=\"Prize Per Winner\" class=\"righty\">\\r\\n\\t\\t\\t\\t\\t\\t\\t\\t\\t\\t\\t&euro;0.00\\r\\n\\t\\t\\t\\t\\t\\t\\t\\t\\t\\t\\t\\r\\n\\t\\t\\t\\t\\t\\t\\t\\t\\t\\t</td>\\r\\n\\t\\t\\t\\t\\t\\t\\t\\t\\t\\t\\r\\n\\t\\t\\t\\t\\t\\t\\t\\t\\t\\t\\t<td data-title=\"Austrian Winners\" class=\"righty\">\\r\\n\\t\\t\\t\\t\\t\\t\\t\\t\\t\\t\\t\\t0\\r\\n\\t\\t\\t\\t\\t\\t\\t\\t\\t\\t\\t\\t\\r\\n\\t\\t\\t\\t\\t\\t\\t\\t\\t\\t\\t</td>\\r\\n\\t\\t\\t\\t\\t\\t\\t\\t\\t\\t\\r\\n\\t\\t\\t\\t\\t\\t\\t\\t\\t\\t\\t<td data-title=\"Prize Fund Amount\" class=\"righty\">\\r\\n\\t\\t\\t\\t\\t\\t\\t\\t\\t\\t\\t\\t&euro;0.00\\r\\n\\t\\t\\t\\t\\t\\t\\t\\t\\t\\t\\t\\t\\r\\n\\t\\t\\t\\t\\t\\t\\t\\t\\t\\t\\t</td>\\r\\n\\t\\t\\t\\t\\t\\t\\t\\t\\t\\t\\r\\n\\t\\t\\t\\t\\t\\t\\t\\t\\t\\t<td data-title=\"Total Winners\" class=\"righty\">\\r\\n\\t\\t\\t\\t\\t\\t\\t\\t\\t\\t\\t0\\r\\n\\t\\t\\t\\t\\t\\t\\t\\t\\t\\t\\t\\t\\r\\n\\t\\t\\t\\t\\t\\t\\t\\t\\t\\t</td>\\r\\n\\t\\t\\t\\t\\t\\t\\t\\t\\t</tr>\\r\\n\\t\\t\\t\\t\\t\\t\\t\\t\\r\\n\\t\\t\\t\\t\\t\\t\\t\\t\\t<tr>\\r\\n\\t\\t\\t\\t\\t\\t\\t\\t\\t\\t<td data-title=\"Numbers Matched\" class=\"colour\">\\r\\n\\t\\t\\t\\t\\t\\t\\t\\t\\t\\t\\t<span class=\"prizeName\"><span class=\"ball\">5</span></span>\\r\\n\\t\\t\\t\\t\\t\\t\\t\\t\\t\\t</td>\\r\\n\\t\\t\\t\\t\\t\\t\\t\\t\\t\\t<td data-title=\"Prize Per Winner\" class=\"righty\">\\r\\n\\t\\t\\t\\t\\t\\t\\t\\t\\t\\t\\t&euro;65,420.20\\r\\n\\t\\t\\t\\t\\t\\t\\t\\t\\t\\t\\t\\r\\n\\t\\t\\t\\t\\t\\t\\t\\t\\t\\t</td>\\r\\n\\t\\t\\t\\t\\t\\t\\t\\t\\t\\t\\r\\n\\t\\t\\t\\t\\t\\t\\t\\t\\t\\t\\t<td data-title=\"Austrian Winners\" class=\"righty\">\\r\\n\\t\\t\\t\\t\\t\\t\\t\\t\\t\\t\\t\\t0\\r\\n\\t\\t\\t\\t\\t\\t\\t\\t\\t\\t\\t\\t\\r\\n\\t\\t\\t\\t\\t\\t\\t\\t\\t\\t\\t</td>\\r\\n\\t\\t\\t\\t\\t\\t\\t\\t\\t\\t\\r\\n\\t\\t\\t\\t\\t\\t\\t\\t\\t\\t\\t<td data-title=\"Prize Fund Amount\" class=\"righty\">\\r\\n\\t\\t\\t\\t\\t\\t\\t\\t\\t\\t\\t\\t&euro;0.00\\r\\n\\t\\t\\t\\t\\t\\t\\t\\t\\t\\t\\t\\t\\r\\n\\t\\t\\t\\t\\t\\t\\t\\t\\t\\t\\t</td>\\r\\n\\t\\t\\t\\t\\t\\t\\t\\t\\t\\t\\r\\n\\t\\t\\t\\t\\t\\t\\t\\t\\t\\t<td data-title=\"Total Winners\" class=\"righty\">\\r\\n\\t\\t\\t\\t\\t\\t\\t\\t\\t\\t\\t11\\r\\n\\t\\t\\t\\t\\t\\t\\t\\t\\t\\t\\t\\t\\r\\n\\t\\t\\t\\t\\t\\t\\t\\t\\t\\t</td>\\r\\n\\t\\t\\t\\t\\t\\t\\t\\t\\t</tr>\\r\\n\\t\\t\\t\\t\\t\\t\\t\\t\\r\\n\\t\\t\\t\\t\\t\\t\\t\\t\\t<tr>\\r\\n\\t\\t\\t\\t\\t\\t\\t\\t\\t\\t<td data-title=\"Numbers Matched\" class=\"colour\">\\r\\n\\t\\t\\t\\t\\t\\t\\t\\t\\t\\t\\t<span class=\"prizeName\"><span class=\"ball\">4 </span> + <span class=\"star\"> 2</span></span></span>\\r\\n\\t\\t\\t\\t\\t\\t\\t\\t\\t\\t</td>\\r\\n\\t\\t\\t\\t\\t\\t\\t\\t\\t\\t<td data-title=\"Prize Per Winner\" class=\"righty\">\\r\\n\\t\\t\\t\\t\\t\\t\\t\\t\\t\\t\\t&euro;1,326.90\\r\\n\\t\\t\\t\\t\\t\\t\\t\\t\\t\\t\\t\\r\\n\\t\\t\\t\\t\\t\\t\\t\\t\\t\\t</td>\\r\\n\\t\\t\\t\\t\\t\\t\\t\\t\\t\\t\\r\\n\\t\\t\\t\\t\\t\\t\\t\\t\\t\\t\\t<td data-title=\"Austrian Winners\" class=\"righty\">\\r\\n\\t\\t\\t\\t\\t\\t\\t\\t\\t\\t\\t\\t3\\r\\n\\t\\t\\t\\t\\t\\t\\t\\t\\t\\t\\t\\t\\r\\n\\t\\t\\t\\t\\t\\t\\t\\t\\t\\t\\t</td>\\r\\n\\t\\t\\t\\t\\t\\t\\t\\t\\t\\t\\r\\n\\t\\t\\t\\t\\t\\t\\t\\t\\t\\t\\t<td data-title=\"Prize Fund Amount\" class=\"righty\">\\r\\n\\t\\t\\t\\t\\t\\t\\t\\t\\t\\t\\t\\t&euro;3,980.70\\r\\n\\t\\t\\t\\t\\t\\t\\t\\t\\t\\t\\t\\t\\r\\n\\t\\t\\t\\t\\t\\t\\t\\t\\t\\t\\t</td>\\r\\n\\t\\t\\t\\t\\t\\t\\t\\t\\t\\t\\r\\n\\t\\t\\t\\t\\t\\t\\t\\t\\t\\t<td data-title=\"Total Winners\" class=\"righty\">\\r\\n\\t\\t\\t\\t\\t\\t\\t\\t\\t\\t\\t32\\r\\n\\t\\t\\t\\t\\t\\t\\t\\t\\t\\t\\t\\t\\r\\n\\t\\t\\t\\t\\t\\t\\t\\t\\t\\t</td>\\r\\n\\t\\t\\t\\t\\t\\t\\t\\t\\t</tr>\\r\\n\\t\\t\\t\\t\\t\\t\\t\\t\\r\\n\\t\\t\\t\\t\\t\\t\\t\\t\\t<tr>\\r\\n\\t\\t\\t\\t\\t\\t\\t\\t\\t\\t<td data-title=\"Numbers Matched\" class=\"colour\">\\r\\n\\t\\t\\t\\t\\t\\t\\t\\t\\t\\t\\t<span class=\"prizeName\"><span class=\"ball\">4 </span> + <span class=\"star\"> 1</span></span></span>\\r\\n\\t\\t\\t\\t\\t\\t\\t\\t\\t\\t</td>\\r\\n\\t\\t\\t\\t\\t\\t\\t\\t\\t\\t<td data-title=\"Prize Per Winner\" class=\"righty\">\\r\\n\\t\\t\\t\\t\\t\\t\\t\\t\\t\\t\\t&euro;129.20\\r\\n\\t\\t\\t\\t\\t\\t\\t\\t\\t\\t\\t\\r\\n\\t\\t\\t\\t\\t\\t\\t\\t\\t\\t</td>\\r\\n\\t\\t\\t\\t\\t\\t\\t\\t\\t\\t\\r\\n\\t\\t\\t\\t\\t\\t\\t\\t\\t\\t\\t<td data-title=\"Austrian Winners\" class=\"righty\">\\r\\n\\t\\t\\t\\t\\t\\t\\t\\t\\t\\t\\t\\t31\\r\\n\\t\\t\\t\\t\\t\\t\\t\\t\\t\\t\\t\\t\\r\\n\\t\\t\\t\\t\\t\\t\\t\\t\\t\\t\\t</td>\\r\\n\\t\\t\\t\\t\\t\\t\\t\\t\\t\\t\\r\\n\\t\\t\\t\\t\\t\\t\\t\\t\\t\\t\\t<td data-title=\"Prize Fund Amount\" class=\"righty\">\\r\\n\\t\\t\\t\\t\\t\\t\\t\\t\\t\\t\\t\\t&euro;4,005.20\\r\\n\\t\\t\\t\\t\\t\\t\\t\\t\\t\\t\\t\\t\\r\\n\\t\\t\\t\\t\\t\\t\\t\\t\\t\\t\\t</td>\\r\\n\\t\\t\\t\\t\\t\\t\\t\\t\\t\\t\\r\\n\\t\\t\\t\\t\\t\\t\\t\\t\\t\\t<td data-title=\"Total Winners\" class=\"righty\">\\r\\n\\t\\t\\t\\t\\t\\t\\t\\t\\t\\t\\t605\\r\\n\\t\\t\\t\\t\\t\\t\\t\\t\\t\\t\\t\\t\\r\\n\\t\\t\\t\\t\\t\\t\\t\\t\\t\\t</td>\\r\\n\\t\\t\\t\\t\\t\\t\\t\\t\\t</tr>\\r\\n\\t\\t\\t\\t\\t\\t\\t\\t\\r\\n\\t\\t\\t\\t\\t\\t\\t\\t\\t<tr>\\r\\n\\t\\t\\t\\t\\t\\t\\t\\t\\t\\t<td data-title=\"Numbers Matched\" class=\"colour\">\\r\\n\\t\\t\\t\\t\\t\\t\\t\\t\\t\\t\\t<span class=\"prizeName\"><span class=\"ball\">3 </span> + <span class=\"star\"> 2</span></span></span>\\r\\n\\t\\t\\t\\t\\t\\t\\t\\t\\t\\t</td>\\r\\n\\t\\t\\t\\t\\t\\t\\t\\t\\t\\t<td data-title=\"Prize Per Winner\" class=\"righty\">\\r\\n\\t\\t\\t\\t\\t\\t\\t\\t\\t\\t\\t&euro;71.50\\r\\n\\t\\t\\t\\t\\t\\t\\t\\t\\t\\t\\t\\r\\n\\t\\t\\t\\t\\t\\t\\t\\t\\t\\t</td>\\r\\n\\t\\t\\t\\t\\t\\t\\t\\t\\t\\t\\r\\n\\t\\t\\t\\t\\t\\t\\t\\t\\t\\t\\t<td data-title=\"Austrian Winners\" class=\"righty\">\\r\\n\\t\\t\\t\\t\\t\\t\\t\\t\\t\\t\\t\\t59\\r\\n\\t\\t\\t\\t\\t\\t\\t\\t\\t\\t\\t\\t\\r\\n\\t\\t\\t\\t\\t\\t\\t\\t\\t\\t\\t</td>\\r\\n\\t\\t\\t\\t\\t\\t\\t\\t\\t\\t\\r\\n\\t\\t\\t\\t\\t\\t\\t\\t\\t\\t\\t<td data-title=\"Prize Fund Amount\" class=\"righty\">\\r\\n\\t\\t\\t\\t\\t\\t\\t\\t\\t\\t\\t\\t&euro;4,218.50\\r\\n\\t\\t\\t\\t\\t\\t\\t\\t\\t\\t\\t\\t\\r\\n\\t\\t\\t\\t\\t\\t\\t\\t\\t\\t\\t</td>\\r\\n\\t\\t\\t\\t\\t\\t\\t\\t\\t\\t\\r\\n\\t\\t\\t\\t\\t\\t\\t\\t\\t\\t<td data-title=\"Total Winners\" class=\"righty\">\\r\\n\\t\\t\\t\\t\\t\\t\\t\\t\\t\\t\\t1,156\\r\\n\\t\\t\\t\\t\\t\\t\\t\\t\\t\\t\\t\\t\\r\\n\\t\\t\\t\\t\\t\\t\\t\\t\\t\\t</td>\\r\\n\\t\\t\\t\\t\\t\\t\\t\\t\\t</tr>\\r\\n\\t\\t\\t\\t\\t\\t\\t\\t\\r\\n\\t\\t\\t\\t\\t\\t\\t\\t\\t<tr>\\r\\n\\t\\t\\t\\t\\t\\t\\t\\t\\t\\t<td data-title=\"Numbers Matched\" class=\"colour\">\\r\\n\\t\\t\\t\\t\\t\\t\\t\\t\\t\\t\\t<span class=\"prizeName\"><span class=\"ball\">4</span></span>\\r\\n\\t\\t\\t\\t\\t\\t\\t\\t\\t\\t</td>\\r\\n\\t\\t\\t\\t\\t\\t\\t\\t\\t\\t<td data-title=\"Prize Per Winner\" class=\"righty\">\\r\\n\\t\\t\\t\\t\\t\\t\\t\\t\\t\\t\\t&euro;38.60\\r\\n\\t\\t\\t\\t\\t\\t\\t\\t\\t\\t\\t\\r\\n\\t\\t\\t\\t\\t\\t\\t\\t\\t\\t</td>\\r\\n\\t\\t\\t\\t\\t\\t\\t\\t\\t\\t\\r\\n\\t\\t\\t\\t\\t\\t\\t\\t\\t\\t\\t<td data-title=\"Austrian Winners\" class=\"righty\">\\r\\n\\t\\t\\t\\t\\t\\t\\t\\t\\t\\t\\t\\t70\\r\\n\\t\\t\\t\\t\\t\\t\\t\\t\\t\\t\\t\\t\\r\\n\\t\\t\\t\\t\\t\\t\\t\\t\\t\\t\\t</td>\\r\\n\\t\\t\\t\\t\\t\\t\\t\\t\\t\\t\\r\\n\\t\\t\\t\\t\\t\\t\\t\\t\\t\\t\\t<td data-title=\"Prize Fund Amount\" class=\"righty\">\\r\\n\\t\\t\\t\\t\\t\\t\\t\\t\\t\\t\\t\\t&euro;2,702.00\\r\\n\\t\\t\\t\\t\\t\\t\\t\\t\\t\\t\\t\\t\\r\\n\\t\\t\\t\\t\\t\\t\\t\\t\\t\\t\\t</td>\\r\\n\\t\\t\\t\\t\\t\\t\\t\\t\\t\\t\\r\\n\\t\\t\\t\\t\\t\\t\\t\\t\\t\\t<td data-title=\"Total Winners\" class=\"righty\">\\r\\n\\t\\t\\t\\t\\t\\t\\t\\t\\t\\t\\t1,502\\r\\n\\t\\t\\t\\t\\t\\t\\t\\t\\t\\t\\t\\t\\r\\n\\t\\t\\t\\t\\t\\t\\t\\t\\t\\t</td>\\r\\n\\t\\t\\t\\t\\t\\t\\t\\t\\t</tr>\\r\\n\\t\\t\\t\\t\\t\\t\\t\\t\\r\\n\\t\\t\\t\\t\\t\\t\\t\\t\\t<tr>\\r\\n\\t\\t\\t\\t\\t\\t\\t\\t\\t\\t<td data-title=\"Numbers Matched\" class=\"colour\">\\r\\n\\t\\t\\t\\t\\t\\t\\t\\t\\t\\t\\t<span class=\"prizeName\"><span class=\"ball\">2 </span> + <span class=\"star\"> 2</span></span></span>\\r\\n\\t\\t\\t\\t\\t\\t\\t\\t\\t\\t</td>\\r\\n\\t\\t\\t\\t\\t\\t\\t\\t\\t\\t<td data-title=\"Prize Per Winner\" class=\"righty\">\\r\\n\\t\\t\\t\\t\\t\\t\\t\\t\\t\\t\\t&euro;17.20\\r\\n\\t\\t\\t\\t\\t\\t\\t\\t\\t\\t\\t\\r\\n\\t\\t\\t\\t\\t\\t\\t\\t\\t\\t</td>\\r\\n\\t\\t\\t\\t\\t\\t\\t\\t\\t\\t\\r\\n\\t\\t\\t\\t\\t\\t\\t\\t\\t\\t\\t<td data-title=\"Austrian Winners\" class=\"righty\">\\r\\n\\t\\t\\t\\t\\t\\t\\t\\t\\t\\t\\t\\t979\\r\\n\\t\\t\\t\\t\\t\\t\\t\\t\\t\\t\\t\\t\\r\\n\\t\\t\\t\\t\\t\\t\\t\\t\\t\\t\\t</td>\\r\\n\\t\\t\\t\\t\\t\\t\\t\\t\\t\\t\\r\\n\\t\\t\\t\\t\\t\\t\\t\\t\\t\\t\\t<td data-title=\"Prize Fund Amount\" class=\"righty\">\\r\\n\\t\\t\\t\\t\\t\\t\\t\\t\\t\\t\\t\\t&euro;16,838.80\\r\\n\\t\\t\\t\\t\\t\\t\\t\\t\\t\\t\\t\\t\\r\\n\\t\\t\\t\\t\\t\\t\\t\\t\\t\\t\\t</td>\\r\\n\\t\\t\\t\\t\\t\\t\\t\\t\\t\\t\\r\\n\\t\\t\\t\\t\\t\\t\\t\\t\\t\\t<td data-title=\"Total Winners\" class=\"righty\">\\r\\n\\t\\t\\t\\t\\t\\t\\t\\t\\t\\t\\t16,848\\r\\n\\t\\t\\t\\t\\t\\t\\t\\t\\t\\t\\t\\t\\r\\n\\t\\t\\t\\t\\t\\t\\t\\t\\t\\t</td>\\r\\n\\t\\t\\t\\t\\t\\t\\t\\t\\t</tr>\\r\\n\\t\\t\\t\\t\\t\\t\\t\\t\\r\\n\\t\\t\\t\\t\\t\\t\\t\\t\\t<tr>\\r\\n\\t\\t\\t\\t\\t\\t\\t\\t\\t\\t<td data-title=\"Numbers Matched\" class=\"colour\">\\r\\n\\t\\t\\t\\t\\t\\t\\t\\t\\t\\t\\t<span class=\"prizeName\"><span class=\"ball\">3 </span> + <span class=\"star\"> 1</span></span></span>\\r\\n\\t\\t\\t\\t\\t\\t\\t\\t\\t\\t</td>\\r\\n\\t\\t\\t\\t\\t\\t\\t\\t\\t\\t<td data-title=\"Prize Per Winner\" class=\"righty\">\\r\\n\\t\\t\\t\\t\\t\\t\\t\\t\\t\\t\\t&euro;12.50\\r\\n\\t\\t\\t\\t\\t\\t\\t\\t\\t\\t\\t\\r\\n\\t\\t\\t\\t\\t\\t\\t\\t\\t\\t</td>\\r\\n\\t\\t\\t\\t\\t\\t\\t\\t\\t\\t\\r\\n\\t\\t\\t\\t\\t\\t\\t\\t\\t\\t\\t<td data-title=\"Austrian Winners\" class=\"righty\">\\r\\n\\t\\t\\t\\t\\t\\t\\t\\t\\t\\t\\t\\t1,375\\r\\n\\t\\t\\t\\t\\t\\t\\t\\t\\t\\t\\t\\t\\r\\n\\t\\t\\t\\t\\t\\t\\t\\t\\t\\t\\t</td>\\r\\n\\t\\t\\t\\t\\t\\t\\t\\t\\t\\t\\r\\n\\t\\t\\t\\t\\t\\t\\t\\t\\t\\t\\t<td data-title=\"Prize Fund Amount\" class=\"righty\">\\r\\n\\t\\t\\t\\t\\t\\t\\t\\t\\t\\t\\t\\t&euro;17,187.50\\r\\n\\t\\t\\t\\t\\t\\t\\t\\t\\t\\t\\t\\t\\r\\n\\t\\t\\t\\t\\t\\t\\t\\t\\t\\t\\t</td>\\r\\n\\t\\t\\t\\t\\t\\t\\t\\t\\t\\t\\r\\n\\t\\t\\t\\t\\t\\t\\t\\t\\t\\t<td data-title=\"Total Winners\" class=\"righty\">\\r\\n\\t\\t\\t\\t\\t\\t\\t\\t\\t\\t\\t25,854\\r\\n\\t\\t\\t\\t\\t\\t\\t\\t\\t\\t\\t\\t\\r\\n\\t\\t\\t\\t\\t\\t\\t\\t\\t\\t</td>\\r\\n\\t\\t\\t\\t\\t\\t\\t\\t\\t</tr>\\r\\n\\t\\t\\t\\t\\t\\t\\t\\t\\r\\n\\t\\t\\t\\t\\t\\t\\t\\t\\t<tr>\\r\\n\\t\\t\\t\\t\\t\\t\\t\\t\\t\\t<td data-title=\"Numbers Matched\" class=\"colour\">\\r\\n\\t\\t\\t\\t\\t\\t\\t\\t\\t\\t\\t<span class=\"prizeName\"><span class=\"ball\">3</span></span>\\r\\n\\t\\t\\t\\t\\t\\t\\t\\t\\t\\t</td>\\r\\n\\t\\t\\t\\t\\t\\t\\t\\t\\t\\t<td data-title=\"Prize Per Winner\" class=\"righty\">\\r\\n\\t\\t\\t\\t\\t\\t\\t\\t\\t\\t\\t&euro;8.90\\r\\n\\t\\t\\t\\t\\t\\t\\t\\t\\t\\t\\t\\r\\n\\t\\t\\t\\t\\t\\t\\t\\t\\t\\t</td>\\r\\n\\t\\t\\t\\t\\t\\t\\t\\t\\t\\t\\r\\n\\t\\t\\t\\t\\t\\t\\t\\t\\t\\t\\t<td data-title=\"Austrian Winners\" class=\"righty\">\\r\\n\\t\\t\\t\\t\\t\\t\\t\\t\\t\\t\\t\\t3,355\\r\\n\\t\\t\\t\\t\\t\\t\\t\\t\\t\\t\\t\\t\\r\\n\\t\\t\\t\\t\\t\\t\\t\\t\\t\\t\\t</td>\\r\\n\\t\\t\\t\\t\\t\\t\\t\\t\\t\\t\\r\\n\\t\\t\\t\\t\\t\\t\\t\\t\\t\\t\\t<td data-title=\"Prize Fund Amount\" class=\"righty\">\\r\\n\\t\\t\\t\\t\\t\\t\\t\\t\\t\\t\\t\\t&euro;29,859.50\\r\\n\\t\\t\\t\\t\\t\\t\\t\\t\\t\\t\\t\\t\\r\\n\\t\\t\\t\\t\\t\\t\\t\\t\\t\\t\\t</td>\\r\\n\\t\\t\\t\\t\\t\\t\\t\\t\\t\\t\\r\\n\\t\\t\\t\\t\\t\\t\\t\\t\\t\\t<td data-title=\"Total Winners\" class=\"righty\">\\r\\n\\t\\t\\t\\t\\t\\t\\t\\t\\t\\t\\t67,339\\r\\n\\t\\t\\t\\t\\t\\t\\t\\t\\t\\t\\t\\t\\r\\n\\t\\t\\t\\t\\t\\t\\t\\t\\t\\t</td>\\r\\n\\t\\t\\t\\t\\t\\t\\t\\t\\t</tr>\\r\\n\\t\\t\\t\\t\\t\\t\\t\\t\\r\\n\\t\\t\\t\\t\\t\\t\\t\\t\\t<tr>\\r\\n\\t\\t\\t\\t\\t\\t\\t\\t\\t\\t<td data-title=\"Numbers Matched\" class=\"colour\">\\r\\n\\t\\t\\t\\t\\t\\t\\t\\t\\t\\t\\t<span class=\"prizeName\"><span class=\"ball\">1 </span> + <span class=\"star\"> 2</span></span></span>\\r\\n\\t\\t\\t\\t\\t\\t\\t\\t\\t\\t</td>\\r\\n\\t\\t\\t\\t\\t\\t\\t\\t\\t\\t<td data-title=\"Prize Per Winner\" class=\"righty\">\\r\\n\\t\\t\\t\\t\\t\\t\\t\\t\\t\\t\\t&euro;8.20\\r\\n\\t\\t\\t\\t\\t\\t\\t\\t\\t\\t\\t\\r\\n\\t\\t\\t\\t\\t\\t\\t\\t\\t\\t</td>\\r\\n\\t\\t\\t\\t\\t\\t\\t\\t\\t\\t\\r\\n\\t\\t\\t\\t\\t\\t\\t\\t\\t\\t\\t<td data-title=\"Austrian Winners\" class=\"righty\">\\r\\n\\t\\t\\t\\t\\t\\t\\t\\t\\t\\t\\t\\t5,084\\r\\n\\t\\t\\t\\t\\t\\t\\t\\t\\t\\t\\t\\t\\r\\n\\t\\t\\t\\t\\t\\t\\t\\t\\t\\t\\t</td>\\r\\n\\t\\t\\t\\t\\t\\t\\t\\t\\t\\t\\r\\n\\t\\t\\t\\t\\t\\t\\t\\t\\t\\t\\t<td data-title=\"Prize Fund Amount\" class=\"righty\">\\r\\n\\t\\t\\t\\t\\t\\t\\t\\t\\t\\t\\t\\t&euro;41,688.80\\r\\n\\t\\t\\t\\t\\t\\t\\t\\t\\t\\t\\t\\t\\r\\n\\t\\t\\t\\t\\t\\t\\t\\t\\t\\t\\t</td>\\r\\n\\t\\t\\t\\t\\t\\t\\t\\t\\t\\t\\r\\n\\t\\t\\t\\t\\t\\t\\t\\t\\t\\t<td data-title=\"Total Winners\" class=\"righty\">\\r\\n\\t\\t\\t\\t\\t\\t\\t\\t\\t\\t\\t89,036\\r\\n\\t\\t\\t\\t\\t\\t\\t\\t\\t\\t\\t\\t\\r\\n\\t\\t\\t\\t\\t\\t\\t\\t\\t\\t</td>\\r\\n\\t\\t\\t\\t\\t\\t\\t\\t\\t</tr>\\r\\n\\t\\t\\t\\t\\t\\t\\t\\t\\r\\n\\t\\t\\t\\t\\t\\t\\t\\t\\t<tr>\\r\\n\\t\\t\\t\\t\\t\\t\\t\\t\\t\\t<td data-title=\"Numbers Matched\" class=\"colour\">\\r\\n\\t\\t\\t\\t\\t\\t\\t\\t\\t\\t\\t<span class=\"prizeName\"><span class=\"ball\">2 </span> + <span class=\"star\"> 1</span></span></span>\\r\\n\\t\\t\\t\\t\\t\\t\\t\\t\\t\\t</td>\\r\\n\\t\\t\\t\\t\\t\\t\\t\\t\\t\\t<td data-title=\"Prize Per Winner\" class=\"righty\">\\r\\n\\t\\t\\t\\t\\t\\t\\t\\t\\t\\t\\t&euro;6.10\\r\\n\\t\\t\\t\\t\\t\\t\\t\\t\\t\\t\\t\\r\\n\\t\\t\\t\\t\\t\\t\\t\\t\\t\\t</td>\\r\\n\\t\\t\\t\\t\\t\\t\\t\\t\\t\\t\\r\\n\\t\\t\\t\\t\\t\\t\\t\\t\\t\\t\\t<td data-title=\"Austrian Winners\" class=\"righty\">\\r\\n\\t\\t\\t\\t\\t\\t\\t\\t\\t\\t\\t\\t20,684\\r\\n\\t\\t\\t\\t\\t\\t\\t\\t\\t\\t\\t\\t\\r\\n\\t\\t\\t\\t\\t\\t\\t\\t\\t\\t\\t</td>\\r\\n\\t\\t\\t\\t\\t\\t\\t\\t\\t\\t\\r\\n\\t\\t\\t\\t\\t\\t\\t\\t\\t\\t\\t<td data-title=\"Prize Fund Amount\" class=\"righty\">\\r\\n\\t\\t\\t\\t\\t\\t\\t\\t\\t\\t\\t\\t&euro;126,172.40\\r\\n\\t\\t\\t\\t\\t\\t\\t\\t\\t\\t\\t\\t\\r\\n\\t\\t\\t\\t\\t\\t\\t\\t\\t\\t\\t</td>\\r\\n\\t\\t\\t\\t\\t\\t\\t\\t\\t\\t\\r\\n\\t\\t\\t\\t\\t\\t\\t\\t\\t\\t<td data-title=\"Total Winners\" class=\"righty\">\\r\\n\\t\\t\\t\\t\\t\\t\\t\\t\\t\\t\\t373,985\\r\\n\\t\\t\\t\\t\\t\\t\\t\\t\\t\\t\\t\\t\\r\\n\\t\\t\\t\\t\\t\\t\\t\\t\\t\\t</td>\\r\\n\\t\\t\\t\\t\\t\\t\\t\\t\\t</tr>\\r\\n\\t\\t\\t\\t\\t\\t\\t\\t\\r\\n\\t\\t\\t\\t\\t\\t\\t\\t\\t<tr>\\r\\n\\t\\t\\t\\t\\t\\t\\t\\t\\t\\t<td data-title=\"Numbers Matched\" class=\"colour\">\\r\\n\\t\\t\\t\\t\\t\\t\\t\\t\\t\\t\\t<span class=\"prizeName\"><span class=\"ball\">2</span></span>\\r\\n\\t\\t\\t\\t\\t\\t\\t\\t\\t\\t</td>\\r\\n\\t\\t\\t\\t\\t\\t\\t\\t\\t\\t<td data-title=\"Prize Per Winner\" class=\"righty\">\\r\\n\\t\\t\\t\\t\\t\\t\\t\\t\\t\\t\\t&euro;3.80\\r\\n\\t\\t\\t\\t\\t\\t\\t\\t\\t\\t\\t\\r\\n\\t\\t\\t\\t\\t\\t\\t\\t\\t\\t</td>\\r\\n\\t\\t\\t\\t\\t\\t\\t\\t\\t\\t\\r\\n\\t\\t\\t\\t\\t\\t\\t\\t\\t\\t\\t<td data-title=\"Austrian Winners\" class=\"righty\">\\r\\n\\t\\t\\t\\t\\t\\t\\t\\t\\t\\t\\t\\t48,681\\r\\n\\t\\t\\t\\t\\t\\t\\t\\t\\t\\t\\t\\t\\r\\n\\t\\t\\t\\t\\t\\t\\t\\t\\t\\t\\t</td>\\r\\n\\t\\t\\t\\t\\t\\t\\t\\t\\t\\t\\r\\n\\t\\t\\t\\t\\t\\t\\t\\t\\t\\t\\t<td data-title=\"Prize Fund Amount\" class=\"righty\">\\r\\n\\t\\t\\t\\t\\t\\t\\t\\t\\t\\t\\t\\t&euro;184,987.80\\r\\n\\t\\t\\t\\t\\t\\t\\t\\t\\t\\t\\t\\t\\r\\n\\t\\t\\t\\t\\t\\t\\t\\t\\t\\t\\t</td>\\r\\n\\t\\t\\t\\t\\t\\t\\t\\t\\t\\t\\r\\n\\t\\t\\t\\t\\t\\t\\t\\t\\t\\t<td data-title=\"Total Winners\" class=\"righty\">\\r\\n\\t\\t\\t\\t\\t\\t\\t\\t\\t\\t\\t972,679\\r\\n\\t\\t\\t\\t\\t\\t\\t\\t\\t\\t\\t\\t\\r\\n\\t\\t\\t\\t\\t\\t\\t\\t\\t\\t</td>\\r\\n\\t\\t\\t\\t\\t\\t\\t\\t\\t</tr>\\r\\n\\t\\t\\t\\t\\t\\t\\t\\t\\r\\n\\t\\t\\t\\t\\t\\t\\t\\t\\t<tr class=\"totals\">\\r\\n\\t\\t\\t\\t\\t\\t\\t\\t\\t\\t<td data-title=\"Numbers Matched\" class=\"colour\">\\r\\n\\t\\t\\t\\t\\t\\t\\t\\t\\t\\t\\t<span class=\"prizeName\">Totals</span>\\r\\n\\t\\t\\t\\t\\t\\t\\t\\t\\t\\t</td>\\r\\n\\t\\t\\t\\t\\t\\t\\t\\t\\t\\t<td data-title=\"Prize Per Winner\" class=\"righty\">\\r\\n\\t\\t\\t\\t\\t\\t\\t\\t\\t\\t\\t\\r\\n\\t\\t\\t\\t\\t\\t\\t\\t\\t\\t\\t\\t-\\r\\n\\t\\t\\t\\t\\t\\t\\t\\t\\t\\t\\t\\r\\n\\t\\t\\t\\t\\t\\t\\t\\t\\t\\t</td>\\r\\n\\t\\t\\t\\t\\t\\t\\t\\t\\t\\t\\r\\n\\t\\t\\t\\t\\t\\t\\t\\t\\t\\t\\t<td data-title=\"Austrian Winners\" class=\"righty\">\\r\\n\\t\\t\\t\\t\\t\\t\\t\\t\\t\\t\\t\\t80,321\\r\\n\\t\\t\\t\\t\\t\\t\\t\\t\\t\\t\\t\\t\\r\\n\\t\\t\\t\\t\\t\\t\\t\\t\\t\\t\\t</td>\\r\\n\\t\\t\\t\\t\\t\\t\\t\\t\\t\\t\\r\\n\\t\\t\\t\\t\\t\\t\\t\\t\\t\\t\\t<td data-title=\"Prize Fund Amount\" class=\"righty\">\\r\\n\\t\\t\\t\\t\\t\\t\\t\\t\\t\\t\\t\\t&euro;431,641.20\\r\\n\\t\\t\\t\\t\\t\\t\\t\\t\\t\\t\\t\\t\\r\\n\\t\\t\\t\\t\\t\\t\\t\\t\\t\\t\\t</td>\\r\\n\\t\\t\\t\\t\\t\\t\\t\\t\\t\\t\\r\\n\\t\\t\\t\\t\\t\\t\\t\\t\\t\\t<td data-title=\"Total Winners\" class=\"righty\">\\r\\n\\t\\t\\t\\t\\t\\t\\t\\t\\t\\t\\t1,549,047\\r\\n\\t\\t\\t\\t\\t\\t\\t\\t\\t\\t\\t\\t\\r\\n\\t\\t\\t\\t\\t\\t\\t\\t\\t\\t</td>\\r\\n\\t\\t\\t\\t\\t\\t\\t\\t\\t</tr>\\r\\n\\t\\t\\t\\t\\t\\t\\t\\t\\r\\n\\t\\t\\t\\t\\t\\t\\t</tbody>\\r\\n\\t\\t\\t\\t\\t\\t</table>\\r\\n\\t\\t\\t\\t\\t\\r\\n\\t\\t\\t\\t\\t\\t\\r\\n\\t\\t\\t\\t\\r\\n\\t\\t\\t\\t</div>\\r\\n\\t\\t\\t\\r\\n\\t\\t\\t\\r\\n\\t\\t\\t\\r\\n\\t\\t\\t\\t<div id=\"PrizeLU\">\\r\\n\\t\\t\\t\\t\\r\\n\\t\\t\\t\\t\\t\\r\\n\\r\\n\\t\\t\\t\\t\\t\\t<table class=\"mobFormat\">\\r\\n\\t\\t\\t\\t\\t\\t\\t<thead>\\r\\n\\t\\t\\t\\t\\t\\t\\t\\t<tr>\\r\\n\\t\\t\\t\\t\\t\\t\\t\\t\\t<th>Numbers Matched</th>\\r\\n\\t\\t\\t\\t\\t\\t\\t\\t\\t<th class=\"righty\">Prize Per Winner</th>\\r\\n\\t\\t\\t\\t\\t\\t\\t\\t\\t\\r\\n\\t\\t\\t\\t\\t\\t\\t\\t\\t\\t<th class=\"righty\">Luxembourgian &amp; Swiss Winners</th>\\r\\n\\t\\t\\t\\t\\t\\t\\t\\t\\t\\r\\n\\t\\t\\t\\t\\t\\t\\t\\t\\t<th class=\"righty\">Total Winners</th>\\r\\n\\t\\t\\t\\t\\t\\t\\t\\t</tr>\\r\\n\\t\\t\\t\\t\\t\\t\\t</thead>\\r\\n\\t\\t\\t\\t\\t\\t\\t<tbody>\\r\\n\\t\\t\\t\\t\\t\\t\\t\\t\\r\\n\\t\\t\\t\\t\\t\\t\\t\\t\\t<tr>\\r\\n\\t\\t\\t\\t\\t\\t\\t\\t\\t\\t<td data-title=\"Numbers Matched\" class=\"colour\">\\r\\n\\t\\t\\t\\t\\t\\t\\t\\t\\t\\t\\t<span class=\"prizeName\"><span class=\"ball\">5 </span> + <span class=\"star\"> 2</span></span></span>\\r\\n\\t\\t\\t\\t\\t\\t\\t\\t\\t\\t</td>\\r\\n\\t\\t\\t\\t\\t\\t\\t\\t\\t\\t<td data-title=\"Prize Per Winner\" class=\"righty\">\\r\\n\\t\\t\\t\\t\\t\\t\\t\\t\\t\\t\\t&euro;83,786,486.80\\r\\n\\t\\t\\t\\t\\t\\t\\t\\t\\t\\t\\t\\r\\n\\t\\t\\t\\t\\t\\t\\t\\t\\t\\t</td>\\r\\n\\t\\t\\t\\t\\t\\t\\t\\t\\t\\t\\r\\n\\t\\t\\t\\t\\t\\t\\t\\t\\t\\t\\t<td data-title=\"Luxembourgian &amp; Swiss Winners\" class=\"righty\">\\r\\n\\t\\t\\t\\t\\t\\t\\t\\t\\t\\t\\t\\t0\\r\\n\\t\\t\\t\\t\\t\\t\\t\\t\\t\\t\\t\\t\\r\\n\\t\\t\\t\\t\\t\\t\\t\\t\\t\\t\\t</td>\\r\\n\\t\\t\\t\\t\\t\\t\\t\\t\\t\\t\\r\\n\\t\\t\\t\\t\\t\\t\\t\\t\\t\\t<td data-title=\"Total Winners\" class=\"righty\">\\r\\n\\t\\t\\t\\t\\t\\t\\t\\t\\t\\t\\t\\r\\n\\t\\t\\t\\t\\t\\t\\t\\t\\t\\t\\t\\t\\t<strong style=\"color:#F00\">Rollover!</strong> \\r\\n\\t\\t\\t\\t\\t\\t\\t\\t\\t\\t\\t\\t0\\r\\n\\t\\t\\t\\t\\t\\t\\t\\t\\t\\t\\t\\t\\r\\n\\t\\t\\t\\t\\t\\t\\t\\t\\t\\t</td>\\r\\n\\t\\t\\t\\t\\t\\t\\t\\t\\t</tr>\\r\\n\\t\\t\\t\\t\\t\\t\\t\\t\\r\\n\\t\\t\\t\\t\\t\\t\\t\\t\\t<tr>\\r\\n\\t\\t\\t\\t\\t\\t\\t\\t\\t\\t<td data-title=\"Numbers Matched\" class=\"colour\">\\r\\n\\t\\t\\t\\t\\t\\t\\t\\t\\t\\t\\t<span class=\"prizeName\"><span class=\"ball\">5 </span> + <span class=\"star\"> 1</span></span></span>\\r\\n\\t\\t\\t\\t\\t\\t\\t\\t\\t\\t</td>\\r\\n\\t\\t\\t\\t\\t\\t\\t\\t\\t\\t<td data-title=\"Prize Per Winner\" class=\"righty\">\\r\\n\\t\\t\\t\\t\\t\\t\\t\\t\\t\\t\\t&euro;0.00\\r\\n\\t\\t\\t\\t\\t\\t\\t\\t\\t\\t\\t\\r\\n\\t\\t\\t\\t\\t\\t\\t\\t\\t\\t</td>\\r\\n\\t\\t\\t\\t\\t\\t\\t\\t\\t\\t\\r\\n\\t\\t\\t\\t\\t\\t\\t\\t\\t\\t\\t<td data-title=\"Luxembourgian &amp; Swiss Winners\" class=\"righty\">\\r\\n\\t\\t\\t\\t\\t\\t\\t\\t\\t\\t\\t\\t0\\r\\n\\t\\t\\t\\t\\t\\t\\t\\t\\t\\t\\t\\t\\r\\n\\t\\t\\t\\t\\t\\t\\t\\t\\t\\t\\t</td>\\r\\n\\t\\t\\t\\t\\t\\t\\t\\t\\t\\t\\r\\n\\t\\t\\t\\t\\t\\t\\t\\t\\t\\t<td data-title=\"Total Winners\" class=\"righty\">\\r\\n\\t\\t\\t\\t\\t\\t\\t\\t\\t\\t\\t0\\r\\n\\t\\t\\t\\t\\t\\t\\t\\t\\t\\t\\t\\t\\r\\n\\t\\t\\t\\t\\t\\t\\t\\t\\t\\t</td>\\r\\n\\t\\t\\t\\t\\t\\t\\t\\t\\t</tr>\\r\\n\\t\\t\\t\\t\\t\\t\\t\\t\\r\\n\\t\\t\\t\\t\\t\\t\\t\\t\\t<tr>\\r\\n\\t\\t\\t\\t\\t\\t\\t\\t\\t\\t<td data-title=\"Numbers Matched\" class=\"colour\">\\r\\n\\t\\t\\t\\t\\t\\t\\t\\t\\t\\t\\t<span class=\"prizeName\"><span class=\"ball\">5</span></span>\\r\\n\\t\\t\\t\\t\\t\\t\\t\\t\\t\\t</td>\\r\\n\\t\\t\\t\\t\\t\\t\\t\\t\\t\\t<td data-title=\"Prize Per Winner\" class=\"righty\">\\r\\n\\t\\t\\t\\t\\t\\t\\t\\t\\t\\t\\t&euro;65,420.20\\r\\n\\t\\t\\t\\t\\t\\t\\t\\t\\t\\t\\t\\r\\n\\t\\t\\t\\t\\t\\t\\t\\t\\t\\t</td>\\r\\n\\t\\t\\t\\t\\t\\t\\t\\t\\t\\t\\r\\n\\t\\t\\t\\t\\t\\t\\t\\t\\t\\t\\t<td data-title=\"Luxembourgian &amp; Swiss Winners\" class=\"righty\">\\r\\n\\t\\t\\t\\t\\t\\t\\t\\t\\t\\t\\t\\t0\\r\\n\\t\\t\\t\\t\\t\\t\\t\\t\\t\\t\\t\\t\\r\\n\\t\\t\\t\\t\\t\\t\\t\\t\\t\\t\\t</td>\\r\\n\\t\\t\\t\\t\\t\\t\\t\\t\\t\\t\\r\\n\\t\\t\\t\\t\\t\\t\\t\\t\\t\\t<td data-title=\"Total Winners\" class=\"righty\">\\r\\n\\t\\t\\t\\t\\t\\t\\t\\t\\t\\t\\t11\\r\\n\\t\\t\\t\\t\\t\\t\\t\\t\\t\\t\\t\\t\\r\\n\\t\\t\\t\\t\\t\\t\\t\\t\\t\\t</td>\\r\\n\\t\\t\\t\\t\\t\\t\\t\\t\\t</tr>\\r\\n\\t\\t\\t\\t\\t\\t\\t\\t\\r\\n\\t\\t\\t\\t\\t\\t\\t\\t\\t<tr>\\r\\n\\t\\t\\t\\t\\t\\t\\t\\t\\t\\t<td data-title=\"Numbers Matched\" class=\"colour\">\\r\\n\\t\\t\\t\\t\\t\\t\\t\\t\\t\\t\\t<span class=\"prizeName\"><span class=\"ball\">4 </span> + <span class=\"star\"> 2</span></span></span>\\r\\n\\t\\t\\t\\t\\t\\t\\t\\t\\t\\t</td>\\r\\n\\t\\t\\t\\t\\t\\t\\t\\t\\t\\t<td data-title=\"Prize Per Winner\" class=\"righty\">\\r\\n\\t\\t\\t\\t\\t\\t\\t\\t\\t\\t\\t&euro;1,326.90\\r\\n\\t\\t\\t\\t\\t\\t\\t\\t\\t\\t\\t\\r\\n\\t\\t\\t\\t\\t\\t\\t\\t\\t\\t</td>\\r\\n\\t\\t\\t\\t\\t\\t\\t\\t\\t\\t\\r\\n\\t\\t\\t\\t\\t\\t\\t\\t\\t\\t\\t<td data-title=\"Luxembourgian &amp; Swiss Winners\" class=\"righty\">\\r\\n\\t\\t\\t\\t\\t\\t\\t\\t\\t\\t\\t\\t2\\r\\n\\t\\t\\t\\t\\t\\t\\t\\t\\t\\t\\t\\t\\r\\n\\t\\t\\t\\t\\t\\t\\t\\t\\t\\t\\t</td>\\r\\n\\t\\t\\t\\t\\t\\t\\t\\t\\t\\t\\r\\n\\t\\t\\t\\t\\t\\t\\t\\t\\t\\t<td data-title=\"Total Winners\" class=\"righty\">\\r\\n\\t\\t\\t\\t\\t\\t\\t\\t\\t\\t\\t32\\r\\n\\t\\t\\t\\t\\t\\t\\t\\t\\t\\t\\t\\t\\r\\n\\t\\t\\t\\t\\t\\t\\t\\t\\t\\t</td>\\r\\n\\t\\t\\t\\t\\t\\t\\t\\t\\t</tr>\\r\\n\\t\\t\\t\\t\\t\\t\\t\\t\\r\\n\\t\\t\\t\\t\\t\\t\\t\\t\\t<tr>\\r\\n\\t\\t\\t\\t\\t\\t\\t\\t\\t\\t<td data-title=\"Numbers Matched\" class=\"colour\">\\r\\n\\t\\t\\t\\t\\t\\t\\t\\t\\t\\t\\t<span class=\"prizeName\"><span class=\"ball\">4 </span> + <span class=\"star\"> 1</span></span></span>\\r\\n\\t\\t\\t\\t\\t\\t\\t\\t\\t\\t</td>\\r\\n\\t\\t\\t\\t\\t\\t\\t\\t\\t\\t<td data-title=\"Prize Per Winner\" class=\"righty\">\\r\\n\\t\\t\\t\\t\\t\\t\\t\\t\\t\\t\\t&euro;129.20\\r\\n\\t\\t\\t\\t\\t\\t\\t\\t\\t\\t\\t\\r\\n\\t\\t\\t\\t\\t\\t\\t\\t\\t\\t</td>\\r\\n\\t\\t\\t\\t\\t\\t\\t\\t\\t\\t\\r\\n\\t\\t\\t\\t\\t\\t\\t\\t\\t\\t\\t<td data-title=\"Luxembourgian &amp; Swiss Winners\" class=\"righty\">\\r\\n\\t\\t\\t\\t\\t\\t\\t\\t\\t\\t\\t\\t34\\r\\n\\t\\t\\t\\t\\t\\t\\t\\t\\t\\t\\t\\t\\r\\n\\t\\t\\t\\t\\t\\t\\t\\t\\t\\t\\t</td>\\r\\n\\t\\t\\t\\t\\t\\t\\t\\t\\t\\t\\r\\n\\t\\t\\t\\t\\t\\t\\t\\t\\t\\t<td data-title=\"Total Winners\" class=\"righty\">\\r\\n\\t\\t\\t\\t\\t\\t\\t\\t\\t\\t\\t605\\r\\n\\t\\t\\t\\t\\t\\t\\t\\t\\t\\t\\t\\t\\r\\n\\t\\t\\t\\t\\t\\t\\t\\t\\t\\t</td>\\r\\n\\t\\t\\t\\t\\t\\t\\t\\t\\t</tr>\\r\\n\\t\\t\\t\\t\\t\\t\\t\\t\\r\\n\\t\\t\\t\\t\\t\\t\\t\\t\\t<tr>\\r\\n\\t\\t\\t\\t\\t\\t\\t\\t\\t\\t<td data-title=\"Numbers Matched\" class=\"colour\">\\r\\n\\t\\t\\t\\t\\t\\t\\t\\t\\t\\t\\t<span class=\"prizeName\"><span class=\"ball\">3 </span> + <span class=\"star\"> 2</span></span></span>\\r\\n\\t\\t\\t\\t\\t\\t\\t\\t\\t\\t</td>\\r\\n\\t\\t\\t\\t\\t\\t\\t\\t\\t\\t<td data-title=\"Prize Per Winner\" class=\"righty\">\\r\\n\\t\\t\\t\\t\\t\\t\\t\\t\\t\\t\\t&euro;71.50\\r\\n\\t\\t\\t\\t\\t\\t\\t\\t\\t\\t\\t\\r\\n\\t\\t\\t\\t\\t\\t\\t\\t\\t\\t</td>\\r\\n\\t\\t\\t\\t\\t\\t\\t\\t\\t\\t\\r\\n\\t\\t\\t\\t\\t\\t\\t\\t\\t\\t\\t<td data-title=\"Luxembourgian &amp; Swiss Winners\" class=\"righty\">\\r\\n\\t\\t\\t\\t\\t\\t\\t\\t\\t\\t\\t\\t55\\r\\n\\t\\t\\t\\t\\t\\t\\t\\t\\t\\t\\t\\t\\r\\n\\t\\t\\t\\t\\t\\t\\t\\t\\t\\t\\t</td>\\r\\n\\t\\t\\t\\t\\t\\t\\t\\t\\t\\t\\r\\n\\t\\t\\t\\t\\t\\t\\t\\t\\t\\t<td data-title=\"Total Winners\" class=\"righty\">\\r\\n\\t\\t\\t\\t\\t\\t\\t\\t\\t\\t\\t1,156\\r\\n\\t\\t\\t\\t\\t\\t\\t\\t\\t\\t\\t\\t\\r\\n\\t\\t\\t\\t\\t\\t\\t\\t\\t\\t</td>\\r\\n\\t\\t\\t\\t\\t\\t\\t\\t\\t</tr>\\r\\n\\t\\t\\t\\t\\t\\t\\t\\t\\r\\n\\t\\t\\t\\t\\t\\t\\t\\t\\t<tr>\\r\\n\\t\\t\\t\\t\\t\\t\\t\\t\\t\\t<td data-title=\"Numbers Matched\" class=\"colour\">\\r\\n\\t\\t\\t\\t\\t\\t\\t\\t\\t\\t\\t<span class=\"prizeName\"><span class=\"ball\">4</span></span>\\r\\n\\t\\t\\t\\t\\t\\t\\t\\t\\t\\t</td>\\r\\n\\t\\t\\t\\t\\t\\t\\t\\t\\t\\t<td data-title=\"Prize Per Winner\" class=\"righty\">\\r\\n\\t\\t\\t\\t\\t\\t\\t\\t\\t\\t\\t&euro;38.60\\r\\n\\t\\t\\t\\t\\t\\t\\t\\t\\t\\t\\t\\r\\n\\t\\t\\t\\t\\t\\t\\t\\t\\t\\t</td>\\r\\n\\t\\t\\t\\t\\t\\t\\t\\t\\t\\t\\r\\n\\t\\t\\t\\t\\t\\t\\t\\t\\t\\t\\t<td data-title=\"Luxembourgian &amp; Swiss Winners\" class=\"righty\">\\r\\n\\t\\t\\t\\t\\t\\t\\t\\t\\t\\t\\t\\t106\\r\\n\\t\\t\\t\\t\\t\\t\\t\\t\\t\\t\\t\\t\\r\\n\\t\\t\\t\\t\\t\\t\\t\\t\\t\\t\\t</td>\\r\\n\\t\\t\\t\\t\\t\\t\\t\\t\\t\\t\\r\\n\\t\\t\\t\\t\\t\\t\\t\\t\\t\\t<td data-title=\"Total Winners\" class=\"righty\">\\r\\n\\t\\t\\t\\t\\t\\t\\t\\t\\t\\t\\t1,502\\r\\n\\t\\t\\t\\t\\t\\t\\t\\t\\t\\t\\t\\t\\r\\n\\t\\t\\t\\t\\t\\t\\t\\t\\t\\t</td>\\r\\n\\t\\t\\t\\t\\t\\t\\t\\t\\t</tr>\\r\\n\\t\\t\\t\\t\\t\\t\\t\\t\\r\\n\\t\\t\\t\\t\\t\\t\\t\\t\\t<tr>\\r\\n\\t\\t\\t\\t\\t\\t\\t\\t\\t\\t<td data-title=\"Numbers Matched\" class=\"colour\">\\r\\n\\t\\t\\t\\t\\t\\t\\t\\t\\t\\t\\t<span class=\"prizeName\"><span class=\"ball\">2 </span> + <span class=\"star\"> 2</span></span></span>\\r\\n\\t\\t\\t\\t\\t\\t\\t\\t\\t\\t</td>\\r\\n\\t\\t\\t\\t\\t\\t\\t\\t\\t\\t<td data-title=\"Prize Per Winner\" class=\"righty\">\\r\\n\\t\\t\\t\\t\\t\\t\\t\\t\\t\\t\\t&euro;17.20\\r\\n\\t\\t\\t\\t\\t\\t\\t\\t\\t\\t\\t\\r\\n\\t\\t\\t\\t\\t\\t\\t\\t\\t\\t</td>\\r\\n\\t\\t\\t\\t\\t\\t\\t\\t\\t\\t\\r\\n\\t\\t\\t\\t\\t\\t\\t\\t\\t\\t\\t<td data-title=\"Luxembourgian &amp; Swiss Winners\" class=\"righty\">\\r\\n\\t\\t\\t\\t\\t\\t\\t\\t\\t\\t\\t\\t920\\r\\n\\t\\t\\t\\t\\t\\t\\t\\t\\t\\t\\t\\t\\r\\n\\t\\t\\t\\t\\t\\t\\t\\t\\t\\t\\t</td>\\r\\n\\t\\t\\t\\t\\t\\t\\t\\t\\t\\t\\r\\n\\t\\t\\t\\t\\t\\t\\t\\t\\t\\t<td data-title=\"Total Winners\" class=\"righty\">\\r\\n\\t\\t\\t\\t\\t\\t\\t\\t\\t\\t\\t16,848\\r\\n\\t\\t\\t\\t\\t\\t\\t\\t\\t\\t\\t\\t\\r\\n\\t\\t\\t\\t\\t\\t\\t\\t\\t\\t</td>\\r\\n\\t\\t\\t\\t\\t\\t\\t\\t\\t</tr>\\r\\n\\t\\t\\t\\t\\t\\t\\t\\t\\r\\n\\t\\t\\t\\t\\t\\t\\t\\t\\t<tr>\\r\\n\\t\\t\\t\\t\\t\\t\\t\\t\\t\\t<td data-title=\"Numbers Matched\" class=\"colour\">\\r\\n\\t\\t\\t\\t\\t\\t\\t\\t\\t\\t\\t<span class=\"prizeName\"><span class=\"ball\">3 </span> + <span class=\"star\"> 1</span></span></span>\\r\\n\\t\\t\\t\\t\\t\\t\\t\\t\\t\\t</td>\\r\\n\\t\\t\\t\\t\\t\\t\\t\\t\\t\\t<td data-title=\"Prize Per Winner\" class=\"righty\">\\r\\n\\t\\t\\t\\t\\t\\t\\t\\t\\t\\t\\t&euro;12.50\\r\\n\\t\\t\\t\\t\\t\\t\\t\\t\\t\\t\\t\\r\\n\\t\\t\\t\\t\\t\\t\\t\\t\\t\\t</td>\\r\\n\\t\\t\\t\\t\\t\\t\\t\\t\\t\\t\\r\\n\\t\\t\\t\\t\\t\\t\\t\\t\\t\\t\\t<td data-title=\"Luxembourgian &amp; Swiss Winners\" class=\"righty\">\\r\\n\\t\\t\\t\\t\\t\\t\\t\\t\\t\\t\\t\\t1,610\\r\\n\\t\\t\\t\\t\\t\\t\\t\\t\\t\\t\\t\\t\\r\\n\\t\\t\\t\\t\\t\\t\\t\\t\\t\\t\\t</td>\\r\\n\\t\\t\\t\\t\\t\\t\\t\\t\\t\\t\\r\\n\\t\\t\\t\\t\\t\\t\\t\\t\\t\\t<td data-title=\"Total Winners\" class=\"righty\">\\r\\n\\t\\t\\t\\t\\t\\t\\t\\t\\t\\t\\t25,854\\r\\n\\t\\t\\t\\t\\t\\t\\t\\t\\t\\t\\t\\t\\r\\n\\t\\t\\t\\t\\t\\t\\t\\t\\t\\t</td>\\r\\n\\t\\t\\t\\t\\t\\t\\t\\t\\t</tr>\\r\\n\\t\\t\\t\\t\\t\\t\\t\\t\\r\\n\\t\\t\\t\\t\\t\\t\\t\\t\\t<tr>\\r\\n\\t\\t\\t\\t\\t\\t\\t\\t\\t\\t<td data-title=\"Numbers Matched\" class=\"colour\">\\r\\n\\t\\t\\t\\t\\t\\t\\t\\t\\t\\t\\t<span class=\"prizeName\"><span class=\"ball\">3</span></span>\\r\\n\\t\\t\\t\\t\\t\\t\\t\\t\\t\\t</td>\\r\\n\\t\\t\\t\\t\\t\\t\\t\\t\\t\\t<td data-title=\"Prize Per Winner\" class=\"righty\">\\r\\n\\t\\t\\t\\t\\t\\t\\t\\t\\t\\t\\t&euro;8.90\\r\\n\\t\\t\\t\\t\\t\\t\\t\\t\\t\\t\\t\\r\\n\\t\\t\\t\\t\\t\\t\\t\\t\\t\\t</td>\\r\\n\\t\\t\\t\\t\\t\\t\\t\\t\\t\\t\\r\\n\\t\\t\\t\\t\\t\\t\\t\\t\\t\\t\\t<td data-title=\"Luxembourgian &amp; Swiss Winners\" class=\"righty\">\\r\\n\\t\\t\\t\\t\\t\\t\\t\\t\\t\\t\\t\\t4,429\\r\\n\\t\\t\\t\\t\\t\\t\\t\\t\\t\\t\\t\\t\\r\\n\\t\\t\\t\\t\\t\\t\\t\\t\\t\\t\\t</td>\\r\\n\\t\\t\\t\\t\\t\\t\\t\\t\\t\\t\\r\\n\\t\\t\\t\\t\\t\\t\\t\\t\\t\\t<td data-title=\"Total Winners\" class=\"righty\">\\r\\n\\t\\t\\t\\t\\t\\t\\t\\t\\t\\t\\t67,339\\r\\n\\t\\t\\t\\t\\t\\t\\t\\t\\t\\t\\t\\t\\r\\n\\t\\t\\t\\t\\t\\t\\t\\t\\t\\t</td>\\r\\n\\t\\t\\t\\t\\t\\t\\t\\t\\t</tr>\\r\\n\\t\\t\\t\\t\\t\\t\\t\\t\\r\\n\\t\\t\\t\\t\\t\\t\\t\\t\\t<tr>\\r\\n\\t\\t\\t\\t\\t\\t\\t\\t\\t\\t<td data-title=\"Numbers Matched\" class=\"colour\">\\r\\n\\t\\t\\t\\t\\t\\t\\t\\t\\t\\t\\t<span class=\"prizeName\"><span class=\"ball\">1 </span> + <span class=\"star\"> 2</span></span></span>\\r\\n\\t\\t\\t\\t\\t\\t\\t\\t\\t\\t</td>\\r\\n\\t\\t\\t\\t\\t\\t\\t\\t\\t\\t<td data-title=\"Prize Per Winner\" class=\"righty\">\\r\\n\\t\\t\\t\\t\\t\\t\\t\\t\\t\\t\\t&euro;8.20\\r\\n\\t\\t\\t\\t\\t\\t\\t\\t\\t\\t\\t\\r\\n\\t\\t\\t\\t\\t\\t\\t\\t\\t\\t</td>\\r\\n\\t\\t\\t\\t\\t\\t\\t\\t\\t\\t\\r\\n\\t\\t\\t\\t\\t\\t\\t\\t\\t\\t\\t<td data-title=\"Luxembourgian &amp; Swiss Winners\" class=\"righty\">\\r\\n\\t\\t\\t\\t\\t\\t\\t\\t\\t\\t\\t\\t5,542\\r\\n\\t\\t\\t\\t\\t\\t\\t\\t\\t\\t\\t\\t\\r\\n\\t\\t\\t\\t\\t\\t\\t\\t\\t\\t\\t</td>\\r\\n\\t\\t\\t\\t\\t\\t\\t\\t\\t\\t\\r\\n\\t\\t\\t\\t\\t\\t\\t\\t\\t\\t<td data-title=\"Total Winners\" class=\"righty\">\\r\\n\\t\\t\\t\\t\\t\\t\\t\\t\\t\\t\\t89,036\\r\\n\\t\\t\\t\\t\\t\\t\\t\\t\\t\\t\\t\\t\\r\\n\\t\\t\\t\\t\\t\\t\\t\\t\\t\\t</td>\\r\\n\\t\\t\\t\\t\\t\\t\\t\\t\\t</tr>\\r\\n\\t\\t\\t\\t\\t\\t\\t\\t\\r\\n\\t\\t\\t\\t\\t\\t\\t\\t\\t<tr>\\r\\n\\t\\t\\t\\t\\t\\t\\t\\t\\t\\t<td data-title=\"Numbers Matched\" class=\"colour\">\\r\\n\\t\\t\\t\\t\\t\\t\\t\\t\\t\\t\\t<span class=\"prizeName\"><span class=\"ball\">2 </span> + <span class=\"star\"> 1</span></span></span>\\r\\n\\t\\t\\t\\t\\t\\t\\t\\t\\t\\t</td>\\r\\n\\t\\t\\t\\t\\t\\t\\t\\t\\t\\t<td data-title=\"Prize Per Winner\" class=\"righty\">\\r\\n\\t\\t\\t\\t\\t\\t\\t\\t\\t\\t\\t&euro;6.10\\r\\n\\t\\t\\t\\t\\t\\t\\t\\t\\t\\t\\t\\r\\n\\t\\t\\t\\t\\t\\t\\t\\t\\t\\t</td>\\r\\n\\t\\t\\t\\t\\t\\t\\t\\t\\t\\t\\r\\n\\t\\t\\t\\t\\t\\t\\t\\t\\t\\t\\t<td data-title=\"Luxembourgian &amp; Swiss Winners\" class=\"righty\">\\r\\n\\t\\t\\t\\t\\t\\t\\t\\t\\t\\t\\t\\t24,107\\r\\n\\t\\t\\t\\t\\t\\t\\t\\t\\t\\t\\t\\t\\r\\n\\t\\t\\t\\t\\t\\t\\t\\t\\t\\t\\t</td>\\r\\n\\t\\t\\t\\t\\t\\t\\t\\t\\t\\t\\r\\n\\t\\t\\t\\t\\t\\t\\t\\t\\t\\t<td data-title=\"Total Winners\" class=\"righty\">\\r\\n\\t\\t\\t\\t\\t\\t\\t\\t\\t\\t\\t373,985\\r\\n\\t\\t\\t\\t\\t\\t\\t\\t\\t\\t\\t\\t\\r\\n\\t\\t\\t\\t\\t\\t\\t\\t\\t\\t</td>\\r\\n\\t\\t\\t\\t\\t\\t\\t\\t\\t</tr>\\r\\n\\t\\t\\t\\t\\t\\t\\t\\t\\r\\n\\t\\t\\t\\t\\t\\t\\t\\t\\t<tr>\\r\\n\\t\\t\\t\\t\\t\\t\\t\\t\\t\\t<td data-title=\"Numbers Matched\" class=\"colour\">\\r\\n\\t\\t\\t\\t\\t\\t\\t\\t\\t\\t\\t<span class=\"prizeName\"><span class=\"ball\">2</span></span>\\r\\n\\t\\t\\t\\t\\t\\t\\t\\t\\t\\t</td>\\r\\n\\t\\t\\t\\t\\t\\t\\t\\t\\t\\t<td data-title=\"Prize Per Winner\" class=\"righty\">\\r\\n\\t\\t\\t\\t\\t\\t\\t\\t\\t\\t\\t&euro;3.80\\r\\n\\t\\t\\t\\t\\t\\t\\t\\t\\t\\t\\t\\r\\n\\t\\t\\t\\t\\t\\t\\t\\t\\t\\t</td>\\r\\n\\t\\t\\t\\t\\t\\t\\t\\t\\t\\t\\r\\n\\t\\t\\t\\t\\t\\t\\t\\t\\t\\t\\t<td data-title=\"Luxembourgian &amp; Swiss Winners\" class=\"righty\">\\r\\n\\t\\t\\t\\t\\t\\t\\t\\t\\t\\t\\t\\t65,754\\r\\n\\t\\t\\t\\t\\t\\t\\t\\t\\t\\t\\t\\t\\r\\n\\t\\t\\t\\t\\t\\t\\t\\t\\t\\t\\t</td>\\r\\n\\t\\t\\t\\t\\t\\t\\t\\t\\t\\t\\r\\n\\t\\t\\t\\t\\t\\t\\t\\t\\t\\t<td data-title=\"Total Winners\" class=\"righty\">\\r\\n\\t\\t\\t\\t\\t\\t\\t\\t\\t\\t\\t972,679\\r\\n\\t\\t\\t\\t\\t\\t\\t\\t\\t\\t\\t\\t\\r\\n\\t\\t\\t\\t\\t\\t\\t\\t\\t\\t</td>\\r\\n\\t\\t\\t\\t\\t\\t\\t\\t\\t</tr>\\r\\n\\t\\t\\t\\t\\t\\t\\t\\t\\r\\n\\t\\t\\t\\t\\t\\t\\t\\t\\t<tr class=\"totals\">\\r\\n\\t\\t\\t\\t\\t\\t\\t\\t\\t\\t<td data-title=\"Numbers Matched\" class=\"colour\">\\r\\n\\t\\t\\t\\t\\t\\t\\t\\t\\t\\t\\t<span class=\"prizeName\">Totals</span>\\r\\n\\t\\t\\t\\t\\t\\t\\t\\t\\t\\t</td>\\r\\n\\t\\t\\t\\t\\t\\t\\t\\t\\t\\t<td data-title=\"Prize Per Winner\" class=\"righty\">\\r\\n\\t\\t\\t\\t\\t\\t\\t\\t\\t\\t\\t\\r\\n\\t\\t\\t\\t\\t\\t\\t\\t\\t\\t\\t\\t-\\r\\n\\t\\t\\t\\t\\t\\t\\t\\t\\t\\t\\t\\r\\n\\t\\t\\t\\t\\t\\t\\t\\t\\t\\t</td>\\r\\n\\t\\t\\t\\t\\t\\t\\t\\t\\t\\t\\r\\n\\t\\t\\t\\t\\t\\t\\t\\t\\t\\t\\t<td data-title=\"Luxembourgian &amp; Swiss Winners\" class=\"righty\">\\r\\n\\t\\t\\t\\t\\t\\t\\t\\t\\t\\t\\t\\t102,559\\r\\n\\t\\t\\t\\t\\t\\t\\t\\t\\t\\t\\t\\t\\r\\n\\t\\t\\t\\t\\t\\t\\t\\t\\t\\t\\t</td>\\r\\n\\t\\t\\t\\t\\t\\t\\t\\t\\t\\t\\r\\n\\t\\t\\t\\t\\t\\t\\t\\t\\t\\t<td data-title=\"Total Winners\" class=\"righty\">\\r\\n\\t\\t\\t\\t\\t\\t\\t\\t\\t\\t\\t1,549,047\\r\\n\\t\\t\\t\\t\\t\\t\\t\\t\\t\\t\\t\\t\\r\\n\\t\\t\\t\\t\\t\\t\\t\\t\\t\\t</td>\\r\\n\\t\\t\\t\\t\\t\\t\\t\\t\\t</tr>\\r\\n\\t\\t\\t\\t\\t\\t\\t\\t\\r\\n\\t\\t\\t\\t\\t\\t\\t</tbody>\\r\\n\\t\\t\\t\\t\\t\\t</table>\\r\\n\\t\\t\\t\\t\\t\\r\\n\\t\\t\\t\\t\\t\\t\\r\\n\\t\\t\\t\\t\\r\\n\\t\\t\\t\\t</div>\\r\\n\\t\\t\\t\\r\\n\\t\\t\\t\\r\\n\\t\\t\\t\\t\\t<div class=\"fx btwn wrapSM\">\\r\\n\\t\\t\\t\\t\\t\\t<div class=\"fx acen\" style=\"padding: 10px 0; line-height: 18px;\">\\r\\n\\t\\t\\t\\t\\t\\t\\t<img src=\"/images/icons/winning-tickets.svg\" alt=\"Icon\" loading=\"lazy\" width=\"50\" height=\"50\" style=\"margin-right: 8px;\">\\r\\n\\t\\t\\t\\t\\t\\t\\t<div>\\r\\n\\t\\t\\t\\t\\t\\t\\t\\t<div class=\"title\">1,549,047</div>\\r\\n\\t\\t\\t\\t\\t\\t\\t\\tTickets won a prize in this draw.\\r\\n\\t\\t\\t\\t\\t\\t\\t</div>\\r\\n\\t\\t\\t\\t\\t\\t</div>\\r\\n\\t\\t\\t\\t\\t\\t<div class=\"fx acen\" style=\"padding: 10px 0; line-height: 18px;\">\\r\\n\\t\\t\\t\\t\\t\\t\\t<img src=\"/images/icons/total-tickets.svg\" alt=\"Icon\" loading=\"lazy\" width=\"50\" height=\"50\" style=\"margin-right: 8px;\">\\r\\n\\t\\t\\t\\t\\t\\t\\t<div>\\r\\n\\t\\t\\t\\t\\t\\t\\t\\t<div class=\"title\">20,316,837</div>\\r\\n\\t\\t\\t\\t\\t\\t\\t\\tEntries were purchased for this draw.\\r\\n\\t\\t\\t\\t\\t\\t\\t</div>\\r\\n\\t\\t\\t\\t\\t\\t</div>\\r\\n\\t\\t\\t\\t\\t\\t<div class=\"fx acen\" style=\"padding: 10px 0; line-height: 18px;\">\\r\\n\\t\\t\\t\\t\\t\\t\\t<img src=\"/images/icons/winner-odds.svg\" alt=\"Icon\" loading=\"lazy\" width=\"50\" height=\"50\" style=\"margin-right: 8px;\">\\r\\n\\t\\t\\t\\t\\t\\t\\t<div>\\r\\n\\t\\t\\t\\t\\t\\t\\t\\t\\r\\n\\t\\t\\t\\t\\t\\t\\t\\t<div class=\"title\">Win Ratio 76 in 1,000</div>\\r\\n\\t\\t\\t\\t\\t\\t\\t\\tFor every 1,000 tickets bought, 76 won a prize.\\r\\n\\t\\t\\t\\t\\t\\t\\t</div>\\r\\n\\t\\t\\t\\t\\t\\t</div>\\r\\n\\t\\t\\t\\t\\t</div>\\r\\n\\t\\t\\t\\t\\r\\n\\t\\t\\t\\r\\n\\t\\t</div>\\r\\n\\r\\n\\t\\r\\n\\t\\r\\n\\t\\t<div class=\"box\" id=\"associated-draw-results\">\\r\\n\\t\\t\\r\\n\\t\\t\\t\\r\\n\\t\\t\\t\\r\\n\\t\\t\\t<div class=\"fx btwn acen wrapSM\">\\r\\n\\t\\t\\t\\t<h2 style=\"margin-bottom: 0;\">Associated Draws for Tuesday 29<sup>th</sup> April</h2>\\r\\n\\t\\t\\t\\t<div class=\"nowrap\" style=\"padding: 10px 0;\">\\r\\n\\t\\t\\t\\t\\t<span style=\"font-size: 0.8em;\">Change Country:</span>\\r\\n\\t\\t\\t\\t\\t<div class=\"dropdown\">\\r\\n\\t\\t\\t\\t\\t\\t<span>\\r\\n\\t\\t\\t\\t\\t\\t\\t<img src=\"/images/flags/be.svg\" alt=\"Flag\" width=\"28\" height=\"28\" loading=\"lazy\"> Belgium\\r\\n\\t\\t\\t\\t\\t\\t</span>\\r\\n\\t\\t\\t\\t\\t\\t<ul class=\"tabs\">\\r\\n\\t\\t\\t\\t\\t\\t\\t\\r\\n\\t\\t\\t\\t\\t\\t\\t\\t<li><a href=\"#DrawAT\"><img src=\"/images/flags/at.svg\" alt=\"Flag\" width=\"28\" height=\"28\" loading=\"lazy\"> Austria</a></li>\\r\\n\\t\\t\\t\\t\\t\\t\\t\\r\\n\\t\\t\\t\\t\\t\\t\\t\\t<li><a href=\"#DrawBE\" class=\"active\"><img src=\"/images/flags/be.svg\" alt=\"Flag\" width=\"28\" height=\"28\" loading=\"lazy\"> Belgium</a></li>\\r\\n\\t\\t\\t\\t\\t\\t\\t\\r\\n\\t\\t\\t\\t\\t\\t\\t\\t<li><a href=\"#DrawFR\"><img src=\"/images/flags/fr.svg\" alt=\"Flag\" width=\"28\" height=\"28\" loading=\"lazy\"> France</a></li>\\r\\n\\t\\t\\t\\t\\t\\t\\t\\r\\n\\t\\t\\t\\t\\t\\t\\t\\t<li><a href=\"#DrawIE\"><img src=\"/images/flags/ie.svg\" alt=\"Flag\" width=\"28\" height=\"28\" loading=\"lazy\"> Ireland</a></li>\\r\\n\\t\\t\\t\\t\\t\\t\\t\\r\\n\\t\\t\\t\\t\\t\\t\\t\\t<li><a href=\"#DrawLU\"><img src=\"/images/flags/lu.svg\" alt=\"Flag\" width=\"28\" height=\"28\" loading=\"lazy\"> Luxembourg</a></li>\\r\\n\\t\\t\\t\\t\\t\\t\\t\\r\\n\\t\\t\\t\\t\\t\\t\\t\\t<li><a href=\"#DrawES\"><img src=\"/images/flags/es.svg\" alt=\"Flag\" width=\"28\" height=\"28\" loading=\"lazy\"> Spain</a></li>\\r\\n\\t\\t\\t\\t\\t\\t\\t\\r\\n\\t\\t\\t\\t\\t\\t\\t\\t<li><a href=\"#DrawCH\"><img src=\"/images/flags/ch.svg\" alt=\"Flag\" width=\"28\" height=\"28\" loading=\"lazy\"> Switzerland</a></li>\\r\\n\\t\\t\\t\\t\\t\\t\\t\\r\\n\\t\\t\\t\\t\\t\\t\\t\\t<li><a href=\"#DrawGB\"><img src=\"/images/flags/gb.svg\" alt=\"Flag\" width=\"28\" height=\"28\" loading=\"lazy\"> UK</a></li>\\r\\n\\t\\t\\t\\t\\t\\t\\t\\r\\n\\t\\t\\t\\t\\t\\t</ul>\\r\\n\\t\\t\\t\\t\\t</div>\\r\\n\\t\\t\\t\\t</div>\\r\\n\\t\\t\\t</div>\\r\\n\\t\\t\\t\\r\\n\\t\\t\\t<div class=\"centred\">\\r\\n\\t\\t\\t\\r\\n\\t\\t\\t\\t\\r\\n\\t\\t\\t\\t\\t<div id=\"DrawGB\">\\r\\n\\t\\t\\t\\t\\t\\t\\r\\n\\t\\t\\t\\t\\t\\t<h3>UK Millionaire Maker Results</h3>\\r\\n\\t\\t\\t\\t\\t\\t<div class=\"raffleBox\">ZWMS 62356</div>\\r\\n\\r\\n\\t\\t\\t\\t\\t\\t<br><a href=\"/uk-millionaire-maker\" title=\"Read more about the UK Millionaire Maker draw\" class=\"link\">Read more about the UK Millionaire Maker draw</a>\\r\\n\\t\\t\\t\\t\\t\\t\\r\\n\\t\\t\\t\\t\\t\\t\\t<h3 id=\"hotPicks\">EuroMillions HotPicks Results</h3>\\r\\n\\t\\t\\t\\t\\t\\t\\t<ul class=\"balls\">\\r\\n<li class=\"resultBall ball ring\">2</li>\\r\\n<li class=\"resultBall ball ring\">9</li>\\r\\n<li class=\"resultBall ball ring\">24</li>\\r\\n<li class=\"resultBall ball ring\">30</li>\\r\\n<li class=\"resultBall ball ring\">41</li>\\r\\n</ul>\\r\\n\\r\\n\\t\\t\\t\\t\\t<table class=\"table breakdown mobFormat\">\\r\\n\\t\\t\\t\\t\\t\\t<thead>\\r\\n\\t\\t\\t\\t\\t\\t\\t<tr>\\r\\n\\t\\t\\t\\t\\t\\t\\t\\t<th class=\"lefty\">Prize Categories</th>\\r\\n\\t\\t\\t\\t\\t\\t\\t\\t<th class=\"righty\">Prize Per Winner</th>\\r\\n\\t\\t\\t\\t\\t\\t\\t\\t<th class=\"righty\">Winners</th>\\r\\n\\t\\t\\t\\t\\t\\t\\t\\t<th class=\"righty\">Prize Fund Amount</th>\\r\\n\\t\\t\\t\\t\\t\\t\\t</tr>\\r\\n\\t\\t\\t\\t\\t\\t</thead>\\r\\n\\t\\t\\t\\t\\t\\t<tbody><tr>\\r\\n\\t\\t\\t\\t\\t\\t\\t\\t\\t<td class=\"lefty colour\" data-title=\"Numbers Matched\">Match 5</td><td class=\"righty\" data-title=\"Prize Per Winner\">&pound;1,000,000.00</td>\\r\\n\\t\\t\\t\\t\\t\\t\\t\\t\\t\\t\\t<td class=\"righty\" data-title=\"Winners\">0</td>\\r\\n\\t\\t\\t\\t\\t\\t\\t\\t\\t\\t\\t<td class=\"righty\" data-title=\"Prize Fund Amount\">&pound;0.00</td></tr><tr>\\r\\n\\t\\t\\t\\t\\t\\t\\t\\t\\t<td class=\"lefty colour\" data-title=\"Numbers Matched\">Match 4</td><td class=\"righty\" data-title=\"Prize Per Winner\">&pound;30,000.00</td>\\r\\n\\t\\t\\t\\t\\t\\t\\t\\t\\t\\t\\t<td class=\"righty\" data-title=\"Winners\">0</td>\\r\\n\\t\\t\\t\\t\\t\\t\\t\\t\\t\\t\\t<td class=\"righty\" data-title=\"Prize Fund Amount\">&pound;0.00</td></tr><tr>\\r\\n\\t\\t\\t\\t\\t\\t\\t\\t\\t<td class=\"lefty colour\" data-title=\"Numbers Matched\">Match 3</td><td class=\"righty\" data-title=\"Prize Per Winner\">&pound;1,500.00</td>\\r\\n\\t\\t\\t\\t\\t\\t\\t\\t\\t\\t\\t<td class=\"righty\" data-title=\"Winners\">113</td>\\r\\n\\t\\t\\t\\t\\t\\t\\t\\t\\t\\t\\t<td class=\"righty\" data-title=\"Prize Fund Amount\">&pound;169,500.00</td></tr><tr>\\r\\n\\t\\t\\t\\t\\t\\t\\t\\t\\t<td class=\"lefty colour\" data-title=\"Numbers Matched\">Match 2</td><td class=\"righty\" data-title=\"Prize Per Winner\">&pound;100.00</td>\\r\\n\\t\\t\\t\\t\\t\\t\\t\\t\\t\\t\\t<td class=\"righty\" data-title=\"Winners\">1,433</td>\\r\\n\\t\\t\\t\\t\\t\\t\\t\\t\\t\\t\\t<td class=\"righty\" data-title=\"Prize Fund Amount\">&pound;143,300.00</td></tr><tr>\\r\\n\\t\\t\\t\\t\\t\\t\\t\\t\\t<td class=\"lefty colour\" data-title=\"Numbers Matched\">Match 1</td><td class=\"righty\" data-title=\"Prize Per Winner\">&pound;10.00</td>\\r\\n\\t\\t\\t\\t\\t\\t\\t\\t\\t\\t\\t<td class=\"righty\" data-title=\"Winners\">2,928</td>\\r\\n\\t\\t\\t\\t\\t\\t\\t\\t\\t\\t\\t<td class=\"righty\" data-title=\"Prize Fund Amount\">&pound;29,280.00</td></tr><tr class=\"totals\">\\r\\n\\t\\t\\t\\t\\t\\t\\t\\t\\t<td class=\"lefty colour\" data-title=\"Numbers Matched\">Totals</td><td class=\"righty\" data-title=\"Prize Per Winner\">-</td>\\r\\n\\t\\t\\t\\t\\t\\t\\t\\t\\t\\t\\t<td class=\"righty\" data-title=\"Winners\">4,474</td>\\r\\n\\t\\t\\t\\t\\t\\t\\t\\t\\t\\t\\t<td class=\"righty\" data-title=\"Prize Fund Amount\">&pound;342,080.00</td></tr></tbody>\\r\\n\\t\\t\\t\\t\\t</table>\\r\\n\\t\\t\\t\\t\\t\\t\\t<br><a href=\"/hotpicks\" title=\"Read more about the EuroMillions HotPicks draw\" class=\"link\">Read more about the EuroMillions HotPicks draw</a>\\r\\n\\t\\t\\t\\t\\t\\t\\r\\n\\t\\t\\t\\t\\t</div>\\r\\n\\t\\t\\t\\t\\r\\n\\t\\t\\t\\t\\t<div id=\"DrawIE\">\\r\\n\\t\\t\\t\\t\\t\\t\\r\\n\\t\\t\\t\\t\\t\\t\\t<h3>Irish Raffle Results</h3>\\r\\n\\t\\t\\t\\t\\t\\t\\t<p>To make checking your Irish Raffle codes easier we have created an automatic <a href=\"/results-checker#raffle\" title=\"EuroMillions Irish Raffle Ticket Checker\">Irish Raffle checker</a></p><h4 style=\"padding-top:10px\">10 Irish Raffle Codes:</h4><div class=\"raffleBox\">I-RZP-07079</div>\\r\\n<div class=\"raffleBox\">I-RZP-14475</div>\\r\\n<div class=\"raffleBox\">I-RZP-47198</div>\\r\\n<div class=\"raffleBox\">I-RZP-69212</div>\\r\\n<div class=\"raffleBox\">I-RZP-84777</div>\\r\\n<div class=\"raffleBox\">I-RZQ-16425</div>\\r\\n<div class=\"raffleBox\">I-RZQ-70979</div>\\r\\n<div class=\"raffleBox\">I-RZQ-92961</div>\\r\\n<div class=\"raffleBox\">I-RZS-76098</div>\\r\\n<div class=\"raffleBox\">I-RZT-01213</div>\\r\\n\\r\\n\\t\\t\\t\\t\\t\\t\\t\\r\\n\\t\\t\\t\\t\\t\\t\\t\\r\\n\\t\\t\\t\\t\\t\\t\\r\\n\\t\\t\\t\\t\\t\\t<h3>EuroMillions Plus Results</h3>\\r\\n\\t\\t\\t\\t\\t\\t<ul class=\"balls\">\\r\\n<li class=\"resultBall ball ring\">5</li>\\r\\n<li class=\"resultBall ball ring\">25</li>\\r\\n<li class=\"resultBall ball ring\">28</li>\\r\\n<li class=\"resultBall ball ring\">35</li>\\r\\n<li class=\"resultBall ball ring\">49</li>\\r\\n</ul>\\r\\n\\r\\n\\t\\t\\t\\t\\t<table class=\"table breakdown mobFormat\">\\r\\n\\t\\t\\t\\t\\t\\t<thead>\\r\\n\\t\\t\\t\\t\\t\\t\\t<tr>\\r\\n\\t\\t\\t\\t\\t\\t\\t\\t<th class=\"lefty\">Prize Categories</th>\\r\\n\\t\\t\\t\\t\\t\\t\\t\\t<th class=\"righty\">Prize Per Winner</th>\\r\\n\\t\\t\\t\\t\\t\\t\\t\\t<th class=\"righty\">Winners</th>\\r\\n\\t\\t\\t\\t\\t\\t\\t\\t<th class=\"righty\">Prize Fund Amount</th>\\r\\n\\t\\t\\t\\t\\t\\t\\t</tr>\\r\\n\\t\\t\\t\\t\\t\\t</thead>\\r\\n\\t\\t\\t\\t\\t\\t<tbody><tr>\\r\\n\\t\\t\\t\\t\\t\\t\\t\\t\\t<td class=\"lefty colour\" data-title=\"Numbers Matched\">Match 5</td><td class=\"righty\" data-title=\"Prize Per Winner\">&euro;500,000.00</td>\\r\\n\\t\\t\\t\\t\\t\\t\\t\\t\\t\\t\\t<td class=\"righty\" data-title=\"Winners\">1</td>\\r\\n\\t\\t\\t\\t\\t\\t\\t\\t\\t\\t\\t<td class=\"righty\" data-title=\"Prize Fund Amount\">&euro;500,000.00</td></tr><tr>\\r\\n\\t\\t\\t\\t\\t\\t\\t\\t\\t<td class=\"lefty colour\" data-title=\"Numbers Matched\">Match 4</td><td class=\"righty\" data-title=\"Prize Per Winner\">&euro;2,000.00</td>\\r\\n\\t\\t\\t\\t\\t\\t\\t\\t\\t\\t\\t<td class=\"righty\" data-title=\"Winners\">43</td>\\r\\n\\t\\t\\t\\t\\t\\t\\t\\t\\t\\t\\t<td class=\"righty\" data-title=\"Prize Fund Amount\">&euro;86,000.00</td></tr><tr>\\r\\n\\t\\t\\t\\t\\t\\t\\t\\t\\t<td class=\"lefty colour\" data-title=\"Numbers Matched\">Match 3</td><td class=\"righty\" data-title=\"Prize Per Winner\">&euro;20.00</td>\\r\\n\\t\\t\\t\\t\\t\\t\\t\\t\\t\\t\\t<td class=\"righty\" data-title=\"Winners\">1,996</td>\\r\\n\\t\\t\\t\\t\\t\\t\\t\\t\\t\\t\\t<td class=\"righty\" data-title=\"Prize Fund Amount\">&euro;39,920.00</td></tr><tr class=\"totals\">\\r\\n\\t\\t\\t\\t\\t\\t\\t\\t\\t<td class=\"lefty colour\" data-title=\"Numbers Matched\">Totals</td><td class=\"righty\" data-title=\"Prize Per Winner\">-</td>\\r\\n\\t\\t\\t\\t\\t\\t\\t\\t\\t\\t\\t<td class=\"righty\" data-title=\"Winners\">2,040</td>\\r\\n\\t\\t\\t\\t\\t\\t\\t\\t\\t\\t\\t<td class=\"righty\" data-title=\"Prize Fund Amount\">&euro;625,920.00</td></tr></tbody>\\r\\n\\t\\t\\t\\t\\t</table>\\r\\n\\t\\t\\t\\t\\t\\t<br><a href=\"/euromillions-plus\" title=\"Read more about the EuroMillions Plus draw\" class=\"link\">Read more about the EuroMillions Plus draw</a>\\r\\n\\t\\t\\t\\t\\t</div>\\r\\n\\t\\t\\t\\t\\r\\n\\t\\t\\t\\t\\t<div id=\"DrawFR\">\\r\\n\\t\\t\\t\\t\\t\\t<h3>My Million Results</h3>\\r\\n\\t\\t\\t\\t\\t\\t<div class=\"raffleBox\">DN 431 1820</div>\\r\\n\\r\\n\\t\\t\\t\\t\\t\\t<br><a href=\"/my-million\" title=\"Read more about the My Million draw\" class=\"link\">Read more about the My Million draw</a>\\r\\n\\t\\t\\t\\t\\t</div>\\r\\n\\t\\t\\t\\t\\r\\n\\t\\t\\t\\t\\t<div id=\"DrawES\">\\r\\n\\t\\t\\t\\t\\t\\t<h3>El Millón Results</h3>\\r\\n\\t\\t\\t\\t\\t\\t<div class=\"raffleBox\">NQJ 85110</div>\\r\\n\\r\\n\\t\\t\\t\\t\\t\\t<br><a href=\"/el-millon\" title=\"Read more about the El Millón draw\" class=\"link\">Read more about the El Millón draw</a>\\r\\n\\t\\t\\t\\t\\t</div>\\r\\n\\t\\t\\t\\t\\r\\n\\t\\t\\t\\t\\t<div id=\"DrawCH\">\\r\\n\\t\\t\\t\\t\\t\\t<h3 id=\"super-star\">Super Star Results</h3>\\r\\n\\t\\t\\t\\t\\t\\t<div class=\"superStar\">M320M</div>\\r\\n\\r\\n\\t\\t\\t\\t\\t<table class=\"table breakdown mobFormat\">\\r\\n\\t\\t\\t\\t\\t\\t<thead>\\r\\n\\t\\t\\t\\t\\t\\t\\t<tr>\\r\\n\\t\\t\\t\\t\\t\\t\\t\\t<th class=\"lefty\">Prize Categories</th>\\r\\n\\t\\t\\t\\t\\t\\t\\t\\t<th class=\"righty\">Prize Per Winner</th>\\r\\n\\t\\t\\t\\t\\t\\t\\t\\t<th class=\"righty\">Winners</th>\\r\\n\\t\\t\\t\\t\\t\\t\\t\\t<th class=\"righty\">Prize Fund Amount</th>\\r\\n\\t\\t\\t\\t\\t\\t\\t</tr>\\r\\n\\t\\t\\t\\t\\t\\t</thead>\\r\\n\\t\\t\\t\\t\\t\\t<tbody><tr>\\r\\n\\t\\t\\t\\t\\t\\t\\t\\t\\t<td class=\"lefty colour\" data-title=\"Numbers Matched\">Match 5 in Exact Order</td><td class=\"righty\" data-title=\"Prize Per Winner\">CHF0.00</td>\\r\\n\\t\\t\\t\\t\\t\\t\\t\\t\\t\\t\\t<td class=\"righty\" data-title=\"Winners\">0</td>\\r\\n\\t\\t\\t\\t\\t\\t\\t\\t\\t\\t\\t<td class=\"righty\" data-title=\"Prize Fund Amount\">CHF0.00</td></tr><tr>\\r\\n\\t\\t\\t\\t\\t\\t\\t\\t\\t<td class=\"lefty colour\" data-title=\"Numbers Matched\">Match First 2 + Last 2</td><td class=\"righty\" data-title=\"Prize Per Winner\">CHF2,100.10</td>\\r\\n\\t\\t\\t\\t\\t\\t\\t\\t\\t\\t\\t<td class=\"righty\" data-title=\"Winners\">5</td>\\r\\n\\t\\t\\t\\t\\t\\t\\t\\t\\t\\t\\t<td class=\"righty\" data-title=\"Prize Fund Amount\">CHF10,500.50</td></tr><tr>\\r\\n\\t\\t\\t\\t\\t\\t\\t\\t\\t<td class=\"lefty colour\" data-title=\"Numbers Matched\">Match First 3 + Last 1 or First 1 + Last 3</td><td class=\"righty\" data-title=\"Prize Per Winner\">CHF875.05</td>\\r\\n\\t\\t\\t\\t\\t\\t\\t\\t\\t\\t\\t<td class=\"righty\" data-title=\"Winners\">10</td>\\r\\n\\t\\t\\t\\t\\t\\t\\t\\t\\t\\t\\t<td class=\"righty\" data-title=\"Prize Fund Amount\">CHF8,750.50</td></tr><tr>\\r\\n\\t\\t\\t\\t\\t\\t\\t\\t\\t<td class=\"lefty colour\" data-title=\"Numbers Matched\">Match First 4 or Last 4</td><td class=\"righty\" data-title=\"Prize Per Winner\">CHF612.55</td>\\r\\n\\t\\t\\t\\t\\t\\t\\t\\t\\t\\t\\t<td class=\"righty\" data-title=\"Winners\">20</td>\\r\\n\\t\\t\\t\\t\\t\\t\\t\\t\\t\\t\\t<td class=\"righty\" data-title=\"Prize Fund Amount\">CHF12,251.00</td></tr><tr>\\r\\n\\t\\t\\t\\t\\t\\t\\t\\t\\t<td class=\"lefty colour\" data-title=\"Numbers Matched\">Match First 2 + Last 1 or First 1 + Last 2</td><td class=\"righty\" data-title=\"Prize Per Winner\">CHF194.45</td>\\r\\n\\t\\t\\t\\t\\t\\t\\t\\t\\t\\t\\t<td class=\"righty\" data-title=\"Winners\">54</td>\\r\\n\\t\\t\\t\\t\\t\\t\\t\\t\\t\\t\\t<td class=\"righty\" data-title=\"Prize Fund Amount\">CHF10,500.30</td></tr><tr>\\r\\n\\t\\t\\t\\t\\t\\t\\t\\t\\t<td class=\"lefty colour\" data-title=\"Numbers Matched\">Match First 3 or Last 3</td><td class=\"righty\" data-title=\"Prize Per Winner\">CHF53.25</td>\\r\\n\\t\\t\\t\\t\\t\\t\\t\\t\\t\\t\\t<td class=\"righty\" data-title=\"Winners\">107</td>\\r\\n\\t\\t\\t\\t\\t\\t\\t\\t\\t\\t\\t<td class=\"righty\" data-title=\"Prize Fund Amount\">CHF5,697.75</td></tr><tr>\\r\\n\\t\\t\\t\\t\\t\\t\\t\\t\\t<td class=\"lefty colour\" data-title=\"Numbers Matched\">Match First 1 + Last 1</td><td class=\"righty\" data-title=\"Prize Per Winner\">CHF16.70</td>\\r\\n\\t\\t\\t\\t\\t\\t\\t\\t\\t\\t\\t<td class=\"righty\" data-title=\"Winners\">236</td>\\r\\n\\t\\t\\t\\t\\t\\t\\t\\t\\t\\t\\t<td class=\"righty\" data-title=\"Prize Fund Amount\">CHF3,941.20</td></tr><tr>\\r\\n\\t\\t\\t\\t\\t\\t\\t\\t\\t<td class=\"lefty colour\" data-title=\"Numbers Matched\">Match First 2 or Last 2</td><td class=\"righty\" data-title=\"Prize Per Winner\">CHF10.10</td>\\r\\n\\t\\t\\t\\t\\t\\t\\t\\t\\t\\t\\t<td class=\"righty\" data-title=\"Winners\">1,126</td>\\r\\n\\t\\t\\t\\t\\t\\t\\t\\t\\t\\t\\t<td class=\"righty\" data-title=\"Prize Fund Amount\">CHF11,372.60</td></tr><tr>\\r\\n\\t\\t\\t\\t\\t\\t\\t\\t\\t<td class=\"lefty colour\" data-title=\"Numbers Matched\">Match First 1 or Last 1</td><td class=\"righty\" data-title=\"Prize Per Winner\">CHF3.95</td>\\r\\n\\t\\t\\t\\t\\t\\t\\t\\t\\t\\t\\t<td class=\"righty\" data-title=\"Winners\">11,122</td>\\r\\n\\t\\t\\t\\t\\t\\t\\t\\t\\t\\t\\t<td class=\"righty\" data-title=\"Prize Fund Amount\">CHF43,931.90</td></tr><tr class=\"totals\">\\r\\n\\t\\t\\t\\t\\t\\t\\t\\t\\t<td class=\"lefty colour\" data-title=\"Numbers Matched\">Totals</td><td class=\"righty\" data-title=\"Prize Per Winner\">-</td>\\r\\n\\t\\t\\t\\t\\t\\t\\t\\t\\t\\t\\t<td class=\"righty\" data-title=\"Winners\">12,680</td>\\r\\n\\t\\t\\t\\t\\t\\t\\t\\t\\t\\t\\t<td class=\"righty\" data-title=\"Prize Fund Amount\">CHF106,945.75</td></tr></tbody>\\r\\n\\t\\t\\t\\t\\t</table>\\r\\n\\t\\t\\t\\t\\t\\t<br><a href=\"/super-star\" title=\"Read more about the Super Star draw\" class=\"link\">Read more about the Super Star draw</a>\\r\\n\\t\\t\\t\\t\\t\\t\\r\\n\\t\\t\\t\\t\\t\\t\\t<h3 id=\"second-chance\">Second Chance Results</h3>\\r\\n\\t\\t\\t\\t\\t\\t\\t<ul class=\"balls\">\\r\\n<li class=\"resultBall ball ring\">2</li>\\r\\n<li class=\"resultBall ball ring\">8</li>\\r\\n<li class=\"resultBall ball ring\">37</li>\\r\\n<li class=\"resultBall ball ring\">44</li>\\r\\n<li class=\"resultBall ball ring\">49</li>\\r\\n</ul>\\r\\n\\r\\n\\t\\t\\t\\t\\t<table class=\"table breakdown mobFormat\">\\r\\n\\t\\t\\t\\t\\t\\t<thead>\\r\\n\\t\\t\\t\\t\\t\\t\\t<tr>\\r\\n\\t\\t\\t\\t\\t\\t\\t\\t<th class=\"lefty\">Prize Categories</th>\\r\\n\\t\\t\\t\\t\\t\\t\\t\\t<th class=\"righty\">Prize Per Winner</th>\\r\\n\\t\\t\\t\\t\\t\\t\\t\\t<th class=\"righty\">Winners</th>\\r\\n\\t\\t\\t\\t\\t\\t\\t\\t<th class=\"righty\">Prize Fund Amount</th>\\r\\n\\t\\t\\t\\t\\t\\t\\t</tr>\\r\\n\\t\\t\\t\\t\\t\\t</thead>\\r\\n\\t\\t\\t\\t\\t\\t<tbody><tr>\\r\\n\\t\\t\\t\\t\\t\\t\\t\\t\\t<td class=\"lefty colour\" data-title=\"Numbers Matched\">Match 5</td><td class=\"righty\" data-title=\"Prize Per Winner\">CHF108,803.35</td>\\r\\n\\t\\t\\t\\t\\t\\t\\t\\t\\t\\t\\t<td class=\"righty\" data-title=\"Winners\">1</td>\\r\\n\\t\\t\\t\\t\\t\\t\\t\\t\\t\\t\\t<td class=\"righty\" data-title=\"Prize Fund Amount\">CHF108,803.35</td></tr><tr>\\r\\n\\t\\t\\t\\t\\t\\t\\t\\t\\t<td class=\"lefty colour\" data-title=\"Numbers Matched\">Match 4</td><td class=\"righty\" data-title=\"Prize Per Winner\">CHF610.65</td>\\r\\n\\t\\t\\t\\t\\t\\t\\t\\t\\t\\t\\t<td class=\"righty\" data-title=\"Winners\">112</td>\\r\\n\\t\\t\\t\\t\\t\\t\\t\\t\\t\\t\\t<td class=\"righty\" data-title=\"Prize Fund Amount\">CHF68,392.80</td></tr><tr>\\r\\n\\t\\t\\t\\t\\t\\t\\t\\t\\t<td class=\"lefty colour\" data-title=\"Numbers Matched\">Match 3</td><td class=\"righty\" data-title=\"Prize Per Winner\">CHF24.10</td>\\r\\n\\t\\t\\t\\t\\t\\t\\t\\t\\t\\t\\t<td class=\"righty\" data-title=\"Winners\">5,549</td>\\r\\n\\t\\t\\t\\t\\t\\t\\t\\t\\t\\t\\t<td class=\"righty\" data-title=\"Prize Fund Amount\">CHF133,730.90</td></tr><tr class=\"totals\">\\r\\n\\t\\t\\t\\t\\t\\t\\t\\t\\t<td class=\"lefty colour\" data-title=\"Numbers Matched\">Totals</td><td class=\"righty\" data-title=\"Prize Per Winner\">-</td>\\r\\n\\t\\t\\t\\t\\t\\t\\t\\t\\t\\t\\t<td class=\"righty\" data-title=\"Winners\">5,662</td>\\r\\n\\t\\t\\t\\t\\t\\t\\t\\t\\t\\t\\t<td class=\"righty\" data-title=\"Prize Fund Amount\">CHF310,927.05</td></tr></tbody>\\r\\n\\t\\t\\t\\t\\t</table>\\r\\n\\t\\t\\t\\t\\t\\t\\t<br><a href=\"/2-chance\" title=\"Read more about the 2 Chance draw\" class=\"link\">Read more about the 2 Chance draw</a>\\r\\n\\t\\t\\t\\t\\t\\t\\r\\n\\t\\t\\t\\t\\t</div>\\r\\n\\t\\t\\t\\t\\r\\n\\t\\t\\t\\t\\t<div id=\"DrawBE\">\\r\\n\\t\\t\\t\\t\\t\\t<h3 id=\"belgium-joker\">Belgium Joker+ Results</h3>\\r\\n\\t\\t\\t\\t\\t\\t<ul class=\"balls\">\\r\\n<li class=\"joker\">1</li>\\r\\n<li class=\"joker\">9</li>\\r\\n<li class=\"joker\">1</li>\\r\\n<li class=\"joker\">4</li>\\r\\n<li class=\"joker\">7</li>\\r\\n<li class=\"joker\">2</li>\\r\\n\\r\\n\\t\\t\\t\\t\\t\\t\\t\\t<li class=\"constellation\">\\r\\n\\t\\t\\t\\t\\t\\t\\t\\t\\t<span class=\"fx acen jcen\">\\r\\n\\t\\t\\t\\t\\t\\t\\t\\t\\t\\t<img src=\"/images/icons/zodiac/boogschutter.svg\" alt=\"Icon\" width=\"70\" height=\"70\" loading=\"lazy\" style=\"margin-right: 5px; padding-top: 5px; padding-bottom: 5px;\">\\r\\n\\t\\t\\t\\t\\t\\t\\t\\t\\t\\t<span>\\r\\n\\t\\t\\t\\t\\t\\t\\t\\t\\t\\t\\t<span style=\"font-size: 12px;\">Constellation:</span><br>\\r\\n\\t\\t\\t\\t\\t\\t\\t\\t\\t\\t\\t<strong style=\"font-size: 18px\">Boogschutter</strong>\\r\\n\\t\\t\\t\\t\\t\\t\\t\\t\\t\\t</span>\\r\\n\\t\\t\\t\\t\\t\\t\\t\\t\\t</span>\\r\\n\\t\\t\\t\\t\\t\\t\\t\\t</li>\\r\\n</ul>\\r\\n\\r\\n\\t\\t\\t\\t\\t<table class=\"table breakdown mobFormat\">\\r\\n\\t\\t\\t\\t\\t\\t<thead>\\r\\n\\t\\t\\t\\t\\t\\t\\t<tr>\\r\\n\\t\\t\\t\\t\\t\\t\\t\\t<th class=\"lefty\">Prize Categories</th>\\r\\n\\t\\t\\t\\t\\t\\t\\t\\t<th class=\"righty\">Prize Per Winner</th>\\r\\n\\t\\t\\t\\t\\t\\t\\t\\t<th class=\"righty\">Winners</th>\\r\\n\\t\\t\\t\\t\\t\\t\\t\\t<th class=\"righty\">Prize Fund Amount</th>\\r\\n\\t\\t\\t\\t\\t\\t\\t</tr>\\r\\n\\t\\t\\t\\t\\t\\t</thead>\\r\\n\\t\\t\\t\\t\\t\\t<tbody><tr>\\r\\n\\t\\t\\t\\t\\t\\t\\t\\t\\t<td class=\"lefty colour\" data-title=\"Numbers Matched\">Match 6 plus Constellation</td><td class=\"righty\" data-title=\"Prize Per Winner\">&euro;800,000.00</td>\\r\\n\\t\\t\\t\\t\\t\\t\\t\\t\\t\\t\\t<td class=\"righty\" data-title=\"Winners\">0</td>\\r\\n\\t\\t\\t\\t\\t\\t\\t\\t\\t\\t\\t<td class=\"righty\" data-title=\"Prize Fund Amount\">&euro;0.00</td></tr><tr>\\r\\n\\t\\t\\t\\t\\t\\t\\t\\t\\t<td class=\"lefty colour\" data-title=\"Numbers Matched\">Match 6</td><td class=\"righty\" data-title=\"Prize Per Winner\">&euro;20,000.00</td>\\r\\n\\t\\t\\t\\t\\t\\t\\t\\t\\t\\t\\t<td class=\"righty\" data-title=\"Winners\">0</td>\\r\\n\\t\\t\\t\\t\\t\\t\\t\\t\\t\\t\\t<td class=\"righty\" data-title=\"Prize Fund Amount\">&euro;0.00</td></tr><tr>\\r\\n\\t\\t\\t\\t\\t\\t\\t\\t\\t<td class=\"lefty colour\" data-title=\"Numbers Matched\">Match 5</td><td class=\"righty\" data-title=\"Prize Per Winner\">&euro;2,000.00</td>\\r\\n\\t\\t\\t\\t\\t\\t\\t\\t\\t\\t\\t<td class=\"righty\" data-title=\"Winners\">3</td>\\r\\n\\t\\t\\t\\t\\t\\t\\t\\t\\t\\t\\t<td class=\"righty\" data-title=\"Prize Fund Amount\">&euro;6,000.00</td></tr><tr>\\r\\n\\t\\t\\t\\t\\t\\t\\t\\t\\t<td class=\"lefty colour\" data-title=\"Numbers Matched\">Match 4</td><td class=\"righty\" data-title=\"Prize Per Winner\">&euro;200.00</td>\\r\\n\\t\\t\\t\\t\\t\\t\\t\\t\\t\\t\\t<td class=\"righty\" data-title=\"Winners\">29</td>\\r\\n\\t\\t\\t\\t\\t\\t\\t\\t\\t\\t\\t<td class=\"righty\" data-title=\"Prize Fund Amount\">&euro;5,800.00</td></tr><tr>\\r\\n\\t\\t\\t\\t\\t\\t\\t\\t\\t<td class=\"lefty colour\" data-title=\"Numbers Matched\">Match 3</td><td class=\"righty\" data-title=\"Prize Per Winner\">&euro;20.00</td>\\r\\n\\t\\t\\t\\t\\t\\t\\t\\t\\t\\t\\t<td class=\"righty\" data-title=\"Winners\">279</td>\\r\\n\\t\\t\\t\\t\\t\\t\\t\\t\\t\\t\\t<td class=\"righty\" data-title=\"Prize Fund Amount\">&euro;5,580.00</td></tr><tr>\\r\\n\\t\\t\\t\\t\\t\\t\\t\\t\\t<td class=\"lefty colour\" data-title=\"Numbers Matched\">Match 2</td><td class=\"righty\" data-title=\"Prize Per Winner\">&euro;5.00</td>\\r\\n\\t\\t\\t\\t\\t\\t\\t\\t\\t\\t\\t<td class=\"righty\" data-title=\"Winners\">2,751</td>\\r\\n\\t\\t\\t\\t\\t\\t\\t\\t\\t\\t\\t<td class=\"righty\" data-title=\"Prize Fund Amount\">&euro;13,755.00</td></tr><tr>\\r\\n\\t\\t\\t\\t\\t\\t\\t\\t\\t<td class=\"lefty colour\" data-title=\"Numbers Matched\">Match 1</td><td class=\"righty\" data-title=\"Prize Per Winner\">&euro;2.00</td>\\r\\n\\t\\t\\t\\t\\t\\t\\t\\t\\t\\t\\t<td class=\"righty\" data-title=\"Winners\">27,031</td>\\r\\n\\t\\t\\t\\t\\t\\t\\t\\t\\t\\t\\t<td class=\"righty\" data-title=\"Prize Fund Amount\">&euro;54,062.00</td></tr><tr>\\r\\n\\t\\t\\t\\t\\t\\t\\t\\t\\t<td class=\"lefty colour\" data-title=\"Numbers Matched\">Constellation</td><td class=\"righty\" data-title=\"Prize Per Winner\">&euro;1.50</td>\\r\\n\\t\\t\\t\\t\\t\\t\\t\\t\\t\\t\\t<td class=\"righty\" data-title=\"Winners\">11,764</td>\\r\\n\\t\\t\\t\\t\\t\\t\\t\\t\\t\\t\\t<td class=\"righty\" data-title=\"Prize Fund Amount\">&euro;17,646.00</td></tr><tr class=\"totals\">\\r\\n\\t\\t\\t\\t\\t\\t\\t\\t\\t<td class=\"lefty colour\" data-title=\"Numbers Matched\">Totals</td><td class=\"righty\" data-title=\"Prize Per Winner\">-</td>\\r\\n\\t\\t\\t\\t\\t\\t\\t\\t\\t\\t\\t<td class=\"righty\" data-title=\"Winners\">41,857</td>\\r\\n\\t\\t\\t\\t\\t\\t\\t\\t\\t\\t\\t<td class=\"righty\" data-title=\"Prize Fund Amount\">&euro;102,843.00</td></tr></tbody>\\r\\n\\t\\t\\t\\t\\t</table>\\r\\n\\t\\t\\t\\t\\t\\t<br><a href=\"/belgium-joker\" title=\"Read more about the Belgium Joker+ draw\" class=\"link\">Read more about the Belgium Joker+ draw</a>\\r\\n\\t\\t\\t\\t\\t\\t\\r\\n\\t\\t\\t\\t\\t\\t\\t<h3>My Bonus Results</h3>\\r\\n\\t\\t\\t\\t\\t\\t\\t\\r\\n\\t\\t\\t\\t\\t\\t\\t\\r\\n\\t\\t\\t\\t\\t\\t\\t\\r\\n\\t\\t\\t\\t\\t\\t\\t<p>To make checking your My Bonus &euro;500 codes easier we have created an automatic <a href=\"/results-checker#raffle\" title=\"EuroMillions My Bonus &euro;500 Ticket Checker\">My Bonus &euro;500 checker</a></p><h4 style=\"padding-top:10px\">100 My Bonus &euro;500 Codes:</h4><div class=\"raffleBox\">BBPT 37485</div>\\r\\n<div class=\"raffleBox\">BBRX 67339</div>\\r\\n<div class=\"raffleBox\">BBSD 97672</div>\\r\\n<div class=\"raffleBox\">BBSH 86920</div>\\r\\n<div class=\"raffleBox\">BBSM 03039</div>\\r\\n<div class=\"raffleBox\">BBTJ 05654</div>\\r\\n<div class=\"raffleBox\">BBTJ 44748</div>\\r\\n<div class=\"raffleBox\">BBTL 23503</div>\\r\\n<div class=\"raffleBox\">BBTP 75788</div>\\r\\n<div class=\"raffleBox\">BBTQ 37424</div>\\r\\n<div class=\"raffleBox\">BBTQ 92274</div>\\r\\n<div class=\"raffleBox\">BBTV 29319</div>\\r\\n<div class=\"raffleBox\">BBVB 54137</div>\\r\\n<div class=\"raffleBox\">BBVJ 96677</div>\\r\\n<div class=\"raffleBox\">BBVK 44642</div>\\r\\n<div class=\"raffleBox\">BBVK 73453</div>\\r\\n<div class=\"raffleBox\">BBVK 76629</div>\\r\\n<div class=\"raffleBox\">BBVK 93335</div>\\r\\n<div class=\"raffleBox\">BBVL 00176</div>\\r\\n<div class=\"raffleBox\">BBVL 04016</div>\\r\\n<div class=\"raffleBox\">BBVL 04433</div>\\r\\n<div class=\"raffleBox\">BBVL 14190</div>\\r\\n<div class=\"raffleBox\">BBVL 35264</div>\\r\\n<div class=\"raffleBox\">BBVL 50803</div>\\r\\n<div class=\"raffleBox\">BBVL 53920</div>\\r\\n<div class=\"raffleBox\">BBVL 74140</div>\\r\\n<div class=\"raffleBox\">BBVL 77882</div>\\r\\n<div class=\"raffleBox\">BBVL 87479</div>\\r\\n<div class=\"raffleBox\">BBVL 98214</div>\\r\\n<div class=\"raffleBox\">BBVL 99558</div>\\r\\n<div class=\"raffleBox\">BBVM 14326</div>\\r\\n<div class=\"raffleBox\">BBVM 19491</div>\\r\\n<div class=\"raffleBox\">BBVM 29598</div>\\r\\n<div class=\"raffleBox\">BBVM 33895</div>\\r\\n<div class=\"raffleBox\">BBVM 44540</div>\\r\\n<div class=\"raffleBox\">BBVM 61926</div>\\r\\n<div class=\"raffleBox\">BBVM 65963</div>\\r\\n<div class=\"raffleBox\">BBVM 89255</div>\\r\\n<div class=\"raffleBox\">BBVM 89837</div>\\r\\n<div class=\"raffleBox\">BBVM 98330</div>\\r\\n<div class=\"raffleBox\">BBVN 28625</div>\\r\\n<div class=\"raffleBox\">BBVN 35560</div>\\r\\n<div class=\"raffleBox\">BBVN 88812</div>\\r\\n<div class=\"raffleBox\">BBVP 01804</div>\\r\\n<div class=\"raffleBox\">BBVP 62930</div>\\r\\n<div class=\"raffleBox\">BBVP 79042</div>\\r\\n<div class=\"raffleBox\">BBVQ 74169</div>\\r\\n<div class=\"raffleBox\">BBVQ 77605</div>\\r\\n<div class=\"raffleBox\">BBVQ 78074</div>\\r\\n<div class=\"raffleBox\">BBVQ 99313</div>\\r\\n<div class=\"raffleBox\">BBVR 37383</div>\\r\\n<div class=\"raffleBox\">BBVR 39238</div>\\r\\n<div class=\"raffleBox\">BBVR 40742</div>\\r\\n<div class=\"raffleBox\">BBVR 47911</div>\\r\\n<div class=\"raffleBox\">BBVR 49975</div>\\r\\n<div class=\"raffleBox\">BBVR 59424</div>\\r\\n<div class=\"raffleBox\">BBVR 61782</div>\\r\\n<div class=\"raffleBox\">BBVR 70292</div>\\r\\n<div class=\"raffleBox\">BBVR 80127</div>\\r\\n<div class=\"raffleBox\">BBVS 05820</div>\\r\\n<div class=\"raffleBox\">BBVS 23205</div>\\r\\n<div class=\"raffleBox\">BBVS 24682</div>\\r\\n<div class=\"raffleBox\">BBVS 49426</div>\\r\\n<div class=\"raffleBox\">BBVS 54722</div>\\r\\n<div class=\"raffleBox\">BBVS 54832</div>\\r\\n<div class=\"raffleBox\">BBVS 62787</div>\\r\\n<div class=\"raffleBox\">BBVS 96973</div>\\r\\n<div class=\"raffleBox\">BBVT 03026</div>\\r\\n<div class=\"raffleBox\">BBVT 26218</div>\\r\\n<div class=\"raffleBox\">BBVT 46145</div>\\r\\n<div class=\"raffleBox\">BBVT 92443</div>\\r\\n<div class=\"raffleBox\">BBVV 01988</div>\\r\\n<div class=\"raffleBox\">BBVV 12802</div>\\r\\n<div class=\"raffleBox\">BBVV 37330</div>\\r\\n<div class=\"raffleBox\">BBVV 41051</div>\\r\\n<div class=\"raffleBox\">BBVV 41440</div>\\r\\n<div class=\"raffleBox\">BBVV 43452</div>\\r\\n<div class=\"raffleBox\">BBVV 55755</div>\\r\\n<div class=\"raffleBox\">BBVW 11085</div>\\r\\n<div class=\"raffleBox\">BBVW 29825</div>\\r\\n<div class=\"raffleBox\">BBVW 47011</div>\\r\\n<div class=\"raffleBox\">BBVW 58554</div>\\r\\n<div class=\"raffleBox\">BBVW 63853</div>\\r\\n<div class=\"raffleBox\">BBVW 90059</div>\\r\\n<div class=\"raffleBox\">BBVX 01144</div>\\r\\n<div class=\"raffleBox\">BBVX 28179</div>\\r\\n<div class=\"raffleBox\">BBVX 33611</div>\\r\\n<div class=\"raffleBox\">BBVX 49917</div>\\r\\n<div class=\"raffleBox\">BBVX 60829</div>\\r\\n<div class=\"raffleBox\">BBVX 65375</div>\\r\\n<div class=\"raffleBox\">BBVX 66157</div>\\r\\n<div class=\"raffleBox\">BBVX 71966</div>\\r\\n<div class=\"raffleBox\">BBVX 84608</div>\\r\\n<div class=\"raffleBox\">BBVZ 02623</div>\\r\\n<div class=\"raffleBox\">BBVZ 14162</div>\\r\\n<div class=\"raffleBox\">BBVZ 14830</div>\\r\\n<div class=\"raffleBox\">BBVZ 34344</div>\\r\\n<div class=\"raffleBox\">BBVZ 37321</div>\\r\\n<div class=\"raffleBox\">BBVZ 52874</div>\\r\\n<div class=\"raffleBox\">BBVZ 52979</div>\\r\\n\\r\\n\\t\\t\\t\\t\\t\\t\\t<p>To make checking your My Bonus &euro;50 codes easier we have created an automatic <a href=\"/results-checker#raffle\" title=\"EuroMillions My Bonus &euro;50 Ticket Checker\">My Bonus &euro;50 checker</a></p><h4 style=\"padding-top:10px\">1,000 My Bonus &euro;50 Codes:</h4><div class=\"raffleBox\">BBLL 13333</div>\\r\\n<div class=\"raffleBox\">BBLP 05281</div>\\r\\n<div class=\"raffleBox\">BBLQ 64174</div>\\r\\n<div class=\"raffleBox\">BBLQ 97542</div>\\r\\n<div class=\"raffleBox\">BBLX 82576</div>\\r\\n<div class=\"raffleBox\">BBLZ 70028</div>\\r\\n<div class=\"raffleBox\">BBMS 65302</div>\\r\\n<div class=\"raffleBox\">BBMS 90279</div>\\r\\n<div class=\"raffleBox\">BBPC 83660</div>\\r\\n<div class=\"raffleBox\">BBPD 03856</div>\\r\\n<div class=\"raffleBox\">BBPD 60277</div>\\r\\n<div class=\"raffleBox\">BBPD 77382</div>\\r\\n<div class=\"raffleBox\">BBPF 41099</div>\\r\\n<div class=\"raffleBox\">BBPN 57499</div>\\r\\n<div class=\"raffleBox\">BBPN 76524</div>\\r\\n<div class=\"raffleBox\">BBPP 19167</div>\\r\\n<div class=\"raffleBox\">BBPQ 28818</div>\\r\\n<div class=\"raffleBox\">BBPQ 88424</div>\\r\\n<div class=\"raffleBox\">BBPR 44845</div>\\r\\n<div class=\"raffleBox\">BBPR 71671</div>\\r\\n<div class=\"raffleBox\">BBPV 41691</div>\\r\\n<div class=\"raffleBox\">BBQB 94849</div>\\r\\n<div class=\"raffleBox\">BBQG 46675</div>\\r\\n<div class=\"raffleBox\">BBQJ 12713</div>\\r\\n<div class=\"raffleBox\">BBQJ 64345</div>\\r\\n<div class=\"raffleBox\">BBQM 14398</div>\\r\\n<div class=\"raffleBox\">BBQN 15535</div>\\r\\n<div class=\"raffleBox\">BBQN 20604</div>\\r\\n<div class=\"raffleBox\">BBQN 39603</div>\\r\\n<div class=\"raffleBox\">BBQN 58947</div>\\r\\n<div class=\"raffleBox\">BBQP 76105</div>\\r\\n<div class=\"raffleBox\">BBQT 73097</div>\\r\\n<div class=\"raffleBox\">BBQT 86177</div>\\r\\n<div class=\"raffleBox\">BBQV 63838</div>\\r\\n<div class=\"raffleBox\">BBQV 66982</div>\\r\\n<div class=\"raffleBox\">BBQZ 38540</div>\\r\\n<div class=\"raffleBox\">BBRC 23133</div>\\r\\n<div class=\"raffleBox\">BBRC 90894</div>\\r\\n<div class=\"raffleBox\">BBRD 02743</div>\\r\\n<div class=\"raffleBox\">BBRD 76110</div>\\r\\n<div class=\"raffleBox\">BBRF 27371</div>\\r\\n<div class=\"raffleBox\">BBRJ 72564</div>\\r\\n<div class=\"raffleBox\">BBRN 12939</div>\\r\\n<div class=\"raffleBox\">BBRN 45739</div>\\r\\n<div class=\"raffleBox\">BBRP 00110</div>\\r\\n<div class=\"raffleBox\">BBRP 82683</div>\\r\\n<div class=\"raffleBox\">BBRP 86153</div>\\r\\n<div class=\"raffleBox\">BBRP 92128</div>\\r\\n<div class=\"raffleBox\">BBRR 40281</div>\\r\\n<div class=\"raffleBox\">BBRR 60281</div>\\r\\n<div class=\"raffleBox\">BBRS 21699</div>\\r\\n<div class=\"raffleBox\">BBRV 33058</div>\\r\\n<div class=\"raffleBox\">BBRV 40047</div>\\r\\n<div class=\"raffleBox\">BBRV 58072</div>\\r\\n<div class=\"raffleBox\">BBSB 24301</div>\\r\\n<div class=\"raffleBox\">BBSB 67714</div>\\r\\n<div class=\"raffleBox\">BBSC 28753</div>\\r\\n<div class=\"raffleBox\">BBSC 39642</div>\\r\\n<div class=\"raffleBox\">BBSD 26581</div>\\r\\n<div class=\"raffleBox\">BBSD 69132</div>\\r\\n<div class=\"raffleBox\">BBSF 74196</div>\\r\\n<div class=\"raffleBox\">BBSG 31479</div>\\r\\n<div class=\"raffleBox\">BBSG 31970</div>\\r\\n<div class=\"raffleBox\">BBSH 16221</div>\\r\\n<div class=\"raffleBox\">BBSJ 92503</div>\\r\\n<div class=\"raffleBox\">BBSK 01864</div>\\r\\n<div class=\"raffleBox\">BBSK 04275</div>\\r\\n<div class=\"raffleBox\">BBSK 14788</div>\\r\\n<div class=\"raffleBox\">BBSK 76070</div>\\r\\n<div class=\"raffleBox\">BBSM 51808</div>\\r\\n<div class=\"raffleBox\">BBSM 52942</div>\\r\\n<div class=\"raffleBox\">BBSN 00805</div>\\r\\n<div class=\"raffleBox\">BBSP 07034</div>\\r\\n<div class=\"raffleBox\">BBSS 60574</div>\\r\\n<div class=\"raffleBox\">BBST 89991</div>\\r\\n<div class=\"raffleBox\">BBSV 02698</div>\\r\\n<div class=\"raffleBox\">BBSV 08454</div>\\r\\n<div class=\"raffleBox\">BBSV 46060</div>\\r\\n<div class=\"raffleBox\">BBSV 55008</div>\\r\\n<div class=\"raffleBox\">BBSW 88802</div>\\r\\n<div class=\"raffleBox\">BBSZ 82267</div>\\r\\n<div class=\"raffleBox\">BBTB 09111</div>\\r\\n<div class=\"raffleBox\">BBTB 28408</div>\\r\\n<div class=\"raffleBox\">BBTC 54170</div>\\r\\n<div class=\"raffleBox\">BBTD 61673</div>\\r\\n<div class=\"raffleBox\">BBTF 58341</div>\\r\\n<div class=\"raffleBox\">BBTF 59184</div>\\r\\n<div class=\"raffleBox\">BBTG 14397</div>\\r\\n<div class=\"raffleBox\">BBTG 49881</div>\\r\\n<div class=\"raffleBox\">BBTG 59285</div>\\r\\n<div class=\"raffleBox\">BBTH 76869</div>\\r\\n<div class=\"raffleBox\">BBTH 99091</div>\\r\\n<div class=\"raffleBox\">BBTJ 36979</div>\\r\\n<div class=\"raffleBox\">BBTJ 39802</div>\\r\\n<div class=\"raffleBox\">BBTJ 54101</div>\\r\\n<div class=\"raffleBox\">BBTJ 68393</div>\\r\\n<div class=\"raffleBox\">BBTK 20406</div>\\r\\n<div class=\"raffleBox\">BBTK 59049</div>\\r\\n<div class=\"raffleBox\">BBTK 61272</div>\\r\\n<div class=\"raffleBox\">BBTK 68811</div>\\r\\n<div class=\"raffleBox\">BBTL 82797</div>\\r\\n<div class=\"raffleBox\">BBTM 01579</div>\\r\\n<div class=\"raffleBox\">BBTN 03693</div>\\r\\n<div class=\"raffleBox\">BBTN 12513</div>\\r\\n<div class=\"raffleBox\">BBTN 58154</div>\\r\\n<div class=\"raffleBox\">BBTN 64186</div>\\r\\n<div class=\"raffleBox\">BBTN 67466</div>\\r\\n<div class=\"raffleBox\">BBTN 76928</div>\\r\\n<div class=\"raffleBox\">BBTN 86487</div>\\r\\n<div class=\"raffleBox\">BBTN 90307</div>\\r\\n<div class=\"raffleBox\">BBTN 95185</div>\\r\\n<div class=\"raffleBox\">BBTP 05352</div>\\r\\n<div class=\"raffleBox\">BBTP 24986</div>\\r\\n<div class=\"raffleBox\">BBTP 73166</div>\\r\\n<div class=\"raffleBox\">BBTP 96259</div>\\r\\n<div class=\"raffleBox\">BBTQ 37413</div>\\r\\n<div class=\"raffleBox\">BBTQ 37414</div>\\r\\n<div class=\"raffleBox\">BBTQ 38607</div>\\r\\n<div class=\"raffleBox\">BBTQ 58613</div>\\r\\n<div class=\"raffleBox\">BBTQ 67154</div>\\r\\n<div class=\"raffleBox\">BBTQ 69968</div>\\r\\n<div class=\"raffleBox\">BBTQ 84775</div>\\r\\n<div class=\"raffleBox\">BBTR 07993</div>\\r\\n<div class=\"raffleBox\">BBTR 20750</div>\\r\\n<div class=\"raffleBox\">BBTR 30782</div>\\r\\n<div class=\"raffleBox\">BBTR 88800</div>\\r\\n<div class=\"raffleBox\">BBTS 05361</div>\\r\\n<div class=\"raffleBox\">BBTS 07831</div>\\r\\n<div class=\"raffleBox\">BBTS 19589</div>\\r\\n<div class=\"raffleBox\">BBTS 25707</div>\\r\\n<div class=\"raffleBox\">BBTS 29816</div>\\r\\n<div class=\"raffleBox\">BBTS 35741</div>\\r\\n<div class=\"raffleBox\">BBTS 58909</div>\\r\\n<div class=\"raffleBox\">BBTT 21525</div>\\r\\n<div class=\"raffleBox\">BBTT 67348</div>\\r\\n<div class=\"raffleBox\">BBTV 12506</div>\\r\\n<div class=\"raffleBox\">BBTV 17450</div>\\r\\n<div class=\"raffleBox\">BBTV 73447</div>\\r\\n<div class=\"raffleBox\">BBTV 73920</div>\\r\\n<div class=\"raffleBox\">BBTV 87171</div>\\r\\n<div class=\"raffleBox\">BBTV 88775</div>\\r\\n<div class=\"raffleBox\">BBTV 90657</div>\\r\\n<div class=\"raffleBox\">BBTV 92234</div>\\r\\n<div class=\"raffleBox\">BBTV 99221</div>\\r\\n<div class=\"raffleBox\">BBTW 05228</div>\\r\\n<div class=\"raffleBox\">BBTW 09058</div>\\r\\n<div class=\"raffleBox\">BBTW 52637</div>\\r\\n<div class=\"raffleBox\">BBTW 75451</div>\\r\\n<div class=\"raffleBox\">BBTW 86313</div>\\r\\n<div class=\"raffleBox\">BBTZ 20501</div>\\r\\n<div class=\"raffleBox\">BBTZ 21582</div>\\r\\n<div class=\"raffleBox\">BBTZ 27484</div>\\r\\n<div class=\"raffleBox\">BBTZ 29003</div>\\r\\n<div class=\"raffleBox\">BBTZ 49763</div>\\r\\n<div class=\"raffleBox\">BBVB 37851</div>\\r\\n<div class=\"raffleBox\">BBVB 89078</div>\\r\\n<div class=\"raffleBox\">BBVC 75765</div>\\r\\n<div class=\"raffleBox\">BBVC 81910</div>\\r\\n<div class=\"raffleBox\">BBVD 25769</div>\\r\\n<div class=\"raffleBox\">BBVD 31665</div>\\r\\n<div class=\"raffleBox\">BBVD 32586</div>\\r\\n<div class=\"raffleBox\">BBVD 91857</div>\\r\\n<div class=\"raffleBox\">BBVF 73849</div>\\r\\n<div class=\"raffleBox\">BBVF 78989</div>\\r\\n<div class=\"raffleBox\">BBVG 15537</div>\\r\\n<div class=\"raffleBox\">BBVG 16816</div>\\r\\n<div class=\"raffleBox\">BBVH 18562</div>\\r\\n<div class=\"raffleBox\">BBVH 19282</div>\\r\\n<div class=\"raffleBox\">BBVH 68011</div>\\r\\n<div class=\"raffleBox\">BBVH 97165</div>\\r\\n<div class=\"raffleBox\">BBVJ 03329</div>\\r\\n<div class=\"raffleBox\">BBVJ 56279</div>\\r\\n<div class=\"raffleBox\">BBVJ 70418</div>\\r\\n<div class=\"raffleBox\">BBVK 02331</div>\\r\\n<div class=\"raffleBox\">BBVK 42324</div>\\r\\n<div class=\"raffleBox\">BBVK 42898</div>\\r\\n<div class=\"raffleBox\">BBVK 44061</div>\\r\\n<div class=\"raffleBox\">BBVK 47381</div>\\r\\n<div class=\"raffleBox\">BBVK 47564</div>\\r\\n<div class=\"raffleBox\">BBVK 47828</div>\\r\\n<div class=\"raffleBox\">BBVK 50803</div>\\r\\n<div class=\"raffleBox\">BBVK 51635</div>\\r\\n<div class=\"raffleBox\">BBVK 53613</div>\\r\\n<div class=\"raffleBox\">BBVK 56949</div>\\r\\n<div class=\"raffleBox\">BBVK 59747</div>\\r\\n<div class=\"raffleBox\">BBVK 62622</div>\\r\\n<div class=\"raffleBox\">BBVK 62654</div>\\r\\n<div class=\"raffleBox\">BBVK 63311</div>\\r\\n<div class=\"raffleBox\">BBVK 63886</div>\\r\\n<div class=\"raffleBox\">BBVK 65265</div>\\r\\n<div class=\"raffleBox\">BBVK 68200</div>\\r\\n<div class=\"raffleBox\">BBVK 69058</div>\\r\\n<div class=\"raffleBox\">BBVK 70066</div>\\r\\n<div class=\"raffleBox\">BBVK 70435</div>\\r\\n<div class=\"raffleBox\">BBVK 70870</div>\\r\\n<div class=\"raffleBox\">BBVK 71121</div>\\r\\n<div class=\"raffleBox\">BBVK 73169</div>\\r\\n<div class=\"raffleBox\">BBVK 73601</div>\\r\\n<div class=\"raffleBox\">BBVK 76043</div>\\r\\n<div class=\"raffleBox\">BBVK 77558</div>\\r\\n<div class=\"raffleBox\">BBVK 81104</div>\\r\\n<div class=\"raffleBox\">BBVK 81296</div>\\r\\n<div class=\"raffleBox\">BBVK 82296</div>\\r\\n<div class=\"raffleBox\">BBVK 82609</div>\\r\\n<div class=\"raffleBox\">BBVK 82999</div>\\r\\n<div class=\"raffleBox\">BBVK 83415</div>\\r\\n<div class=\"raffleBox\">BBVK 85545</div>\\r\\n<div class=\"raffleBox\">BBVK 85883</div>\\r\\n<div class=\"raffleBox\">BBVK 86322</div>\\r\\n<div class=\"raffleBox\">BBVK 88400</div>\\r\\n<div class=\"raffleBox\">BBVK 90453</div>\\r\\n<div class=\"raffleBox\">BBVK 94135</div>\\r\\n<div class=\"raffleBox\">BBVK 96797</div>\\r\\n<div class=\"raffleBox\">BBVL 00597</div>\\r\\n<div class=\"raffleBox\">BBVL 01453</div>\\r\\n<div class=\"raffleBox\">BBVL 01898</div>\\r\\n<div class=\"raffleBox\">BBVL 02043</div>\\r\\n<div class=\"raffleBox\">BBVL 02161</div>\\r\\n<div class=\"raffleBox\">BBVL 04822</div>\\r\\n<div class=\"raffleBox\">BBVL 05029</div>\\r\\n<div class=\"raffleBox\">BBVL 05531</div>\\r\\n<div class=\"raffleBox\">BBVL 06008</div>\\r\\n<div class=\"raffleBox\">BBVL 06488</div>\\r\\n<div class=\"raffleBox\">BBVL 07777</div>\\r\\n<div class=\"raffleBox\">BBVL 08405</div>\\r\\n<div class=\"raffleBox\">BBVL 08875</div>\\r\\n<div class=\"raffleBox\">BBVL 09757</div>\\r\\n<div class=\"raffleBox\">BBVL 12208</div>\\r\\n<div class=\"raffleBox\">BBVL 12484</div>\\r\\n<div class=\"raffleBox\">BBVL 13111</div>\\r\\n<div class=\"raffleBox\">BBVL 13706</div>\\r\\n<div class=\"raffleBox\">BBVL 14707</div>\\r\\n<div class=\"raffleBox\">BBVL 16806</div>\\r\\n<div class=\"raffleBox\">BBVL 17822</div>\\r\\n<div class=\"raffleBox\">BBVL 18252</div>\\r\\n<div class=\"raffleBox\">BBVL 18767</div>\\r\\n<div class=\"raffleBox\">BBVL 19201</div>\\r\\n<div class=\"raffleBox\">BBVL 19681</div>\\r\\n<div class=\"raffleBox\">BBVL 21256</div>\\r\\n<div class=\"raffleBox\">BBVL 22892</div>\\r\\n<div class=\"raffleBox\">BBVL 25272</div>\\r\\n<div class=\"raffleBox\">BBVL 25642</div>\\r\\n<div class=\"raffleBox\">BBVL 25651</div>\\r\\n<div class=\"raffleBox\">BBVL 26236</div>\\r\\n<div class=\"raffleBox\">BBVL 28648</div>\\r\\n<div class=\"raffleBox\">BBVL 30655</div>\\r\\n<div class=\"raffleBox\">BBVL 31233</div>\\r\\n<div class=\"raffleBox\">BBVL 31677</div>\\r\\n<div class=\"raffleBox\">BBVL 31948</div>\\r\\n<div class=\"raffleBox\">BBVL 32133</div>\\r\\n<div class=\"raffleBox\">BBVL 33306</div>\\r\\n<div class=\"raffleBox\">BBVL 34003</div>\\r\\n<div class=\"raffleBox\">BBVL 38994</div>\\r\\n<div class=\"raffleBox\">BBVL 41122</div>\\r\\n<div class=\"raffleBox\">BBVL 42419</div>\\r\\n<div class=\"raffleBox\">BBVL 44477</div>\\r\\n<div class=\"raffleBox\">BBVL 45743</div>\\r\\n<div class=\"raffleBox\">BBVL 47082</div>\\r\\n<div class=\"raffleBox\">BBVL 48534</div>\\r\\n<div class=\"raffleBox\">BBVL 51632</div>\\r\\n<div class=\"raffleBox\">BBVL 52384</div>\\r\\n<div class=\"raffleBox\">BBVL 52959</div>\\r\\n<div class=\"raffleBox\">BBVL 57802</div>\\r\\n<div class=\"raffleBox\">BBVL 58032</div>\\r\\n<div class=\"raffleBox\">BBVL 58546</div>\\r\\n<div class=\"raffleBox\">BBVL 60986</div>\\r\\n<div class=\"raffleBox\">BBVL 61148</div>\\r\\n<div class=\"raffleBox\">BBVL 63182</div>\\r\\n<div class=\"raffleBox\">BBVL 64518</div>\\r\\n<div class=\"raffleBox\">BBVL 68376</div>\\r\\n<div class=\"raffleBox\">BBVL 69434</div>\\r\\n<div class=\"raffleBox\">BBVL 69923</div>\\r\\n<div class=\"raffleBox\">BBVL 70146</div>\\r\\n<div class=\"raffleBox\">BBVL 70436</div>\\r\\n<div class=\"raffleBox\">BBVL 72517</div>\\r\\n<div class=\"raffleBox\">BBVL 73164</div>\\r\\n<div class=\"raffleBox\">BBVL 73905</div>\\r\\n<div class=\"raffleBox\">BBVL 76380</div>\\r\\n<div class=\"raffleBox\">BBVL 77685</div>\\r\\n<div class=\"raffleBox\">BBVL 79362</div>\\r\\n<div class=\"raffleBox\">BBVL 81061</div>\\r\\n<div class=\"raffleBox\">BBVL 82065</div>\\r\\n<div class=\"raffleBox\">BBVL 82787</div>\\r\\n<div class=\"raffleBox\">BBVL 83813</div>\\r\\n<div class=\"raffleBox\">BBVL 85260</div>\\r\\n<div class=\"raffleBox\">BBVL 85383</div>\\r\\n<div class=\"raffleBox\">BBVL 85881</div>\\r\\n<div class=\"raffleBox\">BBVL 86175</div>\\r\\n<div class=\"raffleBox\">BBVL 88015</div>\\r\\n<div class=\"raffleBox\">BBVL 88282</div>\\r\\n<div class=\"raffleBox\">BBVL 92219</div>\\r\\n<div class=\"raffleBox\">BBVL 92352</div>\\r\\n<div class=\"raffleBox\">BBVL 92436</div>\\r\\n<div class=\"raffleBox\">BBVL 95413</div>\\r\\n<div class=\"raffleBox\">BBVL 98211</div>\\r\\n<div class=\"raffleBox\">BBVM 00247</div>\\r\\n<div class=\"raffleBox\">BBVM 01197</div>\\r\\n<div class=\"raffleBox\">BBVM 01817</div>\\r\\n<div class=\"raffleBox\">BBVM 04652</div>\\r\\n<div class=\"raffleBox\">BBVM 05183</div>\\r\\n<div class=\"raffleBox\">BBVM 05278</div>\\r\\n<div class=\"raffleBox\">BBVM 06575</div>\\r\\n<div class=\"raffleBox\">BBVM 07391</div>\\r\\n<div class=\"raffleBox\">BBVM 08213</div>\\r\\n<div class=\"raffleBox\">BBVM 08759</div>\\r\\n<div class=\"raffleBox\">BBVM 09149</div>\\r\\n<div class=\"raffleBox\">BBVM 11727</div>\\r\\n<div class=\"raffleBox\">BBVM 12823</div>\\r\\n<div class=\"raffleBox\">BBVM 12872</div>\\r\\n<div class=\"raffleBox\">BBVM 13622</div>\\r\\n<div class=\"raffleBox\">BBVM 14885</div>\\r\\n<div class=\"raffleBox\">BBVM 15686</div>\\r\\n<div class=\"raffleBox\">BBVM 17523</div>\\r\\n<div class=\"raffleBox\">BBVM 17792</div>\\r\\n<div class=\"raffleBox\">BBVM 25972</div>\\r\\n<div class=\"raffleBox\">BBVM 30374</div>\\r\\n<div class=\"raffleBox\">BBVM 32061</div>\\r\\n<div class=\"raffleBox\">BBVM 32543</div>\\r\\n<div class=\"raffleBox\">BBVM 34111</div>\\r\\n<div class=\"raffleBox\">BBVM 34605</div>\\r\\n<div class=\"raffleBox\">BBVM 35949</div>\\r\\n<div class=\"raffleBox\">BBVM 40862</div>\\r\\n<div class=\"raffleBox\">BBVM 40871</div>\\r\\n<div class=\"raffleBox\">BBVM 42377</div>\\r\\n<div class=\"raffleBox\">BBVM 42613</div>\\r\\n<div class=\"raffleBox\">BBVM 44437</div>\\r\\n<div class=\"raffleBox\">BBVM 46762</div>\\r\\n<div class=\"raffleBox\">BBVM 47074</div>\\r\\n<div class=\"raffleBox\">BBVM 48164</div>\\r\\n<div class=\"raffleBox\">BBVM 48434</div>\\r\\n<div class=\"raffleBox\">BBVM 49152</div>\\r\\n<div class=\"raffleBox\">BBVM 53099</div>\\r\\n<div class=\"raffleBox\">BBVM 53357</div>\\r\\n<div class=\"raffleBox\">BBVM 55006</div>\\r\\n<div class=\"raffleBox\">BBVM 58629</div>\\r\\n<div class=\"raffleBox\">BBVM 59133</div>\\r\\n<div class=\"raffleBox\">BBVM 60318</div>\\r\\n<div class=\"raffleBox\">BBVM 63491</div>\\r\\n<div class=\"raffleBox\">BBVM 66859</div>\\r\\n<div class=\"raffleBox\">BBVM 67769</div>\\r\\n<div class=\"raffleBox\">BBVM 69053</div>\\r\\n<div class=\"raffleBox\">BBVM 73231</div>\\r\\n<div class=\"raffleBox\">BBVM 73861</div>\\r\\n<div class=\"raffleBox\">BBVM 74993</div>\\r\\n<div class=\"raffleBox\">BBVM 75248</div>\\r\\n<div class=\"raffleBox\">BBVM 78942</div>\\r\\n<div class=\"raffleBox\">BBVM 83322</div>\\r\\n<div class=\"raffleBox\">BBVM 83714</div>\\r\\n<div class=\"raffleBox\">BBVM 83934</div>\\r\\n<div class=\"raffleBox\">BBVM 86914</div>\\r\\n<div class=\"raffleBox\">BBVM 87948</div>\\r\\n<div class=\"raffleBox\">BBVM 89681</div>\\r\\n<div class=\"raffleBox\">BBVM 90184</div>\\r\\n<div class=\"raffleBox\">BBVM 94056</div>\\r\\n<div class=\"raffleBox\">BBVM 95485</div>\\r\\n<div class=\"raffleBox\">BBVM 95668</div>\\r\\n<div class=\"raffleBox\">BBVM 97955</div>\\r\\n<div class=\"raffleBox\">BBVM 98760</div>\\r\\n<div class=\"raffleBox\">BBVM 99784</div>\\r\\n<div class=\"raffleBox\">BBVN 00016</div>\\r\\n<div class=\"raffleBox\">BBVN 00086</div>\\r\\n<div class=\"raffleBox\">BBVN 00264</div>\\r\\n<div class=\"raffleBox\">BBVN 04471</div>\\r\\n<div class=\"raffleBox\">BBVN 07887</div>\\r\\n<div class=\"raffleBox\">BBVN 08936</div>\\r\\n<div class=\"raffleBox\">BBVN 09787</div>\\r\\n<div class=\"raffleBox\">BBVN 09796</div>\\r\\n<div class=\"raffleBox\">BBVN 10834</div>\\r\\n<div class=\"raffleBox\">BBVN 12317</div>\\r\\n<div class=\"raffleBox\">BBVN 18678</div>\\r\\n<div class=\"raffleBox\">BBVN 23468</div>\\r\\n<div class=\"raffleBox\">BBVN 26033</div>\\r\\n<div class=\"raffleBox\">BBVN 30314</div>\\r\\n<div class=\"raffleBox\">BBVN 30402</div>\\r\\n<div class=\"raffleBox\">BBVN 31537</div>\\r\\n<div class=\"raffleBox\">BBVN 33192</div>\\r\\n<div class=\"raffleBox\">BBVN 35775</div>\\r\\n<div class=\"raffleBox\">BBVN 36185</div>\\r\\n<div class=\"raffleBox\">BBVN 36246</div>\\r\\n<div class=\"raffleBox\">BBVN 36682</div>\\r\\n<div class=\"raffleBox\">BBVN 36758</div>\\r\\n<div class=\"raffleBox\">BBVN 40123</div>\\r\\n<div class=\"raffleBox\">BBVN 40679</div>\\r\\n<div class=\"raffleBox\">BBVN 42141</div>\\r\\n<div class=\"raffleBox\">BBVN 48398</div>\\r\\n<div class=\"raffleBox\">BBVN 49716</div>\\r\\n<div class=\"raffleBox\">BBVN 51698</div>\\r\\n<div class=\"raffleBox\">BBVN 51986</div>\\r\\n<div class=\"raffleBox\">BBVN 55010</div>\\r\\n<div class=\"raffleBox\">BBVN 58818</div>\\r\\n<div class=\"raffleBox\">BBVN 60627</div>\\r\\n<div class=\"raffleBox\">BBVN 60682</div>\\r\\n<div class=\"raffleBox\">BBVN 61876</div>\\r\\n<div class=\"raffleBox\">BBVN 64478</div>\\r\\n<div class=\"raffleBox\">BBVN 64611</div>\\r\\n<div class=\"raffleBox\">BBVN 66362</div>\\r\\n<div class=\"raffleBox\">BBVN 66580</div>\\r\\n<div class=\"raffleBox\">BBVN 68383</div>\\r\\n<div class=\"raffleBox\">BBVN 72565</div>\\r\\n<div class=\"raffleBox\">BBVN 75258</div>\\r\\n<div class=\"raffleBox\">BBVN 75583</div>\\r\\n<div class=\"raffleBox\">BBVN 76624</div>\\r\\n<div class=\"raffleBox\">BBVN 77495</div>\\r\\n<div class=\"raffleBox\">BBVN 79274</div>\\r\\n<div class=\"raffleBox\">BBVN 81953</div>\\r\\n<div class=\"raffleBox\">BBVN 82552</div>\\r\\n<div class=\"raffleBox\">BBVN 88699</div>\\r\\n<div class=\"raffleBox\">BBVN 91021</div>\\r\\n<div class=\"raffleBox\">BBVN 91838</div>\\r\\n<div class=\"raffleBox\">BBVN 93152</div>\\r\\n<div class=\"raffleBox\">BBVN 93797</div>\\r\\n<div class=\"raffleBox\">BBVN 95947</div>\\r\\n<div class=\"raffleBox\">BBVP 02431</div>\\r\\n<div class=\"raffleBox\">BBVP 04886</div>\\r\\n<div class=\"raffleBox\">BBVP 05316</div>\\r\\n<div class=\"raffleBox\">BBVP 08278</div>\\r\\n<div class=\"raffleBox\">BBVP 09612</div>\\r\\n<div class=\"raffleBox\">BBVP 12659</div>\\r\\n<div class=\"raffleBox\">BBVP 13739</div>\\r\\n<div class=\"raffleBox\">BBVP 15115</div>\\r\\n<div class=\"raffleBox\">BBVP 15435</div>\\r\\n<div class=\"raffleBox\">BBVP 15669</div>\\r\\n<div class=\"raffleBox\">BBVP 16740</div>\\r\\n<div class=\"raffleBox\">BBVP 17187</div>\\r\\n<div class=\"raffleBox\">BBVP 17764</div>\\r\\n<div class=\"raffleBox\">BBVP 18885</div>\\r\\n<div class=\"raffleBox\">BBVP 18946</div>\\r\\n<div class=\"raffleBox\">BBVP 20095</div>\\r\\n<div class=\"raffleBox\">BBVP 23555</div>\\r\\n<div class=\"raffleBox\">BBVP 26924</div>\\r\\n<div class=\"raffleBox\">BBVP 27494</div>\\r\\n<div class=\"raffleBox\">BBVP 28357</div>\\r\\n<div class=\"raffleBox\">BBVP 29559</div>\\r\\n<div class=\"raffleBox\">BBVP 29801</div>\\r\\n<div class=\"raffleBox\">BBVP 31515</div>\\r\\n<div class=\"raffleBox\">BBVP 31847</div>\\r\\n<div class=\"raffleBox\">BBVP 32136</div>\\r\\n<div class=\"raffleBox\">BBVP 32573</div>\\r\\n<div class=\"raffleBox\">BBVP 34551</div>\\r\\n<div class=\"raffleBox\">BBVP 35041</div>\\r\\n<div class=\"raffleBox\">BBVP 35976</div>\\r\\n<div class=\"raffleBox\">BBVP 38244</div>\\r\\n<div class=\"raffleBox\">BBVP 38673</div>\\r\\n<div class=\"raffleBox\">BBVP 39432</div>\\r\\n<div class=\"raffleBox\">BBVP 40021</div>\\r\\n<div class=\"raffleBox\">BBVP 42468</div>\\r\\n<div class=\"raffleBox\">BBVP 43339</div>\\r\\n<div class=\"raffleBox\">BBVP 44105</div>\\r\\n<div class=\"raffleBox\">BBVP 44659</div>\\r\\n<div class=\"raffleBox\">BBVP 46267</div>\\r\\n<div class=\"raffleBox\">BBVP 47530</div>\\r\\n<div class=\"raffleBox\">BBVP 48152</div>\\r\\n<div class=\"raffleBox\">BBVP 48184</div>\\r\\n<div class=\"raffleBox\">BBVP 51395</div>\\r\\n<div class=\"raffleBox\">BBVP 53228</div>\\r\\n<div class=\"raffleBox\">BBVP 54473</div>\\r\\n<div class=\"raffleBox\">BBVP 55962</div>\\r\\n<div class=\"raffleBox\">BBVP 56079</div>\\r\\n<div class=\"raffleBox\">BBVP 58188</div>\\r\\n<div class=\"raffleBox\">BBVP 59599</div>\\r\\n<div class=\"raffleBox\">BBVP 62560</div>\\r\\n<div class=\"raffleBox\">BBVP 62765</div>\\r\\n<div class=\"raffleBox\">BBVP 66279</div>\\r\\n<div class=\"raffleBox\">BBVP 66672</div>\\r\\n<div class=\"raffleBox\">BBVP 68792</div>\\r\\n<div class=\"raffleBox\">BBVP 72035</div>\\r\\n<div class=\"raffleBox\">BBVP 72699</div>\\r\\n<div class=\"raffleBox\">BBVP 74411</div>\\r\\n<div class=\"raffleBox\">BBVP 75683</div>\\r\\n<div class=\"raffleBox\">BBVP 76931</div>\\r\\n<div class=\"raffleBox\">BBVP 77484</div>\\r\\n<div class=\"raffleBox\">BBVP 77738</div>\\r\\n<div class=\"raffleBox\">BBVP 77979</div>\\r\\n<div class=\"raffleBox\">BBVP 80156</div>\\r\\n<div class=\"raffleBox\">BBVP 80451</div>\\r\\n<div class=\"raffleBox\">BBVP 80883</div>\\r\\n<div class=\"raffleBox\">BBVP 81592</div>\\r\\n<div class=\"raffleBox\">BBVP 82798</div>\\r\\n<div class=\"raffleBox\">BBVP 85515</div>\\r\\n<div class=\"raffleBox\">BBVP 85959</div>\\r\\n<div class=\"raffleBox\">BBVP 86157</div>\\r\\n<div class=\"raffleBox\">BBVP 86806</div>\\r\\n<div class=\"raffleBox\">BBVP 88730</div>\\r\\n<div class=\"raffleBox\">BBVP 89164</div>\\r\\n<div class=\"raffleBox\">BBVP 91666</div>\\r\\n<div class=\"raffleBox\">BBVP 91765</div>\\r\\n<div class=\"raffleBox\">BBVP 92244</div>\\r\\n<div class=\"raffleBox\">BBVP 92701</div>\\r\\n<div class=\"raffleBox\">BBVP 93863</div>\\r\\n<div class=\"raffleBox\">BBVP 94618</div>\\r\\n<div class=\"raffleBox\">BBVP 95834</div>\\r\\n<div class=\"raffleBox\">BBVP 97430</div>\\r\\n<div class=\"raffleBox\">BBVP 98105</div>\\r\\n<div class=\"raffleBox\">BBVP 98859</div>\\r\\n<div class=\"raffleBox\">BBVP 99860</div>\\r\\n<div class=\"raffleBox\">BBVQ 00141</div>\\r\\n<div class=\"raffleBox\">BBVQ 00566</div>\\r\\n<div class=\"raffleBox\">BBVQ 02340</div>\\r\\n<div class=\"raffleBox\">BBVQ 03420</div>\\r\\n<div class=\"raffleBox\">BBVQ 04080</div>\\r\\n<div class=\"raffleBox\">BBVQ 04123</div>\\r\\n<div class=\"raffleBox\">BBVQ 04715</div>\\r\\n<div class=\"raffleBox\">BBVQ 06677</div>\\r\\n<div class=\"raffleBox\">BBVQ 08312</div>\\r\\n<div class=\"raffleBox\">BBVQ 11673</div>\\r\\n<div class=\"raffleBox\">BBVQ 12626</div>\\r\\n<div class=\"raffleBox\">BBVQ 12900</div>\\r\\n<div class=\"raffleBox\">BBVQ 13011</div>\\r\\n<div class=\"raffleBox\">BBVQ 13757</div>\\r\\n<div class=\"raffleBox\">BBVQ 14967</div>\\r\\n<div class=\"raffleBox\">BBVQ 16274</div>\\r\\n<div class=\"raffleBox\">BBVQ 17710</div>\\r\\n<div class=\"raffleBox\">BBVQ 17779</div>\\r\\n<div class=\"raffleBox\">BBVQ 21280</div>\\r\\n<div class=\"raffleBox\">BBVQ 21441</div>\\r\\n<div class=\"raffleBox\">BBVQ 22514</div>\\r\\n<div class=\"raffleBox\">BBVQ 24132</div>\\r\\n<div class=\"raffleBox\">BBVQ 24170</div>\\r\\n<div class=\"raffleBox\">BBVQ 26589</div>\\r\\n<div class=\"raffleBox\">BBVQ 27622</div>\\r\\n<div class=\"raffleBox\">BBVQ 28221</div>\\r\\n<div class=\"raffleBox\">BBVQ 28789</div>\\r\\n<div class=\"raffleBox\">BBVQ 28916</div>\\r\\n<div class=\"raffleBox\">BBVQ 33118</div>\\r\\n<div class=\"raffleBox\">BBVQ 33502</div>\\r\\n<div class=\"raffleBox\">BBVQ 38827</div>\\r\\n<div class=\"raffleBox\">BBVQ 39152</div>\\r\\n<div class=\"raffleBox\">BBVQ 42083</div>\\r\\n<div class=\"raffleBox\">BBVQ 44484</div>\\r\\n<div class=\"raffleBox\">BBVQ 45303</div>\\r\\n<div class=\"raffleBox\">BBVQ 45976</div>\\r\\n<div class=\"raffleBox\">BBVQ 46172</div>\\r\\n<div class=\"raffleBox\">BBVQ 47428</div>\\r\\n<div class=\"raffleBox\">BBVQ 48471</div>\\r\\n<div class=\"raffleBox\">BBVQ 51722</div>\\r\\n<div class=\"raffleBox\">BBVQ 52066</div>\\r\\n<div class=\"raffleBox\">BBVQ 52262</div>\\r\\n<div class=\"raffleBox\">BBVQ 52662</div>\\r\\n<div class=\"raffleBox\">BBVQ 53110</div>\\r\\n<div class=\"raffleBox\">BBVQ 56275</div>\\r\\n<div class=\"raffleBox\">BBVQ 59087</div>\\r\\n<div class=\"raffleBox\">BBVQ 62990</div>\\r\\n<div class=\"raffleBox\">BBVQ 66560</div>\\r\\n<div class=\"raffleBox\">BBVQ 66948</div>\\r\\n<div class=\"raffleBox\">BBVQ 68170</div>\\r\\n<div class=\"raffleBox\">BBVQ 70792</div>\\r\\n<div class=\"raffleBox\">BBVQ 71047</div>\\r\\n<div class=\"raffleBox\">BBVQ 76606</div>\\r\\n<div class=\"raffleBox\">BBVQ 79433</div>\\r\\n<div class=\"raffleBox\">BBVQ 81802</div>\\r\\n<div class=\"raffleBox\">BBVQ 82326</div>\\r\\n<div class=\"raffleBox\">BBVQ 83907</div>\\r\\n<div class=\"raffleBox\">BBVQ 86769</div>\\r\\n<div class=\"raffleBox\">BBVQ 87932</div>\\r\\n<div class=\"raffleBox\">BBVQ 88016</div>\\r\\n<div class=\"raffleBox\">BBVQ 88043</div>\\r\\n<div class=\"raffleBox\">BBVQ 88471</div>\\r\\n<div class=\"raffleBox\">BBVQ 89227</div>\\r\\n<div class=\"raffleBox\">BBVQ 90275</div>\\r\\n<div class=\"raffleBox\">BBVQ 90334</div>\\r\\n<div class=\"raffleBox\">BBVQ 90519</div>\\r\\n<div class=\"raffleBox\">BBVQ 93364</div>\\r\\n<div class=\"raffleBox\">BBVQ 94939</div>\\r\\n<div class=\"raffleBox\">BBVQ 97206</div>\\r\\n<div class=\"raffleBox\">BBVQ 97695</div>\\r\\n<div class=\"raffleBox\">BBVQ 99399</div>\\r\\n<div class=\"raffleBox\">BBVR 01512</div>\\r\\n<div class=\"raffleBox\">BBVR 03727</div>\\r\\n<div class=\"raffleBox\">BBVR 06129</div>\\r\\n<div class=\"raffleBox\">BBVR 06814</div>\\r\\n<div class=\"raffleBox\">BBVR 07628</div>\\r\\n<div class=\"raffleBox\">BBVR 10323</div>\\r\\n<div class=\"raffleBox\">BBVR 11451</div>\\r\\n<div class=\"raffleBox\">BBVR 12617</div>\\r\\n<div class=\"raffleBox\">BBVR 12710</div>\\r\\n<div class=\"raffleBox\">BBVR 15650</div>\\r\\n<div class=\"raffleBox\">BBVR 17957</div>\\r\\n<div class=\"raffleBox\">BBVR 20513</div>\\r\\n<div class=\"raffleBox\">BBVR 21614</div>\\r\\n<div class=\"raffleBox\">BBVR 24169</div>\\r\\n<div class=\"raffleBox\">BBVR 26596</div>\\r\\n<div class=\"raffleBox\">BBVR 27030</div>\\r\\n<div class=\"raffleBox\">BBVR 29327</div>\\r\\n<div class=\"raffleBox\">BBVR 31735</div>\\r\\n<div class=\"raffleBox\">BBVR 35084</div>\\r\\n<div class=\"raffleBox\">BBVR 35713</div>\\r\\n<div class=\"raffleBox\">BBVR 37051</div>\\r\\n<div class=\"raffleBox\">BBVR 37218</div>\\r\\n<div class=\"raffleBox\">BBVR 42459</div>\\r\\n<div class=\"raffleBox\">BBVR 43198</div>\\r\\n<div class=\"raffleBox\">BBVR 43677</div>\\r\\n<div class=\"raffleBox\">BBVR 47278</div>\\r\\n<div class=\"raffleBox\">BBVR 48336</div>\\r\\n<div class=\"raffleBox\">BBVR 49237</div>\\r\\n<div class=\"raffleBox\">BBVR 49408</div>\\r\\n<div class=\"raffleBox\">BBVR 50305</div>\\r\\n<div class=\"raffleBox\">BBVR 50825</div>\\r\\n<div class=\"raffleBox\">BBVR 51286</div>\\r\\n<div class=\"raffleBox\">BBVR 53473</div>\\r\\n<div class=\"raffleBox\">BBVR 54933</div>\\r\\n<div class=\"raffleBox\">BBVR 55106</div>\\r\\n<div class=\"raffleBox\">BBVR 55389</div>\\r\\n<div class=\"raffleBox\">BBVR 55711</div>\\r\\n<div class=\"raffleBox\">BBVR 57663</div>\\r\\n<div class=\"raffleBox\">BBVR 62559</div>\\r\\n<div class=\"raffleBox\">BBVR 62975</div>\\r\\n<div class=\"raffleBox\">BBVR 65209</div>\\r\\n<div class=\"raffleBox\">BBVR 68489</div>\\r\\n<div class=\"raffleBox\">BBVR 68691</div>\\r\\n<div class=\"raffleBox\">BBVR 69892</div>\\r\\n<div class=\"raffleBox\">BBVR 70086</div>\\r\\n<div class=\"raffleBox\">BBVR 70603</div>\\r\\n<div class=\"raffleBox\">BBVR 71961</div>\\r\\n<div class=\"raffleBox\">BBVR 72007</div>\\r\\n<div class=\"raffleBox\">BBVR 72235</div>\\r\\n<div class=\"raffleBox\">BBVR 73026</div>\\r\\n<div class=\"raffleBox\">BBVR 73095</div>\\r\\n<div class=\"raffleBox\">BBVR 75683</div>\\r\\n<div class=\"raffleBox\">BBVR 77479</div>\\r\\n<div class=\"raffleBox\">BBVR 78771</div>\\r\\n<div class=\"raffleBox\">BBVR 79512</div>\\r\\n<div class=\"raffleBox\">BBVR 79673</div>\\r\\n<div class=\"raffleBox\">BBVR 81617</div>\\r\\n<div class=\"raffleBox\">BBVR 82170</div>\\r\\n<div class=\"raffleBox\">BBVR 82175</div>\\r\\n<div class=\"raffleBox\">BBVR 82369</div>\\r\\n<div class=\"raffleBox\">BBVR 82997</div>\\r\\n<div class=\"raffleBox\">BBVR 85850</div>\\r\\n<div class=\"raffleBox\">BBVR 85970</div>\\r\\n<div class=\"raffleBox\">BBVR 89013</div>\\r\\n<div class=\"raffleBox\">BBVR 90120</div>\\r\\n<div class=\"raffleBox\">BBVR 92733</div>\\r\\n<div class=\"raffleBox\">BBVR 92874</div>\\r\\n<div class=\"raffleBox\">BBVR 95449</div>\\r\\n<div class=\"raffleBox\">BBVR 95649</div>\\r\\n<div class=\"raffleBox\">BBVR 96650</div>\\r\\n<div class=\"raffleBox\">BBVR 97391</div>\\r\\n<div class=\"raffleBox\">BBVR 99740</div>\\r\\n<div class=\"raffleBox\">BBVR 99987</div>\\r\\n<div class=\"raffleBox\">BBVS 00971</div>\\r\\n<div class=\"raffleBox\">BBVS 02293</div>\\r\\n<div class=\"raffleBox\">BBVS 03408</div>\\r\\n<div class=\"raffleBox\">BBVS 05663</div>\\r\\n<div class=\"raffleBox\">BBVS 10233</div>\\r\\n<div class=\"raffleBox\">BBVS 15128</div>\\r\\n<div class=\"raffleBox\">BBVS 20049</div>\\r\\n<div class=\"raffleBox\">BBVS 21684</div>\\r\\n<div class=\"raffleBox\">BBVS 22069</div>\\r\\n<div class=\"raffleBox\">BBVS 24098</div>\\r\\n<div class=\"raffleBox\">BBVS 29447</div>\\r\\n<div class=\"raffleBox\">BBVS 30164</div>\\r\\n<div class=\"raffleBox\">BBVS 31866</div>\\r\\n<div class=\"raffleBox\">BBVS 32106</div>\\r\\n<div class=\"raffleBox\">BBVS 33703</div>\\r\\n<div class=\"raffleBox\">BBVS 37320</div>\\r\\n<div class=\"raffleBox\">BBVS 38206</div>\\r\\n<div class=\"raffleBox\">BBVS 38710</div>\\r\\n<div class=\"raffleBox\">BBVS 39781</div>\\r\\n<div class=\"raffleBox\">BBVS 41548</div>\\r\\n<div class=\"raffleBox\">BBVS 41880</div>\\r\\n<div class=\"raffleBox\">BBVS 43152</div>\\r\\n<div class=\"raffleBox\">BBVS 45214</div>\\r\\n<div class=\"raffleBox\">BBVS 46619</div>\\r\\n<div class=\"raffleBox\">BBVS 48849</div>\\r\\n<div class=\"raffleBox\">BBVS 49136</div>\\r\\n<div class=\"raffleBox\">BBVS 49635</div>\\r\\n<div class=\"raffleBox\">BBVS 50369</div>\\r\\n<div class=\"raffleBox\">BBVS 51200</div>\\r\\n<div class=\"raffleBox\">BBVS 53320</div>\\r\\n<div class=\"raffleBox\">BBVS 55333</div>\\r\\n<div class=\"raffleBox\">BBVS 55837</div>\\r\\n<div class=\"raffleBox\">BBVS 55857</div>\\r\\n<div class=\"raffleBox\">BBVS 60063</div>\\r\\n<div class=\"raffleBox\">BBVS 60189</div>\\r\\n<div class=\"raffleBox\">BBVS 62225</div>\\r\\n<div class=\"raffleBox\">BBVS 62468</div>\\r\\n<div class=\"raffleBox\">BBVS 64230</div>\\r\\n<div class=\"raffleBox\">BBVS 65101</div>\\r\\n<div class=\"raffleBox\">BBVS 65448</div>\\r\\n<div class=\"raffleBox\">BBVS 66881</div>\\r\\n<div class=\"raffleBox\">BBVS 67499</div>\\r\\n<div class=\"raffleBox\">BBVS 68423</div>\\r\\n<div class=\"raffleBox\">BBVS 68587</div>\\r\\n<div class=\"raffleBox\">BBVS 73268</div>\\r\\n<div class=\"raffleBox\">BBVS 73575</div>\\r\\n<div class=\"raffleBox\">BBVS 76252</div>\\r\\n<div class=\"raffleBox\">BBVS 76621</div>\\r\\n<div class=\"raffleBox\">BBVS 77363</div>\\r\\n<div class=\"raffleBox\">BBVS 77583</div>\\r\\n<div class=\"raffleBox\">BBVS 83000</div>\\r\\n<div class=\"raffleBox\">BBVS 83834</div>\\r\\n<div class=\"raffleBox\">BBVS 87206</div>\\r\\n<div class=\"raffleBox\">BBVS 87992</div>\\r\\n<div class=\"raffleBox\">BBVS 88288</div>\\r\\n<div class=\"raffleBox\">BBVS 90741</div>\\r\\n<div class=\"raffleBox\">BBVS 92406</div>\\r\\n<div class=\"raffleBox\">BBVS 92466</div>\\r\\n<div class=\"raffleBox\">BBVS 99661</div>\\r\\n<div class=\"raffleBox\">BBVT 00618</div>\\r\\n<div class=\"raffleBox\">BBVT 02873</div>\\r\\n<div class=\"raffleBox\">BBVT 11701</div>\\r\\n<div class=\"raffleBox\">BBVT 13965</div>\\r\\n<div class=\"raffleBox\">BBVT 14728</div>\\r\\n<div class=\"raffleBox\">BBVT 15088</div>\\r\\n<div class=\"raffleBox\">BBVT 15280</div>\\r\\n<div class=\"raffleBox\">BBVT 18361</div>\\r\\n<div class=\"raffleBox\">BBVT 18587</div>\\r\\n<div class=\"raffleBox\">BBVT 18833</div>\\r\\n<div class=\"raffleBox\">BBVT 19346</div>\\r\\n<div class=\"raffleBox\">BBVT 20648</div>\\r\\n<div class=\"raffleBox\">BBVT 22001</div>\\r\\n<div class=\"raffleBox\">BBVT 22941</div>\\r\\n<div class=\"raffleBox\">BBVT 25087</div>\\r\\n<div class=\"raffleBox\">BBVT 25526</div>\\r\\n<div class=\"raffleBox\">BBVT 26743</div>\\r\\n<div class=\"raffleBox\">BBVT 27144</div>\\r\\n<div class=\"raffleBox\">BBVT 27405</div>\\r\\n<div class=\"raffleBox\">BBVT 30057</div>\\r\\n<div class=\"raffleBox\">BBVT 33480</div>\\r\\n<div class=\"raffleBox\">BBVT 35626</div>\\r\\n<div class=\"raffleBox\">BBVT 35855</div>\\r\\n<div class=\"raffleBox\">BBVT 36642</div>\\r\\n<div class=\"raffleBox\">BBVT 39181</div>\\r\\n<div class=\"raffleBox\">BBVT 39888</div>\\r\\n<div class=\"raffleBox\">BBVT 40662</div>\\r\\n<div class=\"raffleBox\">BBVT 40705</div>\\r\\n<div class=\"raffleBox\">BBVT 41714</div>\\r\\n<div class=\"raffleBox\">BBVT 42259</div>\\r\\n<div class=\"raffleBox\">BBVT 43693</div>\\r\\n<div class=\"raffleBox\">BBVT 45237</div>\\r\\n<div class=\"raffleBox\">BBVT 46629</div>\\r\\n<div class=\"raffleBox\">BBVT 47076</div>\\r\\n<div class=\"raffleBox\">BBVT 48427</div>\\r\\n<div class=\"raffleBox\">BBVT 48765</div>\\r\\n<div class=\"raffleBox\">BBVT 49691</div>\\r\\n<div class=\"raffleBox\">BBVT 49857</div>\\r\\n<div class=\"raffleBox\">BBVT 52023</div>\\r\\n<div class=\"raffleBox\">BBVT 52157</div>\\r\\n<div class=\"raffleBox\">BBVT 54494</div>\\r\\n<div class=\"raffleBox\">BBVT 55163</div>\\r\\n<div class=\"raffleBox\">BBVT 55752</div>\\r\\n<div class=\"raffleBox\">BBVT 58006</div>\\r\\n<div class=\"raffleBox\">BBVT 58693</div>\\r\\n<div class=\"raffleBox\">BBVT 58768</div>\\r\\n<div class=\"raffleBox\">BBVT 59121</div>\\r\\n<div class=\"raffleBox\">BBVT 63689</div>\\r\\n<div class=\"raffleBox\">BBVT 65433</div>\\r\\n<div class=\"raffleBox\">BBVT 65938</div>\\r\\n<div class=\"raffleBox\">BBVT 66098</div>\\r\\n<div class=\"raffleBox\">BBVT 69604</div>\\r\\n<div class=\"raffleBox\">BBVT 70195</div>\\r\\n<div class=\"raffleBox\">BBVT 72516</div>\\r\\n<div class=\"raffleBox\">BBVT 72806</div>\\r\\n<div class=\"raffleBox\">BBVT 73549</div>\\r\\n<div class=\"raffleBox\">BBVT 79543</div>\\r\\n<div class=\"raffleBox\">BBVT 80416</div>\\r\\n<div class=\"raffleBox\">BBVT 80896</div>\\r\\n<div class=\"raffleBox\">BBVT 82482</div>\\r\\n<div class=\"raffleBox\">BBVT 83908</div>\\r\\n<div class=\"raffleBox\">BBVT 86452</div>\\r\\n<div class=\"raffleBox\">BBVT 89778</div>\\r\\n<div class=\"raffleBox\">BBVT 89829</div>\\r\\n<div class=\"raffleBox\">BBVT 89856</div>\\r\\n<div class=\"raffleBox\">BBVT 91084</div>\\r\\n<div class=\"raffleBox\">BBVT 97735</div>\\r\\n<div class=\"raffleBox\">BBVV 00070</div>\\r\\n<div class=\"raffleBox\">BBVV 00816</div>\\r\\n<div class=\"raffleBox\">BBVV 04212</div>\\r\\n<div class=\"raffleBox\">BBVV 04936</div>\\r\\n<div class=\"raffleBox\">BBVV 09294</div>\\r\\n<div class=\"raffleBox\">BBVV 10885</div>\\r\\n<div class=\"raffleBox\">BBVV 11726</div>\\r\\n<div class=\"raffleBox\">BBVV 14409</div>\\r\\n<div class=\"raffleBox\">BBVV 15106</div>\\r\\n<div class=\"raffleBox\">BBVV 15413</div>\\r\\n<div class=\"raffleBox\">BBVV 16228</div>\\r\\n<div class=\"raffleBox\">BBVV 16483</div>\\r\\n<div class=\"raffleBox\">BBVV 18427</div>\\r\\n<div class=\"raffleBox\">BBVV 19810</div>\\r\\n<div class=\"raffleBox\">BBVV 20184</div>\\r\\n<div class=\"raffleBox\">BBVV 21399</div>\\r\\n<div class=\"raffleBox\">BBVV 22867</div>\\r\\n<div class=\"raffleBox\">BBVV 22909</div>\\r\\n<div class=\"raffleBox\">BBVV 23710</div>\\r\\n<div class=\"raffleBox\">BBVV 24362</div>\\r\\n<div class=\"raffleBox\">BBVV 24701</div>\\r\\n<div class=\"raffleBox\">BBVV 26867</div>\\r\\n<div class=\"raffleBox\">BBVV 28470</div>\\r\\n<div class=\"raffleBox\">BBVV 31779</div>\\r\\n<div class=\"raffleBox\">BBVV 35393</div>\\r\\n<div class=\"raffleBox\">BBVV 36431</div>\\r\\n<div class=\"raffleBox\">BBVV 36894</div>\\r\\n<div class=\"raffleBox\">BBVV 37092</div>\\r\\n<div class=\"raffleBox\">BBVV 37707</div>\\r\\n<div class=\"raffleBox\">BBVV 39132</div>\\r\\n<div class=\"raffleBox\">BBVV 40772</div>\\r\\n<div class=\"raffleBox\">BBVV 43218</div>\\r\\n<div class=\"raffleBox\">BBVV 48092</div>\\r\\n<div class=\"raffleBox\">BBVV 49135</div>\\r\\n<div class=\"raffleBox\">BBVV 50426</div>\\r\\n<div class=\"raffleBox\">BBVV 51634</div>\\r\\n<div class=\"raffleBox\">BBVV 53982</div>\\r\\n<div class=\"raffleBox\">BBVV 55901</div>\\r\\n<div class=\"raffleBox\">BBVV 55980</div>\\r\\n<div class=\"raffleBox\">BBVV 57648</div>\\r\\n<div class=\"raffleBox\">BBVV 60063</div>\\r\\n<div class=\"raffleBox\">BBVV 62236</div>\\r\\n<div class=\"raffleBox\">BBVV 63189</div>\\r\\n<div class=\"raffleBox\">BBVV 65218</div>\\r\\n<div class=\"raffleBox\">BBVV 66902</div>\\r\\n<div class=\"raffleBox\">BBVV 67197</div>\\r\\n<div class=\"raffleBox\">BBVV 68983</div>\\r\\n<div class=\"raffleBox\">BBVV 70788</div>\\r\\n<div class=\"raffleBox\">BBVV 72733</div>\\r\\n<div class=\"raffleBox\">BBVV 72771</div>\\r\\n<div class=\"raffleBox\">BBVV 73252</div>\\r\\n<div class=\"raffleBox\">BBVV 73700</div>\\r\\n<div class=\"raffleBox\">BBVV 75284</div>\\r\\n<div class=\"raffleBox\">BBVV 76285</div>\\r\\n<div class=\"raffleBox\">BBVV 78402</div>\\r\\n<div class=\"raffleBox\">BBVV 80462</div>\\r\\n<div class=\"raffleBox\">BBVV 81155</div>\\r\\n<div class=\"raffleBox\">BBVV 81422</div>\\r\\n<div class=\"raffleBox\">BBVV 81801</div>\\r\\n<div class=\"raffleBox\">BBVV 82978</div>\\r\\n<div class=\"raffleBox\">BBVV 86933</div>\\r\\n<div class=\"raffleBox\">BBVV 87258</div>\\r\\n<div class=\"raffleBox\">BBVV 87811</div>\\r\\n<div class=\"raffleBox\">BBVV 93675</div>\\r\\n<div class=\"raffleBox\">BBVV 93901</div>\\r\\n<div class=\"raffleBox\">BBVV 93904</div>\\r\\n<div class=\"raffleBox\">BBVV 95339</div>\\r\\n<div class=\"raffleBox\">BBVV 97631</div>\\r\\n<div class=\"raffleBox\">BBVW 00571</div>\\r\\n<div class=\"raffleBox\">BBVW 01594</div>\\r\\n<div class=\"raffleBox\">BBVW 02163</div>\\r\\n<div class=\"raffleBox\">BBVW 03062</div>\\r\\n<div class=\"raffleBox\">BBVW 03179</div>\\r\\n<div class=\"raffleBox\">BBVW 04031</div>\\r\\n<div class=\"raffleBox\">BBVW 05649</div>\\r\\n<div class=\"raffleBox\">BBVW 07379</div>\\r\\n<div class=\"raffleBox\">BBVW 11084</div>\\r\\n<div class=\"raffleBox\">BBVW 11127</div>\\r\\n<div class=\"raffleBox\">BBVW 11930</div>\\r\\n<div class=\"raffleBox\">BBVW 14618</div>\\r\\n<div class=\"raffleBox\">BBVW 17847</div>\\r\\n<div class=\"raffleBox\">BBVW 22346</div>\\r\\n<div class=\"raffleBox\">BBVW 25428</div>\\r\\n<div class=\"raffleBox\">BBVW 25683</div>\\r\\n<div class=\"raffleBox\">BBVW 25994</div>\\r\\n<div class=\"raffleBox\">BBVW 26652</div>\\r\\n<div class=\"raffleBox\">BBVW 27621</div>\\r\\n<div class=\"raffleBox\">BBVW 29212</div>\\r\\n<div class=\"raffleBox\">BBVW 29645</div>\\r\\n<div class=\"raffleBox\">BBVW 31053</div>\\r\\n<div class=\"raffleBox\">BBVW 34339</div>\\r\\n<div class=\"raffleBox\">BBVW 35694</div>\\r\\n<div class=\"raffleBox\">BBVW 36346</div>\\r\\n<div class=\"raffleBox\">BBVW 37656</div>\\r\\n<div class=\"raffleBox\">BBVW 39654</div>\\r\\n<div class=\"raffleBox\">BBVW 42161</div>\\r\\n<div class=\"raffleBox\">BBVW 43724</div>\\r\\n<div class=\"raffleBox\">BBVW 44075</div>\\r\\n<div class=\"raffleBox\">BBVW 44162</div>\\r\\n<div class=\"raffleBox\">BBVW 44830</div>\\r\\n<div class=\"raffleBox\">BBVW 45361</div>\\r\\n<div class=\"raffleBox\">BBVW 46163</div>\\r\\n<div class=\"raffleBox\">BBVW 46782</div>\\r\\n<div class=\"raffleBox\">BBVW 52636</div>\\r\\n<div class=\"raffleBox\">BBVW 54341</div>\\r\\n<div class=\"raffleBox\">BBVW 56901</div>\\r\\n<div class=\"raffleBox\">BBVW 57116</div>\\r\\n<div class=\"raffleBox\">BBVW 57363</div>\\r\\n<div class=\"raffleBox\">BBVW 57989</div>\\r\\n<div class=\"raffleBox\">BBVW 58752</div>\\r\\n<div class=\"raffleBox\">BBVW 59926</div>\\r\\n<div class=\"raffleBox\">BBVW 61870</div>\\r\\n<div class=\"raffleBox\">BBVW 64366</div>\\r\\n<div class=\"raffleBox\">BBVW 64382</div>\\r\\n<div class=\"raffleBox\">BBVW 64559</div>\\r\\n<div class=\"raffleBox\">BBVW 67079</div>\\r\\n<div class=\"raffleBox\">BBVW 67403</div>\\r\\n<div class=\"raffleBox\">BBVW 67698</div>\\r\\n<div class=\"raffleBox\">BBVW 69244</div>\\r\\n<div class=\"raffleBox\">BBVW 75916</div>\\r\\n<div class=\"raffleBox\">BBVW 77011</div>\\r\\n<div class=\"raffleBox\">BBVW 77496</div>\\r\\n<div class=\"raffleBox\">BBVW 78938</div>\\r\\n<div class=\"raffleBox\">BBVW 79449</div>\\r\\n<div class=\"raffleBox\">BBVW 81621</div>\\r\\n<div class=\"raffleBox\">BBVW 84088</div>\\r\\n<div class=\"raffleBox\">BBVW 84650</div>\\r\\n<div class=\"raffleBox\">BBVW 84741</div>\\r\\n<div class=\"raffleBox\">BBVW 86041</div>\\r\\n<div class=\"raffleBox\">BBVW 87296</div>\\r\\n<div class=\"raffleBox\">BBVW 88039</div>\\r\\n<div class=\"raffleBox\">BBVW 89467</div>\\r\\n<div class=\"raffleBox\">BBVW 89583</div>\\r\\n<div class=\"raffleBox\">BBVW 89837</div>\\r\\n<div class=\"raffleBox\">BBVW 89892</div>\\r\\n<div class=\"raffleBox\">BBVW 93515</div>\\r\\n<div class=\"raffleBox\">BBVW 95781</div>\\r\\n<div class=\"raffleBox\">BBVW 98400</div>\\r\\n<div class=\"raffleBox\">BBVW 99874</div>\\r\\n<div class=\"raffleBox\">BBVX 02076</div>\\r\\n<div class=\"raffleBox\">BBVX 06624</div>\\r\\n<div class=\"raffleBox\">BBVX 07877</div>\\r\\n<div class=\"raffleBox\">BBVX 07895</div>\\r\\n<div class=\"raffleBox\">BBVX 10256</div>\\r\\n<div class=\"raffleBox\">BBVX 10472</div>\\r\\n<div class=\"raffleBox\">BBVX 15777</div>\\r\\n<div class=\"raffleBox\">BBVX 15823</div>\\r\\n<div class=\"raffleBox\">BBVX 16458</div>\\r\\n<div class=\"raffleBox\">BBVX 17680</div>\\r\\n<div class=\"raffleBox\">BBVX 20223</div>\\r\\n<div class=\"raffleBox\">BBVX 21224</div>\\r\\n<div class=\"raffleBox\">BBVX 22422</div>\\r\\n<div class=\"raffleBox\">BBVX 22610</div>\\r\\n<div class=\"raffleBox\">BBVX 25398</div>\\r\\n<div class=\"raffleBox\">BBVX 30950</div>\\r\\n<div class=\"raffleBox\">BBVX 36636</div>\\r\\n<div class=\"raffleBox\">BBVX 40759</div>\\r\\n<div class=\"raffleBox\">BBVX 41856</div>\\r\\n<div class=\"raffleBox\">BBVX 42909</div>\\r\\n<div class=\"raffleBox\">BBVX 44819</div>\\r\\n<div class=\"raffleBox\">BBVX 45181</div>\\r\\n<div class=\"raffleBox\">BBVX 46763</div>\\r\\n<div class=\"raffleBox\">BBVX 53748</div>\\r\\n<div class=\"raffleBox\">BBVX 53789</div>\\r\\n<div class=\"raffleBox\">BBVX 54010</div>\\r\\n<div class=\"raffleBox\">BBVX 55129</div>\\r\\n<div class=\"raffleBox\">BBVX 56636</div>\\r\\n<div class=\"raffleBox\">BBVX 57759</div>\\r\\n<div class=\"raffleBox\">BBVX 58560</div>\\r\\n<div class=\"raffleBox\">BBVX 58734</div>\\r\\n<div class=\"raffleBox\">BBVX 61073</div>\\r\\n<div class=\"raffleBox\">BBVX 62422</div>\\r\\n<div class=\"raffleBox\">BBVX 62834</div>\\r\\n<div class=\"raffleBox\">BBVX 62835</div>\\r\\n<div class=\"raffleBox\">BBVX 64000</div>\\r\\n<div class=\"raffleBox\">BBVX 70648</div>\\r\\n<div class=\"raffleBox\">BBVX 70779</div>\\r\\n<div class=\"raffleBox\">BBVX 71376</div>\\r\\n<div class=\"raffleBox\">BBVX 72156</div>\\r\\n<div class=\"raffleBox\">BBVX 72228</div>\\r\\n<div class=\"raffleBox\">BBVX 75022</div>\\r\\n<div class=\"raffleBox\">BBVX 76596</div>\\r\\n<div class=\"raffleBox\">BBVX 80577</div>\\r\\n<div class=\"raffleBox\">BBVX 82606</div>\\r\\n<div class=\"raffleBox\">BBVX 83600</div>\\r\\n<div class=\"raffleBox\">BBVX 84770</div>\\r\\n<div class=\"raffleBox\">BBVX 85575</div>\\r\\n<div class=\"raffleBox\">BBVX 86907</div>\\r\\n<div class=\"raffleBox\">BBVX 89607</div>\\r\\n<div class=\"raffleBox\">BBVX 89760</div>\\r\\n<div class=\"raffleBox\">BBVX 90592</div>\\r\\n<div class=\"raffleBox\">BBVX 90675</div>\\r\\n<div class=\"raffleBox\">BBVX 98774</div>\\r\\n<div class=\"raffleBox\">BBVX 99097</div>\\r\\n<div class=\"raffleBox\">BBVZ 00060</div>\\r\\n<div class=\"raffleBox\">BBVZ 02728</div>\\r\\n<div class=\"raffleBox\">BBVZ 03045</div>\\r\\n<div class=\"raffleBox\">BBVZ 05765</div>\\r\\n<div class=\"raffleBox\">BBVZ 10327</div>\\r\\n<div class=\"raffleBox\">BBVZ 11606</div>\\r\\n<div class=\"raffleBox\">BBVZ 11834</div>\\r\\n<div class=\"raffleBox\">BBVZ 12042</div>\\r\\n<div class=\"raffleBox\">BBVZ 12159</div>\\r\\n<div class=\"raffleBox\">BBVZ 15462</div>\\r\\n<div class=\"raffleBox\">BBVZ 20733</div>\\r\\n<div class=\"raffleBox\">BBVZ 22719</div>\\r\\n<div class=\"raffleBox\">BBVZ 23211</div>\\r\\n<div class=\"raffleBox\">BBVZ 23811</div>\\r\\n<div class=\"raffleBox\">BBVZ 27003</div>\\r\\n<div class=\"raffleBox\">BBVZ 28057</div>\\r\\n<div class=\"raffleBox\">BBVZ 31347</div>\\r\\n<div class=\"raffleBox\">BBVZ 31832</div>\\r\\n<div class=\"raffleBox\">BBVZ 33059</div>\\r\\n<div class=\"raffleBox\">BBVZ 33401</div>\\r\\n<div class=\"raffleBox\">BBVZ 33646</div>\\r\\n<div class=\"raffleBox\">BBVZ 36991</div>\\r\\n<div class=\"raffleBox\">BBVZ 42672</div>\\r\\n<div class=\"raffleBox\">BBVZ 44491</div>\\r\\n<div class=\"raffleBox\">BBVZ 44562</div>\\r\\n<div class=\"raffleBox\">BBVZ 45079</div>\\r\\n<div class=\"raffleBox\">BBVZ 45600</div>\\r\\n<div class=\"raffleBox\">BBVZ 46867</div>\\r\\n<div class=\"raffleBox\">BBVZ 46926</div>\\r\\n<div class=\"raffleBox\">BBVZ 48469</div>\\r\\n<div class=\"raffleBox\">BBVZ 48779</div>\\r\\n<div class=\"raffleBox\">BBVZ 51383</div>\\r\\n<div class=\"raffleBox\">BBVZ 52692</div>\\r\\n<div class=\"raffleBox\">BBVZ 55588</div>\\r\\n<div class=\"raffleBox\">BBVZ 55941</div>\\r\\n<div class=\"raffleBox\">BBVZ 55998</div>\\r\\n<div class=\"raffleBox\">BBVZ 57703</div>\\r\\n<div class=\"raffleBox\">BBVZ 58654</div>\\r\\n<div class=\"raffleBox\">BBVZ 60586</div>\\r\\n<div class=\"raffleBox\">BZZZ 64908</div>\\r\\n<div class=\"raffleBox\">BZZZ 74377</div>\\r\\n\\r\\n\\t\\t\\t\\t\\t\\t\\t\\r\\n\\t\\t\\t\\t\\t\\t\\t<br><a href=\"/my-bonus\" title=\"Read more about the My Bonus draw\" class=\"link\">Read more about the My Bonus draw</a>\\r\\n\\t\\t\\t\\t\\t\\t\\r\\n\\t\\t\\t\\t\\t</div>\\r\\n\\t\\t\\t\\t\\r\\n\\t\\t\\t\\t\\t<div id=\"DrawAT\">\\r\\n\\t\\t\\t\\t\\t\\t<h3 id=\"austrian-joker\">Austrian Joker Results</h3>\\r\\n\\t\\t\\t\\t\\t\\t<p>With the Austrian Joker being drawn on dissimilar days to EuroMillions, please refer to the Austrian Joker page for results relevant to your ticket:</p>\\r\\n\\t\\t\\t\\t\\t\\t<br><a href=\"/austria-joker\" title=\"Read more about the Austrian Joker draw\" class=\"link\">Read more about the Austrian Joker draw</a>\\r\\n\\t\\t\\t\\t\\t</div>\\r\\n\\t\\t\\t\\t\\r\\n\\t\\t\\t\\t\\t<div id=\"DrawLU\">\\r\\n\\t\\t\\t\\t\\t\\t<h3 id=\"luxembourg-joker\">Luxembourg Joker Results</h3>\\r\\n\\t\\t\\t\\t\\t\\t<ul class=\"balls\">\\r\\n<li class=\"joker\">6</li>\\r\\n<li class=\"joker\">1</li>\\r\\n<li class=\"joker\">0</li>\\r\\n<li class=\"joker\">6</li>\\r\\n<li class=\"joker\">4</li>\\r\\n<li class=\"joker\">9</li>\\r\\n</ul>\\r\\n\\r\\n\\t\\t\\t\\t\\t<table class=\"table breakdown mobFormat\">\\r\\n\\t\\t\\t\\t\\t\\t<thead>\\r\\n\\t\\t\\t\\t\\t\\t\\t<tr>\\r\\n\\t\\t\\t\\t\\t\\t\\t\\t<th class=\"lefty\">Prize Categories</th>\\r\\n\\t\\t\\t\\t\\t\\t\\t\\t<th class=\"righty\">Prize Per Winner</th>\\r\\n\\t\\t\\t\\t\\t\\t\\t\\t<th class=\"righty\">Winners</th>\\r\\n\\t\\t\\t\\t\\t\\t\\t\\t<th class=\"righty\">Prize Fund Amount</th>\\r\\n\\t\\t\\t\\t\\t\\t\\t</tr>\\r\\n\\t\\t\\t\\t\\t\\t</thead>\\r\\n\\t\\t\\t\\t\\t\\t<tbody><tr>\\r\\n\\t\\t\\t\\t\\t\\t\\t\\t\\t<td class=\"lefty colour\" data-title=\"Numbers Matched\">Match 6</td><td class=\"righty\" data-title=\"Prize Per Winner\">&euro;500,000.00</td>\\r\\n\\t\\t\\t\\t\\t\\t\\t\\t\\t\\t\\t<td class=\"righty\" data-title=\"Winners\">0</td>\\r\\n\\t\\t\\t\\t\\t\\t\\t\\t\\t\\t\\t<td class=\"righty\" data-title=\"Prize Fund Amount\">&euro;0.00</td></tr><tr>\\r\\n\\t\\t\\t\\t\\t\\t\\t\\t\\t<td class=\"lefty colour\" data-title=\"Numbers Matched\">Match Last 5 in Exact Order</td><td class=\"righty\" data-title=\"Prize Per Winner\">&euro;10,000.00</td>\\r\\n\\t\\t\\t\\t\\t\\t\\t\\t\\t\\t\\t<td class=\"righty\" data-title=\"Winners\">0</td>\\r\\n\\t\\t\\t\\t\\t\\t\\t\\t\\t\\t\\t<td class=\"righty\" data-title=\"Prize Fund Amount\">&euro;0.00</td></tr><tr>\\r\\n\\t\\t\\t\\t\\t\\t\\t\\t\\t<td class=\"lefty colour\" data-title=\"Numbers Matched\">Match Last 4 in Exact Order</td><td class=\"righty\" data-title=\"Prize Per Winner\">&euro;1,000.00</td>\\r\\n\\t\\t\\t\\t\\t\\t\\t\\t\\t\\t\\t<td class=\"righty\" data-title=\"Winners\">2</td>\\r\\n\\t\\t\\t\\t\\t\\t\\t\\t\\t\\t\\t<td class=\"righty\" data-title=\"Prize Fund Amount\">&euro;2,000.00</td></tr><tr>\\r\\n\\t\\t\\t\\t\\t\\t\\t\\t\\t<td class=\"lefty colour\" data-title=\"Numbers Matched\">Match Last 3 in Exact Order</td><td class=\"righty\" data-title=\"Prize Per Winner\">&euro;100.00</td>\\r\\n\\t\\t\\t\\t\\t\\t\\t\\t\\t\\t\\t<td class=\"righty\" data-title=\"Winners\">20</td>\\r\\n\\t\\t\\t\\t\\t\\t\\t\\t\\t\\t\\t<td class=\"righty\" data-title=\"Prize Fund Amount\">&euro;2,000.00</td></tr><tr>\\r\\n\\t\\t\\t\\t\\t\\t\\t\\t\\t<td class=\"lefty colour\" data-title=\"Numbers Matched\">Match Last 2 in Exact Order</td><td class=\"righty\" data-title=\"Prize Per Winner\">&euro;10.00</td>\\r\\n\\t\\t\\t\\t\\t\\t\\t\\t\\t\\t\\t<td class=\"righty\" data-title=\"Winners\">133</td>\\r\\n\\t\\t\\t\\t\\t\\t\\t\\t\\t\\t\\t<td class=\"righty\" data-title=\"Prize Fund Amount\">&euro;1,330.00</td></tr><tr>\\r\\n\\t\\t\\t\\t\\t\\t\\t\\t\\t<td class=\"lefty colour\" data-title=\"Numbers Matched\">Match Last 1 in Exact Order</td><td class=\"righty\" data-title=\"Prize Per Winner\">&euro;2.00</td>\\r\\n\\t\\t\\t\\t\\t\\t\\t\\t\\t\\t\\t<td class=\"righty\" data-title=\"Winners\">1,458</td>\\r\\n\\t\\t\\t\\t\\t\\t\\t\\t\\t\\t\\t<td class=\"righty\" data-title=\"Prize Fund Amount\">&euro;2,916.00</td></tr><tr class=\"totals\">\\r\\n\\t\\t\\t\\t\\t\\t\\t\\t\\t<td class=\"lefty colour\" data-title=\"Numbers Matched\">Totals</td><td class=\"righty\" data-title=\"Prize Per Winner\">-</td>\\r\\n\\t\\t\\t\\t\\t\\t\\t\\t\\t\\t\\t<td class=\"righty\" data-title=\"Winners\">1,613</td>\\r\\n\\t\\t\\t\\t\\t\\t\\t\\t\\t\\t\\t<td class=\"righty\" data-title=\"Prize Fund Amount\">&euro;8,246.00</td></tr></tbody>\\r\\n\\t\\t\\t\\t\\t</table>\\r\\n\\t\\t\\t\\t\\t\\t<br><a href=\"/luxembourg-joker\" title=\"Read more about the Luxembourg Joker draw\" class=\"link\">Read more about the Luxembourg Joker draw</a>\\r\\n\\t\\t\\t\\t\\t\\t\\r\\n\\t\\t\\t\\t\\t\\t\\t<h3 id=\"extra-lux\">Extra Lux Results</h3>\\r\\n\\t\\t\\t\\t\\t\\t\\t<ul class=\"balls\">\\r\\n<li class=\"resultBall ball ring\">6</li>\\r\\n<li class=\"resultBall ball ring\">8</li>\\r\\n<li class=\"resultBall ball ring\">35</li>\\r\\n<li class=\"resultBall ball ring\">47</li>\\r\\n<li class=\"resultBall ball ring\">49</li>\\r\\n</ul>\\r\\n\\r\\n\\t\\t\\t\\t\\t<table class=\"table breakdown mobFormat\">\\r\\n\\t\\t\\t\\t\\t\\t<thead>\\r\\n\\t\\t\\t\\t\\t\\t\\t<tr>\\r\\n\\t\\t\\t\\t\\t\\t\\t\\t<th class=\"lefty\">Prize Categories</th>\\r\\n\\t\\t\\t\\t\\t\\t\\t\\t<th class=\"righty\">Prize Per Winner</th>\\r\\n\\t\\t\\t\\t\\t\\t\\t\\t<th class=\"righty\">Winners</th>\\r\\n\\t\\t\\t\\t\\t\\t\\t\\t<th class=\"righty\">Prize Fund Amount</th>\\r\\n\\t\\t\\t\\t\\t\\t\\t</tr>\\r\\n\\t\\t\\t\\t\\t\\t</thead>\\r\\n\\t\\t\\t\\t\\t\\t<tbody><tr>\\r\\n\\t\\t\\t\\t\\t\\t\\t\\t\\t<td class=\"lefty colour\" data-title=\"Numbers Matched\">Match 5</td><td class=\"righty\" data-title=\"Prize Per Winner\">&euro;100,000.00</td>\\r\\n\\t\\t\\t\\t\\t\\t\\t\\t\\t\\t\\t<td class=\"righty\" data-title=\"Winners\">0</td>\\r\\n\\t\\t\\t\\t\\t\\t\\t\\t\\t\\t\\t<td class=\"righty\" data-title=\"Prize Fund Amount\">&euro;0.00</td></tr><tr>\\r\\n\\t\\t\\t\\t\\t\\t\\t\\t\\t<td class=\"lefty colour\" data-title=\"Numbers Matched\">Match 4</td><td class=\"righty\" data-title=\"Prize Per Winner\">&euro;500.00</td>\\r\\n\\t\\t\\t\\t\\t\\t\\t\\t\\t\\t\\t<td class=\"righty\" data-title=\"Winners\">14</td>\\r\\n\\t\\t\\t\\t\\t\\t\\t\\t\\t\\t\\t<td class=\"righty\" data-title=\"Prize Fund Amount\">&euro;7,000.00</td></tr><tr>\\r\\n\\t\\t\\t\\t\\t\\t\\t\\t\\t<td class=\"lefty colour\" data-title=\"Numbers Matched\">Match 3</td><td class=\"righty\" data-title=\"Prize Per Winner\">&euro;10.00</td>\\r\\n\\t\\t\\t\\t\\t\\t\\t\\t\\t\\t\\t<td class=\"righty\" data-title=\"Winners\">555</td>\\r\\n\\t\\t\\t\\t\\t\\t\\t\\t\\t\\t\\t<td class=\"righty\" data-title=\"Prize Fund Amount\">&euro;5,550.00</td></tr><tr class=\"totals\">\\r\\n\\t\\t\\t\\t\\t\\t\\t\\t\\t<td class=\"lefty colour\" data-title=\"Numbers Matched\">Totals</td><td class=\"righty\" data-title=\"Prize Per Winner\">-</td>\\r\\n\\t\\t\\t\\t\\t\\t\\t\\t\\t\\t\\t<td class=\"righty\" data-title=\"Winners\">569</td>\\r\\n\\t\\t\\t\\t\\t\\t\\t\\t\\t\\t\\t<td class=\"righty\" data-title=\"Prize Fund Amount\">&euro;12,550.00</td></tr></tbody>\\r\\n\\t\\t\\t\\t\\t</table>\\r\\n\\t\\t\\t\\t\\t\\t\\t<br><a href=\"/extra-lux\" title=\"Read more about the Extra Lux draw\" class=\"link\">Read more about the Extra Lux draw</a>\\r\\n\\t\\t\\t\\t\\t\\t\\r\\n\\t\\t\\t\\t\\t</div>\\r\\n\\t\\t\\t\\t\\r\\n\\t\\t\\t\\t\\r\\n\\t\\t\\t</div>\\r\\n\\t\\t\\r\\n\\t\\t</div>\\r\\n\\t\\t\\r\\n\\t\\r\\n\\t\\r\\n\\t<div style=\"padding: 4px;\">\\r\\n\\t\\t\\r\\n\\t\\t\\t<a href=\"/results/25-04-2025\" class=\"btn left floatLeft\" title=\"View the Previous EuroMillions Result\">Previous Result</a>\\r\\n\\t\\t\\r\\n\\t\\t\\t<a href=\"/results/02-05-2025\" class=\"btn floatRight\" title=\"View the Next EuroMillions Result\">Next Result</a>\\r\\n\\t\\t\\r\\n\\t\\t<br class=\"clear\">\\r\\n\\t</div>\\r\\n\\t\\r\\n</div>\\r\\n\\r\\n\\t</div>\\r\\n\\r\\n\\t<footer>\\r\\n\\t\\r\\n\\t\\t<div class=\"inner\">\\r\\n\\t\\t\\t\\r\\n\\t\\t\\t<img src=\"/images/layout/logo-blue.svg\" alt=\"Euro-Millions.com Logo\" width=\"250\" height=\"35\" class=\"logo\" loading=\"lazy\">\\r\\n\\t\\t\\t<a href=\"https://www.gambleaware.org/\" title=\"Gambleaware\" target=\"_blank\" rel=\"noopener\" class=\"logo\" style=\"padding-top: 6px;\"><img src=\"/images/layout/gambleaware-blue.svg\" alt=\"Gambleaware Logo\" width=\"160\" height=\"21\" loading=\"lazy\"></a>\\r\\n\\t\\t\\t\\r\\n\\t\\t\\t<ul class=\"social fx wrapSM acen jcen\">\\r\\n\\t\\t\\t\\t<li>\\r\\n\\t\\t\\t\\t\\t<a href=\"https://x.com/uk_euromillions\" title=\"EuroMillions X\" target=\"_blank\" rel=\"noopener\" class=\"scaled\">\\r\\n\\t\\t\\t\\t\\t\\t<img src=\"/images/icons/twitter.svg\" alt=\"X\" width=\"40\" height=\"40\" loading=\"lazy\">\\r\\n\\t\\t\\t\\t\\t</a>\\r\\n\\t\\t\\t\\t\\t<!-- <a href=\"https://www.instagram.com/euromillions/\" title=\"EuroMillions Instagram\" target=\"_blank\" rel=\"noopener\" class=\"scaled\">\\r\\n\\t\\t\\t\\t\\t\\t<img src=\"/images/icons/instagram.svg\" alt=\"Instagram\" width=\"40\" height=\"40\" loading=\"lazy\">\\r\\n\\t\\t\\t\\t\\t</a> -->\\r\\n\\t\\t\\t\\t\\t<a href=\"https://www.facebook.com/GB.EuroMillions/\" title=\"EuroMillions Facebook\" target=\"_blank\" rel=\"noopener\" class=\"scaled\">\\r\\n\\t\\t\\t\\t\\t\\t<img src=\"/images/icons/facebook.svg\" alt=\"Facebook\" width=\"40\" height=\"40\" loading=\"lazy\">\\r\\n\\t\\t\\t\\t\\t</a>\\r\\n\\t\\t\\t\\t</li>\\r\\n\\t\\t\\t\\t\\r\\n\\t\\t\\t\\t\\t<li class=\"appStore\">\\r\\n\\t\\t\\t\\t\\t\\t<a href=\"/en/play/euromillions-app\" title=\"Download the iPhone App\" target=\"_blank\" rel=\"nofollow noopener\" class=\"scaled\"><img src=\"/images/apps/button-app-store-blue.svg\" alt=\"Apple App Store\" width=\"160\" height=\"50\" loading=\"lazy\"></a>\\r\\n\\t\\t\\t\\t\\t\\t<a href=\"/en/play/euro-millions-com-android\" title=\"Download the Android App\" target=\"_blank\" rel=\"nofollow noopener\" class=\"scaled\"><img src=\"/images/apps/button-google-play-blue.svg\" alt=\"Google Play Store\" width=\"160\" height=\"50\" loading=\"lazy\"></a>\\r\\n\\t\\t\\t\\t\\t</li>\\r\\n\\t\\t\\t\\t\\r\\n\\t\\t\\t</ul>\\r\\n\\t\\t\\t\\r\\n\\t\\t\\t<p class=\"copyright\">\\r\\n\\t\\t\\t\\t<strong>Material Copyright &copy; 2025 Euro-Millions.com. All rights reserved.</strong><br>\\r\\n\\t\\t\\t\\tThe content and operations of this website have not been approved or endorsed by Allwyn, the National Lottery Commission or SLE. Please read our full <a href=\"/disclaimer\" title=\"disclaimer\">disclaimer</a>. Players must be 18 or over to participate in online lotteries.\\r\\n\\t\\t\\t</p>\\r\\n\\t\\t\\t\\r\\n\\t\\t\\t<ul class=\"links\">\\r\\n\\t\\t\\t\\t<li><a href=\"/about\" title=\"About Us - Euro-Millions.com\">About Us</a></li>\\r\\n\\t\\t\\t\\t<li><a href=\"/privacy-policy\" title=\"Privacy Policy\">Privacy Policy</a></li>\\r\\n\\t\\t\\t\\t<li><a href=\"/cookie-policy\" title=\"Cookie Policy\">Cookie Policy</a></li>\\r\\n\\t\\t\\t\\t<li><a href=\"/sitemap\" title=\"Sitemap\">Sitemap</a></li>\\r\\n\\t\\t\\t\\t<li><a href=\"/contact\" title=\"Contact Us\">Contact</a></li>\\r\\n\\t\\t\\t\\t<li><a href=\"/terms-and-conditions\" title=\"Terms and Conditions\">Terms and Conditions</a>\\r\\n\\t\\t\\t</ul>\\r\\n\\t\\r\\n\\t\\t</div>\\r\\n\\r\\n\\t</footer>\\r\\n\\r\\n\\t<script src=\"/js/main?v=AEPiPar9VWAxER0WgZdKkPj8RGkai9ZidHlJ6COqHz41\"></script>\\r\\n\\r\\n\\t\\r\\n\\t\\r\\n\\t\\r\\n\\r\\n\\t<style>\\r\\n        #jackpotPromo {background: blue; background: linear-gradient(90deg, rgba(25,41,118,1) 0%, rgba(211,56,234,1) 100%); position: fixed; width: 100%; z-index: 9999; color: #FFF; transition:all ease .2s; left: 0;}\\r\\n\\t\\t#jackpotPromo-inner {position: relative; width: 1200px;  margin: auto; display: flex; text-decoration: none; padding:40px 0; align-items:center; background-size: contain; height:100px; justify-content:space-between;box-sizing: content-box;}\\r\\n\\t\\t#jackpotPromo .date {font: bold 18px/20px inter; text-align: center; color: #FD0;}\\r\\n\\t\\t#jackpotPromo .jackpot {letter-spacing: -3px; font: bold 84px/84px inter; text-align: center;}\\r\\n\\t\\t#jackpotPromo .imgBox {margin-right:50px; transform: rotate(-4deg);z-index:5;}\\r\\n\\t\\t#jackpotPromo .imgBox img {width:280px}\\r\\n\\t\\t#jackpotPromo .button-yellow {margin-left:30px;}\\r\\n\\t\\t#jackpotPromo-close {background: #000; position: absolute; top: -15px; right: 20px; height: 30px; width: 30px;border-radius: 20px; text-align: center; color: #FFF; font: bold 20px/30px inter, sans-serif; cursor: pointer; z-index: 999;}\\r\\n\\t\\t#jackpotPromo .slide.active { opacity:1; visibility:visible; transform:translateY(0);}\\r\\n\\t\\t#jackpotPromo .elem1, #jackpotPromo .elem2 {display:flex; align-items:center;}\\r\\n\\t\\t#jackpotPromo-closeInner {background-color: #000; position: relative; float: right; width: 20px; height: 20px; font-size: 18px; border-radius: 20px; text-align: center;}\\r\\n\\t\\t#jackpotPromo .timerBox {display:flex; flex-direction:column; align-items:center; justify-content:center;margin:0 0 0 0;}\\r\\n\\t\\t#jackpotPromo .timerBox .title {margin-bottom:5px;}\\r\\n\\r\\n\\t\\t#jackpotPromo .slider {opacity:0; visibility:hidden;  transition:all ease .2s; position:absolute; left:50%; transform:translate(-50%,20px); display:flex; width:100%; justify-content:center}\\r\\n\\t\\t#jackpotPromo .slider.active {opacity:1; visibility:visible; transform:translate(-50%,0); left:50%}\\r\\n\\t\\t#jackpotPromo .timerBox ul {display:flex; font-family: inter, sans-serif; justify-content:center; width:100%; padding:0;}\\r\\n\\t\\t#jackpotPromo .timerBox ul li {display:flex; flex-direction:column; text-align:center; width:auto; position:relative; margin-right:5px; padding-right:5px; min-width:50px;}\\r\\n\\t\\t#jackpotPromo .timerBox ul li:last-child {margin-right:0;padding-right:0;}\\r\\n\\t\\t#jackpotPromo .timerBox ul li .counterType {font-size:24px;line-height:24px;font-weight:700; color:#fff;}\\r\\n\\t\\t#jackpotPromo .timerBox ul li .counterVal {font-size:10px; line-height:10px; font-weight:400; text-transform:uppercase; color:#fff;}\\r\\n\\t\\t#jackpotPromo .timerBox ul li:last-child .counterType {animation-duration:1s;animation-name:popAlt2;}\\r\\n\\t\\t#jackpotPromo .timerBox ul li:after {content:\":\"; width:2px; height:auto; display:inline-block; font-size:24px; line-height:24px; position:absolute; right:0; top:50%; transform:translateY(-50%);}\\r\\n\\t\\t#jackpotPromo .timerBox ul li:last-child:after {display:none;}\\r\\n\\t\\t#jackpotPromo .imgBox-2 {position: static;}\\r\\n\\t\\t#jackpotPromo .imgBox-2 img {width:300px; position:absolute; left:230px; bottom:0;}\\r\\n\\t\\t#jackpotPromo .imgBox-3 {display:none;}\\r\\n\\t\\t.jackpot-timer {position:relative;width: 610px;display: flex;flex-direction: column;justify-content: center; align-items:center}\\r\\n\\r\\n\\t\\t@media (max-width:1300px) {\\r\\n\\t\\t\\t#jackpotPromo .imgBox img {width:250px;}\\r\\n\\t\\t\\t#jackpotPromo-inner {padding:40px 4%; width:92%}\\r\\n\\t\\t\\t#jackpotPromo .slider {right:50px;}\\r\\n\\t\\t\\t#jackpotPromo .imgBox {margin:0 0 0 50px}\\r\\n\\t\\t\\t#jackpotPromo .jackpot {font-size:58px;}\\r\\n\\t\\t\\t.jackpot-timer {width:400px}\\r\\n\\t\\t}\\r\\n\\r\\n\\t\\t@media (max-width:1024px) {\\r\\n\\t\\t\\t#jackpotPromo .jackpot {font-size:48px; line-height:48px; margin-bottom:15px;}\\r\\n\\t\\t\\t#jackpotPromo .elem2 {display:flex; flex-direction:column; align-items:center;}\\r\\n\\t\\t\\t#jackpotPromo .timerBox {margin-bottom:30px}\\r\\n\\r\\n\\t\\t}\\r\\n\\r\\n\\t\\t@media (max-width:992px) {\\r\\n\\t\\t\\t#jackpotPromo .elem1 {flex-direction:column; align-items:center;}\\r\\n\\t\\t\\t#jackpotPromo .imgBox {margin:0;}\\r\\n\\t\\t\\t#jackpotPromo .imgBox img {width:200px}\\r\\n\\t\\t\\t#jackpotPromo .imgBox-2 img { left:0; opacity:.2}\\r\\n\\t\\t\\t#jackpotPromo .jackpot-timer  {position:absolute;left:50%;transform:translateX(-50%)}\\r\\n\\t\\t}\\r\\n\\t\\t\\r\\n\\t\\t@media (max-width:768px) {\\r\\n\\t\\t\\t#jackpotPromo .imgBox-2 img {width:360px; opacity:.3;}\\r\\n\\t\\t\\t#jackpotPromo .jackpot {margin-bottom:0;}\\r\\n\\t\\t\\t#jackpotPromo .jackpot-timer {left:0; transform:translateX(0); width:100%; align-items: flex-start}\\r\\n\\t\\t}\\r\\n\\r\\n\\t\\t@media (max-width:720px) {\\r\\n\\t\\t\\t#jackpotPromo .jackpot {font-size:40px;line-height:40px}\\r\\n\\t\\t\\t#jackpotPromo .date {font-size:16px;}\\r\\n\\t\\t\\t#jackpotPromo-inner {flex-direction:column}\\r\\n\\t\\t\\t#jackpotPromo .jackpot-timer {position: relative; min-height:65px}\\r\\n\\t\\t\\t#jackpotPromo-inner {height:180px}\\r\\n\\t\\t\\t#jackpotPromo .button-yellow {margin-left:0;}\\r\\n\\t\\t}\\r\\n\\r\\n\\t\\t@media (max-width:640px) {\\r\\n\\t\\t\\t#jackpotPromo .imgBox-2 {position:absolute;left:-0; width:100%; bottom:-10px;}\\r\\n\\t\\t\\t#jackpotPromo .jackpot {font-size:60px; line-height:60px}\\r\\n\\t\\t\\t#jackpotPromo .jackpot-timer {position:relative;left:auto;transform: translateX(0); width:60%}\\r\\n\\t\\t\\t\\r\\n\\t\\t}\\r\\n\\t\\t\\r\\n\\t\\t@media (max-width:576px) {\\r\\n\\t\\t\\t#jackpotPromo .jackpot {font-size:48px; line-height:48px}\\r\\n\\t\\t}\\r\\n\\r\\n\\t\\t@media (max-width:505px) {\\r\\n\\t\\t\\t#jackpotPromo .imgBox-2 {left:-80px;}\\r\\n\\t\\t\\t#jackpotPromo-inner {flex-direction:column; padding:15px 4%}\\r\\n\\t\\t\\t#jackpotPromo .jackpot-timer {width:100%}\\r\\n\\t\\t\\t#jackpotPromo .button-yellow {margin:0; display:inline-block; padding:5px 45px 5px 25px}\\r\\n\\t\\t\\t#jackpotPromo .slider {top:0;}\\r\\n\\r\\n\\t\\t}\\r\\n\\t\\t\\t\\r\\n\\t\\t@media (max-width:380px) {\\r\\n\\t\\t\\t#jackpotPromo .slider {left:50%; transform:translate(-50%, -20px); right:auto; width:100%}\\r\\n\\t\\t\\t#jackpotPromo .slider.active {left:50%; transform:translate(-50%, 0); right:auto; width:100%}\\r\\n\\t\\t\\t#jackpotPromo .timerBox {margin:0 0 15px 0}\\r\\n\\t\\t}\\r\\n\\t\\t\\r\\n\\t\\t@keyframes popAlt2 {\\r\\n\\t\\t\\t0% {transform: scale(1.1);}\\r\\n\\t\\t\\t50% {transform: scale(1.4); text-shadow:0 0 50px #ffde00; color:#ffde00}\\r\\n\\t\\t\\t100% {transform: scale(1.1);}\\r\\n\\t\\t}\\r\\n\\t</style>\\r\\n\\t\\r\\n\\t<div id=\"jackpotPromo\" style=\"bottom:-200px\">\\r\\n\\t\\t<div id=\"jackpotPromo-inner\">\\r\\n\\t\\t\\t<div class=\"imgBox slide\">\\r\\n\\t\\t\\t\\t<img src=\"/images/jackpot-promo/euromillions-alert-logo.svg\" alt=\"Logo\">\\r\\n\\t\\t\\t</div>\\r\\n\\t\\t\\t<div class=\"imgBox-2\">\\r\\n\\t\\t\\t\\t<img src=\"/images/jackpot-promo/jackpot-bg-euromillions.png\" alt=\"People\">\\r\\n\\t\\t\\t</div>\\r\\n\\t\\t\\t<div class=\"jackpot-timer\">\\r\\n\\t\\t\\t\\t<div class=\"elem1 slider slider-1 active\">\\r\\n\\t\\t\\t\\t\\t<div class=\"imgBox imgBox-3 slide\">\\r\\n\\t\\t\\t\\t\\t\\t<img src=\"/images/jackpot-promo/euromillions-alert-logo.svg\" alt=\"Logo\">\\r\\n\\t\\t\\t\\t\\t</div>\\r\\n\\t\\t\\t\\t\\t<div class=\"jackpotBox slide\">\\r\\n\\t\\t\\t\\t\\t\\t<div class=\"date\">Tuesday 20<sup>th</sup> May 2025 </div>\\r\\n\\t\\t\\t\\t\\t\\t<div class=\"jackpot\">€167 Million </div>\\r\\n\\t\\t\\t\\t\\t</div>\\r\\n\\t\\t\\t\\t</div>\\r\\n\\t\\t\\t\\t<div class=\"elem2 slider slider-2\">\\r\\n\\t\\t\\t\\t\\t<div class=\"timerBox slide\">\\t\\r\\n\\t\\t\\t\\t\\t\\t<div class=\"h3\" style=\"color: #FFF;\">Time remaining</div>\\r\\n\\t\\t\\t\\t\\t\\t<ul id=\"mainTimerSide\" class=\"timer fx\">\\r\\n\\t\\t\\t\\t\\t\\t\\t<li><span>0</span>d</li>\\r\\n\\t\\t\\t\\t\\t\\t\\t<li><span>0</span>h</li>\\r\\n\\t\\t\\t\\t\\t\\t\\t<li><span>0</span>m</li>\\r\\n\\t\\t\\t\\t\\t\\t\\t<li><span>0</span>s</li>\\r\\n\\t\\t\\t\\t\\t\\t</ul>\\r\\n\\t\\t\\t\\t\\t</div>\\r\\n\\t\\t\\t\\t\\t<script>addLoadEvent(function(){drawTimerPromo(\"mainTimerSide\", \"2025-05-20T21:00:00\",true)});</script>\\r\\n\\t\\t\\t\\t</div>\\r\\n\\t\\t\\t</div>\\r\\n\\t\\t\\t<div class=\"ctaBox slide\">\\r\\n\\t\\t\\t\\t<a href=\"/en/play/euromillions?AS=1&AR=1\" title=\"Buy Tickets\" id=\"jackpotPromo-button\" class=\"btn cta\" rel=\"nofollow noopener\" target=\"_blank\">Buy Tickets</a>\\r\\n\\t\\t\\t</div>\\r\\n\\t\\t\\t<div id=\"jackpotPromo-close\" onclick=\"promoSlide(\\'down\\'); setCookie(\\'JackpotPromo1\\')\">&times;</div>\\r\\n\\t\\t</div>\\r\\n\\t</div>\\r\\n\\t\\r\\n\\t<script>\\r\\n\\t\\tvar promo = document.getElementById(\"jackpotPromo\");\\r\\n\\t\\tvar promoSlideEl = document.querySelectorAll(\".slide\")\\r\\n\\t\\tvar alert = document.querySelector(\".date.alert\")\\r\\n\\t\\tvar slider1 = document.querySelector(\".slider-1\")\\r\\n\\t\\tvar slider2 = document.querySelector(\".slider-2\")\\r\\n\\r\\n\\t\\taddLoadEvent(function(){ \\r\\n\\t\\t\\t\\r\\n\\t\\t\\t\\tsetTimeout(function(){ promoSlide(\"up\"); }, 1500);\\r\\n\\t\\t\\t\\r\\n\\t\\t\\tslider(5000)\\r\\n\\t\\t});\\r\\n\\r\\n\\t\\tfunction slider(time){\\r\\n\\t\\t\\tsetInterval(function(){\\r\\n\\t\\t\\t\\tif (slider1.classList.contains(\"active\")) {\\r\\n\\t\\t\\t\\t\\tslider1.classList.remove(\"active\")\\r\\n\\t\\t\\t\\t\\tslider2.classList.add(\"active\")\\r\\n\\t\\t\\t\\t} else {\\r\\n\\t\\t\\t\\t\\tslider2.classList.remove(\"active\")\\r\\n\\t\\t\\t\\t\\tslider1.classList.add(\"active\")\\r\\n\\t\\t\\t\\t}\\r\\n\\t\\t\\t}, time)\\r\\n\\t\\t}\\r\\n\\r\\n\\t\\tfunction drawTimerPromo(id, time, lang) {\\r\\n\\t\\t\\tlet drawDate = new Date(time), \\r\\n\\t\\t\\tnow = Date.now(), \\r\\n\\t\\t\\ts = (drawDate-now)/1000;\\r\\n\\t\\t\\tdisplayTimerPromo(id,s>0?s--:0,lang);\\r\\n\\t\\t}\\r\\n\\r\\n\\t\\tfunction displayTimerPromo(id, s, lang) {\\r\\n\\t\\t\\tvar days, hours, mins, secs;\\r\\n\\t\\t\\t\\tdays = \"Days\";\\r\\n\\t\\t\\t\\thours = \"Hours\";\\r\\n\\t\\t\\t\\tmins = \"Mins\";\\r\\n\\t\\t\\t\\tsecs = \"Secs\";\\r\\n\\t\\t\\t\\tvar zero = \"\";\\r\\n\\t\\t\\tfunction addZero(el) {\\r\\n\\t\\t\\t\\tif (el < 10) {\\r\\n\\t\\t\\t\\t\\treturn \"0\" + el;\\r\\n\\t\\t\\t\\t} else {\\r\\n\\t\\t\\t\\t\\treturn el;\\r\\n\\t\\t\\t\\t}\\r\\n\\t\\t\\t}\\t\\r\\n\\t\\t\\tel = document.getElementById(id);\\r\\n\\t\\t\\tif (s < 0) s = 0;\\r\\n\\t\\t\\tif (el) {\\r\\n\\t\\t\\t\\tel.innerHTML = \\r\\n\\t\\t\\t\\t`<li><span class=\\'counterType\\'>${Math.floor(s / 86400)}</span><span class=\\'counterVal\\'>${days}</span></li>\\r\\n\\t\\t\\t\\t<li><span class=\\'counterType\\'>${addZero(Math.floor(s % 86400 / 3600))}</span><span class=\\'counterVal\\'>${hours}</span></li>\\r\\n\\t\\t\\t\\t<li><span class=\\'counterType\\'>${addZero(Math.floor(s % 3600 / 60))}</span><span class=\\'counterVal\\'>${mins}</span></li> \\r\\n\\t\\t\\t\\t<li class=\\'last\\'><span class=\\'counterType\\'>${addZero(Math.floor(s % 60))}</span><span class=\\'counterVal\\'>${secs}</span></li>`;\\r\\n\\t\\t\\t\\tif (s > 0) setTimeout(function(){s--;displayTimerPromo(id,s,lang)},1000);\\r\\n\\t\\t\\t}\\r\\n\\t\\t}\\r\\n\\t</script>\\r\\n\\r\\n\\r\\n\\t\\r\\n\\r\\n\\t\\r\\n\\t\\r\\n\\t\\r\\n\\r\\n</body>\\r\\n</html>'"
      ]
     },
     "execution_count": 3,
     "metadata": {},
     "output_type": "execute_result"
    }
   ],
   "source": [
    "# when you are done the following code should be run\n",
    "url_text = get_lottery_html('29-04-2025')\n",
    "url_text"
   ]
  },
  {
   "cell_type": "markdown",
   "metadata": {},
   "source": [
    "## Part 2: The Soup Function (20 points)\n",
    "\n",
    "Complete the function `get_country_soup()` below (including docstring) which takes the html from the previous function and outputs one of nine beautiful soup objects, depending on the country you are interested in as defined by the `'id'` attribute:\n",
    "\n",
    "    - `id='PrizeAT'` (Austria)\n",
    "    - `id='PrizeBE'` (Belgium)\n",
    "    - `id='PrizeFR'` (France)\n",
    "    - `id='PrizeIE'` (Ireland)\n",
    "    - `id='PrizeLU'` (Luxembourg)\n",
    "    - `id='PrizePT'` (Portugal)\n",
    "    - `id='PrizeES'` (Spain)\n",
    "    - `id='PrizeCH'` (Switzerland)\n",
    "    - `id='PrizeGB'` (UK)\n",
    "    \n",
    "The function should take two arguments: the html object from `get_lottery_html()` and a string that specifies the `id` you are interested in (by default, Belgium or `BE`).\n",
    "    \n",
    "**Make sure to remove the `pass` statement when you are finished.** Then, also make sure to run the code to ensure your function works."
   ]
  },
  {
   "cell_type": "code",
   "execution_count": 4,
   "metadata": {},
   "outputs": [],
   "source": [
    "def get_country_soup(html, country= \"BE\"):\n",
    "    \"\"\"\n",
    "    takes html from previous function and outputs one of nine beautifulsoup objects depending on country\n",
    "\n",
    "    args:\n",
    "        - html: html text from previous function\n",
    "        - country: id tag for specified country, string\n",
    "\n",
    "    returns: \n",
    "        - beautifulsoup object\n",
    "\n",
    "    \"\"\"\n",
    "    soup = BeautifulSoup(html)\n",
    "    country_soup = soup.find_all(id = f'Prize{country}')[0]\n",
    "\n",
    "    return country_soup\n"
   ]
  },
  {
   "cell_type": "code",
   "execution_count": 5,
   "metadata": {},
   "outputs": [
    {
     "data": {
      "text/plain": [
       "<div id=\"PrizeBE\">\n",
       "<table class=\"mobFormat\">\n",
       "<thead>\n",
       "<tr>\n",
       "<th>Numbers Matched</th>\n",
       "<th class=\"righty\">Prize Per Winner</th>\n",
       "<th class=\"righty\">Belgian Winners</th>\n",
       "<th class=\"righty\">Prize Fund Amount</th>\n",
       "<th class=\"righty\">Total Winners</th>\n",
       "</tr>\n",
       "</thead>\n",
       "<tbody>\n",
       "<tr>\n",
       "<td class=\"colour\" data-title=\"Numbers Matched\">\n",
       "<span class=\"prizeName\"><span class=\"ball\">5 </span> + <span class=\"star\"> 2</span></span>\n",
       "</td>\n",
       "<td class=\"righty\" data-title=\"Prize Per Winner\">\n",
       "\t\t\t\t\t\t\t\t\t\t\t€83,786,486.80\n",
       "\t\t\t\t\t\t\t\t\t\t\t\n",
       "\t\t\t\t\t\t\t\t\t\t</td>\n",
       "<td class=\"righty\" data-title=\"Belgian Winners\">\n",
       "\t\t\t\t\t\t\t\t\t\t\t\t0\n",
       "\t\t\t\t\t\t\t\t\t\t\t\t\n",
       "\t\t\t\t\t\t\t\t\t\t\t</td>\n",
       "<td class=\"righty\" data-title=\"Prize Fund Amount\">\n",
       "\t\t\t\t\t\t\t\t\t\t\t\t€0.00\n",
       "\t\t\t\t\t\t\t\t\t\t\t\t\n",
       "\t\t\t\t\t\t\t\t\t\t\t</td>\n",
       "<td class=\"righty\" data-title=\"Total Winners\">\n",
       "<strong style=\"color:#F00\">Rollover!</strong> \n",
       "\t\t\t\t\t\t\t\t\t\t\t\t0\n",
       "\t\t\t\t\t\t\t\t\t\t\t\t\n",
       "\t\t\t\t\t\t\t\t\t\t</td>\n",
       "</tr>\n",
       "<tr>\n",
       "<td class=\"colour\" data-title=\"Numbers Matched\">\n",
       "<span class=\"prizeName\"><span class=\"ball\">5 </span> + <span class=\"star\"> 1</span></span>\n",
       "</td>\n",
       "<td class=\"righty\" data-title=\"Prize Per Winner\">\n",
       "\t\t\t\t\t\t\t\t\t\t\t€0.00\n",
       "\t\t\t\t\t\t\t\t\t\t\t\n",
       "\t\t\t\t\t\t\t\t\t\t</td>\n",
       "<td class=\"righty\" data-title=\"Belgian Winners\">\n",
       "\t\t\t\t\t\t\t\t\t\t\t\t0\n",
       "\t\t\t\t\t\t\t\t\t\t\t\t\n",
       "\t\t\t\t\t\t\t\t\t\t\t</td>\n",
       "<td class=\"righty\" data-title=\"Prize Fund Amount\">\n",
       "\t\t\t\t\t\t\t\t\t\t\t\t€0.00\n",
       "\t\t\t\t\t\t\t\t\t\t\t\t\n",
       "\t\t\t\t\t\t\t\t\t\t\t</td>\n",
       "<td class=\"righty\" data-title=\"Total Winners\">\n",
       "\t\t\t\t\t\t\t\t\t\t\t0\n",
       "\t\t\t\t\t\t\t\t\t\t\t\t\n",
       "\t\t\t\t\t\t\t\t\t\t</td>\n",
       "</tr>\n",
       "<tr>\n",
       "<td class=\"colour\" data-title=\"Numbers Matched\">\n",
       "<span class=\"prizeName\"><span class=\"ball\">5</span></span>\n",
       "</td>\n",
       "<td class=\"righty\" data-title=\"Prize Per Winner\">\n",
       "\t\t\t\t\t\t\t\t\t\t\t€65,420.20\n",
       "\t\t\t\t\t\t\t\t\t\t\t\n",
       "\t\t\t\t\t\t\t\t\t\t</td>\n",
       "<td class=\"righty\" data-title=\"Belgian Winners\">\n",
       "\t\t\t\t\t\t\t\t\t\t\t\t3\n",
       "\t\t\t\t\t\t\t\t\t\t\t\t\n",
       "\t\t\t\t\t\t\t\t\t\t\t</td>\n",
       "<td class=\"righty\" data-title=\"Prize Fund Amount\">\n",
       "\t\t\t\t\t\t\t\t\t\t\t\t€196,260.60\n",
       "\t\t\t\t\t\t\t\t\t\t\t\t\n",
       "\t\t\t\t\t\t\t\t\t\t\t</td>\n",
       "<td class=\"righty\" data-title=\"Total Winners\">\n",
       "\t\t\t\t\t\t\t\t\t\t\t11\n",
       "\t\t\t\t\t\t\t\t\t\t\t\t\n",
       "\t\t\t\t\t\t\t\t\t\t</td>\n",
       "</tr>\n",
       "<tr>\n",
       "<td class=\"colour\" data-title=\"Numbers Matched\">\n",
       "<span class=\"prizeName\"><span class=\"ball\">4 </span> + <span class=\"star\"> 2</span></span>\n",
       "</td>\n",
       "<td class=\"righty\" data-title=\"Prize Per Winner\">\n",
       "\t\t\t\t\t\t\t\t\t\t\t€1,326.90\n",
       "\t\t\t\t\t\t\t\t\t\t\t\n",
       "\t\t\t\t\t\t\t\t\t\t</td>\n",
       "<td class=\"righty\" data-title=\"Belgian Winners\">\n",
       "\t\t\t\t\t\t\t\t\t\t\t\t4\n",
       "\t\t\t\t\t\t\t\t\t\t\t\t\n",
       "\t\t\t\t\t\t\t\t\t\t\t</td>\n",
       "<td class=\"righty\" data-title=\"Prize Fund Amount\">\n",
       "\t\t\t\t\t\t\t\t\t\t\t\t€5,307.60\n",
       "\t\t\t\t\t\t\t\t\t\t\t\t\n",
       "\t\t\t\t\t\t\t\t\t\t\t</td>\n",
       "<td class=\"righty\" data-title=\"Total Winners\">\n",
       "\t\t\t\t\t\t\t\t\t\t\t32\n",
       "\t\t\t\t\t\t\t\t\t\t\t\t\n",
       "\t\t\t\t\t\t\t\t\t\t</td>\n",
       "</tr>\n",
       "<tr>\n",
       "<td class=\"colour\" data-title=\"Numbers Matched\">\n",
       "<span class=\"prizeName\"><span class=\"ball\">4 </span> + <span class=\"star\"> 1</span></span>\n",
       "</td>\n",
       "<td class=\"righty\" data-title=\"Prize Per Winner\">\n",
       "\t\t\t\t\t\t\t\t\t\t\t€129.20\n",
       "\t\t\t\t\t\t\t\t\t\t\t\n",
       "\t\t\t\t\t\t\t\t\t\t</td>\n",
       "<td class=\"righty\" data-title=\"Belgian Winners\">\n",
       "\t\t\t\t\t\t\t\t\t\t\t\t54\n",
       "\t\t\t\t\t\t\t\t\t\t\t\t\n",
       "\t\t\t\t\t\t\t\t\t\t\t</td>\n",
       "<td class=\"righty\" data-title=\"Prize Fund Amount\">\n",
       "\t\t\t\t\t\t\t\t\t\t\t\t€6,976.80\n",
       "\t\t\t\t\t\t\t\t\t\t\t\t\n",
       "\t\t\t\t\t\t\t\t\t\t\t</td>\n",
       "<td class=\"righty\" data-title=\"Total Winners\">\n",
       "\t\t\t\t\t\t\t\t\t\t\t605\n",
       "\t\t\t\t\t\t\t\t\t\t\t\t\n",
       "\t\t\t\t\t\t\t\t\t\t</td>\n",
       "</tr>\n",
       "<tr>\n",
       "<td class=\"colour\" data-title=\"Numbers Matched\">\n",
       "<span class=\"prizeName\"><span class=\"ball\">3 </span> + <span class=\"star\"> 2</span></span>\n",
       "</td>\n",
       "<td class=\"righty\" data-title=\"Prize Per Winner\">\n",
       "\t\t\t\t\t\t\t\t\t\t\t€71.50\n",
       "\t\t\t\t\t\t\t\t\t\t\t\n",
       "\t\t\t\t\t\t\t\t\t\t</td>\n",
       "<td class=\"righty\" data-title=\"Belgian Winners\">\n",
       "\t\t\t\t\t\t\t\t\t\t\t\t107\n",
       "\t\t\t\t\t\t\t\t\t\t\t\t\n",
       "\t\t\t\t\t\t\t\t\t\t\t</td>\n",
       "<td class=\"righty\" data-title=\"Prize Fund Amount\">\n",
       "\t\t\t\t\t\t\t\t\t\t\t\t€7,650.50\n",
       "\t\t\t\t\t\t\t\t\t\t\t\t\n",
       "\t\t\t\t\t\t\t\t\t\t\t</td>\n",
       "<td class=\"righty\" data-title=\"Total Winners\">\n",
       "\t\t\t\t\t\t\t\t\t\t\t1,156\n",
       "\t\t\t\t\t\t\t\t\t\t\t\t\n",
       "\t\t\t\t\t\t\t\t\t\t</td>\n",
       "</tr>\n",
       "<tr>\n",
       "<td class=\"colour\" data-title=\"Numbers Matched\">\n",
       "<span class=\"prizeName\"><span class=\"ball\">4</span></span>\n",
       "</td>\n",
       "<td class=\"righty\" data-title=\"Prize Per Winner\">\n",
       "\t\t\t\t\t\t\t\t\t\t\t€38.60\n",
       "\t\t\t\t\t\t\t\t\t\t\t\n",
       "\t\t\t\t\t\t\t\t\t\t</td>\n",
       "<td class=\"righty\" data-title=\"Belgian Winners\">\n",
       "\t\t\t\t\t\t\t\t\t\t\t\t107\n",
       "\t\t\t\t\t\t\t\t\t\t\t\t\n",
       "\t\t\t\t\t\t\t\t\t\t\t</td>\n",
       "<td class=\"righty\" data-title=\"Prize Fund Amount\">\n",
       "\t\t\t\t\t\t\t\t\t\t\t\t€4,130.20\n",
       "\t\t\t\t\t\t\t\t\t\t\t\t\n",
       "\t\t\t\t\t\t\t\t\t\t\t</td>\n",
       "<td class=\"righty\" data-title=\"Total Winners\">\n",
       "\t\t\t\t\t\t\t\t\t\t\t1,502\n",
       "\t\t\t\t\t\t\t\t\t\t\t\t\n",
       "\t\t\t\t\t\t\t\t\t\t</td>\n",
       "</tr>\n",
       "<tr>\n",
       "<td class=\"colour\" data-title=\"Numbers Matched\">\n",
       "<span class=\"prizeName\"><span class=\"ball\">2 </span> + <span class=\"star\"> 2</span></span>\n",
       "</td>\n",
       "<td class=\"righty\" data-title=\"Prize Per Winner\">\n",
       "\t\t\t\t\t\t\t\t\t\t\t€17.20\n",
       "\t\t\t\t\t\t\t\t\t\t\t\n",
       "\t\t\t\t\t\t\t\t\t\t</td>\n",
       "<td class=\"righty\" data-title=\"Belgian Winners\">\n",
       "\t\t\t\t\t\t\t\t\t\t\t\t1,301\n",
       "\t\t\t\t\t\t\t\t\t\t\t\t\n",
       "\t\t\t\t\t\t\t\t\t\t\t</td>\n",
       "<td class=\"righty\" data-title=\"Prize Fund Amount\">\n",
       "\t\t\t\t\t\t\t\t\t\t\t\t€22,377.20\n",
       "\t\t\t\t\t\t\t\t\t\t\t\t\n",
       "\t\t\t\t\t\t\t\t\t\t\t</td>\n",
       "<td class=\"righty\" data-title=\"Total Winners\">\n",
       "\t\t\t\t\t\t\t\t\t\t\t16,848\n",
       "\t\t\t\t\t\t\t\t\t\t\t\t\n",
       "\t\t\t\t\t\t\t\t\t\t</td>\n",
       "</tr>\n",
       "<tr>\n",
       "<td class=\"colour\" data-title=\"Numbers Matched\">\n",
       "<span class=\"prizeName\"><span class=\"ball\">3 </span> + <span class=\"star\"> 1</span></span>\n",
       "</td>\n",
       "<td class=\"righty\" data-title=\"Prize Per Winner\">\n",
       "\t\t\t\t\t\t\t\t\t\t\t€12.50\n",
       "\t\t\t\t\t\t\t\t\t\t\t\n",
       "\t\t\t\t\t\t\t\t\t\t</td>\n",
       "<td class=\"righty\" data-title=\"Belgian Winners\">\n",
       "\t\t\t\t\t\t\t\t\t\t\t\t1,904\n",
       "\t\t\t\t\t\t\t\t\t\t\t\t\n",
       "\t\t\t\t\t\t\t\t\t\t\t</td>\n",
       "<td class=\"righty\" data-title=\"Prize Fund Amount\">\n",
       "\t\t\t\t\t\t\t\t\t\t\t\t€23,800.00\n",
       "\t\t\t\t\t\t\t\t\t\t\t\t\n",
       "\t\t\t\t\t\t\t\t\t\t\t</td>\n",
       "<td class=\"righty\" data-title=\"Total Winners\">\n",
       "\t\t\t\t\t\t\t\t\t\t\t25,854\n",
       "\t\t\t\t\t\t\t\t\t\t\t\t\n",
       "\t\t\t\t\t\t\t\t\t\t</td>\n",
       "</tr>\n",
       "<tr>\n",
       "<td class=\"colour\" data-title=\"Numbers Matched\">\n",
       "<span class=\"prizeName\"><span class=\"ball\">3</span></span>\n",
       "</td>\n",
       "<td class=\"righty\" data-title=\"Prize Per Winner\">\n",
       "\t\t\t\t\t\t\t\t\t\t\t€8.90\n",
       "\t\t\t\t\t\t\t\t\t\t\t\n",
       "\t\t\t\t\t\t\t\t\t\t</td>\n",
       "<td class=\"righty\" data-title=\"Belgian Winners\">\n",
       "\t\t\t\t\t\t\t\t\t\t\t\t4,780\n",
       "\t\t\t\t\t\t\t\t\t\t\t\t\n",
       "\t\t\t\t\t\t\t\t\t\t\t</td>\n",
       "<td class=\"righty\" data-title=\"Prize Fund Amount\">\n",
       "\t\t\t\t\t\t\t\t\t\t\t\t€42,542.00\n",
       "\t\t\t\t\t\t\t\t\t\t\t\t\n",
       "\t\t\t\t\t\t\t\t\t\t\t</td>\n",
       "<td class=\"righty\" data-title=\"Total Winners\">\n",
       "\t\t\t\t\t\t\t\t\t\t\t67,339\n",
       "\t\t\t\t\t\t\t\t\t\t\t\t\n",
       "\t\t\t\t\t\t\t\t\t\t</td>\n",
       "</tr>\n",
       "<tr>\n",
       "<td class=\"colour\" data-title=\"Numbers Matched\">\n",
       "<span class=\"prizeName\"><span class=\"ball\">1 </span> + <span class=\"star\"> 2</span></span>\n",
       "</td>\n",
       "<td class=\"righty\" data-title=\"Prize Per Winner\">\n",
       "\t\t\t\t\t\t\t\t\t\t\t€8.20\n",
       "\t\t\t\t\t\t\t\t\t\t\t\n",
       "\t\t\t\t\t\t\t\t\t\t</td>\n",
       "<td class=\"righty\" data-title=\"Belgian Winners\">\n",
       "\t\t\t\t\t\t\t\t\t\t\t\t6,583\n",
       "\t\t\t\t\t\t\t\t\t\t\t\t\n",
       "\t\t\t\t\t\t\t\t\t\t\t</td>\n",
       "<td class=\"righty\" data-title=\"Prize Fund Amount\">\n",
       "\t\t\t\t\t\t\t\t\t\t\t\t€53,980.60\n",
       "\t\t\t\t\t\t\t\t\t\t\t\t\n",
       "\t\t\t\t\t\t\t\t\t\t\t</td>\n",
       "<td class=\"righty\" data-title=\"Total Winners\">\n",
       "\t\t\t\t\t\t\t\t\t\t\t89,036\n",
       "\t\t\t\t\t\t\t\t\t\t\t\t\n",
       "\t\t\t\t\t\t\t\t\t\t</td>\n",
       "</tr>\n",
       "<tr>\n",
       "<td class=\"colour\" data-title=\"Numbers Matched\">\n",
       "<span class=\"prizeName\"><span class=\"ball\">2 </span> + <span class=\"star\"> 1</span></span>\n",
       "</td>\n",
       "<td class=\"righty\" data-title=\"Prize Per Winner\">\n",
       "\t\t\t\t\t\t\t\t\t\t\t€6.10\n",
       "\t\t\t\t\t\t\t\t\t\t\t\n",
       "\t\t\t\t\t\t\t\t\t\t</td>\n",
       "<td class=\"righty\" data-title=\"Belgian Winners\">\n",
       "\t\t\t\t\t\t\t\t\t\t\t\t27,025\n",
       "\t\t\t\t\t\t\t\t\t\t\t\t\n",
       "\t\t\t\t\t\t\t\t\t\t\t</td>\n",
       "<td class=\"righty\" data-title=\"Prize Fund Amount\">\n",
       "\t\t\t\t\t\t\t\t\t\t\t\t€164,852.50\n",
       "\t\t\t\t\t\t\t\t\t\t\t\t\n",
       "\t\t\t\t\t\t\t\t\t\t\t</td>\n",
       "<td class=\"righty\" data-title=\"Total Winners\">\n",
       "\t\t\t\t\t\t\t\t\t\t\t373,985\n",
       "\t\t\t\t\t\t\t\t\t\t\t\t\n",
       "\t\t\t\t\t\t\t\t\t\t</td>\n",
       "</tr>\n",
       "<tr>\n",
       "<td class=\"colour\" data-title=\"Numbers Matched\">\n",
       "<span class=\"prizeName\"><span class=\"ball\">2</span></span>\n",
       "</td>\n",
       "<td class=\"righty\" data-title=\"Prize Per Winner\">\n",
       "\t\t\t\t\t\t\t\t\t\t\t€3.80\n",
       "\t\t\t\t\t\t\t\t\t\t\t\n",
       "\t\t\t\t\t\t\t\t\t\t</td>\n",
       "<td class=\"righty\" data-title=\"Belgian Winners\">\n",
       "\t\t\t\t\t\t\t\t\t\t\t\t68,721\n",
       "\t\t\t\t\t\t\t\t\t\t\t\t\n",
       "\t\t\t\t\t\t\t\t\t\t\t</td>\n",
       "<td class=\"righty\" data-title=\"Prize Fund Amount\">\n",
       "\t\t\t\t\t\t\t\t\t\t\t\t€261,139.80\n",
       "\t\t\t\t\t\t\t\t\t\t\t\t\n",
       "\t\t\t\t\t\t\t\t\t\t\t</td>\n",
       "<td class=\"righty\" data-title=\"Total Winners\">\n",
       "\t\t\t\t\t\t\t\t\t\t\t972,679\n",
       "\t\t\t\t\t\t\t\t\t\t\t\t\n",
       "\t\t\t\t\t\t\t\t\t\t</td>\n",
       "</tr>\n",
       "<tr class=\"totals\">\n",
       "<td class=\"colour\" data-title=\"Numbers Matched\">\n",
       "<span class=\"prizeName\">Totals</span>\n",
       "</td>\n",
       "<td class=\"righty\" data-title=\"Prize Per Winner\">\n",
       "\t\t\t\t\t\t\t\t\t\t\t\n",
       "\t\t\t\t\t\t\t\t\t\t\t\t-\n",
       "\t\t\t\t\t\t\t\t\t\t\t\n",
       "\t\t\t\t\t\t\t\t\t\t</td>\n",
       "<td class=\"righty\" data-title=\"Belgian Winners\">\n",
       "\t\t\t\t\t\t\t\t\t\t\t\t110,589\n",
       "\t\t\t\t\t\t\t\t\t\t\t\t\n",
       "\t\t\t\t\t\t\t\t\t\t\t</td>\n",
       "<td class=\"righty\" data-title=\"Prize Fund Amount\">\n",
       "\t\t\t\t\t\t\t\t\t\t\t\t€789,017.80\n",
       "\t\t\t\t\t\t\t\t\t\t\t\t\n",
       "\t\t\t\t\t\t\t\t\t\t\t</td>\n",
       "<td class=\"righty\" data-title=\"Total Winners\">\n",
       "\t\t\t\t\t\t\t\t\t\t\t1,549,047\n",
       "\t\t\t\t\t\t\t\t\t\t\t\t\n",
       "\t\t\t\t\t\t\t\t\t\t</td>\n",
       "</tr>\n",
       "</tbody>\n",
       "</table>\n",
       "</div>"
      ]
     },
     "execution_count": 5,
     "metadata": {},
     "output_type": "execute_result"
    }
   ],
   "source": [
    "# when you are done the following code should be run (feel free to change the country if you wish)\n",
    "country_choice = 'BE'\n",
    "my_country_soup = get_country_soup(url_text, country_choice)\n",
    "my_country_soup"
   ]
  },
  {
   "cell_type": "markdown",
   "metadata": {},
   "source": [
    "## Part 3: Cleaning a Country (20 points)\n",
    "\n",
    "Below is the function `clean_country_df()`, which takes the soup object from the previous function and creates a data frame with the following columns:\n",
    "\n",
    "    - `balls`: the number of balls matched\n",
    "    - `stars`: the number of stars matched\n",
    "    - `ppw`: the prize per winner\n",
    "    - `country_winners`: how many winners of the prize in the given country\n",
    "    - `total_winners`: the total number of winners\n",
    "    - `country`: the country name\n",
    "    - `currency`: the currency of the lottery\n",
    "\n",
    "I have written the function and (*given your function from Part 2 works*) it should work. **DO NOT CHANGE ANYTHING IN THE BODY OF THE FUNCTION.**\n",
    "\n",
    "**In a markdown cell** create a bullet point list where you explain each what each chunk of code does. Your bullet point list should have **THREE** sections, with **NINE** total bullet points/explanations corresponding to the chunks below the `# EXPLAIN THIS (number)` comments. You must accurately summarize the content of each code chunk. **Talking to your neighbors/group about this is highly recommended.**"
   ]
  },
  {
   "cell_type": "code",
   "execution_count": 6,
   "metadata": {},
   "outputs": [
    {
     "data": {
      "text/html": [
       "<div>\n",
       "<style scoped>\n",
       "    .dataframe tbody tr th:only-of-type {\n",
       "        vertical-align: middle;\n",
       "    }\n",
       "\n",
       "    .dataframe tbody tr th {\n",
       "        vertical-align: top;\n",
       "    }\n",
       "\n",
       "    .dataframe thead th {\n",
       "        text-align: right;\n",
       "    }\n",
       "</style>\n",
       "<table border=\"1\" class=\"dataframe\">\n",
       "  <thead>\n",
       "    <tr style=\"text-align: right;\">\n",
       "      <th></th>\n",
       "      <th>balls</th>\n",
       "      <th>stars</th>\n",
       "      <th>ppw</th>\n",
       "      <th>country_winners</th>\n",
       "      <th>total_winners</th>\n",
       "      <th>country</th>\n",
       "      <th>currency</th>\n",
       "    </tr>\n",
       "  </thead>\n",
       "  <tbody>\n",
       "    <tr>\n",
       "      <th>0</th>\n",
       "      <td>5</td>\n",
       "      <td>2</td>\n",
       "      <td>83786486.8</td>\n",
       "      <td>0</td>\n",
       "      <td>NaN</td>\n",
       "      <td>BE</td>\n",
       "      <td>€</td>\n",
       "    </tr>\n",
       "    <tr>\n",
       "      <th>1</th>\n",
       "      <td>5</td>\n",
       "      <td>1</td>\n",
       "      <td>0.0</td>\n",
       "      <td>0</td>\n",
       "      <td>0.0</td>\n",
       "      <td>BE</td>\n",
       "      <td>€</td>\n",
       "    </tr>\n",
       "    <tr>\n",
       "      <th>2</th>\n",
       "      <td>5</td>\n",
       "      <td>0</td>\n",
       "      <td>65420.2</td>\n",
       "      <td>3</td>\n",
       "      <td>11.0</td>\n",
       "      <td>BE</td>\n",
       "      <td>€</td>\n",
       "    </tr>\n",
       "    <tr>\n",
       "      <th>3</th>\n",
       "      <td>4</td>\n",
       "      <td>2</td>\n",
       "      <td>1326.9</td>\n",
       "      <td>4</td>\n",
       "      <td>32.0</td>\n",
       "      <td>BE</td>\n",
       "      <td>€</td>\n",
       "    </tr>\n",
       "    <tr>\n",
       "      <th>4</th>\n",
       "      <td>4</td>\n",
       "      <td>1</td>\n",
       "      <td>129.2</td>\n",
       "      <td>54</td>\n",
       "      <td>605.0</td>\n",
       "      <td>BE</td>\n",
       "      <td>€</td>\n",
       "    </tr>\n",
       "    <tr>\n",
       "      <th>5</th>\n",
       "      <td>3</td>\n",
       "      <td>2</td>\n",
       "      <td>71.5</td>\n",
       "      <td>107</td>\n",
       "      <td>1156.0</td>\n",
       "      <td>BE</td>\n",
       "      <td>€</td>\n",
       "    </tr>\n",
       "    <tr>\n",
       "      <th>6</th>\n",
       "      <td>4</td>\n",
       "      <td>0</td>\n",
       "      <td>38.6</td>\n",
       "      <td>107</td>\n",
       "      <td>1502.0</td>\n",
       "      <td>BE</td>\n",
       "      <td>€</td>\n",
       "    </tr>\n",
       "    <tr>\n",
       "      <th>7</th>\n",
       "      <td>2</td>\n",
       "      <td>2</td>\n",
       "      <td>17.2</td>\n",
       "      <td>1301</td>\n",
       "      <td>16848.0</td>\n",
       "      <td>BE</td>\n",
       "      <td>€</td>\n",
       "    </tr>\n",
       "    <tr>\n",
       "      <th>8</th>\n",
       "      <td>3</td>\n",
       "      <td>1</td>\n",
       "      <td>12.5</td>\n",
       "      <td>1904</td>\n",
       "      <td>25854.0</td>\n",
       "      <td>BE</td>\n",
       "      <td>€</td>\n",
       "    </tr>\n",
       "    <tr>\n",
       "      <th>9</th>\n",
       "      <td>3</td>\n",
       "      <td>0</td>\n",
       "      <td>8.9</td>\n",
       "      <td>4780</td>\n",
       "      <td>67339.0</td>\n",
       "      <td>BE</td>\n",
       "      <td>€</td>\n",
       "    </tr>\n",
       "    <tr>\n",
       "      <th>10</th>\n",
       "      <td>1</td>\n",
       "      <td>2</td>\n",
       "      <td>8.2</td>\n",
       "      <td>6583</td>\n",
       "      <td>89036.0</td>\n",
       "      <td>BE</td>\n",
       "      <td>€</td>\n",
       "    </tr>\n",
       "    <tr>\n",
       "      <th>11</th>\n",
       "      <td>2</td>\n",
       "      <td>1</td>\n",
       "      <td>6.1</td>\n",
       "      <td>27025</td>\n",
       "      <td>373985.0</td>\n",
       "      <td>BE</td>\n",
       "      <td>€</td>\n",
       "    </tr>\n",
       "    <tr>\n",
       "      <th>12</th>\n",
       "      <td>2</td>\n",
       "      <td>0</td>\n",
       "      <td>3.8</td>\n",
       "      <td>68721</td>\n",
       "      <td>972679.0</td>\n",
       "      <td>BE</td>\n",
       "      <td>€</td>\n",
       "    </tr>\n",
       "  </tbody>\n",
       "</table>\n",
       "</div>"
      ],
      "text/plain": [
       "    balls  stars         ppw  country_winners  total_winners country currency\n",
       "0       5      2  83786486.8                0            NaN      BE        €\n",
       "1       5      1         0.0                0            0.0      BE        €\n",
       "2       5      0     65420.2                3           11.0      BE        €\n",
       "3       4      2      1326.9                4           32.0      BE        €\n",
       "4       4      1       129.2               54          605.0      BE        €\n",
       "5       3      2        71.5              107         1156.0      BE        €\n",
       "6       4      0        38.6              107         1502.0      BE        €\n",
       "7       2      2        17.2             1301        16848.0      BE        €\n",
       "8       3      1        12.5             1904        25854.0      BE        €\n",
       "9       3      0         8.9             4780        67339.0      BE        €\n",
       "10      1      2         8.2             6583        89036.0      BE        €\n",
       "11      2      1         6.1            27025       373985.0      BE        €\n",
       "12      2      0         3.8            68721       972679.0      BE        €"
      ]
     },
     "execution_count": 6,
     "metadata": {},
     "output_type": "execute_result"
    }
   ],
   "source": [
    "def clean_country_df(soup, country_name):\n",
    "    \"\"\"Takes the soup of a country and cleans it, creating a data frame.\n",
    "    \n",
    "    Args:\n",
    "        soup (soup): the soup from get_country_soup\n",
    "        country_name (str): name of the country (make sure this matches with the code used in the previous part)\n",
    "            ** Attention: The country_name must match the country_choice used to create the soup\n",
    "    Returns:\n",
    "        clean_country_df (DataFrame): a DataFrame with seven columns corresponding to\n",
    "            balls matched\n",
    "            stars matched\n",
    "            prize per winner\n",
    "            country winners\n",
    "            total winners\n",
    "            country\n",
    "            currency\n",
    "    \"\"\"\n",
    "    # EXPLAIN THIS (1.1)\n",
    "    table = soup.find('table')\n",
    "\n",
    "    # EXPLAIN THIS (1.2)\n",
    "    headers = [th.get_text(strip=True) for th in table.find('thead').find_all('th')]\n",
    "\n",
    "    # EXPLAIN THIS (1.3)\n",
    "    country_winner_index = next((i for i, header in enumerate(headers) if 'Winners' in header and 'Total' not in header), None)\n",
    "\n",
    "    # EXPLAIN THIS (1.4)\n",
    "    balls_matched = []\n",
    "    stars_matched = []\n",
    "    prize_per_winner = []\n",
    "    country_winners = []\n",
    "    total_winners = []\n",
    "    currencies = []\n",
    "    \n",
    "    # Process each row in the table body, excluding the last totals row\n",
    "    for row in table.find('tbody').find_all('tr')[:-1]:\n",
    "        columns = row.find_all('td')\n",
    "        \n",
    "        # EXPLAIN THIS (2.1)\n",
    "        numbers_matched = columns[0].get_text(strip=True)\n",
    "        prize = columns[1].get_text(strip=True)\n",
    "        country_winner = columns[country_winner_index].get_text(strip=True) if country_winner_index is not None else 'N/A'\n",
    "        total_winner = columns[-1].get_text(strip=True)\n",
    "        \n",
    "        # EXPLAIN THIS (2.2)\n",
    "        currency_match = re.match(r'^\\D*', prize)\n",
    "        currency = currency_match.group(0) if currency_match else 'N/A'\n",
    "        currencies.append(currency)\n",
    "        \n",
    "        # EXPLAIN THIS (2.3)\n",
    "        numeric_prize = pd.to_numeric(prize.replace(currency, '').replace(',', ''), errors='coerce')\n",
    "        \n",
    "        # EXPLAIN THIS (2.4)\n",
    "        numbers_split = numbers_matched.split('+')\n",
    "        balls = pd.to_numeric(numbers_split[0].strip().replace(',', ''), errors='coerce')\n",
    "        stars = pd.to_numeric(numbers_split[1].strip().replace(',', ''), errors='coerce') if len(numbers_split) > 1 else 0\n",
    "\n",
    "        balls_matched.append(balls)\n",
    "        stars_matched.append(stars)\n",
    "        prize_per_winner.append(numeric_prize)\n",
    "        country_winners.append(pd.to_numeric(country_winner.replace(',', ''), errors='coerce'))\n",
    "        total_winners.append(pd.to_numeric(total_winner.replace(',', ''), errors='coerce'))\n",
    "    \n",
    "    # EXPLAIN THIS (3)\n",
    "    data = {\n",
    "        'balls': balls_matched,\n",
    "        'stars': stars_matched,\n",
    "        'ppw': prize_per_winner,\n",
    "        'country_winners': country_winners,\n",
    "        'total_winners': total_winners,\n",
    "        'country': [country_name] * len(balls_matched),\n",
    "        'currency': currencies\n",
    "    }\n",
    "    \n",
    "    clean_country_df = pd.DataFrame(data)\n",
    "    \n",
    "    return clean_country_df\n",
    "\n",
    "# Example usage\n",
    "clean_df = clean_country_df(my_country_soup, 'BE')\n",
    "clean_df"
   ]
  },
  {
   "cell_type": "markdown",
   "metadata": {},
   "source": [
    "Your answer in this cell:\n",
    "- Explain Code Chunks 1:\n",
    "  \n",
    "    - This line finds the table in the HTML.\n",
    "    - This line puts all the headers of the table in the list.\n",
    "    - This line gets this index for the number of winners in the specified country.\n",
    "    - This creates empty lists which will become the series in the dataframe.\n",
    "- Explain Code Chunks 2:\n",
    "  \n",
    "    - This line extracts the data from the table on the website.\n",
    "    - These lines find where the prize amounts are by searching for the currency symbol.\n",
    "    - This line gets the prize amount per winner and making it into a numeric value.\n",
    "    - This section makes \"balls\" and \"stars\" into numeric types and adding it to each series that will be in the dataframe.\n",
    "- Explain Code Chunk 3:\n",
    "\n",
    "    - This section makes the dataframe from all the cleaned series."
   ]
  },
  {
   "cell_type": "markdown",
   "metadata": {},
   "source": [
    "## Part 4: Stacking the Countries (20 points)\n",
    "\n",
    "Complete the function `stack_countries_df()` below (including docstring) which takes as an argument a list of country codes (strings) and a list of dates (strings), and uses the functions from the previous three parts to create a single data frame with results across those countries and dates. There may be multiple ways to do this, but one way could be to first loop through the dates, use the `get_lottery_html()` function, then loop through the countries and apply the other two functions. You will also want to add a column with the date information to the final data frame.\n",
    "\n",
    "**Make sure to remove the `pass` statement when you are finished.** Then, also make sure to run the code to ensure your function works."
   ]
  },
  {
   "cell_type": "code",
   "execution_count": null,
   "metadata": {},
   "outputs": [],
   "source": [
    "def stack_countries_df(country_list, date_list):\n",
    "    \"\"\"\n",
    "    creates a dataframe with results from all countries and dates\n",
    "\n",
    "    args:\n",
    "        - list of country codes\n",
    "        - list of dates\n",
    "    returns:\n",
    "        - dataframe with results from all countries and dates\n",
    "    \"\"\"\n",
    "    all_data = []\n",
    "\n",
    "    for date in date_list:\n",
    "        html = get_lottery_html(date)\n",
    "        for country in country_list:\n",
    "            soup_object = get_country_soup(html, country)\n",
    "            country_df = clean_country_df(soup_object, country)\n",
    "            country_df[\"date\"] = date\n",
    "            all_data.append(country_df)\n",
    "\n",
    "    combined_df = pd.concat(all_data, ignore_index=True)\n",
    "    return combined_df\n",
    "        \n"
   ]
  },
  {
   "cell_type": "code",
   "execution_count": 8,
   "metadata": {},
   "outputs": [
    {
     "data": {
      "text/html": [
       "<div>\n",
       "<style scoped>\n",
       "    .dataframe tbody tr th:only-of-type {\n",
       "        vertical-align: middle;\n",
       "    }\n",
       "\n",
       "    .dataframe tbody tr th {\n",
       "        vertical-align: top;\n",
       "    }\n",
       "\n",
       "    .dataframe thead th {\n",
       "        text-align: right;\n",
       "    }\n",
       "</style>\n",
       "<table border=\"1\" class=\"dataframe\">\n",
       "  <thead>\n",
       "    <tr style=\"text-align: right;\">\n",
       "      <th></th>\n",
       "      <th>balls</th>\n",
       "      <th>stars</th>\n",
       "      <th>ppw</th>\n",
       "      <th>country_winners</th>\n",
       "      <th>total_winners</th>\n",
       "      <th>country</th>\n",
       "      <th>currency</th>\n",
       "      <th>date</th>\n",
       "    </tr>\n",
       "  </thead>\n",
       "  <tbody>\n",
       "    <tr>\n",
       "      <th>0</th>\n",
       "      <td>5</td>\n",
       "      <td>2</td>\n",
       "      <td>74400108.10</td>\n",
       "      <td>0</td>\n",
       "      <td>NaN</td>\n",
       "      <td>BE</td>\n",
       "      <td>€</td>\n",
       "      <td>25-04-2025</td>\n",
       "    </tr>\n",
       "    <tr>\n",
       "      <th>1</th>\n",
       "      <td>5</td>\n",
       "      <td>1</td>\n",
       "      <td>148333.50</td>\n",
       "      <td>0</td>\n",
       "      <td>5.0</td>\n",
       "      <td>BE</td>\n",
       "      <td>€</td>\n",
       "      <td>25-04-2025</td>\n",
       "    </tr>\n",
       "    <tr>\n",
       "      <th>2</th>\n",
       "      <td>5</td>\n",
       "      <td>0</td>\n",
       "      <td>34667.90</td>\n",
       "      <td>0</td>\n",
       "      <td>5.0</td>\n",
       "      <td>BE</td>\n",
       "      <td>€</td>\n",
       "      <td>25-04-2025</td>\n",
       "    </tr>\n",
       "    <tr>\n",
       "      <th>3</th>\n",
       "      <td>4</td>\n",
       "      <td>2</td>\n",
       "      <td>1316.80</td>\n",
       "      <td>3</td>\n",
       "      <td>41.0</td>\n",
       "      <td>BE</td>\n",
       "      <td>€</td>\n",
       "      <td>25-04-2025</td>\n",
       "    </tr>\n",
       "    <tr>\n",
       "      <th>4</th>\n",
       "      <td>4</td>\n",
       "      <td>1</td>\n",
       "      <td>142.80</td>\n",
       "      <td>82</td>\n",
       "      <td>696.0</td>\n",
       "      <td>BE</td>\n",
       "      <td>€</td>\n",
       "      <td>25-04-2025</td>\n",
       "    </tr>\n",
       "    <tr>\n",
       "      <th>...</th>\n",
       "      <td>...</td>\n",
       "      <td>...</td>\n",
       "      <td>...</td>\n",
       "      <td>...</td>\n",
       "      <td>...</td>\n",
       "      <td>...</td>\n",
       "      <td>...</td>\n",
       "      <td>...</td>\n",
       "    </tr>\n",
       "    <tr>\n",
       "      <th>73</th>\n",
       "      <td>3</td>\n",
       "      <td>1</td>\n",
       "      <td>26.75</td>\n",
       "      <td>1610</td>\n",
       "      <td>25854.0</td>\n",
       "      <td>CH</td>\n",
       "      <td>CHF</td>\n",
       "      <td>29-04-2025</td>\n",
       "    </tr>\n",
       "    <tr>\n",
       "      <th>74</th>\n",
       "      <td>3</td>\n",
       "      <td>0</td>\n",
       "      <td>19.10</td>\n",
       "      <td>4429</td>\n",
       "      <td>67339.0</td>\n",
       "      <td>CH</td>\n",
       "      <td>CHF</td>\n",
       "      <td>29-04-2025</td>\n",
       "    </tr>\n",
       "    <tr>\n",
       "      <th>75</th>\n",
       "      <td>1</td>\n",
       "      <td>2</td>\n",
       "      <td>17.50</td>\n",
       "      <td>5542</td>\n",
       "      <td>89036.0</td>\n",
       "      <td>CH</td>\n",
       "      <td>CHF</td>\n",
       "      <td>29-04-2025</td>\n",
       "    </tr>\n",
       "    <tr>\n",
       "      <th>76</th>\n",
       "      <td>2</td>\n",
       "      <td>1</td>\n",
       "      <td>13.15</td>\n",
       "      <td>24107</td>\n",
       "      <td>373985.0</td>\n",
       "      <td>CH</td>\n",
       "      <td>CHF</td>\n",
       "      <td>29-04-2025</td>\n",
       "    </tr>\n",
       "    <tr>\n",
       "      <th>77</th>\n",
       "      <td>2</td>\n",
       "      <td>0</td>\n",
       "      <td>8.15</td>\n",
       "      <td>65754</td>\n",
       "      <td>972679.0</td>\n",
       "      <td>CH</td>\n",
       "      <td>CHF</td>\n",
       "      <td>29-04-2025</td>\n",
       "    </tr>\n",
       "  </tbody>\n",
       "</table>\n",
       "<p>78 rows × 8 columns</p>\n",
       "</div>"
      ],
      "text/plain": [
       "    balls  stars          ppw  country_winners  total_winners country  \\\n",
       "0       5      2  74400108.10                0            NaN      BE   \n",
       "1       5      1    148333.50                0            5.0      BE   \n",
       "2       5      0     34667.90                0            5.0      BE   \n",
       "3       4      2      1316.80                3           41.0      BE   \n",
       "4       4      1       142.80               82          696.0      BE   \n",
       "..    ...    ...          ...              ...            ...     ...   \n",
       "73      3      1        26.75             1610        25854.0      CH   \n",
       "74      3      0        19.10             4429        67339.0      CH   \n",
       "75      1      2        17.50             5542        89036.0      CH   \n",
       "76      2      1        13.15            24107       373985.0      CH   \n",
       "77      2      0         8.15            65754       972679.0      CH   \n",
       "\n",
       "   currency        date  \n",
       "0         €  25-04-2025  \n",
       "1         €  25-04-2025  \n",
       "2         €  25-04-2025  \n",
       "3         €  25-04-2025  \n",
       "4         €  25-04-2025  \n",
       "..      ...         ...  \n",
       "73      CHF  29-04-2025  \n",
       "74      CHF  29-04-2025  \n",
       "75      CHF  29-04-2025  \n",
       "76      CHF  29-04-2025  \n",
       "77      CHF  29-04-2025  \n",
       "\n",
       "[78 rows x 8 columns]"
      ]
     },
     "execution_count": 8,
     "metadata": {},
     "output_type": "execute_result"
    }
   ],
   "source": [
    "country_codes = ['BE', 'GB', 'CH']\n",
    "dates = ['25-04-2025', '29-04-2025']\n",
    "combined_df = stack_countries_df(country_codes, dates)\n",
    "combined_df"
   ]
  },
  {
   "cell_type": "markdown",
   "metadata": {},
   "source": [
    "## Part 5: EDA and Data Viz (20 points)\n",
    "\n",
    "The first code cell below runs your function from part 4 to get the lottery results for Belgium and France over the month of April 2025. Use this data frame to:\n",
    "\n",
    "- Create a subset which contains only the 4 ball, 0 star winners\n",
    "- Plot a line plot that compares the number of 4 ball, 0 star winners for in Belgium and France over April\n",
    "\n",
    "**Then, in a markdown cell** discuss briefly what this plot tells you, if anything."
   ]
  },
  {
   "cell_type": "code",
   "execution_count": 9,
   "metadata": {},
   "outputs": [],
   "source": [
    "country_codes = ['BE', 'FR']\n",
    "dates = ['01-04-2025', '04-04-2025', '08-04-2025', \n",
    "         '11-04-2025', '15-04-2025', '18-04-2025', \n",
    "         '22-04-2025', '25-04-2025', '29-04-2025']\n",
    "combined_df = stack_countries_df(country_codes, dates)"
   ]
  },
  {
   "cell_type": "code",
   "execution_count": 10,
   "metadata": {},
   "outputs": [
    {
     "data": {
      "text/html": [
       "<div>\n",
       "<style scoped>\n",
       "    .dataframe tbody tr th:only-of-type {\n",
       "        vertical-align: middle;\n",
       "    }\n",
       "\n",
       "    .dataframe tbody tr th {\n",
       "        vertical-align: top;\n",
       "    }\n",
       "\n",
       "    .dataframe thead th {\n",
       "        text-align: right;\n",
       "    }\n",
       "</style>\n",
       "<table border=\"1\" class=\"dataframe\">\n",
       "  <thead>\n",
       "    <tr style=\"text-align: right;\">\n",
       "      <th></th>\n",
       "      <th>balls</th>\n",
       "      <th>stars</th>\n",
       "      <th>ppw</th>\n",
       "      <th>country_winners</th>\n",
       "      <th>total_winners</th>\n",
       "      <th>country</th>\n",
       "      <th>currency</th>\n",
       "      <th>date</th>\n",
       "    </tr>\n",
       "  </thead>\n",
       "  <tbody>\n",
       "    <tr>\n",
       "      <th>319</th>\n",
       "      <td>0</td>\n",
       "      <td>NaN</td>\n",
       "      <td>12.4</td>\n",
       "      <td>14325</td>\n",
       "      <td>14325.0</td>\n",
       "      <td>FR</td>\n",
       "      <td>€</td>\n",
       "      <td>29-04-2025</td>\n",
       "    </tr>\n",
       "    <tr>\n",
       "      <th>320</th>\n",
       "      <td>2</td>\n",
       "      <td>1.0</td>\n",
       "      <td>6.1</td>\n",
       "      <td>76684</td>\n",
       "      <td>373985.0</td>\n",
       "      <td>FR</td>\n",
       "      <td>€</td>\n",
       "      <td>29-04-2025</td>\n",
       "    </tr>\n",
       "    <tr>\n",
       "      <th>321</th>\n",
       "      <td>2</td>\n",
       "      <td>NaN</td>\n",
       "      <td>2.7</td>\n",
       "      <td>37303</td>\n",
       "      <td>37303.0</td>\n",
       "      <td>FR</td>\n",
       "      <td>€</td>\n",
       "      <td>29-04-2025</td>\n",
       "    </tr>\n",
       "    <tr>\n",
       "      <th>322</th>\n",
       "      <td>2</td>\n",
       "      <td>0.0</td>\n",
       "      <td>3.8</td>\n",
       "      <td>209656</td>\n",
       "      <td>972679.0</td>\n",
       "      <td>FR</td>\n",
       "      <td>€</td>\n",
       "      <td>29-04-2025</td>\n",
       "    </tr>\n",
       "    <tr>\n",
       "      <th>323</th>\n",
       "      <td>0</td>\n",
       "      <td>NaN</td>\n",
       "      <td>2.7</td>\n",
       "      <td>321126</td>\n",
       "      <td>321126.0</td>\n",
       "      <td>FR</td>\n",
       "      <td>€</td>\n",
       "      <td>29-04-2025</td>\n",
       "    </tr>\n",
       "  </tbody>\n",
       "</table>\n",
       "</div>"
      ],
      "text/plain": [
       "     balls  stars   ppw  country_winners  total_winners country currency  \\\n",
       "319      0    NaN  12.4            14325        14325.0      FR        €   \n",
       "320      2    1.0   6.1            76684       373985.0      FR        €   \n",
       "321      2    NaN   2.7            37303        37303.0      FR        €   \n",
       "322      2    0.0   3.8           209656       972679.0      FR        €   \n",
       "323      0    NaN   2.7           321126       321126.0      FR        €   \n",
       "\n",
       "           date  \n",
       "319  29-04-2025  \n",
       "320  29-04-2025  \n",
       "321  29-04-2025  \n",
       "322  29-04-2025  \n",
       "323  29-04-2025  "
      ]
     },
     "execution_count": 10,
     "metadata": {},
     "output_type": "execute_result"
    }
   ],
   "source": [
    "combined_df.tail()"
   ]
  },
  {
   "cell_type": "code",
   "execution_count": 11,
   "metadata": {},
   "outputs": [
    {
     "data": {
      "text/html": [
       "<div>\n",
       "<style scoped>\n",
       "    .dataframe tbody tr th:only-of-type {\n",
       "        vertical-align: middle;\n",
       "    }\n",
       "\n",
       "    .dataframe tbody tr th {\n",
       "        vertical-align: top;\n",
       "    }\n",
       "\n",
       "    .dataframe thead th {\n",
       "        text-align: right;\n",
       "    }\n",
       "</style>\n",
       "<table border=\"1\" class=\"dataframe\">\n",
       "  <thead>\n",
       "    <tr style=\"text-align: right;\">\n",
       "      <th></th>\n",
       "      <th>balls</th>\n",
       "      <th>stars</th>\n",
       "      <th>ppw</th>\n",
       "      <th>country_winners</th>\n",
       "      <th>total_winners</th>\n",
       "      <th>country</th>\n",
       "      <th>currency</th>\n",
       "      <th>date</th>\n",
       "    </tr>\n",
       "  </thead>\n",
       "  <tbody>\n",
       "    <tr>\n",
       "      <th>6</th>\n",
       "      <td>4</td>\n",
       "      <td>0.0</td>\n",
       "      <td>53.2</td>\n",
       "      <td>75</td>\n",
       "      <td>998.0</td>\n",
       "      <td>BE</td>\n",
       "      <td>€</td>\n",
       "      <td>01-04-2025</td>\n",
       "    </tr>\n",
       "    <tr>\n",
       "      <th>23</th>\n",
       "      <td>4</td>\n",
       "      <td>0.0</td>\n",
       "      <td>53.2</td>\n",
       "      <td>226</td>\n",
       "      <td>998.0</td>\n",
       "      <td>FR</td>\n",
       "      <td>€</td>\n",
       "      <td>01-04-2025</td>\n",
       "    </tr>\n",
       "    <tr>\n",
       "      <th>42</th>\n",
       "      <td>4</td>\n",
       "      <td>0.0</td>\n",
       "      <td>49.2</td>\n",
       "      <td>137</td>\n",
       "      <td>1386.0</td>\n",
       "      <td>BE</td>\n",
       "      <td>€</td>\n",
       "      <td>04-04-2025</td>\n",
       "    </tr>\n",
       "    <tr>\n",
       "      <th>59</th>\n",
       "      <td>4</td>\n",
       "      <td>0.0</td>\n",
       "      <td>49.2</td>\n",
       "      <td>259</td>\n",
       "      <td>1386.0</td>\n",
       "      <td>FR</td>\n",
       "      <td>€</td>\n",
       "      <td>04-04-2025</td>\n",
       "    </tr>\n",
       "    <tr>\n",
       "      <th>78</th>\n",
       "      <td>4</td>\n",
       "      <td>0.0</td>\n",
       "      <td>56.5</td>\n",
       "      <td>52</td>\n",
       "      <td>858.0</td>\n",
       "      <td>BE</td>\n",
       "      <td>€</td>\n",
       "      <td>08-04-2025</td>\n",
       "    </tr>\n",
       "    <tr>\n",
       "      <th>95</th>\n",
       "      <td>4</td>\n",
       "      <td>0.0</td>\n",
       "      <td>56.5</td>\n",
       "      <td>175</td>\n",
       "      <td>858.0</td>\n",
       "      <td>FR</td>\n",
       "      <td>€</td>\n",
       "      <td>08-04-2025</td>\n",
       "    </tr>\n",
       "    <tr>\n",
       "      <th>114</th>\n",
       "      <td>4</td>\n",
       "      <td>0.0</td>\n",
       "      <td>49.2</td>\n",
       "      <td>101</td>\n",
       "      <td>1336.0</td>\n",
       "      <td>BE</td>\n",
       "      <td>€</td>\n",
       "      <td>11-04-2025</td>\n",
       "    </tr>\n",
       "    <tr>\n",
       "      <th>131</th>\n",
       "      <td>4</td>\n",
       "      <td>0.0</td>\n",
       "      <td>49.2</td>\n",
       "      <td>292</td>\n",
       "      <td>1336.0</td>\n",
       "      <td>FR</td>\n",
       "      <td>€</td>\n",
       "      <td>11-04-2025</td>\n",
       "    </tr>\n",
       "    <tr>\n",
       "      <th>150</th>\n",
       "      <td>4</td>\n",
       "      <td>0.0</td>\n",
       "      <td>49.5</td>\n",
       "      <td>58</td>\n",
       "      <td>1042.0</td>\n",
       "      <td>BE</td>\n",
       "      <td>€</td>\n",
       "      <td>15-04-2025</td>\n",
       "    </tr>\n",
       "    <tr>\n",
       "      <th>167</th>\n",
       "      <td>4</td>\n",
       "      <td>0.0</td>\n",
       "      <td>49.5</td>\n",
       "      <td>197</td>\n",
       "      <td>1042.0</td>\n",
       "      <td>FR</td>\n",
       "      <td>€</td>\n",
       "      <td>15-04-2025</td>\n",
       "    </tr>\n",
       "    <tr>\n",
       "      <th>186</th>\n",
       "      <td>4</td>\n",
       "      <td>0.0</td>\n",
       "      <td>47.9</td>\n",
       "      <td>105</td>\n",
       "      <td>1397.0</td>\n",
       "      <td>BE</td>\n",
       "      <td>€</td>\n",
       "      <td>18-04-2025</td>\n",
       "    </tr>\n",
       "    <tr>\n",
       "      <th>203</th>\n",
       "      <td>4</td>\n",
       "      <td>0.0</td>\n",
       "      <td>47.9</td>\n",
       "      <td>310</td>\n",
       "      <td>1397.0</td>\n",
       "      <td>FR</td>\n",
       "      <td>€</td>\n",
       "      <td>18-04-2025</td>\n",
       "    </tr>\n",
       "    <tr>\n",
       "      <th>222</th>\n",
       "      <td>4</td>\n",
       "      <td>0.0</td>\n",
       "      <td>41.6</td>\n",
       "      <td>60</td>\n",
       "      <td>1250.0</td>\n",
       "      <td>BE</td>\n",
       "      <td>€</td>\n",
       "      <td>22-04-2025</td>\n",
       "    </tr>\n",
       "    <tr>\n",
       "      <th>239</th>\n",
       "      <td>4</td>\n",
       "      <td>0.0</td>\n",
       "      <td>41.6</td>\n",
       "      <td>241</td>\n",
       "      <td>1250.0</td>\n",
       "      <td>FR</td>\n",
       "      <td>€</td>\n",
       "      <td>22-04-2025</td>\n",
       "    </tr>\n",
       "    <tr>\n",
       "      <th>258</th>\n",
       "      <td>4</td>\n",
       "      <td>0.0</td>\n",
       "      <td>33.5</td>\n",
       "      <td>234</td>\n",
       "      <td>2202.0</td>\n",
       "      <td>BE</td>\n",
       "      <td>€</td>\n",
       "      <td>25-04-2025</td>\n",
       "    </tr>\n",
       "    <tr>\n",
       "      <th>275</th>\n",
       "      <td>4</td>\n",
       "      <td>0.0</td>\n",
       "      <td>33.5</td>\n",
       "      <td>446</td>\n",
       "      <td>2202.0</td>\n",
       "      <td>FR</td>\n",
       "      <td>€</td>\n",
       "      <td>25-04-2025</td>\n",
       "    </tr>\n",
       "    <tr>\n",
       "      <th>294</th>\n",
       "      <td>4</td>\n",
       "      <td>0.0</td>\n",
       "      <td>38.6</td>\n",
       "      <td>107</td>\n",
       "      <td>1502.0</td>\n",
       "      <td>BE</td>\n",
       "      <td>€</td>\n",
       "      <td>29-04-2025</td>\n",
       "    </tr>\n",
       "    <tr>\n",
       "      <th>311</th>\n",
       "      <td>4</td>\n",
       "      <td>0.0</td>\n",
       "      <td>38.6</td>\n",
       "      <td>264</td>\n",
       "      <td>1502.0</td>\n",
       "      <td>FR</td>\n",
       "      <td>€</td>\n",
       "      <td>29-04-2025</td>\n",
       "    </tr>\n",
       "  </tbody>\n",
       "</table>\n",
       "</div>"
      ],
      "text/plain": [
       "     balls  stars   ppw  country_winners  total_winners country currency  \\\n",
       "6        4    0.0  53.2               75          998.0      BE        €   \n",
       "23       4    0.0  53.2              226          998.0      FR        €   \n",
       "42       4    0.0  49.2              137         1386.0      BE        €   \n",
       "59       4    0.0  49.2              259         1386.0      FR        €   \n",
       "78       4    0.0  56.5               52          858.0      BE        €   \n",
       "95       4    0.0  56.5              175          858.0      FR        €   \n",
       "114      4    0.0  49.2              101         1336.0      BE        €   \n",
       "131      4    0.0  49.2              292         1336.0      FR        €   \n",
       "150      4    0.0  49.5               58         1042.0      BE        €   \n",
       "167      4    0.0  49.5              197         1042.0      FR        €   \n",
       "186      4    0.0  47.9              105         1397.0      BE        €   \n",
       "203      4    0.0  47.9              310         1397.0      FR        €   \n",
       "222      4    0.0  41.6               60         1250.0      BE        €   \n",
       "239      4    0.0  41.6              241         1250.0      FR        €   \n",
       "258      4    0.0  33.5              234         2202.0      BE        €   \n",
       "275      4    0.0  33.5              446         2202.0      FR        €   \n",
       "294      4    0.0  38.6              107         1502.0      BE        €   \n",
       "311      4    0.0  38.6              264         1502.0      FR        €   \n",
       "\n",
       "           date  \n",
       "6    01-04-2025  \n",
       "23   01-04-2025  \n",
       "42   04-04-2025  \n",
       "59   04-04-2025  \n",
       "78   08-04-2025  \n",
       "95   08-04-2025  \n",
       "114  11-04-2025  \n",
       "131  11-04-2025  \n",
       "150  15-04-2025  \n",
       "167  15-04-2025  \n",
       "186  18-04-2025  \n",
       "203  18-04-2025  \n",
       "222  22-04-2025  \n",
       "239  22-04-2025  \n",
       "258  25-04-2025  \n",
       "275  25-04-2025  \n",
       "294  29-04-2025  \n",
       "311  29-04-2025  "
      ]
     },
     "execution_count": 11,
     "metadata": {},
     "output_type": "execute_result"
    }
   ],
   "source": [
    "# Create the subset here\n",
    "subset_df = combined_df[(combined_df['balls']==4) & (combined_df['stars']==0)]\n",
    "subset_df"
   ]
  },
  {
   "cell_type": "code",
   "execution_count": 13,
   "metadata": {},
   "outputs": [
    {
     "data": {
      "application/vnd.plotly.v1+json": {
       "config": {
        "plotlyServerURL": "https://plot.ly"
       },
       "data": [
        {
         "hovertemplate": "date=%{x}<br>total_winners=%{y}<extra></extra>",
         "legendgroup": "",
         "line": {
          "color": "#636efa",
          "dash": "solid"
         },
         "marker": {
          "symbol": "circle"
         },
         "mode": "lines",
         "name": "",
         "orientation": "v",
         "showlegend": false,
         "type": "scatter",
         "x": [
          "01-04-2025",
          "01-04-2025",
          "04-04-2025",
          "04-04-2025",
          "08-04-2025",
          "08-04-2025",
          "11-04-2025",
          "11-04-2025",
          "15-04-2025",
          "15-04-2025",
          "18-04-2025",
          "18-04-2025",
          "22-04-2025",
          "22-04-2025",
          "25-04-2025",
          "25-04-2025",
          "29-04-2025",
          "29-04-2025"
         ],
         "xaxis": "x",
         "y": {
          "bdata": "AAAAAAAwj0AAAAAAADCPQAAAAAAAqJVAAAAAAAColUAAAAAAANCKQAAAAAAA0IpAAAAAAADglEAAAAAAAOCUQAAAAAAASJBAAAAAAABIkEAAAAAAANSVQAAAAAAA1JVAAAAAAACIk0AAAAAAAIiTQAAAAAAANKFAAAAAAAA0oUAAAAAAAHiXQAAAAAAAeJdA",
          "dtype": "f8"
         },
         "yaxis": "y"
        }
       ],
       "layout": {
        "legend": {
         "tracegroupgap": 0
        },
        "template": {
         "data": {
          "bar": [
           {
            "error_x": {
             "color": "#2a3f5f"
            },
            "error_y": {
             "color": "#2a3f5f"
            },
            "marker": {
             "line": {
              "color": "#E5ECF6",
              "width": 0.5
             },
             "pattern": {
              "fillmode": "overlay",
              "size": 10,
              "solidity": 0.2
             }
            },
            "type": "bar"
           }
          ],
          "barpolar": [
           {
            "marker": {
             "line": {
              "color": "#E5ECF6",
              "width": 0.5
             },
             "pattern": {
              "fillmode": "overlay",
              "size": 10,
              "solidity": 0.2
             }
            },
            "type": "barpolar"
           }
          ],
          "carpet": [
           {
            "aaxis": {
             "endlinecolor": "#2a3f5f",
             "gridcolor": "white",
             "linecolor": "white",
             "minorgridcolor": "white",
             "startlinecolor": "#2a3f5f"
            },
            "baxis": {
             "endlinecolor": "#2a3f5f",
             "gridcolor": "white",
             "linecolor": "white",
             "minorgridcolor": "white",
             "startlinecolor": "#2a3f5f"
            },
            "type": "carpet"
           }
          ],
          "choropleth": [
           {
            "colorbar": {
             "outlinewidth": 0,
             "ticks": ""
            },
            "type": "choropleth"
           }
          ],
          "contour": [
           {
            "colorbar": {
             "outlinewidth": 0,
             "ticks": ""
            },
            "colorscale": [
             [
              0,
              "#0d0887"
             ],
             [
              0.1111111111111111,
              "#46039f"
             ],
             [
              0.2222222222222222,
              "#7201a8"
             ],
             [
              0.3333333333333333,
              "#9c179e"
             ],
             [
              0.4444444444444444,
              "#bd3786"
             ],
             [
              0.5555555555555556,
              "#d8576b"
             ],
             [
              0.6666666666666666,
              "#ed7953"
             ],
             [
              0.7777777777777778,
              "#fb9f3a"
             ],
             [
              0.8888888888888888,
              "#fdca26"
             ],
             [
              1,
              "#f0f921"
             ]
            ],
            "type": "contour"
           }
          ],
          "contourcarpet": [
           {
            "colorbar": {
             "outlinewidth": 0,
             "ticks": ""
            },
            "type": "contourcarpet"
           }
          ],
          "heatmap": [
           {
            "colorbar": {
             "outlinewidth": 0,
             "ticks": ""
            },
            "colorscale": [
             [
              0,
              "#0d0887"
             ],
             [
              0.1111111111111111,
              "#46039f"
             ],
             [
              0.2222222222222222,
              "#7201a8"
             ],
             [
              0.3333333333333333,
              "#9c179e"
             ],
             [
              0.4444444444444444,
              "#bd3786"
             ],
             [
              0.5555555555555556,
              "#d8576b"
             ],
             [
              0.6666666666666666,
              "#ed7953"
             ],
             [
              0.7777777777777778,
              "#fb9f3a"
             ],
             [
              0.8888888888888888,
              "#fdca26"
             ],
             [
              1,
              "#f0f921"
             ]
            ],
            "type": "heatmap"
           }
          ],
          "histogram": [
           {
            "marker": {
             "pattern": {
              "fillmode": "overlay",
              "size": 10,
              "solidity": 0.2
             }
            },
            "type": "histogram"
           }
          ],
          "histogram2d": [
           {
            "colorbar": {
             "outlinewidth": 0,
             "ticks": ""
            },
            "colorscale": [
             [
              0,
              "#0d0887"
             ],
             [
              0.1111111111111111,
              "#46039f"
             ],
             [
              0.2222222222222222,
              "#7201a8"
             ],
             [
              0.3333333333333333,
              "#9c179e"
             ],
             [
              0.4444444444444444,
              "#bd3786"
             ],
             [
              0.5555555555555556,
              "#d8576b"
             ],
             [
              0.6666666666666666,
              "#ed7953"
             ],
             [
              0.7777777777777778,
              "#fb9f3a"
             ],
             [
              0.8888888888888888,
              "#fdca26"
             ],
             [
              1,
              "#f0f921"
             ]
            ],
            "type": "histogram2d"
           }
          ],
          "histogram2dcontour": [
           {
            "colorbar": {
             "outlinewidth": 0,
             "ticks": ""
            },
            "colorscale": [
             [
              0,
              "#0d0887"
             ],
             [
              0.1111111111111111,
              "#46039f"
             ],
             [
              0.2222222222222222,
              "#7201a8"
             ],
             [
              0.3333333333333333,
              "#9c179e"
             ],
             [
              0.4444444444444444,
              "#bd3786"
             ],
             [
              0.5555555555555556,
              "#d8576b"
             ],
             [
              0.6666666666666666,
              "#ed7953"
             ],
             [
              0.7777777777777778,
              "#fb9f3a"
             ],
             [
              0.8888888888888888,
              "#fdca26"
             ],
             [
              1,
              "#f0f921"
             ]
            ],
            "type": "histogram2dcontour"
           }
          ],
          "mesh3d": [
           {
            "colorbar": {
             "outlinewidth": 0,
             "ticks": ""
            },
            "type": "mesh3d"
           }
          ],
          "parcoords": [
           {
            "line": {
             "colorbar": {
              "outlinewidth": 0,
              "ticks": ""
             }
            },
            "type": "parcoords"
           }
          ],
          "pie": [
           {
            "automargin": true,
            "type": "pie"
           }
          ],
          "scatter": [
           {
            "fillpattern": {
             "fillmode": "overlay",
             "size": 10,
             "solidity": 0.2
            },
            "type": "scatter"
           }
          ],
          "scatter3d": [
           {
            "line": {
             "colorbar": {
              "outlinewidth": 0,
              "ticks": ""
             }
            },
            "marker": {
             "colorbar": {
              "outlinewidth": 0,
              "ticks": ""
             }
            },
            "type": "scatter3d"
           }
          ],
          "scattercarpet": [
           {
            "marker": {
             "colorbar": {
              "outlinewidth": 0,
              "ticks": ""
             }
            },
            "type": "scattercarpet"
           }
          ],
          "scattergeo": [
           {
            "marker": {
             "colorbar": {
              "outlinewidth": 0,
              "ticks": ""
             }
            },
            "type": "scattergeo"
           }
          ],
          "scattergl": [
           {
            "marker": {
             "colorbar": {
              "outlinewidth": 0,
              "ticks": ""
             }
            },
            "type": "scattergl"
           }
          ],
          "scattermap": [
           {
            "marker": {
             "colorbar": {
              "outlinewidth": 0,
              "ticks": ""
             }
            },
            "type": "scattermap"
           }
          ],
          "scattermapbox": [
           {
            "marker": {
             "colorbar": {
              "outlinewidth": 0,
              "ticks": ""
             }
            },
            "type": "scattermapbox"
           }
          ],
          "scatterpolar": [
           {
            "marker": {
             "colorbar": {
              "outlinewidth": 0,
              "ticks": ""
             }
            },
            "type": "scatterpolar"
           }
          ],
          "scatterpolargl": [
           {
            "marker": {
             "colorbar": {
              "outlinewidth": 0,
              "ticks": ""
             }
            },
            "type": "scatterpolargl"
           }
          ],
          "scatterternary": [
           {
            "marker": {
             "colorbar": {
              "outlinewidth": 0,
              "ticks": ""
             }
            },
            "type": "scatterternary"
           }
          ],
          "surface": [
           {
            "colorbar": {
             "outlinewidth": 0,
             "ticks": ""
            },
            "colorscale": [
             [
              0,
              "#0d0887"
             ],
             [
              0.1111111111111111,
              "#46039f"
             ],
             [
              0.2222222222222222,
              "#7201a8"
             ],
             [
              0.3333333333333333,
              "#9c179e"
             ],
             [
              0.4444444444444444,
              "#bd3786"
             ],
             [
              0.5555555555555556,
              "#d8576b"
             ],
             [
              0.6666666666666666,
              "#ed7953"
             ],
             [
              0.7777777777777778,
              "#fb9f3a"
             ],
             [
              0.8888888888888888,
              "#fdca26"
             ],
             [
              1,
              "#f0f921"
             ]
            ],
            "type": "surface"
           }
          ],
          "table": [
           {
            "cells": {
             "fill": {
              "color": "#EBF0F8"
             },
             "line": {
              "color": "white"
             }
            },
            "header": {
             "fill": {
              "color": "#C8D4E3"
             },
             "line": {
              "color": "white"
             }
            },
            "type": "table"
           }
          ]
         },
         "layout": {
          "annotationdefaults": {
           "arrowcolor": "#2a3f5f",
           "arrowhead": 0,
           "arrowwidth": 1
          },
          "autotypenumbers": "strict",
          "coloraxis": {
           "colorbar": {
            "outlinewidth": 0,
            "ticks": ""
           }
          },
          "colorscale": {
           "diverging": [
            [
             0,
             "#8e0152"
            ],
            [
             0.1,
             "#c51b7d"
            ],
            [
             0.2,
             "#de77ae"
            ],
            [
             0.3,
             "#f1b6da"
            ],
            [
             0.4,
             "#fde0ef"
            ],
            [
             0.5,
             "#f7f7f7"
            ],
            [
             0.6,
             "#e6f5d0"
            ],
            [
             0.7,
             "#b8e186"
            ],
            [
             0.8,
             "#7fbc41"
            ],
            [
             0.9,
             "#4d9221"
            ],
            [
             1,
             "#276419"
            ]
           ],
           "sequential": [
            [
             0,
             "#0d0887"
            ],
            [
             0.1111111111111111,
             "#46039f"
            ],
            [
             0.2222222222222222,
             "#7201a8"
            ],
            [
             0.3333333333333333,
             "#9c179e"
            ],
            [
             0.4444444444444444,
             "#bd3786"
            ],
            [
             0.5555555555555556,
             "#d8576b"
            ],
            [
             0.6666666666666666,
             "#ed7953"
            ],
            [
             0.7777777777777778,
             "#fb9f3a"
            ],
            [
             0.8888888888888888,
             "#fdca26"
            ],
            [
             1,
             "#f0f921"
            ]
           ],
           "sequentialminus": [
            [
             0,
             "#0d0887"
            ],
            [
             0.1111111111111111,
             "#46039f"
            ],
            [
             0.2222222222222222,
             "#7201a8"
            ],
            [
             0.3333333333333333,
             "#9c179e"
            ],
            [
             0.4444444444444444,
             "#bd3786"
            ],
            [
             0.5555555555555556,
             "#d8576b"
            ],
            [
             0.6666666666666666,
             "#ed7953"
            ],
            [
             0.7777777777777778,
             "#fb9f3a"
            ],
            [
             0.8888888888888888,
             "#fdca26"
            ],
            [
             1,
             "#f0f921"
            ]
           ]
          },
          "colorway": [
           "#636efa",
           "#EF553B",
           "#00cc96",
           "#ab63fa",
           "#FFA15A",
           "#19d3f3",
           "#FF6692",
           "#B6E880",
           "#FF97FF",
           "#FECB52"
          ],
          "font": {
           "color": "#2a3f5f"
          },
          "geo": {
           "bgcolor": "white",
           "lakecolor": "white",
           "landcolor": "#E5ECF6",
           "showlakes": true,
           "showland": true,
           "subunitcolor": "white"
          },
          "hoverlabel": {
           "align": "left"
          },
          "hovermode": "closest",
          "mapbox": {
           "style": "light"
          },
          "paper_bgcolor": "white",
          "plot_bgcolor": "#E5ECF6",
          "polar": {
           "angularaxis": {
            "gridcolor": "white",
            "linecolor": "white",
            "ticks": ""
           },
           "bgcolor": "#E5ECF6",
           "radialaxis": {
            "gridcolor": "white",
            "linecolor": "white",
            "ticks": ""
           }
          },
          "scene": {
           "xaxis": {
            "backgroundcolor": "#E5ECF6",
            "gridcolor": "white",
            "gridwidth": 2,
            "linecolor": "white",
            "showbackground": true,
            "ticks": "",
            "zerolinecolor": "white"
           },
           "yaxis": {
            "backgroundcolor": "#E5ECF6",
            "gridcolor": "white",
            "gridwidth": 2,
            "linecolor": "white",
            "showbackground": true,
            "ticks": "",
            "zerolinecolor": "white"
           },
           "zaxis": {
            "backgroundcolor": "#E5ECF6",
            "gridcolor": "white",
            "gridwidth": 2,
            "linecolor": "white",
            "showbackground": true,
            "ticks": "",
            "zerolinecolor": "white"
           }
          },
          "shapedefaults": {
           "line": {
            "color": "#2a3f5f"
           }
          },
          "ternary": {
           "aaxis": {
            "gridcolor": "white",
            "linecolor": "white",
            "ticks": ""
           },
           "baxis": {
            "gridcolor": "white",
            "linecolor": "white",
            "ticks": ""
           },
           "bgcolor": "#E5ECF6",
           "caxis": {
            "gridcolor": "white",
            "linecolor": "white",
            "ticks": ""
           }
          },
          "title": {
           "x": 0.05
          },
          "xaxis": {
           "automargin": true,
           "gridcolor": "white",
           "linecolor": "white",
           "ticks": "",
           "title": {
            "standoff": 15
           },
           "zerolinecolor": "white",
           "zerolinewidth": 2
          },
          "yaxis": {
           "automargin": true,
           "gridcolor": "white",
           "linecolor": "white",
           "ticks": "",
           "title": {
            "standoff": 15
           },
           "zerolinecolor": "white",
           "zerolinewidth": 2
          }
         }
        },
        "title": {
         "text": "4 Balls, 0 Stars Winners in Belgium and France in April"
        },
        "xaxis": {
         "anchor": "y",
         "domain": [
          0,
          1
         ],
         "title": {
          "text": "date"
         }
        },
        "yaxis": {
         "anchor": "x",
         "domain": [
          0,
          1
         ],
         "title": {
          "text": "total_winners"
         }
        }
       }
      }
     },
     "metadata": {},
     "output_type": "display_data"
    }
   ],
   "source": [
    "# Create the line plot here (you may use matplotlib or plotly)\n",
    "import plotly.express as px\n",
    "\n",
    "fig = px.line(subset_df, x=\"date\", y=\"total_winners\", title=\"4 Balls, 0 Stars Winners in Belgium and France in April\")\n",
    "fig"
   ]
  },
  {
   "cell_type": "markdown",
   "metadata": {},
   "source": [
    "This plot tells us that the 4 balls, 0 stars winners vary greatly over the month of April, with a spike near the end of the month."
   ]
  }
 ],
 "metadata": {
  "kernelspec": {
   "display_name": ".venv",
   "language": "python",
   "name": "python3"
  },
  "language_info": {
   "codemirror_mode": {
    "name": "ipython",
    "version": 3
   },
   "file_extension": ".py",
   "mimetype": "text/x-python",
   "name": "python",
   "nbconvert_exporter": "python",
   "pygments_lexer": "ipython3",
   "version": "3.13.3"
  }
 },
 "nbformat": 4,
 "nbformat_minor": 4
}
