{
 "cells": [
  {
   "cell_type": "markdown",
   "metadata": {},
   "source": [
    "# DS 3000/CS 3200 Lab 1\n",
    "\n",
    "Due: Tuesday May 13 in-class\n",
    "\n",
    "### Submission Instructions\n",
    "Upload this `ipynb` file to GitHub, and then to Gradescope.  To ensure that your submitted `ipynb` file represents your latest code, make sure to give a fresh `Kernel > Restart & Run All` just before uploading the `ipynb` file to GitHub and verify that the correct version is represented on Gradescope.\n",
    "\n",
    "### Tips for success\n",
    "- Collaborate: bounce ideas off of each other, if you are having trouble you can ask your classmates or Dr. Gerber for help with specific issues, however...\n",
    "- [(See)](http://www.northeastern.edu/osccr/academic-integrity), i.e. you are welcome to **talk about/discuss** (*not* show or allow each other to copy your answers to) the problems."
   ]
  },
  {
   "cell_type": "markdown",
   "metadata": {},
   "source": [
    "# Part 1 (40 points): Intro to Markdown\n",
    "\n",
    "Use the markdown language below to create your own brief wikipedia-esque description of a topic related to International Government and Politics. \n",
    "\n",
    "Your mini-wiki page must include:\n",
    "- three headers: a title, subtitle and subsubtitle (the #, ##, ### syntax)\n",
    "- an embedded image from a web address (use an [image hosting site](https://makeawebsitehub.com/free-photo-hosting/) if you'd like to upload your own)\n",
    "- a **markdown** table of size at least 9 cells (i.e. 3 by 3, or 5 by 2)\n",
    "- a list in **markdown**\n",
    "- a link to another website\n",
    "\n",
    "To practice typing in math mode, also include a LaTeX formula describing how your final grade is going to be calculated based on the syllabus, something like:\n",
    "\n",
    "$$updatedgradeindatabasescourse = 0.60*homeworksandlabs + 0.40*inclassactivities$$\n",
    "\n",
    "Please be **brief** in your text.  Aim for roughly 3 sentences total of text."
   ]
  },
  {
   "cell_type": "markdown",
   "metadata": {},
   "source": [
    "------"
   ]
  },
  {
   "cell_type": "markdown",
   "metadata": {},
   "source": [
    "# Political Polarization\n",
    "\n",
    "*The heightening of tensions and hatred between political parties.*\n",
    "\n",
    "![Extremism Graph](https://www.facinghistory.org/sites/default/files/styles/scale_480/public/2024-08/Pew_research_graphs.jpg?itok=hbIG7Pcl)\n",
    "\n",
    "## History\n",
    "### Social Media\n",
    "It started with social media.\n",
    "### Donald Trump Era\n",
    "As media companies seek profit, they release big headlines about the rather large personality in office.\n",
    "\n",
    "| Irrelevant | Markdown | Table |\n",
    "|----------|----------|----------|\n",
    "| Joseph   | R.       | Biden   |\n",
    "|    test  | Donald   | J. Trump   |\n",
    "\n",
    "Polarization is increased by:\n",
    "- Social Media\n",
    "- Global Events\n",
    "- Politicians\n",
    "- Political Strategy\n",
    "- Lack of Human Dignity\n",
    "\n",
    "Learn more about this concept at [the actual Wikipedia page](https://en.wikipedia.org/wiki/Political_polarization).\n",
    "\n",
    "My Grade for CS3200:\n",
    "$$grade = 0.60*homeworksandlabs + 0.40*inclassactivities$$\n",
    "\n"
   ]
  },
  {
   "cell_type": "markdown",
   "metadata": {},
   "source": [
    "------"
   ]
  },
  {
   "cell_type": "markdown",
   "metadata": {},
   "source": [
    "# Part 2: Numpy\n",
    "## Part 2.1: Creating Arrays (10 points)\n",
    "\n",
    "Create the following two arrays using the NumPy library and then print them out. Call the first array `array_a` and the second array `array_b` (make sure you keep the `import` statement below):\n",
    "\n",
    "$$\\mathbf{array_a} = \\begin{bmatrix}3 & 8 & -2 & 3\\\\\n",
    ".5 & -1 & 6 & 4\\\\\n",
    "-5 & 7 & -42 & 2\n",
    "\\end{bmatrix}$$\n",
    "\n",
    "$$\\mathbf{array_b} = \\begin{bmatrix}42 & 38 & 34\\\\\n",
    "30 & 26 & 22\\\\\n",
    "18 & 14 & 10\\\\\n",
    "6 & 2 & -2\\\\\n",
    "-6 & -10 & -14\n",
    "\\end{bmatrix}$$"
   ]
  },
  {
   "cell_type": "code",
   "execution_count": 1,
   "metadata": {},
   "outputs": [],
   "source": [
    "# make sure to import numpy library\n",
    "import numpy as np"
   ]
  },
  {
   "cell_type": "code",
   "execution_count": 2,
   "metadata": {},
   "outputs": [],
   "source": [
    "array_a = np.array([[3,8,-2,3],\n",
    "                    [.5,-1,6,4],\n",
    "                    [-5,7,-42,2]])\n",
    "\n",
    "array_b = np.array([[42,38,34],\n",
    "                   [30,26,22],\n",
    "                   [18,14,10],\n",
    "                   [6,2,-2],\n",
    "                   [-6,-10,-14]])\n"
   ]
  },
  {
   "cell_type": "code",
   "execution_count": 3,
   "metadata": {},
   "outputs": [
    {
     "data": {
      "text/plain": [
       "array([[  3. ,   8. ,  -2. ,   3. ],\n",
       "       [  0.5,  -1. ,   6. ,   4. ],\n",
       "       [ -5. ,   7. , -42. ,   2. ]])"
      ]
     },
     "execution_count": 3,
     "metadata": {},
     "output_type": "execute_result"
    }
   ],
   "source": [
    "# uncomment below to print array_a\n",
    "array_a"
   ]
  },
  {
   "cell_type": "code",
   "execution_count": 4,
   "metadata": {},
   "outputs": [
    {
     "data": {
      "text/plain": [
       "array([[ 42,  38,  34],\n",
       "       [ 30,  26,  22],\n",
       "       [ 18,  14,  10],\n",
       "       [  6,   2,  -2],\n",
       "       [ -6, -10, -14]])"
      ]
     },
     "execution_count": 4,
     "metadata": {},
     "output_type": "execute_result"
    }
   ],
   "source": [
    "# uncomment below to print array_b\n",
    "array_b"
   ]
  },
  {
   "cell_type": "markdown",
   "metadata": {},
   "source": [
    "## Part 2.2: Exploring Arrays (15 points)\n",
    "\n",
    "1. Give the shape, size, ndim, and nbytes for each of the two arrays.\n",
    "1. Take the transpose of both arrays. Call these `t_array_a` and `t_array_b`.\n",
    "1. Try to add `array_a` and `t_array_b` (*prove* and *show* you did this with commented out code), then remove the last column of `t_array_b` and try to add them again. In a markdown cell, explain what happened."
   ]
  },
  {
   "cell_type": "code",
   "execution_count": 5,
   "metadata": {},
   "outputs": [
    {
     "data": {
      "text/plain": [
       "(3, 4)"
      ]
     },
     "execution_count": 5,
     "metadata": {},
     "output_type": "execute_result"
    }
   ],
   "source": [
    "array_a.shape"
   ]
  },
  {
   "cell_type": "code",
   "execution_count": 6,
   "metadata": {},
   "outputs": [
    {
     "data": {
      "text/plain": [
       "(5, 3)"
      ]
     },
     "execution_count": 6,
     "metadata": {},
     "output_type": "execute_result"
    }
   ],
   "source": [
    "array_b.shape"
   ]
  },
  {
   "cell_type": "code",
   "execution_count": 7,
   "metadata": {},
   "outputs": [
    {
     "data": {
      "text/plain": [
       "12"
      ]
     },
     "execution_count": 7,
     "metadata": {},
     "output_type": "execute_result"
    }
   ],
   "source": [
    "array_a.size"
   ]
  },
  {
   "cell_type": "code",
   "execution_count": 8,
   "metadata": {},
   "outputs": [
    {
     "data": {
      "text/plain": [
       "15"
      ]
     },
     "execution_count": 8,
     "metadata": {},
     "output_type": "execute_result"
    }
   ],
   "source": [
    "array_b.size"
   ]
  },
  {
   "cell_type": "code",
   "execution_count": 9,
   "metadata": {},
   "outputs": [
    {
     "data": {
      "text/plain": [
       "2"
      ]
     },
     "execution_count": 9,
     "metadata": {},
     "output_type": "execute_result"
    }
   ],
   "source": [
    "array_a.ndim"
   ]
  },
  {
   "cell_type": "code",
   "execution_count": 10,
   "metadata": {},
   "outputs": [
    {
     "data": {
      "text/plain": [
       "2"
      ]
     },
     "execution_count": 10,
     "metadata": {},
     "output_type": "execute_result"
    }
   ],
   "source": [
    "array_b.ndim"
   ]
  },
  {
   "cell_type": "code",
   "execution_count": 11,
   "metadata": {},
   "outputs": [
    {
     "data": {
      "text/plain": [
       "96"
      ]
     },
     "execution_count": 11,
     "metadata": {},
     "output_type": "execute_result"
    }
   ],
   "source": [
    "array_a.nbytes"
   ]
  },
  {
   "cell_type": "code",
   "execution_count": 12,
   "metadata": {},
   "outputs": [
    {
     "data": {
      "text/plain": [
       "120"
      ]
     },
     "execution_count": 12,
     "metadata": {},
     "output_type": "execute_result"
    }
   ],
   "source": [
    "array_b.nbytes"
   ]
  },
  {
   "cell_type": "code",
   "execution_count": 13,
   "metadata": {},
   "outputs": [],
   "source": [
    "t_array_a = np.transpose(array_a)\n",
    "t_array_b = np.transpose(array_b)\n",
    "\n",
    "# Other kids are doing array_a.T as well, which is cleaner I suppose..."
   ]
  },
  {
   "cell_type": "code",
   "execution_count": 14,
   "metadata": {},
   "outputs": [
    {
     "data": {
      "text/plain": [
       "array([[  3. ,   0.5,  -5. ],\n",
       "       [  8. ,  -1. ,   7. ],\n",
       "       [ -2. ,   6. , -42. ],\n",
       "       [  3. ,   4. ,   2. ]])"
      ]
     },
     "execution_count": 14,
     "metadata": {},
     "output_type": "execute_result"
    }
   ],
   "source": [
    "t_array_a"
   ]
  },
  {
   "cell_type": "code",
   "execution_count": 15,
   "metadata": {},
   "outputs": [
    {
     "data": {
      "text/plain": [
       "array([[ 42,  30,  18,   6,  -6],\n",
       "       [ 38,  26,  14,   2, -10],\n",
       "       [ 34,  22,  10,  -2, -14]])"
      ]
     },
     "execution_count": 15,
     "metadata": {},
     "output_type": "execute_result"
    }
   ],
   "source": [
    "t_array_b"
   ]
  },
  {
   "cell_type": "code",
   "execution_count": 16,
   "metadata": {},
   "outputs": [
    {
     "data": {
      "text/plain": [
       "array([[42, 30, 18,  6],\n",
       "       [38, 26, 14,  2],\n",
       "       [34, 22, 10, -2]])"
      ]
     },
     "execution_count": 16,
     "metadata": {},
     "output_type": "execute_result"
    }
   ],
   "source": [
    "# array_a + t_array_b\n",
    "# ValueError: operands could not be broadcast together with shapes (3,4) (3,5)\n",
    "\n",
    "t_array_b_trimmed = t_array_b[:,:-1]\n",
    "t_array_b_trimmed"
   ]
  },
  {
   "cell_type": "code",
   "execution_count": 17,
   "metadata": {},
   "outputs": [
    {
     "data": {
      "text/plain": [
       "array([[ 45. ,  38. ,  16. ,   9. ],\n",
       "       [ 38.5,  25. ,  20. ,   6. ],\n",
       "       [ 29. ,  29. , -32. ,   0. ]])"
      ]
     },
     "execution_count": 17,
     "metadata": {},
     "output_type": "execute_result"
    }
   ],
   "source": [
    "added = array_a + t_array_b_trimmed\n",
    "added"
   ]
  },
  {
   "cell_type": "markdown",
   "metadata": {},
   "source": [
    "### Explanation\n",
    "The shapes did not align before, so we had to remove a column to make it work."
   ]
  },
  {
   "cell_type": "markdown",
   "metadata": {},
   "source": [
    "# Part 3: Pandas\n",
    "## Part 3.1: Reading in Data (5 points)\n",
    "\n",
    "On Canvas is the `train_stations_europe.csv` file. It was adapted from [this Kaggle data set](https://www.kaggle.com/datasets/headsortails/train-stations-in-europe). Read this data set in, using the `id` as the index column, and print the first few rows of the data. Make sure you keep the `import` statement below!"
   ]
  },
  {
   "cell_type": "code",
   "execution_count": 18,
   "metadata": {},
   "outputs": [
    {
     "data": {
      "text/html": [
       "<div>\n",
       "<style scoped>\n",
       "    .dataframe tbody tr th:only-of-type {\n",
       "        vertical-align: middle;\n",
       "    }\n",
       "\n",
       "    .dataframe tbody tr th {\n",
       "        vertical-align: top;\n",
       "    }\n",
       "\n",
       "    .dataframe thead th {\n",
       "        text-align: right;\n",
       "    }\n",
       "</style>\n",
       "<table border=\"1\" class=\"dataframe\">\n",
       "  <thead>\n",
       "    <tr style=\"text-align: right;\">\n",
       "      <th></th>\n",
       "      <th>name</th>\n",
       "      <th>latitude</th>\n",
       "      <th>longitude</th>\n",
       "      <th>parent_station_id</th>\n",
       "      <th>country</th>\n",
       "      <th>time_zone</th>\n",
       "      <th>is_city</th>\n",
       "      <th>is_main_station</th>\n",
       "      <th>is_airport</th>\n",
       "    </tr>\n",
       "    <tr>\n",
       "      <th>id</th>\n",
       "      <th></th>\n",
       "      <th></th>\n",
       "      <th></th>\n",
       "      <th></th>\n",
       "      <th></th>\n",
       "      <th></th>\n",
       "      <th></th>\n",
       "      <th></th>\n",
       "      <th></th>\n",
       "    </tr>\n",
       "  </thead>\n",
       "  <tbody>\n",
       "    <tr>\n",
       "      <th>1</th>\n",
       "      <td>Chateau-Arnoux-St-Auban</td>\n",
       "      <td>44.081790</td>\n",
       "      <td>6.001625</td>\n",
       "      <td>NaN</td>\n",
       "      <td>FR</td>\n",
       "      <td>Europe/Paris</td>\n",
       "      <td>True</td>\n",
       "      <td>False</td>\n",
       "      <td>False</td>\n",
       "    </tr>\n",
       "    <tr>\n",
       "      <th>2</th>\n",
       "      <td>Chateau-Arnoux-St-Auban</td>\n",
       "      <td>44.061565</td>\n",
       "      <td>5.997373</td>\n",
       "      <td>1.0</td>\n",
       "      <td>FR</td>\n",
       "      <td>Europe/Paris</td>\n",
       "      <td>False</td>\n",
       "      <td>True</td>\n",
       "      <td>False</td>\n",
       "    </tr>\n",
       "    <tr>\n",
       "      <th>3</th>\n",
       "      <td>Chateau-Arnoux Mairie</td>\n",
       "      <td>44.063863</td>\n",
       "      <td>6.011248</td>\n",
       "      <td>1.0</td>\n",
       "      <td>FR</td>\n",
       "      <td>Europe/Paris</td>\n",
       "      <td>False</td>\n",
       "      <td>False</td>\n",
       "      <td>False</td>\n",
       "    </tr>\n",
       "    <tr>\n",
       "      <th>4</th>\n",
       "      <td>Digne-les-Bains</td>\n",
       "      <td>44.350000</td>\n",
       "      <td>6.350000</td>\n",
       "      <td>NaN</td>\n",
       "      <td>FR</td>\n",
       "      <td>Europe/Paris</td>\n",
       "      <td>True</td>\n",
       "      <td>False</td>\n",
       "      <td>False</td>\n",
       "    </tr>\n",
       "    <tr>\n",
       "      <th>6</th>\n",
       "      <td>Digne-les-Bains</td>\n",
       "      <td>44.088710</td>\n",
       "      <td>6.222982</td>\n",
       "      <td>4.0</td>\n",
       "      <td>FR</td>\n",
       "      <td>Europe/Paris</td>\n",
       "      <td>False</td>\n",
       "      <td>True</td>\n",
       "      <td>False</td>\n",
       "    </tr>\n",
       "  </tbody>\n",
       "</table>\n",
       "</div>"
      ],
      "text/plain": [
       "                       name   latitude  longitude  parent_station_id country  \\\n",
       "id                                                                             \n",
       "1   Chateau-Arnoux-St-Auban  44.081790   6.001625                NaN      FR   \n",
       "2   Chateau-Arnoux-St-Auban  44.061565   5.997373                1.0      FR   \n",
       "3     Chateau-Arnoux Mairie  44.063863   6.011248                1.0      FR   \n",
       "4           Digne-les-Bains  44.350000   6.350000                NaN      FR   \n",
       "6           Digne-les-Bains  44.088710   6.222982                4.0      FR   \n",
       "\n",
       "       time_zone  is_city  is_main_station  is_airport  \n",
       "id                                                      \n",
       "1   Europe/Paris     True            False       False  \n",
       "2   Europe/Paris    False             True       False  \n",
       "3   Europe/Paris    False            False       False  \n",
       "4   Europe/Paris     True            False       False  \n",
       "6   Europe/Paris    False             True       False  "
      ]
     },
     "execution_count": 18,
     "metadata": {},
     "output_type": "execute_result"
    }
   ],
   "source": [
    "# make sure to import pandas library\n",
    "import pandas as pd\n",
    "\n",
    "df = pd.read_csv(\"train_stations_europe.csv\", index_col=\"id\")\n",
    "df.head()"
   ]
  },
  {
   "cell_type": "markdown",
   "metadata": {},
   "source": [
    "## Part 3.2: Manipulating Data (20 points)\n",
    "\n",
    "1. Create a subset of the data set which (a) **includes** only train stations in Belgium and (b) **excludes** all train stations which are **not** in a city. Make sure to save this subset as a new data frame and print the first few rows of the data.\n",
    "1. Use the `.describe()` function to produce summary statistics for the subset from the previous part. Create a markdown cell and explain:\n",
    "    - What Series did the `.describe()` function run on? What Series did it not run on? What is the difference, and what does this mean the `.describe()` function is used for?"
   ]
  },
  {
   "cell_type": "code",
   "execution_count": 19,
   "metadata": {},
   "outputs": [
    {
     "data": {
      "text/html": [
       "<div>\n",
       "<style scoped>\n",
       "    .dataframe tbody tr th:only-of-type {\n",
       "        vertical-align: middle;\n",
       "    }\n",
       "\n",
       "    .dataframe tbody tr th {\n",
       "        vertical-align: top;\n",
       "    }\n",
       "\n",
       "    .dataframe thead th {\n",
       "        text-align: right;\n",
       "    }\n",
       "</style>\n",
       "<table border=\"1\" class=\"dataframe\">\n",
       "  <thead>\n",
       "    <tr style=\"text-align: right;\">\n",
       "      <th></th>\n",
       "      <th>name</th>\n",
       "      <th>latitude</th>\n",
       "      <th>longitude</th>\n",
       "      <th>parent_station_id</th>\n",
       "      <th>country</th>\n",
       "      <th>time_zone</th>\n",
       "      <th>is_city</th>\n",
       "      <th>is_main_station</th>\n",
       "      <th>is_airport</th>\n",
       "    </tr>\n",
       "    <tr>\n",
       "      <th>id</th>\n",
       "      <th></th>\n",
       "      <th></th>\n",
       "      <th></th>\n",
       "      <th></th>\n",
       "      <th></th>\n",
       "      <th></th>\n",
       "      <th></th>\n",
       "      <th></th>\n",
       "      <th></th>\n",
       "    </tr>\n",
       "  </thead>\n",
       "  <tbody>\n",
       "    <tr>\n",
       "      <th>1121</th>\n",
       "      <td>Tournai Frontiere</td>\n",
       "      <td>NaN</td>\n",
       "      <td>NaN</td>\n",
       "      <td>NaN</td>\n",
       "      <td>BE</td>\n",
       "      <td>Europe/Brussels</td>\n",
       "      <td>False</td>\n",
       "      <td>False</td>\n",
       "      <td>False</td>\n",
       "    </tr>\n",
       "    <tr>\n",
       "      <th>1122</th>\n",
       "      <td>Froyennes</td>\n",
       "      <td>NaN</td>\n",
       "      <td>NaN</td>\n",
       "      <td>NaN</td>\n",
       "      <td>BE</td>\n",
       "      <td>Europe/Brussels</td>\n",
       "      <td>False</td>\n",
       "      <td>False</td>\n",
       "      <td>False</td>\n",
       "    </tr>\n",
       "    <tr>\n",
       "      <th>1313</th>\n",
       "      <td>Mouscron</td>\n",
       "      <td>NaN</td>\n",
       "      <td>NaN</td>\n",
       "      <td>NaN</td>\n",
       "      <td>BE</td>\n",
       "      <td>Europe/Brussels</td>\n",
       "      <td>False</td>\n",
       "      <td>False</td>\n",
       "      <td>False</td>\n",
       "    </tr>\n",
       "    <tr>\n",
       "      <th>1354</th>\n",
       "      <td>Quevy Frontiere</td>\n",
       "      <td>NaN</td>\n",
       "      <td>NaN</td>\n",
       "      <td>6003.0</td>\n",
       "      <td>BE</td>\n",
       "      <td>Europe/Brussels</td>\n",
       "      <td>False</td>\n",
       "      <td>False</td>\n",
       "      <td>False</td>\n",
       "    </tr>\n",
       "    <tr>\n",
       "      <th>5893</th>\n",
       "      <td>Bruxelles-Midi</td>\n",
       "      <td>50.835374</td>\n",
       "      <td>4.335695</td>\n",
       "      <td>5974.0</td>\n",
       "      <td>BE</td>\n",
       "      <td>Europe/Brussels</td>\n",
       "      <td>False</td>\n",
       "      <td>True</td>\n",
       "      <td>False</td>\n",
       "    </tr>\n",
       "  </tbody>\n",
       "</table>\n",
       "</div>"
      ],
      "text/plain": [
       "                   name   latitude  longitude  parent_station_id country  \\\n",
       "id                                                                         \n",
       "1121  Tournai Frontiere        NaN        NaN                NaN      BE   \n",
       "1122          Froyennes        NaN        NaN                NaN      BE   \n",
       "1313           Mouscron        NaN        NaN                NaN      BE   \n",
       "1354    Quevy Frontiere        NaN        NaN             6003.0      BE   \n",
       "5893     Bruxelles-Midi  50.835374   4.335695             5974.0      BE   \n",
       "\n",
       "            time_zone  is_city  is_main_station  is_airport  \n",
       "id                                                           \n",
       "1121  Europe/Brussels    False            False       False  \n",
       "1122  Europe/Brussels    False            False       False  \n",
       "1313  Europe/Brussels    False            False       False  \n",
       "1354  Europe/Brussels    False            False       False  \n",
       "5893  Europe/Brussels    False             True       False  "
      ]
     },
     "execution_count": 19,
     "metadata": {},
     "output_type": "execute_result"
    }
   ],
   "source": [
    "belgium_cities = df[(df[\"country\"] == \"BE\") & (df[\"name\"].notna())]\n",
    "belgium_cities.head()"
   ]
  },
  {
   "cell_type": "code",
   "execution_count": 20,
   "metadata": {},
   "outputs": [
    {
     "data": {
      "text/html": [
       "<div>\n",
       "<style scoped>\n",
       "    .dataframe tbody tr th:only-of-type {\n",
       "        vertical-align: middle;\n",
       "    }\n",
       "\n",
       "    .dataframe tbody tr th {\n",
       "        vertical-align: top;\n",
       "    }\n",
       "\n",
       "    .dataframe thead th {\n",
       "        text-align: right;\n",
       "    }\n",
       "</style>\n",
       "<table border=\"1\" class=\"dataframe\">\n",
       "  <thead>\n",
       "    <tr style=\"text-align: right;\">\n",
       "      <th></th>\n",
       "      <th>latitude</th>\n",
       "      <th>longitude</th>\n",
       "      <th>parent_station_id</th>\n",
       "    </tr>\n",
       "  </thead>\n",
       "  <tbody>\n",
       "    <tr>\n",
       "      <th>count</th>\n",
       "      <td>573.000000</td>\n",
       "      <td>573.000000</td>\n",
       "      <td>26.000000</td>\n",
       "    </tr>\n",
       "    <tr>\n",
       "      <th>mean</th>\n",
       "      <td>50.726684</td>\n",
       "      <td>4.484243</td>\n",
       "      <td>13945.846154</td>\n",
       "    </tr>\n",
       "    <tr>\n",
       "      <th>std</th>\n",
       "      <td>0.344564</td>\n",
       "      <td>0.709282</td>\n",
       "      <td>10417.120726</td>\n",
       "    </tr>\n",
       "    <tr>\n",
       "      <th>min</th>\n",
       "      <td>49.555984</td>\n",
       "      <td>2.601729</td>\n",
       "      <td>5964.000000</td>\n",
       "    </tr>\n",
       "    <tr>\n",
       "      <th>25%</th>\n",
       "      <td>50.497416</td>\n",
       "      <td>4.023832</td>\n",
       "      <td>5964.000000</td>\n",
       "    </tr>\n",
       "    <tr>\n",
       "      <th>50%</th>\n",
       "      <td>50.766157</td>\n",
       "      <td>4.411501</td>\n",
       "      <td>5974.000000</td>\n",
       "    </tr>\n",
       "    <tr>\n",
       "      <th>75%</th>\n",
       "      <td>50.979756</td>\n",
       "      <td>4.949406</td>\n",
       "      <td>25908.250000</td>\n",
       "    </tr>\n",
       "    <tr>\n",
       "      <th>max</th>\n",
       "      <td>51.462641</td>\n",
       "      <td>6.120155</td>\n",
       "      <td>29332.000000</td>\n",
       "    </tr>\n",
       "  </tbody>\n",
       "</table>\n",
       "</div>"
      ],
      "text/plain": [
       "         latitude   longitude  parent_station_id\n",
       "count  573.000000  573.000000          26.000000\n",
       "mean    50.726684    4.484243       13945.846154\n",
       "std      0.344564    0.709282       10417.120726\n",
       "min     49.555984    2.601729        5964.000000\n",
       "25%     50.497416    4.023832        5964.000000\n",
       "50%     50.766157    4.411501        5974.000000\n",
       "75%     50.979756    4.949406       25908.250000\n",
       "max     51.462641    6.120155       29332.000000"
      ]
     },
     "execution_count": 20,
     "metadata": {},
     "output_type": "execute_result"
    }
   ],
   "source": [
    "belgium_cities.describe()\n"
   ]
  },
  {
   "cell_type": "markdown",
   "metadata": {},
   "source": [
    "The describe() function ran on the numeric Series in the DataFrame, such as latitude and longitude; It did not run on non-numeric Series like name, city, or country.\n",
    "\n",
    "This is because describe() just does statistics like mean, standard deviation, min, max, and quartiles—statistics that are only meaningful for numerical data. For categorical or text data, you would need to pass include='all' or use different methods like .value_counts() to summarize those columns."
   ]
  },
  {
   "cell_type": "markdown",
   "metadata": {},
   "source": [
    "# Part 4: GitHub (10 points)\n",
    "\n",
    "When you finish the first three parts, give one last restart and run all to this file. Then, go to the [DS 3000 GitHub](https://github.com/eaegerber/ds3000_summer25), fork it and then clone it to your local machine. Then:\n",
    "\n",
    "- In the forked and cloned ds3000_summer25 repo, make a new branch (`git checkout -b lab-upload`)\n",
    "- Create a folder with your name (as Dr. Gerber did)\n",
    "- Navigate to that folder and place this jupyter notebook inside\n",
    "- Add the file as the change to be committed (`git add .\\Lab1_MyName.ipynb`)\n",
    "- Check `git status`, your changes should be staged\n",
    "- Commit the changes with a short message (`git commit -m \"My message\"`)\n",
    "- Push the repository to GitHub (`git push origin lab-upload`)\n",
    "- Navigate the the GitHub in the browser and create a pull request\n",
    "- Once the pull request is merged, you can delete your branch in the \"Pull Requests\" tab in the browser\n",
    "- Finally, upload the Lab to Gradescope. When you do so, it will give you the option to do it via GitHub; do that."
   ]
  }
 ],
 "metadata": {
  "kernelspec": {
   "display_name": "base",
   "language": "python",
   "name": "python3"
  },
  "language_info": {
   "codemirror_mode": {
    "name": "ipython",
    "version": 3
   },
   "file_extension": ".py",
   "mimetype": "text/x-python",
   "name": "python",
   "nbconvert_exporter": "python",
   "pygments_lexer": "ipython3",
   "version": "3.12.4"
  }
 },
 "nbformat": 4,
 "nbformat_minor": 4
}
